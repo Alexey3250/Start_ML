{
 "cells": [
  {
   "cell_type": "code",
   "execution_count": 1,
   "metadata": {},
   "outputs": [],
   "source": [
    "import pandas as pd\n",
    "import numpy as np\n",
    "from sklearn.feature_extraction.text import TfidfVectorizer\n",
    "\n",
    "import warnings\n",
    "warnings.filterwarnings('ignore')"
   ]
  },
  {
   "cell_type": "code",
   "execution_count": 3,
   "metadata": {},
   "outputs": [],
   "source": [
    "### Забираем данные из таблиц\n",
    "\n",
    "user_data = pd.read_sql(\n",
    "    \"\"\"SELECT * FROM public.user_data\"\"\",\n",
    "    con=\"postgresql://robot-startml-ro:pheiph0hahj1Vaif@\"\n",
    "        \"postgres.lab.karpov.courses:6432/startml\"\n",
    ")\n",
    "\n",
    "post_text_df = pd.read_sql(\n",
    "    \"\"\"SELECT * FROM public.post_text_df\"\"\",\n",
    "    con=\"postgresql://robot-startml-ro:pheiph0hahj1Vaif@\"\n",
    "        \"postgres.lab.karpov.courses:6432/startml\"\n",
    ")"
   ]
  },
  {
   "cell_type": "code",
   "execution_count": 4,
   "metadata": {},
   "outputs": [],
   "source": [
    "### Ранее скачанная большая таблица\n",
    "\n",
    "feed_data = pd.read_csv('feed_data.csv')"
   ]
  },
  {
   "cell_type": "code",
   "execution_count": 14,
   "metadata": {},
   "outputs": [],
   "source": [
    "### Для дальнейшей обработки разобъем ее на 10 равных частей\n",
    "\n",
    "part = feed_data.shape[0] // 10\n",
    "\n",
    "feed_data_1 = feed_data[:part]\n",
    "feed_data_2 = feed_data[part:part*2]\n",
    "feed_data_3 = feed_data[part*2:part*3]\n",
    "feed_data_4 = feed_data[part*3:part*4]\n",
    "feed_data_5 = feed_data[part*4:part*5]\n",
    "feed_data_6 = feed_data[part*5:part*6]\n",
    "feed_data_7 = feed_data[part*6:part*7]\n",
    "feed_data_8 = feed_data[part*7:part*8]\n",
    "feed_data_9 = feed_data[part*8:part*9]\n",
    "feed_data_10 = feed_data[part*9:]"
   ]
  },
  {
   "cell_type": "code",
   "execution_count": 108,
   "metadata": {},
   "outputs": [],
   "source": [
    "### Пустая таблица, куда будет складываться урезанное количество записей по каждому юзеру\n",
    "\n",
    "feed_data_new = pd.DataFrame(columns=feed_data.columns)"
   ]
  },
  {
   "attachments": {},
   "cell_type": "markdown",
   "metadata": {},
   "source": [
    "Что мы делаем: из первой части таблицы забираем 5% данных о кажом найденном в ней юзере и сохраняем в `feed_data_new`. Пользователи, отсутствующие в данной таблице складываются в список `missed_users`. Далее в цикле проходимся по всем остальным частям таблицы и собираем информацию по пользователям в `missed_users`."
   ]
  },
  {
   "cell_type": "code",
   "execution_count": 89,
   "metadata": {},
   "outputs": [],
   "source": [
    "def user_search(feed_data, users):\n",
    "    \n",
    "    feed_data_reduced = pd.DataFrame(columns=feed_data.columns)\n",
    "    missed_users = []\n",
    "\n",
    "    for user in users:\n",
    "            \n",
    "            actions = feed_data[feed_data['user_id']==user]\n",
    "            actions_count = actions.shape[0]\n",
    "\n",
    "            if actions_count:\n",
    "                actions = actions[:int(np.ceil(actions_count*0.05))]\n",
    "                feed_data_reduced = feed_data_reduced.append(actions)\n",
    "            else:\n",
    "                missed_users.append(user)\n",
    "                 \n",
    "    return feed_data_reduced, missed_users"
   ]
  },
  {
   "cell_type": "code",
   "execution_count": 96,
   "metadata": {},
   "outputs": [],
   "source": [
    "feed_data_list = [feed_data_2, feed_data_3, feed_data_4,\n",
    "                  feed_data_5, feed_data_6, feed_data_7,\n",
    "                  feed_data_8, feed_data_9, feed_data_10]"
   ]
  },
  {
   "cell_type": "code",
   "execution_count": 109,
   "metadata": {},
   "outputs": [],
   "source": [
    "feed_data_reduced, missed_users = user_search(feed_data_1, user_data['user_id'].unique())\n",
    "feed_data_new = feed_data_new.append(feed_data_reduced)"
   ]
  },
  {
   "cell_type": "code",
   "execution_count": 110,
   "metadata": {},
   "outputs": [
    {
     "name": "stdout",
     "output_type": "stream",
     "text": [
      "Status i: 1\n",
      "Status i: 2\n",
      "Status i: 3\n",
      "Status i: 4\n",
      "Status i: 5\n",
      "Status i: 6\n",
      "Status i: 7\n",
      "Status i: 8\n",
      "Status i: 9\n"
     ]
    }
   ],
   "source": [
    "i = 0\n",
    "\n",
    "for feed_data in feed_data_list:\n",
    "    feed_data_reduced, missed_users = user_search(feed_data, missed_users)\n",
    "    feed_data_new = feed_data_new.append(feed_data_reduced)\n",
    "    i += 1\n",
    "    print(f'Status i: {i}')"
   ]
  },
  {
   "cell_type": "code",
   "execution_count": 111,
   "metadata": {},
   "outputs": [],
   "source": [
    "feed_data_new.to_csv('feed_data_new.csv', sep=',', index=False)"
   ]
  }
 ],
 "metadata": {
  "kernelspec": {
   "display_name": "Python 3",
   "language": "python",
   "name": "python3"
  },
  "language_info": {
   "codemirror_mode": {
    "name": "ipython",
    "version": 3
   },
   "file_extension": ".py",
   "mimetype": "text/x-python",
   "name": "python",
   "nbconvert_exporter": "python",
   "pygments_lexer": "ipython3",
   "version": "3.9.7"
  },
  "orig_nbformat": 4
 },
 "nbformat": 4,
 "nbformat_minor": 2
}
