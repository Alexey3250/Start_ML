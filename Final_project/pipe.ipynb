{
 "cells": [
  {
   "attachments": {},
   "cell_type": "markdown",
   "metadata": {},
   "source": [
    "# Импорт данных"
   ]
  },
  {
   "cell_type": "code",
   "execution_count": 1,
   "metadata": {},
   "outputs": [],
   "source": [
    "import pandas as pd\n",
    "from sqlalchemy import create_engine\n",
    "import matplotlib.pyplot as plt\n",
    "import plotly.express as px\n",
    "from sklearn.model_selection import train_test_split\n",
    "from sklearn.preprocessing import LabelEncoder\n",
    "from sklearn.ensemble import RandomForestClassifier\n",
    "from sklearn.metrics import classification_report\n",
    "import pickle\n",
    "from sklearn.feature_extraction.text import TfidfVectorizer\n",
    "from sklearn.feature_selection import mutual_info_classif, SelectKBest\n",
    "from catboost import Pool, CatBoostClassifier\n",
    "import numpy as np\n",
    "import re\n",
    "from string import punctuation\n",
    "from sklearn.metrics import roc_curve, auc"
   ]
  },
  {
   "attachments": {},
   "cell_type": "markdown",
   "metadata": {},
   "source": [
    "# Загрузка данных"
   ]
  },
  {
   "cell_type": "code",
   "execution_count": 2,
   "metadata": {},
   "outputs": [],
   "source": [
    "engine = create_engine(\n",
    "        \"postgresql://robot-startml-ro:pheiph0hahj1Vaif@\"\n",
    "        \"postgres.lab.karpov.courses:6432/startml\"\n",
    "    )\n",
    "\n",
    "# Чтение данных таблицы user_data\n",
    "query = \"SELECT * FROM user_data\"\n",
    "user_data = pd.read_sql(query, engine)\n",
    "\n",
    "# Чтение данных таблицы post_text_df\n",
    "query = \"SELECT * FROM post_text_df\"\n",
    "post_text_df = pd.read_sql(query, engine)\n",
    "\n",
    "# Чтение ограниченного количества данных таблицы feed_data\n",
    "query = \"SELECT * FROM feed_data LIMIT 100000\"\n",
    "feed_data = pd.read_sql(query, engine)\n",
    "\n",
    "# Переименование столбцов идентификаторов\n",
    "user_data = user_data.rename(columns={'id': 'user_id'})\n",
    "post_text_df = post_text_df.rename(columns={'id': 'post_id'})\n",
    "\n",
    "# Объединение таблиц\n",
    "data = feed_data.merge(user_data, on='user_id', how='left')\n",
    "data = data.merge(post_text_df, on='post_id', how='left')"
   ]
  },
  {
   "cell_type": "code",
   "execution_count": 3,
   "metadata": {},
   "outputs": [
    {
     "data": {
      "text/html": [
       "<div>\n",
       "<style scoped>\n",
       "    .dataframe tbody tr th:only-of-type {\n",
       "        vertical-align: middle;\n",
       "    }\n",
       "\n",
       "    .dataframe tbody tr th {\n",
       "        vertical-align: top;\n",
       "    }\n",
       "\n",
       "    .dataframe thead th {\n",
       "        text-align: right;\n",
       "    }\n",
       "</style>\n",
       "<table border=\"1\" class=\"dataframe\">\n",
       "  <thead>\n",
       "    <tr style=\"text-align: right;\">\n",
       "      <th></th>\n",
       "      <th>timestamp</th>\n",
       "      <th>user_id</th>\n",
       "      <th>post_id</th>\n",
       "      <th>action</th>\n",
       "      <th>target</th>\n",
       "      <th>gender</th>\n",
       "      <th>age</th>\n",
       "      <th>country</th>\n",
       "      <th>city</th>\n",
       "      <th>exp_group</th>\n",
       "      <th>os</th>\n",
       "      <th>source</th>\n",
       "      <th>text</th>\n",
       "      <th>topic</th>\n",
       "    </tr>\n",
       "  </thead>\n",
       "  <tbody>\n",
       "    <tr>\n",
       "      <th>0</th>\n",
       "      <td>2021-10-08 08:59:42</td>\n",
       "      <td>68524</td>\n",
       "      <td>4714</td>\n",
       "      <td>view</td>\n",
       "      <td>0</td>\n",
       "      <td>1</td>\n",
       "      <td>58</td>\n",
       "      <td>Ukraine</td>\n",
       "      <td>Chernivtsi</td>\n",
       "      <td>4</td>\n",
       "      <td>iOS</td>\n",
       "      <td>ads</td>\n",
       "      <td>Roman Polanski masterfully directs this sort o...</td>\n",
       "      <td>movie</td>\n",
       "    </tr>\n",
       "    <tr>\n",
       "      <th>1</th>\n",
       "      <td>2021-10-08 09:02:04</td>\n",
       "      <td>68524</td>\n",
       "      <td>435</td>\n",
       "      <td>view</td>\n",
       "      <td>0</td>\n",
       "      <td>1</td>\n",
       "      <td>58</td>\n",
       "      <td>Ukraine</td>\n",
       "      <td>Chernivtsi</td>\n",
       "      <td>4</td>\n",
       "      <td>iOS</td>\n",
       "      <td>ads</td>\n",
       "      <td>Ukraine revisits state sell-offs\\n\\nUkraine is...</td>\n",
       "      <td>business</td>\n",
       "    </tr>\n",
       "    <tr>\n",
       "      <th>2</th>\n",
       "      <td>2021-10-08 09:04:39</td>\n",
       "      <td>68524</td>\n",
       "      <td>3702</td>\n",
       "      <td>view</td>\n",
       "      <td>0</td>\n",
       "      <td>1</td>\n",
       "      <td>58</td>\n",
       "      <td>Ukraine</td>\n",
       "      <td>Chernivtsi</td>\n",
       "      <td>4</td>\n",
       "      <td>iOS</td>\n",
       "      <td>ads</td>\n",
       "      <td>#COVID19 \\nU TOUCH THE MASK....THEN YOU TOUCH ...</td>\n",
       "      <td>covid</td>\n",
       "    </tr>\n",
       "    <tr>\n",
       "      <th>3</th>\n",
       "      <td>2021-10-08 09:05:08</td>\n",
       "      <td>68524</td>\n",
       "      <td>3842</td>\n",
       "      <td>view</td>\n",
       "      <td>0</td>\n",
       "      <td>1</td>\n",
       "      <td>58</td>\n",
       "      <td>Ukraine</td>\n",
       "      <td>Chernivtsi</td>\n",
       "      <td>4</td>\n",
       "      <td>iOS</td>\n",
       "      <td>ads</td>\n",
       "      <td>Change in #Quarantine rules for #Assam #COVID1...</td>\n",
       "      <td>covid</td>\n",
       "    </tr>\n",
       "    <tr>\n",
       "      <th>4</th>\n",
       "      <td>2021-10-08 09:07:14</td>\n",
       "      <td>68524</td>\n",
       "      <td>2950</td>\n",
       "      <td>view</td>\n",
       "      <td>0</td>\n",
       "      <td>1</td>\n",
       "      <td>58</td>\n",
       "      <td>Ukraine</td>\n",
       "      <td>Chernivtsi</td>\n",
       "      <td>4</td>\n",
       "      <td>iOS</td>\n",
       "      <td>ads</td>\n",
       "      <td>It Happened While Waiting To Have A CoronaViru...</td>\n",
       "      <td>covid</td>\n",
       "    </tr>\n",
       "  </tbody>\n",
       "</table>\n",
       "</div>"
      ],
      "text/plain": [
       "            timestamp  user_id  post_id action  target  gender  age  country   \n",
       "0 2021-10-08 08:59:42    68524     4714   view       0       1   58  Ukraine  \\\n",
       "1 2021-10-08 09:02:04    68524      435   view       0       1   58  Ukraine   \n",
       "2 2021-10-08 09:04:39    68524     3702   view       0       1   58  Ukraine   \n",
       "3 2021-10-08 09:05:08    68524     3842   view       0       1   58  Ukraine   \n",
       "4 2021-10-08 09:07:14    68524     2950   view       0       1   58  Ukraine   \n",
       "\n",
       "         city  exp_group   os source   \n",
       "0  Chernivtsi          4  iOS    ads  \\\n",
       "1  Chernivtsi          4  iOS    ads   \n",
       "2  Chernivtsi          4  iOS    ads   \n",
       "3  Chernivtsi          4  iOS    ads   \n",
       "4  Chernivtsi          4  iOS    ads   \n",
       "\n",
       "                                                text     topic  \n",
       "0  Roman Polanski masterfully directs this sort o...     movie  \n",
       "1  Ukraine revisits state sell-offs\\n\\nUkraine is...  business  \n",
       "2  #COVID19 \\nU TOUCH THE MASK....THEN YOU TOUCH ...     covid  \n",
       "3  Change in #Quarantine rules for #Assam #COVID1...     covid  \n",
       "4  It Happened While Waiting To Have A CoronaViru...     covid  "
      ]
     },
     "execution_count": 3,
     "metadata": {},
     "output_type": "execute_result"
    }
   ],
   "source": [
    "data.head()"
   ]
  },
  {
   "attachments": {},
   "cell_type": "markdown",
   "metadata": {},
   "source": [
    "# Обработка временных меток"
   ]
  },
  {
   "cell_type": "code",
   "execution_count": 4,
   "metadata": {},
   "outputs": [],
   "source": [
    "# Преобразование формата временных меток в объект datetime\n",
    "data['timestamp'] = pd.to_datetime(data['timestamp'])\n",
    "\n",
    "# Извлечение признаков из временных меток\n",
    "data['day_of_week'] = data['timestamp'].dt.dayofweek\n",
    "data['hour_of_day'] = data['timestamp'].dt.hour\n",
    "\n",
    "# Расчет времени с момента последнего действия для каждого пользователя\n",
    "data = data.sort_values(['user_id', 'timestamp'])\n",
    "data['time_since_last_action'] = data.groupby('user_id')['timestamp'].diff().dt.total_seconds()\n",
    "data['time_since_last_action'].fillna(0, inplace=True)\n",
    "\n",
    "# Удаление столбца временных меток\n",
    "data = data.drop('timestamp', axis=1)"
   ]
  },
  {
   "attachments": {},
   "cell_type": "markdown",
   "metadata": {},
   "source": [
    "# Кодирование категориальных признаков"
   ]
  },
  {
   "cell_type": "code",
   "execution_count": 5,
   "metadata": {},
   "outputs": [],
   "source": [
    "# One-hot encoding для 'country', 'city' и 'topic'\n",
    "data = pd.get_dummies(data, columns=['country', 'city', 'topic'], prefix=['country', 'city', 'topic'])\n",
    "\n",
    "le_gender = LabelEncoder()\n",
    "le_os = LabelEncoder()\n",
    "le_source = LabelEncoder()\n",
    "le_action = LabelEncoder()\n",
    "\n",
    "# Label encoding для 'gender', 'os' и 'source'\n",
    "data['gender'] = le_gender.fit_transform(data['gender'])\n",
    "data['os'] = le_os.fit_transform(data['os'])\n",
    "data['source'] = le_source.fit_transform(data['source'])\n",
    "data['action'] = le_action.fit_transform(data['action'])"
   ]
  },
  {
   "attachments": {},
   "cell_type": "markdown",
   "metadata": {},
   "source": [
    "# Создание дополнительных признаков"
   ]
  },
  {
   "cell_type": "code",
   "execution_count": 6,
   "metadata": {},
   "outputs": [],
   "source": [
    "def word_count(X):\n",
    "    return np.array([len(re.findall(r'\\b\\w+\\b', text)) for text in X])\n",
    "def sentence_count(X):\n",
    "    return np.array([len(re.findall(r'[.!?]+', text)) for text in X])\n",
    "def avg_word_length(X):\n",
    "    return np.array([sum(len(word) for word in re.findall(r'\\b\\w+\\b', text)) / len(re.findall(r'\\b\\w+\\b', text)) if len(re.findall(r'\\b\\w+\\b', text)) > 0 else 0 for text in X])\n",
    "def punctuation_count(X):\n",
    "    return np.array([sum(1 for char in text if char in punctuation) for text in X])\n",
    "\n",
    "# Применение функций извлечения признаков к столбцу 'text'\n",
    "word_counts = word_count(data['text'])\n",
    "sentence_counts = sentence_count(data['text'])\n",
    "avg_word_lengths = avg_word_length(data['text'])\n",
    "punctuation_counts = punctuation_count(data['text'])\n",
    "\n",
    "# Добавление новых признаков в виде столбцов в DataFrame\n",
    "data['word_count'] = word_counts\n",
    "data['sentence_count'] = sentence_counts\n",
    "data['avg_word_length'] = avg_word_lengths\n",
    "data['punctuation_count'] = punctuation_counts\n"
   ]
  },
  {
   "attachments": {},
   "cell_type": "markdown",
   "metadata": {},
   "source": [
    "# Обработка TF-IDF"
   ]
  },
  {
   "cell_type": "code",
   "execution_count": 7,
   "metadata": {},
   "outputs": [],
   "source": [
    "# Инициализация TfidfVectorizer\n",
    "vectorizer = TfidfVectorizer(max_features=1000) # Вы можете настроить max_features в зависимости от ваших потребностей\n",
    "\n",
    "# Обучение vectorizer на столбце 'text' и преобразование текстовых данных\n",
    "tfidf_matrix = vectorizer.fit_transform(data['text'])\n",
    "\n",
    "# Преобразование матрицы TF-IDF в DataFrame\n",
    "tfidf_df = pd.DataFrame(tfidf_matrix.toarray(), columns=vectorizer.get_feature_names_out())\n",
    "\n",
    "# Конкатенация исходных данных с DataFrame TF-IDF\n",
    "data_with_tfidf = pd.concat([data.drop(columns=['text']), tfidf_df], axis=1)"
   ]
  },
  {
   "cell_type": "code",
   "execution_count": 8,
   "metadata": {},
   "outputs": [
    {
     "data": {
      "text/html": [
       "<div>\n",
       "<style scoped>\n",
       "    .dataframe tbody tr th:only-of-type {\n",
       "        vertical-align: middle;\n",
       "    }\n",
       "\n",
       "    .dataframe tbody tr th {\n",
       "        vertical-align: top;\n",
       "    }\n",
       "\n",
       "    .dataframe thead th {\n",
       "        text-align: right;\n",
       "    }\n",
       "</style>\n",
       "<table border=\"1\" class=\"dataframe\">\n",
       "  <thead>\n",
       "    <tr style=\"text-align: right;\">\n",
       "      <th></th>\n",
       "      <th>user_id</th>\n",
       "      <th>post_id</th>\n",
       "      <th>action</th>\n",
       "      <th>target</th>\n",
       "      <th>gender</th>\n",
       "      <th>age</th>\n",
       "      <th>exp_group</th>\n",
       "      <th>os</th>\n",
       "      <th>source</th>\n",
       "      <th>day_of_week</th>\n",
       "      <th>...</th>\n",
       "      <th>wrong</th>\n",
       "      <th>year</th>\n",
       "      <th>years</th>\n",
       "      <th>yes</th>\n",
       "      <th>yet</th>\n",
       "      <th>york</th>\n",
       "      <th>you</th>\n",
       "      <th>young</th>\n",
       "      <th>your</th>\n",
       "      <th>youre</th>\n",
       "    </tr>\n",
       "  </thead>\n",
       "  <tbody>\n",
       "    <tr>\n",
       "      <th>17202</th>\n",
       "      <td>10926</td>\n",
       "      <td>6946</td>\n",
       "      <td>1</td>\n",
       "      <td>0</td>\n",
       "      <td>0</td>\n",
       "      <td>17</td>\n",
       "      <td>4</td>\n",
       "      <td>0</td>\n",
       "      <td>0</td>\n",
       "      <td>1</td>\n",
       "      <td>...</td>\n",
       "      <td>0.0</td>\n",
       "      <td>0.000000</td>\n",
       "      <td>0.080003</td>\n",
       "      <td>0.0</td>\n",
       "      <td>0.000000</td>\n",
       "      <td>0.0</td>\n",
       "      <td>0.000000</td>\n",
       "      <td>0.0</td>\n",
       "      <td>0.000000</td>\n",
       "      <td>0.000000</td>\n",
       "    </tr>\n",
       "    <tr>\n",
       "      <th>17203</th>\n",
       "      <td>10926</td>\n",
       "      <td>3446</td>\n",
       "      <td>1</td>\n",
       "      <td>0</td>\n",
       "      <td>0</td>\n",
       "      <td>17</td>\n",
       "      <td>4</td>\n",
       "      <td>0</td>\n",
       "      <td>0</td>\n",
       "      <td>3</td>\n",
       "      <td>...</td>\n",
       "      <td>0.0</td>\n",
       "      <td>0.062166</td>\n",
       "      <td>0.000000</td>\n",
       "      <td>0.0</td>\n",
       "      <td>0.089045</td>\n",
       "      <td>0.0</td>\n",
       "      <td>0.158294</td>\n",
       "      <td>0.0</td>\n",
       "      <td>0.000000</td>\n",
       "      <td>0.000000</td>\n",
       "    </tr>\n",
       "    <tr>\n",
       "      <th>17204</th>\n",
       "      <td>10926</td>\n",
       "      <td>1176</td>\n",
       "      <td>1</td>\n",
       "      <td>0</td>\n",
       "      <td>0</td>\n",
       "      <td>17</td>\n",
       "      <td>4</td>\n",
       "      <td>0</td>\n",
       "      <td>0</td>\n",
       "      <td>3</td>\n",
       "      <td>...</td>\n",
       "      <td>0.0</td>\n",
       "      <td>0.000000</td>\n",
       "      <td>0.000000</td>\n",
       "      <td>0.0</td>\n",
       "      <td>0.000000</td>\n",
       "      <td>0.0</td>\n",
       "      <td>0.033381</td>\n",
       "      <td>0.0</td>\n",
       "      <td>0.050555</td>\n",
       "      <td>0.068599</td>\n",
       "    </tr>\n",
       "    <tr>\n",
       "      <th>17205</th>\n",
       "      <td>10926</td>\n",
       "      <td>2556</td>\n",
       "      <td>1</td>\n",
       "      <td>1</td>\n",
       "      <td>0</td>\n",
       "      <td>17</td>\n",
       "      <td>4</td>\n",
       "      <td>0</td>\n",
       "      <td>0</td>\n",
       "      <td>3</td>\n",
       "      <td>...</td>\n",
       "      <td>0.0</td>\n",
       "      <td>0.000000</td>\n",
       "      <td>0.000000</td>\n",
       "      <td>0.0</td>\n",
       "      <td>0.000000</td>\n",
       "      <td>0.0</td>\n",
       "      <td>0.206700</td>\n",
       "      <td>0.0</td>\n",
       "      <td>0.000000</td>\n",
       "      <td>0.000000</td>\n",
       "    </tr>\n",
       "    <tr>\n",
       "      <th>17206</th>\n",
       "      <td>10926</td>\n",
       "      <td>2556</td>\n",
       "      <td>0</td>\n",
       "      <td>0</td>\n",
       "      <td>0</td>\n",
       "      <td>17</td>\n",
       "      <td>4</td>\n",
       "      <td>0</td>\n",
       "      <td>0</td>\n",
       "      <td>3</td>\n",
       "      <td>...</td>\n",
       "      <td>0.0</td>\n",
       "      <td>0.000000</td>\n",
       "      <td>0.000000</td>\n",
       "      <td>0.0</td>\n",
       "      <td>0.000000</td>\n",
       "      <td>0.0</td>\n",
       "      <td>0.000000</td>\n",
       "      <td>0.0</td>\n",
       "      <td>0.000000</td>\n",
       "      <td>0.000000</td>\n",
       "    </tr>\n",
       "    <tr>\n",
       "      <th>...</th>\n",
       "      <td>...</td>\n",
       "      <td>...</td>\n",
       "      <td>...</td>\n",
       "      <td>...</td>\n",
       "      <td>...</td>\n",
       "      <td>...</td>\n",
       "      <td>...</td>\n",
       "      <td>...</td>\n",
       "      <td>...</td>\n",
       "      <td>...</td>\n",
       "      <td>...</td>\n",
       "      <td>...</td>\n",
       "      <td>...</td>\n",
       "      <td>...</td>\n",
       "      <td>...</td>\n",
       "      <td>...</td>\n",
       "      <td>...</td>\n",
       "      <td>...</td>\n",
       "      <td>...</td>\n",
       "      <td>...</td>\n",
       "      <td>...</td>\n",
       "    </tr>\n",
       "    <tr>\n",
       "      <th>93846</th>\n",
       "      <td>103319</td>\n",
       "      <td>4022</td>\n",
       "      <td>1</td>\n",
       "      <td>0</td>\n",
       "      <td>0</td>\n",
       "      <td>23</td>\n",
       "      <td>0</td>\n",
       "      <td>1</td>\n",
       "      <td>0</td>\n",
       "      <td>5</td>\n",
       "      <td>...</td>\n",
       "      <td>0.0</td>\n",
       "      <td>0.000000</td>\n",
       "      <td>0.000000</td>\n",
       "      <td>0.0</td>\n",
       "      <td>0.000000</td>\n",
       "      <td>0.0</td>\n",
       "      <td>0.000000</td>\n",
       "      <td>0.0</td>\n",
       "      <td>0.000000</td>\n",
       "      <td>0.000000</td>\n",
       "    </tr>\n",
       "    <tr>\n",
       "      <th>93847</th>\n",
       "      <td>103319</td>\n",
       "      <td>1543</td>\n",
       "      <td>1</td>\n",
       "      <td>0</td>\n",
       "      <td>0</td>\n",
       "      <td>23</td>\n",
       "      <td>0</td>\n",
       "      <td>1</td>\n",
       "      <td>0</td>\n",
       "      <td>5</td>\n",
       "      <td>...</td>\n",
       "      <td>0.0</td>\n",
       "      <td>0.000000</td>\n",
       "      <td>0.000000</td>\n",
       "      <td>0.0</td>\n",
       "      <td>0.000000</td>\n",
       "      <td>0.0</td>\n",
       "      <td>0.129653</td>\n",
       "      <td>0.0</td>\n",
       "      <td>0.000000</td>\n",
       "      <td>0.000000</td>\n",
       "    </tr>\n",
       "    <tr>\n",
       "      <th>93848</th>\n",
       "      <td>103319</td>\n",
       "      <td>798</td>\n",
       "      <td>1</td>\n",
       "      <td>1</td>\n",
       "      <td>0</td>\n",
       "      <td>23</td>\n",
       "      <td>0</td>\n",
       "      <td>1</td>\n",
       "      <td>0</td>\n",
       "      <td>5</td>\n",
       "      <td>...</td>\n",
       "      <td>0.0</td>\n",
       "      <td>0.061191</td>\n",
       "      <td>0.064500</td>\n",
       "      <td>0.0</td>\n",
       "      <td>0.087649</td>\n",
       "      <td>0.0</td>\n",
       "      <td>0.000000</td>\n",
       "      <td>0.0</td>\n",
       "      <td>0.000000</td>\n",
       "      <td>0.000000</td>\n",
       "    </tr>\n",
       "    <tr>\n",
       "      <th>93849</th>\n",
       "      <td>103319</td>\n",
       "      <td>798</td>\n",
       "      <td>0</td>\n",
       "      <td>0</td>\n",
       "      <td>0</td>\n",
       "      <td>23</td>\n",
       "      <td>0</td>\n",
       "      <td>1</td>\n",
       "      <td>0</td>\n",
       "      <td>5</td>\n",
       "      <td>...</td>\n",
       "      <td>0.0</td>\n",
       "      <td>0.000000</td>\n",
       "      <td>0.000000</td>\n",
       "      <td>0.0</td>\n",
       "      <td>0.000000</td>\n",
       "      <td>0.0</td>\n",
       "      <td>0.147773</td>\n",
       "      <td>0.0</td>\n",
       "      <td>0.111900</td>\n",
       "      <td>0.000000</td>\n",
       "    </tr>\n",
       "    <tr>\n",
       "      <th>93850</th>\n",
       "      <td>103319</td>\n",
       "      <td>1415</td>\n",
       "      <td>1</td>\n",
       "      <td>0</td>\n",
       "      <td>0</td>\n",
       "      <td>23</td>\n",
       "      <td>0</td>\n",
       "      <td>1</td>\n",
       "      <td>0</td>\n",
       "      <td>5</td>\n",
       "      <td>...</td>\n",
       "      <td>0.0</td>\n",
       "      <td>0.000000</td>\n",
       "      <td>0.000000</td>\n",
       "      <td>0.0</td>\n",
       "      <td>0.000000</td>\n",
       "      <td>0.0</td>\n",
       "      <td>0.000000</td>\n",
       "      <td>0.0</td>\n",
       "      <td>0.000000</td>\n",
       "      <td>0.000000</td>\n",
       "    </tr>\n",
       "  </tbody>\n",
       "</table>\n",
       "<p>100000 rows × 1158 columns</p>\n",
       "</div>"
      ],
      "text/plain": [
       "       user_id  post_id  action  target  gender  age  exp_group  os  source   \n",
       "17202    10926     6946       1       0       0   17          4   0       0  \\\n",
       "17203    10926     3446       1       0       0   17          4   0       0   \n",
       "17204    10926     1176       1       0       0   17          4   0       0   \n",
       "17205    10926     2556       1       1       0   17          4   0       0   \n",
       "17206    10926     2556       0       0       0   17          4   0       0   \n",
       "...        ...      ...     ...     ...     ...  ...        ...  ..     ...   \n",
       "93846   103319     4022       1       0       0   23          0   1       0   \n",
       "93847   103319     1543       1       0       0   23          0   1       0   \n",
       "93848   103319      798       1       1       0   23          0   1       0   \n",
       "93849   103319      798       0       0       0   23          0   1       0   \n",
       "93850   103319     1415       1       0       0   23          0   1       0   \n",
       "\n",
       "       day_of_week  ...  wrong      year     years  yes       yet  york   \n",
       "17202            1  ...    0.0  0.000000  0.080003  0.0  0.000000   0.0  \\\n",
       "17203            3  ...    0.0  0.062166  0.000000  0.0  0.089045   0.0   \n",
       "17204            3  ...    0.0  0.000000  0.000000  0.0  0.000000   0.0   \n",
       "17205            3  ...    0.0  0.000000  0.000000  0.0  0.000000   0.0   \n",
       "17206            3  ...    0.0  0.000000  0.000000  0.0  0.000000   0.0   \n",
       "...            ...  ...    ...       ...       ...  ...       ...   ...   \n",
       "93846            5  ...    0.0  0.000000  0.000000  0.0  0.000000   0.0   \n",
       "93847            5  ...    0.0  0.000000  0.000000  0.0  0.000000   0.0   \n",
       "93848            5  ...    0.0  0.061191  0.064500  0.0  0.087649   0.0   \n",
       "93849            5  ...    0.0  0.000000  0.000000  0.0  0.000000   0.0   \n",
       "93850            5  ...    0.0  0.000000  0.000000  0.0  0.000000   0.0   \n",
       "\n",
       "            you  young      your     youre  \n",
       "17202  0.000000    0.0  0.000000  0.000000  \n",
       "17203  0.158294    0.0  0.000000  0.000000  \n",
       "17204  0.033381    0.0  0.050555  0.068599  \n",
       "17205  0.206700    0.0  0.000000  0.000000  \n",
       "17206  0.000000    0.0  0.000000  0.000000  \n",
       "...         ...    ...       ...       ...  \n",
       "93846  0.000000    0.0  0.000000  0.000000  \n",
       "93847  0.129653    0.0  0.000000  0.000000  \n",
       "93848  0.000000    0.0  0.000000  0.000000  \n",
       "93849  0.147773    0.0  0.111900  0.000000  \n",
       "93850  0.000000    0.0  0.000000  0.000000  \n",
       "\n",
       "[100000 rows x 1158 columns]"
      ]
     },
     "execution_count": 8,
     "metadata": {},
     "output_type": "execute_result"
    }
   ],
   "source": [
    "data_with_tfidf"
   ]
  },
  {
   "attachments": {},
   "cell_type": "markdown",
   "metadata": {},
   "source": [
    "# Отбор признаков на основе взаимной информации"
   ]
  },
  {
   "cell_type": "code",
   "execution_count": 9,
   "metadata": {},
   "outputs": [
    {
     "name": "stdout",
     "output_type": "stream",
     "text": [
      "Top k features based on mutual information:\n",
      "Index(['user_id', 'gender', 'age', 'exp_group', 'os', 'day_of_week',\n",
      "       'hour_of_day', 'time_since_last_action', 'country_Belarus',\n",
      "       'country_Russia', 'city_Bryansk', 'city_Samara', 'city_Stavropol',\n",
      "       'city_Surgut', 'city_Tolyatti', 'topic_covid', 'topic_movie',\n",
      "       'topic_politics', '2002', 'british', 'brown', 'clear', 'club',\n",
      "       'control', 'day', 'de', 'different', 'does', 'expected', 'former',\n",
      "       'four', 'gave', 'hours', 'kennedy', 'lead', 'matter', 'might', 'offer',\n",
      "       'online', 'performances', 'position', 'prices', 'release', 'silk',\n",
      "       'stand', 'these', 'using', 'waste', 'watch', 'website'],\n",
      "      dtype='object')\n"
     ]
    }
   ],
   "source": [
    "X = data_with_tfidf.drop(['target', 'action'], axis=1)\n",
    "y = data_with_tfidf['target']\n",
    "\n",
    "# Вычисление взаимной информации между каждым признаком и целевой переменной\n",
    "mi_scores = mutual_info_classif(X, y, random_state=42)\n",
    "\n",
    "# Создание DataFrame с именами признаков и соответствующими им оценками MI\n",
    "mi_scores_df = pd.DataFrame({'feature': X.columns, 'mi_score': mi_scores})\n",
    "\n",
    "# Сортировка DataFrame по оценкам MI в порядке убывания\n",
    "mi_scores_df = mi_scores_df.sort_values('mi_score', ascending=False)\n",
    "\n",
    "# При необходимости выберите k лучших признаков с помощью SelectKBest\n",
    "selector = SelectKBest(mutual_info_classif, k=50)\n",
    "selector.fit(X, y)\n",
    "selected_features = X.columns[selector.get_support()]\n",
    "\n",
    "print(\"Top k features based on mutual information:\")\n",
    "print(selected_features)"
   ]
  },
  {
   "cell_type": "code",
   "execution_count": 10,
   "metadata": {},
   "outputs": [],
   "source": [
    "preselected_features_1 = ['user_id', 'gender', 'exp_group', 'os', 'day_of_week', 'hour_of_day',\n",
    "       'time_since_last_action', 'country_Russia', 'city_Kansk', 'city_Kazan',\n",
    "       'city_Mangghystaū', 'city_Michurinsk', 'city_Moscow', 'city_Pavlovo',\n",
    "       'city_Samara', 'topic_covid', 'topic_entertainment', 'topic_movie',\n",
    "       'user_views', 'user_likes', 'post_views',\n",
    "       'topic_business_exp_group_likes', 'topic_covid_exp_group_views',\n",
    "       'topic_entertainment_exp_group_likes', 'topic_movie_exp_group_views',\n",
    "       'topic_politics_exp_group_likes', 'topic_sport_exp_group_views',\n",
    "       'topic_tech_exp_group_likes', 'action_exp_group_views',\n",
    "       'sentence_count', 'punctuation_count', 'australian', 'based', 'city',\n",
    "       'ending', 'failed', 'given', 'idea', 'life', 'likely', 'opportunity',\n",
    "       'order', 'paid', 'party', 'past', 'political', 'robert', 'scene',\n",
    "       'seem', 'wanted']\n",
    "\n",
    "preselected_features_2 = ['user_id', 'gender', 'age', 'exp_group', 'os', 'source', 'hour_of_day',\n",
    "       'time_since_last_action', 'country_Russia', 'city_Blagoveshchensk',\n",
    "       'city_Cheboksary', 'city_Mariupol', 'city_Nakhodka', 'city_Rezh',\n",
    "       'topic_covid', 'topic_movie', '100', 'air', 'become', 'campaign',\n",
    "       'change', 'computer', 'costs', 'currently', 'day', 'de', 'death',\n",
    "       'england', 'fun', 'howard', 'ill', 'itself', 'johnson', 'lost', 'music',\n",
    "       'paul', 'pretty', 'process', 'really', 'remember', 'role', 'saying',\n",
    "       'short', 'showed', 'shown', 'stage', 'such', 'tax', 'until', 'won']"
   ]
  },
  {
   "cell_type": "code",
   "execution_count": 11,
   "metadata": {},
   "outputs": [
    {
     "data": {
      "image/png": "[encoded data removed]",
      "text/plain": [
       "<Figure size 1200x600 with 1 Axes>"
      ]
     },
     "metadata": {},
     "output_type": "display_data"
    }
   ],
   "source": [
    "# Установка количества признаков для отображения\n",
    "top_k = 30\n",
    "\n",
    "# Получение топ-k признаков\n",
    "top_k_features = mi_scores_df.head(top_k)\n",
    "\n",
    "# Визуализация топ-k признаков\n",
    "plt.figure(figsize=(12, 6))\n",
    "plt.barh(top_k_features['feature'], top_k_features['mi_score'], align='center')\n",
    "plt.xlabel('Mutual Information Score')\n",
    "plt.ylabel('Feature')\n",
    "plt.title('Top {} Features Based on Mutual Information'.format(top_k))\n",
    "plt.gca().invert_yaxis()\n",
    "plt.show() "
   ]
  },
  {
   "attachments": {},
   "cell_type": "markdown",
   "metadata": {},
   "source": [
    "# Обучение модели CatBoost"
   ]
  },
  {
   "attachments": {},
   "cell_type": "markdown",
   "metadata": {},
   "source": [
    "## Train-test split"
   ]
  },
  {
   "attachments": {},
   "cell_type": "markdown",
   "metadata": {},
   "source": [
    "Этот код формирует выборку данных с заданными признаками, выбирая топ-k признаков с использованием взаимной информации, без утечки данных, временной метки, 'action' и 'text'. Затем данные разбиваются на обучающую и тестовую выборки с заданным отношением размеров, и рандомным состоянием генератора псевдослучайных чисел."
   ]
  },
  {
   "cell_type": "code",
   "execution_count": 12,
   "metadata": {},
   "outputs": [],
   "source": [
    "# Выборка данных с выбранными функциями, топ-k функций с взаимной информацией, без утечки данных, временной метки, 'action' и 'text'\n",
    "X = data_with_tfidf[selected_features]\n",
    "\n",
    "# Выборка целевой переменной\n",
    "y = data_with_tfidf['target']\n",
    "\n",
    "# Убедиться, что каждый столбец уникален\n",
    "X = X.loc[:,~X.columns.duplicated()]\n",
    "\n",
    "# Разделение данных на обучающую и тестовую выборки\n",
    "X_train, X_test, y_train, y_test = train_test_split(X, y, test_size=0.2, random_state=42)\n"
   ]
  },
  {
   "attachments": {},
   "cell_type": "markdown",
   "metadata": {},
   "source": [
    "Мы работаем с данными, где каждый объект имеет некоторый идентификатор пользователя (user_id). Модель должна быть обучена на этих данных, учитывая группы объектов с одинаковыми идентификаторами пользователей. Прежде всего, мы создаем столбец group_id, который представляет собой уникальный идентификатор группы для каждого пользователя.\n",
    "\n",
    "Затем мы сортируем обучающие и тестовые наборы данных по group_id, что позволяет нам группировать объекты с одинаковыми идентификаторами пользователей вместе. Это делается для обучения и тестирования модели в соответствии с группами пользователей.\n",
    "\n",
    "Мы создаем объекты Pool для обучающей и тестовой выборок с информацией о группах пользователей. Объект Pool является специальной структурой данных, используемой библиотекой CatBoost для эффективной работы с данными. В этом случае мы передаем group_id для каждого объекта, чтобы CatBoost мог использовать эту информацию во время обучения и тестирования модели.\n",
    "\n",
    "Далее мы обучаем классификатор CatBoost с использованием метрики PrecisionAt:top=5. Эта метрика оценивает качество предсказания топ-5 классов. Модель обучается на train_pool и валидируется на test_pool. Важно отметить, что в этой задаче мы используем группированные данные, поэтому CatBoost будет учитывать идентификаторы групп при обучении и оценке.\n",
    "\n",
    "Данные, которые поступают в модель, представляют собой обучающие и тестовые наборы данных с удаленным столбцом user_id. Вместо этого, информация о группах пользователей передается через объекты Pool.\n",
    "\n",
    "После обучения модели мы получаем модель, которая оптимизирована для метрики PrecisionAt:top=5. Это означает, что модель будет хорошо работать в задаче предсказания 5 наиболее вероятных классов для каждого объекта, учитывая идентификаторы групп пользователей."
   ]
  },
  {
   "attachments": {},
   "cell_type": "markdown",
   "metadata": {},
   "source": [
    "## Обучение модели на Precision@5 "
   ]
  },
  {
   "attachments": {},
   "cell_type": "markdown",
   "metadata": {},
   "source": [
    "Мы создаем группы данных на основе идентификатора пользователя 'user_id', чтобы иметь возможность проводить обучение с учетом группировки данных. Затем мы сортируем данные по группам и создаем объекты Pool для обучения и тестирования с колонкой 'group_id', которые затем будут использоваться для обучения модели и оценки ее производительности."
   ]
  },
  {
   "cell_type": "code",
   "execution_count": 13,
   "metadata": {},
   "outputs": [],
   "source": [
    "# Создание ID группы на основе столбца 'user_id'\n",
    "unique_user_ids = X_train['user_id'].unique()\n",
    "group_id_dict = {user_id: idx for idx, user_id in enumerate(unique_user_ids)}\n",
    "X_train['group_id'] = X_train['user_id'].map(group_id_dict)\n",
    "X_test['group_id'] = X_test['user_id'].map(group_id_dict)\n",
    "\n",
    "# Сортировка наборов данных для обучения и тестирования по 'group_id'\n",
    "X_train = X_train.sort_values(by='group_id')\n",
    "y_train = y_train.loc[X_train.index]\n",
    "\n",
    "X_test = X_test.sort_values(by='group_id')\n",
    "y_test = y_test.loc[X_test.index]\n",
    "\n",
    "# Создание объектов Pool для обучающей и тестовой выборок с колонкой 'group_id'\n",
    "train_pool = Pool(X_train.drop(columns=['user_id']), y_train, group_id=X_train['group_id'])\n",
    "test_pool = Pool(X_test.drop(columns=['user_id']), y_test, group_id=X_test['group_id'])\n"
   ]
  },
  {
   "cell_type": "code",
   "execution_count": null,
   "metadata": {},
   "outputs": [],
   "source": []
  },
  {
   "cell_type": "code",
   "execution_count": 14,
   "metadata": {},
   "outputs": [
    {
     "name": "stdout",
     "output_type": "stream",
     "text": [
      "0:\tlearn: 0.0840183\ttest: 0.0757991\tbest: 0.0757991 (0)\ttotal: 157ms\tremaining: 2m 36s\n",
      "100:\tlearn: 0.3442922\ttest: 0.1753425\tbest: 0.1963470 (58)\ttotal: 964ms\tremaining: 8.58s\n",
      "200:\tlearn: 0.4639269\ttest: 0.1726027\tbest: 0.1963470 (58)\ttotal: 1.75s\tremaining: 6.97s\n",
      "300:\tlearn: 0.5735160\ttest: 0.1735160\tbest: 0.1963470 (58)\ttotal: 2.56s\tremaining: 5.93s\n",
      "400:\tlearn: 0.6255708\ttest: 0.1662100\tbest: 0.1963470 (58)\ttotal: 3.33s\tremaining: 4.98s\n",
      "500:\tlearn: 0.6803653\ttest: 0.1680365\tbest: 0.1963470 (58)\ttotal: 4.13s\tremaining: 4.11s\n",
      "600:\tlearn: 0.7269406\ttest: 0.1625571\tbest: 0.1963470 (58)\ttotal: 4.93s\tremaining: 3.27s\n",
      "700:\tlearn: 0.7662100\ttest: 0.1607306\tbest: 0.1963470 (58)\ttotal: 5.73s\tremaining: 2.44s\n",
      "800:\tlearn: 0.7926941\ttest: 0.1570776\tbest: 0.1963470 (58)\ttotal: 6.51s\tremaining: 1.62s\n",
      "900:\tlearn: 0.8328767\ttest: 0.1525114\tbest: 0.1963470 (58)\ttotal: 7.3s\tremaining: 803ms\n",
      "999:\tlearn: 0.8465753\ttest: 0.1461187\tbest: 0.1963470 (58)\ttotal: 8.09s\tremaining: 0us\n",
      "\n",
      "bestTest = 0.196347032\n",
      "bestIteration = 58\n",
      "\n",
      "Shrink model to first 59 iterations.\n"
     ]
    },
    {
     "data": {
      "text/plain": [
       "<catboost.core.CatBoostClassifier at 0x20e61bfd120>"
      ]
     },
     "execution_count": 14,
     "metadata": {},
     "output_type": "execute_result"
    }
   ],
   "source": [
    "# Обучение модели CatBoost с использованием метрики PrecisionAt:top=5\n",
    "from catboost import CatBoostClassifier\n",
    "\n",
    "precision_model = CatBoostClassifier(iterations=1000,\n",
    "                           learning_rate=0.1,\n",
    "                           depth=6,\n",
    "                           custom_metric='PrecisionAt:top=5',\n",
    "                           eval_metric='PrecisionAt:top=5',\n",
    "                           random_seed=42,\n",
    "                           verbose=100)\n",
    "\n",
    "precision_model.fit(train_pool, eval_set=test_pool)\n"
   ]
  },
  {
   "attachments": {},
   "cell_type": "markdown",
   "metadata": {},
   "source": [
    "# Сохранение и загрузка модели CatBoost"
   ]
  },
  {
   "cell_type": "code",
   "execution_count": 15,
   "metadata": {},
   "outputs": [],
   "source": [
    "precision_model.save_model('catboost_precision_model.cbm')"
   ]
  },
  {
   "cell_type": "code",
   "execution_count": 16,
   "metadata": {},
   "outputs": [
    {
     "ename": "CatBoostError",
     "evalue": "C:/Program Files (x86)/Go Agent/pipelines/BuildMaster/catboost.git/catboost/libs/data/model_dataset_compatibility.cpp:81: At position 4 should be feature with name source (found day_of_week).",
     "output_type": "error",
     "traceback": [
      "\u001b[1;31m---------------------------------------------------------------------------\u001b[0m",
      "\u001b[1;31mCatBoostError\u001b[0m                             Traceback (most recent call last)",
      "Cell \u001b[1;32mIn[16], line 4\u001b[0m\n\u001b[0;32m      2\u001b[0m from_file \u001b[39m=\u001b[39m CatBoostClassifier()\n\u001b[0;32m      3\u001b[0m from_file\u001b[39m.\u001b[39mload_model(\u001b[39m'\u001b[39m\u001b[39mcatboost_model.cbm\u001b[39m\u001b[39m'\u001b[39m)\n\u001b[1;32m----> 4\u001b[0m from_file\u001b[39m.\u001b[39;49mpredict(test_pool)\n",
      "File \u001b[1;32mc:\\Users\\Alex\\AppData\\Local\\Programs\\Python\\Python310\\lib\\site-packages\\catboost\\core.py:5184\u001b[0m, in \u001b[0;36mCatBoostClassifier.predict\u001b[1;34m(self, data, prediction_type, ntree_start, ntree_end, thread_count, verbose, task_type)\u001b[0m\n\u001b[0;32m   5133\u001b[0m \u001b[39mdef\u001b[39;00m \u001b[39mpredict\u001b[39m(\u001b[39mself\u001b[39m, data, prediction_type\u001b[39m=\u001b[39m\u001b[39m'\u001b[39m\u001b[39mClass\u001b[39m\u001b[39m'\u001b[39m, ntree_start\u001b[39m=\u001b[39m\u001b[39m0\u001b[39m, ntree_end\u001b[39m=\u001b[39m\u001b[39m0\u001b[39m, thread_count\u001b[39m=\u001b[39m\u001b[39m-\u001b[39m\u001b[39m1\u001b[39m, verbose\u001b[39m=\u001b[39m\u001b[39mNone\u001b[39;00m, task_type\u001b[39m=\u001b[39m\u001b[39m\"\u001b[39m\u001b[39mCPU\u001b[39m\u001b[39m\"\u001b[39m):\n\u001b[0;32m   5134\u001b[0m \u001b[39m    \u001b[39m\u001b[39m\"\"\"\u001b[39;00m\n\u001b[0;32m   5135\u001b[0m \u001b[39m    Predict with data.\u001b[39;00m\n\u001b[0;32m   5136\u001b[0m \n\u001b[1;32m   (...)\u001b[0m\n\u001b[0;32m   5182\u001b[0m \u001b[39m              with log probability for every class for each object.\u001b[39;00m\n\u001b[0;32m   5183\u001b[0m \u001b[39m    \"\"\"\u001b[39;00m\n\u001b[1;32m-> 5184\u001b[0m     \u001b[39mreturn\u001b[39;00m \u001b[39mself\u001b[39;49m\u001b[39m.\u001b[39;49m_predict(data, prediction_type, ntree_start, ntree_end, thread_count, verbose, \u001b[39m'\u001b[39;49m\u001b[39mpredict\u001b[39;49m\u001b[39m'\u001b[39;49m, task_type)\n",
      "File \u001b[1;32mc:\\Users\\Alex\\AppData\\Local\\Programs\\Python\\Python310\\lib\\site-packages\\catboost\\core.py:2544\u001b[0m, in \u001b[0;36mCatBoost._predict\u001b[1;34m(self, data, prediction_type, ntree_start, ntree_end, thread_count, verbose, parent_method_name, task_type)\u001b[0m\n\u001b[0;32m   2541\u001b[0m data, data_is_single_object \u001b[39m=\u001b[39m \u001b[39mself\u001b[39m\u001b[39m.\u001b[39m_process_predict_input_data(data, parent_method_name, thread_count)\n\u001b[0;32m   2542\u001b[0m \u001b[39mself\u001b[39m\u001b[39m.\u001b[39m_validate_prediction_type(prediction_type)\n\u001b[1;32m-> 2544\u001b[0m predictions \u001b[39m=\u001b[39m \u001b[39mself\u001b[39;49m\u001b[39m.\u001b[39;49m_base_predict(data, prediction_type, ntree_start, ntree_end, thread_count, verbose, task_type)\n\u001b[0;32m   2545\u001b[0m \u001b[39mreturn\u001b[39;00m predictions[\u001b[39m0\u001b[39m] \u001b[39mif\u001b[39;00m data_is_single_object \u001b[39melse\u001b[39;00m predictions\n",
      "File \u001b[1;32mc:\\Users\\Alex\\AppData\\Local\\Programs\\Python\\Python310\\lib\\site-packages\\catboost\\core.py:1811\u001b[0m, in \u001b[0;36m_CatBoostBase._base_predict\u001b[1;34m(self, pool, prediction_type, ntree_start, ntree_end, thread_count, verbose, task_type)\u001b[0m\n\u001b[0;32m   1810\u001b[0m \u001b[39mdef\u001b[39;00m \u001b[39m_base_predict\u001b[39m(\u001b[39mself\u001b[39m, pool, prediction_type, ntree_start, ntree_end, thread_count, verbose, task_type):\n\u001b[1;32m-> 1811\u001b[0m     \u001b[39mreturn\u001b[39;00m \u001b[39mself\u001b[39;49m\u001b[39m.\u001b[39;49m_object\u001b[39m.\u001b[39;49m_base_predict(pool, prediction_type, ntree_start, ntree_end, thread_count, verbose, task_type)\n",
      "File \u001b[1;32m_catboost.pyx:4759\u001b[0m, in \u001b[0;36m_catboost._CatBoost._base_predict\u001b[1;34m()\u001b[0m\n",
      "File \u001b[1;32m_catboost.pyx:4766\u001b[0m, in \u001b[0;36m_catboost._CatBoost._base_predict\u001b[1;34m()\u001b[0m\n",
      "\u001b[1;31mCatBoostError\u001b[0m: C:/Program Files (x86)/Go Agent/pipelines/BuildMaster/catboost.git/catboost/libs/data/model_dataset_compatibility.cpp:81: At position 4 should be feature with name source (found day_of_week)."
     ]
    }
   ],
   "source": [
    "# Загрузка сохраненной модели CatBoost из файла и выполнение прогноза на тестовой выборке\n",
    "from_file = CatBoostClassifier()\n",
    "from_file.load_model('catboost_model.cbm')\n",
    "from_file.predict(test_pool)\n"
   ]
  },
  {
   "attachments": {},
   "cell_type": "markdown",
   "metadata": {},
   "source": [
    "## Обучение модели на Recall@5 "
   ]
  },
  {
   "cell_type": "code",
   "execution_count": null,
   "metadata": {},
   "outputs": [
    {
     "name": "stdout",
     "output_type": "stream",
     "text": [
      "0:\tlearn: 0.0107600\ttest: 0.0517370\tbest: 0.0517370 (0)\ttotal: 9.24ms\tremaining: 9.23s\n",
      "100:\tlearn: 0.0517603\ttest: 0.1516333\tbest: 0.1562369 (52)\ttotal: 855ms\tremaining: 7.61s\n",
      "200:\tlearn: 0.0803337\ttest: 0.1568987\tbest: 0.1583480 (197)\ttotal: 1.69s\tremaining: 6.7s\n",
      "300:\tlearn: 0.0971811\ttest: 0.1520628\tbest: 0.1643947 (240)\ttotal: 2.55s\tremaining: 5.92s\n",
      "400:\tlearn: 0.1115718\ttest: 0.1505411\tbest: 0.1643947 (240)\ttotal: 3.38s\tremaining: 5.04s\n",
      "500:\tlearn: 0.1232233\ttest: 0.1525970\tbest: 0.1643947 (240)\ttotal: 4.2s\tremaining: 4.19s\n",
      "600:\tlearn: 0.1305419\ttest: 0.1553621\tbest: 0.1643947 (240)\ttotal: 5.01s\tremaining: 3.33s\n",
      "700:\tlearn: 0.1404418\ttest: 0.1490682\tbest: 0.1643947 (240)\ttotal: 5.83s\tremaining: 2.49s\n",
      "800:\tlearn: 0.1452069\ttest: 0.1500800\tbest: 0.1643947 (240)\ttotal: 6.64s\tremaining: 1.65s\n",
      "900:\tlearn: 0.1536196\ttest: 0.1424972\tbest: 0.1643947 (240)\ttotal: 7.45s\tremaining: 818ms\n",
      "999:\tlearn: 0.1607649\ttest: 0.1420198\tbest: 0.1643947 (240)\ttotal: 8.29s\tremaining: 0us\n",
      "\n",
      "bestTest = 0.1643946591\n",
      "bestIteration = 240\n",
      "\n",
      "Shrink model to first 241 iterations.\n"
     ]
    },
    {
     "data": {
      "text/plain": [
       "<catboost.core.CatBoostClassifier at 0x274e40bbeb0>"
      ]
     },
     "execution_count": 52,
     "metadata": {},
     "output_type": "execute_result"
    }
   ],
   "source": [
    "recall_model = CatBoostClassifier(iterations=1000,\n",
    "                           learning_rate=0.1,\n",
    "                           depth=6,\n",
    "                           custom_metric='RecallAt:top=5',\n",
    "                           eval_metric='RecallAt:top=5',\n",
    "                           random_seed=42,\n",
    "                           verbose=100)\n",
    "\n",
    "recall_model.fit(train_pool, eval_set=test_pool)\n"
   ]
  },
  {
   "attachments": {},
   "cell_type": "markdown",
   "metadata": {},
   "source": [
    "## Обучение модели на MAP@5 "
   ]
  },
  {
   "cell_type": "code",
   "execution_count": null,
   "metadata": {},
   "outputs": [
    {
     "name": "stdout",
     "output_type": "stream",
     "text": [
      "0:\ttest: 0.1300974\tbest: 0.1300974 (0)\ttotal: 8.26ms\tremaining: 8.25s\n",
      "100:\ttest: 0.4350205\tbest: 0.4506558 (61)\ttotal: 744ms\tremaining: 6.62s\n",
      "200:\ttest: 0.4253565\tbest: 0.4510609 (150)\ttotal: 1.45s\tremaining: 5.75s\n",
      "300:\ttest: 0.4427490\tbest: 0.4568099 (286)\ttotal: 2.16s\tremaining: 5.02s\n",
      "400:\ttest: 0.4142271\tbest: 0.4568099 (286)\ttotal: 2.87s\tremaining: 4.28s\n",
      "500:\ttest: 0.4016544\tbest: 0.4568099 (286)\ttotal: 3.56s\tremaining: 3.55s\n",
      "600:\ttest: 0.4026233\tbest: 0.4568099 (286)\ttotal: 4.27s\tremaining: 2.84s\n",
      "700:\ttest: 0.4051973\tbest: 0.4568099 (286)\ttotal: 4.99s\tremaining: 2.13s\n",
      "800:\ttest: 0.4158141\tbest: 0.4568099 (286)\ttotal: 5.72s\tremaining: 1.42s\n",
      "900:\ttest: 0.4071468\tbest: 0.4568099 (286)\ttotal: 6.42s\tremaining: 706ms\n",
      "999:\ttest: 0.4045434\tbest: 0.4568099 (286)\ttotal: 7.13s\tremaining: 0us\n",
      "\n",
      "bestTest = 0.4568098913\n",
      "bestIteration = 286\n",
      "\n",
      "Shrink model to first 287 iterations.\n"
     ]
    },
    {
     "data": {
      "text/plain": [
       "<catboost.core.CatBoostClassifier at 0x274e40bb580>"
      ]
     },
     "execution_count": 56,
     "metadata": {},
     "output_type": "execute_result"
    }
   ],
   "source": [
    "model = CatBoostClassifier(iterations=1000,\n",
    "                           learning_rate=0.1,\n",
    "                           depth=6,\n",
    "                           custom_metric='PFound:top=5',\n",
    "                           eval_metric='PFound:top=5',\n",
    "                           random_seed=42,\n",
    "                           verbose=100)\n",
    "\n",
    "model.fit(train_pool, eval_set=test_pool)\n"
   ]
  },
  {
   "attachments": {},
   "cell_type": "markdown",
   "metadata": {},
   "source": [
    "- bestTest = 0.4451217663 for MAP@5\n",
    "- bestTest = 0.1603712149 for Recall@5\n",
    "- bestTest = 0.1660869565 for Precision@5"
   ]
  },
  {
   "attachments": {},
   "cell_type": "markdown",
   "metadata": {},
   "source": [
    "# Сравнение моделей с помощью ROC AUC"
   ]
  },
  {
   "cell_type": "code",
   "execution_count": null,
   "metadata": {},
   "outputs": [
    {
     "name": "stdout",
     "output_type": "stream",
     "text": [
      "MAP@5 AUC: 0.6245267087884262\n",
      "Recall@5 AUC: 0.6277951215643344\n",
      "Precision@5 AUC: 0.6189000538927956\n"
     ]
    }
   ],
   "source": [
    "# Расчет метрики AUC для каждой модели на тестовой выборке\n",
    "from sklearn.metrics import roc_auc_score\n",
    "\n",
    "# Делаем прогнозы на тестовой выборке с помощью всех трех моделей\n",
    "map5_preds = model.predict_proba(test_pool)[:, 1]\n",
    "recall5_preds = recall_model.predict_proba(test_pool)[:, 1]\n",
    "precision5_preds = precision_model.predict_proba(test_pool)[:, 1]\n",
    "\n",
    "# Рассчитываем метрику AUC для каждой модели\n",
    "map5_auc = roc_auc_score(test_pool.get_label(), map5_preds)\n",
    "recall5_auc = roc_auc_score(test_pool.get_label(), recall5_preds)\n",
    "precision5_auc = roc_auc_score(test_pool.get_label(), precision5_preds)\n",
    "\n",
    "# Выводим метрику AUC для каждой модели\n",
    "print(\"MAP@5 AUC:\", map5_auc)\n",
    "print(\"Recall@5 AUC:\", recall5_auc)\n",
    "print(\"Precision@5 AUC:\", precision5_auc)\n"
   ]
  },
  {
   "attachments": {},
   "cell_type": "markdown",
   "metadata": {},
   "source": [
    "Сохраняем выбранную модель"
   ]
  },
  {
   "cell_type": "code",
   "execution_count": null,
   "metadata": {},
   "outputs": [],
   "source": [
    "model.save_model('catboost_MAP_model.cbm')"
   ]
  }
 ],
 "metadata": {
  "kernelspec": {
   "display_name": "Python 3",
   "language": "python",
   "name": "python3"
  },
  "language_info": {
   "codemirror_mode": {
    "name": "ipython",
    "version": 3
   },
   "file_extension": ".py",
   "mimetype": "text/x-python",
   "name": "python",
   "nbconvert_exporter": "python",
   "pygments_lexer": "ipython3",
   "version": "3.10.11"
  },
  "orig_nbformat": 4
 },
 "nbformat": 4,
 "nbformat_minor": 2
}
