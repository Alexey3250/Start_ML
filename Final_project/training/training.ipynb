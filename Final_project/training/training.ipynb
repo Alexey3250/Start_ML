{
 "cells": [
  {
   "cell_type": "code",
   "execution_count": 1,
   "metadata": {},
   "outputs": [],
   "source": [
    "import pandas as pd\n",
    "import catboost as cb"
   ]
  },
  {
   "cell_type": "code",
   "execution_count": 2,
   "metadata": {},
   "outputs": [
    {
     "name": "stdout",
     "output_type": "stream",
     "text": [
      "Feed data shape: (15378483, 51)\n"
     ]
    }
   ],
   "source": [
    "# Чтение feed_data из csv файла\n",
    "feed_data = pd.read_csv(r'C:\\Users\\Alex\\Desktop\\data_for_training.csv')\n",
    "print(f\"Feed data shape: {feed_data.shape}\")"
   ]
  },
  {
   "cell_type": "code",
   "execution_count": 3,
   "metadata": {},
   "outputs": [
    {
     "data": {
      "text/plain": [
       "Index(['user_id', 'post_id_x', 'action', 'target', 'gender', 'age', 'country',\n",
       "       'city', 'exp_group', 'os', 'source', 'topic', 'word_count',\n",
       "       'sentence_count', 'avg_word_length', 'punctuation_count', 'month',\n",
       "       'day_of_week', 'hour_of_day', 'time_since_last_action', 'day_of_month',\n",
       "       'year', 'user_views', 'user_likes', 'post_views', 'post_likes',\n",
       "       '0_exp_group_likes', '0_exp_group_views', '1_exp_group_likes',\n",
       "       '1_exp_group_views', '2_exp_group_likes', '2_exp_group_views',\n",
       "       '3_exp_group_likes', '3_exp_group_views', '4_exp_group_likes',\n",
       "       '4_exp_group_views', '5_exp_group_likes', '5_exp_group_views',\n",
       "       '6_exp_group_likes', '6_exp_group_views', 'component_1', 'component_2',\n",
       "       'component_3', 'component_4', 'component_5', 'component_6',\n",
       "       'component_7', 'component_8', 'component_9', 'component_10',\n",
       "       'post_id_y'],\n",
       "      dtype='object')"
      ]
     },
     "execution_count": 3,
     "metadata": {},
     "output_type": "execute_result"
    }
   ],
   "source": [
    "feed_data.columns"
   ]
  },
  {
   "cell_type": "code",
   "execution_count": 4,
   "metadata": {},
   "outputs": [],
   "source": [
    "cat_features  = ['gender', 'age', 'country', 'city', 'exp_group', 'os', 'source', 'topic']"
   ]
  },
  {
   "cell_type": "code",
   "execution_count": 9,
   "metadata": {},
   "outputs": [],
   "source": [
    "def sample_10_percent(group):\n",
    "    frac = 0.5\n",
    "    return group.sample(frac=frac)\n",
    "\n",
    "feed_data = feed_data.groupby('user_id', group_keys=False).apply(sample_10_percent)"
   ]
  },
  {
   "cell_type": "code",
   "execution_count": 10,
   "metadata": {},
   "outputs": [],
   "source": [
    "# split the data into train and test\n",
    "from sklearn.model_selection import train_test_split\n",
    "\n",
    "# data with selected features, top k with mutual information, without data leakage, timestamp, 'action' and 'text'\n",
    "X = feed_data.drop(['action', 'target'], axis=1)\n",
    "y = feed_data['target']\n",
    "\n",
    "# Splitting the data into train and test\n",
    "X_train, X_test, y_train, y_test = train_test_split(X, y, test_size=0.2, random_state=42)"
   ]
  },
  {
   "cell_type": "code",
   "execution_count": 11,
   "metadata": {},
   "outputs": [],
   "source": [
    "# Create a group ID based on the 'user_id' column\n",
    "unique_user_ids = X_train['user_id'].unique()\n",
    "group_id_dict = {user_id: idx for idx, user_id in enumerate(unique_user_ids)}\n",
    "X_train['group_id'] = X_train['user_id'].map(group_id_dict)\n",
    "X_test['group_id'] = X_test['user_id'].map(group_id_dict)\n",
    "\n",
    "# Sort the train and test sets by 'group_id'\n",
    "X_train = X_train.sort_values(by='group_id')\n",
    "y_train = y_train.loc[X_train.index]\n",
    "\n",
    "X_test = X_test.sort_values(by='group_id')\n",
    "y_test = y_test.loc[X_test.index]\n",
    "\n",
    "# Create train and test Pool objects with the 'group_id' column\n",
    "from catboost import Pool\n",
    "\n",
    "train_pool = Pool(X_train.drop(columns=['user_id']), y_train, group_id=X_train['group_id'])\n",
    "test_pool = Pool(X_test.drop(columns=['user_id']), y_test, group_id=X_test['group_id'])"
   ]
  },
  {
   "cell_type": "code",
   "execution_count": 12,
   "metadata": {},
   "outputs": [
    {
     "name": "stdout",
     "output_type": "stream",
     "text": [
      "0:\tlearn: 0.1175552\ttest: 0.1034550\tbest: 0.1034550 (0)\ttotal: 669ms\tremaining: 11m 8s\n",
      "100:\tlearn: 0.1697975\ttest: 0.1353045\tbest: 0.1353095 (99)\ttotal: 45.1s\tremaining: 6m 41s\n",
      "200:\tlearn: 0.1708416\ttest: 0.1355491\tbest: 0.1355897 (197)\ttotal: 1m 28s\tremaining: 5m 51s\n",
      "300:\tlearn: 0.1721442\ttest: 0.1356892\tbest: 0.1357224 (250)\ttotal: 2m 11s\tremaining: 5m 6s\n",
      "400:\tlearn: 0.1735314\ttest: 0.1357740\tbest: 0.1357777 (398)\ttotal: 2m 55s\tremaining: 4m 22s\n",
      "500:\tlearn: 0.1746147\ttest: 0.1356843\tbest: 0.1358281 (431)\ttotal: 3m 40s\tremaining: 3m 39s\n",
      "600:\tlearn: 0.1760130\ttest: 0.1357814\tbest: 0.1358281 (431)\ttotal: 4m 25s\tremaining: 2m 56s\n",
      "700:\tlearn: 0.1774541\ttest: 0.1357310\tbest: 0.1358367 (661)\ttotal: 5m 10s\tremaining: 2m 12s\n",
      "800:\tlearn: 0.1787592\ttest: 0.1357482\tbest: 0.1358367 (661)\ttotal: 5m 54s\tremaining: 1m 28s\n",
      "900:\tlearn: 0.1798928\ttest: 0.1357298\tbest: 0.1358367 (661)\ttotal: 6m 39s\tremaining: 43.9s\n",
      "999:\tlearn: 0.1809405\ttest: 0.1357187\tbest: 0.1358367 (661)\ttotal: 7m 24s\tremaining: 0us\n",
      "\n",
      "bestTest = 0.1358367028\n",
      "bestIteration = 661\n",
      "\n",
      "Shrink model to first 662 iterations.\n"
     ]
    },
    {
     "data": {
      "text/plain": [
       "<catboost.core.CatBoostClassifier at 0x1ef65cf7820>"
      ]
     },
     "execution_count": 12,
     "metadata": {},
     "output_type": "execute_result"
    }
   ],
   "source": [
    "# Train the CatBoost model using PrecisionAt:top=5 evaluation metric\n",
    "from catboost import CatBoostClassifier\n",
    "\n",
    "model = CatBoostClassifier(iterations=1000,\n",
    "                           learning_rate=0.1,\n",
    "                           depth=6,\n",
    "                           custom_metric='PrecisionAt:top=5',\n",
    "                           eval_metric='PrecisionAt:top=5',\n",
    "                           random_seed=42,\n",
    "                           verbose=100)\n",
    "\n",
    "model.fit(train_pool, eval_set=test_pool)"
   ]
  },
  {
   "cell_type": "code",
   "execution_count": 15,
   "metadata": {},
   "outputs": [],
   "source": [
    "y_pred_proba = model.predict_proba(test_pool)[:, 1]\n",
    "# Add the prediction probabilities to the test dataset\n",
    "X_test['pred_proba'] = y_pred_proba\n",
    "\n",
    "# Group by 'user_id' and find the top 5 predicted 'post_id' for each user\n",
    "top_5_posts = X_test.groupby('user_id').apply(lambda x: x.nlargest(5, 'pred_proba')['post_id_x'])"
   ]
  },
  {
   "cell_type": "code",
   "execution_count": 16,
   "metadata": {},
   "outputs": [
    {
     "data": {
      "text/plain": [
       "user_id          \n",
       "200      63          6919\n",
       "         45          4438\n",
       "         0           5057\n",
       "         41          1864\n",
       "         31          1150\n",
       "                     ... \n",
       "168551   15378364    1390\n",
       "         15378350    2831\n",
       "         15378343    6978\n",
       "168552   15378468    3205\n",
       "         15378439    5246\n",
       "Name: post_id_x, Length: 763361, dtype: int64"
      ]
     },
     "execution_count": 16,
     "metadata": {},
     "output_type": "execute_result"
    }
   ],
   "source": [
    "top_5_posts"
   ]
  },
  {
   "cell_type": "code",
   "execution_count": 18,
   "metadata": {},
   "outputs": [
    {
     "name": "stdout",
     "output_type": "stream",
     "text": [
      "HitRate@5: 0.6447881156963307\n"
     ]
    }
   ],
   "source": [
    "def hitrate_at_k(top_k_posts, k=5):\n",
    "    hits = 0\n",
    "    user_data = top_k_posts.groupby(level=0).apply(list).to_dict()\n",
    "\n",
    "    for user_id, top_k_posts in user_data.items():\n",
    "        true_post_ids = X_test[(X_test['user_id'] == user_id) & (y_test == 1)]['post_id_x']\n",
    "        hits += len(set(top_k_posts) & set(true_post_ids))\n",
    "\n",
    "    return hits / len(y_test[y_test == 1])\n",
    "\n",
    "hitrate_at_5 = hitrate_at_k(top_5_posts, k=5)\n",
    "print(\"HitRate@5:\", hitrate_at_5)\n"
   ]
  },
  {
   "cell_type": "code",
   "execution_count": null,
   "metadata": {},
   "outputs": [],
   "source": [
    "# Save the model to a file\n",
    "model.save_model(\"catboost_model.cbm\")"
   ]
  }
 ],
 "metadata": {
  "kernelspec": {
   "display_name": "Python 3",
   "language": "python",
   "name": "python3"
  },
  "language_info": {
   "codemirror_mode": {
    "name": "ipython",
    "version": 3
   },
   "file_extension": ".py",
   "mimetype": "text/x-python",
   "name": "python",
   "nbconvert_exporter": "python",
   "pygments_lexer": "ipython3",
   "version": "3.10.11"
  },
  "orig_nbformat": 4
 },
 "nbformat": 4,
 "nbformat_minor": 2
}
