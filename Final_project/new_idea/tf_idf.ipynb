{
 "cells": [
  {
   "cell_type": "code",
   "execution_count": 1,
   "metadata": {},
   "outputs": [],
   "source": [
    "import pandas as pd\n",
    "from sqlalchemy import create_engine\n",
    "import time"
   ]
  },
  {
   "cell_type": "code",
   "execution_count": 2,
   "metadata": {},
   "outputs": [],
   "source": [
    "engine = create_engine(\n",
    "        \"postgresql://robot-startml-ro:pheiph0hahj1Vaif@\"\n",
    "        \"postgres.lab.karpov.courses:6432/startml\"\n",
    "    )"
   ]
  },
  {
   "cell_type": "code",
   "execution_count": 3,
   "metadata": {},
   "outputs": [
    {
     "name": "stdout",
     "output_type": "stream",
     "text": [
      "Post text data shape: (7023, 3)\n"
     ]
    }
   ],
   "source": [
    "# Чтение данных таблицы post_text_df\n",
    "query = \"SELECT * FROM post_text_df\"\n",
    "post_text_df = pd.read_sql(query, engine)\n",
    "print(f\"Post text data shape: {post_text_df.shape}\")"
   ]
  },
  {
   "cell_type": "code",
   "execution_count": 7,
   "metadata": {},
   "outputs": [
    {
     "data": {
      "text/html": [
       "<div>\n",
       "<style scoped>\n",
       "    .dataframe tbody tr th:only-of-type {\n",
       "        vertical-align: middle;\n",
       "    }\n",
       "\n",
       "    .dataframe tbody tr th {\n",
       "        vertical-align: top;\n",
       "    }\n",
       "\n",
       "    .dataframe thead th {\n",
       "        text-align: right;\n",
       "    }\n",
       "</style>\n",
       "<table border=\"1\" class=\"dataframe\">\n",
       "  <thead>\n",
       "    <tr style=\"text-align: right;\">\n",
       "      <th></th>\n",
       "      <th>post_id</th>\n",
       "      <th>text</th>\n",
       "      <th>topic</th>\n",
       "    </tr>\n",
       "  </thead>\n",
       "  <tbody>\n",
       "    <tr>\n",
       "      <th>0</th>\n",
       "      <td>1</td>\n",
       "      <td>UK economy facing major risks\\n\\nThe UK manufa...</td>\n",
       "      <td>business</td>\n",
       "    </tr>\n",
       "    <tr>\n",
       "      <th>1</th>\n",
       "      <td>2</td>\n",
       "      <td>Aids and climate top Davos agenda\\n\\nClimate c...</td>\n",
       "      <td>business</td>\n",
       "    </tr>\n",
       "    <tr>\n",
       "      <th>2</th>\n",
       "      <td>3</td>\n",
       "      <td>Asian quake hits European shares\\n\\nShares in ...</td>\n",
       "      <td>business</td>\n",
       "    </tr>\n",
       "    <tr>\n",
       "      <th>3</th>\n",
       "      <td>4</td>\n",
       "      <td>India power shares jump on debut\\n\\nShares in ...</td>\n",
       "      <td>business</td>\n",
       "    </tr>\n",
       "    <tr>\n",
       "      <th>4</th>\n",
       "      <td>5</td>\n",
       "      <td>Lacroix label bought by US firm\\n\\nLuxury good...</td>\n",
       "      <td>business</td>\n",
       "    </tr>\n",
       "  </tbody>\n",
       "</table>\n",
       "</div>"
      ],
      "text/plain": [
       "   post_id                                               text     topic\n",
       "0        1  UK economy facing major risks\\n\\nThe UK manufa...  business\n",
       "1        2  Aids and climate top Davos agenda\\n\\nClimate c...  business\n",
       "2        3  Asian quake hits European shares\\n\\nShares in ...  business\n",
       "3        4  India power shares jump on debut\\n\\nShares in ...  business\n",
       "4        5  Lacroix label bought by US firm\\n\\nLuxury good...  business"
      ]
     },
     "execution_count": 7,
     "metadata": {},
     "output_type": "execute_result"
    }
   ],
   "source": [
    "post_text_df.head()"
   ]
  },
  {
   "cell_type": "code",
   "execution_count": 9,
   "metadata": {},
   "outputs": [
    {
     "name": "stdout",
     "output_type": "stream",
     "text": [
      "China Aviation seeks rescue deal\n",
      "\n",
      "Scandal-hit jet fuel supplier China Aviation Oil has offered to repay its creditors $220m (£117m) of the $550m it lost on trading in oil futures.\n",
      "\n",
      "The firm said it hoped to pay $100m now and another $120m over eight years. With assets of $200m and liabilities totalling $648m, it needs creditors backing for the offer to avoid going into bankruptcy. The trading scandal is the biggest to hit Singapore since the $1.2bn collapse of Barings Bank in 1995. Chen Jiulin, chief executive of China Aviation Oil (CAO), was arrested by at Changi Airport by Singapore police on 8 December. He was returning from China, where he had headed when CAO announced its trading debacle in late-November. The firm had been betting heavily on a fall in the price of oil during October, but prices rose sharply instead.\n",
      "\n",
      "Among the creditors whose backing CAO needs for its restructuring plan are banking giants such as Barclays Capital and Sumitomo Mitsui, as well as South Korean firm SK Energy. Of the immediate payment, the firm - Chinas biggest jet fuel supplier - said it would be paying $30m out of its own resources. The rest would come from its parent company, China Aviation Oil Holding Company in Beijing. The holding company, owned by the Chinese government, holds most of CAOs Singapore-listed shares. It cut its holding from 75% to 60% on 20 October.\n",
      "\n"
     ]
    }
   ],
   "source": [
    "# print 1 text line \n",
    "print(post_text_df['text'][69])"
   ]
  },
  {
   "cell_type": "code",
   "execution_count": 17,
   "metadata": {},
   "outputs": [
    {
     "name": "stdout",
     "output_type": "stream",
     "text": [
      "['Volcano drama erupts on BBC One\\n\\nSupervolcano, a docu-drama about a volcanic eruption in Yellowstone National Park in the US, is among the highlights on the BBC One this winter.\\n\\nThe £178m winter schedule also includes the return of Doctor Who and a drama about Angela Cannings, who was wrongly convicted of killing two of her babies. Sarah Lancashire and Timothy Spall will star in the real-life drama, Cherished. ITV also unveiled their festive season on Tuesday, which includes Stephen Fry in a remake of Tom Browns Schooldays. Supervolcano, follows in the footsteps of last years Pompei, which drew 10 million viewers to BBC One in October 2003.\\n\\nThe programme merges science, drama and computer imagery to reveal what could happen if Yellowstone - home to the only currently active supervolcano in the world - were to erupt again. BBC Two will run a two-part documentary, The Science Behind Supervolcano, in conjunction with the transmission. Other educational highlights include a documentary about infamous Mongolian warrior Genghis Khan and Grandchild of The Holocaust. Grandchild of The Holocaust, part of the BBC commitment to Holocaust Memorial Day, follows Adrian, 13, on a journey to uncover the truth about what happened to his grandmother in Auschwitz and Belsen.\\n\\nNew drama includes Archangel, an adaptation of the Robert Harris best-seller, which stars Daniel Craig on the trail of Stalins diaries in Communist Russia. And Sarah Waters gets her second adaptation on BBC One with Imelda Staunton and Charles Dance lined up to star in Fingersmith. The adaptation, about a conman in Victorian England, will make an interesting contrast to Julie Burchills Sugar Rush - a lesbian teenage drama part of Channel Fours winter season. On a lighter note, Jessica Stevenson will star in new BBC One sitcom, The World According to Bex, penned by My Family creator Fred Barron and the Two Ronnies return for a celebration of their classic comedy series.\\n\\nFrys portrayal of headmaster Dr Arnold dominates a muted Christmas schedule on ITV1, which sees the channel retreat from broadcasting blockbuster movies in favour of extended soap episodes and popular quiz shows.\\n\\nSir Paul McCartney, wife Heather Mills and Manchester United manager Sir Alex Ferguson will join a celebrity edition of Who Wants to be a Millionaire? on Christmas Day. Also on Christmas Day, John Nettles will return in a one-off edition of Midsomer Murders, while two episodes of the new Miss Marple drama will air over the festive period. Films on ITV1 include Gus Van Sants Finding Forrester, starring Sean Connery, and classics such a Mary Poppins, Star Wars and The Good, the Bad and the Ugly. In contrast, BBCs Christmas season includes terrestrial debuts of the first Harry Potter film, Shrek and Steven Spielbergs AI, as well as new epipsodes of the Vicar of Dibley and the final Auf Wiedersehen, Pet.\\n'\n",
      " 'Web helps collect aid donations\\n\\nThe web is helping aid agencies gather resources to help cope with the aftermath of the tsunami disaster.\\n\\nMany people are making donations via websites or going online to see how they can get involved with aid efforts. High-profile web portals such as Google, Yahoo, Ebay and Amazon are gathering links that lead people to aid and relief organisations. So many were visiting some aid-related sites that some webpages were struggling to cope with the traffic. An umbrella organisation called the Disasters Emergency Committee (DEC) has been set up by a coalition of 12 charities and has been taking many donations via its specially created website. It urged people to go online where possible to help because donations could be processed more quickly than cash donated in other ways, meaning aid could be delivered as quickly as possible. The site has so far received almost £8 million, with more than 11,000 donations being made online every hour.\\n\\nTelco BT stepped in to take over the secure payments on the DEC site and provided extra logistical support for phone and online appeals after it was initially crippled with online donations. It has also provided space in Londons BT tower for one of the call centres dealing with donations.\\n\\nSome of the webs biggest firms are also helping to channel help by modifying their homepages to include links to aid agencies and organisations collecting resources. On its famously sparse homepage Google has placed a link that leads users to a list of sites where donations can be made. Among the 17 organisations listed are Oxfam, Medecins sans Frontieres (Doctors Without Borders) and Network for Good. Many of the sites that Google lists are also taking online donations. Online retailer Amazon has put a large message on its start page that lets people donate money directly to the American Red Cross that will be used with relief efforts. Auction site eBay is giving a list of sites that people can either donate directly to, divert a portion of their profits from anything they sell on eBay to the listed organisations or simply buy items that direct cash to those in the list. Yahoo is proving links direct to charities for those that want to donate. The Auction Drop website is asking people to donate old digital cameras, computers and other gadgets they no longer want that can be auction to raise cash for the aid effort. Sadly, the outpouring of goodwill has also encouraged some conmen to try to cash in. Anti-fraud organisations are warning about e-mails that are starting to circulate which try to convince people to send money directly to them rather than make donations via aid agencies. Those wanting to give cash were urged to use legitimate websites of charities and aid agencies.\\n'\n",
      " 'Vera Drakes Bafta triumph hope\\n\\nAt the Bafta film awards on Saturday night, there is the prospect that a home-grown movie could walk off with a clutch of trophies.\\n\\nVera Drake, Mike Leighs tale about a 1950s backstreet abortionist, is nominated in 11 categories. These include best film, best director and best actress shortlist for Imelda Staunton who plays the eponymous character. The film has spent months being lauded with prizes, from the Venice Film Festival to five awards from the London Critics Circle on Wednesday night.\\n\\nThe Baftas has a tradition of honouring British cinema, and this year Vera Drake is the obvious candidate to be heaped with praise. Empire magazines reviews editor Dan Jolin said the film had a very good chance of doing well on Saturday, predicting that it would collect five or six awards. I dont think its going to do a Lord of the Rings-style sweep, but Imelda Staunton is a shoo-in for best actress, he said.\\n\\nA best director prize for Mike Leigh and best British film are also likely and it could steal some awards from heavily-nominated competitors The Aviator and Finding Neverland. Mr Jolin tipped another contender - most likely The Aviator - to walk away with the Bafta for best film, and added that Finding Neverland had been lavished with nominations but not trophies. Strong Oscar contenders Million Dollar Baby and Sideways did not figure in the Bafta nominations, giving Vera Drake greater potential to walk away with the big prizes.\\n\\nThere is a sense that this film is ours and we should slap our own guys on the back. Out of all the films in the running for the Baftas, Vera Drake is the true blue British one.\\n\\nIf Mike Leigh is going to win awards for anything, it should be Vera Drake at this years Baftas, said Mr Jolin, adding that the film was probably his most technically accomplished and lavish work yet. Mr Jolin also tipped Phil Davis for a best supporting actor prize for his role in Vera Drake but felt that Heather Craney could be outdone by Kate Winslet or Natalie Portman in the supporting actress category. If there is anywhere where this film is going to win, it will be at the Baftas, he said.\\n\\nThe Guardians film critic Peter Bradshaw felt that there might well be a sweep of awards for Vera Drake on Saturday night. I hope that Bafta voters will respond to the extremely high standard of acting from the whole cast of the film. If Bafta cant do so, what hope is there? he said. Mr Bradshaw felt that Mike Leighs masterpiece was entitled to the best film award - leaving Dead Mans Shoes, Harry Potter and the Prisoner of Azkaban, My Summer of Love and Shaun of the Dead to slug it out for the best British film trophy. I will be cheering if Vera Drake wins a whole host of awards, he added.\\n'\n",
      " 'Generally speaking, the plot was much better than I was expecting. The laugh track was a bit annoying at times and did tend to get in the way; however, there were enough real chuckles in this episode to make up for it. My biggest surprise was finding some of the best lines and situations were not shown in the trailers. Spade, in particular, was not presented in the best light in the earlier promotions, but his character comes across quite well in the pilot. There is is enough eye-candy to please almost anyone and all the regular characters seem up to the task ahead of them. Now, if the writers can just live up to what they have begun.'\n",
      " 'and not in a fun-to-watch way. its just bad. its shocking that people have posted positive things about it here. the story sucks, the acting is bad, its not scary, the special effects arent special--oh no! the blackboard has hands coming out of it! oh gee--the mirror turned into water! the hair, clothes and makeup in the 50s scenes arent accurate, and they got a middle-aged man with a receding hairline to play the high-school version of himself. this is like later-on nightmare on elm street stuff. i enjoy sitting down to watch a cheesy horror movie as much as anyone else, but there are better bad ones out there to choose from.'\n",
      " 'This pathetic excuse for a movie doesnt have a decent structure or a sensible closure. The characters were confusing and the entire plot kept getting off track. Id have to say that Pixel Perfect was a disgrace. This is what happens when you let Disney channel make movies.'\n",
      " 'If you were ever a fan of MTVs The State, then these three guys will be familiar to you. But even if you only stumbled upon them via the internet like I did, you will soon come to appreciate their unique brand of comedy.Born out of their stand up comedy trio, Stella, Michael Ian Black, Michael Showalter and David Wain produced these brilliant vignettes of surreal comedy to display at their shows, and now after being available only to download from two websites, they appear in pristine glory on one DVD.Think comedy sketch show sans censorship, and youd be halfway there. No stone of decency is left unturned. But for those who like their comedy rude, self-indulgent and bordering on puerile, (and I mean that in the most flattering way) this is the DVD for you!I think its worth the money for the commentary from the two Michaels and David alone, you cant help but take a liking to them as they explain their actions, cringe at their own antics with sex toys and by turn pat each other on the back and hurl abuse.Fantastic.It must say something for the appeal of Stella that the likes of Julie Bowen and Paul Rudd are willing to throw themselves into the action so fearlessly. And you should follow their fine example, throw preconceptions to the wind, and prepare to laugh yourself sick.'\n",
      " 'T in the Park sells out in days\\n\\nTickets for Scotlands biggest music festival have sold out in record time, five months before the event is held.\\n\\nThe 12th annual T in the Park festival, which takes place at Balado near Kinross in July, sold out just four days after the line-up was announced. Green Day, the Foo Fighters and Keane are among the acts that had already been lined up to appear at the event. However, the organisers have revealed Scots favourites Travis as well as soulman James Brown will also appear.\\n\\nLast year tickets sold out 10 weeks before the festival but organisers confirmed that all 130,000 for the two-day event had been sold. Geoff Ellis, CEO of festival organisers Big Day Out Ltd, said this years event promises to be the best yet. After last years sell-out, we did think this years event would sell slightly earlier, however this is way beyond our expectations, Mr Ellis said.\\n\\nWe are extremely proud that fans are so excited about T in the Park that they have made absolutely sure that their place at Balado is booked for 2005, and we will deliver one of the greatest events yet for them in July. More than 120 acts will play on eight stages over the weekend of 9 and 10 July. Brit Award winners Keane and The Streets are among the main attractions, while The Killers and dance act The Prodigy are also on the bill. Both Green Day and The Foo Fighters last played at the festival in 2002, the same year Oasis and Basement Jaxx were among the headline acts.\\n'\n",
      " 'Campaigners attack MTV sleaze\\n\\nMTV has been criticised for incessant sleaze by television indecency campaigners in the US.\\n\\nThe Parents Television Council (PTC), which monitors violence and sex on TV, said the cable music channel offered the cheapest form of programming. The group is at the forefront of a vociferous campaign to clean up American television. But a spokeswoman for MTV said it was unfair and inaccurate to single out MTV for criticism.\\n\\nThe PTC monitored MTVs output for 171 hours from 20 March to 27 March 2004, during the channels Spring Break coverage. In its report - MTV Smut Peddlers: Targeting Kids with Sex, Drugs and Alcohol - the PTC said it witnessed 3,056 flashes of nudity or sexual situations and 2,881 verbal references to sex. Brent Bozell, PTC president and conservative activist said: MTV is blatantly selling raunchy sex to kids. Compared to broadcast television programmes aimed at adults, MTVs programming contains substantially more sex, foul language and violence - and MTVs shows are aimed at children as young as 12. Theres no question that TV influences the attitudes and perceptions of young viewers, and MTV is deliberately marketing its raunch to millions of innocent children.\\n\\nThe watchdog decided to look at MTVs programmes after Janet Jacksons infamous wardrobe malfunction at last years Super Bowl. The breast-baring incident generated 500,000 complaints and CBS - which is owned by the same parent company as MTV - was quick to apologise. MTV spokeswoman Jeannie Kedas said the network follows the same standards as broadcasters and reflects the culture and what its viewers are interested in. Its unfair and inaccurate to paint MTV with that brush of irresponsibility, she said. We think its underestimating young peoples intellect and level of sophistication. Ms Kedas also highlighted the fact MTV won an award in 2004 for the Fight for Your Rights series that focused on issues such as sexual health and tolerance.\\n'\n",
      " 'It doesnt take balls to make-fun of retarded people. Having to listen to Mencia insist that he is brave to make retard jokes is intolerable. Also, it doesnt take balls to bite off of the chapelle show. The racial game-shows, the racial olympics, it seems like a lot of the skits are merely reworked Chapelle Show skits, that are just way less funny. But the most irksome thing in the show is his insistence that he is just marching to the beat of his own drum, when he is actually marching to the beat of many over-worked, over-done drums that have been drummed many times.I hate this show. I hate that it presents itself as a voice for Latin America.And no Carlos, I am not trying to censore you. If people like it, then keep it on. But I personally think that its a bad show.']\n"
     ]
    }
   ],
   "source": [
    "# print 5 random texts\n",
    "print(post_text_df['text'].sample(10).values)"
   ]
  },
  {
   "attachments": {},
   "cell_type": "markdown",
   "metadata": {},
   "source": [
    "Скачаем готовый файл со всеми фичами"
   ]
  },
  {
   "attachments": {},
   "cell_type": "markdown",
   "metadata": {},
   "source": [
    "Для каждого отдельного поста нам нужно выделить фичи\n",
    " -  "
   ]
  },
  {
   "cell_type": "markdown",
   "metadata": {},
   "source": []
  }
 ],
 "metadata": {
  "kernelspec": {
   "display_name": "Python 3",
   "language": "python",
   "name": "python3"
  },
  "language_info": {
   "codemirror_mode": {
    "name": "ipython",
    "version": 3
   },
   "file_extension": ".py",
   "mimetype": "text/x-python",
   "name": "python",
   "nbconvert_exporter": "python",
   "pygments_lexer": "ipython3",
   "version": "3.10.11"
  },
  "orig_nbformat": 4
 },
 "nbformat": 4,
 "nbformat_minor": 2
}
