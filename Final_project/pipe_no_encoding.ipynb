{
 "cells": [
  {
   "attachments": {},
   "cell_type": "markdown",
   "metadata": {},
   "source": [
    "# Импорт данных"
   ]
  },
  {
   "cell_type": "code",
   "execution_count": 1,
   "metadata": {},
   "outputs": [],
   "source": [
    "import pandas as pd\n",
    "from sqlalchemy import create_engine\n",
    "import matplotlib.pyplot as plt\n",
    "import plotly.express as px\n",
    "from sklearn.model_selection import train_test_split\n",
    "from sklearn.preprocessing import LabelEncoder\n",
    "from sklearn.ensemble import RandomForestClassifier\n",
    "from sklearn.metrics import classification_report\n",
    "import pickle\n",
    "from sklearn.feature_extraction.text import TfidfVectorizer\n",
    "from sklearn.feature_selection import mutual_info_classif, SelectKBest\n",
    "from catboost import Pool, CatBoostClassifier\n",
    "import numpy as np\n",
    "import re\n",
    "from string import punctuation\n",
    "from sklearn.metrics import roc_curve, auc"
   ]
  },
  {
   "attachments": {},
   "cell_type": "markdown",
   "metadata": {},
   "source": [
    "# Загрузка данных"
   ]
  },
  {
   "cell_type": "code",
   "execution_count": 3,
   "metadata": {},
   "outputs": [],
   "source": [
    "engine = create_engine(\n",
    "        \"postgresql://robot-startml-ro:pheiph0hahj1Vaif@\"\n",
    "        \"postgres.lab.karpov.courses:6432/startml\"\n",
    "    )\n",
    "\n",
    "# Чтение данных таблицы user_data\n",
    "query = \"SELECT * FROM user_data\"\n",
    "user_data = pd.read_sql(query, engine)\n",
    "\n",
    "# Чтение данных таблицы post_text_df\n",
    "query = \"SELECT * FROM post_text_df\"\n",
    "post_text_df = pd.read_sql(query, engine)\n",
    "\n",
    "# Чтение ограниченного количества данных таблицы feed_data\n",
    "query = \"SELECT * FROM feed_data LIMIT 1000000\"\n",
    "feed_data = pd.read_sql(query, engine)\n",
    "\n",
    "# Переименование столбцов идентификаторов\n",
    "user_data = user_data.rename(columns={'id': 'user_id'})\n",
    "post_text_df = post_text_df.rename(columns={'id': 'post_id'})\n",
    "\n",
    "# Объединение таблиц\n",
    "data = feed_data.merge(user_data, on='user_id', how='left')\n",
    "data = data.merge(post_text_df, on='post_id', how='left')"
   ]
  },
  {
   "attachments": {},
   "cell_type": "markdown",
   "metadata": {},
   "source": [
    "# Обработка временных меток"
   ]
  },
  {
   "cell_type": "code",
   "execution_count": 4,
   "metadata": {},
   "outputs": [],
   "source": [
    "# Преобразование формата временных меток в объект datetime\n",
    "data['timestamp'] = pd.to_datetime(data['timestamp'])\n",
    "\n",
    "# Извлечение признаков из временных меток\n",
    "data['day_of_week'] = data['timestamp'].dt.dayofweek\n",
    "data['hour_of_day'] = data['timestamp'].dt.hour\n",
    "\n",
    "# Расчет времени с момента последнего действия для каждого пользователя\n",
    "data = data.sort_values(['user_id', 'timestamp'])\n",
    "data['time_since_last_action'] = data.groupby('user_id')['timestamp'].diff().dt.total_seconds()\n",
    "data['time_since_last_action'].fillna(0, inplace=True)\n",
    "\n",
    "# Удаление столбца временных меток\n",
    "data = data.drop('timestamp', axis=1)"
   ]
  },
  {
   "attachments": {},
   "cell_type": "markdown",
   "metadata": {},
   "source": [
    "# Обучение модели CatBoost"
   ]
  },
  {
   "attachments": {},
   "cell_type": "markdown",
   "metadata": {},
   "source": [
    "## Train-test split"
   ]
  },
  {
   "attachments": {},
   "cell_type": "markdown",
   "metadata": {},
   "source": [
    "Этот код формирует выборку данных с заданными признаками, выбирая топ-k признаков с использованием взаимной информации, без утечки данных, временной метки, 'action' и 'text'. Затем данные разбиваются на обучающую и тестовую выборки с заданным отношением размеров, и рандомным состоянием генератора псевдослучайных чисел."
   ]
  },
  {
   "cell_type": "code",
   "execution_count": 8,
   "metadata": {},
   "outputs": [],
   "source": [
    "X = data.drop(['target', 'action', 'text'], axis=1)"
   ]
  },
  {
   "cell_type": "code",
   "execution_count": 9,
   "metadata": {},
   "outputs": [
    {
     "data": {
      "text/html": [
       "<div>\n",
       "<style scoped>\n",
       "    .dataframe tbody tr th:only-of-type {\n",
       "        vertical-align: middle;\n",
       "    }\n",
       "\n",
       "    .dataframe tbody tr th {\n",
       "        vertical-align: top;\n",
       "    }\n",
       "\n",
       "    .dataframe thead th {\n",
       "        text-align: right;\n",
       "    }\n",
       "</style>\n",
       "<table border=\"1\" class=\"dataframe\">\n",
       "  <thead>\n",
       "    <tr style=\"text-align: right;\">\n",
       "      <th></th>\n",
       "      <th>user_id</th>\n",
       "      <th>post_id</th>\n",
       "      <th>gender</th>\n",
       "      <th>age</th>\n",
       "      <th>country</th>\n",
       "      <th>city</th>\n",
       "      <th>exp_group</th>\n",
       "      <th>os</th>\n",
       "      <th>source</th>\n",
       "      <th>topic</th>\n",
       "      <th>day_of_week</th>\n",
       "      <th>hour_of_day</th>\n",
       "      <th>time_since_last_action</th>\n",
       "    </tr>\n",
       "  </thead>\n",
       "  <tbody>\n",
       "    <tr>\n",
       "      <th>0</th>\n",
       "      <td>15409</td>\n",
       "      <td>3174</td>\n",
       "      <td>1</td>\n",
       "      <td>27</td>\n",
       "      <td>Russia</td>\n",
       "      <td>Sergiyev Posad</td>\n",
       "      <td>3</td>\n",
       "      <td>iOS</td>\n",
       "      <td>ads</td>\n",
       "      <td>covid</td>\n",
       "      <td>5</td>\n",
       "      <td>12</td>\n",
       "      <td>0.0</td>\n",
       "    </tr>\n",
       "    <tr>\n",
       "      <th>1</th>\n",
       "      <td>15409</td>\n",
       "      <td>1141</td>\n",
       "      <td>1</td>\n",
       "      <td>27</td>\n",
       "      <td>Russia</td>\n",
       "      <td>Sergiyev Posad</td>\n",
       "      <td>3</td>\n",
       "      <td>iOS</td>\n",
       "      <td>ads</td>\n",
       "      <td>politics</td>\n",
       "      <td>5</td>\n",
       "      <td>22</td>\n",
       "      <td>1247702.0</td>\n",
       "    </tr>\n",
       "    <tr>\n",
       "      <th>2</th>\n",
       "      <td>15409</td>\n",
       "      <td>5930</td>\n",
       "      <td>1</td>\n",
       "      <td>27</td>\n",
       "      <td>Russia</td>\n",
       "      <td>Sergiyev Posad</td>\n",
       "      <td>3</td>\n",
       "      <td>iOS</td>\n",
       "      <td>ads</td>\n",
       "      <td>movie</td>\n",
       "      <td>5</td>\n",
       "      <td>22</td>\n",
       "      <td>160.0</td>\n",
       "    </tr>\n",
       "    <tr>\n",
       "      <th>3</th>\n",
       "      <td>15409</td>\n",
       "      <td>1920</td>\n",
       "      <td>1</td>\n",
       "      <td>27</td>\n",
       "      <td>Russia</td>\n",
       "      <td>Sergiyev Posad</td>\n",
       "      <td>3</td>\n",
       "      <td>iOS</td>\n",
       "      <td>ads</td>\n",
       "      <td>tech</td>\n",
       "      <td>5</td>\n",
       "      <td>22</td>\n",
       "      <td>150.0</td>\n",
       "    </tr>\n",
       "    <tr>\n",
       "      <th>4</th>\n",
       "      <td>15409</td>\n",
       "      <td>1920</td>\n",
       "      <td>1</td>\n",
       "      <td>27</td>\n",
       "      <td>Russia</td>\n",
       "      <td>Sergiyev Posad</td>\n",
       "      <td>3</td>\n",
       "      <td>iOS</td>\n",
       "      <td>ads</td>\n",
       "      <td>tech</td>\n",
       "      <td>5</td>\n",
       "      <td>22</td>\n",
       "      <td>118.0</td>\n",
       "    </tr>\n",
       "    <tr>\n",
       "      <th>...</th>\n",
       "      <td>...</td>\n",
       "      <td>...</td>\n",
       "      <td>...</td>\n",
       "      <td>...</td>\n",
       "      <td>...</td>\n",
       "      <td>...</td>\n",
       "      <td>...</td>\n",
       "      <td>...</td>\n",
       "      <td>...</td>\n",
       "      <td>...</td>\n",
       "      <td>...</td>\n",
       "      <td>...</td>\n",
       "      <td>...</td>\n",
       "    </tr>\n",
       "    <tr>\n",
       "      <th>999995</th>\n",
       "      <td>88048</td>\n",
       "      <td>1442</td>\n",
       "      <td>1</td>\n",
       "      <td>19</td>\n",
       "      <td>Russia</td>\n",
       "      <td>Tyumen</td>\n",
       "      <td>0</td>\n",
       "      <td>Android</td>\n",
       "      <td>ads</td>\n",
       "      <td>sport</td>\n",
       "      <td>0</td>\n",
       "      <td>13</td>\n",
       "      <td>31.0</td>\n",
       "    </tr>\n",
       "    <tr>\n",
       "      <th>999996</th>\n",
       "      <td>88048</td>\n",
       "      <td>3432</td>\n",
       "      <td>1</td>\n",
       "      <td>19</td>\n",
       "      <td>Russia</td>\n",
       "      <td>Tyumen</td>\n",
       "      <td>0</td>\n",
       "      <td>Android</td>\n",
       "      <td>ads</td>\n",
       "      <td>covid</td>\n",
       "      <td>0</td>\n",
       "      <td>13</td>\n",
       "      <td>164.0</td>\n",
       "    </tr>\n",
       "    <tr>\n",
       "      <th>999997</th>\n",
       "      <td>88048</td>\n",
       "      <td>7057</td>\n",
       "      <td>1</td>\n",
       "      <td>19</td>\n",
       "      <td>Russia</td>\n",
       "      <td>Tyumen</td>\n",
       "      <td>0</td>\n",
       "      <td>Android</td>\n",
       "      <td>ads</td>\n",
       "      <td>movie</td>\n",
       "      <td>0</td>\n",
       "      <td>13</td>\n",
       "      <td>28.0</td>\n",
       "    </tr>\n",
       "    <tr>\n",
       "      <th>999998</th>\n",
       "      <td>88048</td>\n",
       "      <td>5789</td>\n",
       "      <td>1</td>\n",
       "      <td>19</td>\n",
       "      <td>Russia</td>\n",
       "      <td>Tyumen</td>\n",
       "      <td>0</td>\n",
       "      <td>Android</td>\n",
       "      <td>ads</td>\n",
       "      <td>movie</td>\n",
       "      <td>0</td>\n",
       "      <td>13</td>\n",
       "      <td>59.0</td>\n",
       "    </tr>\n",
       "    <tr>\n",
       "      <th>999999</th>\n",
       "      <td>88048</td>\n",
       "      <td>1841</td>\n",
       "      <td>1</td>\n",
       "      <td>19</td>\n",
       "      <td>Russia</td>\n",
       "      <td>Tyumen</td>\n",
       "      <td>0</td>\n",
       "      <td>Android</td>\n",
       "      <td>ads</td>\n",
       "      <td>sport</td>\n",
       "      <td>0</td>\n",
       "      <td>13</td>\n",
       "      <td>96.0</td>\n",
       "    </tr>\n",
       "  </tbody>\n",
       "</table>\n",
       "<p>1000000 rows × 13 columns</p>\n",
       "</div>"
      ],
      "text/plain": [
       "        user_id  post_id  gender  age country            city  exp_group   \n",
       "0         15409     3174       1   27  Russia  Sergiyev Posad          3  \\\n",
       "1         15409     1141       1   27  Russia  Sergiyev Posad          3   \n",
       "2         15409     5930       1   27  Russia  Sergiyev Posad          3   \n",
       "3         15409     1920       1   27  Russia  Sergiyev Posad          3   \n",
       "4         15409     1920       1   27  Russia  Sergiyev Posad          3   \n",
       "...         ...      ...     ...  ...     ...             ...        ...   \n",
       "999995    88048     1442       1   19  Russia          Tyumen          0   \n",
       "999996    88048     3432       1   19  Russia          Tyumen          0   \n",
       "999997    88048     7057       1   19  Russia          Tyumen          0   \n",
       "999998    88048     5789       1   19  Russia          Tyumen          0   \n",
       "999999    88048     1841       1   19  Russia          Tyumen          0   \n",
       "\n",
       "             os source     topic  day_of_week  hour_of_day   \n",
       "0           iOS    ads     covid            5           12  \\\n",
       "1           iOS    ads  politics            5           22   \n",
       "2           iOS    ads     movie            5           22   \n",
       "3           iOS    ads      tech            5           22   \n",
       "4           iOS    ads      tech            5           22   \n",
       "...         ...    ...       ...          ...          ...   \n",
       "999995  Android    ads     sport            0           13   \n",
       "999996  Android    ads     covid            0           13   \n",
       "999997  Android    ads     movie            0           13   \n",
       "999998  Android    ads     movie            0           13   \n",
       "999999  Android    ads     sport            0           13   \n",
       "\n",
       "        time_since_last_action  \n",
       "0                          0.0  \n",
       "1                    1247702.0  \n",
       "2                        160.0  \n",
       "3                        150.0  \n",
       "4                        118.0  \n",
       "...                        ...  \n",
       "999995                    31.0  \n",
       "999996                   164.0  \n",
       "999997                    28.0  \n",
       "999998                    59.0  \n",
       "999999                    96.0  \n",
       "\n",
       "[1000000 rows x 13 columns]"
      ]
     },
     "execution_count": 9,
     "metadata": {},
     "output_type": "execute_result"
    }
   ],
   "source": [
    "X"
   ]
  },
  {
   "cell_type": "code",
   "execution_count": 10,
   "metadata": {},
   "outputs": [],
   "source": [
    "# Выборка целевой переменной\n",
    "y = data['target']\n",
    "\n",
    "# Убедиться, что каждый столбец уникален\n",
    "X = X.loc[:,~X.columns.duplicated()]\n",
    "\n",
    "# Разделение данных на обучающую и тестовую выборки\n",
    "X_train, X_test, y_train, y_test = train_test_split(X, y, test_size=0.2, random_state=42)\n"
   ]
  },
  {
   "attachments": {},
   "cell_type": "markdown",
   "metadata": {},
   "source": [
    "# Целевой кодировщик с предварительным сглаживанием.\n",
    "Источник: https://towardsdatascience.com/dealing-with-categorical-variables-by-using-target-encoder-a0f1733a4c69"
   ]
  },
  {
   "attachments": {},
   "cell_type": "markdown",
   "metadata": {},
   "source": [
    "## Обучение модели на Precision@5 "
   ]
  },
  {
   "attachments": {},
   "cell_type": "markdown",
   "metadata": {},
   "source": [
    "Мы создаем группы данных на основе идентификатора пользователя 'user_id', чтобы иметь возможность проводить обучение с учетом группировки данных. Затем мы сортируем данные по группам и создаем объекты Pool для обучения и тестирования с колонкой 'group_id', которые затем будут использоваться для обучения модели и оценки ее производительности."
   ]
  },
  {
   "cell_type": "code",
   "execution_count": 14,
   "metadata": {},
   "outputs": [
    {
     "name": "stdout",
     "output_type": "stream",
     "text": [
      "0:\ttest: 0.5647659\tbest: 0.5647659 (0)\ttotal: 295ms\tremaining: 4m 55s\n",
      "100:\ttest: 0.6483719\tbest: 0.6483719 (100)\ttotal: 11.5s\tremaining: 1m 42s\n",
      "200:\ttest: 0.6508937\tbest: 0.6509013 (198)\ttotal: 24.1s\tremaining: 1m 35s\n",
      "300:\ttest: 0.6514159\tbest: 0.6514201 (299)\ttotal: 37.4s\tremaining: 1m 26s\n",
      "400:\ttest: 0.6517193\tbest: 0.6517598 (388)\ttotal: 50.9s\tremaining: 1m 15s\n",
      "500:\ttest: 0.6518894\tbest: 0.6518920 (499)\ttotal: 1m 4s\tremaining: 1m 3s\n",
      "600:\ttest: 0.6519299\tbest: 0.6519716 (565)\ttotal: 1m 17s\tremaining: 51.6s\n",
      "700:\ttest: 0.6519503\tbest: 0.6519716 (565)\ttotal: 1m 31s\tremaining: 39s\n",
      "800:\ttest: 0.6518366\tbest: 0.6519716 (565)\ttotal: 1m 45s\tremaining: 26.1s\n",
      "900:\ttest: 0.6518494\tbest: 0.6519716 (565)\ttotal: 1m 58s\tremaining: 13.1s\n",
      "999:\ttest: 0.6517609\tbest: 0.6519716 (565)\ttotal: 2m 12s\tremaining: 0us\n",
      "\n",
      "bestTest = 0.651971559\n",
      "bestIteration = 565\n",
      "\n",
      "Shrink model to first 566 iterations.\n"
     ]
    },
    {
     "data": {
      "text/plain": [
       "<catboost.core.CatBoostClassifier at 0x2116a637fd0>"
      ]
     },
     "execution_count": 14,
     "metadata": {},
     "output_type": "execute_result"
    }
   ],
   "source": [
    "from catboost import CatBoostClassifier, Pool\n",
    "\n",
    "# Замените названия столбцов на соответствующие вашим данным\n",
    "categorical_columns = ['country', 'topic', 'city', 'gender', 'os', 'source']\n",
    "cat_features = [X_train.columns.get_loc(col) for col in categorical_columns]\n",
    "\n",
    "# Создание train_pool и test_pool с указанием категориальных столбцов\n",
    "train_pool = Pool(X_train, label=y_train, cat_features=cat_features)\n",
    "test_pool = Pool(X_test, label=y_test, cat_features=cat_features)\n",
    "\n",
    "precision_model = CatBoostClassifier(iterations=1000,\n",
    "                                     learning_rate=0.1,\n",
    "                                     depth=6,\n",
    "                                     custom_metric='AUC',\n",
    "                                     eval_metric='AUC',\n",
    "                                     random_seed=42,\n",
    "                                     verbose=100)\n",
    "\n",
    "precision_model.fit(train_pool, eval_set=test_pool)\n"
   ]
  },
  {
   "cell_type": "code",
   "execution_count": 16,
   "metadata": {},
   "outputs": [],
   "source": [
    "# Создание ID группы на основе столбца 'user_id'\n",
    "unique_user_ids = X_train['user_id'].unique()\n",
    "group_id_dict = {user_id: idx for idx, user_id in enumerate(unique_user_ids)}\n",
    "X_train['group_id'] = X_train['user_id'].map(group_id_dict)\n",
    "X_test['group_id'] = X_test['user_id'].map(group_id_dict)\n",
    "\n",
    "# Сортировка наборов данных для обучения и тестирования по 'group_id'\n",
    "X_train = X_train.sort_values(by='group_id')\n",
    "y_train = y_train.loc[X_train.index]\n",
    "\n",
    "X_test = X_test.sort_values(by='group_id')\n",
    "y_test = y_test.loc[X_test.index]\n",
    "\n",
    "# Убедитесь, что категориальные переменные представлены в виде строк\n",
    "categorical_columns = ['country', 'topic', 'city', 'gender', 'os', 'source']\n",
    "X_train[categorical_columns] = X_train[categorical_columns].astype(str)\n",
    "X_test[categorical_columns] = X_test[categorical_columns].astype(str)\n",
    "\n",
    "# Получение индексов категориальных столбцов\n",
    "cat_features = [X_train.drop(columns=['user_id']).columns.get_loc(col) for col in categorical_columns]\n",
    "\n",
    "# Создание объектов Pool для обучающей и тестовой выборок с колонкой 'group_id' и категориальными признаками\n",
    "train_pool = Pool(X_train.drop(columns=['user_id']), y_train, cat_features=cat_features, group_id=X_train['group_id'])\n",
    "test_pool = Pool(X_test.drop(columns=['user_id']), y_test, cat_features=cat_features, group_id=X_test['group_id'])\n"
   ]
  },
  {
   "cell_type": "code",
   "execution_count": null,
   "metadata": {},
   "outputs": [],
   "source": []
  },
  {
   "cell_type": "code",
   "execution_count": 17,
   "metadata": {},
   "outputs": [
    {
     "name": "stdout",
     "output_type": "stream",
     "text": [
      "0:\tlearn: 0.1050598\ttest: 0.1234591\tbest: 0.1234591 (0)\ttotal: 147ms\tremaining: 2m 27s\n",
      "100:\tlearn: 0.1878565\ttest: 0.1780129\tbest: 0.1785649 (95)\ttotal: 12.9s\tremaining: 1m 54s\n",
      "200:\tlearn: 0.2126035\ttest: 0.1796688\tbest: 0.1796688 (200)\ttotal: 26.8s\tremaining: 1m 46s\n",
      "300:\tlearn: 0.2316467\ttest: 0.1801288\tbest: 0.1817847 (263)\ttotal: 41s\tremaining: 1m 35s\n",
      "400:\tlearn: 0.2441582\ttest: 0.1808648\tbest: 0.1824287 (359)\ttotal: 55.8s\tremaining: 1m 23s\n",
      "500:\tlearn: 0.2578657\ttest: 0.1793008\tbest: 0.1824287 (359)\ttotal: 1m 11s\tremaining: 1m 10s\n",
      "600:\tlearn: 0.2691812\ttest: 0.1786569\tbest: 0.1824287 (359)\ttotal: 1m 26s\tremaining: 57.2s\n",
      "700:\tlearn: 0.2840846\ttest: 0.1793008\tbest: 0.1824287 (359)\ttotal: 1m 41s\tremaining: 43.2s\n",
      "800:\tlearn: 0.2942042\ttest: 0.1793928\tbest: 0.1824287 (359)\ttotal: 1m 56s\tremaining: 28.8s\n",
      "900:\tlearn: 0.3038638\ttest: 0.1798528\tbest: 0.1824287 (359)\ttotal: 2m 11s\tremaining: 14.4s\n",
      "999:\tlearn: 0.3126035\ttest: 0.1802208\tbest: 0.1824287 (359)\ttotal: 2m 26s\tremaining: 0us\n",
      "\n",
      "bestTest = 0.1824287029\n",
      "bestIteration = 359\n",
      "\n",
      "Shrink model to first 360 iterations.\n"
     ]
    },
    {
     "data": {
      "text/plain": [
       "<catboost.core.CatBoostClassifier at 0x2116a637b80>"
      ]
     },
     "execution_count": 17,
     "metadata": {},
     "output_type": "execute_result"
    }
   ],
   "source": [
    "# Обучение модели CatBoost с использованием метрики PrecisionAt:top=5\n",
    "from catboost import CatBoostClassifier\n",
    "\n",
    "precision_model = CatBoostClassifier(iterations=1000,\n",
    "                           learning_rate=0.1,\n",
    "                           depth=6,\n",
    "                           custom_metric='PrecisionAt:top=5',\n",
    "                           eval_metric='PrecisionAt:top=5',\n",
    "                           random_seed=42,\n",
    "                           verbose=100)\n",
    "\n",
    "precision_model.fit(train_pool, eval_set=test_pool)\n"
   ]
  },
  {
   "attachments": {},
   "cell_type": "markdown",
   "metadata": {},
   "source": [
    "# Сохранение и загрузка модели CatBoost"
   ]
  },
  {
   "cell_type": "code",
   "execution_count": 18,
   "metadata": {},
   "outputs": [],
   "source": [
    "precision_model.save_model('catboost_precision_model.cbm')"
   ]
  },
  {
   "cell_type": "code",
   "execution_count": 20,
   "metadata": {},
   "outputs": [
    {
     "name": "stdout",
     "output_type": "stream",
     "text": [
      "Accuracy: 0.894\n",
      "Precision: 0.7992360000000001\n",
      "Recall: 0.894\n",
      "F1-score: 0.8439662090813094\n"
     ]
    },
    {
     "name": "stderr",
     "output_type": "stream",
     "text": [
      "c:\\Users\\Alex\\AppData\\Local\\Programs\\Python\\Python310\\lib\\site-packages\\sklearn\\metrics\\_classification.py:1344: UndefinedMetricWarning: Precision is ill-defined and being set to 0.0 in labels with no predicted samples. Use `zero_division` parameter to control this behavior.\n",
      "  _warn_prf(average, modifier, msg_start, len(result))\n"
     ]
    }
   ],
   "source": [
    "from catboost import CatBoostClassifier\n",
    "\n",
    "# Загрузка сохраненной модели\n",
    "loaded_model = CatBoostClassifier()\n",
    "loaded_model.load_model('catboost_precision_model.cbm')\n",
    "\n",
    "# Предсказание с использованием загруженной модели на тестовом наборе данных\n",
    "predictions = loaded_model.predict(test_pool)\n",
    "\n",
    "# Оценка загруженной модели на тестовом наборе данных\n",
    "score = loaded_model.score(test_pool)\n",
    "print(\"Accuracy:\", score)\n",
    "\n",
    "# Вычисление других метрик, если это необходимо\n",
    "from sklearn.metrics import precision_score, recall_score, f1_score\n",
    "\n",
    "precision = precision_score(y_test, predictions, average='weighted')\n",
    "recall = recall_score(y_test, predictions, average='weighted')\n",
    "f1 = f1_score(y_test, predictions, average='weighted')\n",
    "\n",
    "print(\"Precision:\", precision)\n",
    "print(\"Recall:\", recall)\n",
    "print(\"F1-score:\", f1)\n"
   ]
  },
  {
   "attachments": {},
   "cell_type": "markdown",
   "metadata": {},
   "source": [
    "## Обучение модели на Recall@5 "
   ]
  },
  {
   "cell_type": "code",
   "execution_count": 21,
   "metadata": {},
   "outputs": [
    {
     "name": "stdout",
     "output_type": "stream",
     "text": [
      "0:\tlearn: 0.0188194\ttest: 0.0981062\tbest: 0.0981062 (0)\ttotal: 151ms\tremaining: 2m 30s\n",
      "100:\tlearn: 0.0310298\ttest: 0.1329637\tbest: 0.1334783 (96)\ttotal: 12.9s\tremaining: 1m 54s\n",
      "200:\tlearn: 0.0349209\ttest: 0.1345620\tbest: 0.1345857 (153)\ttotal: 26.7s\tremaining: 1m 46s\n",
      "300:\tlearn: 0.0381617\ttest: 0.1345814\tbest: 0.1356039 (262)\ttotal: 41s\tremaining: 1m 35s\n",
      "400:\tlearn: 0.0407466\ttest: 0.1357123\tbest: 0.1359474 (358)\ttotal: 55.5s\tremaining: 1m 22s\n",
      "500:\tlearn: 0.0426862\ttest: 0.1348660\tbest: 0.1359474 (358)\ttotal: 1m 10s\tremaining: 1m 10s\n",
      "600:\tlearn: 0.0447767\ttest: 0.1348362\tbest: 0.1359474 (358)\ttotal: 1m 25s\tremaining: 56.5s\n",
      "700:\tlearn: 0.0470848\ttest: 0.1351843\tbest: 0.1359474 (358)\ttotal: 1m 40s\tremaining: 42.8s\n",
      "800:\tlearn: 0.0484569\ttest: 0.1348453\tbest: 0.1361425 (709)\ttotal: 1m 55s\tremaining: 28.6s\n",
      "900:\tlearn: 0.0503225\ttest: 0.1355986\tbest: 0.1361681 (899)\ttotal: 2m 10s\tremaining: 14.3s\n",
      "999:\tlearn: 0.0514157\ttest: 0.1364315\tbest: 0.1370372 (953)\ttotal: 2m 25s\tremaining: 0us\n",
      "\n",
      "bestTest = 0.1370372189\n",
      "bestIteration = 953\n",
      "\n",
      "Shrink model to first 954 iterations.\n"
     ]
    },
    {
     "data": {
      "text/plain": [
       "<catboost.core.CatBoostClassifier at 0x21169363100>"
      ]
     },
     "execution_count": 21,
     "metadata": {},
     "output_type": "execute_result"
    }
   ],
   "source": [
    "recall_model = CatBoostClassifier(iterations=1000,\n",
    "                           learning_rate=0.1,\n",
    "                           depth=6,\n",
    "                           custom_metric='RecallAt:top=5',\n",
    "                           eval_metric='RecallAt:top=5',\n",
    "                           random_seed=42,\n",
    "                           verbose=100)\n",
    "\n",
    "recall_model.fit(train_pool, eval_set=test_pool)\n"
   ]
  },
  {
   "cell_type": "code",
   "execution_count": 22,
   "metadata": {},
   "outputs": [],
   "source": [
    "recall_model.save_model('catboost_recall_model.cbm')"
   ]
  },
  {
   "attachments": {},
   "cell_type": "markdown",
   "metadata": {},
   "source": [
    "## Обучение модели на MAP@5 "
   ]
  },
  {
   "cell_type": "code",
   "execution_count": 23,
   "metadata": {},
   "outputs": [
    {
     "name": "stdout",
     "output_type": "stream",
     "text": [
      "0:\ttest: 0.3469695\tbest: 0.3469695 (0)\ttotal: 140ms\tremaining: 2m 20s\n",
      "100:\ttest: 0.4903148\tbest: 0.4929616 (88)\ttotal: 11.9s\tremaining: 1m 46s\n",
      "200:\ttest: 0.4962268\tbest: 0.4962268 (200)\ttotal: 25s\tremaining: 1m 39s\n",
      "300:\ttest: 0.4949184\tbest: 0.4980397 (215)\ttotal: 38.5s\tremaining: 1m 29s\n",
      "400:\ttest: 0.4954035\tbest: 0.4980397 (215)\ttotal: 52.2s\tremaining: 1m 17s\n",
      "500:\ttest: 0.4951972\tbest: 0.4980397 (215)\ttotal: 1m 6s\tremaining: 1m 6s\n",
      "600:\ttest: 0.4989122\tbest: 0.4989122 (600)\ttotal: 1m 20s\tremaining: 53.2s\n",
      "700:\ttest: 0.4973819\tbest: 0.4989122 (600)\ttotal: 1m 34s\tremaining: 40.2s\n",
      "800:\ttest: 0.4986868\tbest: 0.5009043 (788)\ttotal: 1m 48s\tremaining: 26.9s\n",
      "900:\ttest: 0.5007371\tbest: 0.5032109 (826)\ttotal: 2m 1s\tremaining: 13.4s\n",
      "999:\ttest: 0.4992821\tbest: 0.5032109 (826)\ttotal: 2m 15s\tremaining: 0us\n",
      "\n",
      "bestTest = 0.5032109274\n",
      "bestIteration = 826\n",
      "\n",
      "Shrink model to first 827 iterations.\n"
     ]
    },
    {
     "data": {
      "text/plain": [
       "<catboost.core.CatBoostClassifier at 0x2116a637880>"
      ]
     },
     "execution_count": 23,
     "metadata": {},
     "output_type": "execute_result"
    }
   ],
   "source": [
    "model = CatBoostClassifier(iterations=1000,\n",
    "                           learning_rate=0.1,\n",
    "                           depth=6,\n",
    "                           custom_metric='PFound:top=5',\n",
    "                           eval_metric='PFound:top=5',\n",
    "                           random_seed=42,\n",
    "                           verbose=100)\n",
    "\n",
    "model.fit(train_pool, eval_set=test_pool)\n"
   ]
  },
  {
   "cell_type": "code",
   "execution_count": 24,
   "metadata": {},
   "outputs": [],
   "source": [
    "model.save_model('catboost_MAP_model.cbm')"
   ]
  },
  {
   "attachments": {},
   "cell_type": "markdown",
   "metadata": {},
   "source": [
    "- bestTest = 0.4451217663 for MAP@5\n",
    "- bestTest = 0.1603712149 for Recall@5\n",
    "- bestTest = 0.1660869565 for Precision@5"
   ]
  },
  {
   "attachments": {},
   "cell_type": "markdown",
   "metadata": {},
   "source": [
    "# Сравнение моделей"
   ]
  },
  {
   "cell_type": "code",
   "execution_count": 25,
   "metadata": {},
   "outputs": [
    {
     "name": "stdout",
     "output_type": "stream",
     "text": [
      "recall model:\n",
      "  Precision: 0.8522\n",
      "  Recall: 0.8940\n",
      "  F1-score: 0.8440\n",
      "\n",
      "MAP model:\n",
      "  Precision: 0.8257\n",
      "  Recall: 0.8940\n",
      "  F1-score: 0.8440\n",
      "\n",
      "precision model:\n",
      "  Precision: 0.7992\n",
      "  Recall: 0.8940\n",
      "  F1-score: 0.8440\n",
      "\n"
     ]
    },
    {
     "name": "stderr",
     "output_type": "stream",
     "text": [
      "c:\\Users\\Alex\\AppData\\Local\\Programs\\Python\\Python310\\lib\\site-packages\\sklearn\\metrics\\_classification.py:1344: UndefinedMetricWarning: Precision is ill-defined and being set to 0.0 in labels with no predicted samples. Use `zero_division` parameter to control this behavior.\n",
      "  _warn_prf(average, modifier, msg_start, len(result))\n"
     ]
    }
   ],
   "source": [
    "from catboost import CatBoostClassifier\n",
    "from sklearn.metrics import precision_score, recall_score, f1_score\n",
    "\n",
    "models = {\n",
    "    'recall': 'catboost_recall_model.cbm',\n",
    "    'MAP': 'catboost_MAP_model.cbm',\n",
    "    'precision': 'catboost_precision_model.cbm',\n",
    "}\n",
    "\n",
    "metrics = {}\n",
    "\n",
    "for model_name, model_path in models.items():\n",
    "    loaded_model = CatBoostClassifier()\n",
    "    loaded_model.load_model(model_path)\n",
    "\n",
    "    predictions = loaded_model.predict(test_pool)\n",
    "\n",
    "    precision = precision_score(y_test, predictions, average='weighted')\n",
    "    recall = recall_score(y_test, predictions, average='weighted')\n",
    "    f1 = f1_score(y_test, predictions, average='weighted')\n",
    "\n",
    "    metrics[model_name] = {\n",
    "        'Precision': precision,\n",
    "        'Recall': recall,\n",
    "        'F1-score': f1,\n",
    "    }\n",
    "\n",
    "# Вывод метрик для каждой модели\n",
    "for model_name, model_metrics in metrics.items():\n",
    "    print(f\"{model_name} model:\")\n",
    "    for metric_name, metric_value in model_metrics.items():\n",
    "        print(f\"  {metric_name}: {metric_value:.4f}\")\n",
    "    print()\n"
   ]
  },
  {
   "attachments": {},
   "cell_type": "markdown",
   "metadata": {},
   "source": [
    "Для выбора модели, которая будет оцениваться по Hitrate@5, нужно посмотреть на метрику PrecisionAt:top=5 для каждой модели. Чем выше PrecisionAt:top=5, тем лучше модель справляется с задачей рекомендации топ-5 элементов.\n",
    "\n",
    "Из предоставленных результатов, мы видим следующую картину:\n",
    "\n",
    "- recall model: Precision: 0.8522\n",
    "- MAP model: Precision: 0.8257\n",
    "- precision model: Precision: 0.7992\n",
    "\n",
    "Исходя из этой информации, лучшей моделью для оценки по метрике Hitrate@5 будет модель recall, так как у нее наивысшая точность (Precision) среди всех моделей. Мы будем использовать эту модель для рекомендации топ-5 элементов в вашей задаче."
   ]
  }
 ],
 "metadata": {
  "kernelspec": {
   "display_name": "Python 3",
   "language": "python",
   "name": "python3"
  },
  "language_info": {
   "codemirror_mode": {
    "name": "ipython",
    "version": 3
   },
   "file_extension": ".py",
   "mimetype": "text/x-python",
   "name": "python",
   "nbconvert_exporter": "python",
   "pygments_lexer": "ipython3",
   "version": "3.10.11"
  },
  "orig_nbformat": 4
 },
 "nbformat": 4,
 "nbformat_minor": 2
}
