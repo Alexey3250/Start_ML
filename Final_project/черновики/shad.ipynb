{
 "cells": [
  {
   "attachments": {},
   "cell_type": "markdown",
   "metadata": {},
   "source": [
    "# B. Пара тапок\n",
    "\n",
    "Рядом стоят 2<math display=\"inline\" style=\"text-indent: 0em;\" xmlns=\"http://www.w3.org/1998/Math/MathML\"><mn>2</mn></math> мешка: один с левыми, а другой с правыми тапками. В каждом ровно по 9<math display=\"inline\" style=\"text-indent: 0em;\" xmlns=\"http://www.w3.org/1998/Math/MathML\"><mn>9</mn></math> различных тапка. Уникальных пар ровно 9<math display=\"inline\" style=\"text-indent: 0em;\" xmlns=\"http://www.w3.org/1998/Math/MathML\"><mn>9</mn></math>. Два друга решили собрать хотя бы одну пару и выбрали по мешку. Оба тянут тапки из своего мешка таким образом, что каждый тапок вытягивается независимо и с вероятностью 12<math display=\"inline\" style=\"text-indent: 0em;\" xmlns=\"http://www.w3.org/1998/Math/MathML\"><mfrac><mrow><mn>1</mn></mrow> <mrow><mn>2</mn></mrow></mfrac></math>.\n",
    "\n",
    "Какова вероятность того, что друзья собрали хотя бы 1<math display=\"inline\" style=\"text-indent: 0em;\" xmlns=\"http://www.w3.org/1998/Math/MathML\"><mn>1</mn></math> пару при условии, что «левый друг» вытянул как минимум один тапок?\n",
    "\n",
    "В качестве ответа введите искомую вероятность.\n",
    "\n",
    "Введите ответ (одно вещественное число, разделитель — точка), округлённый до десяти знаков после запятой.\n",
    "\n",
    "Введенное вами число должно отличаться от правильного ответа не более чем на 10−9<math display=\"inline\" style=\"text-indent: 0em;\" xmlns=\"http://www.w3.org/1998/Math/MathML\"><mn>1</mn><msup><mrow><mn>0</mn></mrow><mrow><mo>−</mo><mn>9</mn></mrow></msup></math>."
   ]
  },
  {
   "attachments": {},
   "cell_type": "markdown",
   "metadata": {},
   "source": [
    "# B. Пара тапок\n",
    "\n",
    "Рядом стоят 2 мешка: один с левыми, а другой с правыми тапками. В каждом ровно по 9 различных тапка. Уникальных пар ровно 9. Два друга решили собрать хотя бы одну пару и выбрали по мешку. Оба тянут тапки из своего мешка таким образом, что каждый тапок вытягивается независимо и с вероятностью 1/2.\n",
    "\n",
    "Какова вероятность того, что друзья собрали хотя бы 1 пару при условии, что «левый друг» вытянул как минимум один тапок?\n",
    "\n",
    "В качестве ответа введите искомую вероятность.\n"
   ]
  },
  {
   "cell_type": "code",
   "execution_count": 44,
   "metadata": {},
   "outputs": [
    {
     "name": "stdout",
     "output_type": "stream",
     "text": [
      "0.5333333333333333\n"
     ]
    }
   ],
   "source": [
    "p_left_one = 1/2 # вероятность, что левый друг вытянет ровно один тапок\n",
    "p_left_pair = 9/17 * 8/16 # вероятность, что левый друг вытянет пару\n",
    "p_right_pair_given_left_one = 9/15 # вероятность, что правый друг вытянет пару, если левый вытянул ровно один тапок\n",
    "p_right_pair_given_left_pair = 7/15 # вероятность, что правый друг вытянет пару, если левый вытянул пару\n",
    "\n",
    "p_at_least_one_pair_given_left_one = p_left_one * p_right_pair_given_left_one # вероятность, что оба друзья вытянут пару, если левый вытянул ровно один тапок\n",
    "p_at_least_one_pair_given_left_pair = p_left_pair * p_right_pair_given_left_pair # вероятность, что оба друзья вытянут пару, если левый вытянул пару\n",
    "\n",
    "p_at_least_one_pair_given_left_at_least_one = p_at_least_one_pair_given_left_one + p_at_least_one_pair_given_left_pair # вероятность собрать хотя бы одну пару, если левый друг вытянул как минимум один тапок\n",
    "p_left_at_least_one = 1 - (8/17 * 7/16) # вероятность, что левый друг вытянет как минимум один тапок\n",
    "p_given_left_at_least_one = p_at_least_one_pair_given_left_at_least_one / p_left_at_least_one # искомая вероятность\n",
    "\n",
    "print(p_given_left_at_least_one)\n"
   ]
  },
  {
   "cell_type": "code",
   "execution_count": 1,
   "metadata": {},
   "outputs": [
    {
     "name": "stdout",
     "output_type": "stream",
     "text": [
      "P(B|A) ≈ 0.5919382950\n"
     ]
    }
   ],
   "source": [
    "from math import comb\n",
    "\n",
    "# Calculate P(A)\n",
    "p = 1/2\n",
    "q = 1 - p\n",
    "P_A = 1 - q**9\n",
    "\n",
    "# Calculate P(B ∩ A)\n",
    "P_B_and_A = 0\n",
    "for k in range(1, 10):\n",
    "    probability_k = comb(9, k) * p**k * q**(9-k)\n",
    "    probability_m_sum = 0\n",
    "    for m in range(k):\n",
    "        probability_m_sum += comb(9, m) * p**m * q**(9-m)\n",
    "    probability_case = probability_k * (1 - probability_m_sum)\n",
    "    P_B_and_A += probability_case\n",
    "\n",
    "# Calculate P(B|A)\n",
    "P_B_given_A = P_B_and_A / P_A\n",
    "\n",
    "print(f\"P(B|A) ≈ {P_B_given_A:.10f}\")\n"
   ]
  },
  {
   "cell_type": "code",
   "execution_count": 2,
   "metadata": {},
   "outputs": [
    {
     "name": "stdout",
     "output_type": "stream",
     "text": [
      "P(B|A) ≈ 0.5919382950\n"
     ]
    }
   ],
   "source": [
    "from math import comb\n",
    "\n",
    "# Calculate P(A)\n",
    "p = 1/2\n",
    "q = 1 - p\n",
    "P_A = 1 - q**9\n",
    "\n",
    "# Calculate P(B ∩ A)\n",
    "P_B_and_A = 0\n",
    "for k in range(1, 10):\n",
    "    probability_k = comb(9, k) * p**k * q**(9-k)\n",
    "    probability_m_sum = 0\n",
    "    for m in range(1, k+1):\n",
    "        probability_m_sum += comb(9, m) * p**m * q**(9-m)\n",
    "    probability_case = probability_k * probability_m_sum\n",
    "    P_B_and_A += probability_case\n",
    "\n",
    "# Calculate P(B|A)\n",
    "P_B_given_A = P_B_and_A / P_A\n",
    "\n",
    "print(f\"P(B|A) ≈ {P_B_given_A:.10f}\")\n"
   ]
  },
  {
   "attachments": {},
   "cell_type": "markdown",
   "metadata": {},
   "source": [
    "# C. Плоский мир\n",
    "\n",
    "При каких значения параметров a<math display=\"inline\" style=\"text-indent: 0em;\" xmlns=\"http://www.w3.org/1998/Math/MathML\"><mi>a</mi></math> и b<math display=\"inline\" style=\"text-indent: 0em;\" xmlns=\"http://www.w3.org/1998/Math/MathML\"><mi>b</mi></math> все векторы из линейной оболочки следующих векторов ⎧⎪⎨⎪⎩⎛⎜⎝11−1⎞⎟⎠,⎛⎜⎝35−2⎞⎟⎠,⎛⎜⎝−42a⎞⎟⎠,⎛⎜⎝40b⎞⎟⎠⎫⎪⎬⎪⎭<math display=\"block\" style=\"text-indent: 0em;\" xmlns=\"http://www.w3.org/1998/Math/MathML\"> <mfenced close=\"}\" open=\"{\" separators=\"\"><mrow><mfenced close=\")\" open=\"(\" separators=\"\"><mrow> <mtable columnlines=\"\" equalcolumns=\"false\" equalrows=\"false\" style=\"text-align: axis;\"><mtr><mtd columnalign=\"center\"> <mn>1</mn> </mtd></mtr><mtr><mtd columnalign=\"center\"><mn>1</mn></mtd> </mtr><mtr><mtd columnalign=\"center\"> <mo>−</mo> <mn>1</mn></mtd></mtr><!--c--></mtable> </mrow></mfenced><mo>,</mo> <mfenced close=\")\" open=\"(\" separators=\"\"><mrow> <mtable columnlines=\"\" equalcolumns=\"false\" equalrows=\"false\" style=\"text-align: axis;\"><mtr><mtd columnalign=\"center\"> <mn>3</mn> </mtd></mtr><mtr><mtd columnalign=\"center\"> <mn>5</mn></mtd> </mtr><mtr><mtd columnalign=\"center\"> <mo>−</mo> <mn>2</mn></mtd></mtr><!--c--></mtable> </mrow></mfenced><mo>,</mo> <mfenced close=\")\" open=\"(\" separators=\"\"><mrow> <mtable columnlines=\"\" equalcolumns=\"false\" equalrows=\"false\" style=\"text-align: axis;\"><mtr><mtd columnalign=\"center\"> <mo>−</mo> <mn>4</mn></mtd></mtr><mtr><mtd columnalign=\"center\"> <mn>2</mn></mtd> </mtr><mtr><mtd columnalign=\"center\"> <mi>a</mi> </mtd></mtr><!--c--></mtable> </mrow></mfenced><mo>,</mo> <mfenced close=\")\" open=\"(\" separators=\"\"><mrow> <mtable columnlines=\"\" equalcolumns=\"false\" equalrows=\"false\" style=\"text-align: axis;\"><mtr><mtd columnalign=\"left\"><mn>4</mn></mtd></mtr><mtr><mtd columnalign=\"left\"><mn>0</mn></mtd> </mtr><mtr><mtd columnalign=\"left\"><mi>b</mi> </mtd></mtr><!--l--></mtable> </mrow></mfenced></mrow></mfenced> </math>\n",
    "\n",
    "лежат в одной плоскости?  \n",
    "Запишите уравнение плоскости, которой они параллельны, вида Ax−y+Cz+D\\=0,<math display=\"inline\" style=\"text-indent: 0em;\" xmlns=\"http://www.w3.org/1998/Math/MathML\"><mi>A</mi><mi>x</mi> <mo>−</mo> <mi>y</mi> <mo>+</mo> <mi>C</mi><mi>z</mi> <mo>+</mo> <mi>D</mi> <mo>=</mo> <mn>0</mn><mo>,</mo></math> если мы знаем, что плоскость проходит через точку с координатами (0,0,1)<math display=\"inline\" style=\"text-indent: 0em;\" xmlns=\"http://www.w3.org/1998/Math/MathML\"><mrow><mo>(</mo><mrow><mn>0</mn><mo>,</mo><mspace width=\"2.77626pt\"><mn>0</mn><mo>,</mo><mspace width=\"2.77626pt\"><mn>1</mn></mspace></mspace></mrow><mo>)</mo></mrow></math>, а длина вектора (A,−1,C,D)<math display=\"inline\" style=\"text-indent: 0em;\" xmlns=\"http://www.w3.org/1998/Math/MathML\"><mrow><mo>(</mo><mrow><mi>A</mi><mo>,</mo><mo>−</mo><mn>1</mn><mo>,</mo><mi>C</mi><mo>,</mo><mi>D</mi></mrow><mo>)</mo></mrow></math> равна √18<math display=\"inline\" style=\"text-indent: 0em;\" xmlns=\"http://www.w3.org/1998/Math/MathML\"><msqrt><mrow><mn>1</mn><mn>8</mn></mrow></msqrt></math>.\n",
    "\n",
    "В качестве ответа введите следующую сумму искомых коэффициентов: a+b+A−1+C+D<math display=\"inline\" style=\"text-indent: 0em;\" xmlns=\"http://www.w3.org/1998/Math/MathML\"><mi>a</mi> <mo>+</mo> <mi>b</mi> <mo>+</mo> <mi>A</mi> <mo>−</mo> <mn>1</mn> <mo>+</mo> <mi>C</mi> <mo>+</mo> <mi>D</mi></math>.\n",
    "\n",
    "Если ответа не существует или он неоднозначен, введите 42<math display=\"inline\" style=\"text-indent: 0em;\" xmlns=\"http://www.w3.org/1998/Math/MathML\"><mn>4</mn><mn>2</mn></math>.\n",
    "\n",
    "Введите ответ (одно вещественное число, разделитель — точка), округлённый до десяти знаков после запятой.  \n",
    "\n",
    "Введенное вами число должно отличаться от правильного ответа не более чем на 10−9<math display=\"inline\" style=\"text-indent: 0em;\" xmlns=\"http://www.w3.org/1998/Math/MathML\"><mn>1</mn><msup><mrow><mn>0</mn></mrow><mrow><mo>−</mo><mn>9</mn></mrow></msup></math>."
   ]
  },
  {
   "cell_type": "code",
   "execution_count": 3,
   "metadata": {},
   "outputs": [
    {
     "name": "stdout",
     "output_type": "stream",
     "text": [
      "Result: 42.0000000000\n"
     ]
    }
   ],
   "source": [
    "import numpy as np\n",
    "\n",
    "# Define the vectors\n",
    "v1 = np.array([1, 1, -1])\n",
    "v2 = np.array([3, 5, -2])\n",
    "v3 = np.array([-4, 2, 0])\n",
    "v4 = np.array([4, 0, 0])\n",
    "\n",
    "# Find the normal vector of the plane\n",
    "normal = np.cross(v1 - v2, v1 - v3)\n",
    "\n",
    "# Check if the fourth vector is in the same plane\n",
    "condition = np.dot(normal, v4 - v1)\n",
    "\n",
    "if condition == 0:\n",
    "    A, B, C = normal\n",
    "\n",
    "    # The plane passes through (0, 0, 1)\n",
    "    D = -(A * 0 + B * 0 + C * 1)\n",
    "\n",
    "    # Vector (A, -1, C, D)\n",
    "    vec = np.array([A, -1, C, D])\n",
    "\n",
    "    # Check if the length of the vector is equal to sqrt(18)\n",
    "    if np.isclose(np.linalg.norm(vec), np.sqrt(18)):\n",
    "        # Finding a and b\n",
    "        a = 2 * C / A\n",
    "        b = D / A\n",
    "\n",
    "        # Calculate the final answer\n",
    "        result = a + b + A - 1 + C + D\n",
    "    else:\n",
    "        result = 42\n",
    "else:\n",
    "    result = 42\n",
    "\n",
    "print(f\"Result: {result:.10f}\")\n"
   ]
  },
  {
   "attachments": {},
   "cell_type": "markdown",
   "metadata": {},
   "source": [
    "# D. Условности\n",
    "\n",
    "Пусть X<math display=\"inline\" style=\"text-indent: 0em;\" xmlns=\"http://www.w3.org/1998/Math/MathML\"><mi>X</mi></math> имеет равномерное распределение на \\[−3,2\\]<math display=\"inline\" style=\"text-indent: 0em;\" xmlns=\"http://www.w3.org/1998/Math/MathML\"><mrow><mo>\\[</mo><mrow> <mo>−</mo> <mn>3</mn><mo>,</mo><mspace width=\"2.77626pt\"><mn>2</mn></mspace></mrow><mo>\\]</mo></mrow></math>, а условное распределение Y|X<math display=\"inline\" style=\"text-indent: 0em;\" xmlns=\"http://www.w3.org/1998/Math/MathML\"><mi>Y</mi> <mo>|</mo><mi>X</mi></math> задаётся следующим образом: Y∣∣X∼U\\[−1,X3\\]X≥0<math display=\"block\" style=\"text-indent: 0em;\" xmlns=\"http://www.w3.org/1998/Math/MathML\"> <mi>Y</mi> <mo>|</mo><mi>X</mi> <mo>∼</mo> <mi>U</mi><mrow><mo>\\[</mo><mrow><mo>−</mo><mn>1</mn><mo>,</mo><mspace width=\"2.77626pt\"><msup><mrow><mi>X</mi></mrow><mrow><mn>3</mn></mrow></msup></mspace></mrow><mo>\\]</mo></mrow><mspace width=\"1em\"><mi>X</mi> <mo>≥</mo> <mn>0</mn> </mspace></math>\n",
    "\n",
    "{P(Y\\=X|X\\=x)\\=13P(Y\\=−X|X\\=x)\\=23X<0<math display=\"block\" style=\"text-indent: 0em;\" xmlns=\"http://www.w3.org/1998/Math/MathML\"> <mfenced close=\"\" open=\"{\" separators=\"\"><mrow> <mtable columnlines=\"none\" equalcolumns=\"false\" equalrows=\"false\" style=\"text-align: axis;\"><mtr><mtd columnalign=\"left\"><mi>ℙ</mi><mrow><mo>(</mo><mrow><mi>Y</mi> <mo>=</mo> <mi>X</mi><mo>|</mo><mi>X</mi> <mo>=</mo> <mi>x</mi></mrow><mo>)</mo></mrow> <mo>=</mo> <mfrac><mrow><mn>1</mn></mrow> <mrow><mn>3</mn></mrow></mfrac> <mspace width=\"1em\"></mspace></mtd> </mtr><mtr><mtd columnalign=\"left\"><mi>ℙ</mi><mrow><mo>(</mo><mrow><mi>Y</mi> <mo>=</mo> <mo>−</mo><mi>X</mi><mo>|</mo><mi>X</mi> <mo>=</mo> <mi>x</mi></mrow><mo>)</mo></mrow> <mo>=</mo> <mfrac><mrow><mn>2</mn></mrow> <mrow><mn>3</mn></mrow></mfrac><mspace width=\"1em\"></mspace></mtd></mtr><!--@{}l@{\\\\quad }l@{}--></mtable> </mrow></mfenced> <mspace width=\"1em\"><mi>X</mi> <mo>&lt;</mo> <mn>0</mn> </mspace></math>\n",
    "\n",
    "Найдите матожидание Y<math display=\"inline\" style=\"text-indent: 0em;\" xmlns=\"http://www.w3.org/1998/Math/MathML\"><mi>Y</mi> </math>.\n",
    "\n",
    "Если матожидания не существует, введите 42<math display=\"inline\" style=\"text-indent: 0em;\" xmlns=\"http://www.w3.org/1998/Math/MathML\"><mn>4</mn><mn>2</mn></math>.\n",
    "\n",
    "Введите ответ (одно вещественное число, разделитель — точка), округлённый до десяти знаков после запятой.\n",
    "\n",
    "Введенное вами число должно отличаться от правильного ответа не более чем на 10−9<math display=\"inline\" style=\"text-indent: 0em;\" xmlns=\"http://www.w3.org/1998/Math/MathML\"><mn>1</mn><msup><mrow><mn>0</mn></mrow><mrow><mo>−</mo><mn>9</mn></mrow></msup></math>."
   ]
  },
  {
   "cell_type": "code",
   "execution_count": 4,
   "metadata": {},
   "outputs": [
    {
     "name": "stdout",
     "output_type": "stream",
     "text": [
      "Expected value of Y: 0.5000000000\n"
     ]
    }
   ],
   "source": [
    "import numpy as np\n",
    "from scipy.integrate import quad\n",
    "\n",
    "# Define the conditional expectation functions\n",
    "def f1(x):\n",
    "    return x / 3\n",
    "\n",
    "def f2(x):\n",
    "    return (-x) * 2 / 3\n",
    "\n",
    "def f3(x):\n",
    "    return (-1 + x**3) / 2\n",
    "\n",
    "# Define the PDF of X\n",
    "def pdf_x(x):\n",
    "    return 1 / 5\n",
    "\n",
    "# Define the integrands for the expectation\n",
    "def integrand1(x):\n",
    "    return f1(x) * pdf_x(x)\n",
    "\n",
    "def integrand2(x):\n",
    "    return f2(x) * pdf_x(x)\n",
    "\n",
    "def integrand3(x):\n",
    "    return f3(x) * pdf_x(x)\n",
    "\n",
    "# Calculate the expected value of Y\n",
    "E_Y = quad(integrand1, -3, 0)[0] + quad(integrand2, -3, 0)[0] + quad(integrand3, 0, 2)[0]\n",
    "\n",
    "print(f\"Expected value of Y: {E_Y:.10f}\")\n"
   ]
  },
  {
   "cell_type": "markdown",
   "metadata": {},
   "source": []
  },
  {
   "cell_type": "code",
   "execution_count": 5,
   "metadata": {},
   "outputs": [
    {
     "name": "stdout",
     "output_type": "stream",
     "text": [
      "c1 = 45.9777722881, c2 = -43.9777722881\n",
      "Точная нижняя граница множества искомых значений параметра: -43.9777722881\n"
     ]
    }
   ],
   "source": [
    "import numpy as np\n",
    "\n",
    "# Коэффициенты квадратного уравнения\n",
    "a, b, c = 1, -2, -2022\n",
    "\n",
    "# Вычисляем дискриминант\n",
    "D = b**2 - 4 * a * c\n",
    "\n",
    "# Находим корни уравнения\n",
    "c1 = (-b + np.sqrt(D)) / (2 * a)\n",
    "c2 = (-b - np.sqrt(D)) / (2 * a)\n",
    "\n",
    "# Выводим результаты с округлением до 10 знаков после запятой\n",
    "print(f\"c1 = {c1:.10f}, c2 = {c2:.10f}\")\n",
    "\n",
    "# Выбираем наименьший корень\n",
    "answer = min(c1, c2)\n",
    "\n",
    "print(f\"Точная нижняя граница множества искомых значений параметра: {answer:.10f}\")\n"
   ]
  },
  {
   "cell_type": "code",
   "execution_count": 8,
   "metadata": {},
   "outputs": [
    {
     "name": "stdout",
     "output_type": "stream",
     "text": [
      "Точная нижняя грань множества искомых значений параметра c: 42.0000000000\n"
     ]
    }
   ],
   "source": [
    "from sympy import Matrix, symbols, Eq, solve, Interval\n",
    "\n",
    "c = symbols('c')\n",
    "matrix = Matrix([[-1, 1, c],\n",
    "                 [1, c, 1],\n",
    "                 [c, 1, -1]])\n",
    "\n",
    "# Находим главные миноры матрицы\n",
    "minor1 = matrix[0, 0]\n",
    "minor2 = matrix[:2, :2].det()\n",
    "minor3 = matrix.det()\n",
    "\n",
    "# Условие положительной определенности: все главные миноры должны быть положительными\n",
    "condition1 = minor1 > 0\n",
    "condition2 = minor2 > 0\n",
    "condition3 = minor3 > 0\n",
    "\n",
    "# Находим решения системы неравенств\n",
    "solutions = solve((condition1, condition2, condition3), c, domain='RR')\n",
    "\n",
    "# Если множество искомых значений пусто, возвращаем 42\n",
    "if not solutions:\n",
    "    lower_bound = 42\n",
    "else:\n",
    "    lower_bound = solutions[0].args[1]\n",
    "\n",
    "print(f\"Точная нижняя грань множества искомых значений параметра c: {lower_bound:.10f}\")\n"
   ]
  },
  {
   "cell_type": "code",
   "execution_count": 9,
   "metadata": {},
   "outputs": [
    {
     "name": "stdout",
     "output_type": "stream",
     "text": [
      "Точная нижняя грань множества значений параметра c: -0.4142135624\n"
     ]
    }
   ],
   "source": [
    "import math\n",
    "\n",
    "lower_bound = 1 - math.sqrt(2)\n",
    "print(f\"Точная нижняя грань множества значений параметра c: {lower_bound:.10f}\")\n"
   ]
  },
  {
   "cell_type": "code",
   "execution_count": 15,
   "metadata": {},
   "outputs": [
    {
     "name": "stdout",
     "output_type": "stream",
     "text": [
      "Искомый диапазон значений параметра c: (1.0000000000, -1.0000000000)\n"
     ]
    }
   ],
   "source": [
    "from sympy import symbols, Eq, solve\n",
    "\n",
    "c = symbols(\"c\")\n",
    "expr1 = c**2 - 1\n",
    "expr2 = 2*c - c**2 - 1\n",
    "expr3 = c**2 - c - 1\n",
    "\n",
    "# Решаем неравенства\n",
    "solution1 = solve(Eq(expr1, 0), c)\n",
    "solution2 = solve(Eq(expr2, 0), c)\n",
    "solution3 = solve(Eq(expr3, 0), c)\n",
    "\n",
    "# Находим пересечение интервалов\n",
    "c_min = max(solution2[0], solution3[0])\n",
    "c_max = min(solution1[0], solution1[1])\n",
    "\n",
    "print(f\"Искомый диапазон значений параметра c: ({c_min:.10f}, {c_max:.10f})\")\n"
   ]
  },
  {
   "cell_type": "code",
   "execution_count": 24,
   "metadata": {},
   "outputs": [
    {
     "name": "stdout",
     "output_type": "stream",
     "text": [
      "Искомый диапазон значений параметра c: (-0.0004943154, 0.0004943154)\n"
     ]
    }
   ],
   "source": [
    "from sympy import symbols, Eq, solve\n",
    "\n",
    "c = symbols(\"c\")\n",
    "expr1 = c**2 - 1\n",
    "expr2 = 2*c - c**2 - 1\n",
    "expr3 = c**2 - c - 1\n",
    "\n",
    "# Решаем неравенства\n",
    "solution1 = solve(Eq(expr1, 0), c)\n",
    "solution2 = solve(Eq(expr2, 0), c)\n",
    "solution3 = solve(Eq(expr3, 0), c)\n",
    "\n",
    "# Находим пересечение интервалов и домножаем на -1/2023\n",
    "c_min = max(solution2[0], solution3[0]) / -2023\n",
    "c_max = min(solution1[0], solution1[1]) / -2023\n",
    "\n",
    "print(f\"Искомый диапазон значений параметра c: ({c_min:.10f}, {c_max:.10f})\")\n"
   ]
  },
  {
   "cell_type": "code",
   "execution_count": 23,
   "metadata": {},
   "outputs": [
    {
     "ename": "TypeError",
     "evalue": "Cannot interpret '0.000494315373208107' as a data type",
     "output_type": "error",
     "traceback": [
      "\u001b[1;31m---------------------------------------------------------------------------\u001b[0m",
      "\u001b[1;31mTypeError\u001b[0m                                 Traceback (most recent call last)",
      "Cell \u001b[1;32mIn[23], line 9\u001b[0m\n\u001b[0;32m      6\u001b[0m     \u001b[39mreturn\u001b[39;00m \u001b[39mall\u001b[39m(val \u001b[39m>\u001b[39m \u001b[39m0\u001b[39m \u001b[39mfor\u001b[39;00m val \u001b[39min\u001b[39;00m eigvals)\n\u001b[0;32m      8\u001b[0m \u001b[39m# Проверяем, что все собственные значения положительны для любого значения c из искомого диапазона\u001b[39;00m\n\u001b[1;32m----> 9\u001b[0m c_values \u001b[39m=\u001b[39m np\u001b[39m.\u001b[39;49mlinspace(c_max, c_min, num\u001b[39m=\u001b[39;49m\u001b[39m10\u001b[39;49m)\n\u001b[0;32m     10\u001b[0m \u001b[39mfor\u001b[39;00m c_val \u001b[39min\u001b[39;00m c_values:\n\u001b[0;32m     11\u001b[0m     \u001b[39massert\u001b[39;00m check_eigenvalues_positive(c_val), \u001b[39mf\u001b[39m\u001b[39m\"\u001b[39m\u001b[39mОшибка: найдено отрицательное собственное значение для c = \u001b[39m\u001b[39m{\u001b[39;00mc_val\u001b[39m}\u001b[39;00m\u001b[39m\"\u001b[39m\n",
      "File \u001b[1;32m<__array_function__ internals>:180\u001b[0m, in \u001b[0;36mlinspace\u001b[1;34m(*args, **kwargs)\u001b[0m\n",
      "File \u001b[1;32mc:\\Users\\Alex\\AppData\\Local\\Programs\\Python\\Python310\\lib\\site-packages\\numpy\\core\\function_base.py:130\u001b[0m, in \u001b[0;36mlinspace\u001b[1;34m(start, stop, num, endpoint, retstep, dtype, axis)\u001b[0m\n\u001b[0;32m    127\u001b[0m start \u001b[39m=\u001b[39m asanyarray(start) \u001b[39m*\u001b[39m \u001b[39m1.0\u001b[39m\n\u001b[0;32m    128\u001b[0m stop  \u001b[39m=\u001b[39m asanyarray(stop)  \u001b[39m*\u001b[39m \u001b[39m1.0\u001b[39m\n\u001b[1;32m--> 130\u001b[0m dt \u001b[39m=\u001b[39m result_type(start, stop, \u001b[39mfloat\u001b[39;49m(num))\n\u001b[0;32m    131\u001b[0m \u001b[39mif\u001b[39;00m dtype \u001b[39mis\u001b[39;00m \u001b[39mNone\u001b[39;00m:\n\u001b[0;32m    132\u001b[0m     dtype \u001b[39m=\u001b[39m dt\n",
      "File \u001b[1;32m<__array_function__ internals>:180\u001b[0m, in \u001b[0;36mresult_type\u001b[1;34m(*args, **kwargs)\u001b[0m\n",
      "\u001b[1;31mTypeError\u001b[0m: Cannot interpret '0.000494315373208107' as a data type"
     ]
    }
   ],
   "source": [
    "import numpy as np\n",
    "\n",
    "def check_eigenvalues_positive(c):\n",
    "    B = np.array([[-1, 1, c], [1, c, 1], [c, 1, -1]], dtype=float)\n",
    "    eigvals = np.linalg.eigvals(2023 * B) / 2023\n",
    "    return all(val > 0 for val in eigvals)\n",
    "\n",
    "# Проверяем, что все собственные значения положительны для любого значения c из искомого диапазона\n",
    "c_values = np.linspace(c_max, c_min, num=10)\n",
    "for c_val in c_values:\n",
    "    assert check_eigenvalues_positive(c_val), f\"Ошибка: найдено отрицательное собственное значение для c = {c_val}\"\n"
   ]
  },
  {
   "attachments": {},
   "cell_type": "markdown",
   "metadata": {},
   "source": [
    "# F. Cимметрия\n",
    "\n",
    "Пусть задан многочлен f(x)\\=x3−ax2−3x+3a,<math display=\"block\" style=\"text-indent: 0em;\" xmlns=\"http://www.w3.org/1998/Math/MathML\"> <mi>f</mi><mrow><mo>(</mo><mrow><mi>x</mi></mrow><mo>)</mo></mrow> <mo>=</mo> <msup><mrow><mi>x</mi></mrow><mrow><mn>3</mn></mrow></msup> <mo>−</mo> <mi>a</mi><msup><mrow><mi>x</mi></mrow><mrow><mn>2</mn></mrow></msup> <mo>−</mo> <mn>3</mn><mi>x</mi> <mo>+</mo> <mn>3</mn><mi>a</mi><mo>,</mo> </math>\n",
    "\n",
    "где a∈\\[−√3,√3\\].<math display=\"inline\" style=\"text-indent: 0em;\" xmlns=\"http://www.w3.org/1998/Math/MathML\"><mi>a</mi> <mo>∈</mo><mspace width=\"2.77626pt\"><mrow><mo>\\[</mo><mrow><mo>−</mo><msqrt><mrow><mn>3</mn></mrow></msqrt><mo>,</mo><msqrt><mrow><mn>3</mn></mrow></msqrt></mrow><mo>\\]</mo></mrow><mo>.</mo></mspace></math> Найдите оптимальное a<math display=\"inline\" style=\"text-indent: 0em;\" xmlns=\"http://www.w3.org/1998/Math/MathML\"><mi>a</mi></math> такое, что площадь, ограниченная графиком многочлена и прямой y\\=x−a,<math display=\"inline\" style=\"text-indent: 0em;\" xmlns=\"http://www.w3.org/1998/Math/MathML\"><mi>y</mi> <mo>=</mo> <mi>x</mi> <mo>−</mo> <mi>a</mi><mo>,</mo></math> максимальна.\n",
    "\n",
    "В ответе укажите значение площади при найденном оптимальном a<math display=\"inline\" style=\"text-indent: 0em;\" xmlns=\"http://www.w3.org/1998/Math/MathML\"><mi>a</mi></math>.\n",
    "\n",
    "Если искомое значение не существует, введите 42<math display=\"inline\" style=\"text-indent: 0em;\" xmlns=\"http://www.w3.org/1998/Math/MathML\"><mn>4</mn><mn>2</mn></math>.\n",
    "\n",
    "Введите ответ (одно вещественное число, разделитель — точка), округлённый до десяти знаков после запятой.\n",
    "\n",
    "Введенное вами число должно отличаться от правильного ответа не более чем на 10−9<math display=\"inline\" style=\"text-indent: 0em;\" xmlns=\"http://www.w3.org/1998/Math/MathML\"><mn>1</mn><msup><mrow><mn>0</mn></mrow><mrow><mo>−</mo><mn>9</mn></mrow></msup></math>."
   ]
  },
  {
   "cell_type": "markdown",
   "metadata": {},
   "source": [
    "Пусть задан многочлен f(x)\\=x3−ax2−3x+3a,<math display=\"block\" style=\"text-indent: 0em;\" xmlns=\"http://www.w3.org/1998/Math/MathML\"> <mi>f</mi><mrow><mo>(</mo><mrow><mi>x</mi></mrow><mo>)</mo></mrow> <mo>=</mo> <msup><mrow><mi>x</mi></mrow><mrow><mn>3</mn></mrow></msup> <mo>−</mo> <mi>a</mi><msup><mrow><mi>x</mi></mrow><mrow><mn>2</mn></mrow></msup> <mo>−</mo> <mn>3</mn><mi>x</mi> <mo>+</mo> <mn>3</mn><mi>a</mi><mo>,</mo> </math>\n",
    "\n",
    "где a∈\\[−√3,√3\\].<math display=\"inline\" style=\"text-indent: 0em;\" xmlns=\"http://www.w3.org/1998/Math/MathML\"><mi>a</mi> <mo>∈</mo><mspace width=\"2.77626pt\"><mrow><mo>\\[</mo><mrow><mo>−</mo><msqrt><mrow><mn>3</mn></mrow></msqrt><mo>,</mo><msqrt><mrow><mn>3</mn></mrow></msqrt></mrow><mo>\\]</mo></mrow><mo>.</mo></mspace></math> Найдите оптимальное a<math display=\"inline\" style=\"text-indent: 0em;\" xmlns=\"http://www.w3.org/1998/Math/MathML\"><mi>a</mi></math> такое, что площадь, ограниченная графиком многочлена и прямой y\\=x−a,<math display=\"inline\" style=\"text-indent: 0em;\" xmlns=\"http://www.w3.org/1998/Math/MathML\"><mi>y</mi> <mo>=</mo> <mi>x</mi> <mo>−</mo> <mi>a</mi><mo>,</mo></math> максимальна.\n",
    "\n",
    "В ответе укажите значение площади при найденном оптимальном a<math display=\"inline\" style=\"text-indent: 0em;\" xmlns=\"http://www.w3.org/1998/Math/MathML\"><mi>a</mi></math>.\n",
    "\n",
    "Если искомое значение не существует, введите 42<math display=\"inline\" style=\"text-indent: 0em;\" xmlns=\"http://www.w3.org/1998/Math/MathML\"><mn>4</mn><mn>2</mn></math>.\n",
    "\n",
    "Введите ответ (одно вещественное число, разделитель — точка), округлённый до десяти знаков после запятой.\n",
    "\n",
    "Введенное вами число должно отличаться от правильного ответа не более чем на 10−9<math display=\"inline\" style=\"text-indent: 0em;\" xmlns=\"http://www.w3.org/1998/Math/MathML\"><mn>1</mn><msup><mrow><mn>0</mn></mrow><mrow><mo>−</mo><mn>9</mn></mrow></msup></math>."
   ]
  },
  {
   "cell_type": "code",
   "execution_count": 27,
   "metadata": {},
   "outputs": [
    {
     "name": "stdout",
     "output_type": "stream",
     "text": [
      "Оптимальное значение a: 1.73205\n",
      "Площадь при оптимальном значении a: 6.75000\n"
     ]
    },
    {
     "data": {
      "image/png": "[encoded data removed]",
      "text/plain": [
       "<Figure size 640x480 with 1 Axes>"
      ]
     },
     "metadata": {},
     "output_type": "display_data"
    }
   ],
   "source": [
    "import numpy as np\n",
    "import matplotlib.pyplot as plt\n",
    "\n",
    "def f(x, a):\n",
    "    return x**3 - a*x**2 - 3*x + 3*a\n",
    "\n",
    "def plot_f(a):\n",
    "    x = np.linspace(-2, 2, num=1000)\n",
    "    y = f(x, a)\n",
    "    plt.plot(x, y, label=f'$f(x) = x^3 - {a}x^2 - 3x + {3*a}$')\n",
    "    plt.plot(x, x - a, label=f'$y = x - {a}$')\n",
    "    plt.legend()\n",
    "\n",
    "def area(a):\n",
    "    b = np.roots([1, -a, -3, 3*a])\n",
    "    b = np.real(b[np.isreal(b)])\n",
    "    assert len(b) == 1\n",
    "    b = b[0]\n",
    "    S_ABC = (a - f(a, a))**2 / 2\n",
    "    S_ABD, _ = quad(lambda x: f(x, a) - (x - a), 0, a)\n",
    "    S = S_ABC + S_ABD\n",
    "    return S\n",
    "\n",
    "a_opt = np.sqrt(3)\n",
    "S_opt = area(a_opt)\n",
    "print(f'Оптимальное значение a: {a_opt:.5f}')\n",
    "print(f'Площадь при оптимальном значении a: {S_opt:.5f}')\n",
    "\n",
    "plot_f(a_opt)\n",
    "plt.show()\n"
   ]
  },
  {
   "cell_type": "code",
   "execution_count": 26,
   "metadata": {},
   "outputs": [
    {
     "name": "stdout",
     "output_type": "stream",
     "text": [
      "Оптимальное значение a: 1.73205\n",
      "Площадь при оптимальном значении a: 25.50000\n"
     ]
    },
    {
     "data": {
      "image/png": "[encoded data removed]",
      "text/plain": [
       "<Figure size 640x480 with 1 Axes>"
      ]
     },
     "metadata": {},
     "output_type": "display_data"
    }
   ],
   "source": [
    "import numpy as np\n",
    "import matplotlib.pyplot as plt\n",
    "from scipy.integrate import quad\n",
    "\n",
    "def f(x, a):\n",
    "    return x**3 - a*x**2 - 3*x + 3*a\n",
    "\n",
    "def plot_f(a):\n",
    "    x = np.linspace(-2, 2, num=1000)\n",
    "    y = f(x, a)\n",
    "    plt.plot(x, y, label=f'$f(x) = x^3 - {a}x^2 - 3x + {3*a}$')\n",
    "    plt.plot(x, x - a, label=f'$y = x - {a}$')\n",
    "    plt.legend()\n",
    "\n",
    "def area(a):\n",
    "    b = np.roots([1, -a, -3, 3*a])\n",
    "    b = np.real(b[np.isreal(b)])\n",
    "    assert len(b) == 1\n",
    "    b = b[0]\n",
    "    S_ABC = (a - f(a, a))**2 / 2\n",
    "    S_ABD, _ = quad(lambda x: f(x, a) - (x - a), b, a)\n",
    "    S_ACD, _ = quad(lambda x: x - a, a, b)\n",
    "    S = S_ABC + S_ABD + S_ACD\n",
    "    return S\n",
    "\n",
    "a_opt = np.sqrt(3)\n",
    "S_opt = area(a_opt)\n",
    "print(f'Оптимальное значение a: {a_opt:.5f}')\n",
    "print(f'Площадь при оптимальном значении a: {S_opt:.5f}')\n",
    "\n",
    "plot_f(a_opt)\n",
    "plt.show()\n"
   ]
  },
  {
   "attachments": {},
   "cell_type": "markdown",
   "metadata": {},
   "source": [
    "# G. Побег\n",
    "\n",
    "Вы бы хотели отправится в туристическую поездку на самолёте в город A. Есть всего 3 города B,C,D, из которых можно улететь в A. Попарные длины дорог между ними 4,4,6. Расстояние между B и C равно 6. Иногда перелёты в A невозможны из конкретного города. Вероятности улететь в A из B,C,D равны 1/2,1/3,2/3 соответственно. В случае, если вылет невозможен, вы равновероятно едете на машине в соседние города и пытаетесь улететь оттуда.\n",
    "\n",
    "Какое расстояние мы преодолеем в среднем прежде чем улетим в A? В зависимости от начального города мы получим 3 возможных ответа.\n",
    "\n",
    "В качестве ответа введите сумму 3 полученных расстояний."
   ]
  },
  {
   "cell_type": "code",
   "execution_count": 32,
   "metadata": {},
   "outputs": [
    {
     "name": "stdout",
     "output_type": "stream",
     "text": [
      "16.5833333333\n"
     ]
    }
   ],
   "source": [
    "def distance_to_A():\n",
    "    # Вероятности улететь из каждого города в A\n",
    "    p_B_to_A = 1/2\n",
    "    p_C_to_A = 1/3\n",
    "    p_D_to_A = 2/3\n",
    "\n",
    "    # Расстояния между городами\n",
    "    d_BC = 6\n",
    "    d_BD = 4\n",
    "    d_CD = 4\n",
    "\n",
    "    # Среднее количество перелетов (или езды на машине), чтобы улететь в A из каждого города\n",
    "    E_B = 4*p_B_to_A + 1/4*(d_BC + 3*p_C_to_A + 2/3*(d_BC + 6*p_B_to_A) + 2/3*(d_BD + 4*p_B_to_A))\n",
    "    E_C = 3*p_C_to_A + 1/3*(d_BC + 2/3*(d_BC + 6*p_B_to_A + 3*p_D_to_A))\n",
    "    E_D = 3*p_D_to_A + 1/3*(d_BD + 2/3*(d_BD + 4*p_B_to_A + 3*p_C_to_A))\n",
    "\n",
    "    # Среднее расстояние, которое мы преодолеем прежде чем улетим в A\n",
    "    return E_B + E_C + E_D\n",
    "\n",
    "print(round(distance_to_A(), 10))  # должно вывести 17.33\n"
   ]
  },
  {
   "attachments": {},
   "cell_type": "markdown",
   "metadata": {},
   "source": [
    "# H. В обратную\n",
    "\n",
    "Найдите производную обратной функции к данной g(t)\\=∫1 2t √(1+x^2)*dx,t∈R в точке 0."
   ]
  },
  {
   "attachments": {},
   "cell_type": "markdown",
   "metadata": {},
   "source": [
    "Начнем с вычисления значения функции `g(t)` в точке `t=0`. Подставляя `t=0` в интеграл, получаем:\n",
    "\n",
    "$$\n",
    "g(0) = \\int_1^0 \\sqrt{1+x^2}\\,dx = -\\int_0^1 \\sqrt{1+x^2}\\,dx\n",
    "$$\n",
    "\n",
    "Перейдем к вычислению производной обратной функции в точке `x = g(0)`. Обозначим `y = g(t)`. Тогда по определению обратной функции имеем `t = g^{-1}(y)`, откуда\n",
    "\n",
    "$$\n",
    "\\frac{dx}{dy} = \\frac{1}{\\frac{dy}{dx}} = \\frac{1}{g'(t)} = \\frac{1}{\\sqrt{1+(g(t))^2}}\n",
    "$$\n",
    "\n",
    "Осталось найти `g'(t)`. Используем формулу Ньютона-Лейбница:\n",
    "\n",
    "$$\n",
    "g'(t) = \\frac{d}{dt}\\int_1^{2t} \\sqrt{1+x^2}\\,dx = 2\\sqrt{1+(2t)^2}\n",
    "$$\n",
    "\n",
    "Тогда производная обратной функции в точке `x = g(0)` равна:\n",
    "\n",
    "$$\n",
    "\\frac{dx}{dy}\\Bigg|_{y=g(0)} = \\frac{1}{g'(t)}\\Bigg|_{t=0} = \\frac{1}{2\\sqrt{1+(2\\cdot0)^2}} = \\frac{1}{2}\n",
    "$$\n",
    "\n",
    "Таким образом, производная обратной функции в точке `x = g(0)` равна `1/2`."
   ]
  },
  {
   "cell_type": "code",
   "execution_count": 33,
   "metadata": {},
   "outputs": [
    {
     "name": "stdout",
     "output_type": "stream",
     "text": [
      "0\n"
     ]
    }
   ],
   "source": [
    "import sympy as sp\n",
    "\n",
    "# Задаём переменные\n",
    "x, y = sp.symbols('x y')\n",
    "\n",
    "# Определяем функцию g(x)\n",
    "g = sp.integrate(sp.sqrt(1 + x**2), (x, 1, 2*y))\n",
    "\n",
    "# Находим производную g'(x)\n",
    "g_prime = g.diff(y)\n",
    "\n",
    "# Находим обратную функцию\n",
    "f = sp.solve(x - g_prime, y)[0]\n",
    "\n",
    "# Находим производную обратной функции в точке 0\n",
    "f_prime = f.diff(x).subs(x, 0)\n",
    "\n",
    "# Выводим ответ\n",
    "print(f_prime.evalf())\n"
   ]
  },
  {
   "cell_type": "code",
   "execution_count": 36,
   "metadata": {},
   "outputs": [
    {
     "ename": "NotImplementedError",
     "evalue": "multiple generators [y, asinh(2*y), sqrt(4*y**2 + 1)]\nNo algorithms are implemented to solve equation -t + y*sqrt(4*y**2 + 1) + asinh(2*y)/2 - sqrt(2)/2 - log(1 + sqrt(2))/2",
     "output_type": "error",
     "traceback": [
      "\u001b[1;31m---------------------------------------------------------------------------\u001b[0m",
      "\u001b[1;31mNotImplementedError\u001b[0m                       Traceback (most recent call last)",
      "Cell \u001b[1;32mIn[36], line 11\u001b[0m\n\u001b[0;32m      8\u001b[0m g \u001b[39m=\u001b[39m y\u001b[39m*\u001b[39msym\u001b[39m.\u001b[39msqrt(\u001b[39m4\u001b[39m\u001b[39m*\u001b[39my\u001b[39m*\u001b[39m\u001b[39m*\u001b[39m\u001b[39m2\u001b[39m \u001b[39m+\u001b[39m \u001b[39m1\u001b[39m) \u001b[39m+\u001b[39m sym\u001b[39m.\u001b[39masinh(\u001b[39m2\u001b[39m\u001b[39m*\u001b[39my)\u001b[39m/\u001b[39m\u001b[39m2\u001b[39m \u001b[39m-\u001b[39m sym\u001b[39m.\u001b[39msqrt(\u001b[39m2\u001b[39m)\u001b[39m/\u001b[39m\u001b[39m2\u001b[39m \u001b[39m-\u001b[39m sym\u001b[39m.\u001b[39mlog(\u001b[39m1\u001b[39m \u001b[39m+\u001b[39m sym\u001b[39m.\u001b[39msqrt(\u001b[39m2\u001b[39m))\u001b[39m/\u001b[39m\u001b[39m2\u001b[39m\n\u001b[0;32m     10\u001b[0m \u001b[39m# Находим производную обратной функции\u001b[39;00m\n\u001b[1;32m---> 11\u001b[0m g_inv \u001b[39m=\u001b[39m sym\u001b[39m.\u001b[39;49msolve(g \u001b[39m-\u001b[39;49m t, y)\n\u001b[0;32m     12\u001b[0m g_inv \u001b[39m=\u001b[39m g_inv\u001b[39m.\u001b[39margs[\u001b[39m0\u001b[39m] \u001b[39mif\u001b[39;00m \u001b[39mlen\u001b[39m(g_inv) \u001b[39m>\u001b[39m \u001b[39m0\u001b[39m \u001b[39melse\u001b[39;00m \u001b[39mNone\u001b[39;00m\n\u001b[0;32m     13\u001b[0m dgdt \u001b[39m=\u001b[39m sym\u001b[39m.\u001b[39mdiff(g_inv, t)\n",
      "File \u001b[1;32mc:\\Users\\Alex\\AppData\\Local\\Programs\\Python\\Python310\\lib\\site-packages\\sympy\\solvers\\solvers.py:1112\u001b[0m, in \u001b[0;36msolve\u001b[1;34m(f, *symbols, **flags)\u001b[0m\n\u001b[0;32m   1108\u001b[0m \u001b[39m#\u001b[39;00m\n\u001b[0;32m   1109\u001b[0m \u001b[39m# try to get a solution\u001b[39;00m\n\u001b[0;32m   1110\u001b[0m \u001b[39m###########################################################################\u001b[39;00m\n\u001b[0;32m   1111\u001b[0m \u001b[39mif\u001b[39;00m bare_f:\n\u001b[1;32m-> 1112\u001b[0m     solution \u001b[39m=\u001b[39m _solve(f[\u001b[39m0\u001b[39m], \u001b[39m*\u001b[39msymbols, \u001b[39m*\u001b[39m\u001b[39m*\u001b[39mflags)\n\u001b[0;32m   1113\u001b[0m \u001b[39melse\u001b[39;00m:\n\u001b[0;32m   1114\u001b[0m     solution \u001b[39m=\u001b[39m _solve_system(f, symbols, \u001b[39m*\u001b[39m\u001b[39m*\u001b[39mflags)\n",
      "File \u001b[1;32mc:\\Users\\Alex\\AppData\\Local\\Programs\\Python\\Python310\\lib\\site-packages\\sympy\\solvers\\solvers.py:1744\u001b[0m, in \u001b[0;36m_solve\u001b[1;34m(f, *symbols, **flags)\u001b[0m\n\u001b[0;32m   1741\u001b[0m \u001b[39m# ----------- end of fallback ----------------------------\u001b[39;00m\n\u001b[0;32m   1743\u001b[0m \u001b[39mif\u001b[39;00m result \u001b[39mis\u001b[39;00m \u001b[39mFalse\u001b[39;00m:\n\u001b[1;32m-> 1744\u001b[0m     \u001b[39mraise\u001b[39;00m \u001b[39mNotImplementedError\u001b[39;00m(\u001b[39m'\u001b[39m\u001b[39m\\n\u001b[39;00m\u001b[39m'\u001b[39m\u001b[39m.\u001b[39mjoin([msg, not_impl_msg \u001b[39m%\u001b[39m f]))\n\u001b[0;32m   1746\u001b[0m \u001b[39mif\u001b[39;00m flags\u001b[39m.\u001b[39mget(\u001b[39m'\u001b[39m\u001b[39msimplify\u001b[39m\u001b[39m'\u001b[39m, \u001b[39mTrue\u001b[39;00m):\n\u001b[0;32m   1747\u001b[0m     result \u001b[39m=\u001b[39m \u001b[39mlist\u001b[39m(\u001b[39mmap\u001b[39m(simplify, result))\n",
      "\u001b[1;31mNotImplementedError\u001b[0m: multiple generators [y, asinh(2*y), sqrt(4*y**2 + 1)]\nNo algorithms are implemented to solve equation -t + y*sqrt(4*y**2 + 1) + asinh(2*y)/2 - sqrt(2)/2 - log(1 + sqrt(2))/2"
     ]
    }
   ],
   "source": [
    "import sympy as sym\n",
    "\n",
    "# Определяем символьную переменную t\n",
    "t = sym.symbols('t')\n",
    "\n",
    "# Определяем функцию g\n",
    "y = sym.symbols('y')\n",
    "g = y*sym.sqrt(4*y**2 + 1) + sym.asinh(2*y)/2 - sym.sqrt(2)/2 - sym.log(1 + sym.sqrt(2))/2\n",
    "\n",
    "# Находим производную обратной функции\n",
    "g_inv = sym.solve(g - t, y)\n",
    "g_inv = g_inv.args[0] if len(g_inv) > 0 else None\n",
    "dgdt = sym.diff(g_inv, t)\n",
    "\n",
    "# Вычисляем значение производной в точке t=0\n",
    "dgdt_0 = dgdt.subs(t, 0)\n",
    "\n",
    "print(f'g(t) = {g}')\n",
    "print(f'g_inv(y) = {g_inv}')\n",
    "print(f'dg_inv/dt(t=0) = {dgdt_0:.4f}')\n"
   ]
  },
  {
   "attachments": {},
   "cell_type": "markdown",
   "metadata": {},
   "source": [
    "Чтобы найти производную обратной функции к данной g(t), сначала мы должны выразить t как функцию от x. Затем мы найдем производную этой функции по x, а затем возьмем обратную к этой производной.\n",
    "\n",
    "Для начала, заметим, что g(t) задается интегралом:\n",
    "\n",
    "g(t) = ∫[1, 2t] √(1 + x^2) dx.\n",
    "\n",
    "Чтобы выразить t в виде функции от x, мы можем продифференцировать g(t) по t, используя правило дифференцирования интеграла с переменным верхним пределом:\n",
    "\n",
    "dg(t)/dt = 2√(1 + (2t)^2) * d(2t)/dt = 4√(1 + 4t^2).\n",
    "\n",
    "Теперь нам нужно найти обратную функцию к t(x), а затем найти производную этой обратной функции. Обратите внимание, что найти аналитическое выражение для обратной функции может быть сложно, и иногда это невозможно. Однако, поскольку нас просят найти производную обратной функции в точке 0, мы можем использовать следующую формулу, основанную на производной исходной функции:\n",
    "\n",
    "(dy/dx)^(-1) = dt/dy = 1 / (dy/dt).\n",
    "\n",
    "Здесь y = t^(-1)(x) - обратная функция к t(x). В нашем случае dy/dt = 4√(1 + 4t^2).\n",
    "\n",
    "Чтобы найти dy/dx в точке x = 0, мы должны определить значение t при x = 0. Из g(t) = ∫[1, 2t] √(1 + x^2) dx, мы знаем, что g(0) = ∫[1, 1] √(1 + x^2) dx = 0. Таким образом, точка (0, 0) лежит на графике обратной функции.\n",
    "\n",
    "Теперь мы можем вычислить dy/dx в точке x = 0:\n",
    "\n",
    "(dy/dx)^(-1) = 1 / (dy/dt) = 1 / (4√(1 + 4(0)^2)) = 1/4.\n",
    "\n",
    "Таким образом, производная обратной функции к данной функции g(t) в точке 0 равна 1/4."
   ]
  },
  {
   "cell_type": "code",
   "execution_count": 37,
   "metadata": {},
   "outputs": [
    {
     "name": "stdout",
     "output_type": "stream",
     "text": [
      "Производная обратной функции в точке 0 равна: 1/2\n"
     ]
    }
   ],
   "source": [
    "import sympy as sp\n",
    "\n",
    "t = sp.Symbol('t')\n",
    "x = sp.Symbol('x')\n",
    "\n",
    "# Определение функции g(t)\n",
    "g_t = sp.integrate(sp.sqrt(1 + x**2), (x, 1, 2*t))\n",
    "\n",
    "# Нахождение dg/dt\n",
    "dg_dt = sp.diff(g_t, t)\n",
    "\n",
    "# Нахождение обратной производной в точке 0\n",
    "dy_dt_at_t_0 = dg_dt.subs(t, 0)\n",
    "dy_dx = 1 / dy_dt_at_t_0\n",
    "\n",
    "print(\"Производная обратной функции в точке 0 равна:\", dy_dx)\n"
   ]
  },
  {
   "attachments": {},
   "cell_type": "markdown",
   "metadata": {},
   "source": [
    "# I. Корни\n",
    "\n",
    "Найдите предел lim x→+0 (sqrt(1/x + sqrt(1/x + sqrt(1/x)))- sqrt(1/x - sqrt(1/x + sqrt(1/x))) )."
   ]
  },
  {
   "attachments": {},
   "cell_type": "markdown",
   "metadata": {},
   "source": [
    "1"
   ]
  },
  {
   "cell_type": "code",
   "execution_count": 40,
   "metadata": {},
   "outputs": [
    {
     "name": "stdout",
     "output_type": "stream",
     "text": [
      "Предел выражения при x→+0 равен: 1\n"
     ]
    }
   ],
   "source": [
    "import sympy as sp\n",
    "\n",
    "x = sp.Symbol('x')\n",
    "\n",
    "\n",
    "expr =  (sp.sqrt(1/x + sp.sqrt(1/x + sp.sqrt(1/x)))- sp.sqrt(1/x - sp.sqrt(1/x + sp.sqrt(1/x))) )\n",
    "limit = sp.limit(expr, x, 0, dir='+')\n",
    "\n",
    "print(\"Предел выражения при x→+0 равен:\", limit)\n"
   ]
  },
  {
   "attachments": {},
   "cell_type": "markdown",
   "metadata": {},
   "source": [
    "# J. Микробы\n",
    "\n",
    "<table><tbody><tr class=\"time-limit\"><td class=\"property-title\">Ограничение времени</td><td>1&nbsp;секунда</td></tr><tr class=\"memory-limit\"><td class=\"property-title\">Ограничение памяти</td><td>256Mb</td></tr><tr class=\"input-file\"><td class=\"property-title\">Ввод</td><td colspan=\"1\">стандартный ввод или input.txt</td></tr><tr class=\"output-file\"><td class=\"property-title\">Вывод</td><td colspan=\"1\">стандартный вывод или output.txt</td></tr></tbody></table>\n",
    "\n",
    "В лаборатории изучают <math display=\"inline\" style=\"text-indent: 0em;\" xmlns=\"http://www.w3.org/1998/Math/MathML\"><mi>k</mi></math> видов микробов. Одна чашечка Петри с <math display=\"inline\" style=\"text-indent: 0em;\" xmlns=\"http://www.w3.org/1998/Math/MathML\"><mi>i</mi></math>\\-м видом микробов стоит <math display=\"inline\" style=\"text-indent: 0em;\" xmlns=\"http://www.w3.org/1998/Math/MathML\"><msub><mrow><mi>c</mi></mrow><mrow><mi>i</mi></mrow></msub></math> рублей. У вас есть стол, состоящий из n<math display=\"inline\" style=\"text-indent: 0em;\" xmlns=\"http://www.w3.org/1998/Math/MathML\"><mi>n</mi></math> последовательно пронумерованных ячеек под чашечки Петри. Расстоянием между ячейками назовем разность их номеров.\n",
    "\n",
    "Требуется купить и расставить на стол n<math display=\"inline\" style=\"text-indent: 0em;\" xmlns=\"http://www.w3.org/1998/Math/MathML\"><mi>n</mi></math> чашечек Петри за минимальную стоимость со следующим ограничением: чашечки Петри с одним видом микробов должны находится друг от друга на расстоянии как минимум k<math display=\"inline\" style=\"text-indent: 0em;\" xmlns=\"http://www.w3.org/1998/Math/MathML\"><mi>k</mi></math>."
   ]
  },
  {
   "attachments": {},
   "cell_type": "markdown",
   "metadata": {},
   "source": [
    "<table><tbody><tr class=\"time-limit\"><td class=\"property-title\">Ограничение времени</td><td>1&nbsp;секунда</td></tr><tr class=\"memory-limit\"><td class=\"property-title\">Ограничение памяти</td><td>256Mb</td></tr><tr class=\"input-file\"><td class=\"property-title\">Ввод</td><td colspan=\"1\">стандартный ввод или input.txt</td></tr><tr class=\"output-file\"><td class=\"property-title\">Вывод</td><td colspan=\"1\">стандартный вывод или output.txt</td></tr></tbody></table>\n",
    "\n",
    "В лаборатории изучают k видов микробов. Одна чашечка Петри с i-м видом микробов стоит ci рублей. У вас есть стол, состоящий из n последовательно пронумерованных ячеек под чашечки Петри. Расстоянием между ячейками назовем разность их номеров.\n",
    "Требуется купить и расставить на стол n чашечек Петри за минимальную стоимость со следующим ограничением: чашечки Петри с одним видом микробов должны находится друг от друга на расстоянии как минимум k.\n",
    "\n",
    "Формат ввода\n",
    "В первой строке находятся два целых числа k(1≤k≤5) и n(1≤n≤10^5). В следующей строке следуют \n",
    "k целых чисел ci(1≤ci≤10^5).\n",
    "\n",
    "Пример 1\n",
    "Ввод\t\n",
    "3 5        \n",
    "1 2 3\n",
    "\n",
    "Вывод\n",
    "9\n",
    "\n",
    "Пример 2\n",
    "Ввод\t\n",
    "\n",
    "5 6\n",
    "9 3 4 1 10\n",
    "\n",
    "Вывод\n",
    "28\n",
    "\n",
    "Пример 3\n",
    "Ввод\n",
    "3 1\n",
    "1 1 1\n",
    "\n",
    "Вывод\n",
    "1"
   ]
  },
  {
   "cell_type": "code",
   "execution_count": 43,
   "metadata": {},
   "outputs": [
    {
     "ename": "ValueError",
     "evalue": "too many values to unpack (expected 2)",
     "output_type": "error",
     "traceback": [
      "\u001b[1;31m---------------------------------------------------------------------------\u001b[0m",
      "\u001b[1;31mValueError\u001b[0m                                Traceback (most recent call last)",
      "Cell \u001b[1;32mIn[43], line 18\u001b[0m\n\u001b[0;32m     14\u001b[0m     \u001b[39mreturn\u001b[39;00m min_cost\n\u001b[0;32m     17\u001b[0m \u001b[39m# Чтение ввода\u001b[39;00m\n\u001b[1;32m---> 18\u001b[0m k, n \u001b[39m=\u001b[39m \u001b[39mmap\u001b[39m(\u001b[39mint\u001b[39m, \u001b[39minput\u001b[39m()\u001b[39m.\u001b[39msplit())\n\u001b[0;32m     19\u001b[0m costs \u001b[39m=\u001b[39m \u001b[39mlist\u001b[39m(\u001b[39mmap\u001b[39m(\u001b[39mint\u001b[39m, \u001b[39minput\u001b[39m()\u001b[39m.\u001b[39msplit()))\n\u001b[0;32m     21\u001b[0m \u001b[39m# Решение и вывод\u001b[39;00m\n",
      "\u001b[1;31mValueError\u001b[0m: too many values to unpack (expected 2)"
     ]
    }
   ],
   "source": [
    "def min_cost(k, n, costs):\n",
    "    costs.sort()  # сортируем стоимости чашек по возрастанию\n",
    "    min_cost = 0\n",
    "    idx = 0\n",
    "\n",
    "    # Расставляем чашечки по столу\n",
    "    for i in range(n):\n",
    "        min_cost += costs[idx]  # добавляем стоимость текущей чашки\n",
    "        idx += 1\n",
    "\n",
    "        if idx == k:  # если прошли по всем видам микробов, возвращаемся к первому\n",
    "            idx = 0\n",
    "\n",
    "    return min_cost\n",
    "\n",
    "\n",
    "# Чтение ввода\n",
    "k, n = map(int, input().split())\n",
    "costs = list(map(int, input().split()))\n",
    "\n",
    "# Решение и вывод\n",
    "result = min_cost(k, n, costs)\n",
    "print(result)\n"
   ]
  },
  {
   "attachments": {},
   "cell_type": "markdown",
   "metadata": {},
   "source": [
    "# K. Настольная игра\n",
    "\n",
    "<table><tbody><tr class=\"time-limit\"><td class=\"property-title\">Ограничение времени</td><td>5&nbsp;секунд</td></tr><tr class=\"memory-limit\"><td class=\"property-title\">Ограничение памяти</td><td>256Mb</td></tr><tr class=\"input-file\"><td class=\"property-title\">Ввод</td><td colspan=\"1\">стандартный ввод или input.txt</td></tr><tr class=\"output-file\"><td class=\"property-title\">Вывод</td><td colspan=\"1\">стандартный вывод или output.txt</td></tr></tbody></table>\n",
    "\n",
    "Петя купил новую настолочку и перед первой партией с Васей решил внимательно продумать будущую стратегию игры.\n",
    "\n",
    "В этой игре нестандартные правила получения ресурсов. Объем получаемых на каждом ходу ресурсов является случайной величиной и определяется следующим образом:\n",
    "\n",
    "- Все n<math display=\"inline\" style=\"text-indent: 0em;\" xmlns=\"http://www.w3.org/1998/Math/MathML\"><mi>n</mi></math> (2≤n≤100<math display=\"inline\" style=\"text-indent: 0em;\" xmlns=\"http://www.w3.org/1998/Math/MathML\"><mn>2</mn> <mo>≤</mo> <mi>n</mi> <mo>≤</mo> <mn>1</mn><mn>0</mn><mn>0</mn></math>) шестигранных кубиков помещаются в непрозрачных мешок.\n",
    "- Игрок перемешивает кубики и вытягивает 2 из мешка.\n",
    "- Побрасывает два вытянутых кубика и определяет два числа a<math display=\"inline\" style=\"text-indent: 0em;\" xmlns=\"http://www.w3.org/1998/Math/MathML\"><mi>a</mi></math> и b<math display=\"inline\" style=\"text-indent: 0em;\" xmlns=\"http://www.w3.org/1998/Math/MathML\"><mi>b</mi></math> на верхних гранях.\n",
    "- Объем предоставляемых ресурсов равен (min(a,b))3<math display=\"inline\" style=\"text-indent: 0em;\" xmlns=\"http://www.w3.org/1998/Math/MathML\"><msup><mrow><mrow><mo>(</mo><mrow><mo>min</mo><mrow><mo>(</mo><mrow><mi>a</mi><mo>,</mo><mi>b</mi></mrow><mo>)</mo></mrow></mrow><mo>)</mo></mrow></mrow><mrow><mn>3</mn></mrow></msup></math>.\n",
    "\n",
    "Для составления стратегии Пете необходимо знать математическое ожидание предоставляемых на каждом ходу ресурсов.\n",
    "\n",
    "Для вычисления необходимого математического ожидания следует считать, что любую пару кубиков игрок может вытянуть равновероятно, и при подбрасывании кубиков каждая из граней оказывается верхней с равной вероятностью.\n",
    "\n",
    "## Формат ввода\n",
    "\n",
    "В первой строке задано одно число n<math display=\"inline\" style=\"text-indent: 0em;\" xmlns=\"http://www.w3.org/1998/Math/MathML\"><mi>n</mi></math> (2≤n≤100<math display=\"inline\" style=\"text-indent: 0em;\" xmlns=\"http://www.w3.org/1998/Math/MathML\"><mn>2</mn> <mo>≤</mo> <mi>n</mi> <mo>≤</mo> <mn>1</mn><mn>0</mn><mn>0</mn></math>).\n",
    "\n",
    "Далее в n<math display=\"inline\" style=\"text-indent: 0em;\" xmlns=\"http://www.w3.org/1998/Math/MathML\"><mi>n</mi></math> строках заданы описания граней кубиков: шесть целых числе aij<math display=\"inline\" style=\"text-indent: 0em;\" xmlns=\"http://www.w3.org/1998/Math/MathML\"><msub><mrow><mi>a</mi></mrow><mrow><mi>i</mi><mi>j</mi></mrow></msub></math> (1≤aij≤100<math display=\"inline\" style=\"text-indent: 0em;\" xmlns=\"http://www.w3.org/1998/Math/MathML\"><mn>1</mn> <mo>≤</mo> <msub><mrow><mi>a</mi></mrow><mrow><mi>i</mi><mi>j</mi></mrow></msub> <mo>≤</mo> <mn>1</mn><mn>0</mn><mn>0</mn></math>).\n",
    "\n",
    "## Формат вывода\n",
    "\n",
    "Ведите ответ на задачу. Ответ будет защитан, если относительная ошибка ответа не будет превосходить 10−4<math display=\"inline\" style=\"text-indent: 0em;\" xmlns=\"http://www.w3.org/1998/Math/MathML\"><mn>1</mn><msup><mrow><mn>0</mn></mrow><mrow><mo>−</mo><mn>4</mn></mrow></msup></math>."
   ]
  },
  {
   "attachments": {},
   "cell_type": "markdown",
   "metadata": {},
   "source": [
    "# K. Настольная игра\n",
    "\n",
    "<table><tbody><tr class=\"time-limit\"><td class=\"property-title\">Ограничение времени</td><td>5&nbsp;секунд</td></tr><tr class=\"memory-limit\"><td class=\"property-title\">Ограничение памяти</td><td>256Mb</td></tr><tr class=\"input-file\"><td class=\"property-title\">Ввод</td><td colspan=\"1\">стандартный ввод или input.txt</td></tr><tr class=\"output-file\"><td class=\"property-title\">Вывод</td><td colspan=\"1\">стандартный вывод или output.txt</td></tr></tbody></table>\n",
    "\n",
    "Петя купил новую настолочку и перед первой партией с Васей решил внимательно продумать будущую стратегию игры.\n",
    "\n",
    "В этой игре нестандартные правила получения ресурсов. Объем получаемых на каждом ходу ресурсов является случайной величиной и определяется следующим образом:\n",
    "\n",
    "1. Все n(2≤n≤100) шестигранных кубиков помещаются в непрозрачный мешок.\n",
    "2. Игрок перемешивает кубики и вытягивает 2 из мешка.\n",
    "3. Побрасывает два вытянутых кубика и определяет два числа a и b на верхних гранях.\n",
    "4. Объем предоставляемых ресурсов равен (min(a,b))^3.\n",
    "\n",
    "Для составления стратегии Пете необходимо знать математическое ожидание предоставляемых на каждом ходу ресурсов.\n",
    "\n",
    "Для вычисления необходимого математического ожидания следует считать, что любую пару кубиков игрок может вытянуть равновероятно, и при подбрасывании кубиков каждая из граней оказывается верхней с равной вероятностью.\n",
    "\n",
    "## Формат ввода\n",
    "\n",
    "В первой строке задано одно число n(2≤n≤100).\n",
    "Далее в n строках заданы описания граней кубиков: шесть целых числе aij(1≤aij≤100<).\n",
    "\n",
    "Пример 1:\n",
    "\n",
    "Ввод\n",
    "\n",
    "2\n",
    "1 2 3 4 5 6\n",
    "4 4 4 4 4 4\n",
    "\n",
    "Вывод\n",
    "38.000000\n",
    "\n",
    "Пример 2:\n",
    "Ввод\n",
    "\n",
    "3\n",
    "1 2 3 4 5 6\n",
    "4 4 4 4 4 4\n",
    "1 10 1 10 1 10\n",
    "\n",
    "Вывод\n",
    "35.916667\n",
    "\n",
    "Пример 3:\n",
    "\n",
    "Ввод\n",
    "\n",
    "4\n",
    "1 1 1 1 1 1\n",
    "3 3 3 3 3 3\n",
    "9 9 9 9 9 9\n",
    "5 5 5 5 5 5\n",
    "\n",
    "Вывод\n",
    "30.333333"
   ]
  },
  {
   "attachments": {},
   "cell_type": "markdown",
   "metadata": {},
   "source": [
    "у нас есть n 6-тигранных кубиков. На каждом ходу мы вытягиваем 2 кубика, бросаем их и получаем ресурсы, равные кубу меньшего числа на верхней грани. Нам нужно найти математическое ожидание ресурсов, которые мы получим за один ход. Количество кубиков n может быть от 2 до 100 включительно.\n",
    "\n",
    "Нам нужно написать код в питоне, который сначала будет брать на ввод количество кубиков n потом описания граней кубиков, а на выходе давать математическое ожидание ресурсов, которые мы получим за один ход.\n",
    "\n",
    "Каждая сторона кубика может принимать значения от 1 до 100 включительно. Например, если у нас есть два кубика n = 2, и их грани будут выглядеть так: 1 2 3 4 5 6 и 4 4 4 4 4 4, то мы должны получить математическое ожидание ресурсов, равное 38.000000.\n",
    "\n",
    "Пример 1:\n",
    "\n",
    "Ввод\n",
    "\n",
    "2\n",
    "1 2 3 4 5 6\n",
    "4 4 4 4 4 4\n",
    "\n",
    "Вывод\n",
    "38.000000\n",
    "\n",
    "Пример 2:\n",
    "Ввод\n",
    "\n",
    "3\n",
    "1 2 3 4 5 6\n",
    "4 4 4 4 4 4\n",
    "1 10 1 10 1 10\n",
    "\n",
    "Вывод\n",
    "35.916667\n",
    "\n",
    "Пример 3:\n",
    "\n",
    "Ввод\n",
    "\n",
    "4\n",
    "1 1 1 1 1 1\n",
    "3 3 3 3 3 3\n",
    "9 9 9 9 9 9\n",
    "5 5 5 5 5 5\n",
    "\n",
    "Вывод\n",
    "30.333333"
   ]
  },
  {
   "attachments": {},
   "cell_type": "markdown",
   "metadata": {},
   "source": [
    "# L. Мосты\n",
    "\n",
    "<table><tbody><tr class=\"time-limit\"><td class=\"property-title\">Ограничение времени</td><td>10&nbsp;секунд</td></tr><tr class=\"memory-limit\"><td class=\"property-title\">Ограничение памяти</td><td>256Mb</td></tr><tr class=\"input-file\"><td class=\"property-title\">Ввод</td><td colspan=\"1\">стандартный ввод или input.txt</td></tr><tr class=\"output-file\"><td class=\"property-title\">Вывод</td><td colspan=\"1\">стандартный вывод или output.txt</td></tr></tbody></table>\n",
    "\n",
    "Город состоит из n<math display=\"inline\" style=\"text-indent: 0em;\" xmlns=\"http://www.w3.org/1998/Math/MathML\"><mi>n</mi></math> перекрестков. Некоторые перекрестки соединены направленными дорогами. Над некоторыми дорогами проходят мосты. Для таких дорог задана максимальная высота автомобиля, который может проехать под данным мостом.\n",
    "\n",
    "Для каждой пары вершин u<math display=\"inline\" style=\"text-indent: 0em;\" xmlns=\"http://www.w3.org/1998/Math/MathML\"><mi>u</mi></math>, v<math display=\"inline\" style=\"text-indent: 0em;\" xmlns=\"http://www.w3.org/1998/Math/MathML\"><mi>v</mi></math> требуется найти максимальную высоту машины, которая может проехать от перекрестка u<math display=\"inline\" style=\"text-indent: 0em;\" xmlns=\"http://www.w3.org/1998/Math/MathML\"><mi>u</mi></math> до перекрестка v<math display=\"inline\" style=\"text-indent: 0em;\" xmlns=\"http://www.w3.org/1998/Math/MathML\"><mi>v</mi></math>.\n",
    "\n",
    "Если не существует пути между перекрестками, следует вывести 0. Если же нет ограничений на высоту машины, то требуется вывести 1000000007<math display=\"inline\" style=\"text-indent: 0em;\" xmlns=\"http://www.w3.org/1998/Math/MathML\"><mn>1</mn><mspace width=\"0.3em\"><mn>0</mn><mn>0</mn><mn>0</mn><mspace width=\"0.3em\"><mn>0</mn><mn>0</mn><mn>0</mn><mspace width=\"0.3em\"><mn>0</mn><mn>0</mn><mn>7</mn></mspace></mspace></mspace></math>.\n",
    "\n",
    "## Формат ввода\n",
    "\n",
    "В первой строке находится одно целое число n<math display=\"inline\" style=\"text-indent: 0em;\" xmlns=\"http://www.w3.org/1998/Math/MathML\"><mi>n</mi></math>(1≤n≤500)<math display=\"inline\" style=\"text-indent: 0em;\" xmlns=\"http://www.w3.org/1998/Math/MathML\"><mrow><mo>(</mo><mrow><mn>1</mn> <mo>≤</mo> <mi>n</mi> <mo>≤</mo> <mn>5</mn><mn>0</mn><mn>0</mn></mrow><mo>)</mo></mrow></math> — количество перекрестков в городе.\n",
    "\n",
    "Далее записана матрица смежности города: n<math display=\"inline\" style=\"text-indent: 0em;\" xmlns=\"http://www.w3.org/1998/Math/MathML\"><mi>n</mi></math> строк по n<math display=\"inline\" style=\"text-indent: 0em;\" xmlns=\"http://www.w3.org/1998/Math/MathML\"><mi>n</mi></math> чисел gi,j<math display=\"inline\" style=\"text-indent: 0em;\" xmlns=\"http://www.w3.org/1998/Math/MathML\"><msub><mrow><mi>g</mi></mrow><mrow><mi>i</mi><mo>,</mo><mi>j</mi></mrow></msub></math>(−1≤gi,j≤109)<math display=\"inline\" style=\"text-indent: 0em;\" xmlns=\"http://www.w3.org/1998/Math/MathML\"><mrow><mo>(</mo><mrow><mo>−</mo><mn>1</mn> <mo>≤</mo> <msub><mrow><mi>g</mi></mrow><mrow><mi>i</mi><mo>,</mo><mi>j</mi></mrow></msub> <mo>≤</mo> <mn>1</mn><msup><mrow><mn>0</mn></mrow><mrow><mn>9</mn></mrow></msup></mrow><mo>)</mo></mrow></math>. Если дороги между i<math display=\"inline\" style=\"text-indent: 0em;\" xmlns=\"http://www.w3.org/1998/Math/MathML\"><mi>i</mi></math>\\-м и j<math display=\"inline\" style=\"text-indent: 0em;\" xmlns=\"http://www.w3.org/1998/Math/MathML\"><mi>j</mi></math>\\-м перекрестком не существует, то gi,j\\=0<math display=\"inline\" style=\"text-indent: 0em;\" xmlns=\"http://www.w3.org/1998/Math/MathML\"><msub><mrow><mi>g</mi></mrow><mrow><mi>i</mi><mo>,</mo><mi>j</mi></mrow></msub> <mo>=</mo> <mn>0</mn></math>. Если же над дорогой не проходит мост, то gi,j\\=−1<math display=\"inline\" style=\"text-indent: 0em;\" xmlns=\"http://www.w3.org/1998/Math/MathML\"><msub><mrow><mi>g</mi></mrow><mrow><mi>i</mi><mo>,</mo><mi>j</mi></mrow></msub> <mo>=</mo> <mo>−</mo><mn>1</mn></math>.\n",
    "\n",
    "Гарантируется, что на главой диагонали матрицы g<math display=\"inline\" style=\"text-indent: 0em;\" xmlns=\"http://www.w3.org/1998/Math/MathML\"><mi>g</mi></math> все элементы нулевые.\n",
    "\n",
    "## Формат вывода\n",
    "\n",
    "Выведите ответ на задачу в виде матрицы ansu,v<math display=\"inline\" style=\"text-indent: 0em;\" xmlns=\"http://www.w3.org/1998/Math/MathML\"><mi>a</mi><mi>n</mi><msub><mrow><mi>s</mi></mrow><mrow><mi>u</mi><mo>,</mo><mi>v</mi></mrow></msub></math>, где ansu,v<math display=\"inline\" style=\"text-indent: 0em;\" xmlns=\"http://www.w3.org/1998/Math/MathML\"><mi>a</mi><mi>n</mi><msub><mrow><mi>s</mi></mrow><mrow><mi>u</mi><mo>,</mo><mi>v</mi></mrow></msub></math> равно максимальной высоте машины, которая может проехать от перекрестка u<math display=\"inline\" style=\"text-indent: 0em;\" xmlns=\"http://www.w3.org/1998/Math/MathML\"><mi>u</mi></math> до перекрестка v<math display=\"inline\" style=\"text-indent: 0em;\" xmlns=\"http://www.w3.org/1998/Math/MathML\"><mi>v</mi></math>.\n",
    "\n",
    "Если u\\=v<math display=\"inline\" style=\"text-indent: 0em;\" xmlns=\"http://www.w3.org/1998/Math/MathML\"><mi>u</mi> <mo>=</mo> <mi>v</mi></math> или нет ограничений на высоту машины, то будем считать ansu,v\\=1000000007<math display=\"inline\" style=\"text-indent: 0em;\" xmlns=\"http://www.w3.org/1998/Math/MathML\"><mi>a</mi><mi>n</mi><msub><mrow><mi>s</mi></mrow><mrow><mi>u</mi><mo>,</mo><mi>v</mi></mrow></msub> <mo>=</mo> <mn>1</mn><mspace width=\"0.3em\"><mn>0</mn><mn>0</mn><mn>0</mn><mspace width=\"0.3em\"><mn>0</mn><mn>0</mn><mn>0</mn><mspace width=\"0.3em\"><mn>0</mn><mn>0</mn><mn>7</mn></mspace></mspace></mspace></math>. Если же проехать от перекрестка u<math display=\"inline\" style=\"text-indent: 0em;\" xmlns=\"http://www.w3.org/1998/Math/MathML\"><mi>u</mi></math> до перекрестка v<math display=\"inline\" style=\"text-indent: 0em;\" xmlns=\"http://www.w3.org/1998/Math/MathML\"><mi>v</mi></math> невозможно, следует вывести 0<math display=\"inline\" style=\"text-indent: 0em;\" xmlns=\"http://www.w3.org/1998/Math/MathML\"><mn>0</mn></math>.\n",
    "\n",
    "### Пример 1\n",
    "\n",
    "| Ввод\n",
    " ![Скопировать ввод](//yastatic.net/lego/_/La6qi18Z8LwgnZdsAr1qy1GwCwo.gif) \n",
    "\n",
    " | Вывод\n",
    "\n",
    " ![Скопировать вывод](//yastatic.net/lego/_/La6qi18Z8LwgnZdsAr1qy1GwCwo.gif) \n",
    "\n",
    " |\n",
    "| --- | --- |\n",
    "| \n",
    "\n",
    "3\n",
    "0 1 18\n",
    "0 0 18\n",
    "1 2 0\n",
    "\n",
    "\n",
    " | \n",
    "\n",
    "1000000007 2 18 \n",
    "1 1000000007 18 \n",
    "1 2 1000000007 \n",
    "\n",
    "\n",
    " |\n",
    "\n",
    "### Пример 2\n",
    "\n",
    "| Ввод\n",
    " ![Скопировать ввод](//yastatic.net/lego/_/La6qi18Z8LwgnZdsAr1qy1GwCwo.gif) \n",
    "\n",
    " | Вывод\n",
    "\n",
    " ![Скопировать вывод](//yastatic.net/lego/_/La6qi18Z8LwgnZdsAr1qy1GwCwo.gif) \n",
    "\n",
    " |\n",
    "| --- | --- |\n",
    "| \n",
    "\n",
    "1\n",
    "0\n",
    "\n",
    "\n",
    " | \n",
    "\n",
    "1000000007 \n",
    "\n",
    "\n",
    " |\n",
    "\n",
    "### Пример 3\n",
    "\n",
    "| Ввод\n",
    " ![Скопировать ввод](//yastatic.net/lego/_/La6qi18Z8LwgnZdsAr1qy1GwCwo.gif) \n",
    "\n",
    " | Вывод\n",
    "\n",
    " ![Скопировать вывод](//yastatic.net/lego/_/La6qi18Z8LwgnZdsAr1qy1GwCwo.gif) \n",
    "\n",
    " |\n",
    "| --- | --- |\n",
    "| \n",
    "\n",
    "4\n",
    "0 13 11 37\n",
    "73 0 23 32\n",
    "18 12 0 7\n",
    "17 5 8 0\n",
    "\n",
    "\n",
    " | \n",
    "\n",
    "1000000007 13 13 37 \n",
    "73 1000000007 23 37 \n",
    "18 13 1000000007 18 \n",
    "17 13 13 1000000007 \n",
    "\n",
    " |"
   ]
  },
  {
   "attachments": {},
   "cell_type": "markdown",
   "metadata": {},
   "source": [
    "# L. Мосты\n",
    "Город состоит из n перекрестков. Некоторые перекрестки соединены направленными дорогами. Над некоторыми дорогами проходят мосты. Для таких дорог задана максимальная высота автомобиля, который может проехать под данным мостом.\n",
    "Для каждой пары вершин u, v требуется найти максимальную высоту машины, которая может проехать от перекрестка u до перекрестка v.\n",
    "Если не существует пути между перекрестками, следует вывести 0. Если же нет ограничений на высоту машины, то требуется вывести 1000000007.\n",
    "\n",
    "# Формат ввода\n",
    "В первой строке находится одно целое число n(1≤n≤500) — количество перекрестков в городе.\n",
    "Далее записана матрица сложности города: n строк по n чисел gi,j(−1≤gi,j≤10^9). Если дороги между i-м и j-м перекрестком не существует, то gi,j=0. Если же над дорогой не проходит мост, то gi,j=−1.\n",
    "\n",
    "Гарантируется, что на главой диагонали матрицы g все элементы нулевые.\n",
    "\n",
    "# Формат вывода\n",
    "Выведите ответ на задачу в виде матрицы ansu,v, где ansu,v равно максимальной высоте машины, которая может проехать от перекрестка u до перекрестка v.\n",
    "Если u=v или нет ограничений на высоту машины, то будем считать ansu,v=1000000007. Если же проехать от перекрестка u до перекрестка v невозможно, следует вывести 0.\n",
    "\n",
    "Пример 1\n",
    "Ввод:\n",
    "3\n",
    "0 1 18\n",
    "0 0 18\n",
    "1 2 0\n",
    "\n",
    "Вывод:\n",
    "1000000007 2 18 \n",
    "1 1000000007 18 \n",
    "1 2 1000000007 \n",
    "\n",
    "Пример 2\n",
    "Ввод:\n",
    "1\n",
    "0\n",
    "\n",
    "Вывод:\n",
    "1000000007 \n",
    "\n",
    "\n",
    "Пример 3\n",
    "Ввод: \n",
    "4\n",
    "0 13 11 37\n",
    "73 0 23 32\n",
    "18 12 0 7\n",
    "17 5 8 0\n",
    "\n",
    "Вывод:\n",
    "\n",
    "1000000007 13 13 37 \n",
    "73 1000000007 23 37 \n",
    "18 13 1000000007 18 \n",
    "17 13 13 1000000007 \n"
   ]
  },
  {
   "cell_type": "markdown",
   "metadata": {},
   "source": []
  },
  {
   "attachments": {},
   "cell_type": "markdown",
   "metadata": {},
   "source": [
    "Пусть на линейном пространстве размерности 3 над полем R задан линейный оператор A, в одном из базисов имеющий матрицу 3x3:\n",
    "\n",
    "Aф = \n",
    "[1 b^2-4 1-a^3\n",
    "1-a^2 0 1+a\n",
    "1-a^2 b^2-4 0]\n",
    "\n",
    "где  a,b ∈ R. Найдите пары значений (a,b) таких, что образ оператора A лежит в его ядре.\n",
    "В качестве ответа введите сумму попарных произведений модулей компонент искомых пар значений.\n",
    "К примеру, если вы нашли пары (1, -3) и (-2, 3), то то искомая сумма равна 1×|−3|+|−2|×3=9."
   ]
  }
 ],
 "metadata": {
  "kernelspec": {
   "display_name": "Python 3",
   "language": "python",
   "name": "python3"
  },
  "language_info": {
   "codemirror_mode": {
    "name": "ipython",
    "version": 3
   },
   "file_extension": ".py",
   "mimetype": "text/x-python",
   "name": "python",
   "nbconvert_exporter": "python",
   "pygments_lexer": "ipython3",
   "version": "3.10.11"
  },
  "orig_nbformat": 4
 },
 "nbformat": 4,
 "nbformat_minor": 2
}
