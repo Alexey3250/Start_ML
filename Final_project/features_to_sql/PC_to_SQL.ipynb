{
 "cells": [
  {
   "cell_type": "code",
   "execution_count": 1,
   "metadata": {},
   "outputs": [],
   "source": [
    "import pandas as pd\n",
    "import catboost as cb"
   ]
  },
  {
   "cell_type": "code",
   "execution_count": 2,
   "metadata": {},
   "outputs": [
    {
     "name": "stdout",
     "output_type": "stream",
     "text": [
      "Feed data shape: (15378483, 51)\n"
     ]
    }
   ],
   "source": [
    "# Чтение feed_data из csv файла\n",
    "feed_data = pd.read_csv(r'C:\\Users\\Alex\\Desktop\\data_for_training.csv')\n",
    "print(f\"Feed data shape: {feed_data.shape}\")"
   ]
  },
  {
   "cell_type": "code",
   "execution_count": 3,
   "metadata": {},
   "outputs": [
    {
     "name": "stdout",
     "output_type": "stream",
     "text": [
      "Memory usage per column (bytes):\n",
      "Index                           128\n",
      "user_id                   123027864\n",
      "post_id_x                 123027864\n",
      "action                    938087463\n",
      "target                    123027864\n",
      "gender                    123027864\n",
      "age                       123027864\n",
      "country                   123027864\n",
      "city                      123027864\n",
      "exp_group                 123027864\n",
      "os                        123027864\n",
      "source                    123027864\n",
      "topic                     123027864\n",
      "word_count                123027864\n",
      "sentence_count            123027864\n",
      "avg_word_length           123027864\n",
      "punctuation_count         123027864\n",
      "month                     123027864\n",
      "day_of_week               123027864\n",
      "hour_of_day               123027864\n",
      "time_since_last_action    123027864\n",
      "day_of_month              123027864\n",
      "year                      123027864\n",
      "user_views                123027864\n",
      "user_likes                123027864\n",
      "post_views                123027864\n",
      "post_likes                123027864\n",
      "0_exp_group_likes         123027864\n",
      "0_exp_group_views         123027864\n",
      "1_exp_group_likes         123027864\n",
      "1_exp_group_views         123027864\n",
      "2_exp_group_likes         123027864\n",
      "2_exp_group_views         123027864\n",
      "3_exp_group_likes         123027864\n",
      "3_exp_group_views         123027864\n",
      "4_exp_group_likes         123027864\n",
      "4_exp_group_views         123027864\n",
      "5_exp_group_likes         123027864\n",
      "5_exp_group_views         123027864\n",
      "6_exp_group_likes         123027864\n",
      "6_exp_group_views         123027864\n",
      "component_1               123027864\n",
      "component_2               123027864\n",
      "component_3               123027864\n",
      "component_4               123027864\n",
      "component_5               123027864\n",
      "component_6               123027864\n",
      "component_7               123027864\n",
      "component_8               123027864\n",
      "component_9               123027864\n",
      "component_10              123027864\n",
      "post_id_y                 123027864\n",
      "dtype: int64\n",
      "\n",
      "Total memory usage (bytes): 7089480791\n",
      "Total memory usage (gigabytes): 6.6025935030\n"
     ]
    }
   ],
   "source": [
    "# Calculate the memory usage of each column\n",
    "memory_usage_per_column = feed_data.memory_usage(deep=True)\n",
    "\n",
    "# Calculate the total memory usage\n",
    "total_memory_usage_bytes = memory_usage_per_column.sum()\n",
    "\n",
    "# Convert total memory usage to gigabytes\n",
    "total_memory_usage_gb = total_memory_usage_bytes / (1024 ** 3)\n",
    "\n",
    "# Print the memory usage\n",
    "print(f\"Memory usage per column (bytes):\\n{memory_usage_per_column}\\n\")\n",
    "print(f\"Total memory usage (bytes): {total_memory_usage_bytes}\")\n",
    "print(f\"Total memory usage (gigabytes): {total_memory_usage_gb:.10f}\")"
   ]
  },
  {
   "cell_type": "code",
   "execution_count": 4,
   "metadata": {},
   "outputs": [
    {
     "data": {
      "text/plain": [
       "Index(['user_id', 'post_id_x', 'action', 'target', 'gender', 'age', 'country',\n",
       "       'city', 'exp_group', 'os', 'source', 'topic', 'word_count',\n",
       "       'sentence_count', 'avg_word_length', 'punctuation_count', 'month',\n",
       "       'day_of_week', 'hour_of_day', 'time_since_last_action', 'day_of_month',\n",
       "       'year', 'user_views', 'user_likes', 'post_views', 'post_likes',\n",
       "       '0_exp_group_likes', '0_exp_group_views', '1_exp_group_likes',\n",
       "       '1_exp_group_views', '2_exp_group_likes', '2_exp_group_views',\n",
       "       '3_exp_group_likes', '3_exp_group_views', '4_exp_group_likes',\n",
       "       '4_exp_group_views', '5_exp_group_likes', '5_exp_group_views',\n",
       "       '6_exp_group_likes', '6_exp_group_views', 'component_1', 'component_2',\n",
       "       'component_3', 'component_4', 'component_5', 'component_6',\n",
       "       'component_7', 'component_8', 'component_9', 'component_10',\n",
       "       'post_id_y'],\n",
       "      dtype='object')"
      ]
     },
     "execution_count": 4,
     "metadata": {},
     "output_type": "execute_result"
    }
   ],
   "source": [
    "feed_data.columns"
   ]
  },
  {
   "cell_type": "code",
   "execution_count": 5,
   "metadata": {},
   "outputs": [],
   "source": [
    "def sample_10_percent(group):\n",
    "    frac = 0.1\n",
    "    return group.sample(frac=frac)\n",
    "\n",
    "feed_data = feed_data.groupby('user_id', group_keys=False).apply(sample_10_percent)"
   ]
  },
  {
   "cell_type": "code",
   "execution_count": 6,
   "metadata": {},
   "outputs": [
    {
     "name": "stdout",
     "output_type": "stream",
     "text": [
      "Memory usage per column (bytes):\n",
      "Index                     12303024\n",
      "user_id                   12303024\n",
      "post_id_x                 12303024\n",
      "action                    93810558\n",
      "target                    12303024\n",
      "gender                    12303024\n",
      "age                       12303024\n",
      "country                   12303024\n",
      "city                      12303024\n",
      "exp_group                 12303024\n",
      "os                        12303024\n",
      "source                    12303024\n",
      "topic                     12303024\n",
      "word_count                12303024\n",
      "sentence_count            12303024\n",
      "avg_word_length           12303024\n",
      "punctuation_count         12303024\n",
      "month                     12303024\n",
      "day_of_week               12303024\n",
      "hour_of_day               12303024\n",
      "time_since_last_action    12303024\n",
      "day_of_month              12303024\n",
      "year                      12303024\n",
      "user_views                12303024\n",
      "user_likes                12303024\n",
      "post_views                12303024\n",
      "post_likes                12303024\n",
      "0_exp_group_likes         12303024\n",
      "0_exp_group_views         12303024\n",
      "1_exp_group_likes         12303024\n",
      "1_exp_group_views         12303024\n",
      "2_exp_group_likes         12303024\n",
      "2_exp_group_views         12303024\n",
      "3_exp_group_likes         12303024\n",
      "3_exp_group_views         12303024\n",
      "4_exp_group_likes         12303024\n",
      "4_exp_group_views         12303024\n",
      "5_exp_group_likes         12303024\n",
      "5_exp_group_views         12303024\n",
      "6_exp_group_likes         12303024\n",
      "6_exp_group_views         12303024\n",
      "component_1               12303024\n",
      "component_2               12303024\n",
      "component_3               12303024\n",
      "component_4               12303024\n",
      "component_5               12303024\n",
      "component_6               12303024\n",
      "component_7               12303024\n",
      "component_8               12303024\n",
      "component_9               12303024\n",
      "component_10              12303024\n",
      "post_id_y                 12303024\n",
      "dtype: int64\n",
      "\n",
      "Total memory usage (bytes): 721264782\n",
      "Total memory usage (gigabytes): 0.6717301738\n"
     ]
    }
   ],
   "source": [
    "# Calculate the memory usage of each column\n",
    "memory_usage_per_column = feed_data.memory_usage(deep=True)\n",
    "\n",
    "# Calculate the total memory usage\n",
    "total_memory_usage_bytes = memory_usage_per_column.sum()\n",
    "\n",
    "# Convert total memory usage to gigabytes\n",
    "total_memory_usage_gb = total_memory_usage_bytes / (1024 ** 3)\n",
    "\n",
    "# Print the memory usage\n",
    "print(f\"Memory usage per column (bytes):\\n{memory_usage_per_column}\\n\")\n",
    "print(f\"Total memory usage (bytes): {total_memory_usage_bytes}\")\n",
    "print(f\"Total memory usage (gigabytes): {total_memory_usage_gb:.10f}\")"
   ]
  },
  {
   "cell_type": "code",
   "execution_count": 9,
   "metadata": {},
   "outputs": [
    {
     "data": {
      "text/plain": [
       "(1537878, 51)"
      ]
     },
     "execution_count": 9,
     "metadata": {},
     "output_type": "execute_result"
    }
   ],
   "source": [
    "feed_data.shape"
   ]
  },
  {
   "cell_type": "code",
   "execution_count": 10,
   "metadata": {},
   "outputs": [],
   "source": [
    "X = feed_data.drop(['action', 'target'], axis=1)"
   ]
  },
  {
   "cell_type": "code",
   "execution_count": 11,
   "metadata": {},
   "outputs": [
    {
     "name": "stdout",
     "output_type": "stream",
     "text": [
      "Memory usage per column (bytes):\n",
      "Index                     12303024\n",
      "user_id                   12303024\n",
      "post_id_x                 12303024\n",
      "gender                    12303024\n",
      "age                       12303024\n",
      "country                   12303024\n",
      "city                      12303024\n",
      "exp_group                 12303024\n",
      "os                        12303024\n",
      "source                    12303024\n",
      "topic                     12303024\n",
      "word_count                12303024\n",
      "sentence_count            12303024\n",
      "avg_word_length           12303024\n",
      "punctuation_count         12303024\n",
      "month                     12303024\n",
      "day_of_week               12303024\n",
      "hour_of_day               12303024\n",
      "time_since_last_action    12303024\n",
      "day_of_month              12303024\n",
      "year                      12303024\n",
      "user_views                12303024\n",
      "user_likes                12303024\n",
      "post_views                12303024\n",
      "post_likes                12303024\n",
      "0_exp_group_likes         12303024\n",
      "0_exp_group_views         12303024\n",
      "1_exp_group_likes         12303024\n",
      "1_exp_group_views         12303024\n",
      "2_exp_group_likes         12303024\n",
      "2_exp_group_views         12303024\n",
      "3_exp_group_likes         12303024\n",
      "3_exp_group_views         12303024\n",
      "4_exp_group_likes         12303024\n",
      "4_exp_group_views         12303024\n",
      "5_exp_group_likes         12303024\n",
      "5_exp_group_views         12303024\n",
      "6_exp_group_likes         12303024\n",
      "6_exp_group_views         12303024\n",
      "component_1               12303024\n",
      "component_2               12303024\n",
      "component_3               12303024\n",
      "component_4               12303024\n",
      "component_5               12303024\n",
      "component_6               12303024\n",
      "component_7               12303024\n",
      "component_8               12303024\n",
      "component_9               12303024\n",
      "component_10              12303024\n",
      "post_id_y                 12303024\n",
      "dtype: int64\n",
      "\n",
      "Total memory usage (bytes): 615151200\n",
      "Total memory usage (gigabytes): 0.5729041994\n"
     ]
    }
   ],
   "source": [
    "# Calculate the memory usage of each column\n",
    "memory_usage_per_column = X.memory_usage(deep=True)\n",
    "\n",
    "# Calculate the total memory usage\n",
    "total_memory_usage_bytes = memory_usage_per_column.sum()\n",
    "\n",
    "# Convert total memory usage to gigabytes\n",
    "total_memory_usage_gb = total_memory_usage_bytes / (1024 ** 3)\n",
    "\n",
    "# Print the memory usage\n",
    "print(f\"Memory usage per column (bytes):\\n{memory_usage_per_column}\\n\")\n",
    "print(f\"Total memory usage (bytes): {total_memory_usage_bytes}\")\n",
    "print(f\"Total memory usage (gigabytes): {total_memory_usage_gb:.10f}\")"
   ]
  },
  {
   "attachments": {},
   "cell_type": "markdown",
   "metadata": {},
   "source": [
    "Обрезали на 2.8 гига, теперь заливаем в SQL"
   ]
  },
  {
   "cell_type": "code",
   "execution_count": 12,
   "metadata": {},
   "outputs": [
    {
     "name": "stderr",
     "output_type": "stream",
     "text": [
      "Uploading to a-efimik_features_lesson_22_500MB: 100%|██████████| 154/154 [1:05:06<00:00, 25.36s/it]\n"
     ]
    }
   ],
   "source": [
    "from tqdm import tqdm\n",
    "import math\n",
    "import pandas as pd\n",
    "from sqlalchemy import create_engine\n",
    "import time\n",
    "\n",
    "def upload_dataframe_in_chunks(data, table_name, engine, chunksize=10000):\n",
    "    total_chunks = math.ceil(len(data) / chunksize)\n",
    "    for i in tqdm(range(total_chunks), desc=f\"Uploading to {table_name}\"):\n",
    "        chunk = data[i * chunksize : (i + 1) * chunksize]\n",
    "        if_exists = \"replace\" if i == 0 else \"append\"\n",
    "        chunk.to_sql(table_name, con=engine, if_exists=if_exists, index=False, method=\"multi\")\n",
    "\n",
    "\n",
    "engine = create_engine(\n",
    "    \"postgresql://robot-startml-ro:pheiph0hahj1Vaif@\"\n",
    "    \"postgres.lab.karpov.courses:6432/startml\"\n",
    ")\n",
    "chunksize = 10000\n",
    "upload_dataframe_in_chunks(X, \"a-efimik_features_lesson_22_500MB\", engine, chunksize=chunksize)"
   ]
  }
 ],
 "metadata": {
  "kernelspec": {
   "display_name": "Python 3",
   "language": "python",
   "name": "python3"
  },
  "language_info": {
   "codemirror_mode": {
    "name": "ipython",
    "version": 3
   },
   "file_extension": ".py",
   "mimetype": "text/x-python",
   "name": "python",
   "nbconvert_exporter": "python",
   "pygments_lexer": "ipython3",
   "version": "3.10.11"
  },
  "orig_nbformat": 4
 },
 "nbformat": 4,
 "nbformat_minor": 2
}
