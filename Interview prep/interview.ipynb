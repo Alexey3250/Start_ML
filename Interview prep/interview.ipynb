{
 "cells": [
  {
   "attachments": {},
   "cell_type": "markdown",
   "metadata": {},
   "source": [
    "# Собесы на ютюбе\n",
    "\n",
    "Полный список интервью с Карповым: https://www.youtube.com/watch?v=uMWuhEJ1obo&list=PLBRXq5Laddfyb7c4IJD4pjMtpsGSn132v&ab_channel=karpov.courses\n",
    "\n",
    "<img src=\"https://www.meme-arsenal.com/memes/3849cb627d7806e5e6aa7435832021ac.jpg\" width=\"100\" />\n",
    "\n",
    "## Аналитик данных\n",
    "\n",
    "https://youtu.be/Ec6EYbcF50k\n",
    "\n",
    "<iframe width=\"560\" height=\"315\" src=\"https://www.youtube.com/embed/Ec6EYbcF50k\" title=\"YouTube video player\" frameborder=\"0\" allow=\"accelerometer; autoplay; clipboard-write; encrypted-media; gyroscope; picture-in-picture\" allowfullscreen></iframe>\n",
    "\n",
    "Материалы, по которым соискатели готовились к собеседованию:\n",
    "\n",
    "Обзор системы сплитования (на примере Авито): https://habr.com/p/454164/\n",
    "\n",
    "Краткий обзор по статистическим тестам:\n",
    "https://vkteam.medium.com/practitioners-guide-to-statistical-tests-ed2d580ef04f\n",
    "\n",
    "Пуассоновский бутстрап:\n",
    "https://youtu.be/Zki9VMzxcFU\n",
    "\n",
    "Подсчёт MDE:\n",
    "https://medium.com/statistics-experiments/когда-останавливать-a-b-тест-часть-1-mde-7d39b668b488 (Часть 1)\n",
    "https://medium.com/statistics-experiments/когда-останавливать-a-b-тест-часть-2-monte-carlo-a342ba5b552c (Часть 2)\n",
    "\n",
    "Стратификация:\n",
    "https://habr.com/ru/company/X5Tech/blog/596279/\n",
    "\n",
    "Методы сокращения дисперсии и зачем это нужно: https://youtu.be/KvIJ8FCJzr4\n",
    "\n",
    "Увеличение чувствительности в A/B с помощью Cuped: https://youtu.be/pZpUM08mv-E\n",
    "\n",
    "Про FPR, TPR, Statistical power и p-value: \n",
    "\n",
    "https://youtu.be/XTcP4oo4JI4\n",
    "\n",
    "https://youtu.be/-zps6hm0nX8\n",
    "\n",
    "https://youtu.be/2nP_gcut7SU\n",
    "\n",
    "Канал для подготовки к интервью в сфере Data Science: https://www.youtube.com/c/DataInterviewPro\n",
    "Лекция Нерсеса Багияна про A/B-тесты: https://youtu.be/cWmS-ws4z9I\n",
    "Курс «Основы статистики»: https://stepik.org/course/76/syllabus\n",
    "Курс «Основы статистики. Часть 2»: https://stepik.org/course/524/syllabus\n",
    "Курс «Основы статистики. Часть 3»: https://stepik.org/course/2152/syllabus\n",
    "\n",
    "## Машинное обучение\n",
    "\n",
    "https://www.youtube.com/watch?v=3X-TAuWdIAc&ab_channel=karpov.courses \n",
    "\n",
    "<iframe width=\"560\" height=\"315\" src=\"https://www.youtube.com/embed/3X-TAuWdIAc\" title=\"YouTube video player\" frameborder=\"0\" allow=\"accelerometer; autoplay; clipboard-write; encrypted-media; gyroscope; picture-in-picture\" allowfullscreen></iframe>"
   ]
  },
  {
   "cell_type": "code",
   "execution_count": null,
   "metadata": {},
   "outputs": [],
   "source": []
  },
  {
   "attachments": {},
   "cell_type": "markdown",
   "metadata": {},
   "source": [
    "Дорогой [Creator of the Course],\n",
    "\n",
    "Недавно я посетил ваш курс по статистике и был впечатлен качеством содержания. Мне особенно понравились четкие объяснения и полезные примеры. Я также добавил много интерактивного кода и записал свои заметки в Jupiter notebook.\n",
    "\n",
    "Я узнал в недавнем интервью, что ваша компания хочет расшириться на англоязычный рынок, поэтому хочу предложить свои услуги по переводу вашего курса. Я владею русским и английским языками, и уверен, что перевод вашего курса на английский язык позволит большему количеству людей воспользоваться вашими знаниями и экспертизой.\n",
    "\n",
    "Если вас заинтересует это предложение, пожалуйста, сообщите мне, и я буду рад обсудить с вами детали.\n",
    "\n",
    "С уважением,\n",
    "[Ваше Имя]"
   ]
  }
 ],
 "metadata": {
  "kernelspec": {
   "display_name": "Python 3",
   "language": "python",
   "name": "python3"
  },
  "language_info": {
   "name": "python",
   "version": "3.10.9 (tags/v3.10.9:1dd9be6, Dec  6 2022, 20:01:21) [MSC v.1934 64 bit (AMD64)]"
  },
  "orig_nbformat": 4,
  "vscode": {
   "interpreter": {
    "hash": "cdaf845c447f5b8a88f1bde010b8054a6111556832cc2133cdddd7f2255dae56"
   }
  }
 },
 "nbformat": 4,
 "nbformat_minor": 2
}
