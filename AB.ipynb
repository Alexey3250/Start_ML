{
 "cells": [
  {
   "cell_type": "markdown",
   "metadata": {},
   "source": [
    "# Статистика и АБ тестиование"
   ]
  },
  {
   "cell_type": "markdown",
   "metadata": {},
   "source": [
    "# Урок 1: Повторение теории вероятностей"
   ]
  },
  {
   "cell_type": "markdown",
   "metadata": {},
   "source": [
    "## Баесовкая статистика - Условная вероятность"
   ]
  },
  {
   "cell_type": "markdown",
   "metadata": {},
   "source": [
    "Байесовская статистика — это подход к статистике, основанный на теореме Байеса, которая позволяет обновлять вероятности на основе новых данных. Этот подход отличается от классической (или частотной) статистики тем, что он предполагает, что вероятности являются не только свойствами случайных событий, но и могут быть присвоены гипотезам или любым неизвестным величинам.\n",
    "\n",
    "Формула Байеса — это ключевой принцип в байесовской статистике. Она позволяет обновлять априорные вероятности (вероятности, установленные до получения новых данных) с учетом новых данных для получения апостериорных вероятностей (вероятностей после учета новых данных).\n",
    "\n",
    "Формула Байеса выглядит следующим образом:\n",
    "\n",
    "$$\n",
    "P(A|B) = \\frac{P(B|A) \\cdot P(A)}{P(B)}\n",
    "$$\n",
    "\n",
    "где:\n",
    "\n",
    "- \\(P(A|B)\\) — апостериорная вероятность события A при условии B (вероятность гипотезы A после учета данных B).\n",
    "- \\(P(B|A)\\) — вероятность события B при условии A (вероятность данных B при условии, что гипотеза A верна).\n",
    "- \\(P(A)\\) — априорная вероятность события A (вероятность гипотезы A до учета данных).\n",
    "- \\(P(B)\\) — общая вероятность события B.\n",
    "\n",
    "Формула Байеса позволяет нам обновлять наши вероятностные представления о мире, когда появляются новые данные. Это делает ее мощным инструментом в многих областях, включая машинное обучение, искусственный интеллект, медицинскую диагностику и многое другое."
   ]
  },
  {
   "cell_type": "markdown",
   "metadata": {},
   "source": [
    "### Формулы которые можно вывести"
   ]
  },
  {
   "cell_type": "markdown",
   "metadata": {},
   "source": [
    "Формула Байеса является основной в байесовской статистике, и из неё можно вывести множество других формул и принципов. Вот некоторые из них:\n",
    "\n",
    "1. **Формула полной вероятности**: Если события \\(B_1, B_2, ..., B_n\\) образуют полную группу событий (то есть одно из этих событий обязательно произойдет, и они не могут произойти одновременно), тогда вероятность события \\(A\\) может быть выражена как:\n",
    "\n",
    "   $$\n",
    "   P(A) = \\sum_{i=1}^{n} P(A|B_i)P(B_i)\n",
    "   $$\n",
    "\n",
    "   Эта формула часто используется для вычисления знаменателя в формуле Байеса.\n",
    "\n",
    "2. **Формула для последовательного обновления вероятностей**: Если у нас есть серия данных \\(D_1, D_2, ..., D_n\\), мы можем последовательно обновлять нашу вероятность гипотезы \\(H\\) следующим образом:\n",
    "\n",
    "   $$\n",
    "   P(H|D_1, D_2, ..., D_n) = \\frac{P(D_n|H, D_1, D_2, ..., D_{n-1})P(H|D_1, D_2, ..., D_{n-1})}{P(D_n|D_1, D_2, ..., D_{n-1})}\n",
    "   $$\n",
    "\n",
    "   Это позволяет нам постепенно обновлять наши вероятности, по мере того как поступает новая информация.\n",
    "\n",
    "3. **Формула для множественных гипотез**: Если у нас есть несколько гипотез \\(H_1, H_2, ..., H_n\\), мы можем использовать формулу Байеса для каждой из них, чтобы обновить наши вероятности для каждой гипотезы на основе новых данных \\(D\\):\n",
    "\n",
    "   $$\n",
    "   P(H_i|D) = \\frac{P(D|H_i)P(H_i)}{\\sum_{j=1}^{n} P(D|H_j)P(H_j)}\n",
    "   $$\n",
    "\n",
    "   Это позволяет нам сравнивать и оценивать несколько гипотез одновременно."
   ]
  },
  {
   "cell_type": "markdown",
   "metadata": {},
   "source": [
    "## Случайные величины\n",
    "\n",
    "**Случайная величина** — это функция, которая каждому исходу случайного эксперимента ставит в соответствие число. Случайные величины бывают дискретными и непрерывными.\n",
    "\n",
    "1. **Дискретная случайная величина** принимает конечное или счетное количество значений. Если \\(X\\) — дискретная случайная величина, то её распределение можно описать с помощью функции вероятности \\(p(x) = P(X = x)\\), которая даёт вероятность того, что \\(X\\) принимает значение \\(x\\).\n",
    "\n",
    "2. **Непрерывная случайная величина** принимает любое значение из непрерывного диапазона значений. Если \\(X\\) — непрерывная случайная величина, то её распределение описывается с помощью функции плотности вероятности \\(f(x)\\), такой что вероятность того, что \\(X\\) принимает значение из некоторого интервала, равна интегралу \\(f(x)\\) по этому интервалу.\n",
    "\n",
    "**Характеристики случайных величин**:\n",
    "\n",
    "1. **Математическое ожидание (среднее значение)** — это среднее значение, которое случайная величина принимает в долгосрочной перспективе. Для дискретной случайной величины математическое ожидание \\(E[X]\\) вычисляется как \\(\\sum_{x} x \\cdot p(x)\\). Для непрерывной случайной величины используется интеграл вместо суммы: \\(E[X] = \\int_{-\\infty}^{\\infty} x \\cdot f(x) dx\\).\n",
    "\n",
    "2. **Дисперсия** — это мера разброса значений случайной величины вокруг ее математического ожидания. Дисперсия \\(Var[X]\\) вычисляется как \\(E[(X - E[X])^2]\\).\n",
    "\n",
    "3. **Стандартное отклонение** — это квадратный корень из дисперсии. Оно также измеряет разброс значений случайной величины, но на той же шкале, что и сама случайная величина: \\(\\sigma[X] = \\sqrt{Var[X]}\\).\n",
    "\n",
    "4. **Медиана** — это значение, которое делит распределение случайной величины на две равные части. Половина значений случайной величины меньше медианы, а другая половина — больше.\n",
    "\n",
    "5. **Мода** — это значение или значения, которые встречаются наиболее часто в распределении случайной величины."
   ]
  },
  {
   "cell_type": "markdown",
   "metadata": {},
   "source": [
    "## Задания"
   ]
  },
  {
   "cell_type": "markdown",
   "metadata": {},
   "source": [
    "**Задание 1.2 (классическая вероятность):**\n",
    "\n",
    "На экзамене есть 10 билетов, из которых 2 простые для студентов. У студента есть возможность достать 2 билета (одновременно) и отвечать по одному из них (студенты предпочитают простые билеты). Какова вероятность, что отвечать придётся на простой билет?\n",
    "\n",
    "**Решение:**\n",
    "\n",
    "1. Всего у нас есть 10 билетов, из которых 2 простых. Студент достаёт 2 билета, поэтому нам нужно найти вероятность того, что хотя бы один из этих билетов будет простым.\n",
    "\n",
    "2. Всего способов достать 2 билета из 10 равно \\(C_{10}^{2}\\), где \\(C_{n}^{k}\\) - это число сочетаний из \\(n\\) по \\(k\\). Вычисляем: \\(C_{10}^{2} = \\frac{10!}{2!(10-2)!} = 45\\).\n",
    "\n",
    "3. Способов достать 2 билета, оба из которых сложные, равно \\(C_{8}^{2}\\), так как у нас всего 8 сложных билетов. Вычисляем: \\(C_{8}^{2} = \\frac{8!}{2!(8-2)!} = 28\\).\n",
    "\n",
    "4. Тогда способов достать 2 билета так, чтобы хотя бы один из них был простым, равно \\(C_{10}^{2} - C_{8}^{2} = 45 - 28 = 17\\).\n",
    "\n",
    "5. Вероятность того, что хотя бы один из билетов будет простым, равна \\(\\frac{C_{10}^{2} - C_{8}^{2}}{C_{10}^{2}} = \\frac{17}{45} \\approx 0.378\\) или 37.8%.\n",
    "\n",
    "Таким образом, вероятность того, что студенту придётся отвечать на простой билет, составляет примерно 37.8%."
   ]
  },
  {
   "cell_type": "markdown",
   "metadata": {},
   "source": [
    "## Формула объединения вероятностей \n",
    "используется для вычисления вероятности того, что произойдет хотя бы одно из двух событий. Формула выглядит следующим образом:\n",
    "\n",
    "$$\n",
    "P(A \\cup B) = P(A) + P(B) - P(A \\cap B)\n",
    "$$\n",
    "\n",
    "где:\n",
    "\n",
    "- \\(P(A \\cup B)\\) — вероятность того, что произойдет событие A или событие B (или оба сразу),\n",
    "- \\(P(A)\\) и \\(P(B)\\) — вероятности событий A и B соответственно,\n",
    "- \\(P(A \\cap B)\\) — вероятность того, что произойдут оба события A и B одновременно.\n",
    "\n",
    "Последний член, \\(P(A \\cap B)\\), вычитается, чтобы скорректировать двойное подсчет вероятности, когда оба события происходят одновременно, так как мы добавляем \\(P(A)\\) и \\(P(B)\\) вместе."
   ]
  },
  {
   "cell_type": "markdown",
   "metadata": {},
   "source": [
    "В теории вероятностей и математике, символы \"∪\" (cup) и \"∩\" (cap) используются для обозначения операций объединения и пересечения множеств соответственно.\n",
    "\n",
    "1. **Объединение множеств (cup, ∪)**: Если у нас есть два множества \\(A\\) и \\(B\\), то их объединение, обозначаемое как \\(A \\cup B\\), это множество, которое содержит все элементы из \\(A\\) и все элементы из \\(B\\), включая те, которые принадлежат обоим множествам. \n",
    "\n",
    "   Например, если \\(A = \\{1, 2, 3\\}\\) и \\(B = \\{2, 3, 4\\}\\), то \\(A \\cup B = \\{1, 2, 3, 4\\}\\).\n",
    "\n",
    "2. **Пересечение множеств (cap, ∩)**: Если у нас есть два множества \\(A\\) и \\(B\\), то их пересечение, обозначаемое как \\(A \\cap B\\), это множество, которое содержит только те элементы, которые принадлежат обоим множествам.\n",
    "\n",
    "   Например, если \\(A = \\{1, 2, 3\\}\\) и \\(B = \\{2, 3, 4\\}\\), то \\(A \\cap B = \\{2, 3\\}\\).\n",
    "\n",
    "В контексте вероятностей, \\(P(A \\cup B)\\) обозначает вероятность того, что произойдет хотя бы одно из событий \\(A\\) или \\(B\\), а \\(P(A \\cap B)\\) обозначает вероятность того, что произойдут оба события \\(A\\) и \\(B\\)."
   ]
  },
  {
   "cell_type": "markdown",
   "metadata": {},
   "source": []
  },
  {
   "cell_type": "code",
   "execution_count": 2,
   "metadata": {},
   "outputs": [
    {
     "data": {
      "image/png": "[encoded data removed]",
      "text/plain": [
       "<Figure size 800x600 with 1 Axes>"
      ]
     },
     "metadata": {},
     "output_type": "display_data"
    }
   ],
   "source": [
    "import matplotlib.pyplot as plt\n",
    "import numpy as np\n",
    "\n",
    "# Исходные данные\n",
    "data = np.array([1, 3, 9, 2, 4, 0, 1, 5, -2, 12])\n",
    "\n",
    "# Вычисляем 0.7-ую квантиль\n",
    "quantile_07 = np.quantile(data, 0.7)\n",
    "\n",
    "# Создаем график\n",
    "plt.figure(figsize=(8, 6))\n",
    "plt.plot(data, 'o')\n",
    "plt.axhline(y=quantile_07, color='r', linestyle='-')\n",
    "plt.text(0, quantile_07, f'0.7-quantile: {quantile_07}', color = 'r', va='bottom')\n",
    "plt.title('0.7-quantile of the data')\n",
    "plt.xlabel('Index')\n",
    "plt.ylabel('Value')\n",
    "plt.grid(True)\n",
    "plt.show()\n"
   ]
  },
  {
   "cell_type": "code",
   "execution_count": 3,
   "metadata": {},
   "outputs": [
    {
     "name": "stdout",
     "output_type": "stream",
     "text": [
      "Вероятность того, что 100 или меньше клиентов продлят подписку: 1.7183404003299047e-52\n"
     ]
    },
    {
     "data": {
      "image/png": "[encoded data removed]",
      "text/plain": [
       "<Figure size 640x480 with 1 Axes>"
      ]
     },
     "metadata": {},
     "output_type": "display_data"
    }
   ],
   "source": [
    "import matplotlib.pyplot as plt\n",
    "import numpy as np\n",
    "from scipy.stats import binom\n",
    "\n",
    "# параметры биномиального распределения\n",
    "n = 1000  # общее количество клиентов\n",
    "p = 0.3  # вероятность продления подписки каждым клиентом\n",
    "\n",
    "# считаем кумулятивную функцию распределения (cdf)\n",
    "# для получения вероятности того, что 100 или меньше клиентов продлят подписку\n",
    "probability = binom.cdf(100, n, p)\n",
    "\n",
    "print(f\"Вероятность того, что 100 или меньше клиентов продлят подписку: {probability}\")\n",
    "\n",
    "# Построим график вероятности\n",
    "x = np.arange(0, n+1)  # все возможные значения количества клиентов, продливших подписку\n",
    "y = binom.pmf(x, n, p)  # функция вероятности для каждого значения\n",
    "\n",
    "plt.bar(x, y)\n",
    "plt.title(\"Биномиальное распределение\")\n",
    "plt.xlabel(\"Количество клиентов, продливших подписку\")\n",
    "plt.ylabel(\"Вероятность\")\n",
    "plt.show()\n"
   ]
  },
  {
   "cell_type": "code",
   "execution_count": 5,
   "metadata": {},
   "outputs": [
    {
     "data": {
      "text/plain": [
       "(23.271442476771135, 26.728557523228865)"
      ]
     },
     "execution_count": 5,
     "metadata": {},
     "output_type": "execute_result"
    }
   ],
   "source": [
    "import math\n",
    "\n",
    "# Заданные параметры\n",
    "n = 63  # размер выборки\n",
    "mean = 25  # среднее значение\n",
    "sd = 7  # стандартное отклонение\n",
    "\n",
    "# z-значение для 95% доверительного интервала\n",
    "z = 1.96  # z_{1 - \\alpha/2}\n",
    "\n",
    "# Расчет доверительного интервала\n",
    "lower_limit = mean - (z * (sd / math.sqrt(n)))  # нижний предел\n",
    "upper_limit = mean + (z * (sd / math.sqrt(n)))  # верхний предел\n",
    "\n",
    "lower_limit, upper_limit  # выводит результаты\n"
   ]
  },
  {
   "cell_type": "code",
   "execution_count": 6,
   "metadata": {},
   "outputs": [
    {
     "data": {
      "text/plain": [
       "(23.271442476771135, 26.728557523228865)"
      ]
     },
     "execution_count": 6,
     "metadata": {},
     "output_type": "execute_result"
    }
   ],
   "source": [
    "import math\n",
    "\n",
    "# задаем параметры\n",
    "X̄ = 25 # среднее значение выборки\n",
    "σ = 7 # стандартное отклонение\n",
    "n = 63 # размер выборки\n",
    "Z = 1.96 # z-оценка для 95% доверительного интервала\n",
    "\n",
    "# рассчитываем доверительный интервал\n",
    "CI_lower = X̄ - Z * (σ/math.sqrt(n)) # нижняя граница доверительного интервала\n",
    "CI_upper = X̄ + Z * (σ/math.sqrt(n)) # верхняя граница доверительного интервала\n",
    "\n",
    "CI_lower, CI_upper # выводим результат\n"
   ]
  },
  {
   "cell_type": "code",
   "execution_count": 7,
   "metadata": {},
   "outputs": [
    {
     "data": {
      "text/plain": [
       "(165.0464, 174.9536)"
      ]
     },
     "execution_count": 7,
     "metadata": {},
     "output_type": "execute_result"
    }
   ],
   "source": [
    "import math\n",
    "\n",
    "# задаем параметры\n",
    "X̄ = 170 # среднее значение выборки\n",
    "s = 12 # стандартное отклонение, посчитанное по выборке\n",
    "n = 25 # размер выборки\n",
    "t = 2.064 # t-оценка для 95% доверительного интервала и степеней свободы n-1=24\n",
    "\n",
    "# рассчитываем доверительный интервал\n",
    "CI_lower = X̄ - t * (s/math.sqrt(n)) # нижняя граница доверительного интервала\n",
    "CI_upper = X̄ + t * (s/math.sqrt(n)) # верхняя граница доверительного интервала\n",
    "\n",
    "CI_lower, CI_upper # выводим результат\n"
   ]
  },
  {
   "cell_type": "code",
   "execution_count": 8,
   "metadata": {},
   "outputs": [
    {
     "data": {
      "text/plain": [
       "(165.04664345209275, 174.95335654790725)"
      ]
     },
     "execution_count": 8,
     "metadata": {},
     "output_type": "execute_result"
    }
   ],
   "source": [
    "from scipy.stats import t\n",
    "import math\n",
    "\n",
    "# задаем параметры\n",
    "X̄ = 170 # среднее значение выборки\n",
    "s = 12 # стандартное отклонение, посчитанное по выборке\n",
    "n = 25 # размер выборки\n",
    "confidence = 0.95 # уровень доверия\n",
    "\n",
    "# вычисляем квантиль\n",
    "q = 1 - (1 - confidence) / 2\n",
    "df = n - 1 # степени свободы\n",
    "\n",
    "# вычисляем t-оценку\n",
    "t_score = t.ppf(q, df)\n",
    "\n",
    "# рассчитываем доверительный интервал\n",
    "CI_lower = X̄ - t_score * (s/math.sqrt(n)) # нижняя граница доверительного интервала\n",
    "CI_upper = X̄ + t_score * (s/math.sqrt(n)) # верхняя граница доверительного интервала\n",
    "\n",
    "CI_lower, CI_upper # выводим результат\n"
   ]
  },
  {
   "cell_type": "code",
   "execution_count": 9,
   "metadata": {},
   "outputs": [
    {
     "name": "stdout",
     "output_type": "stream",
     "text": [
      "95% доверительный интервал среднего: (49.34917364455322, 50.252826355446786)\n",
      "Ширина доверительного интервала: 0.9036527108935672\n"
     ]
    }
   ],
   "source": [
    "import numpy as np\n",
    "from scipy import stats\n",
    "\n",
    "# Шаг 2: генерация выборки\n",
    "lambda_poisson = 50  # параметр lambda для распределения Пуассона\n",
    "sample_size = 1000  # размер выборки\n",
    "random_seed = 42  # фиксирование случайного состояния для воспроизводимости результатов\n",
    "np.random.seed(random_seed)\n",
    "sample = np.random.poisson(lambda_poisson, sample_size)\n",
    "\n",
    "# Шаг 3: расчет среднего и стандартного отклонения выборки\n",
    "mean = np.mean(sample)  # среднее значение выборки\n",
    "std_error = np.std(sample, ddof=1) / np.sqrt(sample_size)  # стандартная ошибка среднего\n",
    "\n",
    "# Шаг 4: вычисление 95% доверительного интервала среднего\n",
    "confidence_level = 0.95  # уровень доверия\n",
    "degrees_freedom = sample_size - 1  # количество степеней свободы\n",
    "critical_value = stats.t.ppf((1 + confidence_level) / 2, degrees_freedom)  # критическое значение\n",
    "margin_error = critical_value * std_error  # ошибка\n",
    "conf_interval = (mean - margin_error, mean + margin_error)  # доверительный интервал\n",
    "\n",
    "# Шаг 5: расчет ширины доверительного интервала\n",
    "interval_width = conf_interval[1] - conf_interval[0]  # ширина доверительного интервала\n",
    "\n",
    "# Печатаем результат\n",
    "print(f\"95% доверительный интервал среднего: {conf_interval}\")\n",
    "print(f\"Ширина доверительного интервала: {interval_width}\")\n"
   ]
  },
  {
   "cell_type": "code",
   "execution_count": 10,
   "metadata": {},
   "outputs": [
    {
     "name": "stdout",
     "output_type": "stream",
     "text": [
      "95% доверительный интервал для среднеквадратического отклонения: (6.971139760188046, 7.567855742530342)\n"
     ]
    }
   ],
   "source": [
    "import numpy as np\n",
    "import scipy.stats as stats\n",
    "\n",
    "# Задаем параметры\n",
    "lambda_poisson = 50\n",
    "sample_size = 1000\n",
    "random_seed = 42\n",
    "np.random.seed(random_seed)\n",
    "\n",
    "# Генерируем выборку\n",
    "sample = np.random.poisson(lambda_poisson, sample_size)\n",
    "\n",
    "# Бутстрэп\n",
    "n_iterations = 1000  # количество итераций бутстрэпа\n",
    "std_devs = np.array([])  # массив для сохранения статистик (стандартных отклонений)\n",
    "for _ in range(n_iterations):\n",
    "    bootstrap_sample = np.random.choice(sample, size=sample_size, replace=True)\n",
    "    std_dev = np.std(bootstrap_sample, ddof=1)\n",
    "    std_devs = np.append(std_devs, std_dev)\n",
    "\n",
    "# Вычисление 95% доверительного интервала\n",
    "alpha = 0.05  # уровень значимости\n",
    "lower = np.percentile(std_devs, 100*(alpha/2))  # нижняя граница\n",
    "upper = np.percentile(std_devs, 100*(1-alpha/2))  # верхняя граница\n",
    "conf_interval = (lower, upper)  # доверительный интервал\n",
    "\n",
    "# Печатаем результат\n",
    "print(f\"95% доверительный интервал для среднеквадратического отклонения: {conf_interval}\")\n"
   ]
  },
  {
   "cell_type": "code",
   "execution_count": 11,
   "metadata": {},
   "outputs": [
    {
     "name": "stdout",
     "output_type": "stream",
     "text": [
      "95% доверительный интервал для MSE: (0.506219521300081, 1.155778599538666)\n"
     ]
    }
   ],
   "source": [
    "from sklearn.datasets import fetch_california_housing\n",
    "from sklearn.linear_model import Ridge\n",
    "from sklearn.metrics import mean_squared_error\n",
    "import numpy as np\n",
    "\n",
    "# Загрузка данных\n",
    "X, y = fetch_california_housing(return_X_y=True, as_frame=True)\n",
    "\n",
    "# Параметры\n",
    "n_iterations = 1000  # количество итераций бутстрэпа\n",
    "mse_values = np.array([])  # массив для сохранения статистик (значений MSE)\n",
    "\n",
    "# Главный цикл\n",
    "for _ in range(n_iterations):\n",
    "    # Генерация бутстрэп-выборки (с возвращением)\n",
    "    train_idx = np.random.choice(range(X.shape[0]), size=X.shape[0], replace=True)\n",
    "    test_idx = np.setdiff1d(range(X.shape[0]), train_idx, assume_unique=True)\n",
    "\n",
    "    # Разделение выборки на обучающую и тестовую\n",
    "    X_train, y_train = X.iloc[train_idx], y.iloc[train_idx]\n",
    "    X_test, y_test = X.iloc[test_idx], y.iloc[test_idx]\n",
    "\n",
    "    # Обучение модели и расчет MSE\n",
    "    model = Ridge().fit(X_train, y_train)\n",
    "    predictions = model.predict(X_test)\n",
    "    mse = mean_squared_error(y_test, predictions)\n",
    "    \n",
    "    # Добавляем MSE в список\n",
    "    mse_values = np.append(mse_values, mse)\n",
    "\n",
    "# Вычисление 95% доверительного интервала\n",
    "alpha = 0.05  # уровень значимости\n",
    "lower = np.percentile(mse_values, 100*(alpha/2))  # нижняя граница\n",
    "upper = np.percentile(mse_values, 100*(1-alpha/2))  # верхняя граница\n",
    "conf_interval = (lower, upper)  # доверительный интервал\n",
    "\n",
    "# Печатаем результат\n",
    "print(f\"95% доверительный интервал для MSE: {conf_interval}\")\n"
   ]
  },
  {
   "cell_type": "code",
   "execution_count": 12,
   "metadata": {},
   "outputs": [
    {
     "name": "stdout",
     "output_type": "stream",
     "text": [
      "Доля случаев, когда 95% доверительный интервал покрыл истинное значение: 0.951\n"
     ]
    }
   ],
   "source": [
    "from scipy import stats\n",
    "import numpy as np\n",
    "\n",
    "# Задаем параметры\n",
    "mu = 3  # истинное среднее\n",
    "sigma = 4  # истинное стандартное отклонение\n",
    "sample_size = 1000\n",
    "n_experiments = 1000  # количество экспериментов\n",
    "np.random.seed(42)\n",
    "\n",
    "# Проводим эксперименты\n",
    "count = 0\n",
    "for _ in range(n_experiments):\n",
    "    # Генерируем выборку\n",
    "    sample = np.random.normal(mu, sigma, sample_size)\n",
    "\n",
    "    # Вычисляем среднее и стандартную ошибку\n",
    "    sample_mean = np.mean(sample)\n",
    "    std_error = np.std(sample, ddof=1) / np.sqrt(sample_size)\n",
    "\n",
    "    # Вычисляем 95% доверительный интервал\n",
    "    confidence_level = 0.95\n",
    "    degrees_freedom = sample_size - 1\n",
    "    critical_value = stats.t.ppf((1 + confidence_level) / 2, degrees_freedom)\n",
    "    margin_error = critical_value * std_error\n",
    "    conf_interval = (sample_mean - margin_error, sample_mean + margin_error)\n",
    "\n",
    "    # Проверяем, покрывает ли интервал истинное среднее\n",
    "    if conf_interval[0] <= mu <= conf_interval[1]:\n",
    "        count += 1\n",
    "\n",
    "# Вычисляем долю случаев, когда интервал покрыл истинное значение\n",
    "coverage_fraction = count / n_experiments\n",
    "\n",
    "# Выводим результат\n",
    "print(f\"Доля случаев, когда 95% доверительный интервал покрыл истинное значение: {coverage_fraction}\")\n"
   ]
  },
  {
   "cell_type": "code",
   "execution_count": 13,
   "metadata": {},
   "outputs": [
    {
     "data": {
      "image/png": "[encoded data removed]",
      "text/plain": [
       "<Figure size 1000x600 with 1 Axes>"
      ]
     },
     "metadata": {},
     "output_type": "display_data"
    }
   ],
   "source": [
    "import matplotlib.pyplot as plt\n",
    "\n",
    "np.random.seed(42)\n",
    "\n",
    "intervals = []  # список для хранения доверительных интервалов\n",
    "for _ in range(100):  # сократим количество экспериментов для визуализации\n",
    "    # Генерируем выборку\n",
    "    sample = np.random.normal(mu, sigma, sample_size)\n",
    "\n",
    "    # Вычисляем среднее и стандартную ошибку\n",
    "    sample_mean = np.mean(sample)\n",
    "    std_error = np.std(sample, ddof=1) / np.sqrt(sample_size)\n",
    "\n",
    "    # Вычисляем 95% доверительный интервал\n",
    "    degrees_freedom = sample_size - 1\n",
    "    critical_value = stats.t.ppf((1 + confidence_level) / 2, degrees_freedom)\n",
    "    margin_error = critical_value * std_error\n",
    "    conf_interval = (sample_mean - margin_error, sample_mean + margin_error)\n",
    "\n",
    "    # Добавляем интервал в список\n",
    "    intervals.append(conf_interval)\n",
    "\n",
    "# Строим график\n",
    "plt.figure(figsize=(10, 6))\n",
    "for i, conf_interval in enumerate(intervals):\n",
    "    plt.plot(conf_interval, [i, i], color='blue')  # доверительный интервал\n",
    "plt.axvline(mu, color='red', linestyle='--')  # истинное среднее значение\n",
    "plt.xlabel('Mean')\n",
    "plt.ylabel('Experiment')\n",
    "plt.title('Confidence intervals for the mean')\n",
    "plt.show()\n"
   ]
  }
 ],
 "metadata": {
  "kernelspec": {
   "display_name": "Python 3",
   "language": "python",
   "name": "python3"
  },
  "language_info": {
   "codemirror_mode": {
    "name": "ipython",
    "version": 3
   },
   "file_extension": ".py",
   "mimetype": "text/x-python",
   "name": "python",
   "nbconvert_exporter": "python",
   "pygments_lexer": "ipython3",
   "version": "3.10.11"
  },
  "orig_nbformat": 4
 },
 "nbformat": 4,
 "nbformat_minor": 2
}
