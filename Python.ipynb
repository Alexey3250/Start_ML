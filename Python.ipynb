{
 "cells": [
  {
   "attachments": {},
   "cell_type": "markdown",
   "metadata": {},
   "source": [
    "# Applied programming in Python\n",
    "\n"
   ]
  },
  {
   "attachments": {},
   "cell_type": "markdown",
   "metadata": {},
   "source": [
    "## Lesson 1: Introduction to Python\n",
    "\n",
    "Let's get to know the main terms, learn the basic syntax of Python and find out what is the *dynamic programming* and *typing*. We will consider the basic data structures (*list, tuple, dict, set*) and learn how to perform operations on them. We will find out how to write loops (*for, while*) and conditional constructs (*if, elif, else*), as well as discuss why we need *break* and *continue*.\n",
    "\n",
    "https://www.youtube.com/watch?v=7f2FiEVL87o&ab_channel=karpov.courses\n",
    "\n",
    "<iframe width=\"1000\" height=\"600\" src=\"https://www.youtube.com/embed/7f2FiEVL87o\" title=\"YouTube video player\" frameborder=\"0\" allow=\"accelerometer; autoplay; clipboard-write; encrypted-media; gyroscope; picture-in-picture\" allowfullscreen></iframe>"
   ]
  },
  {
   "attachments": {},
   "cell_type": "markdown",
   "metadata": {},
   "source": [
    "### Basic mathematical operations\n",
    "\n",
    "In Python, the following mathematical operations can be performed using the standard mathematical operators:\n",
    "\n",
    "- Addition: +\n",
    "- Subtraction: -\n",
    "- Multiplication: *\n",
    "- Division: /\n",
    "- Modulus: %\n",
    "- Exponentiation: **\n",
    "- Floor division: //\n",
    "\n",
    "In Python, the modulus operator (%) is used to find the remainder after division. For example:\n"
   ]
  },
  {
   "attachments": {},
   "cell_type": "markdown",
   "metadata": {},
   "source": [
    "In Python, the modulus operator (%) is used to find the remainder after division. For example:"
   ]
  },
  {
   "cell_type": "code",
   "execution_count": null,
   "metadata": {},
   "outputs": [],
   "source": [
    "# Find the remainder after dividing 8 by 3\n",
    "remainder = 8 % 3\n",
    "\n",
    "# The remainder is 2, so the value of `remainder` is 2\n",
    "print(remainder)\n"
   ]
  },
  {
   "attachments": {},
   "cell_type": "markdown",
   "metadata": {},
   "source": [
    "In this code, 8 % 3 is evaluated to find the remainder after dividing 8 by 3. This is 2, so the value of remainder is 2.\n",
    "\n",
    "Floor division (//) is used to find the quotient of a division operation, but it rounds the result down to the nearest integer. For example:"
   ]
  },
  {
   "cell_type": "code",
   "execution_count": null,
   "metadata": {},
   "outputs": [],
   "source": [
    "# Find the quotient of 7 divided by 3\n",
    "quotient = 7 // 3\n",
    "\n",
    "# The quotient is rounded down to the nearest integer, so the value of `quotient` is 2\n",
    "print(quotient)\n"
   ]
  },
  {
   "attachments": {},
   "cell_type": "markdown",
   "metadata": {},
   "source": [
    "In this code, 7 // 3 is evaluated to find the quotient of 7 divided by 3. This is 2.33, but since we are using floor division, the result is rounded down to the nearest integer, so the value of quotient is 2."
   ]
  },
  {
   "attachments": {},
   "cell_type": "markdown",
   "metadata": {},
   "source": [
    "Additionally, Python has a number of built-in functions for performing more advanced mathematical operations, such as trigonometric functions (sin(), cos(), etc.), logarithms (log(), log10(), etc.), and more. These functions are typically found in the math module, which must be imported in order to use them. For example:"
   ]
  },
  {
   "cell_type": "code",
   "execution_count": null,
   "metadata": {},
   "outputs": [],
   "source": [
    "# Import the math module\n",
    "import math\n",
    "\n",
    "# Use the math module to calculate the sine of 30 degrees\n",
    "sine = math.sin(math.radians(30))"
   ]
  },
  {
   "attachments": {},
   "cell_type": "markdown",
   "metadata": {},
   "source": [
    "### Types of variables in Python\n",
    "\n",
    "https://youtu.be/KudqIBpyHu4\n",
    "\n",
    "<iframe width=\"1000\" height=\"600\" src=\"https://www.youtube.com/embed/KudqIBpyHu4\" title=\"YouTube video player\" frameborder=\"0\" allow=\"accelerometer; autoplay; clipboard-write; encrypted-media; gyroscope; picture-in-picture\" allowfullscreen></iframe>\n",
    "\n",
    "In Python, variables can have different types. Some of the main types of variables in Python are:\n",
    "\n",
    "- Integer: an integer is a whole number, such as 1, 2, or 3.\n",
    "- Float: a float is a decimal number, such as 1.0, 2.0, or 3.5.\n",
    "- String: a string is a sequence of characters, such as \"hello\" or \"goodbye\".\n",
    "- Boolean: a boolean variable can have one of two values, True or False.\n",
    "- List: a list is a collection of other variables, such as [1, 2, 3] or [\"red\", \"green\", \"blue\"].\n",
    "- Tuple: a tuple is similar to a list, but it is **immutable**, meaning that it cannot be changed once it has been created.\n",
    "- Dictionary: a dictionary is a collection of key-value pairs, such as {\"name\": \"John\", \"age\": 30}.\n",
    "  \n",
    "Here are some examples of variables with different types in Python:\\\n",
    "\n",
    "<img src=\"https://static.javatpoint.com/python/images/python-data-types.png\" width=\"400\">"
   ]
  },
  {
   "cell_type": "code",
   "execution_count": null,
   "metadata": {},
   "outputs": [],
   "source": [
    "# Integer\n",
    "x = 1\n",
    "\n",
    "# Float\n",
    "y = 2.5\n",
    "\n",
    "# String\n",
    "z = \"hello\"\n",
    "\n",
    "# Boolean\n",
    "flag = True\n",
    "\n",
    "# List\n",
    "numbers = [1, 2, 3]\n",
    "\n",
    "# Tuple\n",
    "coordinates = (1, 2)\n",
    "\n",
    "# Dictionary\n",
    "person = {\"name\": \"John\", \"age\": 30}\n"
   ]
  },
  {
   "attachments": {},
   "cell_type": "markdown",
   "metadata": {},
   "source": [
    "The type of a variable in Python can be determined using the type() function. For example, the following code prints the types of the variables defined above:"
   ]
  },
  {
   "cell_type": "code",
   "execution_count": null,
   "metadata": {},
   "outputs": [],
   "source": [
    "print(type(x)) # <class 'int'>\n",
    "print(type(y)) # <class 'float'>\n",
    "print(type(z)) # <class 'str'>\n",
    "print(type(flag)) # <class 'bool'>\n",
    "print(type(numbers)) # <class 'list'>\n",
    "print(type(coordinates)) # <class 'tuple'>\n",
    "print(type(person)) # <class 'dict'>"
   ]
  },
  {
   "attachments": {},
   "cell_type": "markdown",
   "metadata": {},
   "source": [
    "#### Numeric types\n",
    "\n",
    "In Python, there are several different types that can be used to represent numbers. These include:\n",
    "\n",
    "- **int**: This is the most basic type of number, and represents a simple integer value (a whole number without a decimal point). For example, 5 and -3 are both examples of int values.\n",
    "- **float**: This type represents a number with a decimal point, allowing for fractional values. For example, 3.14 and -0.01 are both examples of float values.\n",
    "- **complex:** This type represents a complex number, which is a number with both a real and imaginary component. For example, 2 + 3j is a complex number with a real component of 2 and an imaginary component of 3.\n",
    "- **bool**: This type represents a boolean value, which is either True or False."
   ]
  },
  {
   "cell_type": "code",
   "execution_count": 1,
   "metadata": {},
   "outputs": [
    {
     "name": "stdout",
     "output_type": "stream",
     "text": [
      "<class 'int'>\n",
      "<class 'float'>\n",
      "<class 'complex'>\n"
     ]
    }
   ],
   "source": [
    "# Define an integer\n",
    "x = 5\n",
    "\n",
    "# Define a float\n",
    "y = 3.14\n",
    "\n",
    "# Define a complex number\n",
    "z = 3 + 2j\n",
    "\n",
    "# Print the type of each variable\n",
    "print(type(x)) # int\n",
    "print(type(y)) # float\n",
    "print(type(z)) # complex"
   ]
  },
  {
   "attachments": {},
   "cell_type": "markdown",
   "metadata": {},
   "source": [
    "#### Mutable and immutable objects\n",
    "\n",
    "In Python, a variable is a named location in memory that is used to store a value. The type of a variable refers to the kind of value that it can hold, such as an integer, a string, or a list.\n",
    "\n",
    "There are two main types of variables in Python: mutable and immutable.\n",
    "\n",
    "Mutable variables are those that can be changed after they are created. For example, a list is a mutable type because you can add, remove, or modify the items in a list.\n",
    "\n",
    "Immutable variables, on the other hand, are those that cannot be changed after they are created. For example, a string is an immutable type because once you create a string, you cannot change the characters in it.\n",
    "\n",
    "<img src=\"https://notesformsc.org/wp-content/uploads/2021/07/Python-Mutable-Immutable-2.png\" width=\"400\">"
   ]
  },
  {
   "cell_type": "code",
   "execution_count": 2,
   "metadata": {},
   "outputs": [
    {
     "name": "stdout",
     "output_type": "stream",
     "text": [
      "[1, 2, 3, 4]\n"
     ]
    },
    {
     "ename": "TypeError",
     "evalue": "'str' object does not support item assignment",
     "output_type": "error",
     "traceback": [
      "\u001b[1;31m---------------------------------------------------------------------------\u001b[0m",
      "\u001b[1;31mTypeError\u001b[0m                                 Traceback (most recent call last)",
      "Cell \u001b[1;32mIn[2], line 15\u001b[0m\n\u001b[0;32m     12\u001b[0m my_string \u001b[39m=\u001b[39m \u001b[39m\"\u001b[39m\u001b[39mHello\u001b[39m\u001b[39m\"\u001b[39m\n\u001b[0;32m     14\u001b[0m \u001b[39m# Try to modify the string\u001b[39;00m\n\u001b[1;32m---> 15\u001b[0m my_string[\u001b[39m0\u001b[39;49m] \u001b[39m=\u001b[39m \u001b[39m\"\u001b[39m\u001b[39mH\u001b[39m\u001b[39m\"\u001b[39m\n\u001b[0;32m     17\u001b[0m \u001b[39m# This will cause an error, because strings are immutable\u001b[39;00m\n",
      "\u001b[1;31mTypeError\u001b[0m: 'str' object does not support item assignment"
     ]
    }
   ],
   "source": [
    "# Define a list (mutable)\n",
    "my_list = [1, 2, 3]\n",
    "\n",
    "# Modify the list\n",
    "my_list.append(4)\n",
    "\n",
    "# Print the modified list\n",
    "print(my_list) # [1, 2, 3, 4]\n",
    "\n",
    "\n",
    "# Define a string (immutable)\n",
    "my_string = \"Hello\"\n",
    "\n",
    "# Try to modify the string\n",
    "my_string[0] = \"H\"\n",
    "\n",
    "# This will cause an error, because strings are immutable\n"
   ]
  },
  {
   "attachments": {},
   "cell_type": "markdown",
   "metadata": {},
   "source": [
    "#### Sequence types of variables\n",
    "\n",
    "In Python, a sequence is a data type that represents a group of elements that can be accessed by their position, or index, in the sequence. There are several built-in sequence types in Python, including:\n",
    "\n",
    "- **str**: This is the string type, and it represents a sequence of characters. For example, \"Hello\" is a string that contains the characters 'H', 'e', 'l', 'l', and 'o'.\n",
    "- **list**: This is the list type, and it represents a sequence of values. For example, [1, 2, 3] is a list that contains the values 1, 2, and 3.\n",
    "- **tuple**: This is the tuple type, and it represents a sequence of values that cannot be changed. For example, (1, 2, 3) is a tuple that contains the values 1, 2, and 3."
   ]
  },
  {
   "cell_type": "code",
   "execution_count": 3,
   "metadata": {},
   "outputs": [
    {
     "name": "stdout",
     "output_type": "stream",
     "text": [
      "H\n",
      "2\n",
      "3\n"
     ]
    }
   ],
   "source": [
    "# Define a string\n",
    "my_string = \"Hello\"\n",
    "\n",
    "# Define a list\n",
    "my_list = [1, 2, 3]\n",
    "\n",
    "# Define a tuple\n",
    "my_tuple = (1, 2, 3)\n",
    "\n",
    "# Access elements in the string\n",
    "print(my_string[0]) # 'H'\n",
    "\n",
    "# Access elements in the list\n",
    "print(my_list[1]) # 2\n",
    "\n",
    "# Access elements in the tuple\n",
    "print(my_tuple[2]) # 3\n"
   ]
  },
  {
   "attachments": {},
   "cell_type": "markdown",
   "metadata": {},
   "source": [
    "Tuple is using () and list is using []."
   ]
  },
  {
   "attachments": {},
   "cell_type": "markdown",
   "metadata": {},
   "source": [
    "#### Operators\n",
    "\n",
    "In Python, operators are special symbols that are used to perform operations on values, such as arithmetic operations or assignment. There are several types of operators in Python, including:\n",
    "\n",
    "- **Arithmetic operators**: These operators are used to perform basic arithmetic operations, such as addition, subtraction, multiplication, and division. For example, the + operator is used to add two numbers, and the - operator is used to subtract one number from another.\n",
    "- **Assignment operators**: These operators are used to assign a value to a variable. For example, the = operator is used to assign a value to a variable, and the += operator is used to add a value to a variable and then assign the result to the variable.\n",
    "- **Comparison operators**: These operators are used to compare two values and return a Boolean value (True or False) based on the result of the comparison. For example, the == operator is used to check if two values are equal, and the > operator is used to check if one value is greater than another."
   ]
  },
  {
   "cell_type": "code",
   "execution_count": 4,
   "metadata": {},
   "outputs": [
    {
     "name": "stdout",
     "output_type": "stream",
     "text": [
      "False\n",
      "False\n"
     ]
    }
   ],
   "source": [
    "# Perform arithmetic operations\n",
    "x = 5 + 2 # 7\n",
    "y = x - 3 # 4\n",
    "z = y * 2 # 8\n",
    "\n",
    "# Use assignment operators\n",
    "a = 5\n",
    "a += 3 # 8\n",
    "\n",
    "# Use comparison operators\n",
    "b = 5\n",
    "c = 10\n",
    "\n",
    "print(b == c) # False\n",
    "print(b > c) # False\n"
   ]
  },
  {
   "attachments": {},
   "cell_type": "markdown",
   "metadata": {},
   "source": [
    "#### Hierarchy of calculations\n",
    "\n",
    "In Python, the hierarchy of calculations refers to the order in which operations are performed in an expression. This is determined by the rules of operator precedence, which specify the order in which different types of operators are evaluated in an expression.\n",
    "\n",
    "The general rule of operator precedence in Python is that operations enclosed in parentheses are performed first, followed by exponentiation, then multiplication and division, and finally addition and subtraction. For example, in the expression 2 + 3 * 4, the multiplication (3 * 4) is performed first, because it has a higher precedence than the addition (2 +)."
   ]
  },
  {
   "cell_type": "code",
   "execution_count": 6,
   "metadata": {},
   "outputs": [],
   "source": [
    "# Use parentheses to specify the order of operations\n",
    "result = (2 + 3) * 4 # 20\n",
    "\n",
    "# Exponentiation has a higher precedence than multiplication and division\n",
    "result = 2 ** 3 * 4 # 32\n",
    "\n",
    "# Multiplication and division have the same precedence and are performed from left to right\n",
    "result = 10 / 2 * 3 # 15\n",
    "\n",
    "# Addition and subtraction have the same precedence and are performed from left to right\n",
    "result = 2 + 3 - 1 # 4\n"
   ]
  },
  {
   "attachments": {},
   "cell_type": "markdown",
   "metadata": {},
   "source": [
    "Sequence of calculations for the operators is as follows:\n",
    "1. Parentheses ()\n",
    "2. not\n",
    "3. and\n",
    "4. or"
   ]
  },
  {
   "attachments": {},
   "cell_type": "markdown",
   "metadata": {},
   "source": [
    "#### Logical conditions\n",
    "\n",
    "In Python, logical conditions are expressions that evaluate to either True or False. These conditions are often used in control flow statements, such as if statements, to control the flow of execution in a program.\n",
    "\n",
    "There are several types of logical conditions in Python, including:\n",
    "\n",
    "- **Comparison conditions**: These conditions compare two values and return True if the comparison is satisfied, or False if it is not. For example, the condition x == y checks if the value of x is equal to the value of y, and it returns True if they are equal, or False if they are not.\n",
    "- **Boolean conditions**: These conditions use the Boolean values True and False directly in the condition. For example, the condition x checks if the value of x is True, and it returns True if it is, or False if it is not.\n",
    "- **Membership conditions**: These conditions check if a value is a member of a sequence, such as a list or a string. For example, the condition x in y checks if the value of x is an element in the sequence y, and it returns True if it is, or False if it is not."
   ]
  },
  {
   "cell_type": "code",
   "execution_count": 5,
   "metadata": {},
   "outputs": [
    {
     "name": "stdout",
     "output_type": "stream",
     "text": [
      "False\n",
      "5\n",
      "False\n"
     ]
    }
   ],
   "source": [
    "# Define two variables\n",
    "x = 5\n",
    "y = 10\n",
    "\n",
    "# Comparison condition\n",
    "print(x == y) # False\n",
    "\n",
    "# Boolean condition\n",
    "print(x) # True\n",
    "\n",
    "# Membership condition\n",
    "my_list = [1, 2, 3]\n",
    "print(x in my_list) # False\n"
   ]
  },
  {
   "attachments": {},
   "cell_type": "markdown",
   "metadata": {},
   "source": [
    "#### Sequence types\n",
    "\n",
    "Sequence types are data types that represent a group of elements that can be accessed by their position, or index, in the sequence. There are several built-in sequence types in Python, including:\n",
    "\n",
    " - **String**: This is the string type, and it represents a sequence of characters. For example, \"Hello\" is a string that contains the characters 'H', 'e', 'l', 'l', and 'o'.\n",
    " - **List**: This is the list type, and it represents a sequence of values. For example, [1, 2, 3] is a list that contains the values 1, 2, and 3.\n",
    " - **Tuple**: This is the tuple type, and it represents a sequence of values that cannot be changed. For example, (1, 2, 3) is a tuple that contains the values 1, 2, and 3.\n",
    " - **Range**: This is the range type, and it represents a sequence of integers. For example, range(5) is a range that contains the integers 0, 1, 2, 3, and 4.\n",
    "  \n",
    "\n",
    "\n",
    "<img src=\"https://i.imgur.com/Srnbhnw.png\" width=\"200\">"
   ]
  },
  {
   "attachments": {},
   "cell_type": "markdown",
   "metadata": {},
   "source": [
    " - **Set**: This is the set type, and it represents a collection of unique values. For example, {1, 2, 3} is a set that contains the values 1, 2, and 3.\n",
    "   - One of the main characteristics of a set is that it only allows unique items. This means that if you try to add an item to a set that already exists in the set, it will not be added again.\n",
    " - **Frozen set**: This is the frozen set type, and it represents a collection of unique values that cannot be changed. For example, frozenset({1, 2, 3}) is a frozen set that contains the values 1, 2, and 3.\n",
    " - **Dictionary**: This is the dictionary type, and it represents a collection of key-value pairs. For example, {'a': 1, 'b': 2} is a dictionary that contains the key-value pairs 'a': 1 and 'b': 2."
   ]
  },
  {
   "cell_type": "code",
   "execution_count": 7,
   "metadata": {},
   "outputs": [
    {
     "name": "stdout",
     "output_type": "stream",
     "text": [
      "{'banana', 'apple', 'cherry'}\n"
     ]
    }
   ],
   "source": [
    "my_set = {\"apple\", \"banana\", \"cherry\"}\n",
    "my_set.add(\"banana\")\n",
    "print(my_set)\n"
   ]
  },
  {
   "attachments": {},
   "cell_type": "markdown",
   "metadata": {},
   "source": [
    "##### List\n",
    "\n",
    "List is a mutable sequence of values. It is defined using square brackets []."
   ]
  },
  {
   "cell_type": "code",
   "execution_count": 10,
   "metadata": {},
   "outputs": [
    {
     "data": {
      "text/plain": [
       "[1, 2, 3, 5]"
      ]
     },
     "execution_count": 10,
     "metadata": {},
     "output_type": "execute_result"
    }
   ],
   "source": [
    "# Объявляется через квадратные скобки и содержимое отделяется запятой\n",
    "my_list = [1, 2, 3, 5]\n",
    "my_list"
   ]
  },
  {
   "cell_type": "code",
   "execution_count": null,
   "metadata": {},
   "outputs": [],
   "source": [
    "# Можно обратиться к элементу по порядку через квадратные скобки\n",
    "# Заметьте, нумерация начинается с нуля\n",
    "my_list[1]  # второй элемент в списке"
   ]
  },
  {
   "cell_type": "code",
   "execution_count": 11,
   "metadata": {},
   "outputs": [
    {
     "data": {
      "text/plain": [
       "4"
      ]
     },
     "execution_count": 11,
     "metadata": {},
     "output_type": "execute_result"
    }
   ],
   "source": [
    "len(my_list)  # запросим длину"
   ]
  },
  {
   "cell_type": "code",
   "execution_count": 12,
   "metadata": {},
   "outputs": [
    {
     "name": "stdout",
     "output_type": "stream",
     "text": [
      "['a', 1, 3.14, [1, 2]]\n"
     ]
    }
   ],
   "source": [
    "# Элементы списка не обязаны быть одного типа\n",
    "# можно даже класть в список другой список\n",
    "my_list = ['a', 1, 3.14, [1, 2]]\n",
    "print(my_list)"
   ]
  },
  {
   "cell_type": "code",
   "execution_count": 13,
   "metadata": {},
   "outputs": [
    {
     "data": {
      "text/plain": [
       "['a', 1, 3.14, [1, 2], 'h', 'e', 'l', 'l', 'o']"
      ]
     },
     "execution_count": 13,
     "metadata": {},
     "output_type": "execute_result"
    }
   ],
   "source": [
    "# К списку можно \"прибавить\" другой список - один список добавится к концу другого\n",
    "new_list = my_list + ['h', 'e', 'l', 'l', 'o']\n",
    "new_list"
   ]
  },
  {
   "attachments": {},
   "cell_type": "markdown",
   "metadata": {},
   "source": [
    "** append() **\n",
    "The append() method adds an item to the end of the list."
   ]
  },
  {
   "cell_type": "code",
   "execution_count": 14,
   "metadata": {},
   "outputs": [
    {
     "data": {
      "text/plain": [
       "['a', 1, 3.14, [1, 2], 'h', 'e', 'l', 'l', 'o', 'g']"
      ]
     },
     "execution_count": 14,
     "metadata": {},
     "output_type": "execute_result"
    }
   ],
   "source": [
    "# Можно добавлять через функцию append\n",
    "new_list.append('g')\n",
    "new_list\n",
    "# Выполните несколько раз эту ячейку - каждый раз append будет добавлять в список"
   ]
  },
  {
   "attachments": {},
   "cell_type": "markdown",
   "metadata": {},
   "source": [
    "**Pop () method**\n",
    "\n",
    "Pop () method removes the item at the given index from the list and returns the removed item. If index is not specified, pop () removes and returns the last item in the list."
   ]
  },
  {
   "cell_type": "code",
   "execution_count": 15,
   "metadata": {},
   "outputs": [
    {
     "name": "stdout",
     "output_type": "stream",
     "text": [
      "a\n",
      "g\n"
     ]
    }
   ],
   "source": [
    "# Можно удалять элемент, зная его индекс (0 - начало массива, 1 - второй элемент и т.д.)\n",
    "# Удалит первый элемент (позиция 0)\n",
    "deleted_item = new_list.pop(0)\n",
    "print(deleted_item)\n",
    "# pop() без аргументов удалит последний элемент\n",
    "print(new_list.pop())\n",
    "# Если много раз выполнить, можно опустошить весь список :)"
   ]
  },
  {
   "cell_type": "code",
   "execution_count": 16,
   "metadata": {},
   "outputs": [
    {
     "data": {
      "text/plain": [
       "[1, 3.14, [1, 2], 'h', 'e', 'l', 'l', 'o']"
      ]
     },
     "execution_count": 16,
     "metadata": {},
     "output_type": "execute_result"
    }
   ],
   "source": [
    "new_list"
   ]
  },
  {
   "attachments": {},
   "cell_type": "markdown",
   "metadata": {},
   "source": [
    "**Remove () method**\n",
    "\n",
    "Remove () method removes the first item from the list whose value is equal to the given value."
   ]
  },
  {
   "cell_type": "code",
   "execution_count": 17,
   "metadata": {},
   "outputs": [
    {
     "name": "stdout",
     "output_type": "stream",
     "text": [
      "[1, 3.14, [1, 2], 'h', 'e', 'l', 'l', 'o']\n",
      "[1, 3.14, [1, 2], 'e', 'l', 'l', 'o']\n"
     ]
    }
   ],
   "source": [
    "# Можно удалять по значению, а не индексу\n",
    "# Если элемента не найдется, то вылезет ошибка\n",
    "print(new_list)\n",
    "new_list.remove('h')\n",
    "print(new_list)"
   ]
  },
  {
   "attachments": {},
   "cell_type": "markdown",
   "metadata": {},
   "source": [
    "##### **Tuple ()**\n",
    "\n",
    "Tuple is a sequence of immutable Python objects. Tuples are sequences, just like lists. The differences between tuples and lists are, the tuples cannot be changed unlike lists and tuples use parentheses, whereas lists use square brackets."
   ]
  },
  {
   "cell_type": "code",
   "execution_count": 18,
   "metadata": {},
   "outputs": [
    {
     "name": "stdout",
     "output_type": "stream",
     "text": [
      "apple\n",
      "banana\n",
      "cherry\n",
      "Apple is in the tuple.\n"
     ]
    }
   ],
   "source": [
    "# Creating a tuple\n",
    "my_tuple = (\"apple\", \"banana\", \"cherry\")\n",
    "\n",
    "# Accessing elements in a tuple\n",
    "first_element = my_tuple[0]\n",
    "last_element = my_tuple[-1]\n",
    "\n",
    "# Iterating over a tuple\n",
    "for element in my_tuple:\n",
    "  print(element)\n",
    "\n",
    "# Concatenating tuples\n",
    "tuple1 = (1, 2, 3)\n",
    "tuple2 = (4, 5, 6)\n",
    "tuple3 = tuple1 + tuple2\n",
    "\n",
    "# Slicing a tuple\n",
    "my_tuple = (\"apple\", \"banana\", \"cherry\", \"orange\", \"grape\")\n",
    "first_three_elements = my_tuple[:3]\n",
    "last_three_elements = my_tuple[-3:]\n",
    "\n",
    "# Checking if an element is in a tuple\n",
    "my_tuple = (\"apple\", \"banana\", \"cherry\")\n",
    "if \"apple\" in my_tuple:\n",
    "  print(\"Apple is in the tuple.\")\n"
   ]
  },
  {
   "cell_type": "code",
   "execution_count": 19,
   "metadata": {},
   "outputs": [],
   "source": [
    "# Create a tuple with three values\n",
    "my_tuple = (\"Alice\", 22, \"F\")\n",
    "\n",
    "# Create a tuple with one value\n",
    "my_tuple = (\"Bob\",)\n"
   ]
  },
  {
   "attachments": {},
   "cell_type": "markdown",
   "metadata": {},
   "source": [
    "As you can see, to create a tuple with just one item, you have to include a comma after the item, otherwise Python will not recognize it as a tuple."
   ]
  },
  {
   "cell_type": "code",
   "execution_count": 20,
   "metadata": {},
   "outputs": [
    {
     "data": {
      "text/plain": [
       "('Bob', 5, 5)"
      ]
     },
     "execution_count": 20,
     "metadata": {},
     "output_type": "execute_result"
    }
   ],
   "source": [
    "# Можно складывать, как и list\n",
    "# при этом создастся новый (!) tuple, куда копируется сначала первый, потом второй\n",
    "my_tuple + (5, 5)"
   ]
  },
  {
   "attachments": {},
   "cell_type": "markdown",
   "metadata": {},
   "source": [
    "Tuple does not have append(), insert(), remove(), pop() methods."
   ]
  },
  {
   "attachments": {},
   "cell_type": "markdown",
   "metadata": {},
   "source": [
    "##### Set\n",
    "\n",
    "In Python, a set is a collection of items that are unordered and unindexed. Sets are commonly used to store **only unique values** in a collection, as sets only allow for each value to be stored once. Sets are written using curly braces, with elements separated by commas. Here is an example of how to create a set in Python:"
   ]
  },
  {
   "cell_type": "code",
   "execution_count": 22,
   "metadata": {},
   "outputs": [
    {
     "data": {
      "text/plain": [
       "4"
      ]
     },
     "execution_count": 22,
     "metadata": {},
     "output_type": "execute_result"
    }
   ],
   "source": [
    "# create a set\n",
    "my_set = {1, 2, \"dog\", \"cat\"}\n",
    "\n",
    "# add an element to the set\n",
    "my_set.add(4)\n",
    "\n",
    "# remove an element from the set\n",
    "my_set.remove(1)\n",
    "\n",
    "# check the length of the set\n",
    "len(my_set)"
   ]
  },
  {
   "attachments": {},
   "cell_type": "markdown",
   "metadata": {},
   "source": [
    "Sets are different from lists and tuples, as they are unordered and do not support indexing. This means that you cannot access items in a set using an index, and you cannot guarantee the order in which items will be stored in a set. However, sets are useful for storing unique values, and support many common operations such as union, intersection, and difference."
   ]
  },
  {
   "attachments": {},
   "cell_type": "markdown",
   "metadata": {},
   "source": [
    "In Python, sets can only store immutable data types, such as numbers, strings, and tuples. This means that you cannot store lists or dictionaries in a set, as they are mutable data types. Sets also do not support duplicate values, so if you try to add a duplicate value to a set, it will not be added. Here is an example of what you can and cannot store in a set in Python:"
   ]
  },
  {
   "cell_type": "code",
   "execution_count": 26,
   "metadata": {},
   "outputs": [
    {
     "name": "stdout",
     "output_type": "stream",
     "text": [
      "{1, 2, 3}\n",
      "{1, 2, 3, 4}\n",
      "{1, 2, 3, 4, 'hello'}\n",
      "{1, 2, 3, 4, 'hello', (5, 6)}\n"
     ]
    }
   ],
   "source": [
    "# create a set\n",
    "my_set = {1, 2, 3}\n",
    "print(my_set)\n",
    "\n",
    "# add a number to the set\n",
    "my_set.add(4)\n",
    "print(my_set)\n",
    "\n",
    "# add a string to the set\n",
    "my_set.add(\"hello\")\n",
    "print(my_set)\n",
    "\n",
    "# add a tuple to the set\n",
    "my_set.add((5, 6))\n",
    "print(my_set)\n"
   ]
  },
  {
   "cell_type": "code",
   "execution_count": 25,
   "metadata": {},
   "outputs": [
    {
     "ename": "TypeError",
     "evalue": "unhashable type: 'list'",
     "output_type": "error",
     "traceback": [
      "\u001b[1;31m---------------------------------------------------------------------------\u001b[0m",
      "\u001b[1;31mTypeError\u001b[0m                                 Traceback (most recent call last)",
      "Cell \u001b[1;32mIn[25], line 2\u001b[0m\n\u001b[0;32m      1\u001b[0m \u001b[39m# try to add a list to the set (this will fail because lists are mutable)\u001b[39;00m\n\u001b[1;32m----> 2\u001b[0m my_set\u001b[39m.\u001b[39;49madd([\u001b[39m7\u001b[39;49m, \u001b[39m8\u001b[39;49m])\n\u001b[0;32m      4\u001b[0m \u001b[39m# try to add a duplicate value to the set (this will fail because sets only allow unique values)\u001b[39;00m\n\u001b[0;32m      5\u001b[0m my_set\u001b[39m.\u001b[39madd(\u001b[39m2\u001b[39m)\n",
      "\u001b[1;31mTypeError\u001b[0m: unhashable type: 'list'"
     ]
    }
   ],
   "source": [
    "# try to add a list to the set (this will fail because lists are mutable)\n",
    "my_set.add([7, 8])\n",
    "\n",
    "# try to add a duplicate value to the set (this will fail because sets only allow unique values)\n",
    "my_set.add(2)"
   ]
  },
  {
   "attachments": {},
   "cell_type": "markdown",
   "metadata": {},
   "source": [
    "In a `set`, **only immutable** objects can be added! This is related to its internal structure. For example, creating a set of the form `{2, \"hello\", []}` will not work because the third element is of type `list`, which is mutable.\n",
    "\n",
    "Intersections, unions, and symmetric differences of sets can be taken:\n",
    "\n",
    "- `a.intersection(b)` - is a method that returns a new set with elements common to both sets\n",
    "- `a.union(b)` - is a method that returns a new set with elements from both sets\n",
    "- `a.symmetric_difference(b)` - is a method that returns a new set with elements in either set, but not both"
   ]
  },
  {
   "attachments": {},
   "cell_type": "markdown",
   "metadata": {},
   "source": [
    "**intersection()**\n",
    "\n",
    "In Python, the intersection of two sets can be found using the `intersection()` method. This method takes another set as an argument and returns a new set that contains only the elements that are common to both the original set and the set provided as an argument. Here is an example of how to find the intersection of two sets in Python:"
   ]
  },
  {
   "cell_type": "code",
   "execution_count": 28,
   "metadata": {},
   "outputs": [
    {
     "name": "stdout",
     "output_type": "stream",
     "text": [
      "{2, 3}\n"
     ]
    }
   ],
   "source": [
    "# create two sets\n",
    "set_a = {1, 2, 3}\n",
    "set_b = {2, 3, 4}\n",
    "\n",
    "# find the intersection of the two sets\n",
    "intersection = set_a.intersection(set_b)\n",
    "\n",
    "# print the intersection\n",
    "print(intersection)  # prints {2, 3}\n"
   ]
  },
  {
   "attachments": {},
   "cell_type": "markdown",
   "metadata": {},
   "source": [
    "**union()**\n",
    "\n",
    "In Python, the union of two sets can be found using the `union()` method. This method takes another set as an argument and returns a new set that contains all of the elements from both the original set and the set provided as an argument. Here is an example of how to find the union of two sets in Python:"
   ]
  },
  {
   "cell_type": "code",
   "execution_count": 29,
   "metadata": {},
   "outputs": [
    {
     "name": "stdout",
     "output_type": "stream",
     "text": [
      "{1, 2, 3, 4}\n"
     ]
    }
   ],
   "source": [
    "# create two sets\n",
    "set_a = {1, 2, 3}\n",
    "set_b = {2, 3, 4}\n",
    "\n",
    "# find the union of the two sets\n",
    "union = set_a.union(set_b)\n",
    "\n",
    "# print the union\n",
    "print(union)  # prints {1, 2, 3, 4}\n"
   ]
  },
  {
   "attachments": {},
   "cell_type": "markdown",
   "metadata": {},
   "source": [
    "**symmetric_difference()**\n",
    "\n",
    "Symmectric difference is the set of elements that are in either of the sets and not in their intersection.\n",
    "\n",
    "In Python, the symmetric difference of two sets can be found using the `symmetric_difference()` method. This method takes another set as an argument and returns a new set that contains the elements that are present in one set but not the other. Here is an example of how to find the symmetric difference of two sets in Python:"
   ]
  },
  {
   "cell_type": "code",
   "execution_count": 30,
   "metadata": {},
   "outputs": [
    {
     "name": "stdout",
     "output_type": "stream",
     "text": [
      "{1, 4}\n"
     ]
    }
   ],
   "source": [
    "# create two sets\n",
    "set_a = {1, 2, 3}\n",
    "set_b = {2, 3, 4}\n",
    "\n",
    "# find the symmetric difference of the two sets\n",
    "symmetric_difference = set_a.symmetric_difference(set_b)\n",
    "\n",
    "# print the symmetric difference\n",
    "print(symmetric_difference)  # prints {1, 4}\n"
   ]
  },
  {
   "attachments": {},
   "cell_type": "markdown",
   "metadata": {},
   "source": [
    "`Set` does not store the index of the elements. So, you cannot access the elements of the set using the index. Sometimes `set` can mix the elements. In the latest version of Python, the elements are stored in the order of insertion but in the older versions, the elements are stored in a random order."
   ]
  },
  {
   "attachments": {},
   "cell_type": "markdown",
   "metadata": {},
   "source": [
    "##### Frozen set\n",
    "\n",
    "Frozen set is just an immutable version of a Python set object. While elements of a set can be modified at any time, elements of the frozen set remain the same after creation. Due to this, frozen sets can be used as keys in Dictionary or as elements of another set. While tuples are immutable lists, frozen sets are immutable sets."
   ]
  },
  {
   "cell_type": "code",
   "execution_count": 39,
   "metadata": {},
   "outputs": [
    {
     "name": "stdout",
     "output_type": "stream",
     "text": [
      "The value 2 is in the frozen set.\n",
      "1\n",
      "2\n",
      "3\n"
     ]
    }
   ],
   "source": [
    "# Create an empty frozen set\n",
    "s = frozenset()\n",
    "\n",
    "# Create a frozen set with some initial values\n",
    "s = frozenset([1, 2, 3])\n",
    "\n",
    "# Check if a value is in the frozen set\n",
    "if 2 in s:\n",
    "    print(\"The value 2 is in the frozen set.\")\n",
    "\n",
    "# Use the union operator to create a new frozen set with values from two other sets\n",
    "s1 = frozenset([1, 2, 3])\n",
    "s2 = frozenset([3, 4, 5])\n",
    "s3 = s1 | s2  # s3 is a new frozen set with the values [1, 2, 3, 4, 5]\n",
    "\n",
    "# Iterate over the values in the frozen set\n",
    "for value in s:\n",
    "    print(value)\n"
   ]
  },
  {
   "cell_type": "code",
   "execution_count": 37,
   "metadata": {},
   "outputs": [
    {
     "ename": "AttributeError",
     "evalue": "'frozenset' object has no attribute 'add'",
     "output_type": "error",
     "traceback": [
      "\u001b[1;31m---------------------------------------------------------------------------\u001b[0m",
      "\u001b[1;31mAttributeError\u001b[0m                            Traceback (most recent call last)",
      "Cell \u001b[1;32mIn[37], line 2\u001b[0m\n\u001b[0;32m      1\u001b[0m \u001b[39m# Try to add a new value to the frozen set (this will raise an error)\u001b[39;00m\n\u001b[1;32m----> 2\u001b[0m s\u001b[39m.\u001b[39;49madd(\u001b[39m4\u001b[39m)  \u001b[39m# Raises an error because frozen sets are immutable\u001b[39;00m\n",
      "\u001b[1;31mAttributeError\u001b[0m: 'frozenset' object has no attribute 'add'"
     ]
    }
   ],
   "source": [
    "# Try to add a new value to the frozen set (this will raise an error)\n",
    "s.add(4)  # Raises an error because frozen sets are immutable"
   ]
  },
  {
   "attachments": {},
   "cell_type": "markdown",
   "metadata": {},
   "source": [
    "##### Dictionary\n",
    "\n",
    "Disctionary is a collection of key-value pairs. It is mutable, and does not have a specific order. It is defined using curly braces {}.\n",
    "\n",
    "| Имя     | Номер             |\n",
    "|---------|-------------------|\n",
    "| Алексей | +7 123 123-12-34  |\n",
    "| Никита  | +43 321 321-32-10 |"
   ]
  },
  {
   "cell_type": "code",
   "execution_count": 31,
   "metadata": {},
   "outputs": [
    {
     "name": "stdout",
     "output_type": "stream",
     "text": [
      "{'Алексей': '+7 123 123-12-34', 'Никита': '+43 321-32-10'}\n"
     ]
    }
   ],
   "source": [
    "# ключами может быть любой неизменяемый объект (строка, int, tuple) - как в set\n",
    "name_to_number = {\n",
    "    'Алексей': '+7 123 123-12-34',\n",
    "    'Никита': '+43 321-32-10'\n",
    "}\n",
    "print(name_to_number)"
   ]
  },
  {
   "cell_type": "code",
   "execution_count": 32,
   "metadata": {},
   "outputs": [
    {
     "data": {
      "text/plain": [
       "'+7 123 123-12-34'"
      ]
     },
     "execution_count": 32,
     "metadata": {},
     "output_type": "execute_result"
    }
   ],
   "source": [
    "# По ключу можно вытащить значение\n",
    "name_to_number['Алексей']"
   ]
  },
  {
   "cell_type": "code",
   "execution_count": 33,
   "metadata": {},
   "outputs": [
    {
     "name": "stdout",
     "output_type": "stream",
     "text": [
      "+43 321-32-10\n",
      "no info\n"
     ]
    }
   ],
   "source": [
    "# При этом, если ключа нет, то вылезет ошибка\n",
    "# Можно сделать без ошибки: попросить возвращать некое значение по-умолчанию, если ключ не найден\n",
    "print(name_to_number.get('Никита', 'no info'))\n",
    "# Выведет +43 321-32-10, т.к. ключ \"Никита\" присутствует в словаре\n",
    "\n",
    "print(name_to_number.get('Мария', 'no info'))\n",
    "# Выведет \"no info\", т.к. ключа \"Мария\" нет в словаре"
   ]
  },
  {
   "cell_type": "code",
   "execution_count": 34,
   "metadata": {},
   "outputs": [
    {
     "data": {
      "text/plain": [
       "'hidden'"
      ]
     },
     "execution_count": 34,
     "metadata": {},
     "output_type": "execute_result"
    }
   ],
   "source": [
    "# И точно также можно редактировать через присваиваение\n",
    "name_to_number['Владимир'] = 'hidden'\n",
    "name_to_number['Владимир']"
   ]
  },
  {
   "cell_type": "code",
   "execution_count": 35,
   "metadata": {},
   "outputs": [
    {
     "name": "stdout",
     "output_type": "stream",
     "text": [
      "foo: 1\n",
      "bar: 2\n",
      "baz: 3\n",
      "qux: 4\n",
      "The key 'qux' is in the dictionary.\n"
     ]
    }
   ],
   "source": [
    "# Create an empty dictionary\n",
    "d = {}\n",
    "\n",
    "# Create a dictionary with some initial key-value pairs\n",
    "d = {'foo': 1, 'bar': 2, 'baz': 3}\n",
    "\n",
    "# Access the value for a specific key\n",
    "value = d['foo']\n",
    "\n",
    "# Add a new key-value pair to the dictionary\n",
    "d['qux'] = 4\n",
    "\n",
    "# Iterate over the keys and values in the dictionary\n",
    "for key, value in d.items():\n",
    "    print(f\"{key}: {value}\")\n",
    "\n",
    "# Check if a key is in the dictionary\n",
    "if 'qux' in d:\n",
    "    print(\"The key 'qux' is in the dictionary.\")\n"
   ]
  },
  {
   "attachments": {},
   "cell_type": "markdown",
   "metadata": {},
   "source": [
    "##### Nested dictionary\n",
    "\n",
    "In Python, a nested variable is a variable that is defined inside another variable. This can be useful for organizing data and making it easier to access specific elements within a complex data structure. For example, you could have a list of dictionaries, where each dictionary contains several key-value pairs. In this case, the dictionaries would be considered nested variables, since they are defined within the list."
   ]
  },
  {
   "cell_type": "code",
   "execution_count": 8,
   "metadata": {},
   "outputs": [
    {
     "name": "stdout",
     "output_type": "stream",
     "text": [
      "{'name': 'John Doe', 'age': 32, 'email': 'johndoe@example.com'}\n"
     ]
    }
   ],
   "source": [
    "# Define a list of dictionaries\n",
    "data = [\n",
    "    {\n",
    "        \"name\": \"John Doe\",\n",
    "        \"age\": 32,\n",
    "        \"email\": \"johndoe@example.com\"\n",
    "    },\n",
    "    {\n",
    "        \"name\": \"Jane Doe\",\n",
    "        \"age\": 29,\n",
    "        \"email\": \"janedoe@example.com\"\n",
    "    }\n",
    "]\n",
    "\n",
    "# Access the first dictionary in the list\n",
    "first_dict = data[0]\n",
    "\n",
    "# Print the contents of the dictionary\n",
    "print(first_dict)\n"
   ]
  },
  {
   "attachments": {},
   "cell_type": "markdown",
   "metadata": {},
   "source": [
    "To change the age in the data variable from the previous example, you can access the dictionary that you want to modify and update the value of the \"age\" key. Here is an example:"
   ]
  },
  {
   "cell_type": "code",
   "execution_count": 9,
   "metadata": {},
   "outputs": [
    {
     "name": "stdout",
     "output_type": "stream",
     "text": [
      "{'name': 'John Doe', 'age': 33, 'email': 'johndoe@example.com'}\n"
     ]
    }
   ],
   "source": [
    "# Define a list of dictionaries\n",
    "data = [\n",
    "    {\n",
    "        \"name\": \"John Doe\",\n",
    "        \"age\": 32,\n",
    "        \"email\": \"johndoe@example.com\"\n",
    "    },\n",
    "    {\n",
    "        \"name\": \"Jane Doe\",\n",
    "        \"age\": 29,\n",
    "        \"email\": \"janedoe@example.com\"\n",
    "    }\n",
    "]\n",
    "\n",
    "# Access the first dictionary in the list\n",
    "first_dict = data[0]\n",
    "\n",
    "# Update the age in the dictionary\n",
    "first_dict[\"age\"] = 33\n",
    "\n",
    "# Print the contents of the dictionary to confirm the update\n",
    "print(first_dict)\n"
   ]
  },
  {
   "attachments": {},
   "cell_type": "markdown",
   "metadata": {},
   "source": [
    "##### Nested list\n",
    "A nested list is a list that contains one or more other lists as its elements. In Python, nested lists are created by placing a list within square brackets, [], as an element of another list. Nested lists can be useful for organizing and storing data in a hierarchical structure. You can access and manipulate the elements of a nested list using the same indexing and slicing techniques that you would use with a regular list."
   ]
  },
  {
   "cell_type": "code",
   "execution_count": 40,
   "metadata": {},
   "outputs": [
    {
     "name": "stdout",
     "output_type": "stream",
     "text": [
      "1\n",
      "2\n",
      "3\n",
      "4\n",
      "5\n",
      "6\n",
      "7\n",
      "8\n",
      "9\n",
      "10\n",
      "11\n",
      "12\n"
     ]
    }
   ],
   "source": [
    "# Create an empty list\n",
    "lst = []\n",
    "\n",
    "# Create a list with some initial values\n",
    "lst = [1, 2, 3]\n",
    "\n",
    "# Access the first element in the list\n",
    "first_element = lst[0]\n",
    "\n",
    "# Add a new element to the end of the list\n",
    "lst.append(4)\n",
    "\n",
    "# Create a nested list\n",
    "nested_lst = [[1, 2, 3], [4, 5, 6], [7, 8, 9]]\n",
    "\n",
    "# Access an element in the nested list\n",
    "element = nested_lst[1][2]  # This is the element 6\n",
    "\n",
    "# Add a new nested list to the outer list\n",
    "nested_lst.append([10, 11, 12])\n",
    "\n",
    "# Iterate over the elements in the nested list\n",
    "for sublist in nested_lst:\n",
    "    for element in sublist:\n",
    "        print(element)\n"
   ]
  },
  {
   "attachments": {},
   "cell_type": "markdown",
   "metadata": {},
   "source": [
    "### Conditional statements and loops"
   ]
  },
  {
   "attachments": {},
   "cell_type": "markdown",
   "metadata": {},
   "source": [
    "#### For loop"
   ]
  },
  {
   "attachments": {},
   "cell_type": "markdown",
   "metadata": {},
   "source": [
    "#### while loop"
   ]
  },
  {
   "attachments": {},
   "cell_type": "markdown",
   "metadata": {},
   "source": [
    "#### if statement"
   ]
  },
  {
   "attachments": {},
   "cell_type": "markdown",
   "metadata": {},
   "source": [
    "#### elif statement"
   ]
  },
  {
   "attachments": {},
   "cell_type": "markdown",
   "metadata": {},
   "source": [
    "#### break/continue statement"
   ]
  },
  {
   "attachments": {},
   "cell_type": "markdown",
   "metadata": {},
   "source": [
    "### Lesson 1: homework"
   ]
  },
  {
   "attachments": {},
   "cell_type": "markdown",
   "metadata": {},
   "source": [
    "## Lesson 2: Functions, types, work with strings"
   ]
  },
  {
   "attachments": {},
   "cell_type": "markdown",
   "metadata": {},
   "source": [
    "# Machine learning and applications\n",
    "\n"
   ]
  },
  {
   "attachments": {},
   "cell_type": "markdown",
   "metadata": {},
   "source": [
    "# Introduction to deeplearning\n",
    "\n"
   ]
  },
  {
   "attachments": {},
   "cell_type": "markdown",
   "metadata": {},
   "source": [
    "# Statistics and A/B tests\n",
    "\n"
   ]
  },
  {
   "attachments": {},
   "cell_type": "markdown",
   "metadata": {},
   "source": [
    "# Interviews and how to succeed\n",
    "\n"
   ]
  },
  {
   "attachments": {},
   "cell_type": "markdown",
   "metadata": {},
   "source": [
    "# Epilogue"
   ]
  }
 ],
 "metadata": {
  "kernelspec": {
   "display_name": "Python 3",
   "language": "python",
   "name": "python3"
  },
  "language_info": {
   "codemirror_mode": {
    "name": "ipython",
    "version": 3
   },
   "file_extension": ".py",
   "mimetype": "text/x-python",
   "name": "python",
   "nbconvert_exporter": "python",
   "pygments_lexer": "ipython3",
   "version": "3.10.9"
  },
  "orig_nbformat": 4,
  "vscode": {
   "interpreter": {
    "hash": "cdaf845c447f5b8a88f1bde010b8054a6111556832cc2133cdddd7f2255dae56"
   }
  }
 },
 "nbformat": 4,
 "nbformat_minor": 2
}
