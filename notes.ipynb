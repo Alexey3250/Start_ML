{
 "cells": [
  {
   "attachments": {},
   "cell_type": "markdown",
   "metadata": {},
   "source": [
    "# Applied programming in Python\n",
    "\n"
   ]
  },
  {
   "attachments": {},
   "cell_type": "markdown",
   "metadata": {},
   "source": [
    "## Lesson 1: Introduction to Python\n",
    "\n",
    "Let's get to know the main terms, learn the basic syntax of Python and find out what is the *dynamic programming* and *typing*. We will consider the basic data structures (*list, tuple, dict, set*) and learn how to perform operations on them. We will find out how to write loops (*for, while*) and conditional constructs (*if, elif, else*), as well as discuss why we need *break* and *continue*.\n",
    "\n",
    "https://www.youtube.com/watch?v=7f2FiEVL87o&ab_channel=karpov.courses\n",
    "\n",
    "<iframe width=\"1000\" height=\"600\" src=\"https://www.youtube.com/embed/7f2FiEVL87o\" title=\"YouTube video player\" frameborder=\"0\" allow=\"accelerometer; autoplay; clipboard-write; encrypted-media; gyroscope; picture-in-picture\" allowfullscreen></iframe>"
   ]
  },
  {
   "attachments": {},
   "cell_type": "markdown",
   "metadata": {},
   "source": [
    "### Basic mathematical operations\n",
    "\n",
    "In Python, the following mathematical operations can be performed using the standard mathematical operators:\n",
    "\n",
    "- Addition: +\n",
    "- Subtraction: -\n",
    "- Multiplication: *\n",
    "- Division: /\n",
    "- Modulus: %\n",
    "- Exponentiation: **\n",
    "- Floor division: //\n",
    "\n",
    "In Python, the modulus operator (%) is used to find the remainder after division. For example:\n"
   ]
  },
  {
   "attachments": {},
   "cell_type": "markdown",
   "metadata": {},
   "source": [
    "In Python, the modulus operator (%) is used to find the remainder after division. For example:"
   ]
  },
  {
   "cell_type": "code",
   "execution_count": null,
   "metadata": {},
   "outputs": [],
   "source": [
    "# Find the remainder after dividing 8 by 3\n",
    "remainder = 8 % 3\n",
    "\n",
    "# The remainder is 2, so the value of `remainder` is 2\n",
    "print(remainder)\n"
   ]
  },
  {
   "attachments": {},
   "cell_type": "markdown",
   "metadata": {},
   "source": [
    "In this code, 8 % 3 is evaluated to find the remainder after dividing 8 by 3. This is 2, so the value of remainder is 2.\n",
    "\n",
    "Floor division (//) is used to find the quotient of a division operation, but it rounds the result down to the nearest integer. For example:"
   ]
  },
  {
   "cell_type": "code",
   "execution_count": null,
   "metadata": {},
   "outputs": [],
   "source": [
    "# Find the quotient of 7 divided by 3\n",
    "quotient = 7 // 3\n",
    "\n",
    "# The quotient is rounded down to the nearest integer, so the value of `quotient` is 2\n",
    "print(quotient)\n"
   ]
  },
  {
   "attachments": {},
   "cell_type": "markdown",
   "metadata": {},
   "source": [
    "In this code, 7 // 3 is evaluated to find the quotient of 7 divided by 3. This is 2.33, but since we are using floor division, the result is rounded down to the nearest integer, so the value of quotient is 2."
   ]
  },
  {
   "attachments": {},
   "cell_type": "markdown",
   "metadata": {},
   "source": [
    "Additionally, Python has a number of built-in functions for performing more advanced mathematical operations, such as trigonometric functions (sin(), cos(), etc.), logarithms (log(), log10(), etc.), and more. These functions are typically found in the math module, which must be imported in order to use them. For example:"
   ]
  },
  {
   "cell_type": "code",
   "execution_count": null,
   "metadata": {},
   "outputs": [],
   "source": [
    "# Import the math module\n",
    "import math\n",
    "\n",
    "# Use the math module to calculate the sine of 30 degrees\n",
    "sine = math.sin(math.radians(30))"
   ]
  },
  {
   "attachments": {},
   "cell_type": "markdown",
   "metadata": {},
   "source": [
    "### Types of variables in Python\n",
    "\n",
    "In Python, variables can have different types. Some of the main types of variables in Python are:\n",
    "\n",
    "- Integer: an integer is a whole number, such as 1, 2, or 3.\n",
    "- Float: a float is a decimal number, such as 1.0, 2.0, or 3.5.\n",
    "- String: a string is a sequence of characters, such as \"hello\" or \"goodbye\".\n",
    "- Boolean: a boolean variable can have one of two values, True or False.\n",
    "- List: a list is a collection of other variables, such as [1, 2, 3] or [\"red\", \"green\", \"blue\"].\n",
    "- Tuple: a tuple is similar to a list, but it is **immutable**, meaning that it cannot be changed once it has been created.\n",
    "- Dictionary: a dictionary is a collection of key-value pairs, such as {\"name\": \"John\", \"age\": 30}.\n",
    "  \n",
    "Here are some examples of variables with different types in Python:"
   ]
  },
  {
   "cell_type": "code",
   "execution_count": null,
   "metadata": {},
   "outputs": [],
   "source": [
    "# Integer\n",
    "x = 1\n",
    "\n",
    "# Float\n",
    "y = 2.5\n",
    "\n",
    "# String\n",
    "z = \"hello\"\n",
    "\n",
    "# Boolean\n",
    "flag = True\n",
    "\n",
    "# List\n",
    "numbers = [1, 2, 3]\n",
    "\n",
    "# Tuple\n",
    "coordinates = (1, 2)\n",
    "\n",
    "# Dictionary\n",
    "person = {\"name\": \"John\", \"age\": 30}\n"
   ]
  },
  {
   "attachments": {},
   "cell_type": "markdown",
   "metadata": {},
   "source": [
    "The type of a variable in Python can be determined using the type() function. For example, the following code prints the types of the variables defined above:"
   ]
  },
  {
   "cell_type": "code",
   "execution_count": null,
   "metadata": {},
   "outputs": [],
   "source": [
    "print(type(x)) # <class 'int'>\n",
    "print(type(y)) # <class 'float'>\n",
    "print(type(z)) # <class 'str'>\n",
    "print(type(flag)) # <class 'bool'>\n",
    "print(type(numbers)) # <class 'list'>\n",
    "print(type(coordinates)) # <class 'tuple'>\n",
    "print(type(person)) # <class 'dict'>"
   ]
  },
  {
   "attachments": {},
   "cell_type": "markdown",
   "metadata": {},
   "source": [
    "#### Mutable and immutable objects\n",
    "\n",
    "Type\tMutable\tImmutable\n",
    "Lists\tYes\tNo\n",
    "Tuples\tNo\tYes\n",
    "Dictionaries\tYes\tNo\n",
    "Sets\tYes\tNo\n",
    "Strings\tNo\tYes\n",
    "Numbers\tNo\tYes"
   ]
  },
  {
   "cell_type": "code",
   "execution_count": null,
   "metadata": {},
   "outputs": [],
   "source": [
    "from IPython.display import HTML\n",
    "\n",
    "table = \"\"\"\n",
    "<table>\n",
    "  <tr>\n",
    "    <th>Type</th>\n",
    "    <th>Mutable</th>\n",
    "    <th>Immutable</th>\n",
    "  </tr>\n",
    "  <tr>\n",
    "    <td>Lists</td>\n",
    "    <td>Yes</td>\n",
    "    <td>No</td>\n",
    "  </tr>\n",
    "  <tr>\n",
    "    <td>Tuples</td>\n",
    "    <td>No</td>\n",
    "    <td>Yes</td>\n",
    "  </tr>\n",
    "  <tr>\n",
    "    <td>Dictionaries</td>\n",
    "    <td>Yes</td>\n",
    "    <td>No</td>\n",
    "  </tr>\n",
    "  <tr>\n",
    "    <td>Sets</td>\n",
    "    <td>Yes</td>\n",
    "    <td>No</td>\n",
    "  </tr>\n",
    "  <tr>\n",
    "    <td>Strings</td>\n",
    "    <td>No</td>\n",
    "    <td>Yes</td>\n",
    "  </tr>\n",
    "  <tr>\n",
    "    <td>Numbers</td>\n",
    "    <td>No</td>\n",
    "    <td>Yes</td>\n",
    "  </tr>\n",
    "</table>\n",
    "\"\"\"\n",
    "\n",
    "HTML(table)\n"
   ]
  },
  {
   "attachments": {},
   "cell_type": "markdown",
   "metadata": {},
   "source": [
    "# Machine learning and applications\n",
    "\n"
   ]
  },
  {
   "attachments": {},
   "cell_type": "markdown",
   "metadata": {},
   "source": [
    "# Introduction to deeplearning\n",
    "\n"
   ]
  },
  {
   "attachments": {},
   "cell_type": "markdown",
   "metadata": {},
   "source": [
    "# Statistics and A/B tests\n",
    "\n"
   ]
  },
  {
   "attachments": {},
   "cell_type": "markdown",
   "metadata": {},
   "source": [
    "# Interviews and how to succeed\n",
    "\n"
   ]
  },
  {
   "attachments": {},
   "cell_type": "markdown",
   "metadata": {},
   "source": [
    "# Epilogue"
   ]
  }
 ],
 "metadata": {
  "kernelspec": {
   "display_name": "Python 3",
   "language": "python",
   "name": "python3"
  },
  "language_info": {
   "name": "python",
   "version": "3.10.9 (tags/v3.10.9:1dd9be6, Dec  6 2022, 20:01:21) [MSC v.1934 64 bit (AMD64)]"
  },
  "orig_nbformat": 4,
  "vscode": {
   "interpreter": {
    "hash": "cdaf845c447f5b8a88f1bde010b8054a6111556832cc2133cdddd7f2255dae56"
   }
  }
 },
 "nbformat": 4,
 "nbformat_minor": 2
}
