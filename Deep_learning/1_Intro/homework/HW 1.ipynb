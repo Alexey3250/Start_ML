{
 "cells": [
  {
   "cell_type": "markdown",
   "id": "90f7166e",
   "metadata": {
    "pycharm": {
     "name": "#%% md\n"
    }
   },
   "source": [
    "# Занятие 1"
   ]
  },
  {
   "cell_type": "markdown",
   "id": "67da9159",
   "metadata": {
    "pycharm": {
     "name": "#%% md\n"
    }
   },
   "source": [
    "## Задание 1\n",
    "\n",
    "Какой должна быть функция активации?\n",
    "\n",
    " 1. Может быть и линейной, и нелинейной\n",
    " 1. Нелинейной\n",
    " 1. Линейной\n",
    " \n",
    "**Правильный ответ:** функция активации должна быть нелинейной. Иначе наши нейронные сети не смогут моделировать нелинейные зависимости между признаками и целевой переменной."
   ]
  },
  {
   "cell_type": "markdown",
   "id": "fda7a85e",
   "metadata": {
    "pycharm": {
     "name": "#%% md\n"
    }
   },
   "source": [
    "## Задание 2\n",
    "\n",
    "Что такое «слой» в глубинном обучении?\n",
    "\n",
    " 1. Часть изображения\n",
    " 1. Признаки объекта\n",
    " 1. Нелинейная функция\n",
    " 1. Преобразование\n",
    " \n",
    "**Правильный ответ:** как мы условились на лекции - «слой» в глубинном обучении это некоторое преобразование, которое применяется к одним данным и выдает другие данные."
   ]
  },
  {
   "cell_type": "markdown",
   "source": [
    "## Задание 3\n",
    "\n",
    "Сколько линейных моделей под капотом у полносвязного слоя, который принимает на вход 5 чисел и отдает на выход 10 чисел?\n",
    "\n",
    " 1. 7.5\n",
    " 1. 10\n",
    " 1. 5\n",
    " 1. 55\n",
    "\n",
    "**Правильный ответ:** в полносвязном слое приходят 5 чисел на вход и возвращаются 10 чисел на выход, это значит, что мы применяем 10 линейных моделей."
   ],
   "metadata": {
    "collapsed": false,
    "pycharm": {
     "name": "#%% md\n"
    }
   }
  },
  {
   "cell_type": "markdown",
   "id": "e81ddaef",
   "metadata": {
    "pycharm": {
     "name": "#%% md\n"
    }
   },
   "source": [
    "## Задание 4\n",
    "\n",
    "Сколько обучаемых параметров у полносвязного слоя, у которого 64 числа на вход и 10 чисел на выход?\n",
    "\n",
    " 1. 650\n",
    " 1. 6400\n",
    " 1. 64\n",
    " 1. 640\n",
    " \n",
    "**Правильный ответ:** в полносвязном слое приходят 64 числа на вход и возвращаются 10 чисел на выход, это значит, что мы применяем 10 линейных моделей, каждая из которых имеет (64 + 1) обучаемых параметров. Что в итоге дает нам 650. Формула для количества параметров в полносвязном слое: $m \\times (n + 1),$ где $m$ - это количество чисел на выход, а $n$ - количество чисел на вход."
   ]
  },
  {
   "cell_type": "markdown",
   "id": "999f1e5b",
   "metadata": {
    "pycharm": {
     "name": "#%% md\n"
    }
   },
   "source": [
    "## Задание 5\n",
    "\n",
    "Напишите функцию `function01`. Она должна иметь следующую сигнатуру:\n",
    "\n",
    "`def function01(tensor: torch.Tensor, count_over: str):`\n",
    "\n",
    "Если `count_over` равен `columns`, верните среднее тензора по колонкам. Если равен `rows`, то верните среднее по рядам. Гарантируется, что тензор будет матрицей (то есть будет иметь размерность 2).\n",
    "\n",
    "**Правильный ответ:**"
   ]
  },
  {
   "cell_type": "code",
   "execution_count": 1,
   "id": "94266d06",
   "metadata": {
    "pycharm": {
     "name": "#%%\n"
    }
   },
   "outputs": [],
   "source": [
    "import torch\n",
    "\n",
    "\n",
    "def function01(tensor: torch.Tensor, count_over: str):\n",
    "    if count_over == \"columns\":\n",
    "        return tensor.mean(dim=0)  # среднее по колонкам\n",
    "    if count_over == \"rows\":\n",
    "        return tensor.mean(dim=1)  # среднее по рядам"
   ]
  },
  {
   "cell_type": "code",
   "execution_count": 2,
   "id": "c580abcc",
   "metadata": {
    "pycharm": {
     "name": "#%%\n"
    }
   },
   "outputs": [
    {
     "data": {
      "text/plain": "tensor([[ 0.,  1.,  2.],\n        [ 3.,  4.,  5.],\n        [ 6.,  7.,  8.],\n        [ 9., 10., 11.],\n        [12., 13., 14.]])"
     },
     "execution_count": 2,
     "metadata": {},
     "output_type": "execute_result"
    }
   ],
   "source": [
    "x = torch.arange(15, dtype=torch.float32).reshape(5, 3)\n",
    "\n",
    "x"
   ]
  },
  {
   "cell_type": "code",
   "execution_count": 3,
   "id": "57b9514f",
   "metadata": {
    "pycharm": {
     "name": "#%%\n"
    }
   },
   "outputs": [
    {
     "data": {
      "text/plain": "tensor([6., 7., 8.])"
     },
     "execution_count": 3,
     "metadata": {},
     "output_type": "execute_result"
    }
   ],
   "source": [
    "function01(x, 'columns')"
   ]
  },
  {
   "cell_type": "code",
   "execution_count": 4,
   "id": "b681ff5d",
   "metadata": {
    "pycharm": {
     "name": "#%%\n"
    }
   },
   "outputs": [
    {
     "data": {
      "text/plain": "tensor([ 1.,  4.,  7., 10., 13.])"
     },
     "execution_count": 4,
     "metadata": {},
     "output_type": "execute_result"
    }
   ],
   "source": [
    "function01(x, 'rows')"
   ]
  },
  {
   "cell_type": "markdown",
   "id": "8c1f83d1",
   "metadata": {
    "pycharm": {
     "name": "#%% md\n"
    }
   },
   "source": [
    "## Задание 6\n",
    "\n",
    "Напишите функцию `function02`. Функции на вход должен приходить датасет — тензор-матрица признаков объектов. Ваша функция должна создать тензор-вектор с весами (пусть они будут из равномерного распределения на отрезке от 0 до 1) и вернуть их для дальнейшего обучения линейной регрессии без свободного коэффициента. Сделайте эти веса типа `float32`, для них нужно будет в процессе обучения вычислять градиенты (воспользуйтесь `requires_grad`).\n",
    "\n",
    "**Правильный ответ:**\n",
    "\n",
    "Если нам нужно создать веса для обучения линейной регрессии - нам нужно понять сколько признаков у нашего датасета, то есть `x.shape[1]`."
   ]
  },
  {
   "cell_type": "code",
   "execution_count": 5,
   "id": "f1d63105",
   "metadata": {
    "pycharm": {
     "name": "#%%\n"
    }
   },
   "outputs": [],
   "source": [
    "import torch\n",
    "\n",
    "\n",
    "def function02(x: torch.Tensor):\n",
    "    return torch.rand(x.shape[1], dtype=torch.float32, requires_grad=True)"
   ]
  },
  {
   "cell_type": "code",
   "execution_count": 6,
   "id": "f7198214",
   "metadata": {
    "pycharm": {
     "name": "#%%\n"
    }
   },
   "outputs": [
    {
     "data": {
      "text/plain": "tensor([[0.2757, 0.2043, 0.1700, 0.9087, 0.2743],\n        [0.2410, 0.7089, 0.0777, 0.1966, 0.4431],\n        [0.4491, 0.4141, 0.5535, 0.8035, 0.4169],\n        [0.3889, 0.1352, 0.3165, 0.6763, 0.7586],\n        [0.7434, 0.2942, 0.9308, 0.3763, 0.7160],\n        [0.8723, 0.0250, 0.2532, 0.7584, 0.0690],\n        [0.6419, 0.6918, 0.7235, 0.1620, 0.8213]])"
     },
     "execution_count": 6,
     "metadata": {},
     "output_type": "execute_result"
    }
   ],
   "source": [
    "x = torch.rand(7, 5)\n",
    "\n",
    "x"
   ]
  },
  {
   "cell_type": "code",
   "execution_count": 7,
   "id": "b8565a60",
   "metadata": {
    "pycharm": {
     "name": "#%%\n"
    }
   },
   "outputs": [
    {
     "data": {
      "text/plain": "tensor([0.6691, 0.2770, 0.0339, 0.2965, 0.4093], requires_grad=True)"
     },
     "execution_count": 7,
     "metadata": {},
     "output_type": "execute_result"
    }
   ],
   "source": [
    "w = function02(x)\n",
    "\n",
    "w"
   ]
  },
  {
   "cell_type": "markdown",
   "id": "ef2af66a",
   "metadata": {
    "pycharm": {
     "name": "#%% md\n"
    }
   },
   "source": [
    "## Задание 7\n",
    "\n",
    "Напишите функцию `function03`. Она должна принимать тензор-матрицу с объектами и тензор с правильными ответами, будем решать задачу регрессии: \n",
    "\n",
    "`def function03(x: torch.Tensor, y: torch.Tensor):`\n",
    "\n",
    "Создайте внутри функции веса для линейной регрессии (без свободного коэффициента), можете воспользоваться функцией из предыдущего степа, с помощью градиентного спуска подберите оптимальные веса для входных данных (используйте длину шага около `1e-2`). Верните эти веса из функции. Ваши обученные веса должны давать **MSE** на обучающей выборке меньше единицы.\n",
    "\n",
    "Входные данные будут выглядеть примерно так:\n",
    "\n",
    "```\n",
    "n_features = 2\n",
    "n_objects = 300\n",
    "\n",
    "w_true = torch.randn(n_features)\n",
    "X = (torch.rand(n_objects, n_features) - 0.5) * 5\n",
    "Y = X @ w_true + torch.randn(n_objects) / 2\n",
    "```\n",
    "\n",
    "**Правильный ответ:**"
   ]
  },
  {
   "cell_type": "code",
   "execution_count": 8,
   "id": "d7a976c6",
   "metadata": {
    "pycharm": {
     "name": "#%%\n"
    }
   },
   "outputs": [],
   "source": [
    "import torch\n",
    "\n",
    "\n",
    "def function03(x: torch.Tensor, y: torch.Tensor):\n",
    "    w = torch.rand(x.shape[1], dtype=torch.float32, requires_grad=True)  # инициализируем веса как в прошлом задании\n",
    "\n",
    "    mse = torch.tensor([100])  # начальная ошибка, которая точно больше единицы\n",
    "\n",
    "    while mse.item() > 1:  # делаем цикл пока у нас ошибка больше единицы\n",
    "        y_pred = x @ w  # делаем предсказания с помощью текущих весов\n",
    "\n",
    "        mse = torch.mean((y_pred - y) ** 2)  # считаем ошибку\n",
    "\n",
    "        mse.backward()  # делаем обратное распространение ошибки - считаем градиенты\n",
    "\n",
    "        with torch.no_grad():  # выключаем подсчет градиентов на время обновления весов\n",
    "            w = w - w.grad * 1e-2  # обновляем параметры, после такой операции градиент у w становится равен None\n",
    "            \n",
    "        w.requires_grad = True  # включаем градиенты для w\n",
    "\n",
    "    return w  # возвращаем веса, которые дают MSE меньше единицы на нашем датасете\n"
   ]
  },
  {
   "cell_type": "code",
   "execution_count": 9,
   "id": "b9cb4cb4",
   "metadata": {
    "pycharm": {
     "name": "#%%\n"
    }
   },
   "outputs": [
    {
     "data": {
      "text/plain": "tensor(0.8862, grad_fn=<MeanBackward0>)"
     },
     "execution_count": 9,
     "metadata": {},
     "output_type": "execute_result"
    }
   ],
   "source": [
    "n_features = 2\n",
    "n_objects = 300\n",
    "\n",
    "w_true = torch.randn(n_features)\n",
    "X = (torch.rand(n_objects, n_features) - 0.5) * 5\n",
    "Y = X @ w_true + torch.randn(n_objects) / 2\n",
    "\n",
    "w = function03(X, Y)\n",
    "\n",
    "(X @ w - Y).square().mean()"
   ]
  },
  {
   "cell_type": "code",
   "execution_count": 10,
   "id": "6f9a5b49",
   "metadata": {
    "pycharm": {
     "name": "#%%\n"
    }
   },
   "outputs": [],
   "source": [
    "# альтернативный вариант\n",
    "import torch\n",
    "\n",
    "\n",
    "def function03(x: torch.Tensor, y: torch.Tensor):\n",
    "    w = torch.rand(x.shape[1], dtype=torch.float32, requires_grad=True)  # инициализируем веса как в прошлом задании\n",
    "\n",
    "    mse = torch.tensor([100])  # начальная ошибка, которая точно больше единицы\n",
    "\n",
    "    while mse.item() > 1:  # делаем цикл пока у нас ошибка больше единицы\n",
    "        y_pred = x @ w  # делаем предсказания с помощью текущих весов\n",
    "\n",
    "        mse = torch.mean((y_pred - y) ** 2)  # считаем ошибку\n",
    "\n",
    "        mse.backward()  # делаем обратное распространение ошибки - считаем градиенты\n",
    "\n",
    "        with torch.no_grad():  # выключаем подсчет градиентов на время обновления весов\n",
    "            w -= w.grad * 1e-2  # обновляем параметры\n",
    "            \n",
    "        w.grad.zero_() # зануляем градиенты для w\n",
    "\n",
    "    return w  # возвращаем веса, которые дают MSE меньше единицы на нашем датасете\n"
   ]
  },
  {
   "cell_type": "markdown",
   "id": "fe84d550",
   "metadata": {
    "pycharm": {
     "name": "#%% md\n"
    }
   },
   "source": [
    "## Задание 8\n",
    "\n",
    "Напишите функцию `function04`. Она должна принимать тензор-матрицу с объектами и тензор с правильными ответами, будем решать задачу регрессии: \n",
    "\n",
    "`def function04(x: torch.Tensor, y: torch.Tensor):`\n",
    "\n",
    "Создайте внутри функции полносвязный слой, обучите этот полносвязный слой на входных данных с помощью градиентного спуска (используйте длину шага около `1e-2`). Верните его из функции. Ваш полносвязный слой должен давать **MSE** на обучающей выборке меньше 0.3.\n",
    "\n",
    "Входные данные будут выглядеть примерно так:\n",
    "\n",
    "```\n",
    "n_features = 2\n",
    "n_objects = 300\n",
    "\n",
    "w_true = torch.randn(n_features)\n",
    "X = (torch.rand(n_objects, n_features) - 0.5) * 5\n",
    "Y = X @ w_true + torch.randn(n_objects) / 2\n",
    "```\n",
    "\n",
    "**Правильный ответ:**"
   ]
  },
  {
   "cell_type": "code",
   "execution_count": 11,
   "id": "c9c5c5b2",
   "metadata": {
    "pycharm": {
     "name": "#%%\n"
    }
   },
   "outputs": [],
   "source": [
    "import torch\n",
    "import torch.nn as nn\n",
    "\n",
    "\n",
    "def function04(x: torch.Tensor, y: torch.Tensor):\n",
    "    layer = nn.Linear(x.shape[1], 1, bias=True)\n",
    "\n",
    "    mse = torch.tensor([100])\n",
    "\n",
    "    while mse > 0.3:\n",
    "        mse = torch.mean((layer(x).ravel() - y) ** 2)\n",
    "\n",
    "        mse.backward()\n",
    "\n",
    "        with torch.no_grad():\n",
    "            layer.weight -= layer.weight.grad * 1e-2\n",
    "            layer.bias -= layer.bias.grad * 1e-2\n",
    "\n",
    "        layer.zero_grad()\n",
    "\n",
    "    return layer"
   ]
  },
  {
   "cell_type": "code",
   "execution_count": 12,
   "id": "25c8f9ae",
   "metadata": {
    "pycharm": {
     "name": "#%%\n"
    }
   },
   "outputs": [],
   "source": [
    "n_features = 2\n",
    "n_objects = 300\n",
    "\n",
    "w_true = torch.randn(n_features)\n",
    "X = (torch.rand(n_objects, n_features) - 0.5) * 5\n",
    "Y = X @ w_true + torch.randn(n_objects) / 2\n",
    "\n",
    "layer = function04(X, Y)"
   ]
  },
  {
   "cell_type": "code",
   "execution_count": 13,
   "id": "d2ed102a",
   "metadata": {
    "pycharm": {
     "name": "#%%\n"
    }
   },
   "outputs": [
    {
     "data": {
      "text/plain": "tensor(0.2927, grad_fn=<MeanBackward0>)"
     },
     "execution_count": 13,
     "metadata": {},
     "output_type": "execute_result"
    }
   ],
   "source": [
    "(layer(X).ravel() - Y).square().mean()"
   ]
  }
 ],
 "metadata": {
  "kernelspec": {
   "display_name": "Python 3 (ipykernel)",
   "language": "python",
   "name": "python3"
  },
  "language_info": {
   "codemirror_mode": {
    "name": "ipython",
    "version": 3
   },
   "file_extension": ".py",
   "mimetype": "text/x-python",
   "name": "python",
   "nbconvert_exporter": "python",
   "pygments_lexer": "ipython3",
   "version": "3.9.5"
  }
 },
 "nbformat": 4,
 "nbformat_minor": 5
}