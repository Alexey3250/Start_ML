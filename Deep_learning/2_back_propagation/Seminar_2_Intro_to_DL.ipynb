{
 "cells": [
  {
   "cell_type": "markdown",
   "metadata": {},
   "source": [
    "# Оптимизация нейронных сетей. Метод обратного распространения ошибки (ноутбук)\n",
    "\n",
    "> Узнаем как устроена оптимизация нейронных сетей. Оптимизация в `PyTorch`."
   ]
  },
  {
   "cell_type": "markdown",
   "metadata": {},
   "source": [
    "## План ноутбука\n",
    "\n",
    "1. Высокоуровневое API для обучение нейросетей в `PyTorch`\n",
    "2. Обучение первой нейросети в `PyTorch`"
   ]
  },
  {
   "cell_type": "markdown",
   "metadata": {},
   "source": [
    "## Высокоуровневое API для обучение нейросетей в `PyTorch`"
   ]
  },
  {
   "cell_type": "code",
   "execution_count": 1,
   "metadata": {
    "pycharm": {
     "name": "#%%\n"
    }
   },
   "outputs": [],
   "source": [
    "import torch\n",
    "import torch.nn as nn"
   ]
  },
  {
   "cell_type": "markdown",
   "metadata": {},
   "source": [
    "### Создание объекта нейросети"
   ]
  },
  {
   "cell_type": "code",
   "execution_count": 2,
   "metadata": {
    "pycharm": {
     "name": "#%%\n"
    }
   },
   "outputs": [],
   "source": [
    "net = nn.Sequential(\n",
    "    nn.Linear(700, 500),\n",
    "    nn.ReLU(),\n",
    "    nn.Linear(500, 200),\n",
    "    nn.ReLU(),\n",
    "    nn.Linear(200, 10)\n",
    ")"
   ]
  },
  {
   "cell_type": "code",
   "execution_count": 3,
   "metadata": {},
   "outputs": [
    {
     "data": {
      "text/plain": [
       "Sequential(\n",
       "  (0): Linear(in_features=700, out_features=500, bias=True)\n",
       "  (1): ReLU()\n",
       "  (2): Linear(in_features=500, out_features=200, bias=True)\n",
       "  (3): ReLU()\n",
       "  (4): Linear(in_features=200, out_features=10, bias=True)\n",
       ")"
      ]
     },
     "execution_count": 3,
     "metadata": {},
     "output_type": "execute_result"
    }
   ],
   "source": [
    "net"
   ]
  },
  {
   "cell_type": "code",
   "execution_count": 4,
   "metadata": {
    "pycharm": {
     "name": "#%%\n"
    }
   },
   "outputs": [],
   "source": [
    "from collections import OrderedDict\n",
    "\n",
    "net = nn.Sequential(\n",
    "    OrderedDict(\n",
    "        [\n",
    "            ('linear1', nn.Linear(700, 500)),\n",
    "            ('relu1', nn.ReLU()),\n",
    "            ('linear2', nn.Linear(500, 200)),\n",
    "            ('relu2', nn.ReLU()),\n",
    "            ('linear3', nn.Linear(200, 10))\n",
    "        ]\n",
    "    )\n",
    ")"
   ]
  },
  {
   "cell_type": "code",
   "execution_count": 5,
   "metadata": {},
   "outputs": [
    {
     "data": {
      "text/plain": [
       "Linear(in_features=700, out_features=500, bias=True)"
      ]
     },
     "execution_count": 5,
     "metadata": {},
     "output_type": "execute_result"
    }
   ],
   "source": [
    "net.linear1"
   ]
  },
  {
   "cell_type": "code",
   "execution_count": 6,
   "metadata": {
    "pycharm": {
     "name": "#%%\n"
    }
   },
   "outputs": [
    {
     "data": {
      "text/plain": [
       "torch.Size([10, 10])"
      ]
     },
     "execution_count": 6,
     "metadata": {},
     "output_type": "execute_result"
    }
   ],
   "source": [
    "input_tensor = torch.rand(10, 700)\n",
    "\n",
    "net(input_tensor).shape"
   ]
  },
  {
   "cell_type": "code",
   "execution_count": 7,
   "metadata": {
    "pycharm": {
     "name": "#%%\n"
    }
   },
   "outputs": [],
   "source": [
    "class CustomTaskNetwork(nn.Module):\n",
    "    def __init__(self):\n",
    "        super().__init__()\n",
    "\n",
    "        self.linear1 = nn.Linear(700, 500)\n",
    "        self.linear2 = nn.Linear(500, 200)\n",
    "        self.linear3 = nn.Linear(200, 10)\n",
    "\n",
    "        self.activation = nn.ReLU()\n",
    "\n",
    "    def forward(self, x):\n",
    "        output = self.activation(self.linear1(x))\n",
    "        output = self.activation(self.linear2(output))\n",
    "        output = self.linear3(output)\n",
    "\n",
    "        return output"
   ]
  },
  {
   "cell_type": "code",
   "execution_count": 8,
   "metadata": {
    "pycharm": {
     "name": "#%%\n"
    }
   },
   "outputs": [
    {
     "data": {
      "text/plain": [
       "torch.Size([10, 10])"
      ]
     },
     "execution_count": 8,
     "metadata": {},
     "output_type": "execute_result"
    }
   ],
   "source": [
    "net = CustomTaskNetwork()\n",
    "\n",
    "net(input_tensor).shape"
   ]
  },
  {
   "cell_type": "code",
   "execution_count": 9,
   "metadata": {
    "pycharm": {
     "name": "#%%\n"
    }
   },
   "outputs": [
    {
     "data": {
      "text/plain": [
       "CustomTaskNetwork(\n",
       "  (linear1): Linear(in_features=700, out_features=500, bias=True)\n",
       "  (linear2): Linear(in_features=500, out_features=200, bias=True)\n",
       "  (linear3): Linear(in_features=200, out_features=10, bias=True)\n",
       "  (activation): ReLU()\n",
       ")"
      ]
     },
     "execution_count": 9,
     "metadata": {},
     "output_type": "execute_result"
    }
   ],
   "source": [
    "net.to()"
   ]
  },
  {
   "cell_type": "code",
   "execution_count": 10,
   "metadata": {
    "pycharm": {
     "name": "#%%\n"
    }
   },
   "outputs": [
    {
     "data": {
      "text/plain": [
       "CustomTaskNetwork(\n",
       "  (linear1): Linear(in_features=700, out_features=500, bias=True)\n",
       "  (linear2): Linear(in_features=500, out_features=200, bias=True)\n",
       "  (linear3): Linear(in_features=200, out_features=10, bias=True)\n",
       "  (activation): ReLU()\n",
       ")"
      ]
     },
     "execution_count": 10,
     "metadata": {},
     "output_type": "execute_result"
    }
   ],
   "source": [
    "net.train()\n",
    "net.eval()\n",
    "\n",
    "net.requires_grad_()"
   ]
  },
  {
   "cell_type": "code",
   "execution_count": 11,
   "metadata": {
    "pycharm": {
     "name": "#%%\n"
    }
   },
   "outputs": [
    {
     "data": {
      "text/plain": [
       "<generator object Module.parameters at 0x000001FD1C113D80>"
      ]
     },
     "execution_count": 11,
     "metadata": {},
     "output_type": "execute_result"
    }
   ],
   "source": [
    "net.parameters()"
   ]
  },
  {
   "cell_type": "code",
   "execution_count": 12,
   "metadata": {},
   "outputs": [
    {
     "data": {
      "text/plain": [
       "OrderedDict([('linear1.weight',\n",
       "              tensor([[-0.0338, -0.0093,  0.0364,  ...,  0.0167,  0.0309, -0.0063],\n",
       "                      [-0.0369,  0.0038,  0.0101,  ...,  0.0313,  0.0213,  0.0276],\n",
       "                      [-0.0027,  0.0088,  0.0151,  ..., -0.0370,  0.0142, -0.0272],\n",
       "                      ...,\n",
       "                      [-0.0354,  0.0153, -0.0014,  ..., -0.0016,  0.0076,  0.0099],\n",
       "                      [ 0.0062, -0.0148,  0.0168,  ...,  0.0356,  0.0343, -0.0148],\n",
       "                      [ 0.0041, -0.0286,  0.0366,  ..., -0.0166,  0.0122,  0.0239]])),\n",
       "             ('linear1.bias',\n",
       "              tensor([-1.5122e-02,  1.2968e-02,  1.8069e-02, -1.1961e-02, -2.1621e-02,\n",
       "                       3.4446e-02,  2.2807e-02,  1.6546e-02, -3.1989e-02, -1.9881e-02,\n",
       "                      -1.9563e-03, -3.6873e-02,  2.4671e-02, -3.4304e-02,  1.7142e-02,\n",
       "                      -1.5850e-02,  1.4538e-02,  5.1733e-03, -1.3177e-02, -3.0195e-02,\n",
       "                      -2.9304e-02, -9.4041e-03, -6.2303e-03,  5.6370e-03, -2.9670e-02,\n",
       "                       2.2128e-02,  3.3548e-03, -7.4557e-03, -1.9948e-02, -4.0286e-03,\n",
       "                      -3.7805e-03,  9.8687e-03, -3.6157e-02, -2.7523e-02, -2.6044e-02,\n",
       "                       2.7837e-03, -2.8278e-02, -1.1465e-02,  3.1612e-02,  3.7275e-02,\n",
       "                      -2.8616e-03, -2.2789e-02, -3.0859e-02, -1.1956e-02, -1.3139e-02,\n",
       "                      -3.7625e-02, -1.6776e-02, -2.4682e-02,  2.1964e-02,  6.1701e-03,\n",
       "                      -1.9164e-02,  6.8552e-03, -1.3150e-02,  7.4518e-04, -2.4068e-02,\n",
       "                       1.9022e-02,  7.2588e-03,  3.3062e-02, -5.5137e-03,  1.9076e-02,\n",
       "                       8.1165e-03, -1.4278e-02, -9.1346e-03, -2.1148e-02,  1.8216e-02,\n",
       "                       1.8521e-02,  3.3350e-03,  1.4482e-03,  3.1732e-02, -3.0673e-02,\n",
       "                       3.0470e-02, -1.9037e-02,  2.7222e-02, -3.1936e-02,  2.7663e-03,\n",
       "                       2.6051e-02, -3.1282e-02,  2.4099e-02, -3.4245e-04, -2.6632e-02,\n",
       "                       3.5706e-02, -8.6208e-03, -1.7164e-03, -2.1048e-02,  1.1892e-02,\n",
       "                      -1.6835e-02,  1.8894e-02, -5.8657e-03, -5.1062e-03, -1.0861e-02,\n",
       "                      -2.2305e-02, -3.0921e-02,  2.2944e-02,  1.2755e-02,  1.4164e-02,\n",
       "                      -1.2571e-02, -2.8326e-02,  7.9585e-03,  4.8100e-03,  1.8921e-02,\n",
       "                       2.6450e-02,  2.9504e-04,  6.2094e-03,  3.2823e-02,  1.9856e-02,\n",
       "                       3.0630e-03,  2.7007e-02,  1.0032e-02, -1.0901e-03,  9.7624e-03,\n",
       "                       1.9854e-03,  2.4358e-02, -1.8012e-02,  2.4736e-02,  1.2009e-02,\n",
       "                       3.0928e-02,  2.3147e-02, -3.6453e-02, -6.8400e-03,  1.0429e-02,\n",
       "                       2.1038e-02, -2.5562e-02, -1.8533e-02, -2.3529e-02,  5.6412e-03,\n",
       "                      -3.0583e-03,  2.9331e-02, -2.3752e-02, -1.1530e-02,  2.0740e-02,\n",
       "                       7.0175e-03,  3.4088e-02, -9.3828e-03, -3.3482e-02,  2.9449e-02,\n",
       "                      -2.5425e-02, -2.2518e-03,  8.7614e-04,  2.7827e-02,  2.4887e-02,\n",
       "                      -2.6582e-02, -2.2532e-02,  2.1297e-02, -1.0213e-02,  1.1418e-02,\n",
       "                       7.9428e-03,  1.4326e-02, -2.3933e-02, -8.4594e-05, -1.5258e-03,\n",
       "                      -2.5687e-02, -9.6069e-03,  3.3580e-02, -4.8392e-03, -2.5930e-02,\n",
       "                       3.2789e-02, -1.4650e-02,  1.0723e-03, -3.7191e-02,  4.7883e-04,\n",
       "                       4.5132e-03,  3.3554e-02,  1.1083e-02,  1.1632e-02, -2.9432e-03,\n",
       "                       1.0614e-02,  1.6311e-02,  4.8606e-03,  2.3887e-02,  2.5190e-02,\n",
       "                      -1.7668e-02, -2.0084e-02, -1.8540e-02, -7.6292e-03, -1.8497e-02,\n",
       "                      -1.5089e-02, -8.6701e-03, -2.7466e-02,  3.7897e-03,  3.6714e-02,\n",
       "                       2.4851e-04, -3.1960e-02, -1.0056e-02, -3.1438e-02, -2.2270e-02,\n",
       "                       2.6084e-02,  2.0177e-02,  2.7983e-02,  1.5411e-02, -3.3550e-02,\n",
       "                      -2.2280e-02,  2.2069e-03, -2.0227e-02, -3.3042e-02, -3.3978e-02,\n",
       "                       3.1902e-02, -1.3682e-02,  2.9480e-02, -3.0516e-02, -4.4041e-03,\n",
       "                       2.9093e-02,  1.9479e-02,  1.5838e-03,  1.9513e-02, -1.5435e-02,\n",
       "                       1.0826e-02, -1.6739e-02, -2.2326e-02,  3.3699e-02,  3.5586e-02,\n",
       "                       1.7209e-02, -5.4156e-03,  7.1251e-03, -1.8773e-02, -1.9009e-03,\n",
       "                      -8.6139e-03, -3.0532e-03, -3.6573e-02,  1.0457e-02, -2.5179e-02,\n",
       "                      -3.5233e-02, -1.4012e-02,  3.7526e-02,  1.0784e-02, -1.7433e-02,\n",
       "                      -1.4478e-02,  3.4225e-02, -1.5305e-02, -3.1866e-02, -3.2086e-02,\n",
       "                       1.2250e-02,  1.5479e-02,  2.2683e-02,  2.8426e-02,  2.2474e-02,\n",
       "                       1.9420e-02,  2.7588e-02, -6.3805e-04,  1.0898e-03,  2.1291e-04,\n",
       "                       1.5138e-02,  5.5775e-04, -3.4786e-02,  1.9379e-02, -2.8443e-02,\n",
       "                       5.7349e-03,  3.2232e-04,  3.7361e-02,  3.7325e-02, -3.7636e-02,\n",
       "                      -2.9518e-02, -9.5955e-03,  2.7699e-02,  1.0337e-02,  3.3882e-02,\n",
       "                      -1.7588e-03,  1.9572e-02, -3.5463e-02, -5.2049e-03,  1.0135e-02,\n",
       "                      -5.5798e-03, -1.5579e-02, -6.5654e-03,  1.7562e-03, -9.2252e-03,\n",
       "                      -3.4593e-02,  1.4322e-02, -3.2230e-02, -1.8611e-02,  3.0532e-02,\n",
       "                       9.5804e-03,  2.9774e-02,  3.1619e-02, -3.5583e-02, -1.6271e-02,\n",
       "                       1.1588e-03,  2.7977e-02, -3.2181e-02, -5.4236e-03, -2.7525e-02,\n",
       "                       2.0038e-02, -3.0495e-02, -1.4156e-02,  1.9772e-02,  2.6969e-03,\n",
       "                      -1.5368e-02, -2.6276e-02,  3.6013e-02,  3.1361e-02, -3.8148e-03,\n",
       "                      -2.2399e-02, -2.3065e-02,  3.1493e-02,  8.0064e-03,  1.7665e-02,\n",
       "                      -1.0957e-02,  7.0241e-04,  1.6497e-02, -2.3283e-02, -2.4084e-02,\n",
       "                      -7.9053e-03,  6.1662e-03, -1.1504e-02, -3.6820e-02,  2.8368e-02,\n",
       "                      -1.9799e-02, -1.8562e-02, -2.3548e-02,  3.5418e-02, -2.0122e-02,\n",
       "                      -9.5559e-03, -2.4697e-02, -1.2711e-02, -3.8106e-03,  3.2523e-02,\n",
       "                       1.9795e-02, -1.4386e-02, -1.4440e-02,  2.7185e-03,  2.6304e-02,\n",
       "                      -2.8513e-02,  5.5584e-03,  8.6005e-03,  1.3671e-02, -1.0008e-02,\n",
       "                      -2.8706e-02,  1.3995e-02, -2.7674e-02,  9.6782e-03,  3.2643e-02,\n",
       "                      -1.8042e-02,  2.7581e-03, -1.3452e-02,  1.6362e-02,  2.8820e-02,\n",
       "                      -1.6717e-02, -3.2054e-02, -3.6200e-02,  8.8340e-03,  3.0294e-02,\n",
       "                      -3.6348e-02,  3.1348e-02,  1.1716e-02, -1.3073e-02,  5.2449e-03,\n",
       "                       7.0885e-03,  3.8793e-03, -3.3050e-02, -8.3519e-03, -2.5534e-02,\n",
       "                      -9.9284e-03,  3.6517e-03,  2.7203e-02,  3.7406e-02, -2.8420e-02,\n",
       "                       1.2675e-02, -3.8495e-03, -3.0369e-03,  3.5351e-02,  1.7922e-02,\n",
       "                       1.0426e-02, -5.5244e-03, -8.0677e-03,  9.0355e-03, -2.0258e-02,\n",
       "                      -4.1726e-03, -2.2095e-03,  3.3790e-02, -5.4751e-03, -1.0229e-02,\n",
       "                      -3.6703e-02,  2.2759e-02,  1.7685e-02,  1.6660e-02, -1.2831e-02,\n",
       "                      -2.3480e-02,  3.3277e-02,  3.1417e-02, -1.1492e-02,  2.7734e-02,\n",
       "                       8.2325e-03, -1.7901e-02,  1.1038e-02,  1.2053e-02, -6.4543e-03,\n",
       "                      -1.1298e-02, -1.2303e-02, -1.4385e-02,  2.6961e-02,  1.7098e-02,\n",
       "                      -1.0875e-02,  2.8496e-02,  1.1518e-02, -1.8539e-02, -7.9156e-03,\n",
       "                       4.5960e-03,  5.3388e-03,  2.6722e-04,  2.6348e-02,  3.6574e-03,\n",
       "                      -7.8994e-03, -3.0275e-02,  3.2507e-02,  2.6676e-02,  1.0068e-02,\n",
       "                      -3.2962e-02,  6.5889e-04, -2.3560e-02, -4.3856e-03, -4.2265e-03,\n",
       "                       8.1157e-03, -3.6061e-03, -3.7824e-03,  1.3423e-02, -2.2968e-02,\n",
       "                      -1.8989e-02, -3.1860e-02, -3.5296e-02,  1.3932e-02, -2.8554e-02,\n",
       "                       2.8616e-02,  3.7201e-02, -1.8596e-02, -1.0793e-02, -3.6077e-02,\n",
       "                      -2.3641e-02,  1.8264e-03, -1.8049e-03, -6.6906e-05,  5.1924e-03,\n",
       "                       3.3461e-02,  1.4202e-02, -1.3686e-02,  3.7479e-02,  3.0116e-03,\n",
       "                       1.0400e-02, -3.1995e-02,  2.0965e-02, -2.3794e-02, -2.1233e-02,\n",
       "                      -2.1831e-02,  3.3566e-03, -1.9518e-02, -1.8252e-02, -3.2968e-02,\n",
       "                      -1.0790e-03,  1.3586e-02, -9.0183e-03,  4.2670e-03, -5.0847e-03,\n",
       "                       3.1548e-02,  3.7049e-02, -1.5731e-02, -3.1663e-02,  2.4644e-02,\n",
       "                       8.8739e-03, -2.7332e-02,  2.4410e-02, -1.7691e-02, -2.0703e-02,\n",
       "                       1.1165e-02, -4.0096e-03, -3.1006e-02, -4.0951e-03,  7.6108e-03,\n",
       "                       7.4709e-03, -2.3375e-02,  3.2370e-02,  2.5406e-02, -1.5644e-03,\n",
       "                       1.1136e-02,  3.4771e-02,  8.3862e-03,  8.0482e-03,  1.6769e-02,\n",
       "                       1.5965e-02,  3.2308e-02, -3.0731e-04, -2.3459e-02,  1.0738e-02,\n",
       "                       2.1114e-02, -2.9592e-02,  3.3601e-02,  1.6615e-02,  2.5263e-02,\n",
       "                      -2.2071e-02,  1.7032e-02, -1.0878e-02,  2.8438e-02, -7.4535e-03,\n",
       "                       9.2203e-03, -3.9492e-04, -2.2077e-02, -2.2278e-03, -2.8139e-02,\n",
       "                      -3.2297e-02,  7.5635e-03,  2.5207e-02,  1.4682e-02,  1.0464e-02])),\n",
       "             ('linear2.weight',\n",
       "              tensor([[ 0.0372,  0.0408, -0.0030,  ...,  0.0111, -0.0003, -0.0114],\n",
       "                      [ 0.0300,  0.0423, -0.0278,  ..., -0.0207,  0.0199, -0.0110],\n",
       "                      [-0.0128, -0.0317, -0.0282,  ...,  0.0016, -0.0101,  0.0048],\n",
       "                      ...,\n",
       "                      [ 0.0295, -0.0387, -0.0116,  ...,  0.0336,  0.0069,  0.0073],\n",
       "                      [-0.0373,  0.0073, -0.0405,  ...,  0.0092,  0.0447,  0.0291],\n",
       "                      [-0.0050, -0.0273,  0.0383,  ..., -0.0038, -0.0250, -0.0361]])),\n",
       "             ('linear2.bias',\n",
       "              tensor([-0.0163, -0.0048, -0.0277, -0.0092, -0.0075,  0.0066,  0.0108, -0.0079,\n",
       "                      -0.0053,  0.0336,  0.0384, -0.0063, -0.0431,  0.0100,  0.0241,  0.0326,\n",
       "                       0.0359, -0.0180, -0.0437,  0.0274, -0.0290,  0.0165, -0.0252,  0.0274,\n",
       "                      -0.0406, -0.0261, -0.0227,  0.0034, -0.0119, -0.0244, -0.0112,  0.0156,\n",
       "                      -0.0292, -0.0130,  0.0067, -0.0252, -0.0038, -0.0228, -0.0382, -0.0108,\n",
       "                      -0.0021,  0.0123, -0.0441, -0.0254,  0.0058, -0.0190, -0.0438,  0.0200,\n",
       "                      -0.0009,  0.0048, -0.0162,  0.0162, -0.0248, -0.0388, -0.0348,  0.0348,\n",
       "                      -0.0167, -0.0191, -0.0238, -0.0315, -0.0192,  0.0097,  0.0118, -0.0200,\n",
       "                      -0.0033, -0.0076,  0.0305, -0.0265,  0.0111, -0.0058,  0.0409, -0.0030,\n",
       "                      -0.0229, -0.0431,  0.0302, -0.0247, -0.0287,  0.0419, -0.0009, -0.0057,\n",
       "                       0.0127,  0.0091, -0.0316,  0.0138,  0.0045, -0.0351, -0.0256,  0.0110,\n",
       "                       0.0169, -0.0194, -0.0350, -0.0117, -0.0283,  0.0425, -0.0336,  0.0332,\n",
       "                      -0.0274, -0.0020, -0.0343,  0.0382,  0.0312, -0.0183,  0.0390, -0.0232,\n",
       "                      -0.0260, -0.0033,  0.0263,  0.0293, -0.0311,  0.0076,  0.0432, -0.0346,\n",
       "                      -0.0418, -0.0435,  0.0121,  0.0370,  0.0264, -0.0226,  0.0419,  0.0004,\n",
       "                       0.0221, -0.0072, -0.0101, -0.0072, -0.0081, -0.0446,  0.0235,  0.0301,\n",
       "                       0.0418,  0.0338, -0.0077, -0.0148,  0.0013, -0.0168,  0.0104, -0.0244,\n",
       "                      -0.0097,  0.0136, -0.0045, -0.0339, -0.0068, -0.0126,  0.0088,  0.0415,\n",
       "                       0.0373, -0.0423,  0.0315, -0.0238,  0.0147,  0.0214,  0.0238,  0.0349,\n",
       "                       0.0306, -0.0359, -0.0345,  0.0153, -0.0402,  0.0324, -0.0164, -0.0295,\n",
       "                      -0.0208, -0.0401, -0.0077, -0.0041,  0.0030, -0.0272, -0.0399,  0.0166,\n",
       "                       0.0396,  0.0002, -0.0063, -0.0101, -0.0104, -0.0272,  0.0445,  0.0160,\n",
       "                       0.0103,  0.0079, -0.0121, -0.0199,  0.0346, -0.0362,  0.0034, -0.0376,\n",
       "                       0.0442,  0.0281, -0.0019,  0.0384,  0.0138, -0.0402, -0.0132, -0.0200,\n",
       "                       0.0317, -0.0401,  0.0195, -0.0051,  0.0246,  0.0436, -0.0225, -0.0205])),\n",
       "             ('linear3.weight',\n",
       "              tensor([[-0.0531,  0.0301, -0.0343,  ..., -0.0013, -0.0597, -0.0490],\n",
       "                      [ 0.0361,  0.0590,  0.0633,  ...,  0.0617, -0.0385,  0.0194],\n",
       "                      [ 0.0574,  0.0579,  0.0013,  ..., -0.0259, -0.0448, -0.0486],\n",
       "                      ...,\n",
       "                      [ 0.0371,  0.0605,  0.0005,  ..., -0.0367, -0.0058,  0.0051],\n",
       "                      [-0.0548, -0.0421,  0.0608,  ..., -0.0604, -0.0189, -0.0073],\n",
       "                      [-0.0155,  0.0414, -0.0077,  ..., -0.0495,  0.0159, -0.0150]])),\n",
       "             ('linear3.bias',\n",
       "              tensor([ 0.0274, -0.0562,  0.0187,  0.0143, -0.0271, -0.0133, -0.0499, -0.0249,\n",
       "                      -0.0056, -0.0073]))])"
      ]
     },
     "execution_count": 12,
     "metadata": {},
     "output_type": "execute_result"
    }
   ],
   "source": [
    "net.state_dict()"
   ]
  },
  {
   "cell_type": "code",
   "execution_count": 13,
   "metadata": {
    "pycharm": {
     "name": "#%%\n"
    }
   },
   "outputs": [
    {
     "data": {
      "text/plain": [
       "<All keys matched successfully>"
      ]
     },
     "execution_count": 13,
     "metadata": {},
     "output_type": "execute_result"
    }
   ],
   "source": [
    "net.load_state_dict(net.state_dict())"
   ]
  },
  {
   "cell_type": "markdown",
   "metadata": {},
   "source": [
    "### Оптимизаторы"
   ]
  },
  {
   "cell_type": "code",
   "execution_count": 14,
   "metadata": {
    "pycharm": {
     "name": "#%%\n"
    }
   },
   "outputs": [],
   "source": [
    "from torch import optim"
   ]
  },
  {
   "cell_type": "code",
   "execution_count": 15,
   "metadata": {
    "pycharm": {
     "name": "#%%\n"
    }
   },
   "outputs": [
    {
     "data": {
      "text/plain": [
       "(torch.optim.sgd.SGD, torch.optim.adam.Adam)"
      ]
     },
     "execution_count": 15,
     "metadata": {},
     "output_type": "execute_result"
    }
   ],
   "source": [
    "optim.SGD, optim.Adam"
   ]
  },
  {
   "cell_type": "code",
   "execution_count": 16,
   "metadata": {
    "pycharm": {
     "name": "#%%\n"
    }
   },
   "outputs": [],
   "source": [
    "optimizer = optim.Adam(net.parameters(), lr=0.0001)"
   ]
  },
  {
   "cell_type": "code",
   "execution_count": 17,
   "metadata": {},
   "outputs": [
    {
     "data": {
      "text/plain": [
       "Adam (\n",
       "Parameter Group 0\n",
       "    amsgrad: False\n",
       "    betas: (0.9, 0.999)\n",
       "    capturable: False\n",
       "    differentiable: False\n",
       "    eps: 1e-08\n",
       "    foreach: None\n",
       "    fused: None\n",
       "    lr: 0.0001\n",
       "    maximize: False\n",
       "    weight_decay: 0\n",
       ")"
      ]
     },
     "execution_count": 17,
     "metadata": {},
     "output_type": "execute_result"
    }
   ],
   "source": [
    "optimizer"
   ]
  },
  {
   "cell_type": "code",
   "execution_count": 18,
   "metadata": {
    "pycharm": {
     "name": "#%%\n"
    }
   },
   "outputs": [],
   "source": [
    "optimizer = optim.SGD(\n",
    "    [\n",
    "        {'params': net.linear1.parameters()},\n",
    "        {'params': net.linear2.parameters(), 'lr': 1e-3}\n",
    "    ],\n",
    "    lr=1e-2,\n",
    "    momentum=0.9\n",
    ")"
   ]
  },
  {
   "cell_type": "code",
   "execution_count": 19,
   "metadata": {
    "pycharm": {
     "name": "#%%\n"
    }
   },
   "outputs": [],
   "source": [
    "optimizer.step()"
   ]
  },
  {
   "cell_type": "code",
   "execution_count": 20,
   "metadata": {
    "pycharm": {
     "name": "#%%\n"
    }
   },
   "outputs": [],
   "source": [
    "optimizer.zero_grad()"
   ]
  },
  {
   "cell_type": "markdown",
   "metadata": {},
   "source": [
    "### Функции потерь"
   ]
  },
  {
   "cell_type": "code",
   "execution_count": 21,
   "metadata": {
    "pycharm": {
     "name": "#%%\n"
    }
   },
   "outputs": [
    {
     "data": {
      "text/plain": [
       "(torch.nn.modules.loss.L1Loss,\n",
       " torch.nn.modules.loss.MSELoss,\n",
       " torch.nn.modules.loss.CrossEntropyLoss)"
      ]
     },
     "execution_count": 21,
     "metadata": {},
     "output_type": "execute_result"
    }
   ],
   "source": [
    "nn.L1Loss, nn.MSELoss, nn.CrossEntropyLoss"
   ]
  },
  {
   "cell_type": "code",
   "execution_count": 22,
   "metadata": {
    "pycharm": {
     "name": "#%%\n"
    }
   },
   "outputs": [],
   "source": [
    "loss = nn.MSELoss()"
   ]
  },
  {
   "cell_type": "code",
   "execution_count": 23,
   "metadata": {
    "pycharm": {
     "name": "#%%\n"
    }
   },
   "outputs": [
    {
     "name": "stdout",
     "output_type": "stream",
     "text": [
      "tensor(2.7450, grad_fn=<MseLossBackward0>)\n"
     ]
    }
   ],
   "source": [
    "input = torch.randn(3, 5, requires_grad=True)\n",
    "target = torch.randn(3, 5)\n",
    "\n",
    "output = loss(input, target)\n",
    "\n",
    "print(output)\n",
    "\n",
    "output.backward()"
   ]
  },
  {
   "cell_type": "code",
   "execution_count": 24,
   "metadata": {
    "pycharm": {
     "name": "#%%\n"
    }
   },
   "outputs": [
    {
     "data": {
      "text/plain": [
       "tensor([[-0.0586, -0.3477, -0.1037, -0.4953,  0.1503],\n",
       "        [-0.2334, -0.0423,  0.0851, -0.0309, -0.0769],\n",
       "        [-0.3559,  0.2218, -0.0025, -0.2824,  0.0557]])"
      ]
     },
     "execution_count": 24,
     "metadata": {},
     "output_type": "execute_result"
    }
   ],
   "source": [
    "input.grad"
   ]
  },
  {
   "cell_type": "markdown",
   "metadata": {
    "pycharm": {
     "name": "#%% md\n"
    }
   },
   "source": [
    "### Датасеты и даталоадеры"
   ]
  },
  {
   "cell_type": "code",
   "execution_count": 25,
   "metadata": {
    "pycharm": {
     "name": "#%%\n"
    }
   },
   "outputs": [],
   "source": [
    "from torch.utils.data import Dataset\n",
    "from torch.utils.data import TensorDataset"
   ]
  },
  {
   "cell_type": "code",
   "execution_count": 26,
   "metadata": {
    "pycharm": {
     "name": "#%%\n"
    }
   },
   "outputs": [],
   "source": [
    "n_features = 2\n",
    "n_objects = 300\n",
    "\n",
    "torch.manual_seed(0);"
   ]
  },
  {
   "cell_type": "code",
   "execution_count": 27,
   "metadata": {
    "pycharm": {
     "name": "#%%\n"
    }
   },
   "outputs": [],
   "source": [
    "w_true = torch.randn(n_features)\n",
    "\n",
    "X = (torch.rand(n_objects, n_features) - 0.5) * 10\n",
    "X *= (torch.arange(n_features) * 2 + 1)\n",
    "Y = (X @ w_true + torch.randn(n_objects)).unsqueeze(1)"
   ]
  },
  {
   "cell_type": "code",
   "execution_count": 28,
   "metadata": {
    "pycharm": {
     "name": "#%%\n"
    }
   },
   "outputs": [],
   "source": [
    "dataset = TensorDataset(X, Y)"
   ]
  },
  {
   "cell_type": "code",
   "execution_count": 29,
   "metadata": {
    "pycharm": {
     "name": "#%%\n"
    }
   },
   "outputs": [
    {
     "data": {
      "text/plain": [
       "(tensor([-3.3897, -6.5319]), tensor([-3.7483]))"
      ]
     },
     "execution_count": 29,
     "metadata": {},
     "output_type": "execute_result"
    }
   ],
   "source": [
    "dataset[7]"
   ]
  },
  {
   "cell_type": "code",
   "execution_count": 30,
   "metadata": {
    "pycharm": {
     "name": "#%%\n"
    }
   },
   "outputs": [
    {
     "data": {
      "text/plain": [
       "(tensor([-3.3897, -6.5319]), tensor([-3.7483]))"
      ]
     },
     "execution_count": 30,
     "metadata": {},
     "output_type": "execute_result"
    }
   ],
   "source": [
    "X[7], Y[7]"
   ]
  },
  {
   "cell_type": "code",
   "execution_count": 31,
   "metadata": {
    "pycharm": {
     "name": "#%%\n"
    }
   },
   "outputs": [],
   "source": [
    "class CustomDataset(Dataset):\n",
    "    def __init__(self, w_true, n_features, n_objects):\n",
    "        self.X = (torch.rand(n_objects, n_features) - 0.5) * 10\n",
    "        self.X *= (torch.arange(n_features) * 2 + 1)\n",
    "        self.Y = self.X @ w_true + torch.randn(n_objects)\n",
    "\n",
    "    def __len__(self):\n",
    "        return len(self.Y)\n",
    "\n",
    "    def __getitem__(self, item):\n",
    "        return self.X[item], self.Y[item]"
   ]
  },
  {
   "cell_type": "code",
   "execution_count": 32,
   "metadata": {},
   "outputs": [],
   "source": [
    "dataset = CustomDataset(w_true, n_features, n_objects)"
   ]
  },
  {
   "cell_type": "code",
   "execution_count": 33,
   "metadata": {
    "pycharm": {
     "name": "#%%\n"
    }
   },
   "outputs": [],
   "source": [
    "from torch.utils.data import DataLoader"
   ]
  },
  {
   "cell_type": "code",
   "execution_count": 34,
   "metadata": {
    "pycharm": {
     "name": "#%%\n"
    }
   },
   "outputs": [],
   "source": [
    "loader = DataLoader(dataset, batch_size=4, shuffle=True)"
   ]
  },
  {
   "cell_type": "code",
   "execution_count": 35,
   "metadata": {
    "pycharm": {
     "name": "#%%\n"
    }
   },
   "outputs": [
    {
     "name": "stdout",
     "output_type": "stream",
     "text": [
      "torch.Size([4, 2])\n",
      "torch.Size([4, 2])\n",
      "torch.Size([4, 2])\n",
      "torch.Size([4, 2])\n",
      "torch.Size([4, 2])\n",
      "torch.Size([4, 2])\n",
      "torch.Size([4, 2])\n",
      "torch.Size([4, 2])\n",
      "torch.Size([4, 2])\n",
      "torch.Size([4, 2])\n",
      "torch.Size([4, 2])\n",
      "torch.Size([4, 2])\n",
      "torch.Size([4, 2])\n",
      "torch.Size([4, 2])\n",
      "torch.Size([4, 2])\n",
      "torch.Size([4, 2])\n",
      "torch.Size([4, 2])\n",
      "torch.Size([4, 2])\n",
      "torch.Size([4, 2])\n",
      "torch.Size([4, 2])\n",
      "torch.Size([4, 2])\n",
      "torch.Size([4, 2])\n",
      "torch.Size([4, 2])\n",
      "torch.Size([4, 2])\n",
      "torch.Size([4, 2])\n",
      "torch.Size([4, 2])\n",
      "torch.Size([4, 2])\n",
      "torch.Size([4, 2])\n",
      "torch.Size([4, 2])\n",
      "torch.Size([4, 2])\n",
      "torch.Size([4, 2])\n",
      "torch.Size([4, 2])\n",
      "torch.Size([4, 2])\n",
      "torch.Size([4, 2])\n",
      "torch.Size([4, 2])\n",
      "torch.Size([4, 2])\n",
      "torch.Size([4, 2])\n",
      "torch.Size([4, 2])\n",
      "torch.Size([4, 2])\n",
      "torch.Size([4, 2])\n",
      "torch.Size([4, 2])\n",
      "torch.Size([4, 2])\n",
      "torch.Size([4, 2])\n",
      "torch.Size([4, 2])\n",
      "torch.Size([4, 2])\n",
      "torch.Size([4, 2])\n",
      "torch.Size([4, 2])\n",
      "torch.Size([4, 2])\n",
      "torch.Size([4, 2])\n",
      "torch.Size([4, 2])\n",
      "torch.Size([4, 2])\n",
      "torch.Size([4, 2])\n",
      "torch.Size([4, 2])\n",
      "torch.Size([4, 2])\n",
      "torch.Size([4, 2])\n",
      "torch.Size([4, 2])\n",
      "torch.Size([4, 2])\n",
      "torch.Size([4, 2])\n",
      "torch.Size([4, 2])\n",
      "torch.Size([4, 2])\n",
      "torch.Size([4, 2])\n",
      "torch.Size([4, 2])\n",
      "torch.Size([4, 2])\n",
      "torch.Size([4, 2])\n",
      "torch.Size([4, 2])\n",
      "torch.Size([4, 2])\n",
      "torch.Size([4, 2])\n",
      "torch.Size([4, 2])\n",
      "torch.Size([4, 2])\n",
      "torch.Size([4, 2])\n",
      "torch.Size([4, 2])\n",
      "torch.Size([4, 2])\n",
      "torch.Size([4, 2])\n",
      "torch.Size([4, 2])\n",
      "torch.Size([4, 2])\n"
     ]
    }
   ],
   "source": [
    "for x, y in loader:\n",
    "    print(x.shape)"
   ]
  },
  {
   "cell_type": "code",
   "execution_count": 36,
   "metadata": {
    "pycharm": {
     "name": "#%%\n"
    }
   },
   "outputs": [
    {
     "data": {
      "text/plain": [
       "torch.Size([300, 2])"
      ]
     },
     "execution_count": 36,
     "metadata": {},
     "output_type": "execute_result"
    }
   ],
   "source": [
    "X.shape"
   ]
  },
  {
   "cell_type": "markdown",
   "metadata": {},
   "source": [
    "### Общая структура обучения модели"
   ]
  },
  {
   "cell_type": "code",
   "execution_count": 37,
   "metadata": {},
   "outputs": [
    {
     "ename": "NameError",
     "evalue": "name 'model' is not defined",
     "output_type": "error",
     "traceback": [
      "\u001b[1;31m---------------------------------------------------------------------------\u001b[0m",
      "\u001b[1;31mNameError\u001b[0m                                 Traceback (most recent call last)",
      "Cell \u001b[1;32mIn[37], line 1\u001b[0m\n\u001b[1;32m----> 1\u001b[0m model\u001b[39m.\u001b[39mtrain()\n\u001b[0;32m      3\u001b[0m \u001b[39mfor\u001b[39;00m x, y \u001b[39min\u001b[39;00m dataloader:\n\u001b[0;32m      5\u001b[0m     optimizer\u001b[39m.\u001b[39mzero_grad()\n",
      "\u001b[1;31mNameError\u001b[0m: name 'model' is not defined"
     ]
    }
   ],
   "source": [
    "\n",
    "\n",
    "model.train()\n",
    "\n",
    "for x, y in dataloader:\n",
    "\n",
    "    optimizer.zero_grad()\n",
    "\n",
    "    output = model(x)\n",
    "\n",
    "    loss = loss_fn(output, y)\n",
    "\n",
    "    loss.backward()\n",
    "\n",
    "    optimizer.step()"
   ]
  },
  {
   "cell_type": "markdown",
   "metadata": {},
   "source": [
    "## Обучение первой нейросети в `PyTorch`"
   ]
  },
  {
   "cell_type": "code",
   "execution_count": null,
   "metadata": {
    "pycharm": {
     "name": "#%%\n"
    }
   },
   "outputs": [],
   "source": [
    "class CustomTaskNetwork(nn.Module):\n",
    "    def __init__(self):\n",
    "        super().__init__()\n",
    "\n",
    "        self.linear = nn.Linear(n_features, 1)\n",
    "\n",
    "    def forward(self, x):\n",
    "        return self.linear(x)\n",
    "\n",
    "net = CustomTaskNetwork()\n",
    "\n",
    "optimizer = optim.Adam(net.parameters(), lr=1e-1)\n",
    "\n",
    "loss_fn = nn.MSELoss()\n",
    "\n",
    "dataset = TensorDataset(X, Y)\n",
    "\n",
    "loader = DataLoader(dataset, batch_size=4, shuffle=True)\n",
    "\n",
    "w_list = torch.empty(len(loader) + 1, n_features)"
   ]
  },
  {
   "cell_type": "code",
   "execution_count": null,
   "metadata": {
    "pycharm": {
     "name": "#%%\n"
    }
   },
   "outputs": [
    {
     "name": "stdout",
     "output_type": "stream",
     "text": [
      "MSE на шаге 0 28.63088\n",
      "MSE на шаге 1 45.38396\n",
      "MSE на шаге 2 1.64545\n",
      "MSE на шаге 3 30.87534\n",
      "MSE на шаге 4 45.28118\n",
      "MSE на шаге 5 11.27283\n",
      "MSE на шаге 6 9.16029\n",
      "MSE на шаге 7 14.66862\n",
      "MSE на шаге 8 13.91990\n",
      "MSE на шаге 9 14.74506\n",
      "MSE на шаге 10 10.66703\n",
      "MSE на шаге 11 12.45725\n",
      "MSE на шаге 12 14.94521\n",
      "MSE на шаге 13 10.00435\n",
      "MSE на шаге 14 2.04556\n",
      "MSE на шаге 15 9.38099\n",
      "MSE на шаге 16 9.90906\n",
      "MSE на шаге 17 2.16970\n",
      "MSE на шаге 18 1.53581\n",
      "MSE на шаге 19 5.15861\n",
      "MSE на шаге 20 0.65541\n",
      "MSE на шаге 21 2.19203\n",
      "MSE на шаге 22 1.33867\n",
      "MSE на шаге 23 1.24042\n",
      "MSE на шаге 24 1.43382\n",
      "MSE на шаге 25 2.31887\n",
      "MSE на шаге 26 0.67618\n",
      "MSE на шаге 27 2.36088\n",
      "MSE на шаге 28 1.00729\n",
      "MSE на шаге 29 0.30867\n",
      "MSE на шаге 30 3.10810\n",
      "MSE на шаге 31 1.03187\n",
      "MSE на шаге 32 1.54535\n",
      "MSE на шаге 33 0.91494\n",
      "MSE на шаге 34 0.71947\n",
      "MSE на шаге 35 1.57248\n",
      "MSE на шаге 36 1.05323\n",
      "MSE на шаге 37 1.56655\n",
      "MSE на шаге 38 1.97591\n",
      "MSE на шаге 39 1.25570\n",
      "MSE на шаге 40 2.83284\n",
      "MSE на шаге 41 3.17145\n",
      "MSE на шаге 42 1.99665\n",
      "MSE на шаге 43 0.17588\n",
      "MSE на шаге 44 1.93378\n",
      "MSE на шаге 45 1.50835\n",
      "MSE на шаге 46 0.19229\n",
      "MSE на шаге 47 2.37160\n",
      "MSE на шаге 48 1.79891\n",
      "MSE на шаге 49 1.32140\n",
      "MSE на шаге 50 0.50359\n",
      "MSE на шаге 51 0.89421\n",
      "MSE на шаге 52 0.33572\n",
      "MSE на шаге 53 0.40519\n",
      "MSE на шаге 54 1.37717\n",
      "MSE на шаге 55 0.33658\n",
      "MSE на шаге 56 0.61777\n",
      "MSE на шаге 57 0.37216\n",
      "MSE на шаге 58 0.23090\n",
      "MSE на шаге 59 1.73778\n",
      "MSE на шаге 60 0.77039\n",
      "MSE на шаге 61 0.84526\n",
      "MSE на шаге 62 1.67799\n",
      "MSE на шаге 63 0.45080\n",
      "MSE на шаге 64 0.23165\n",
      "MSE на шаге 65 0.40536\n",
      "MSE на шаге 66 1.60400\n",
      "MSE на шаге 67 0.48095\n",
      "MSE на шаге 68 0.92880\n",
      "MSE на шаге 69 1.30958\n",
      "MSE на шаге 70 1.90105\n",
      "MSE на шаге 71 0.78089\n",
      "MSE на шаге 72 0.77918\n",
      "MSE на шаге 73 0.53447\n",
      "MSE на шаге 74 2.56288\n"
     ]
    }
   ],
   "source": [
    "net.train()\n",
    "\n",
    "for i, (x, y) in enumerate(loader):\n",
    "    w_list[i] = net.linear.weight.detach().clone()\n",
    "\n",
    "    optimizer.zero_grad()\n",
    "\n",
    "    output = net(x)\n",
    "\n",
    "    loss = loss_fn(output, y)\n",
    "\n",
    "    print(f'MSE на шаге {i} {loss.item():.5f}')\n",
    "\n",
    "    loss.backward()\n",
    "\n",
    "    optimizer.step()\n",
    "\n",
    "w_list[len(loader)] = net.linear.weight.detach().clone()"
   ]
  },
  {
   "cell_type": "code",
   "execution_count": null,
   "metadata": {
    "pycharm": {
     "name": "#%%\n"
    }
   },
   "outputs": [
    {
     "ename": "ValueError",
     "evalue": "Mime type rendering requires nbformat>=4.2.0 but it is not installed",
     "output_type": "error",
     "traceback": [
      "\u001b[1;31m---------------------------------------------------------------------------\u001b[0m",
      "\u001b[1;31mValueError\u001b[0m                                Traceback (most recent call last)",
      "Cell \u001b[1;32mIn[53], line 3\u001b[0m\n\u001b[0;32m      1\u001b[0m \u001b[39mfrom\u001b[39;00m \u001b[39mplot_trajectory\u001b[39;00m \u001b[39mimport\u001b[39;00m plot_trajectory\n\u001b[1;32m----> 3\u001b[0m plot_trajectory(\n\u001b[0;32m      4\u001b[0m     w_list\u001b[39m.\u001b[39;49mnumpy(),\n\u001b[0;32m      5\u001b[0m     w_true\u001b[39m.\u001b[39;49mnumpy(),\n\u001b[0;32m      6\u001b[0m     X\u001b[39m.\u001b[39;49mnumpy(),\n\u001b[0;32m      7\u001b[0m     Y\u001b[39m.\u001b[39;49msqueeze(\u001b[39m1\u001b[39;49m)\u001b[39m.\u001b[39;49mnumpy(),\n\u001b[0;32m      8\u001b[0m     \u001b[39m'\u001b[39;49m\u001b[39mMini-batch градиентный спуск\u001b[39;49m\u001b[39m'\u001b[39;49m\n\u001b[0;32m      9\u001b[0m )\n",
      "File \u001b[1;32mc:\\Users\\Alex\\Desktop\\Repos\\Start_ML\\Deep_learning\\2_back_propagation\\plot_trajectory.py:130\u001b[0m, in \u001b[0;36mplot_trajectory\u001b[1;34m(w_list, w_true, X, Y, name)\u001b[0m\n\u001b[0;32m    120\u001b[0m fig\u001b[39m.\u001b[39mupdate_layout(legend\u001b[39m=\u001b[39m\u001b[39mdict\u001b[39m(\n\u001b[0;32m    121\u001b[0m     orientation\u001b[39m=\u001b[39m\u001b[39m\"\u001b[39m\u001b[39mh\u001b[39m\u001b[39m\"\u001b[39m,\n\u001b[0;32m    122\u001b[0m     yanchor\u001b[39m=\u001b[39m\u001b[39m\"\u001b[39m\u001b[39mbottom\u001b[39m\u001b[39m\"\u001b[39m,\n\u001b[1;32m   (...)\u001b[0m\n\u001b[0;32m    125\u001b[0m     x\u001b[39m=\u001b[39m\u001b[39m1\u001b[39m\n\u001b[0;32m    126\u001b[0m ))\n\u001b[0;32m    128\u001b[0m fig\u001b[39m.\u001b[39mupdate_traces(showlegend\u001b[39m=\u001b[39m\u001b[39mTrue\u001b[39;00m)\n\u001b[1;32m--> 130\u001b[0m fig\u001b[39m.\u001b[39;49mshow()\n",
      "File \u001b[1;32mc:\\Users\\Alex\\AppData\\Local\\Programs\\Python\\Python310\\lib\\site-packages\\plotly\\basedatatypes.py:3390\u001b[0m, in \u001b[0;36mBaseFigure.show\u001b[1;34m(self, *args, **kwargs)\u001b[0m\n\u001b[0;32m   3357\u001b[0m \u001b[39m\u001b[39m\u001b[39m\"\"\"\u001b[39;00m\n\u001b[0;32m   3358\u001b[0m \u001b[39mShow a figure using either the default renderer(s) or the renderer(s)\u001b[39;00m\n\u001b[0;32m   3359\u001b[0m \u001b[39mspecified by the renderer argument\u001b[39;00m\n\u001b[1;32m   (...)\u001b[0m\n\u001b[0;32m   3386\u001b[0m \u001b[39mNone\u001b[39;00m\n\u001b[0;32m   3387\u001b[0m \u001b[39m\"\"\"\u001b[39;00m\n\u001b[0;32m   3388\u001b[0m \u001b[39mimport\u001b[39;00m \u001b[39mplotly\u001b[39;00m\u001b[39m.\u001b[39;00m\u001b[39mio\u001b[39;00m \u001b[39mas\u001b[39;00m \u001b[39mpio\u001b[39;00m\n\u001b[1;32m-> 3390\u001b[0m \u001b[39mreturn\u001b[39;00m pio\u001b[39m.\u001b[39mshow(\u001b[39mself\u001b[39m, \u001b[39m*\u001b[39margs, \u001b[39m*\u001b[39m\u001b[39m*\u001b[39mkwargs)\n",
      "File \u001b[1;32mc:\\Users\\Alex\\AppData\\Local\\Programs\\Python\\Python310\\lib\\site-packages\\plotly\\io\\_renderers.py:396\u001b[0m, in \u001b[0;36mshow\u001b[1;34m(fig, renderer, validate, **kwargs)\u001b[0m\n\u001b[0;32m    391\u001b[0m         \u001b[39mraise\u001b[39;00m \u001b[39mValueError\u001b[39;00m(\n\u001b[0;32m    392\u001b[0m             \u001b[39m\"\u001b[39m\u001b[39mMime type rendering requires ipython but it is not installed\u001b[39m\u001b[39m\"\u001b[39m\n\u001b[0;32m    393\u001b[0m         )\n\u001b[0;32m    395\u001b[0m     \u001b[39mif\u001b[39;00m \u001b[39mnot\u001b[39;00m nbformat \u001b[39mor\u001b[39;00m Version(nbformat\u001b[39m.\u001b[39m__version__) \u001b[39m<\u001b[39m Version(\u001b[39m\"\u001b[39m\u001b[39m4.2.0\u001b[39m\u001b[39m\"\u001b[39m):\n\u001b[1;32m--> 396\u001b[0m         \u001b[39mraise\u001b[39;00m \u001b[39mValueError\u001b[39;00m(\n\u001b[0;32m    397\u001b[0m             \u001b[39m\"\u001b[39m\u001b[39mMime type rendering requires nbformat>=4.2.0 but it is not installed\u001b[39m\u001b[39m\"\u001b[39m\n\u001b[0;32m    398\u001b[0m         )\n\u001b[0;32m    400\u001b[0m     ipython_display\u001b[39m.\u001b[39mdisplay(bundle, raw\u001b[39m=\u001b[39m\u001b[39mTrue\u001b[39;00m)\n\u001b[0;32m    402\u001b[0m \u001b[39m# external renderers\u001b[39;00m\n",
      "\u001b[1;31mValueError\u001b[0m: Mime type rendering requires nbformat>=4.2.0 but it is not installed"
     ]
    }
   ],
   "source": [
    "from plot_trajectory import plot_trajectory\n",
    "\n",
    "plot_trajectory(\n",
    "    w_list.numpy(),\n",
    "    w_true.numpy(),\n",
    "    X.numpy(),\n",
    "    Y.squeeze(1).numpy(),\n",
    "    'Mini-batch градиентный спуск'\n",
    ")"
   ]
  },
  {
   "cell_type": "code",
   "execution_count": null,
   "metadata": {
    "pycharm": {
     "name": "#%%\n"
    }
   },
   "outputs": [],
   "source": [
    "num_epochs = 5\n",
    "\n",
    "w_list = torch.empty(len(loader) * num_epochs + 1, n_features)\n",
    "\n",
    "net = CustomTaskNetwork()\n",
    "\n",
    "optimizer = optim.Adam(net.parameters(), lr=1e-1)"
   ]
  },
  {
   "cell_type": "code",
   "execution_count": null,
   "metadata": {
    "pycharm": {
     "name": "#%%\n"
    }
   },
   "outputs": [
    {
     "name": "stdout",
     "output_type": "stream",
     "text": [
      "MSE после эпохи 0 6.04939\n",
      "MSE после эпохи 1 1.08135\n",
      "MSE после эпохи 2 1.09777\n",
      "MSE после эпохи 3 1.24916\n",
      "MSE после эпохи 4 1.12345\n"
     ]
    }
   ],
   "source": [
    "net.train()\n",
    "\n",
    "for epoch in range(num_epochs):\n",
    "    total_loss = 0\n",
    "\n",
    "    for i, (x, y) in enumerate(loader):\n",
    "        w_list[i + epoch * len(loader)] = net.linear.weight.detach().clone()\n",
    "\n",
    "        optimizer.zero_grad()\n",
    "\n",
    "        output = net(x)\n",
    "\n",
    "        loss = loss_fn(output, y)\n",
    "\n",
    "        total_loss += loss.item()\n",
    "\n",
    "        loss.backward()\n",
    "\n",
    "        optimizer.step()\n",
    "\n",
    "    total_loss /= len(loader)\n",
    "\n",
    "    print(f'MSE после эпохи {epoch} {total_loss:.5f}')\n",
    "\n",
    "w_list[len(loader) * num_epochs] = net.linear.weight.detach().clone()"
   ]
  },
  {
   "cell_type": "code",
   "execution_count": null,
   "metadata": {
    "pycharm": {
     "name": "#%%\n"
    }
   },
   "outputs": [
    {
     "ename": "ValueError",
     "evalue": "Mime type rendering requires nbformat>=4.2.0 but it is not installed",
     "output_type": "error",
     "traceback": [
      "\u001b[1;31m---------------------------------------------------------------------------\u001b[0m",
      "\u001b[1;31mValueError\u001b[0m                                Traceback (most recent call last)",
      "Cell \u001b[1;32mIn[57], line 3\u001b[0m\n\u001b[0;32m      1\u001b[0m \u001b[39mfrom\u001b[39;00m \u001b[39mplot_trajectory\u001b[39;00m \u001b[39mimport\u001b[39;00m plot_trajectory\n\u001b[1;32m----> 3\u001b[0m plot_trajectory(\n\u001b[0;32m      4\u001b[0m     w_list\u001b[39m.\u001b[39;49mnumpy(),\n\u001b[0;32m      5\u001b[0m     w_true\u001b[39m.\u001b[39;49mnumpy(),\n\u001b[0;32m      6\u001b[0m     X\u001b[39m.\u001b[39;49mnumpy(),\n\u001b[0;32m      7\u001b[0m     Y\u001b[39m.\u001b[39;49msqueeze(\u001b[39m1\u001b[39;49m)\u001b[39m.\u001b[39;49mnumpy(),\n\u001b[0;32m      8\u001b[0m     \u001b[39m'\u001b[39;49m\u001b[39mMini-batch градиентный спуск\u001b[39;49m\u001b[39m'\u001b[39;49m\n\u001b[0;32m      9\u001b[0m )\n",
      "File \u001b[1;32mc:\\Users\\Alex\\Desktop\\Repos\\Start_ML\\Deep_learning\\2_back_propagation\\plot_trajectory.py:130\u001b[0m, in \u001b[0;36mplot_trajectory\u001b[1;34m(w_list, w_true, X, Y, name)\u001b[0m\n\u001b[0;32m    120\u001b[0m fig\u001b[39m.\u001b[39mupdate_layout(legend\u001b[39m=\u001b[39m\u001b[39mdict\u001b[39m(\n\u001b[0;32m    121\u001b[0m     orientation\u001b[39m=\u001b[39m\u001b[39m\"\u001b[39m\u001b[39mh\u001b[39m\u001b[39m\"\u001b[39m,\n\u001b[0;32m    122\u001b[0m     yanchor\u001b[39m=\u001b[39m\u001b[39m\"\u001b[39m\u001b[39mbottom\u001b[39m\u001b[39m\"\u001b[39m,\n\u001b[1;32m   (...)\u001b[0m\n\u001b[0;32m    125\u001b[0m     x\u001b[39m=\u001b[39m\u001b[39m1\u001b[39m\n\u001b[0;32m    126\u001b[0m ))\n\u001b[0;32m    128\u001b[0m fig\u001b[39m.\u001b[39mupdate_traces(showlegend\u001b[39m=\u001b[39m\u001b[39mTrue\u001b[39;00m)\n\u001b[1;32m--> 130\u001b[0m fig\u001b[39m.\u001b[39;49mshow()\n",
      "File \u001b[1;32mc:\\Users\\Alex\\AppData\\Local\\Programs\\Python\\Python310\\lib\\site-packages\\plotly\\basedatatypes.py:3390\u001b[0m, in \u001b[0;36mBaseFigure.show\u001b[1;34m(self, *args, **kwargs)\u001b[0m\n\u001b[0;32m   3357\u001b[0m \u001b[39m\u001b[39m\u001b[39m\"\"\"\u001b[39;00m\n\u001b[0;32m   3358\u001b[0m \u001b[39mShow a figure using either the default renderer(s) or the renderer(s)\u001b[39;00m\n\u001b[0;32m   3359\u001b[0m \u001b[39mspecified by the renderer argument\u001b[39;00m\n\u001b[1;32m   (...)\u001b[0m\n\u001b[0;32m   3386\u001b[0m \u001b[39mNone\u001b[39;00m\n\u001b[0;32m   3387\u001b[0m \u001b[39m\"\"\"\u001b[39;00m\n\u001b[0;32m   3388\u001b[0m \u001b[39mimport\u001b[39;00m \u001b[39mplotly\u001b[39;00m\u001b[39m.\u001b[39;00m\u001b[39mio\u001b[39;00m \u001b[39mas\u001b[39;00m \u001b[39mpio\u001b[39;00m\n\u001b[1;32m-> 3390\u001b[0m \u001b[39mreturn\u001b[39;00m pio\u001b[39m.\u001b[39mshow(\u001b[39mself\u001b[39m, \u001b[39m*\u001b[39margs, \u001b[39m*\u001b[39m\u001b[39m*\u001b[39mkwargs)\n",
      "File \u001b[1;32mc:\\Users\\Alex\\AppData\\Local\\Programs\\Python\\Python310\\lib\\site-packages\\plotly\\io\\_renderers.py:396\u001b[0m, in \u001b[0;36mshow\u001b[1;34m(fig, renderer, validate, **kwargs)\u001b[0m\n\u001b[0;32m    391\u001b[0m         \u001b[39mraise\u001b[39;00m \u001b[39mValueError\u001b[39;00m(\n\u001b[0;32m    392\u001b[0m             \u001b[39m\"\u001b[39m\u001b[39mMime type rendering requires ipython but it is not installed\u001b[39m\u001b[39m\"\u001b[39m\n\u001b[0;32m    393\u001b[0m         )\n\u001b[0;32m    395\u001b[0m     \u001b[39mif\u001b[39;00m \u001b[39mnot\u001b[39;00m nbformat \u001b[39mor\u001b[39;00m Version(nbformat\u001b[39m.\u001b[39m__version__) \u001b[39m<\u001b[39m Version(\u001b[39m\"\u001b[39m\u001b[39m4.2.0\u001b[39m\u001b[39m\"\u001b[39m):\n\u001b[1;32m--> 396\u001b[0m         \u001b[39mraise\u001b[39;00m \u001b[39mValueError\u001b[39;00m(\n\u001b[0;32m    397\u001b[0m             \u001b[39m\"\u001b[39m\u001b[39mMime type rendering requires nbformat>=4.2.0 but it is not installed\u001b[39m\u001b[39m\"\u001b[39m\n\u001b[0;32m    398\u001b[0m         )\n\u001b[0;32m    400\u001b[0m     ipython_display\u001b[39m.\u001b[39mdisplay(bundle, raw\u001b[39m=\u001b[39m\u001b[39mTrue\u001b[39;00m)\n\u001b[0;32m    402\u001b[0m \u001b[39m# external renderers\u001b[39;00m\n",
      "\u001b[1;31mValueError\u001b[0m: Mime type rendering requires nbformat>=4.2.0 but it is not installed"
     ]
    }
   ],
   "source": [
    "from plot_trajectory import plot_trajectory\n",
    "\n",
    "plot_trajectory(\n",
    "    w_list.numpy(),\n",
    "    w_true.numpy(),\n",
    "    X.numpy(),\n",
    "    Y.squeeze(1).numpy(),\n",
    "    'Mini-batch градиентный спуск'\n",
    ")"
   ]
  },
  {
   "cell_type": "code",
   "execution_count": null,
   "metadata": {
    "pycharm": {
     "name": "#%%\n"
    }
   },
   "outputs": [],
   "source": []
  }
 ],
 "metadata": {
  "kernelspec": {
   "display_name": "Python 3 (ipykernel)",
   "language": "python",
   "name": "python3"
  },
  "language_info": {
   "codemirror_mode": {
    "name": "ipython",
    "version": 3
   },
   "file_extension": ".py",
   "mimetype": "text/x-python",
   "name": "python",
   "nbconvert_exporter": "python",
   "pygments_lexer": "ipython3",
   "version": "3.10.11"
  }
 },
 "nbformat": 4,
 "nbformat_minor": 1
}
