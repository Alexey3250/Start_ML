{
 "cells": [
  {
   "cell_type": "code",
   "execution_count": 57,
   "metadata": {},
   "outputs": [
    {
     "data": {
      "text/html": [
       "<div>\n",
       "<style scoped>\n",
       "    .dataframe tbody tr th:only-of-type {\n",
       "        vertical-align: middle;\n",
       "    }\n",
       "\n",
       "    .dataframe tbody tr th {\n",
       "        vertical-align: top;\n",
       "    }\n",
       "\n",
       "    .dataframe thead th {\n",
       "        text-align: right;\n",
       "    }\n",
       "</style>\n",
       "<table border=\"1\" class=\"dataframe\">\n",
       "  <thead>\n",
       "    <tr style=\"text-align: right;\">\n",
       "      <th></th>\n",
       "      <th>timestamp</th>\n",
       "      <th>user_id</th>\n",
       "      <th>post_id</th>\n",
       "      <th>target</th>\n",
       "      <th>age</th>\n",
       "      <th>text_length</th>\n",
       "      <th>business</th>\n",
       "      <th>covid</th>\n",
       "      <th>entertainment</th>\n",
       "      <th>movie</th>\n",
       "      <th>politics</th>\n",
       "      <th>sport</th>\n",
       "      <th>tech</th>\n",
       "      <th>views</th>\n",
       "      <th>likes</th>\n",
       "      <th>like_percentage</th>\n",
       "    </tr>\n",
       "  </thead>\n",
       "  <tbody>\n",
       "    <tr>\n",
       "      <th>0</th>\n",
       "      <td>1633378097</td>\n",
       "      <td>46109</td>\n",
       "      <td>1</td>\n",
       "      <td>1</td>\n",
       "      <td>24</td>\n",
       "      <td>324</td>\n",
       "      <td>8.0</td>\n",
       "      <td>7.0</td>\n",
       "      <td>10.0</td>\n",
       "      <td>15.0</td>\n",
       "      <td>8.0</td>\n",
       "      <td>13.0</td>\n",
       "      <td>3.0</td>\n",
       "      <td>8508</td>\n",
       "      <td>1067</td>\n",
       "      <td>0.013002</td>\n",
       "    </tr>\n",
       "    <tr>\n",
       "      <th>1</th>\n",
       "      <td>1633725339</td>\n",
       "      <td>136803</td>\n",
       "      <td>1</td>\n",
       "      <td>0</td>\n",
       "      <td>19</td>\n",
       "      <td>324</td>\n",
       "      <td>1.0</td>\n",
       "      <td>25.0</td>\n",
       "      <td>4.0</td>\n",
       "      <td>36.0</td>\n",
       "      <td>12.0</td>\n",
       "      <td>18.0</td>\n",
       "      <td>2.0</td>\n",
       "      <td>8508</td>\n",
       "      <td>1067</td>\n",
       "      <td>0.013002</td>\n",
       "    </tr>\n",
       "    <tr>\n",
       "      <th>2</th>\n",
       "      <td>1633903307</td>\n",
       "      <td>123995</td>\n",
       "      <td>1</td>\n",
       "      <td>0</td>\n",
       "      <td>45</td>\n",
       "      <td>324</td>\n",
       "      <td>3.0</td>\n",
       "      <td>11.0</td>\n",
       "      <td>2.0</td>\n",
       "      <td>15.0</td>\n",
       "      <td>1.0</td>\n",
       "      <td>0.0</td>\n",
       "      <td>4.0</td>\n",
       "      <td>8508</td>\n",
       "      <td>1067</td>\n",
       "      <td>0.013002</td>\n",
       "    </tr>\n",
       "    <tr>\n",
       "      <th>3</th>\n",
       "      <td>1633078406</td>\n",
       "      <td>56308</td>\n",
       "      <td>1</td>\n",
       "      <td>0</td>\n",
       "      <td>23</td>\n",
       "      <td>324</td>\n",
       "      <td>3.0</td>\n",
       "      <td>4.0</td>\n",
       "      <td>5.0</td>\n",
       "      <td>2.0</td>\n",
       "      <td>0.0</td>\n",
       "      <td>3.0</td>\n",
       "      <td>0.0</td>\n",
       "      <td>8508</td>\n",
       "      <td>1067</td>\n",
       "      <td>0.013002</td>\n",
       "    </tr>\n",
       "    <tr>\n",
       "      <th>4</th>\n",
       "      <td>1633951376</td>\n",
       "      <td>42615</td>\n",
       "      <td>1</td>\n",
       "      <td>0</td>\n",
       "      <td>22</td>\n",
       "      <td>324</td>\n",
       "      <td>2.0</td>\n",
       "      <td>21.0</td>\n",
       "      <td>5.0</td>\n",
       "      <td>36.0</td>\n",
       "      <td>14.0</td>\n",
       "      <td>9.0</td>\n",
       "      <td>3.0</td>\n",
       "      <td>8508</td>\n",
       "      <td>1067</td>\n",
       "      <td>0.013002</td>\n",
       "    </tr>\n",
       "  </tbody>\n",
       "</table>\n",
       "</div>"
      ],
      "text/plain": [
       "    timestamp  user_id  post_id  target  age  text_length  business  covid   \n",
       "0  1633378097    46109        1       1   24          324       8.0    7.0  \\\n",
       "1  1633725339   136803        1       0   19          324       1.0   25.0   \n",
       "2  1633903307   123995        1       0   45          324       3.0   11.0   \n",
       "3  1633078406    56308        1       0   23          324       3.0    4.0   \n",
       "4  1633951376    42615        1       0   22          324       2.0   21.0   \n",
       "\n",
       "   entertainment  movie  politics  sport  tech  views  likes  like_percentage  \n",
       "0           10.0   15.0       8.0   13.0   3.0   8508   1067         0.013002  \n",
       "1            4.0   36.0      12.0   18.0   2.0   8508   1067         0.013002  \n",
       "2            2.0   15.0       1.0    0.0   4.0   8508   1067         0.013002  \n",
       "3            5.0    2.0       0.0    3.0   0.0   8508   1067         0.013002  \n",
       "4            5.0   36.0      14.0    9.0   3.0   8508   1067         0.013002  "
      ]
     },
     "execution_count": 57,
     "metadata": {},
     "output_type": "execute_result"
    }
   ],
   "source": [
    "from sklearn.model_selection import train_test_split\n",
    "import pandas as pd\n",
    "from catboost import CatBoostClassifier\n",
    "import numpy as np\n",
    "\n",
    "# get data from csv file on desktop\n",
    "data = pd.read_csv(r'C:\\Users\\Alex\\Desktop\\data_sample_20.csv')\n",
    "\n",
    "data.head()"
   ]
  },
  {
   "cell_type": "code",
   "execution_count": 58,
   "metadata": {},
   "outputs": [],
   "source": [
    "'''Devision for train and test data'''\n",
    "\n",
    "user_ids = data['user_id'].unique()\n",
    "\n",
    "# shuffle user ids\n",
    "np.random.shuffle(user_ids)\n",
    "\n",
    "# split user ids into train and test\n",
    "train_user_ids = user_ids[:int(len(user_ids) * 0.8)]\n",
    "\n",
    "# split data into train and test\n",
    "train_df = data[data['user_id'].isin(train_user_ids)]\n",
    "test_df = data[~data['user_id'].isin(train_user_ids)]\n",
    "\n",
    "# Make sure 'user_id' and 'post_id' are set as index before creating 'X' and 'y'\n",
    "train_df.set_index(['user_id', 'post_id'], inplace=True)\n",
    "test_df.set_index(['user_id', 'post_id'], inplace=True)\n",
    "\n",
    "# split train and test into X and y\n",
    "X_train = train_df.drop('target', axis=1)\n",
    "y_train = train_df['target']\n",
    "\n",
    "X_test = test_df.drop('target', axis=1)\n",
    "y_test = test_df['target']\n"
   ]
  },
  {
   "cell_type": "code",
   "execution_count": 88,
   "metadata": {},
   "outputs": [
    {
     "name": "stdout",
     "output_type": "stream",
     "text": [
      "0:\tlearn: 0.1669926\ttest: 0.1638460\tbest: 0.1638460 (0)\ttotal: 521ms\tremaining: 4m 20s\n",
      "100:\tlearn: 0.1863634\ttest: 0.1812293\tbest: 0.1812293 (100)\ttotal: 1m 24s\tremaining: 5m 31s\n",
      "200:\tlearn: 0.1943553\ttest: 0.1826232\tbest: 0.1826235 (199)\ttotal: 2m 48s\tremaining: 4m 11s\n",
      "300:\tlearn: 0.2022917\ttest: 0.1829516\tbest: 0.1829516 (300)\ttotal: 4m 13s\tremaining: 2m 47s\n",
      "400:\tlearn: 0.2106343\ttest: 0.1828014\tbest: 0.1830000 (340)\ttotal: 5m 39s\tremaining: 1m 23s\n",
      "499:\tlearn: 0.2174983\ttest: 0.1828603\tbest: 0.1830000 (340)\ttotal: 7m 5s\tremaining: 0us\n",
      "\n",
      "bestTest = 0.1830000377\n",
      "bestIteration = 340\n",
      "\n",
      "Shrink model to first 341 iterations.\n"
     ]
    },
    {
     "data": {
      "text/plain": [
       "<catboost.core.CatBoostClassifier at 0x259920d4f70>"
      ]
     },
     "execution_count": 88,
     "metadata": {},
     "output_type": "execute_result"
    }
   ],
   "source": [
    "# Initialize CatBoostClassifier\n",
    "model = CatBoostClassifier(\n",
    "    iterations=500,  # Modify this parameter as needed\n",
    "    thread_count=8, \n",
    "    depth=10,  # Modify this parameter as needed\n",
    "    learning_rate=0.1,  # Modify this parameter as needed \n",
    "    eval_metric='PRAUC',  # Changed to PR AUC\n",
    "    verbose=100,  # Output the training process every 200 iterations\n",
    "    random_seed=42\n",
    ")\n",
    "\n",
    "# Fit model\n",
    "model.fit(X_train, y_train, eval_set=(X_test, y_test))\n"
   ]
  },
  {
   "cell_type": "code",
   "execution_count": 92,
   "metadata": {},
   "outputs": [],
   "source": [
    "# Save model\n",
    "model.save_model('catboost_model.cbm', format='cbm')"
   ]
  },
  {
   "cell_type": "code",
   "execution_count": 93,
   "metadata": {},
   "outputs": [
    {
     "data": {
      "text/plain": [
       "array([[0.95261071, 0.04738929],\n",
       "       [0.84549883, 0.15450117],\n",
       "       [0.76297423, 0.23702577],\n",
       "       ...,\n",
       "       [0.97836117, 0.02163883],\n",
       "       [0.88671247, 0.11328753],\n",
       "       [0.95833371, 0.04166629]])"
      ]
     },
     "execution_count": 93,
     "metadata": {},
     "output_type": "execute_result"
    }
   ],
   "source": [
    "from_file = CatBoostClassifier()\n",
    "from_file.load_model('catboost_model.cbm', format='cbm')\n",
    "from_file.get_params()\n",
    "from_file.predict_proba(X_test)"
   ]
  },
  {
   "cell_type": "code",
   "execution_count": 89,
   "metadata": {},
   "outputs": [
    {
     "data": {
      "image/png": "[encoded data removed]",
      "text/plain": [
       "<Figure size 1200x800 with 1 Axes>"
      ]
     },
     "metadata": {},
     "output_type": "display_data"
    }
   ],
   "source": [
    "import matplotlib.pyplot as plt\n",
    "\n",
    "# Get feature importances\n",
    "feature_importances = model.get_feature_importance()\n",
    "\n",
    "# Create a pandas dataframe for easier visualization\n",
    "importance_df = pd.DataFrame({\n",
    "    'Features': X_train.columns,\n",
    "    'Importance': feature_importances\n",
    "})\n",
    "\n",
    "# Sort the dataframe based on the feature importances\n",
    "importance_df = importance_df.sort_values(by='Importance', ascending=False)\n",
    "\n",
    "# Plot the feature importances\n",
    "plt.figure(figsize=(12, 8))\n",
    "plt.barh(importance_df['Features'], importance_df['Importance'])\n",
    "plt.xlabel('Importance')\n",
    "plt.ylabel('Features')\n",
    "plt.title('Feature Importances')\n",
    "plt.gca().invert_yaxis()\n",
    "plt.show()\n",
    "\n"
   ]
  },
  {
   "cell_type": "code",
   "execution_count": 90,
   "metadata": {},
   "outputs": [
    {
     "name": "stdout",
     "output_type": "stream",
     "text": [
      "Hitrate@5: 0.6304\n"
     ]
    }
   ],
   "source": [
    "def hitrate5(model, X, Y):\n",
    "    check = pd.concat([Y,\n",
    "                       pd.Series(model.predict_proba(X)[:,1], index=Y.index, name='probas')],\n",
    "                      axis=1)\n",
    "    check = check.reset_index().drop(columns='post_id')\n",
    "    \n",
    "    pred_list = [check[check.user_id == user_id].sort_values('probas', ascending=False).iloc[:5]\n",
    "                 for user_id in check.user_id.unique()]\n",
    "\n",
    "    return pd.concat(pred_list).groupby('user_id').target.sum().map(lambda x: min(1, x)).mean()\n",
    "\n",
    "print('Hitrate@5: {:.4f}'.format(hitrate5(model, X_test, y_test)))"
   ]
  }
 ],
 "metadata": {
  "kernelspec": {
   "display_name": "Python 3",
   "language": "python",
   "name": "python3"
  },
  "language_info": {
   "codemirror_mode": {
    "name": "ipython",
    "version": 3
   },
   "file_extension": ".py",
   "mimetype": "text/x-python",
   "name": "python",
   "nbconvert_exporter": "python",
   "pygments_lexer": "ipython3",
   "version": "3.10.11"
  },
  "orig_nbformat": 4
 },
 "nbformat": 4,
 "nbformat_minor": 2
}
