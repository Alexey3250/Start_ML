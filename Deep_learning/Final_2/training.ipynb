{
 "cells": [
  {
   "cell_type": "code",
   "execution_count": 8,
   "metadata": {},
   "outputs": [],
   "source": [
    "from sklearn.model_selection import train_test_split\n",
    "import pandas as pd\n",
    "from catboost import CatBoostClassifier\n",
    "import numpy as np"
   ]
  },
  {
   "cell_type": "code",
   "execution_count": 10,
   "metadata": {},
   "outputs": [],
   "source": [
    "# get data from csv file on desktop\n",
    "data = pd.read_csv(r'C:\\Users\\Alex\\Desktop\\data_sample_10.csv')"
   ]
  },
  {
   "cell_type": "code",
   "execution_count": 11,
   "metadata": {},
   "outputs": [
    {
     "data": {
      "text/html": [
       "<div>\n",
       "<style scoped>\n",
       "    .dataframe tbody tr th:only-of-type {\n",
       "        vertical-align: middle;\n",
       "    }\n",
       "\n",
       "    .dataframe tbody tr th {\n",
       "        vertical-align: top;\n",
       "    }\n",
       "\n",
       "    .dataframe thead th {\n",
       "        text-align: right;\n",
       "    }\n",
       "</style>\n",
       "<table border=\"1\" class=\"dataframe\">\n",
       "  <thead>\n",
       "    <tr style=\"text-align: right;\">\n",
       "      <th></th>\n",
       "      <th>timestamp</th>\n",
       "      <th>user_id</th>\n",
       "      <th>post_id</th>\n",
       "      <th>target</th>\n",
       "      <th>age</th>\n",
       "      <th>text_length</th>\n",
       "      <th>views</th>\n",
       "      <th>likes</th>\n",
       "      <th>like_percentage</th>\n",
       "      <th>average_likes</th>\n",
       "      <th>topic_business</th>\n",
       "      <th>topic_covid</th>\n",
       "      <th>topic_entertainment</th>\n",
       "      <th>topic_movie</th>\n",
       "      <th>topic_politics</th>\n",
       "      <th>topic_sport</th>\n",
       "      <th>topic_tech</th>\n",
       "    </tr>\n",
       "  </thead>\n",
       "  <tbody>\n",
       "    <tr>\n",
       "      <th>0</th>\n",
       "      <td>1639652406</td>\n",
       "      <td>46490</td>\n",
       "      <td>1</td>\n",
       "      <td>0</td>\n",
       "      <td>35</td>\n",
       "      <td>324</td>\n",
       "      <td>8508</td>\n",
       "      <td>1067</td>\n",
       "      <td>0.013002</td>\n",
       "      <td>1216.625181</td>\n",
       "      <td>True</td>\n",
       "      <td>False</td>\n",
       "      <td>False</td>\n",
       "      <td>False</td>\n",
       "      <td>False</td>\n",
       "      <td>False</td>\n",
       "      <td>False</td>\n",
       "    </tr>\n",
       "    <tr>\n",
       "      <th>1</th>\n",
       "      <td>1637521638</td>\n",
       "      <td>151675</td>\n",
       "      <td>1</td>\n",
       "      <td>0</td>\n",
       "      <td>26</td>\n",
       "      <td>324</td>\n",
       "      <td>8508</td>\n",
       "      <td>1067</td>\n",
       "      <td>0.013002</td>\n",
       "      <td>1216.625181</td>\n",
       "      <td>True</td>\n",
       "      <td>False</td>\n",
       "      <td>False</td>\n",
       "      <td>False</td>\n",
       "      <td>False</td>\n",
       "      <td>False</td>\n",
       "      <td>False</td>\n",
       "    </tr>\n",
       "    <tr>\n",
       "      <th>2</th>\n",
       "      <td>1635116209</td>\n",
       "      <td>51080</td>\n",
       "      <td>1</td>\n",
       "      <td>1</td>\n",
       "      <td>27</td>\n",
       "      <td>324</td>\n",
       "      <td>8508</td>\n",
       "      <td>1067</td>\n",
       "      <td>0.013002</td>\n",
       "      <td>1216.625181</td>\n",
       "      <td>True</td>\n",
       "      <td>False</td>\n",
       "      <td>False</td>\n",
       "      <td>False</td>\n",
       "      <td>False</td>\n",
       "      <td>False</td>\n",
       "      <td>False</td>\n",
       "    </tr>\n",
       "    <tr>\n",
       "      <th>3</th>\n",
       "      <td>1637512303</td>\n",
       "      <td>15445</td>\n",
       "      <td>1</td>\n",
       "      <td>0</td>\n",
       "      <td>24</td>\n",
       "      <td>324</td>\n",
       "      <td>8508</td>\n",
       "      <td>1067</td>\n",
       "      <td>0.013002</td>\n",
       "      <td>1216.625181</td>\n",
       "      <td>True</td>\n",
       "      <td>False</td>\n",
       "      <td>False</td>\n",
       "      <td>False</td>\n",
       "      <td>False</td>\n",
       "      <td>False</td>\n",
       "      <td>False</td>\n",
       "    </tr>\n",
       "    <tr>\n",
       "      <th>4</th>\n",
       "      <td>1639863458</td>\n",
       "      <td>79741</td>\n",
       "      <td>1</td>\n",
       "      <td>0</td>\n",
       "      <td>21</td>\n",
       "      <td>324</td>\n",
       "      <td>8508</td>\n",
       "      <td>1067</td>\n",
       "      <td>0.013002</td>\n",
       "      <td>1216.625181</td>\n",
       "      <td>True</td>\n",
       "      <td>False</td>\n",
       "      <td>False</td>\n",
       "      <td>False</td>\n",
       "      <td>False</td>\n",
       "      <td>False</td>\n",
       "      <td>False</td>\n",
       "    </tr>\n",
       "  </tbody>\n",
       "</table>\n",
       "</div>"
      ],
      "text/plain": [
       "    timestamp  user_id  post_id  target  age  text_length  views  likes   \n",
       "0  1639652406    46490        1       0   35          324   8508   1067  \\\n",
       "1  1637521638   151675        1       0   26          324   8508   1067   \n",
       "2  1635116209    51080        1       1   27          324   8508   1067   \n",
       "3  1637512303    15445        1       0   24          324   8508   1067   \n",
       "4  1639863458    79741        1       0   21          324   8508   1067   \n",
       "\n",
       "   like_percentage  average_likes  topic_business  topic_covid   \n",
       "0         0.013002    1216.625181            True        False  \\\n",
       "1         0.013002    1216.625181            True        False   \n",
       "2         0.013002    1216.625181            True        False   \n",
       "3         0.013002    1216.625181            True        False   \n",
       "4         0.013002    1216.625181            True        False   \n",
       "\n",
       "   topic_entertainment  topic_movie  topic_politics  topic_sport  topic_tech  \n",
       "0                False        False           False        False       False  \n",
       "1                False        False           False        False       False  \n",
       "2                False        False           False        False       False  \n",
       "3                False        False           False        False       False  \n",
       "4                False        False           False        False       False  "
      ]
     },
     "execution_count": 11,
     "metadata": {},
     "output_type": "execute_result"
    }
   ],
   "source": [
    "data.head()"
   ]
  },
  {
   "cell_type": "code",
   "execution_count": 14,
   "metadata": {},
   "outputs": [],
   "source": [
    "user_ids = data['user_id'].unique()\n",
    "\n",
    "# shuffle user ids\n",
    "np.random.shuffle(user_ids)\n",
    "\n",
    "# split user ids into train and test\n",
    "train_user_ids = user_ids[:int(len(user_ids) * 0.8)]\n",
    "\n",
    "# split data into train and test\n",
    "train_df = data[data['user_id'].isin(train_user_ids)]\n",
    "test_df = data[~data['user_id'].isin(train_user_ids)]\n",
    "\n",
    "# split train and test into X and y\n",
    "X_train = train_df.drop('target', axis=1)\n",
    "y_train = train_df['target']\n",
    "\n",
    "X_test = test_df.drop('target', axis=1)\n",
    "y_test = test_df['target']"
   ]
  },
  {
   "cell_type": "code",
   "execution_count": 16,
   "metadata": {},
   "outputs": [
    {
     "ename": "KeyError",
     "evalue": "\"None of ['user_id', 'post_id'] are in the columns\"",
     "output_type": "error",
     "traceback": [
      "\u001b[1;31m---------------------------------------------------------------------------\u001b[0m",
      "\u001b[1;31mKeyError\u001b[0m                                  Traceback (most recent call last)",
      "Cell \u001b[1;32mIn[16], line 2\u001b[0m\n\u001b[0;32m      1\u001b[0m \u001b[39m# Установка двух столбцов в качестве индексов\u001b[39;00m\n\u001b[1;32m----> 2\u001b[0m data\u001b[39m.\u001b[39;49mset_index([\u001b[39m'\u001b[39;49m\u001b[39muser_id\u001b[39;49m\u001b[39m'\u001b[39;49m, \u001b[39m'\u001b[39;49m\u001b[39mpost_id\u001b[39;49m\u001b[39m'\u001b[39;49m], inplace\u001b[39m=\u001b[39;49m\u001b[39mTrue\u001b[39;49;00m)\n",
      "File \u001b[1;32mc:\\Users\\Alex\\AppData\\Local\\Programs\\Python\\Python310\\lib\\site-packages\\pandas\\core\\frame.py:5867\u001b[0m, in \u001b[0;36mDataFrame.set_index\u001b[1;34m(self, keys, drop, append, inplace, verify_integrity)\u001b[0m\n\u001b[0;32m   5864\u001b[0m                 missing\u001b[39m.\u001b[39mappend(col)\n\u001b[0;32m   5866\u001b[0m \u001b[39mif\u001b[39;00m missing:\n\u001b[1;32m-> 5867\u001b[0m     \u001b[39mraise\u001b[39;00m \u001b[39mKeyError\u001b[39;00m(\u001b[39mf\u001b[39m\u001b[39m\"\u001b[39m\u001b[39mNone of \u001b[39m\u001b[39m{\u001b[39;00mmissing\u001b[39m}\u001b[39;00m\u001b[39m are in the columns\u001b[39m\u001b[39m\"\u001b[39m)\n\u001b[0;32m   5869\u001b[0m \u001b[39mif\u001b[39;00m inplace:\n\u001b[0;32m   5870\u001b[0m     frame \u001b[39m=\u001b[39m \u001b[39mself\u001b[39m\n",
      "\u001b[1;31mKeyError\u001b[0m: \"None of ['user_id', 'post_id'] are in the columns\""
     ]
    }
   ],
   "source": [
    "# Установка двух столбцов в качестве индексов\n",
    "data.set_index(['user_id', 'post_id'], inplace=True)"
   ]
  },
  {
   "cell_type": "code",
   "execution_count": 17,
   "metadata": {},
   "outputs": [
    {
     "name": "stdout",
     "output_type": "stream",
     "text": [
      "Learning rate set to 0.5\n",
      "0:\tlearn: 0.1706499\ttest: 0.1705539\tbest: 0.1705539 (0)\ttotal: 404ms\tremaining: 1m 20s\n",
      "100:\tlearn: 0.1611638\ttest: 0.1579089\tbest: 0.1705539 (0)\ttotal: 1m 7s\tremaining: 1m 5s\n",
      "199:\tlearn: 0.1654431\ttest: 0.1575531\tbest: 0.1705539 (0)\ttotal: 2m 17s\tremaining: 0us\n",
      "\n",
      "bestTest = 0.1705539361\n",
      "bestIteration = 0\n",
      "\n",
      "Shrink model to first 1 iterations.\n"
     ]
    },
    {
     "data": {
      "text/plain": [
       "<catboost.core.CatBoostClassifier at 0x2597e0f5510>"
      ]
     },
     "execution_count": 17,
     "metadata": {},
     "output_type": "execute_result"
    }
   ],
   "source": [
    "cat_features = ['topic_business', 'topic_covid',\n",
    "       'topic_entertainment', 'topic_movie', 'topic_politics', 'topic_sport',\n",
    "       'topic_tech']\n",
    "\n",
    "# Initialize CatBoostClassifier\n",
    "model = CatBoostClassifier(\n",
    "    iterations=200,  # Modify this parameter as needed\n",
    "    thread_count=8,  \n",
    "    eval_metric='PRAUC',  # Changed to PR AUC\n",
    "    verbose=100,  # Output the training process every 200 iterations\n",
    "    random_seed=42\n",
    ")\n",
    "\n",
    "# Fit model\n",
    "model.fit(X_train, y_train, cat_features=cat_features ,eval_set=(X_test, y_test))\n"
   ]
  },
  {
   "cell_type": "code",
   "execution_count": 19,
   "metadata": {},
   "outputs": [
    {
     "data": {
      "image/png": "[encoded data removed]",
      "text/plain": [
       "<Figure size 1200x800 with 1 Axes>"
      ]
     },
     "metadata": {},
     "output_type": "display_data"
    }
   ],
   "source": [
    "import matplotlib.pyplot as plt\n",
    "\n",
    "# Get feature importances\n",
    "feature_importances = model.get_feature_importance()\n",
    "\n",
    "# Create a pandas dataframe for easier visualization\n",
    "importance_df = pd.DataFrame({\n",
    "    'Features': X_train.columns,\n",
    "    'Importance': feature_importances\n",
    "})\n",
    "\n",
    "# Sort the dataframe based on the feature importances\n",
    "importance_df = importance_df.sort_values(by='Importance', ascending=False)\n",
    "\n",
    "# Plot the feature importances\n",
    "plt.figure(figsize=(12, 8))\n",
    "plt.barh(importance_df['Features'], importance_df['Importance'])\n",
    "plt.xlabel('Importance')\n",
    "plt.ylabel('Features')\n",
    "plt.title('Feature Importances')\n",
    "plt.gca().invert_yaxis()\n",
    "plt.show()\n",
    "\n"
   ]
  },
  {
   "cell_type": "code",
   "execution_count": 16,
   "metadata": {},
   "outputs": [
    {
     "name": "stdout",
     "output_type": "stream",
     "text": [
      "Hitrate@5: 0.4659\n"
     ]
    }
   ],
   "source": [
    "def hitrate5(model, X, Y):\n",
    "    check = pd.concat([Y,\n",
    "                       pd.Series(model.predict_proba(X)[:,1], index=Y.index, name='probas')],\n",
    "                      axis=1)\n",
    "    check = check.reset_index().drop(columns='post_id')\n",
    "    \n",
    "    pred_list = [check[check.user_id == user_id].sort_values('probas', ascending=False).iloc[:5]\n",
    "                 for user_id in check.user_id.unique()]\n",
    "\n",
    "    return pd.concat(pred_list).groupby('user_id').target.sum().map(lambda x: min(1, x)).mean()\n",
    "\n",
    "# x, y - это выборка из 2000 пользователей с их feed_data\n",
    "print('Hitrate@5: {:.4f}'.format(hitrate5(model, X_test, y_test)))"
   ]
  }
 ],
 "metadata": {
  "kernelspec": {
   "display_name": "Python 3",
   "language": "python",
   "name": "python3"
  },
  "language_info": {
   "codemirror_mode": {
    "name": "ipython",
    "version": 3
   },
   "file_extension": ".py",
   "mimetype": "text/x-python",
   "name": "python",
   "nbconvert_exporter": "python",
   "pygments_lexer": "ipython3",
   "version": "3.10.11"
  },
  "orig_nbformat": 4
 },
 "nbformat": 4,
 "nbformat_minor": 2
}
