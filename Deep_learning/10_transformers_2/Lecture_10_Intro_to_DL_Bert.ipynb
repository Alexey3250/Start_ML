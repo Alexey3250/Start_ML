{
 "cells": [
  {
   "cell_type": "markdown",
   "metadata": {
    "cellId": "9zxlngtrja7lv0wvs9xxij",
    "execution_id": "e5781223-e8b3-4631-b6dd-f5fe7074afbc",
    "pycharm": {
     "name": "#%% md\n"
    }
   },
   "source": [
    "# Трансформер 2 - Улица Сезам.\n",
    "\n",
    "> Обсудим популярные архитектуры нейронных сетей, основанные на архитектуре Трансформер."
   ]
  },
  {
   "cell_type": "markdown",
   "metadata": {
    "cellId": "gd6wgzblwy68j35s98yy2x",
    "execution_id": "f68dedd5-0c41-4e09-b2f5-cc55abbd3bcc"
   },
   "source": [
    "## Hugging Face\n",
    "\n",
    "https://huggingface.co/"
   ]
  },
  {
   "cell_type": "markdown",
   "metadata": {
    "cellId": "h9oe5wpbsrtnhb2xrjywfl",
    "execution_id": "08a81dc6-de2d-4407-9d5a-9ba9f735ae96"
   },
   "source": [
    "## Модели\n",
    "\n",
    "https://huggingface.co/models"
   ]
  },
  {
   "cell_type": "code",
   "execution_count": 1,
   "metadata": {
    "cellId": "84zxqk85mtjilg5zvvnot"
   },
   "outputs": [],
   "source": [
    "# ! pip3 install datasets transformers"
   ]
  },
  {
   "cell_type": "code",
   "execution_count": 2,
   "metadata": {
    "cellId": "sy01230za7aduvs9p1bsw7"
   },
   "outputs": [],
   "source": [
    "import torch\n",
    "import torch.nn as nn\n",
    "import numpy as np\n",
    "\n",
    "from warnings import filterwarnings\n",
    "\n",
    "filterwarnings('ignore')"
   ]
  },
  {
   "cell_type": "code",
   "execution_count": 3,
   "metadata": {
    "cellId": "r4i12xla7cbda1xcsp126f"
   },
   "outputs": [],
   "source": [
    "from transformers import AutoTokenizer\n",
    "from transformers import BertModel  # https://huggingface.co/docs/transformers/model_doc/bert#transformers.BertModel\n",
    "from transformers import RobertaModel  # https://huggingface.co/docs/transformers/model_doc/roberta#transformers.RobertaModel\n",
    "from transformers import DistilBertModel  # https://huggingface.co/docs/transformers/model_doc/distilbert#transformers.DistilBertModel\n",
    "\n",
    "\n",
    "def get_model(model_name):\n",
    "    assert model_name in ['bert', 'roberta', 'distilbert']\n",
    "    \n",
    "    checkpoint_names = {\n",
    "        'bert': 'bert-base-cased',  # https://huggingface.co/bert-base-cased\n",
    "        'roberta': 'roberta-base',  # https://huggingface.co/roberta-base\n",
    "        'distilbert': 'distilbert-base-cased'  # https://huggingface.co/distilbert-base-cased\n",
    "    }\n",
    "    \n",
    "    model_classes = {\n",
    "        'bert': BertModel,\n",
    "        'roberta': RobertaModel,\n",
    "        'distilbert': DistilBertModel\n",
    "    }\n",
    "    \n",
    "    return AutoTokenizer.from_pretrained(checkpoint_names[model_name]), model_classes[model_name].from_pretrained(checkpoint_names[model_name])"
   ]
  },
  {
   "cell_type": "code",
   "execution_count": 4,
   "metadata": {
    "cellId": "q1awrdd62fjhcbt1x6gpme"
   },
   "outputs": [
    {
     "name": "stderr",
     "output_type": "stream",
     "text": [
      "Some weights of the model checkpoint at bert-base-cased were not used when initializing BertModel: ['cls.predictions.transform.dense.weight', 'cls.seq_relationship.weight', 'cls.predictions.decoder.weight', 'cls.predictions.transform.LayerNorm.weight', 'cls.predictions.transform.LayerNorm.bias', 'cls.predictions.transform.dense.bias', 'cls.seq_relationship.bias', 'cls.predictions.bias']\n",
      "- This IS expected if you are initializing BertModel from the checkpoint of a model trained on another task or with another architecture (e.g. initializing a BertForSequenceClassification model from a BertForPreTraining model).\n",
      "- This IS NOT expected if you are initializing BertModel from the checkpoint of a model that you expect to be exactly identical (initializing a BertForSequenceClassification model from a BertForSequenceClassification model).\n"
     ]
    }
   ],
   "source": [
    "tokenizer, model = get_model('bert')"
   ]
  },
  {
   "cell_type": "code",
   "execution_count": 5,
   "metadata": {
    "cellId": "pd3t6jx4lkohuvopvez2"
   },
   "outputs": [
    {
     "data": {
      "text/plain": [
       "PreTrainedTokenizerFast(name_or_path='bert-base-cased', vocab_size=28996, model_max_len=512, is_fast=True, padding_side='right', truncation_side='right', special_tokens={'unk_token': '[UNK]', 'sep_token': '[SEP]', 'pad_token': '[PAD]', 'cls_token': '[CLS]', 'mask_token': '[MASK]'})"
      ]
     },
     "execution_count": 5,
     "metadata": {},
     "output_type": "execute_result"
    }
   ],
   "source": [
    "tokenizer"
   ]
  },
  {
   "cell_type": "code",
   "execution_count": 6,
   "metadata": {
    "cellId": "3fqqa081dq245vw8566o5g"
   },
   "outputs": [
    {
     "data": {
      "text/plain": [
       "{'input_ids': tensor([[ 101, 8667,  106,  102]]), 'attention_mask': tensor([[1, 1, 1, 1]])}"
      ]
     },
     "execution_count": 6,
     "metadata": {},
     "output_type": "execute_result"
    }
   ],
   "source": [
    "encoding = tokenizer.encode_plus('Hello!', add_special_tokens=True, return_token_type_ids=False, return_tensors='pt')\n",
    "\n",
    "encoding"
   ]
  },
  {
   "cell_type": "code",
   "execution_count": 7,
   "metadata": {
    "cellId": "rcje2ws0ygidljov9narg"
   },
   "outputs": [
    {
     "data": {
      "text/plain": [
       "'[CLS] Hello! [SEP]'"
      ]
     },
     "execution_count": 7,
     "metadata": {},
     "output_type": "execute_result"
    }
   ],
   "source": [
    "tokenizer.decode(encoding['input_ids'][0])"
   ]
  },
  {
   "cell_type": "code",
   "execution_count": 8,
   "metadata": {
    "cellId": "i1dygle24yqph9wulta5gt"
   },
   "outputs": [
    {
     "data": {
      "text/plain": [
       "BaseModelOutputWithPoolingAndCrossAttentions(last_hidden_state=tensor([[[ 0.6283,  0.2166,  0.5605,  ...,  0.0136,  0.6158, -0.1712],\n",
       "         [ 0.6108, -0.2253,  0.9263,  ..., -0.3028,  0.4500, -0.0714],\n",
       "         [ 0.8040,  0.1809,  0.7076,  ..., -0.0685,  0.4837, -0.0774],\n",
       "         [ 1.3290,  0.2360,  0.4567,  ...,  0.1509,  0.9621, -0.4841]]],\n",
       "       grad_fn=<NativeLayerNormBackward0>), pooler_output=tensor([[-0.7105,  0.4876,  0.9999, -0.9947,  0.9599,  0.9521,  0.9767, -0.9946,\n",
       "         -0.9815, -0.6238,  0.9776,  0.9984, -0.9989, -0.9998,  0.8559, -0.9755,\n",
       "          0.9895, -0.5281, -1.0000, -0.7414, -0.7056, -0.9999,  0.2901,  0.9786,\n",
       "          0.9729,  0.0734,  0.9828,  1.0000,  0.8981, -0.1109,  0.2780, -0.9920,\n",
       "          0.8693, -0.9985,  0.1461,  0.2067,  0.8092, -0.2430,  0.8580, -0.9585,\n",
       "         -0.8130, -0.6138,  0.7961, -0.5727,  0.9737,  0.2362, -0.1194, -0.0789,\n",
       "          0.0031,  0.9997, -0.9519,  0.9899, -0.9962,  0.9931,  0.9950,  0.5050,\n",
       "          0.9952,  0.1090, -0.9994,  0.3416,  0.9792,  0.2506,  0.8923, -0.2238,\n",
       "          0.3518, -0.5293, -0.9570,  0.1357, -0.3313,  0.1627, -0.0078,  0.3608,\n",
       "          0.9833, -0.9160,  0.0196, -0.9141,  0.2075, -0.9999,  0.9449,  1.0000,\n",
       "          0.7796, -0.9997,  0.9935, -0.2309, -0.7830,  0.8880, -0.9994, -0.9994,\n",
       "          0.0160, -0.6875,  0.9554, -0.9846,  0.7813, -0.9322,  1.0000, -0.9511,\n",
       "         -0.1583,  0.3866,  0.9699, -0.8283, -0.7689,  0.9346,  0.9994, -0.9965,\n",
       "          0.9992,  0.8548, -0.9459, -0.9451,  0.8292,  0.0406,  0.9891, -0.9857,\n",
       "         -0.9555,  0.0784,  0.9803, -0.9302,  0.9901,  0.8020, -0.2408,  1.0000,\n",
       "         -0.2367,  0.9689,  0.9982,  0.8761, -0.8891, -0.2167, -0.7227,  0.9385,\n",
       "         -0.7771, -0.5691,  0.8276, -0.9881, -0.9987,  0.9994, -0.2452,  1.0000,\n",
       "         -0.9992,  0.9935, -0.9999, -0.8808, -0.7632, -0.1224, -0.9886,  0.0386,\n",
       "          0.9893,  0.0950, -0.9691, -0.8293,  0.7363, -0.9115,  0.4936,  0.6483,\n",
       "         -0.9581,  0.9715,  0.9982,  0.9653,  0.9890,  0.1850, -0.9722,  0.8544,\n",
       "          0.9774, -0.9995,  0.8701, -0.9960,  0.9993,  0.9746,  0.8500, -0.9971,\n",
       "          0.9999, -0.8101,  0.0206,  0.0232,  0.0982, -0.9993,  0.4584,  0.4759,\n",
       "          0.8759,  0.9993, -0.9945,  0.9995,  0.8257, -0.0958,  0.8097,  0.9992,\n",
       "         -0.9966, -0.9701, -0.9847,  0.2290,  0.8039,  0.8126,  0.4859,  0.9628,\n",
       "          0.9992,  0.7803, -0.9974, -0.3289,  0.9692, -0.1398,  1.0000, -0.4062,\n",
       "         -0.9998, -0.7585,  0.9499,  0.9883, -0.2351,  0.9828, -0.7602, -0.1856,\n",
       "          0.9882, -0.9727,  0.9989,  0.4863,  0.9102,  0.8847,  0.9915, -0.9258,\n",
       "         -0.0788,  0.1543, -0.7543,  0.9999, -0.9996, -0.2332,  0.5874, -0.9942,\n",
       "         -0.9979,  0.9794, -0.0194, -0.8693, -0.2168,  0.7979,  0.2004,  0.9521,\n",
       "          0.9900, -0.6276, -0.7824, -0.9998, -0.9979, -0.8998, -0.9672,  0.0430,\n",
       "          0.6920, -0.3973, -0.9400, -0.9990,  0.9653,  0.4508, -0.8941,  0.1173,\n",
       "         -0.7708, -0.9993,  0.6723, -0.9301, -0.9982,  0.9996, -0.7676,  0.9977,\n",
       "          0.9586, -0.9940,  0.8469, -0.9993, -0.1126, -0.9871,  0.6339,  0.6951,\n",
       "         -0.6402, -0.0494,  0.9932, -0.9665, -0.8052,  0.8924, -0.9999,  0.9337,\n",
       "         -0.2121,  0.9991,  0.8133,  0.2323,  0.9850,  0.9504, -0.9842, -0.9998,\n",
       "          0.9709,  0.8598, -0.9926, -0.1464,  0.9999, -0.9989, -0.8643, -0.9607,\n",
       "         -0.9940, -0.9996,  0.2709, -0.8859,  0.2709,  0.9882,  0.6940,  0.1279,\n",
       "          0.9929,  0.9910,  0.2286, -0.3951,  0.1043, -0.9768, -0.9314,  0.9270,\n",
       "          0.1190, -1.0000,  0.9999, -0.9937,  0.9782,  0.9644, -0.9963,  0.8284,\n",
       "          0.1232, -0.9757,  0.0153,  0.9999,  0.9855, -0.1870,  0.2675,  0.9221,\n",
       "         -0.3209,  0.6954, -0.8953, -0.7505,  0.2031, -0.9330,  0.9959,  0.7163,\n",
       "         -0.9901,  0.9979,  0.0020,  0.8427, -0.8604,  0.9138,  0.9909, -0.1418,\n",
       "         -0.6551,  0.0506, -0.1576, -0.9825,  0.2171, -0.9974, -0.5776,  0.9791,\n",
       "          0.9842, -0.9881,  0.9842, -0.0714,  0.9470, -0.9988,  1.0000, -0.9961,\n",
       "          0.0919,  0.8178, -0.8827, -0.6587,  0.9920,  0.9926,  0.9770, -0.9782,\n",
       "         -0.8553,  0.8854,  0.9670, -0.9807, -0.0805, -0.9996, -0.8613,  0.9954,\n",
       "          0.9971,  0.0548, -0.1328, -0.9985,  0.9674, -0.8499, -0.9574, -0.0873,\n",
       "         -0.8494,  0.8687,  0.9986, -0.7471,  0.7234,  0.1623, -0.9843,  0.9408,\n",
       "          0.9139,  0.9998, -0.9575,  0.6504,  0.9878, -0.2068, -0.8754,  0.6124,\n",
       "          0.9995, -0.9634, -0.2490, -0.9995, -0.0428, -0.6623, -0.3127, -0.6662,\n",
       "          0.0496, -0.8922,  0.9753,  0.0668,  0.8677, -0.4532,  0.9877, -0.1256,\n",
       "         -0.0084, -0.3633, -0.4310,  0.5263,  0.2795,  0.9855, -0.9623,  0.9997,\n",
       "         -0.2454, -1.0000, -0.9985, -0.8149, -0.9996,  0.8664, -0.9936,  0.9833,\n",
       "          0.9645, -0.9990, -0.9995, -0.9971, -0.9827,  0.8944,  0.7312, -0.0281,\n",
       "          0.3282, -0.0801, -0.0505, -0.5034,  0.0436, -0.9379, -0.6098, -0.9991,\n",
       "          0.9075, -1.0000, -0.8943,  0.9983, -0.9974, -0.9702, -0.9073, -0.5143,\n",
       "         -0.8728,  0.5948,  0.9871, -0.4346, -0.8071, -0.9995,  0.9870, -0.8455,\n",
       "          0.0911, -0.9254, -0.9747,  0.9997,  0.8546, -0.1713, -0.0070, -0.9989,\n",
       "          0.9919, -0.9512, -0.9604, -0.9775,  0.2517, -0.9669, -0.9998,  0.0274,\n",
       "          0.9981,  0.9918,  0.9872,  0.3586, -0.4554, -0.9641,  0.1662, -0.9999,\n",
       "          0.8734,  0.9199, -0.9861, -0.7962,  0.9937,  0.9731, -0.9745, -0.9908,\n",
       "          0.9605,  0.3886,  0.9752, -0.6621, -0.5456,  0.3875,  0.0179, -0.9900,\n",
       "         -0.9324,  0.9966, -0.9996,  0.9857,  0.9975,  0.9992, -0.2936,  0.1673,\n",
       "         -0.9914, -0.9807, -0.5163,  0.3407, -0.9999,  0.9999, -1.0000,  0.4725,\n",
       "         -0.8529,  0.9192,  0.9880, -0.4080, -0.9999, -0.9998,  0.3443,  0.1171,\n",
       "          0.9887,  0.4144,  0.1948, -0.6747, -0.3843,  0.9973, -0.8765, -0.8126,\n",
       "         -0.9988,  0.9997,  0.4865, -0.9982,  0.9962, -0.9995,  0.8606,  0.9813,\n",
       "          0.8977,  0.9750, -0.9995,  1.0000, -0.9998,  0.9968, -1.0000, -0.9994,\n",
       "          0.9998, -0.9914, -0.8091, -0.9997, -0.9992,  0.7226,  0.1572, -0.5659,\n",
       "          0.9883, -0.9998, -0.9987, -0.4541, -0.9309, -0.8762,  0.9972, -0.8189,\n",
       "          0.9894, -0.0908,  0.9623,  0.3485,  0.9983,  0.9907, -0.7728, -0.8770,\n",
       "         -0.9934,  0.9906, -0.6931,  0.4029,  0.9709, -0.0175, -0.8430,  0.3529,\n",
       "         -0.9967,  0.5958,  0.1322,  0.9368,  0.9241,  0.8697, -0.1084, -0.5757,\n",
       "         -0.3093, -0.9923,  0.5895, -0.9995,  0.9794, -0.9611,  0.0368, -0.4532,\n",
       "          0.2907, -0.9616,  0.9996,  0.9988, -0.9890,  0.0842,  0.9875, -0.8991,\n",
       "          0.9725, -0.9923,  0.0591,  0.9806, -0.7373,  0.9830, -0.0013,  0.0637,\n",
       "          0.9887, -0.9946, -0.9119, -0.6857,  0.3650,  0.0621, -0.9661,  0.0115,\n",
       "          0.9902, -0.4771, -0.9997,  0.9412, -0.9993, -0.1202,  0.9763, -0.0377,\n",
       "          0.9999, -0.8283,  0.1905,  0.1534, -0.9998, -0.9995,  0.0540, -0.1655,\n",
       "         -0.9095,  0.9996, -0.3539,  0.8774, -0.9999,  0.3085,  0.9981,  0.2593,\n",
       "          0.8318, -0.9150, -0.9679, -0.9740, -0.7623,  0.0018,  0.8898, -0.9830,\n",
       "         -0.6928, -0.9300,  1.0000, -0.9982, -0.9065, -0.9884,  0.7844,  0.9037,\n",
       "          0.4408,  0.1464, -0.9218,  0.9302, -0.9442,  0.9973, -0.9939, -0.9963,\n",
       "          0.9998,  0.5109, -0.9965,  0.2434, -0.4521,  0.3922,  0.1305,  0.8537,\n",
       "         -0.8603, -0.2880, -0.9964,  0.8409, -0.9161, -0.9866, -0.6739, -0.3227,\n",
       "         -0.9776,  0.9935,  0.9731,  0.9999, -0.9998,  0.9386, -0.0222,  0.9991,\n",
       "          0.0548, -0.7093,  0.9169,  0.9997, -0.7628,  0.8665, -0.1445,  0.0659,\n",
       "          0.4782, -0.4443,  0.9984, -0.9318,  0.0735, -0.9737, -0.9999,  0.9999,\n",
       "         -0.0253,  0.9916,  0.3062,  0.8545, -0.9106,  0.9857, -0.9849, -0.9302,\n",
       "         -1.0000,  0.1720, -0.9895, -0.9877, -0.1270,  0.9847, -0.9996, -0.9917,\n",
       "         -0.4165, -1.0000,  0.9550, -0.9948, -0.8871, -0.9896,  0.9988, -0.2867,\n",
       "         -0.8413,  0.9756, -0.9648,  0.9592,  0.9145, -0.4687,  0.2182,  0.1638,\n",
       "         -0.8462, -0.9960, -0.9356, -0.9699,  0.9437, -0.9875, -0.8543,  0.9966,\n",
       "          0.9835, -0.9992, -0.9944,  0.9973,  0.2491,  0.9927, -0.5164, -0.9998,\n",
       "         -0.9999,  0.0790,  0.2047,  0.9947, -0.3889,  0.9576,  0.8522, -0.5662,\n",
       "          0.6047, -0.8014, -0.2958, -0.6084, -0.2891,  1.0000, -0.9179,  0.9894]],\n",
       "       grad_fn=<TanhBackward0>), hidden_states=None, past_key_values=None, attentions=None, cross_attentions=None)"
      ]
     },
     "execution_count": 8,
     "metadata": {},
     "output_type": "execute_result"
    }
   ],
   "source": [
    "output = model(**encoding)\n",
    "\n",
    "output"
   ]
  },
  {
   "cell_type": "code",
   "execution_count": 9,
   "metadata": {
    "cellId": "ryxpqezgmlko9pjufqe1ib"
   },
   "outputs": [
    {
     "data": {
      "text/plain": [
       "torch.Size([1, 4, 768])"
      ]
     },
     "execution_count": 9,
     "metadata": {},
     "output_type": "execute_result"
    }
   ],
   "source": [
    "output.last_hidden_state.shape"
   ]
  },
  {
   "cell_type": "code",
   "execution_count": 10,
   "metadata": {
    "cellId": "ierg4tdbhyrqh60hbzyhom"
   },
   "outputs": [
    {
     "data": {
      "text/plain": [
       "torch.Size([1, 768])"
      ]
     },
     "execution_count": 10,
     "metadata": {},
     "output_type": "execute_result"
    }
   ],
   "source": [
    "output.pooler_output.shape"
   ]
  },
  {
   "cell_type": "code",
   "execution_count": 11,
   "metadata": {
    "cellId": "m7l5vn91elh8xjnt3ctcqw"
   },
   "outputs": [
    {
     "name": "stderr",
     "output_type": "stream",
     "text": [
      "Some weights of the model checkpoint at roberta-base were not used when initializing RobertaModel: ['lm_head.layer_norm.weight', 'lm_head.layer_norm.bias', 'lm_head.bias', 'lm_head.decoder.weight', 'lm_head.dense.bias', 'lm_head.dense.weight']\n",
      "- This IS expected if you are initializing RobertaModel from the checkpoint of a model trained on another task or with another architecture (e.g. initializing a BertForSequenceClassification model from a BertForPreTraining model).\n",
      "- This IS NOT expected if you are initializing RobertaModel from the checkpoint of a model that you expect to be exactly identical (initializing a BertForSequenceClassification model from a BertForSequenceClassification model).\n"
     ]
    }
   ],
   "source": [
    "tokenizer, model = get_model('roberta')"
   ]
  },
  {
   "cell_type": "code",
   "execution_count": 12,
   "metadata": {
    "cellId": "js9rugxy80hh6cf71fr86s"
   },
   "outputs": [
    {
     "data": {
      "text/plain": [
       "PreTrainedTokenizerFast(name_or_path='roberta-base', vocab_size=50265, model_max_len=512, is_fast=True, padding_side='right', truncation_side='right', special_tokens={'bos_token': '<s>', 'eos_token': '</s>', 'unk_token': '<unk>', 'sep_token': '</s>', 'pad_token': '<pad>', 'cls_token': '<s>', 'mask_token': AddedToken(\"<mask>\", rstrip=False, lstrip=True, single_word=False, normalized=False)})"
      ]
     },
     "execution_count": 12,
     "metadata": {},
     "output_type": "execute_result"
    }
   ],
   "source": [
    "tokenizer"
   ]
  },
  {
   "cell_type": "code",
   "execution_count": 13,
   "metadata": {
    "cellId": "9ug35z8ns5f5vxd45cp5t4"
   },
   "outputs": [
    {
     "data": {
      "text/plain": [
       "{'input_ids': tensor([[    0, 31414,   328,     2]]), 'attention_mask': tensor([[1, 1, 1, 1]])}"
      ]
     },
     "execution_count": 13,
     "metadata": {},
     "output_type": "execute_result"
    }
   ],
   "source": [
    "encoding = tokenizer.encode_plus('Hello!', add_special_tokens=True, return_token_type_ids=False, return_tensors='pt')\n",
    "\n",
    "encoding"
   ]
  },
  {
   "cell_type": "code",
   "execution_count": 14,
   "metadata": {
    "cellId": "yqkia6yrqqoce505sq9e4t"
   },
   "outputs": [
    {
     "data": {
      "text/plain": [
       "'<s>Hello!</s>'"
      ]
     },
     "execution_count": 14,
     "metadata": {},
     "output_type": "execute_result"
    }
   ],
   "source": [
    "tokenizer.decode(encoding['input_ids'][0])"
   ]
  },
  {
   "cell_type": "code",
   "execution_count": 15,
   "metadata": {
    "cellId": "ufgnbnu4o0s8tjmhpez7bs"
   },
   "outputs": [
    {
     "data": {
      "text/plain": [
       "BaseModelOutputWithPoolingAndCrossAttentions(last_hidden_state=tensor([[[-0.0632,  0.0918, -0.0026,  ..., -0.0642, -0.0555,  0.0080],\n",
       "         [-0.2026, -0.0124,  0.0174,  ..., -0.0176,  0.0094,  0.0870],\n",
       "         [-0.1557, -0.1340,  0.2350,  ..., -0.0798, -0.1061,  0.5419],\n",
       "         [-0.0534,  0.0986, -0.0293,  ..., -0.1175, -0.0659, -0.0090]]],\n",
       "       grad_fn=<NativeLayerNormBackward0>), pooler_output=tensor([[ 1.0118e-02, -2.2553e-01, -2.2348e-01, -8.2207e-02,  1.1413e-01,\n",
       "          2.0735e-01,  2.7447e-01, -8.3260e-02, -6.2361e-02, -1.7518e-01,\n",
       "          2.1636e-01, -2.5967e-02, -9.4576e-02,  9.4474e-02, -1.3591e-01,\n",
       "          4.9016e-01,  2.1106e-01, -4.6220e-01,  5.0345e-02, -2.3451e-02,\n",
       "         -2.5763e-01,  8.7108e-02,  4.7654e-01,  3.5332e-01,  1.1738e-01,\n",
       "          4.8578e-02, -1.3495e-01,  5.9986e-04,  1.8758e-01,  2.3595e-01,\n",
       "          2.9100e-01,  6.5356e-02,  7.7346e-02,  2.3497e-01, -2.4440e-01,\n",
       "          5.0584e-02, -3.1700e-01,  2.3022e-02,  2.6311e-01, -1.9050e-01,\n",
       "         -8.6479e-02,  1.6912e-01,  2.1422e-01, -1.3219e-01, -1.1538e-01,\n",
       "          4.0322e-01,  2.6244e-01,  1.1725e-02, -1.4109e-01, -8.3927e-02,\n",
       "         -3.6414e-01,  3.4345e-01,  2.8735e-01,  2.1016e-01, -1.5213e-02,\n",
       "          4.9236e-02, -1.4490e-01,  2.6061e-01, -7.1260e-02, -9.3889e-02,\n",
       "         -1.0403e-01, -2.1510e-01, -3.3935e-02, -5.9922e-02,  3.7989e-02,\n",
       "         -1.4566e-01,  8.2178e-02, -1.5788e-01, -1.2733e-01,  5.0785e-02,\n",
       "         -8.8803e-02,  1.6738e-01,  1.6446e-01, -2.9873e-01, -2.8953e-01,\n",
       "          5.0433e-02, -5.8537e-01, -8.9558e-02,  3.1289e-01,  4.3414e-01,\n",
       "         -1.1615e-01,  1.8867e-01,  4.6700e-02,  2.2332e-01, -1.7091e-02,\n",
       "         -5.8655e-02, -2.5692e-02, -1.1094e-01,  1.9310e-01,  2.5799e-01,\n",
       "         -1.9191e-01, -3.8370e-01,  5.7671e-02,  1.0469e-02, -1.0562e-01,\n",
       "          1.1278e-02, -1.8523e-02, -7.8209e-02, -1.6009e-01, -1.8985e-01,\n",
       "          7.3578e-02, -2.6986e-01, -1.5874e-01,  2.8572e-01, -2.7447e-02,\n",
       "         -1.9765e-01, -1.4153e-02,  3.1042e-01,  7.0917e-02, -1.2198e-01,\n",
       "         -1.8918e-01,  4.4590e-01,  3.1875e-01,  8.7024e-03,  5.6866e-03,\n",
       "          1.6598e-01,  1.3123e-01, -2.8546e-01,  4.3665e-01, -3.2801e-01,\n",
       "         -1.8452e-02, -9.8888e-02,  1.0351e-01,  1.4738e-01, -2.2820e-01,\n",
       "          2.8747e-01,  1.5277e-01,  2.7726e-01,  1.8845e-01,  1.1907e-01,\n",
       "         -2.5823e-02,  1.5180e-01, -9.6640e-02,  1.4872e-01,  2.4250e-01,\n",
       "          1.1419e-01, -8.7491e-03, -3.3386e-01, -2.0569e-01,  2.8772e-01,\n",
       "          3.5000e-01,  1.5743e-01, -4.6989e-02,  2.0326e-01,  1.0744e-01,\n",
       "          2.1788e-01,  1.5106e-01, -4.1663e-01,  3.3106e-02,  3.4290e-01,\n",
       "          9.1567e-02,  1.7440e-01, -9.1458e-02, -2.7184e-01, -2.6769e-01,\n",
       "         -1.0485e-01,  5.3897e-02, -3.2522e-01, -1.2076e-01,  3.6939e-01,\n",
       "          3.5122e-02, -1.1313e-02, -1.5769e-01, -2.2375e-01, -2.4918e-02,\n",
       "         -1.0496e-01,  1.4617e-02,  1.0023e-01, -9.3627e-02, -4.2223e-01,\n",
       "         -9.1500e-02, -5.5379e-01, -1.1524e-01,  1.8061e-01, -3.3040e-01,\n",
       "          2.6260e-01, -2.8920e-01,  1.0215e-01,  4.0564e-01,  5.7942e-02,\n",
       "         -1.3332e-02, -1.9797e-01, -1.8287e-02,  1.1391e-01,  3.2504e-01,\n",
       "          2.5887e-01, -4.0658e-01,  1.0513e-01,  1.4425e-01,  2.4611e-01,\n",
       "          1.3859e-01, -7.9068e-02, -1.3120e-01,  1.4771e-01, -2.1248e-01,\n",
       "          1.7976e-01, -2.2309e-01,  1.8665e-01, -2.5408e-01, -2.1255e-01,\n",
       "          2.8222e-01, -4.1031e-01, -2.8460e-02,  8.5511e-02,  2.7669e-01,\n",
       "         -7.6721e-03, -3.4935e-02, -8.5721e-02,  1.0734e-01,  1.7564e-01,\n",
       "          1.4225e-01, -4.0331e-01,  2.6446e-01, -2.9883e-02, -1.6981e-02,\n",
       "         -2.3724e-02,  1.7601e-01,  2.5539e-01,  8.3780e-02, -3.8247e-01,\n",
       "         -1.4288e-01,  1.2093e-01,  2.7932e-01, -2.4104e-01,  1.6109e-01,\n",
       "         -2.9300e-01, -4.0703e-01, -1.2663e-01,  2.2077e-01,  2.3947e-01,\n",
       "          1.8266e-01, -2.7795e-01,  1.7054e-01, -1.0591e-01, -4.1658e-01,\n",
       "         -3.7567e-01, -1.2646e-01,  2.3536e-01,  1.6887e-01,  1.7926e-01,\n",
       "          2.5752e-01,  3.7846e-02,  1.1938e-01,  1.5864e-01,  1.6021e-01,\n",
       "         -1.5266e-01,  1.7528e-01, -3.6356e-01, -4.8026e-02, -2.6735e-01,\n",
       "         -1.9393e-01, -2.1720e-01,  4.0867e-01, -2.2771e-01,  2.3330e-01,\n",
       "          3.9985e-01, -3.0882e-01, -1.2435e-01,  1.5003e-01,  8.8648e-02,\n",
       "          7.9778e-02, -1.1415e-01,  1.9528e-01,  1.4956e-01, -1.1915e-01,\n",
       "          2.5725e-01,  9.2091e-03,  2.6384e-01,  1.6437e-01,  9.9818e-02,\n",
       "          1.3314e-01,  1.3148e-01, -1.4667e-01,  6.2790e-02,  1.6111e-02,\n",
       "         -2.0466e-02, -2.3305e-01, -1.4842e-01,  2.2611e-01, -5.8155e-02,\n",
       "          3.4740e-02, -1.8005e-01, -1.1308e-01,  2.1972e-02,  4.1088e-01,\n",
       "         -3.6362e-01,  2.5254e-01,  8.4500e-02,  1.4597e-01, -2.3708e-01,\n",
       "         -2.3668e-01,  8.8839e-02,  1.8577e-01, -4.0227e-01,  1.5481e-02,\n",
       "          1.7293e-01,  9.6360e-02,  2.2496e-01,  2.7419e-01,  1.7919e-03,\n",
       "         -1.2764e-01,  5.0044e-01, -1.6126e-01, -1.2322e-01,  2.5468e-01,\n",
       "         -2.6847e-01, -2.9783e-01,  2.4442e-01, -4.2464e-02,  2.9567e-01,\n",
       "          1.3648e-01,  5.1872e-02,  7.3852e-02, -6.0790e-01,  6.5884e-02,\n",
       "         -4.5679e-01, -1.3807e-02,  2.6241e-02, -8.6523e-02, -2.0121e-01,\n",
       "          1.5596e-01,  2.9137e-01, -2.5556e-01, -2.3166e-02,  2.0865e-01,\n",
       "          8.5941e-02, -1.1919e-01,  4.7576e-01, -1.4159e-02,  2.2871e-01,\n",
       "         -4.9841e-02,  2.5398e-01, -2.1359e-01,  2.6585e-01, -2.7601e-01,\n",
       "         -1.0925e-01,  2.4161e-02,  9.1276e-02,  6.0348e-02, -6.0059e-02,\n",
       "         -3.3812e-01,  2.4309e-01, -3.3747e-02, -4.9382e-02, -4.3979e-02,\n",
       "          9.4939e-02, -5.1361e-03,  5.6559e-02,  5.4164e-02,  3.3093e-01,\n",
       "          2.2633e-01, -2.0338e-02, -3.7753e-01, -4.6650e-02, -8.6735e-02,\n",
       "          3.9355e-02,  4.5744e-02, -1.9750e-02,  4.4724e-01, -9.5248e-02,\n",
       "          5.6637e-03, -1.4348e-01,  2.6583e-01,  2.0027e-01,  1.2248e-01,\n",
       "          1.1798e-01,  5.2730e-02,  1.4474e-01, -5.7766e-02, -2.1255e-02,\n",
       "         -1.5518e-01, -2.4543e-01, -2.7947e-01,  2.0526e-01, -2.5367e-01,\n",
       "         -1.8341e-01,  1.5058e-01,  1.9739e-01, -1.5367e-01,  1.3827e-01,\n",
       "          3.0879e-01,  1.0774e-01, -1.4018e-01,  2.8086e-01, -1.2816e-01,\n",
       "          1.1241e-01,  3.0695e-01, -1.6665e-02,  1.7593e-01,  5.0237e-01,\n",
       "          2.0615e-01, -3.7308e-01, -4.5742e-02, -2.1244e-01,  6.5451e-03,\n",
       "          2.6009e-01, -1.5179e-01,  2.0992e-01,  3.8641e-01,  3.2387e-01,\n",
       "          4.5787e-01,  2.7464e-03, -1.3871e-01,  8.4105e-02,  2.2514e-01,\n",
       "          1.7218e-02, -1.6348e-01, -1.7553e-01,  2.5409e-01,  5.2481e-02,\n",
       "         -1.4782e-01, -3.4883e-02, -1.3299e-01,  3.9151e-02, -1.2918e-01,\n",
       "         -4.0502e-01,  4.1638e-02,  1.9915e-01, -4.7533e-01,  8.5064e-02,\n",
       "         -2.7669e-01,  4.3024e-02, -2.4551e-01,  2.1614e-01, -2.1704e-01,\n",
       "         -1.0856e-01,  4.0376e-01, -7.0558e-02,  5.3691e-02, -1.8987e-01,\n",
       "         -1.4700e-01,  1.7793e-02,  1.9047e-02, -2.5504e-02, -2.8986e-02,\n",
       "          3.4475e-01, -1.2815e-01,  4.3385e-02,  1.7214e-02,  2.1012e-01,\n",
       "         -5.0544e-02,  1.9904e-01,  1.2607e-02, -1.3551e-01, -3.8602e-01,\n",
       "          1.3687e-01, -1.9452e-01, -4.2718e-01, -3.8813e-01,  3.7123e-01,\n",
       "         -1.3491e-01, -2.5552e-01, -2.1628e-01, -2.5203e-01,  8.6603e-02,\n",
       "          1.8874e-01,  4.6717e-01, -3.9924e-01, -9.3266e-02,  4.6801e-01,\n",
       "         -5.9054e-02, -1.8160e-01,  2.8641e-01,  1.8650e-01, -3.3684e-01,\n",
       "          3.3408e-01,  2.7453e-01, -5.1202e-02,  1.9442e-02,  5.1057e-01,\n",
       "          1.2458e-01,  1.9900e-01, -2.2594e-01,  4.4677e-01, -2.0924e-01,\n",
       "          3.2095e-01, -1.4214e-01, -2.2136e-01, -2.1145e-01, -1.1643e-02,\n",
       "          3.3575e-01,  1.9193e-01, -4.2778e-01, -1.2267e-01,  4.0184e-02,\n",
       "          3.6021e-01, -3.8999e-01, -9.3912e-02,  3.0063e-02, -3.4897e-01,\n",
       "          1.1534e-01,  1.0927e-01,  2.2407e-01, -3.8088e-01, -6.9021e-03,\n",
       "          3.9142e-01, -3.0255e-01,  1.3211e-01,  3.0998e-01,  7.0233e-02,\n",
       "          3.3604e-01, -3.9129e-02,  7.1658e-03,  4.5464e-02, -2.3357e-01,\n",
       "         -3.5423e-02,  1.4983e-01,  5.6157e-01,  1.5481e-01, -3.7794e-01,\n",
       "          9.6562e-02,  2.5686e-01, -1.8405e-01,  3.1480e-01, -9.8664e-02,\n",
       "         -4.9152e-02,  2.6249e-01, -4.7398e-02,  1.4743e-01, -9.5249e-02,\n",
       "         -2.3134e-01, -3.1139e-01,  3.8853e-01, -2.1314e-01, -1.1326e-01,\n",
       "         -1.5672e-01, -1.1077e-01, -1.4227e-01,  4.2703e-02, -3.8290e-01,\n",
       "          3.4183e-01,  1.2081e-01, -2.0239e-01, -1.0166e-01, -6.4598e-02,\n",
       "         -1.5710e-01, -2.2432e-01, -2.6498e-01,  4.2805e-01, -1.7004e-01,\n",
       "         -4.5224e-01,  2.5748e-01,  3.4049e-02,  3.4972e-01,  2.3862e-02,\n",
       "          1.1412e-01, -4.0268e-02,  1.3973e-01,  9.7067e-02, -1.3805e-01,\n",
       "          2.9496e-01,  5.1765e-02, -5.5853e-01, -1.3225e-01, -2.2105e-01,\n",
       "          7.7306e-02,  1.9263e-01, -3.4430e-01,  2.3568e-02,  2.5253e-02,\n",
       "          1.3726e-01,  1.8869e-02, -1.2904e-01, -6.3532e-02,  4.0615e-01,\n",
       "          2.3894e-01,  2.8557e-01,  1.0163e-01,  2.3908e-01, -2.7205e-02,\n",
       "         -3.3512e-01,  5.0001e-02,  9.2257e-02, -2.1549e-01,  4.3521e-01,\n",
       "         -9.5459e-02, -4.0110e-01, -6.6202e-02,  4.0454e-01,  8.8541e-02,\n",
       "         -3.0166e-02, -2.4921e-02,  2.0519e-01,  1.5607e-01, -1.3660e-01,\n",
       "          1.7513e-01, -2.1779e-02, -1.3987e-01, -1.1539e-01,  7.7553e-02,\n",
       "         -2.2114e-01,  4.9953e-02, -1.4691e-01, -6.5428e-03, -2.0092e-01,\n",
       "         -1.2912e-03, -2.1149e-01,  2.6101e-01, -3.4130e-01,  1.0355e-01,\n",
       "          6.9206e-02,  2.9983e-01, -3.5010e-01, -1.5777e-01, -5.8081e-02,\n",
       "          1.5107e-01,  2.6498e-01,  3.5853e-01,  3.1821e-02,  2.0004e-02,\n",
       "         -1.6611e-01, -2.6602e-01,  6.3947e-02, -2.1414e-01,  1.3864e-01,\n",
       "          6.6462e-02,  2.6377e-01, -3.1288e-01, -1.9596e-01,  2.2185e-01,\n",
       "         -9.2401e-02, -1.4946e-01,  4.2032e-01,  2.5380e-01,  2.1337e-01,\n",
       "          1.4461e-02,  2.5495e-01,  3.6831e-02, -1.7628e-01, -1.2115e-01,\n",
       "         -2.4977e-01,  8.9324e-02, -9.1066e-02, -5.5009e-02, -6.3157e-02,\n",
       "         -1.0775e-01, -2.0748e-01, -1.7954e-01,  1.4105e-01,  1.5018e-01,\n",
       "          2.8173e-02, -6.2963e-02, -2.7871e-02, -2.9133e-01,  3.0717e-01,\n",
       "          1.2619e-02,  7.7062e-02, -6.0462e-02,  3.2284e-02, -1.4622e-01,\n",
       "          2.2979e-01,  2.1566e-01,  1.0340e-01, -2.1087e-01, -4.8798e-02,\n",
       "         -2.9432e-01, -3.6423e-01,  5.7379e-02,  1.4822e-01,  1.2086e-01,\n",
       "         -9.1928e-02, -3.0596e-01, -2.4023e-02, -1.3632e-01,  1.8085e-01,\n",
       "          9.3025e-03, -1.5814e-01, -9.5690e-02, -5.0533e-02, -5.0963e-02,\n",
       "          7.7562e-02, -2.1167e-01, -1.9824e-01, -1.2067e-01, -7.1133e-02,\n",
       "         -8.1443e-02,  3.6474e-01, -4.7666e-02,  2.9349e-01, -1.6252e-01,\n",
       "          8.0746e-03, -1.7717e-01,  1.1926e-01, -6.5943e-02,  6.8345e-02,\n",
       "          2.7466e-01, -4.3901e-01, -1.6312e-01, -1.4789e-02, -2.0616e-01,\n",
       "         -1.7526e-01, -6.4864e-02, -3.9855e-02,  2.3424e-01, -3.4360e-01,\n",
       "          2.3490e-01, -1.1169e-01,  1.9504e-01, -7.1054e-02, -2.5389e-01,\n",
       "         -1.5752e-01,  1.6864e-02,  2.5012e-01, -3.4816e-01, -2.4864e-01,\n",
       "         -2.7978e-01, -1.0969e-01, -8.8405e-02, -2.6577e-01,  4.2844e-01,\n",
       "         -1.1936e-01, -7.8804e-02,  1.3716e-02,  4.4209e-01,  1.9712e-01,\n",
       "          1.5742e-01,  2.0831e-01, -1.3511e-02,  3.7341e-02,  1.1352e-01,\n",
       "         -4.6823e-01,  2.4004e-01, -2.3180e-01, -1.2410e-01,  3.5087e-03,\n",
       "          9.5102e-02, -3.7601e-02,  4.0568e-03, -1.4060e-01, -1.1048e-01,\n",
       "          2.1256e-01, -3.6218e-01, -4.2808e-02,  2.8913e-01,  1.5989e-01,\n",
       "         -2.5916e-01,  3.4223e-02,  1.1789e-01,  3.8187e-01,  9.9987e-02,\n",
       "         -2.1562e-01,  1.3011e-01, -3.5898e-01, -4.6917e-02, -2.0830e-01,\n",
       "         -2.9843e-01,  1.6889e-01, -7.5928e-02,  6.6976e-02, -9.7291e-02,\n",
       "         -2.8745e-01,  2.0640e-01, -5.0420e-02, -7.3856e-02,  4.2221e-01,\n",
       "          2.8958e-02, -1.0939e-01,  1.4974e-01,  1.2731e-02,  2.0680e-02,\n",
       "         -1.0458e-01,  2.5952e-01,  2.0616e-01, -2.7987e-01,  1.3307e-01,\n",
       "         -1.3394e-01, -4.5800e-02, -1.0073e-01]], grad_fn=<TanhBackward0>), hidden_states=None, past_key_values=None, attentions=None, cross_attentions=None)"
      ]
     },
     "execution_count": 15,
     "metadata": {},
     "output_type": "execute_result"
    }
   ],
   "source": [
    "output = model(**encoding)\n",
    "\n",
    "output"
   ]
  },
  {
   "cell_type": "code",
   "execution_count": 16,
   "metadata": {
    "cellId": "d9fgs5bfx5z9kez5rcrag"
   },
   "outputs": [
    {
     "data": {
      "text/plain": [
       "torch.Size([1, 4, 768])"
      ]
     },
     "execution_count": 16,
     "metadata": {},
     "output_type": "execute_result"
    }
   ],
   "source": [
    "output.last_hidden_state.shape"
   ]
  },
  {
   "cell_type": "code",
   "execution_count": 17,
   "metadata": {
    "cellId": "1js6rxki3g432uiphsys2x"
   },
   "outputs": [
    {
     "data": {
      "text/plain": [
       "torch.Size([1, 768])"
      ]
     },
     "execution_count": 17,
     "metadata": {},
     "output_type": "execute_result"
    }
   ],
   "source": [
    "output.pooler_output.shape"
   ]
  },
  {
   "cell_type": "code",
   "execution_count": 18,
   "metadata": {
    "cellId": "231wk6rflkjafpdzg8kir"
   },
   "outputs": [
    {
     "name": "stderr",
     "output_type": "stream",
     "text": [
      "Some weights of the model checkpoint at distilbert-base-cased were not used when initializing DistilBertModel: ['vocab_layer_norm.bias', 'vocab_projector.bias', 'vocab_projector.weight', 'vocab_transform.bias', 'vocab_transform.weight', 'vocab_layer_norm.weight']\n",
      "- This IS expected if you are initializing DistilBertModel from the checkpoint of a model trained on another task or with another architecture (e.g. initializing a BertForSequenceClassification model from a BertForPreTraining model).\n",
      "- This IS NOT expected if you are initializing DistilBertModel from the checkpoint of a model that you expect to be exactly identical (initializing a BertForSequenceClassification model from a BertForSequenceClassification model).\n"
     ]
    }
   ],
   "source": [
    "tokenizer, model = get_model('distilbert')"
   ]
  },
  {
   "cell_type": "code",
   "execution_count": 19,
   "metadata": {
    "cellId": "ovm11d6s6grt25h3kfnkik"
   },
   "outputs": [
    {
     "data": {
      "text/plain": [
       "PreTrainedTokenizerFast(name_or_path='distilbert-base-cased', vocab_size=28996, model_max_len=512, is_fast=True, padding_side='right', truncation_side='right', special_tokens={'unk_token': '[UNK]', 'sep_token': '[SEP]', 'pad_token': '[PAD]', 'cls_token': '[CLS]', 'mask_token': '[MASK]'})"
      ]
     },
     "execution_count": 19,
     "metadata": {},
     "output_type": "execute_result"
    }
   ],
   "source": [
    "tokenizer"
   ]
  },
  {
   "cell_type": "code",
   "execution_count": 20,
   "metadata": {
    "cellId": "28xoztlx805qrw1iifwuub"
   },
   "outputs": [
    {
     "data": {
      "text/plain": [
       "{'input_ids': tensor([[ 101, 8667,  106,  102]]), 'attention_mask': tensor([[1, 1, 1, 1]])}"
      ]
     },
     "execution_count": 20,
     "metadata": {},
     "output_type": "execute_result"
    }
   ],
   "source": [
    "encoding = tokenizer.encode_plus('Hello!', add_special_tokens=True, return_token_type_ids=False, return_tensors='pt')\n",
    "\n",
    "encoding"
   ]
  },
  {
   "cell_type": "code",
   "execution_count": 21,
   "metadata": {
    "cellId": "i5tzbn2rlgtzohehdcve"
   },
   "outputs": [
    {
     "data": {
      "text/plain": [
       "'[CLS] Hello! [SEP]'"
      ]
     },
     "execution_count": 21,
     "metadata": {},
     "output_type": "execute_result"
    }
   ],
   "source": [
    "tokenizer.decode(encoding['input_ids'][0])"
   ]
  },
  {
   "cell_type": "code",
   "execution_count": 22,
   "metadata": {
    "cellId": "osmxaat8heg23t48fy0we"
   },
   "outputs": [
    {
     "data": {
      "text/plain": [
       "BaseModelOutput(last_hidden_state=tensor([[[ 0.3344,  0.2363,  0.1612,  ...,  0.1000,  0.2444, -0.0667],\n",
       "         [ 0.1081,  0.3777,  0.4785,  ...,  0.3207,  0.6012,  0.1848],\n",
       "         [ 0.6096,  0.5275,  0.6734,  ...,  0.3253,  0.1565,  0.1588],\n",
       "         [ 0.5685,  0.6846,  0.5774,  ...,  0.8333,  0.9534, -0.0596]]],\n",
       "       grad_fn=<NativeLayerNormBackward0>), hidden_states=None, attentions=None)"
      ]
     },
     "execution_count": 22,
     "metadata": {},
     "output_type": "execute_result"
    }
   ],
   "source": [
    "output = model(**encoding)\n",
    "\n",
    "output"
   ]
  },
  {
   "cell_type": "code",
   "execution_count": 23,
   "metadata": {
    "cellId": "bjuvrzjm4iazi770yo4ts"
   },
   "outputs": [
    {
     "data": {
      "text/plain": [
       "torch.Size([1, 4, 768])"
      ]
     },
     "execution_count": 23,
     "metadata": {},
     "output_type": "execute_result"
    }
   ],
   "source": [
    "output.last_hidden_state.shape"
   ]
  },
  {
   "cell_type": "markdown",
   "metadata": {
    "cellId": "c5mt4chwj4rlt9uxm6kkn",
    "execution_id": "dc266d1e-6904-4305-974f-3f5bc8943352"
   },
   "source": [
    "## Датасеты\n",
    "\n",
    "https://huggingface.co/datasets"
   ]
  },
  {
   "cell_type": "code",
   "execution_count": 24,
   "metadata": {
    "cellId": "3198ksgkmth5ho0umw0y9m"
   },
   "outputs": [
    {
     "name": "stderr",
     "output_type": "stream",
     "text": [
      "Reusing dataset imdb (/home/nuke/.cache/huggingface/datasets/imdb/plain_text/1.0.0/2fdd8b9bcadd6e7055e742a706876ba43f19faee861df134affd7a3f60fc38a1)\n"
     ]
    },
    {
     "data": {
      "application/vnd.jupyter.widget-view+json": {
       "model_id": "6202a27b02304b09921a6b6a30e705ee",
       "version_major": 2,
       "version_minor": 0
      },
      "text/plain": [
       "  0%|          | 0/3 [00:00<?, ?it/s]"
      ]
     },
     "metadata": {},
     "output_type": "display_data"
    }
   ],
   "source": [
    "from datasets import load_dataset\n",
    "\n",
    "dataset = load_dataset(\"imdb\")"
   ]
  },
  {
   "cell_type": "code",
   "execution_count": 25,
   "metadata": {
    "cellId": "ctweialvomsjn69tgx8x"
   },
   "outputs": [
    {
     "data": {
      "text/plain": [
       "DatasetDict({\n",
       "    train: Dataset({\n",
       "        features: ['text', 'label'],\n",
       "        num_rows: 25000\n",
       "    })\n",
       "    test: Dataset({\n",
       "        features: ['text', 'label'],\n",
       "        num_rows: 25000\n",
       "    })\n",
       "    unsupervised: Dataset({\n",
       "        features: ['text', 'label'],\n",
       "        num_rows: 50000\n",
       "    })\n",
       "})"
      ]
     },
     "execution_count": 25,
     "metadata": {},
     "output_type": "execute_result"
    }
   ],
   "source": [
    "dataset"
   ]
  },
  {
   "cell_type": "code",
   "execution_count": 26,
   "metadata": {
    "cellId": "hdin2z380y3fg6eacms8r"
   },
   "outputs": [
    {
     "data": {
      "text/plain": [
       "Dataset({\n",
       "    features: ['text', 'label'],\n",
       "    num_rows: 25000\n",
       "})"
      ]
     },
     "execution_count": 26,
     "metadata": {},
     "output_type": "execute_result"
    }
   ],
   "source": [
    "dataset['train']"
   ]
  },
  {
   "cell_type": "code",
   "execution_count": 27,
   "metadata": {
    "cellId": "uinv0vtq5lbwr77j502m5o"
   },
   "outputs": [
    {
     "data": {
      "text/plain": [
       "{'text': 'I rented I AM CURIOUS-YELLOW from my video store because of all the controversy that surrounded it when it was first released in 1967. I also heard that at first it was seized by U.S. customs if it ever tried to enter this country, therefore being a fan of films considered \"controversial\" I really had to see this for myself.<br /><br />The plot is centered around a young Swedish drama student named Lena who wants to learn everything she can about life. In particular she wants to focus her attentions to making some sort of documentary on what the average Swede thought about certain political issues such as the Vietnam War and race issues in the United States. In between asking politicians and ordinary denizens of Stockholm about their opinions on politics, she has sex with her drama teacher, classmates, and married men.<br /><br />What kills me about I AM CURIOUS-YELLOW is that 40 years ago, this was considered pornographic. Really, the sex and nudity scenes are few and far between, even then it\\'s not shot like some cheaply made porno. While my countrymen mind find it shocking, in reality sex and nudity are a major staple in Swedish cinema. Even Ingmar Bergman, arguably their answer to good old boy John Ford, had sex scenes in his films.<br /><br />I do commend the filmmakers for the fact that any sex shown in the film is shown for artistic purposes rather than just to shock people and make money to be shown in pornographic theaters in America. I AM CURIOUS-YELLOW is a good film for anyone wanting to study the meat and potatoes (no pun intended) of Swedish cinema. But really, this film doesn\\'t have much of a plot.',\n",
       " 'label': 0}"
      ]
     },
     "execution_count": 27,
     "metadata": {},
     "output_type": "execute_result"
    }
   ],
   "source": [
    "dataset['train'][0]"
   ]
  },
  {
   "cell_type": "code",
   "execution_count": 28,
   "metadata": {
    "cellId": "8pq48qh8685zehh7s8dq7e"
   },
   "outputs": [
    {
     "name": "stderr",
     "output_type": "stream",
     "text": [
      "Loading cached processed dataset at /home/nuke/.cache/huggingface/datasets/imdb/plain_text/1.0.0/2fdd8b9bcadd6e7055e742a706876ba43f19faee861df134affd7a3f60fc38a1/cache-7f4aff406a9b0307.arrow\n",
      "Loading cached processed dataset at /home/nuke/.cache/huggingface/datasets/imdb/plain_text/1.0.0/2fdd8b9bcadd6e7055e742a706876ba43f19faee861df134affd7a3f60fc38a1/cache-6474a3e62c044d9c.arrow\n"
     ]
    }
   ],
   "source": [
    "def tokenization(example):\n",
    "    return tokenizer.batch_encode_plus(example['text'], add_special_tokens=True, return_token_type_ids=False, truncation=True)\n",
    "\n",
    "\n",
    "train_dataset = dataset['train'].map(tokenization, batched=True)\n",
    "test_dataset = dataset['test'].map(tokenization, batched=True)"
   ]
  },
  {
   "cell_type": "code",
   "execution_count": 29,
   "metadata": {
    "cellId": "dv8rsxor2wu0dnnllvu8z8"
   },
   "outputs": [
    {
     "data": {
      "text/plain": [
       "dict_keys(['text', 'label', 'input_ids', 'attention_mask'])"
      ]
     },
     "execution_count": 29,
     "metadata": {},
     "output_type": "execute_result"
    }
   ],
   "source": [
    "train_dataset[0].keys()"
   ]
  },
  {
   "cell_type": "code",
   "execution_count": 30,
   "metadata": {
    "cellId": "a85eo5l692kuospupukqb8"
   },
   "outputs": [],
   "source": [
    "train_dataset.set_format(type=\"torch\", columns=[\"input_ids\", \"attention_mask\", \"label\"])\n",
    "test_dataset.set_format(type=\"torch\", columns=[\"input_ids\", \"attention_mask\", \"label\"])"
   ]
  },
  {
   "cell_type": "code",
   "execution_count": 31,
   "metadata": {
    "cellId": "0fu4jtxiblzhz33smfsdz6"
   },
   "outputs": [
    {
     "data": {
      "text/plain": [
       "{'label': tensor(0),\n",
       " 'input_ids': tensor([  101,   146, 12765,   146,  6586,   140, 19556, 19368, 13329,   118,\n",
       "           162, 21678,  2162, 17056,  1121,  1139,  1888,  2984,  1272,  1104,\n",
       "          1155,  1103,  6392,  1115,  4405,  1122,  1165,  1122,  1108,  1148,\n",
       "          1308,  1107,  2573,   119,   146,  1145,  1767,  1115,  1120,  1148,\n",
       "          1122,  1108,  7842,  1118,   158,   119,   156,   119, 10148,  1191,\n",
       "          1122,  1518,  1793,  1106,  3873,  1142,  1583,   117,  3335,  1217,\n",
       "           170,  5442,  1104,  2441,  1737,   107,  6241,   107,   146,  1541,\n",
       "          1125,  1106,  1267,  1142,  1111,  1991,   119,   133,  9304,   120,\n",
       "           135,   133,  9304,   120,   135,  1109,  4928,  1110,  8663,  1213,\n",
       "           170,  1685,  3619,  3362,  2377,  1417, 14960,  1150,  3349,  1106,\n",
       "          3858,  1917,  1131,  1169,  1164,  1297,   119,  1130,  2440,  1131,\n",
       "          3349,  1106,  2817,  1123,  2209,  1116,  1106,  1543,  1199,  3271,\n",
       "          1104,  4148,  1113,  1184,  1103,  1903,   156, 11547,  1162,  1354,\n",
       "          1164,  2218,  1741,  2492,  1216,  1112,  1103,  4357,  1414,  1105,\n",
       "          1886,  2492,  1107,  1103,  1244,  1311,   119,  1130,  1206,  4107,\n",
       "          8673,  1105,  6655, 10552,  3708,  2316,  1104,  8583,  1164,  1147,\n",
       "         11089,  1113,  4039,   117,  1131,  1144,  2673,  1114,  1123,  3362,\n",
       "          3218,   117, 22150,   117,  1105,  1597,  1441,   119,   133,  9304,\n",
       "           120,   135,   133,  9304,   120,   135,  1327,  8567,  1143,  1164,\n",
       "           146,  6586,   140, 19556, 19368, 13329,   118,   162, 21678,  2162,\n",
       "         17056,  1110,  1115,  1969,  1201,  2403,   117,  1142,  1108,  1737,\n",
       "           185,  8456,  9597,   119,  8762,   117,  1103,  2673,  1105,   183,\n",
       "         17294,  2340,  4429,  1132,  1374,  1105,  1677,  1206,   117,  1256,\n",
       "          1173,  1122,   112,   188,  1136,  2046,  1176,  1199, 10928,  1193,\n",
       "          1189,   185,  8456,  1186,   119,  1799,  1139,  1583,  2354,  1713,\n",
       "          1525,  1122, 19196,   117,  1107,  3958,  2673,  1105,   183, 17294,\n",
       "          2340,  1132,   170,  1558, 22088,  1107,  3619,  7678,   119,  2431,\n",
       "          1130, 14721,  1197, 27644,   117, 18271,  1147,  2590,  1106,  1363,\n",
       "          1385,  2298,  1287,  4100,   117,  1125,  2673,  4429,  1107,  1117,\n",
       "          2441,   119,   133,  9304,   120,   135,   133,  9304,   120,   135,\n",
       "           146,  1202,  3254,  2354,  1181,  1103, 18992,  1111,  1103,  1864,\n",
       "          1115,  1251,  2673,  2602,  1107,  1103,  1273,  1110,  2602,  1111,\n",
       "          6037,  4998,  1897,  1190,  1198,  1106,  4900,  1234,  1105,  1294,\n",
       "          1948,  1106,  1129,  2602,  1107,   185,  8456,  9597, 13090,  1107,\n",
       "          1738,   119,   146,  6586,   140, 19556, 19368, 13329,   118,   162,\n",
       "         21678,  2162, 17056,  1110,   170,  1363,  1273,  1111,  2256,  5277,\n",
       "          1106,  2025,  1103,  6092,  1105, 15866,   113,  1185, 23609,  1179,\n",
       "          3005,   114,  1104,  3619,  7678,   119,  1252,  1541,   117,  1142,\n",
       "          1273,  2144,   112,   189,  1138,  1277,  1104,   170,  4928,   119,\n",
       "           102]),\n",
       " 'attention_mask': tensor([1, 1, 1, 1, 1, 1, 1, 1, 1, 1, 1, 1, 1, 1, 1, 1, 1, 1, 1, 1, 1, 1, 1, 1,\n",
       "         1, 1, 1, 1, 1, 1, 1, 1, 1, 1, 1, 1, 1, 1, 1, 1, 1, 1, 1, 1, 1, 1, 1, 1,\n",
       "         1, 1, 1, 1, 1, 1, 1, 1, 1, 1, 1, 1, 1, 1, 1, 1, 1, 1, 1, 1, 1, 1, 1, 1,\n",
       "         1, 1, 1, 1, 1, 1, 1, 1, 1, 1, 1, 1, 1, 1, 1, 1, 1, 1, 1, 1, 1, 1, 1, 1,\n",
       "         1, 1, 1, 1, 1, 1, 1, 1, 1, 1, 1, 1, 1, 1, 1, 1, 1, 1, 1, 1, 1, 1, 1, 1,\n",
       "         1, 1, 1, 1, 1, 1, 1, 1, 1, 1, 1, 1, 1, 1, 1, 1, 1, 1, 1, 1, 1, 1, 1, 1,\n",
       "         1, 1, 1, 1, 1, 1, 1, 1, 1, 1, 1, 1, 1, 1, 1, 1, 1, 1, 1, 1, 1, 1, 1, 1,\n",
       "         1, 1, 1, 1, 1, 1, 1, 1, 1, 1, 1, 1, 1, 1, 1, 1, 1, 1, 1, 1, 1, 1, 1, 1,\n",
       "         1, 1, 1, 1, 1, 1, 1, 1, 1, 1, 1, 1, 1, 1, 1, 1, 1, 1, 1, 1, 1, 1, 1, 1,\n",
       "         1, 1, 1, 1, 1, 1, 1, 1, 1, 1, 1, 1, 1, 1, 1, 1, 1, 1, 1, 1, 1, 1, 1, 1,\n",
       "         1, 1, 1, 1, 1, 1, 1, 1, 1, 1, 1, 1, 1, 1, 1, 1, 1, 1, 1, 1, 1, 1, 1, 1,\n",
       "         1, 1, 1, 1, 1, 1, 1, 1, 1, 1, 1, 1, 1, 1, 1, 1, 1, 1, 1, 1, 1, 1, 1, 1,\n",
       "         1, 1, 1, 1, 1, 1, 1, 1, 1, 1, 1, 1, 1, 1, 1, 1, 1, 1, 1, 1, 1, 1, 1, 1,\n",
       "         1, 1, 1, 1, 1, 1, 1, 1, 1, 1, 1, 1, 1, 1, 1, 1, 1, 1, 1, 1, 1, 1, 1, 1,\n",
       "         1, 1, 1, 1, 1, 1, 1, 1, 1, 1, 1, 1, 1, 1, 1, 1, 1, 1, 1, 1, 1, 1, 1, 1,\n",
       "         1, 1, 1, 1, 1, 1, 1, 1, 1, 1, 1, 1, 1, 1, 1, 1, 1, 1, 1, 1, 1, 1, 1, 1,\n",
       "         1, 1, 1, 1, 1, 1, 1])}"
      ]
     },
     "execution_count": 31,
     "metadata": {},
     "output_type": "execute_result"
    }
   ],
   "source": [
    "train_dataset[0]"
   ]
  },
  {
   "cell_type": "code",
   "execution_count": 32,
   "metadata": {
    "cellId": "wstqr51kxytkezqrizmo"
   },
   "outputs": [],
   "source": [
    "from transformers import DataCollatorWithPadding\n",
    "\n",
    "\n",
    "data_collator = DataCollatorWithPadding(tokenizer=tokenizer)"
   ]
  },
  {
   "cell_type": "code",
   "execution_count": 33,
   "metadata": {
    "cellId": "ys9mi6x8n8bl6uwhe3uke"
   },
   "outputs": [],
   "source": [
    "from torch.utils.data import DataLoader\n",
    "\n",
    "\n",
    "train_loader = DataLoader(train_dataset, batch_size=32, collate_fn=data_collator, pin_memory=True, shuffle=True)\n",
    "test_loader = DataLoader(test_dataset, batch_size=32, collate_fn=data_collator, pin_memory=True, shuffle=True)"
   ]
  },
  {
   "cell_type": "code",
   "execution_count": 34,
   "metadata": {
    "cellId": "holdny8p4d6j35v5h0em9"
   },
   "outputs": [],
   "source": [
    "b = next(iter(train_loader))"
   ]
  },
  {
   "cell_type": "code",
   "execution_count": 35,
   "metadata": {
    "cellId": "cthp3oaeo4zhcbgma86gb"
   },
   "outputs": [
    {
     "data": {
      "text/plain": [
       "{'input_ids': tensor([[  101,  1188,  2523,  ...,     0,     0,     0],\n",
       "        [  101,   146,  1821,  ...,     0,     0,     0],\n",
       "        [  101,   107,  1130,  ...,     0,     0,     0],\n",
       "        ...,\n",
       "        [  101,   146,  1125,  ...,     0,     0,     0],\n",
       "        [  101,   146,  1486,  ...,     0,     0,     0],\n",
       "        [  101,   107, 16983,  ...,   107,   186,   102]]), 'attention_mask': tensor([[1, 1, 1,  ..., 0, 0, 0],\n",
       "        [1, 1, 1,  ..., 0, 0, 0],\n",
       "        [1, 1, 1,  ..., 0, 0, 0],\n",
       "        ...,\n",
       "        [1, 1, 1,  ..., 0, 0, 0],\n",
       "        [1, 1, 1,  ..., 0, 0, 0],\n",
       "        [1, 1, 1,  ..., 1, 1, 1]]), 'labels': tensor([0, 1, 1, 1, 0, 0, 1, 1, 0, 0, 1, 1, 1, 0, 0, 0, 0, 0, 1, 1, 0, 1, 0, 0,\n",
       "        0, 0, 0, 1, 0, 0, 1, 0])}"
      ]
     },
     "execution_count": 35,
     "metadata": {},
     "output_type": "execute_result"
    }
   ],
   "source": [
    "b"
   ]
  },
  {
   "cell_type": "code",
   "execution_count": 36,
   "metadata": {
    "cellId": "tls1wuu9sgqtx140sa1cfe"
   },
   "outputs": [],
   "source": [
    "from transformers import AutoTokenizer\n",
    "from transformers import BertForSequenceClassification  # https://huggingface.co/docs/transformers/model_doc/bert#transformers.BertForSequenceClassification\n",
    "from transformers import RobertaForSequenceClassification  # https://huggingface.co/docs/transformers/model_doc/roberta#transformers.RobertaForSequenceClassification\n",
    "from transformers import DistilBertForSequenceClassification  # https://huggingface.co/docs/transformers/model_doc/distilbert#transformers.DistilBertForSequenceClassification\n",
    "\n",
    "\n",
    "def get_model_sc(model_name):\n",
    "    assert model_name in ['bert', 'roberta', 'distilbert']\n",
    "    \n",
    "    checkpoint_names = {\n",
    "        'bert': 'bert-base-cased',  # https://huggingface.co/bert-base-cased\n",
    "        'roberta': 'roberta-base',  # https://huggingface.co/roberta-base\n",
    "        'distilbert': 'distilbert-base-cased'  # https://huggingface.co/distilbert-base-cased\n",
    "    }\n",
    "\n",
    "    model_classes = {\n",
    "        'bert': BertForSequenceClassification,\n",
    "        'roberta': RobertaForSequenceClassification,\n",
    "        'distilbert': DistilBertForSequenceClassification\n",
    "    }\n",
    "\n",
    "    return AutoTokenizer.from_pretrained(checkpoint_names[model_name]), model_classes[model_name].from_pretrained(checkpoint_names[model_name], num_labels=2)"
   ]
  },
  {
   "cell_type": "code",
   "execution_count": 37,
   "metadata": {
    "cellId": "eaimuv2ew42xi6wtotd1"
   },
   "outputs": [
    {
     "name": "stderr",
     "output_type": "stream",
     "text": [
      "Some weights of the model checkpoint at distilbert-base-cased were not used when initializing DistilBertForSequenceClassification: ['vocab_layer_norm.bias', 'vocab_projector.bias', 'vocab_projector.weight', 'vocab_transform.bias', 'vocab_transform.weight', 'vocab_layer_norm.weight']\n",
      "- This IS expected if you are initializing DistilBertForSequenceClassification from the checkpoint of a model trained on another task or with another architecture (e.g. initializing a BertForSequenceClassification model from a BertForPreTraining model).\n",
      "- This IS NOT expected if you are initializing DistilBertForSequenceClassification from the checkpoint of a model that you expect to be exactly identical (initializing a BertForSequenceClassification model from a BertForSequenceClassification model).\n",
      "Some weights of DistilBertForSequenceClassification were not initialized from the model checkpoint at distilbert-base-cased and are newly initialized: ['pre_classifier.bias', 'classifier.weight', 'pre_classifier.weight', 'classifier.bias']\n",
      "You should probably TRAIN this model on a down-stream task to be able to use it for predictions and inference.\n"
     ]
    }
   ],
   "source": [
    "tokenizer, model = get_model_sc('distilbert')"
   ]
  },
  {
   "cell_type": "code",
   "execution_count": 38,
   "metadata": {
    "cellId": "mj1gg800i4na44smskvezt"
   },
   "outputs": [
    {
     "data": {
      "text/plain": [
       "SequenceClassifierOutput(loss=tensor(0.6987, grad_fn=<NllLossBackward0>), logits=tensor([[0.0452, 0.0540],\n",
       "        [0.0545, 0.0579],\n",
       "        [0.0277, 0.0625],\n",
       "        [0.0276, 0.0564],\n",
       "        [0.0271, 0.0789],\n",
       "        [0.0444, 0.0486],\n",
       "        [0.0442, 0.0593],\n",
       "        [0.0433, 0.0452],\n",
       "        [0.0192, 0.0913],\n",
       "        [0.0372, 0.0493],\n",
       "        [0.0187, 0.0786],\n",
       "        [0.0313, 0.0747],\n",
       "        [0.0394, 0.0653],\n",
       "        [0.0279, 0.0364],\n",
       "        [0.0492, 0.0493],\n",
       "        [0.0158, 0.0543],\n",
       "        [0.0362, 0.0716],\n",
       "        [0.0227, 0.0705],\n",
       "        [0.0369, 0.0252],\n",
       "        [0.0395, 0.0528],\n",
       "        [0.0077, 0.0670],\n",
       "        [0.0293, 0.0706],\n",
       "        [0.0516, 0.0712],\n",
       "        [0.0172, 0.0759],\n",
       "        [0.0355, 0.0705],\n",
       "        [0.0411, 0.0532],\n",
       "        [0.0197, 0.0468],\n",
       "        [0.0829, 0.0699],\n",
       "        [0.0330, 0.0370],\n",
       "        [0.0008, 0.0673],\n",
       "        [0.0497, 0.0485],\n",
       "        [0.0501, 0.0747]], grad_fn=<AddmmBackward0>), hidden_states=None, attentions=None)"
      ]
     },
     "execution_count": 38,
     "metadata": {},
     "output_type": "execute_result"
    }
   ],
   "source": [
    "model(**b)"
   ]
  },
  {
   "cell_type": "markdown",
   "metadata": {
    "cellId": "8v6ujlj0z1bnwdgnexwo8r",
    "execution_id": "06e74472-434f-4190-956a-df20d390a13d"
   },
   "source": [
    "## Обучение (не будем запускать)"
   ]
  },
  {
   "cell_type": "code",
   "execution_count": 39,
   "metadata": {
    "cellId": "5jy0ou5x2mvcrh7ls85909",
    "execution_id": "5a2e0e6f-54c7-426e-addc-0f444983a32e"
   },
   "outputs": [],
   "source": [
    "from datasets import load_metric\n",
    "\n",
    "\n",
    "metric = load_metric(\"accuracy\")\n",
    "\n",
    "\n",
    "def compute_metrics(eval_pred):\n",
    "    logits, labels = eval_pred\n",
    "    predictions = np.argmax(logits, axis=-1)\n",
    "    return metric.compute(predictions=predictions, references=labels)"
   ]
  },
  {
   "cell_type": "code",
   "execution_count": 40,
   "metadata": {
    "cellId": "ekqhgxzgrgrf4jerz802r",
    "execution_id": "6bac1357-5d83-48df-9be4-7fcb7f9da51b"
   },
   "outputs": [
    {
     "name": "stderr",
     "output_type": "stream",
     "text": [
      "The following columns in the training set don't have a corresponding argument in `DistilBertForSequenceClassification.forward` and have been ignored: text. If text are not expected by `DistilBertForSequenceClassification.forward`,  you can safely ignore this message.\n",
      "***** Running training *****\n",
      "  Num examples = 25000\n",
      "  Num Epochs = 5\n",
      "  Instantaneous batch size per device = 16\n",
      "  Total train batch size (w. parallel, distributed & accumulation) = 16\n",
      "  Gradient Accumulation steps = 1\n",
      "  Total optimization steps = 7815\n"
     ]
    },
    {
     "data": {
      "text/html": [
       "\n",
       "    <div>\n",
       "      \n",
       "      <progress value='38' max='7815' style='width:300px; height:20px; vertical-align: middle;'></progress>\n",
       "      [  38/7815 00:06 < 21:53, 5.92 it/s, Epoch 0.02/5]\n",
       "    </div>\n",
       "    <table border=\"1\" class=\"dataframe\">\n",
       "  <thead>\n",
       " <tr style=\"text-align: left;\">\n",
       "      <th>Epoch</th>\n",
       "      <th>Training Loss</th>\n",
       "      <th>Validation Loss</th>\n",
       "    </tr>\n",
       "  </thead>\n",
       "  <tbody>\n",
       "  </tbody>\n",
       "</table><p>"
      ],
      "text/plain": [
       "<IPython.core.display.HTML object>"
      ]
     },
     "metadata": {},
     "output_type": "display_data"
    },
    {
     "ename": "KeyboardInterrupt",
     "evalue": "",
     "output_type": "error",
     "traceback": [
      "\u001b[0;31m---------------------------------------------------------------------------\u001b[0m",
      "\u001b[0;31mKeyboardInterrupt\u001b[0m                         Traceback (most recent call last)",
      "Input \u001b[0;32mIn [40]\u001b[0m, in \u001b[0;36m<cell line: 25>\u001b[0;34m()\u001b[0m\n\u001b[1;32m      5\u001b[0m training_args \u001b[38;5;241m=\u001b[39m TrainingArguments(\n\u001b[1;32m      6\u001b[0m     output_dir\u001b[38;5;241m=\u001b[39m\u001b[38;5;124m\"\u001b[39m\u001b[38;5;124m./results\u001b[39m\u001b[38;5;124m\"\u001b[39m,\n\u001b[1;32m      7\u001b[0m     learning_rate\u001b[38;5;241m=\u001b[39m\u001b[38;5;241m2e-5\u001b[39m,\n\u001b[0;32m   (...)\u001b[0m\n\u001b[1;32m     12\u001b[0m     evaluation_strategy\u001b[38;5;241m=\u001b[39m\u001b[38;5;124m\"\u001b[39m\u001b[38;5;124mepoch\u001b[39m\u001b[38;5;124m\"\u001b[39m\n\u001b[1;32m     13\u001b[0m )\n\u001b[1;32m     15\u001b[0m trainer \u001b[38;5;241m=\u001b[39m Trainer(\n\u001b[1;32m     16\u001b[0m     model\u001b[38;5;241m=\u001b[39mmodel,\n\u001b[1;32m     17\u001b[0m     args\u001b[38;5;241m=\u001b[39mtraining_args,\n\u001b[0;32m   (...)\u001b[0m\n\u001b[1;32m     22\u001b[0m     compute_metrics\u001b[38;5;241m=\u001b[39mcompute_metrics,\n\u001b[1;32m     23\u001b[0m )\n\u001b[0;32m---> 25\u001b[0m \u001b[43mtrainer\u001b[49m\u001b[38;5;241;43m.\u001b[39;49m\u001b[43mtrain\u001b[49m\u001b[43m(\u001b[49m\u001b[43m)\u001b[49m\n",
      "File \u001b[0;32m~/PycharmProjects/start-ml/venv/lib/python3.10/site-packages/transformers/trainer.py:1498\u001b[0m, in \u001b[0;36mTrainer.train\u001b[0;34m(self, resume_from_checkpoint, trial, ignore_keys_for_eval, **kwargs)\u001b[0m\n\u001b[1;32m   1493\u001b[0m     \u001b[38;5;28mself\u001b[39m\u001b[38;5;241m.\u001b[39mmodel_wrapped \u001b[38;5;241m=\u001b[39m \u001b[38;5;28mself\u001b[39m\u001b[38;5;241m.\u001b[39mmodel\n\u001b[1;32m   1495\u001b[0m inner_training_loop \u001b[38;5;241m=\u001b[39m find_executable_batch_size(\n\u001b[1;32m   1496\u001b[0m     \u001b[38;5;28mself\u001b[39m\u001b[38;5;241m.\u001b[39m_inner_training_loop, \u001b[38;5;28mself\u001b[39m\u001b[38;5;241m.\u001b[39m_train_batch_size, args\u001b[38;5;241m.\u001b[39mauto_find_batch_size\n\u001b[1;32m   1497\u001b[0m )\n\u001b[0;32m-> 1498\u001b[0m \u001b[38;5;28;01mreturn\u001b[39;00m \u001b[43minner_training_loop\u001b[49m\u001b[43m(\u001b[49m\n\u001b[1;32m   1499\u001b[0m \u001b[43m    \u001b[49m\u001b[43margs\u001b[49m\u001b[38;5;241;43m=\u001b[39;49m\u001b[43margs\u001b[49m\u001b[43m,\u001b[49m\n\u001b[1;32m   1500\u001b[0m \u001b[43m    \u001b[49m\u001b[43mresume_from_checkpoint\u001b[49m\u001b[38;5;241;43m=\u001b[39;49m\u001b[43mresume_from_checkpoint\u001b[49m\u001b[43m,\u001b[49m\n\u001b[1;32m   1501\u001b[0m \u001b[43m    \u001b[49m\u001b[43mtrial\u001b[49m\u001b[38;5;241;43m=\u001b[39;49m\u001b[43mtrial\u001b[49m\u001b[43m,\u001b[49m\n\u001b[1;32m   1502\u001b[0m \u001b[43m    \u001b[49m\u001b[43mignore_keys_for_eval\u001b[49m\u001b[38;5;241;43m=\u001b[39;49m\u001b[43mignore_keys_for_eval\u001b[49m\u001b[43m,\u001b[49m\n\u001b[1;32m   1503\u001b[0m \u001b[43m\u001b[49m\u001b[43m)\u001b[49m\n",
      "File \u001b[0;32m~/PycharmProjects/start-ml/venv/lib/python3.10/site-packages/transformers/trainer.py:1740\u001b[0m, in \u001b[0;36mTrainer._inner_training_loop\u001b[0;34m(self, batch_size, args, resume_from_checkpoint, trial, ignore_keys_for_eval)\u001b[0m\n\u001b[1;32m   1738\u001b[0m         tr_loss_step \u001b[38;5;241m=\u001b[39m \u001b[38;5;28mself\u001b[39m\u001b[38;5;241m.\u001b[39mtraining_step(model, inputs)\n\u001b[1;32m   1739\u001b[0m \u001b[38;5;28;01melse\u001b[39;00m:\n\u001b[0;32m-> 1740\u001b[0m     tr_loss_step \u001b[38;5;241m=\u001b[39m \u001b[38;5;28;43mself\u001b[39;49m\u001b[38;5;241;43m.\u001b[39;49m\u001b[43mtraining_step\u001b[49m\u001b[43m(\u001b[49m\u001b[43mmodel\u001b[49m\u001b[43m,\u001b[49m\u001b[43m \u001b[49m\u001b[43minputs\u001b[49m\u001b[43m)\u001b[49m\n\u001b[1;32m   1742\u001b[0m \u001b[38;5;28;01mif\u001b[39;00m (\n\u001b[1;32m   1743\u001b[0m     args\u001b[38;5;241m.\u001b[39mlogging_nan_inf_filter\n\u001b[1;32m   1744\u001b[0m     \u001b[38;5;129;01mand\u001b[39;00m \u001b[38;5;129;01mnot\u001b[39;00m is_torch_tpu_available()\n\u001b[1;32m   1745\u001b[0m     \u001b[38;5;129;01mand\u001b[39;00m (torch\u001b[38;5;241m.\u001b[39misnan(tr_loss_step) \u001b[38;5;129;01mor\u001b[39;00m torch\u001b[38;5;241m.\u001b[39misinf(tr_loss_step))\n\u001b[1;32m   1746\u001b[0m ):\n\u001b[1;32m   1747\u001b[0m     \u001b[38;5;66;03m# if loss is nan or inf simply add the average of previous logged losses\u001b[39;00m\n\u001b[1;32m   1748\u001b[0m     tr_loss \u001b[38;5;241m+\u001b[39m\u001b[38;5;241m=\u001b[39m tr_loss \u001b[38;5;241m/\u001b[39m (\u001b[38;5;241m1\u001b[39m \u001b[38;5;241m+\u001b[39m \u001b[38;5;28mself\u001b[39m\u001b[38;5;241m.\u001b[39mstate\u001b[38;5;241m.\u001b[39mglobal_step \u001b[38;5;241m-\u001b[39m \u001b[38;5;28mself\u001b[39m\u001b[38;5;241m.\u001b[39m_globalstep_last_logged)\n",
      "File \u001b[0;32m~/PycharmProjects/start-ml/venv/lib/python3.10/site-packages/transformers/trainer.py:2488\u001b[0m, in \u001b[0;36mTrainer.training_step\u001b[0;34m(self, model, inputs)\u001b[0m\n\u001b[1;32m   2486\u001b[0m     loss \u001b[38;5;241m=\u001b[39m \u001b[38;5;28mself\u001b[39m\u001b[38;5;241m.\u001b[39mdeepspeed\u001b[38;5;241m.\u001b[39mbackward(loss)\n\u001b[1;32m   2487\u001b[0m \u001b[38;5;28;01melse\u001b[39;00m:\n\u001b[0;32m-> 2488\u001b[0m     \u001b[43mloss\u001b[49m\u001b[38;5;241;43m.\u001b[39;49m\u001b[43mbackward\u001b[49m\u001b[43m(\u001b[49m\u001b[43m)\u001b[49m\n\u001b[1;32m   2490\u001b[0m \u001b[38;5;28;01mreturn\u001b[39;00m loss\u001b[38;5;241m.\u001b[39mdetach()\n",
      "File \u001b[0;32m~/.local/lib/python3.10/site-packages/torch/_tensor.py:396\u001b[0m, in \u001b[0;36mTensor.backward\u001b[0;34m(self, gradient, retain_graph, create_graph, inputs)\u001b[0m\n\u001b[1;32m    387\u001b[0m \u001b[38;5;28;01mif\u001b[39;00m has_torch_function_unary(\u001b[38;5;28mself\u001b[39m):\n\u001b[1;32m    388\u001b[0m     \u001b[38;5;28;01mreturn\u001b[39;00m handle_torch_function(\n\u001b[1;32m    389\u001b[0m         Tensor\u001b[38;5;241m.\u001b[39mbackward,\n\u001b[1;32m    390\u001b[0m         (\u001b[38;5;28mself\u001b[39m,),\n\u001b[0;32m   (...)\u001b[0m\n\u001b[1;32m    394\u001b[0m         create_graph\u001b[38;5;241m=\u001b[39mcreate_graph,\n\u001b[1;32m    395\u001b[0m         inputs\u001b[38;5;241m=\u001b[39minputs)\n\u001b[0;32m--> 396\u001b[0m \u001b[43mtorch\u001b[49m\u001b[38;5;241;43m.\u001b[39;49m\u001b[43mautograd\u001b[49m\u001b[38;5;241;43m.\u001b[39;49m\u001b[43mbackward\u001b[49m\u001b[43m(\u001b[49m\u001b[38;5;28;43mself\u001b[39;49m\u001b[43m,\u001b[49m\u001b[43m \u001b[49m\u001b[43mgradient\u001b[49m\u001b[43m,\u001b[49m\u001b[43m \u001b[49m\u001b[43mretain_graph\u001b[49m\u001b[43m,\u001b[49m\u001b[43m \u001b[49m\u001b[43mcreate_graph\u001b[49m\u001b[43m,\u001b[49m\u001b[43m \u001b[49m\u001b[43minputs\u001b[49m\u001b[38;5;241;43m=\u001b[39;49m\u001b[43minputs\u001b[49m\u001b[43m)\u001b[49m\n",
      "File \u001b[0;32m~/.local/lib/python3.10/site-packages/torch/autograd/__init__.py:173\u001b[0m, in \u001b[0;36mbackward\u001b[0;34m(tensors, grad_tensors, retain_graph, create_graph, grad_variables, inputs)\u001b[0m\n\u001b[1;32m    168\u001b[0m     retain_graph \u001b[38;5;241m=\u001b[39m create_graph\n\u001b[1;32m    170\u001b[0m \u001b[38;5;66;03m# The reason we repeat same the comment below is that\u001b[39;00m\n\u001b[1;32m    171\u001b[0m \u001b[38;5;66;03m# some Python versions print out the first line of a multi-line function\u001b[39;00m\n\u001b[1;32m    172\u001b[0m \u001b[38;5;66;03m# calls in the traceback and some print out the last line\u001b[39;00m\n\u001b[0;32m--> 173\u001b[0m \u001b[43mVariable\u001b[49m\u001b[38;5;241;43m.\u001b[39;49m\u001b[43m_execution_engine\u001b[49m\u001b[38;5;241;43m.\u001b[39;49m\u001b[43mrun_backward\u001b[49m\u001b[43m(\u001b[49m\u001b[43m  \u001b[49m\u001b[38;5;66;43;03m# Calls into the C++ engine to run the backward pass\u001b[39;49;00m\n\u001b[1;32m    174\u001b[0m \u001b[43m    \u001b[49m\u001b[43mtensors\u001b[49m\u001b[43m,\u001b[49m\u001b[43m \u001b[49m\u001b[43mgrad_tensors_\u001b[49m\u001b[43m,\u001b[49m\u001b[43m \u001b[49m\u001b[43mretain_graph\u001b[49m\u001b[43m,\u001b[49m\u001b[43m \u001b[49m\u001b[43mcreate_graph\u001b[49m\u001b[43m,\u001b[49m\u001b[43m \u001b[49m\u001b[43minputs\u001b[49m\u001b[43m,\u001b[49m\n\u001b[1;32m    175\u001b[0m \u001b[43m    \u001b[49m\u001b[43mallow_unreachable\u001b[49m\u001b[38;5;241;43m=\u001b[39;49m\u001b[38;5;28;43;01mTrue\u001b[39;49;00m\u001b[43m,\u001b[49m\u001b[43m \u001b[49m\u001b[43maccumulate_grad\u001b[49m\u001b[38;5;241;43m=\u001b[39;49m\u001b[38;5;28;43;01mTrue\u001b[39;49;00m\u001b[43m)\u001b[49m\n",
      "\u001b[0;31mKeyboardInterrupt\u001b[0m: "
     ]
    }
   ],
   "source": [
    "from transformers import TrainingArguments\n",
    "from transformers import Trainer\n",
    "\n",
    "\n",
    "training_args = TrainingArguments(\n",
    "    output_dir=\"./results\",\n",
    "    learning_rate=2e-5,\n",
    "    per_device_train_batch_size=16,\n",
    "    per_device_eval_batch_size=16,\n",
    "    num_train_epochs=5,\n",
    "    weight_decay=0.01,\n",
    "    evaluation_strategy=\"epoch\"\n",
    ")\n",
    "\n",
    "trainer = Trainer(\n",
    "    model=model,\n",
    "    args=training_args,\n",
    "    train_dataset=train_dataset,\n",
    "    eval_dataset=test_dataset,\n",
    "    tokenizer=tokenizer,\n",
    "    data_collator=data_collator,\n",
    "    compute_metrics=compute_metrics,\n",
    ")\n",
    "\n",
    "trainer.train()"
   ]
  },
  {
   "cell_type": "code",
   "execution_count": 41,
   "metadata": {
    "cellId": "h3yfl5bl4z58ifd1rybi2p",
    "execution_id": "0487d6f5-2ecd-440f-ab4d-b06742a53363"
   },
   "outputs": [],
   "source": [
    "del training_args\n",
    "del trainer\n",
    "del model"
   ]
  },
  {
   "cell_type": "code",
   "execution_count": 42,
   "metadata": {
    "cellId": "ykdtjl4lfmeolntfgmehya"
   },
   "outputs": [],
   "source": [
    "torch.cuda.empty_cache()"
   ]
  },
  {
   "cell_type": "markdown",
   "metadata": {
    "cellId": "4nqavfd9dhmrcrp76unm1k",
    "execution_id": "e0014cb0-2b6a-468f-88f4-0811af342c6c"
   },
   "source": [
    "## Альтернативный вариант"
   ]
  },
  {
   "cell_type": "code",
   "execution_count": 43,
   "metadata": {
    "cellId": "wnujsbeqy8g7ssr5014l"
   },
   "outputs": [
    {
     "name": "stderr",
     "output_type": "stream",
     "text": [
      "loading configuration file https://huggingface.co/distilbert-base-cased/resolve/main/config.json from cache at /home/nuke/.cache/huggingface/transformers/ebe1ea24d11aa664488b8de5b21e33989008ca78f207d4e30ec6350b693f073f.302bfd1b5e031cc1b17796e0b6e5b242ba2045d31d00f97589e12b458ebff27a\n",
      "Model config DistilBertConfig {\n",
      "  \"_name_or_path\": \"distilbert-base-cased\",\n",
      "  \"activation\": \"gelu\",\n",
      "  \"attention_dropout\": 0.1,\n",
      "  \"dim\": 768,\n",
      "  \"dropout\": 0.1,\n",
      "  \"hidden_dim\": 3072,\n",
      "  \"initializer_range\": 0.02,\n",
      "  \"max_position_embeddings\": 512,\n",
      "  \"model_type\": \"distilbert\",\n",
      "  \"n_heads\": 12,\n",
      "  \"n_layers\": 6,\n",
      "  \"output_past\": true,\n",
      "  \"pad_token_id\": 0,\n",
      "  \"qa_dropout\": 0.1,\n",
      "  \"seq_classif_dropout\": 0.2,\n",
      "  \"sinusoidal_pos_embds\": false,\n",
      "  \"tie_weights_\": true,\n",
      "  \"transformers_version\": \"4.21.1\",\n",
      "  \"vocab_size\": 28996\n",
      "}\n",
      "\n",
      "loading file https://huggingface.co/distilbert-base-cased/resolve/main/vocab.txt from cache at /home/nuke/.cache/huggingface/transformers/ba377304984dc63e3ede0e23a938bbbf04d5c3835b66d5bb48343aecca188429.437aa611e89f6fc6675a049d2b5545390adbc617e7d655286421c191d2be2791\n",
      "loading file https://huggingface.co/distilbert-base-cased/resolve/main/tokenizer.json from cache at /home/nuke/.cache/huggingface/transformers/acb5c2138c1f8c84f074b86dafce3631667fccd6efcb1a7ea1320cf75c386a36.3dab63143af66769bbb35e3811f75f7e16b2320e12b7935e216bd6159ce6d9a6\n",
      "loading file https://huggingface.co/distilbert-base-cased/resolve/main/added_tokens.json from cache at None\n",
      "loading file https://huggingface.co/distilbert-base-cased/resolve/main/special_tokens_map.json from cache at None\n",
      "loading file https://huggingface.co/distilbert-base-cased/resolve/main/tokenizer_config.json from cache at /home/nuke/.cache/huggingface/transformers/81e970e5e6ec68be12da0f8f3b2f2469c78d579282299a2ea65b4b7441719107.ec5c189f89475aac7d8cbd243960a0655cfadc3d0474da8ff2ed0bf1699c2a5f\n",
      "loading configuration file https://huggingface.co/distilbert-base-cased/resolve/main/config.json from cache at /home/nuke/.cache/huggingface/transformers/ebe1ea24d11aa664488b8de5b21e33989008ca78f207d4e30ec6350b693f073f.302bfd1b5e031cc1b17796e0b6e5b242ba2045d31d00f97589e12b458ebff27a\n",
      "Model config DistilBertConfig {\n",
      "  \"_name_or_path\": \"distilbert-base-cased\",\n",
      "  \"activation\": \"gelu\",\n",
      "  \"attention_dropout\": 0.1,\n",
      "  \"dim\": 768,\n",
      "  \"dropout\": 0.1,\n",
      "  \"hidden_dim\": 3072,\n",
      "  \"initializer_range\": 0.02,\n",
      "  \"max_position_embeddings\": 512,\n",
      "  \"model_type\": \"distilbert\",\n",
      "  \"n_heads\": 12,\n",
      "  \"n_layers\": 6,\n",
      "  \"output_past\": true,\n",
      "  \"pad_token_id\": 0,\n",
      "  \"qa_dropout\": 0.1,\n",
      "  \"seq_classif_dropout\": 0.2,\n",
      "  \"sinusoidal_pos_embds\": false,\n",
      "  \"tie_weights_\": true,\n",
      "  \"transformers_version\": \"4.21.1\",\n",
      "  \"vocab_size\": 28996\n",
      "}\n",
      "\n",
      "loading configuration file https://huggingface.co/distilbert-base-cased/resolve/main/config.json from cache at /home/nuke/.cache/huggingface/transformers/ebe1ea24d11aa664488b8de5b21e33989008ca78f207d4e30ec6350b693f073f.302bfd1b5e031cc1b17796e0b6e5b242ba2045d31d00f97589e12b458ebff27a\n",
      "Model config DistilBertConfig {\n",
      "  \"activation\": \"gelu\",\n",
      "  \"attention_dropout\": 0.1,\n",
      "  \"dim\": 768,\n",
      "  \"dropout\": 0.1,\n",
      "  \"hidden_dim\": 3072,\n",
      "  \"initializer_range\": 0.02,\n",
      "  \"max_position_embeddings\": 512,\n",
      "  \"model_type\": \"distilbert\",\n",
      "  \"n_heads\": 12,\n",
      "  \"n_layers\": 6,\n",
      "  \"output_past\": true,\n",
      "  \"pad_token_id\": 0,\n",
      "  \"qa_dropout\": 0.1,\n",
      "  \"seq_classif_dropout\": 0.2,\n",
      "  \"sinusoidal_pos_embds\": false,\n",
      "  \"tie_weights_\": true,\n",
      "  \"transformers_version\": \"4.21.1\",\n",
      "  \"vocab_size\": 28996\n",
      "}\n",
      "\n",
      "loading weights file https://huggingface.co/distilbert-base-cased/resolve/main/pytorch_model.bin from cache at /home/nuke/.cache/huggingface/transformers/9c9f39769dba4c5fe379b4bc82973eb01297bd607954621434eb9f1bc85a23a0.06b428c87335c1bb22eae46fdab31c8286efa0aa09e898a7ac42ddf5c3f5dc19\n",
      "Some weights of the model checkpoint at distilbert-base-cased were not used when initializing DistilBertModel: ['vocab_layer_norm.bias', 'vocab_projector.bias', 'vocab_projector.weight', 'vocab_transform.bias', 'vocab_transform.weight', 'vocab_layer_norm.weight']\n",
      "- This IS expected if you are initializing DistilBertModel from the checkpoint of a model trained on another task or with another architecture (e.g. initializing a BertForSequenceClassification model from a BertForPreTraining model).\n",
      "- This IS NOT expected if you are initializing DistilBertModel from the checkpoint of a model that you expect to be exactly identical (initializing a BertForSequenceClassification model from a BertForSequenceClassification model).\n",
      "All the weights of DistilBertModel were initialized from the model checkpoint at distilbert-base-cased.\n",
      "If your task is similar to the task the model of the checkpoint was trained on, you can already use DistilBertModel for predictions without further training.\n"
     ]
    }
   ],
   "source": [
    "tokenizer, model = get_model('distilbert')"
   ]
  },
  {
   "cell_type": "code",
   "execution_count": 44,
   "metadata": {
    "cellId": "wfdbm64x0422zplv22tgeh"
   },
   "outputs": [
    {
     "name": "stdout",
     "output_type": "stream",
     "text": [
      "cuda:0\n",
      "NVIDIA GeForce RTX 3090 Ti\n"
     ]
    }
   ],
   "source": [
    "device = torch.device('cuda:0' if torch.cuda.is_available() else 'cpu')\n",
    "\n",
    "print(device)\n",
    "print(torch.cuda.get_device_name())"
   ]
  },
  {
   "cell_type": "code",
   "execution_count": 45,
   "metadata": {
    "cellId": "rfsesl3a9884b4znoz1wb1"
   },
   "outputs": [],
   "source": [
    "model = model.to(device)"
   ]
  },
  {
   "cell_type": "code",
   "execution_count": 46,
   "metadata": {
    "cellId": "kjp22pduy3ipw4w8lkbhl"
   },
   "outputs": [
    {
     "data": {
      "application/vnd.jupyter.widget-view+json": {
       "model_id": "4df82b73a9b943058a4f84800bc18113",
       "version_major": 2,
       "version_minor": 0
      },
      "text/plain": [
       "  0%|          | 0/25 [00:00<?, ?ba/s]"
      ]
     },
     "metadata": {},
     "output_type": "display_data"
    },
    {
     "data": {
      "application/vnd.jupyter.widget-view+json": {
       "model_id": "07ec4676629546cc9d1b6504e95c8116",
       "version_major": 2,
       "version_minor": 0
      },
      "text/plain": [
       "  0%|          | 0/25 [00:00<?, ?ba/s]"
      ]
     },
     "metadata": {},
     "output_type": "display_data"
    }
   ],
   "source": [
    "def tokenization(example):\n",
    "    return tokenizer.batch_encode_plus(example['text'], add_special_tokens=True, return_token_type_ids=False, truncation=True)\n",
    "\n",
    "\n",
    "train_dataset = dataset['train'].map(tokenization, batched=True)\n",
    "test_dataset = dataset['test'].map(tokenization, batched=True)\n",
    "\n",
    "train_dataset.set_format(type=\"torch\", columns=[\"input_ids\", \"attention_mask\", \"label\"])\n",
    "test_dataset.set_format(type=\"torch\", columns=[\"input_ids\", \"attention_mask\", \"label\"])\n",
    "\n",
    "train_loader = DataLoader(train_dataset, batch_size=64, collate_fn=data_collator, pin_memory=True, shuffle=False)\n",
    "test_loader = DataLoader(test_dataset, batch_size=64, collate_fn=data_collator, pin_memory=True, shuffle=False)"
   ]
  },
  {
   "cell_type": "code",
   "execution_count": 47,
   "metadata": {
    "cellId": "mwg7jc04m1jjh0defuivcs"
   },
   "outputs": [],
   "source": [
    "from tqdm import tqdm\n",
    "\n",
    "\n",
    "@torch.inference_mode()\n",
    "def get_embeddings_labels(model, loader):\n",
    "    model.eval()\n",
    "    \n",
    "    total_embeddings = []\n",
    "    labels = []\n",
    "    \n",
    "    for batch in tqdm(loader):\n",
    "        labels.append(batch['labels'].unsqueeze(1))\n",
    "\n",
    "        batch = {key: batch[key].to(device) for key in ['attention_mask', 'input_ids']}\n",
    "\n",
    "        embeddings = model(**batch)['last_hidden_state'][:, 0, :]\n",
    "\n",
    "        total_embeddings.append(embeddings.cpu())\n",
    "\n",
    "    return torch.cat(total_embeddings, dim=0), torch.cat(labels, dim=0).to(torch.float32)"
   ]
  },
  {
   "cell_type": "code",
   "execution_count": 48,
   "metadata": {
    "cellId": "8s6dbxfzj3ak67x0l31thh"
   },
   "outputs": [
    {
     "name": "stderr",
     "output_type": "stream",
     "text": [
      "100%|███████████████████████████████████████████████████| 391/391 [01:30<00:00,  4.34it/s]\n"
     ]
    }
   ],
   "source": [
    "train_embeddings, train_labels = get_embeddings_labels(model, train_loader)"
   ]
  },
  {
   "cell_type": "code",
   "execution_count": 49,
   "metadata": {
    "cellId": "bvk5z0i3d5rwa4s2xlol2"
   },
   "outputs": [
    {
     "name": "stderr",
     "output_type": "stream",
     "text": [
      "100%|███████████████████████████████████████████████████| 391/391 [01:28<00:00,  4.44it/s]\n"
     ]
    }
   ],
   "source": [
    "test_embeddings, test_labels = get_embeddings_labels(model, test_loader)"
   ]
  },
  {
   "cell_type": "code",
   "execution_count": 50,
   "metadata": {
    "cellId": "z09rhihuhtj1xdizf7x98"
   },
   "outputs": [
    {
     "data": {
      "text/plain": [
       "(torch.Size([25000, 768]), torch.Size([25000, 1]))"
      ]
     },
     "execution_count": 50,
     "metadata": {},
     "output_type": "execute_result"
    }
   ],
   "source": [
    "train_embeddings.shape, train_labels.shape"
   ]
  },
  {
   "cell_type": "code",
   "execution_count": 51,
   "metadata": {
    "cellId": "2xd1b307t8tcxc4vxyzki9"
   },
   "outputs": [
    {
     "data": {
      "text/plain": [
       "(torch.Size([25000, 768]), torch.Size([25000, 1]))"
      ]
     },
     "execution_count": 51,
     "metadata": {},
     "output_type": "execute_result"
    }
   ],
   "source": [
    "test_embeddings.shape, test_labels.shape"
   ]
  },
  {
   "cell_type": "code",
   "execution_count": 52,
   "metadata": {
    "cellId": "f3v6zbbnvxp6riag82oh79"
   },
   "outputs": [],
   "source": [
    "from torch.utils.data import TensorDataset\n",
    "from torch.utils.data import random_split\n",
    "\n",
    "\n",
    "dataset = TensorDataset(torch.cat([train_embeddings, test_embeddings], dim=0), torch.cat([train_labels, test_labels], dim=0))\n",
    "\n",
    "train_dataset, test_dataset = random_split(dataset, (int(len(dataset) * 0.9), len(dataset) - int(len(dataset) * 0.9)))\n",
    "\n",
    "train_loader = DataLoader(train_dataset, batch_size=128, pin_memory=True, shuffle=True)\n",
    "valid_loader = DataLoader(test_dataset, batch_size=128, pin_memory=True, shuffle=False)"
   ]
  },
  {
   "cell_type": "code",
   "execution_count": 53,
   "metadata": {
    "cellId": "wevwr8n896bz83svpq2fj"
   },
   "outputs": [],
   "source": [
    "little_model = nn.Sequential(\n",
    "    nn.Linear(768, 768),\n",
    "    nn.ReLU(),\n",
    "    nn.Dropout(0.2),\n",
    "    nn.Linear(768, 1)\n",
    ")"
   ]
  },
  {
   "cell_type": "code",
   "execution_count": 59,
   "metadata": {
    "cellId": "dxsv58ll45ruif1coeg7l"
   },
   "outputs": [],
   "source": [
    "def binary_accuracy(preds, y):\n",
    "    rounded_preds = torch.round(torch.sigmoid(preds))\n",
    "    correct = (rounded_preds == y).float()\n",
    "    acc = correct.sum() / len(correct)\n",
    "    return acc\n",
    "\n",
    "\n",
    "def train(model):\n",
    "    model.train()\n",
    "\n",
    "    train_loss = 0\n",
    "    train_accuracy = 0\n",
    "\n",
    "    for x, y in tqdm(train_loader, desc='Train'):\n",
    "        x, y = x.to(device), y.to(device)\n",
    "\n",
    "        optimizer.zero_grad()\n",
    "\n",
    "        output = model(x)\n",
    "\n",
    "        loss = loss_fn(output, y)\n",
    "\n",
    "        train_loss += loss.item()\n",
    "        train_accuracy += binary_accuracy(output, y).cpu()\n",
    "\n",
    "        loss.backward()\n",
    "\n",
    "        optimizer.step()\n",
    "\n",
    "    train_loss /= len(train_loader)\n",
    "    train_accuracy /= len(train_loader)\n",
    "\n",
    "    return train_loss, train_accuracy"
   ]
  },
  {
   "cell_type": "code",
   "execution_count": 60,
   "metadata": {
    "cellId": "hofez5fpllcmnz4uu3f1"
   },
   "outputs": [],
   "source": [
    "@torch.inference_mode()\n",
    "def evaluate(model, loader):\n",
    "    model.eval()\n",
    "\n",
    "    total_loss = 0\n",
    "    total_accuracy = 0\n",
    "\n",
    "    for x, y in tqdm(loader, desc='Evaluation'):\n",
    "        x, y = x.to(device), y.to(device)\n",
    "\n",
    "        output = model(x)\n",
    "\n",
    "        loss = loss_fn(output, y)\n",
    "\n",
    "        total_loss += loss.item()\n",
    "        total_accuracy += binary_accuracy(output, y).cpu()\n",
    "\n",
    "    total_loss /= len(loader)\n",
    "    total_accuracy /= len(loader)\n",
    "\n",
    "    return total_loss, total_accuracy"
   ]
  },
  {
   "cell_type": "code",
   "execution_count": 61,
   "metadata": {
    "cellId": "gkh39ykicm4gskt5n3iacj"
   },
   "outputs": [],
   "source": [
    "import matplotlib.pyplot as plt\n",
    "from IPython.display import clear_output\n",
    "\n",
    "\n",
    "def plot_stats(\n",
    "    train_loss: list[float],\n",
    "    valid_loss: list[float],\n",
    "    train_accuracy: list[float],\n",
    "    valid_accuracy: list[float],\n",
    "    title: str\n",
    "):\n",
    "    plt.figure(figsize=(16, 8))\n",
    "\n",
    "    plt.title(title + ' loss')\n",
    "\n",
    "    plt.plot(train_loss, label='Train loss')\n",
    "    plt.plot(valid_loss, label='Valid loss')\n",
    "    plt.legend()\n",
    "    plt.grid()\n",
    "\n",
    "    plt.show()\n",
    "\n",
    "    plt.figure(figsize=(16, 8))\n",
    "\n",
    "    plt.title(title + ' accuracy')\n",
    "    \n",
    "    plt.plot(train_accuracy, label='Train accuracy')\n",
    "    plt.plot(valid_accuracy, label='Valid accuracy')\n",
    "    plt.legend()\n",
    "    plt.grid()\n",
    "\n",
    "    plt.show()"
   ]
  },
  {
   "cell_type": "code",
   "execution_count": 62,
   "metadata": {
    "cellId": "g9fl6aawaffkqfs07gos2r"
   },
   "outputs": [],
   "source": [
    "def whole_train_valid_cycle(model, num_epochs, title):\n",
    "    train_loss_history, valid_loss_history = [], []\n",
    "    train_accuracy_history, valid_accuracy_history = [], []\n",
    "\n",
    "    for epoch in range(num_epochs):\n",
    "        train_loss, train_accuracy = train(model)\n",
    "        valid_loss, valid_accuracy = evaluate(model, valid_loader)\n",
    "\n",
    "        train_loss_history.append(train_loss)\n",
    "        valid_loss_history.append(valid_loss)\n",
    "\n",
    "        train_accuracy_history.append(train_accuracy)\n",
    "        valid_accuracy_history.append(valid_accuracy)\n",
    "\n",
    "        clear_output()\n",
    "\n",
    "        plot_stats(\n",
    "            train_loss_history, valid_loss_history,\n",
    "            train_accuracy_history, valid_accuracy_history,\n",
    "            title\n",
    "        )"
   ]
  },
  {
   "cell_type": "code",
   "execution_count": 63,
   "metadata": {
    "cellId": "7o66fqcc8plj80hmuvm5ep",
    "scrolled": false
   },
   "outputs": [
    {
     "data": {
      "image/png": "[encoded data removed]",
      "text/plain": [
       "<Figure size 1152x576 with 1 Axes>"
      ]
     },
     "metadata": {
      "needs_background": "light"
     },
     "output_type": "display_data"
    },
    {
     "data": {
      "image/png": "[encoded data removed]",
      "text/plain": [
       "<Figure size 1152x576 with 1 Axes>"
      ]
     },
     "metadata": {
      "needs_background": "light"
     },
     "output_type": "display_data"
    }
   ],
   "source": [
    "from torch.optim import Adam\n",
    "\n",
    "\n",
    "little_model = little_model.to(device)\n",
    "\n",
    "optimizer = Adam(little_model.parameters(), lr=1e-4)\n",
    "loss_fn = nn.BCEWithLogitsLoss()\n",
    "\n",
    "whole_train_valid_cycle(little_model, 20, 'MLP on BERT IMDB')"
   ]
  }
 ],
 "metadata": {
  "kernelspec": {
   "display_name": "startml",
   "language": "python",
   "name": "startml"
  },
  "language_info": {
   "codemirror_mode": {
    "name": "ipython",
    "version": 3
   },
   "file_extension": ".py",
   "mimetype": "text/x-python",
   "name": "python",
   "nbconvert_exporter": "python",
   "pygments_lexer": "ipython3",
   "version": "3.10.4"
  },
  "notebookId": "c44e6467-27e8-4a10-8e04-098c2a59e4c5",
  "notebookPath": "8/Lecture_10_Intro_to_DL_Bert.ipynb"
 },
 "nbformat": 4,
 "nbformat_minor": 4
}
