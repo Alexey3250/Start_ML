{
 "cells": [
  {
   "cell_type": "markdown",
   "metadata": {
    "pycharm": {
     "name": "#%% md\n"
    }
   },
   "source": [
    "# Трансформер 2 - Улица Сезам.\n",
    "\n",
    "> Обсудим популярные архитектуры нейронных сетей, основанные на архитектуре Трансформер."
   ]
  },
  {
   "cell_type": "code",
   "execution_count": 23,
   "metadata": {
    "pycharm": {
     "name": "#%%\n"
    }
   },
   "outputs": [],
   "source": [
    "import numpy as np\n",
    "\n",
    "import torch\n",
    "import torch.nn as nn\n",
    "\n",
    "import matplotlib.pyplot as plt\n",
    "from IPython.display import clear_output"
   ]
  },
  {
   "cell_type": "markdown",
   "metadata": {
    "pycharm": {
     "name": "#%% md\n"
    }
   },
   "source": [
    "## Данные"
   ]
  },
  {
   "cell_type": "code",
   "execution_count": 24,
   "metadata": {
    "pycharm": {
     "name": "#%%\n"
    }
   },
   "outputs": [],
   "source": [
    "aneks = []\n",
    "\n",
    "with open('anek.txt', 'r') as f:\n",
    "    aneks.extend(f.read().split('\\n'))"
   ]
  },
  {
   "cell_type": "code",
   "execution_count": 25,
   "metadata": {
    "pycharm": {
     "name": "#%%\n"
    }
   },
   "outputs": [
    {
     "data": {
      "text/plain": [
       "125103"
      ]
     },
     "execution_count": 25,
     "metadata": {},
     "output_type": "execute_result"
    }
   ],
   "source": [
    "len(aneks)"
   ]
  },
  {
   "cell_type": "code",
   "execution_count": 26,
   "metadata": {
    "pycharm": {
     "name": "#%%\n"
    }
   },
   "outputs": [],
   "source": [
    "class Vocabulary:\n",
    "    def __init__(self):\n",
    "        self.vocabulary = ['_', '#', '<']  # sos, eos, pad\n",
    "        self.vocabulary.extend('абвгдеёжзийклмнопрстуфхцчшщъыьэюя')\n",
    "        self.vocabulary.extend('абвгдеёжзийклмнопрстуфхцчшщъыьэюя'.upper())\n",
    "        self.vocabulary.extend('0123456789 ,.!?-')\n",
    "\n",
    "        self._idx2char = {i: char for i, char in enumerate(self.vocabulary)}\n",
    "        self._char2idx = {char: i for i, char in enumerate(self.vocabulary)}\n",
    "\n",
    "    def get_vocabulary(self):\n",
    "        return self.vocabulary\n",
    "\n",
    "    def idx2char(self, idx: int):\n",
    "        if idx not in self._idx2char:\n",
    "            return '<'\n",
    "\n",
    "        return self._idx2char[idx]\n",
    "\n",
    "    def char2idx(self, char: str):\n",
    "        if char not in self._char2idx:\n",
    "            return self.get_pad()\n",
    "\n",
    "        return self._char2idx[char]\n",
    "\n",
    "    def encode(self, text):\n",
    "        result = [self.char2idx(char) for char in text]\n",
    "\n",
    "        result = [self.get_sos()] + result + [self.get_eos()]\n",
    "\n",
    "        return result\n",
    "\n",
    "    def get_sos(self):\n",
    "        return self.char2idx('_')\n",
    "\n",
    "    def get_eos(self):\n",
    "        return self.char2idx('#')\n",
    "\n",
    "    def get_pad(self):\n",
    "        return self.char2idx('<')"
   ]
  },
  {
   "cell_type": "code",
   "execution_count": 27,
   "metadata": {
    "pycharm": {
     "name": "#%%\n"
    }
   },
   "outputs": [],
   "source": [
    "from torch.utils.data import Dataset\n",
    "\n",
    "\n",
    "class Anekdotes(Dataset):\n",
    "    def __init__(self, aneks):\n",
    "        self.aneks = aneks\n",
    "\n",
    "        self.vocab = Vocabulary()\n",
    "\n",
    "    def __getitem__(self, idx):\n",
    "        return torch.LongTensor(self.vocab.encode(self.aneks[idx]))\n",
    "\n",
    "    def __len__(self):\n",
    "        return len(self.aneks)"
   ]
  },
  {
   "cell_type": "code",
   "execution_count": 28,
   "metadata": {
    "pycharm": {
     "name": "#%%\n"
    }
   },
   "outputs": [],
   "source": [
    "dataset = Anekdotes(aneks)"
   ]
  },
  {
   "cell_type": "code",
   "execution_count": 29,
   "metadata": {
    "pycharm": {
     "name": "#%%\n"
    }
   },
   "outputs": [
    {
     "data": {
      "text/plain": [
       "tensor([ 0, 61, 22, 12, 20, 15, 12, 26, 79, 22, 18, 19, 12, 15, 79,  4, 23, 20,\n",
       "        10, 23, 13, 14, 23, 81, 79, 55, 18, 15, 32, 14, 18, 79, 27,  8, 20,  8,\n",
       "        11, 79,  7,  5,  3, 79, 27,  3, 21,  3, 79,  8, 16, 23, 79, 23,  7,  3,\n",
       "        15, 18, 21, 32, 79,  8,  8, 79, 23, 22, 18, 19, 12, 22, 32, 81,  1])"
      ]
     },
     "execution_count": 29,
     "metadata": {},
     "output_type": "execute_result"
    }
   ],
   "source": [
    "dataset[10]"
   ]
  },
  {
   "cell_type": "code",
   "execution_count": 30,
   "metadata": {
    "pycharm": {
     "name": "#%%\n"
    }
   },
   "outputs": [
    {
     "data": {
      "text/plain": [
       "'Штирлиц топил буржуйку. Только через два часа ему удалось ее утопить.'"
      ]
     },
     "execution_count": 30,
     "metadata": {},
     "output_type": "execute_result"
    }
   ],
   "source": [
    "aneks[10]"
   ]
  },
  {
   "cell_type": "code",
   "execution_count": 31,
   "metadata": {
    "pycharm": {
     "name": "#%%\n"
    }
   },
   "outputs": [],
   "source": [
    "from torch.utils.data import random_split\n",
    "\n",
    "\n",
    "train_dataset, valid_dataset = random_split(dataset, (int(len(dataset) * 0.9), len(dataset) - int(len(dataset) * 0.9)))"
   ]
  },
  {
   "cell_type": "code",
   "execution_count": 32,
   "metadata": {
    "pycharm": {
     "name": "#%%\n"
    }
   },
   "outputs": [],
   "source": [
    "from torch.nn.utils.rnn import pad_sequence\n",
    "\n",
    "\n",
    "pad_idx = dataset.vocab.get_pad()\n",
    "\n",
    "\n",
    "def collate_fn(batch):\n",
    "    return pad_sequence([b[:256] for b in batch], padding_value=pad_idx, batch_first=True)"
   ]
  },
  {
   "cell_type": "code",
   "execution_count": 33,
   "metadata": {
    "pycharm": {
     "name": "#%%\n"
    }
   },
   "outputs": [],
   "source": [
    "from torch.utils.data import DataLoader\n",
    "\n",
    "\n",
    "train_loader = DataLoader(train_dataset, batch_size=256, collate_fn=collate_fn, pin_memory=True)\n",
    "valid_loader = DataLoader(valid_dataset, batch_size=256, collate_fn=collate_fn, pin_memory=True)"
   ]
  },
  {
   "cell_type": "markdown",
   "metadata": {
    "pycharm": {
     "name": "#%% md\n"
    }
   },
   "source": [
    "## Модель"
   ]
  },
  {
   "cell_type": "markdown",
   "metadata": {
    "pycharm": {
     "name": "#%% md\n"
    }
   },
   "source": [
    "[Transformer](https://pytorch.org/docs/stable/generated/torch.nn.Transformer.html)\n",
    "\n",
    "\n",
    "[TransformerEncoder](https://pytorch.org/docs/stable/generated/torch.nn.TransformerEncoder.htm)\n",
    "\n",
    "[TransformerDecoder](https://pytorch.org/docs/stable/generated/torch.nn.TransformerDecoder.htm)\n",
    "\n",
    "\n",
    "[TransformerEncoderLayer](https://pytorch.org/docs/stable/generated/torch.nn.TransformerEncoderLayer.htm)\n",
    "\n",
    "[TransformerDecoderLayer](https://pytorch.org/docs/stable/generated/torch.nn.TransformerDecoderLayer.htm)"
   ]
  },
  {
   "cell_type": "code",
   "execution_count": 34,
   "metadata": {
    "pycharm": {
     "name": "#%%\n"
    }
   },
   "outputs": [],
   "source": [
    "def get_encoding(hidden_size, max_length):\n",
    "    pe = np.array(\n",
    "        [\n",
    "            [\n",
    "                i / np.power(10000, 2 * (j // 2) / hidden_size) for j in range(hidden_size)\n",
    "            ] for i in range(max_length)\n",
    "        ]\n",
    "    )\n",
    "    pe[:, 0::2] = np.sin(pe[:, 0::2])\n",
    "    pe[:, 1::2] = np.cos(pe[:, 1::2])\n",
    "\n",
    "    return torch.FloatTensor(pe).unsqueeze(0)\n",
    "\n",
    "\n",
    "class PositionalEncoding(nn.Module):\n",
    "\n",
    "    def __init__(self, hidden_size, max_length=512):\n",
    "        super().__init__()\n",
    "\n",
    "        self.register_buffer('pe', get_encoding(hidden_size, max_length))\n",
    "        self.pe = self.pe.to(torch.device('cuda:0'))\n",
    "\n",
    "    def forward(self, x):\n",
    "        return x + self.pe[:, :x.size(1)]"
   ]
  },
  {
   "cell_type": "code",
   "execution_count": 35,
   "metadata": {
    "pycharm": {
     "name": "#%%\n"
    }
   },
   "outputs": [],
   "source": [
    "class AnekdoteModel(nn.Module):\n",
    "    def __init__(self, num_tokens: int, hidden_size: int=128):\n",
    "        super().__init__()\n",
    "\n",
    "        self.embedding = nn.Embedding(num_tokens, hidden_size, padding_idx = pad_idx)\n",
    "        self.positional_encoding = PositionalEncoding(hidden_size)\n",
    "\n",
    "        self.transformer = nn.TransformerEncoder(\n",
    "            encoder_layer=nn.TransformerEncoderLayer(\n",
    "                d_model=hidden_size,\n",
    "                nhead=8,\n",
    "                dim_feedforward=hidden_size,\n",
    "                batch_first=True,\n",
    "                dropout=0.1\n",
    "            ),\n",
    "            num_layers=6\n",
    "        )\n",
    "\n",
    "        self.output = nn.Linear(hidden_size, num_tokens)\n",
    "        \n",
    "        self.dropout = nn.Dropout(0.1)\n",
    "\n",
    "        self.scale = hidden_size ** 0.5\n",
    "        self.pad_idx = pad_idx\n",
    "        \n",
    "    def forward(self, x):\n",
    "        mask = nn.Transformer.generate_square_subsequent_mask(x.shape[1]).to(x.device)\n",
    "        key_mask = x == self.pad_idx\n",
    "\n",
    "        x = self.dropout(self.positional_encoding(self.embedding(x) * self.scale))\n",
    "        x = self.transformer(x, mask=mask, src_key_padding_mask=key_mask)\n",
    "        x  = self.output(x)\n",
    "\n",
    "        return x"
   ]
  },
  {
   "cell_type": "code",
   "execution_count": 36,
   "metadata": {
    "pycharm": {
     "name": "#%%\n"
    }
   },
   "outputs": [],
   "source": [
    "model = AnekdoteModel(num_tokens=len(dataset.vocab.get_vocabulary()))"
   ]
  },
  {
   "cell_type": "markdown",
   "metadata": {
    "pycharm": {
     "name": "#%% md\n"
    }
   },
   "source": [
    "## Функции для обучения"
   ]
  },
  {
   "cell_type": "code",
   "execution_count": 37,
   "metadata": {
    "pycharm": {
     "name": "#%%\n"
    }
   },
   "outputs": [],
   "source": [
    "from tqdm import tqdm\n",
    "\n",
    "\n",
    "def train(model):\n",
    "    model.train()\n",
    "\n",
    "    train_loss = 0\n",
    "\n",
    "    for x in tqdm(train_loader, desc='Train'):\n",
    "        x = x.to(device)\n",
    "\n",
    "        optimizer.zero_grad()\n",
    "\n",
    "        output = model(x[:, :-1]).transpose(1, 2)\n",
    "\n",
    "        loss = loss_fn(output, x[:, 1:])\n",
    "\n",
    "        train_loss += loss.item()\n",
    "\n",
    "        loss.backward()\n",
    "\n",
    "        optimizer.step()\n",
    "\n",
    "    train_loss /= len(train_loader)\n",
    "\n",
    "    return train_loss"
   ]
  },
  {
   "cell_type": "code",
   "execution_count": 38,
   "metadata": {
    "pycharm": {
     "name": "#%%\n"
    }
   },
   "outputs": [],
   "source": [
    "@torch.inference_mode()\n",
    "def evaluate(model, loader):\n",
    "    model.eval()\n",
    "\n",
    "    total_loss = 0\n",
    "\n",
    "    for x in tqdm(loader, desc='Evaluation'):\n",
    "        x = x.to(device)\n",
    "\n",
    "        output = model(x[:, :-1]).transpose(1, 2)\n",
    "\n",
    "        loss = loss_fn(output, x[:, 1:])\n",
    "\n",
    "        total_loss += loss.item()\n",
    "\n",
    "    total_loss /= len(loader)\n",
    "\n",
    "    return total_loss"
   ]
  },
  {
   "cell_type": "code",
   "execution_count": 39,
   "metadata": {
    "pycharm": {
     "name": "#%%\n"
    }
   },
   "outputs": [],
   "source": [
    "def plot_stats(\n",
    "    train_loss: list[float],\n",
    "    valid_loss: list[float],\n",
    "    title: str\n",
    "):\n",
    "    plt.figure(figsize=(16, 8))\n",
    "\n",
    "    plt.title(title + ' loss')\n",
    "\n",
    "    plt.plot(train_loss, label='Train loss')\n",
    "    plt.plot(valid_loss, label='Valid loss')\n",
    "    plt.legend()\n",
    "    plt.grid()\n",
    "\n",
    "    plt.show()"
   ]
  },
  {
   "cell_type": "code",
   "execution_count": 40,
   "metadata": {
    "pycharm": {
     "name": "#%%\n"
    }
   },
   "outputs": [],
   "source": [
    "def whole_train_valid_cycle(model, num_epochs, title):\n",
    "    train_loss_history, valid_loss_history = [], []\n",
    "\n",
    "    for epoch in range(num_epochs):\n",
    "        train_loss = train(model)\n",
    "        valid_loss = evaluate(model, valid_loader)\n",
    "\n",
    "        train_loss_history.append(train_loss)\n",
    "        valid_loss_history.append(valid_loss)\n",
    "\n",
    "        clear_output(wait=True)\n",
    "\n",
    "        plot_stats(\n",
    "            train_loss_history, valid_loss_history,\n",
    "            title\n",
    "        )"
   ]
  },
  {
   "cell_type": "markdown",
   "metadata": {
    "pycharm": {
     "name": "#%% md\n"
    }
   },
   "source": [
    "## Обучение"
   ]
  },
  {
   "cell_type": "code",
   "execution_count": 41,
   "metadata": {
    "pycharm": {
     "name": "#%%\n"
    }
   },
   "outputs": [
    {
     "name": "stdout",
     "output_type": "stream",
     "text": [
      "cuda:0\n",
      "NVIDIA GeForce RTX 3090 Ti\n"
     ]
    }
   ],
   "source": [
    "device = torch.device('cuda:0' if torch.cuda.is_available() else 'cpu')\n",
    "\n",
    "print(device)\n",
    "print(torch.cuda.get_device_name())"
   ]
  },
  {
   "cell_type": "code",
   "execution_count": 42,
   "metadata": {
    "pycharm": {
     "name": "#%%\n"
    }
   },
   "outputs": [
    {
     "data": {
      "image/png": "[encoded data removed]",
      "text/plain": [
       "<Figure size 1152x576 with 1 Axes>"
      ]
     },
     "metadata": {
      "needs_background": "light"
     },
     "output_type": "display_data"
    }
   ],
   "source": [
    "from torch.optim import Adam\n",
    "\n",
    "\n",
    "model = model.to(device)\n",
    "\n",
    "optimizer = Adam(model.parameters(), lr=2e-3)\n",
    "loss_fn = nn.CrossEntropyLoss(ignore_index=pad_idx)\n",
    "\n",
    "whole_train_valid_cycle(model, 30, 'Anekdote Transformer')"
   ]
  },
  {
   "cell_type": "markdown",
   "metadata": {
    "pycharm": {
     "name": "#%% md\n"
    }
   },
   "source": [
    "## Генерация текста (анекдотов)"
   ]
  },
  {
   "cell_type": "code",
   "execution_count": 43,
   "metadata": {
    "pycharm": {
     "name": "#%%\n"
    }
   },
   "outputs": [],
   "source": [
    "eos = dataset.vocab.get_eos()\n",
    "\n",
    "\n",
    "def ids2string(ids):\n",
    "    result = []\n",
    "    for _ in ids:\n",
    "        if _ != eos:\n",
    "            result.append(dataset.vocab.idx2char(_))\n",
    "    \n",
    "    return \"\".join(result)\n",
    "\n",
    "\n",
    "def batch2string(ids, prefix):\n",
    "    ans = \"\"\n",
    "\n",
    "    for i, substr in enumerate(ids):\n",
    "        ans += prefix + ids2string(substr.tolist())\n",
    "\n",
    "        if i != len(ids) - 1:\n",
    "            ans += '\\n'\n",
    "\n",
    "    return ans\n",
    "\n",
    "\n",
    "def pick_by_distribution(logits):\n",
    "    probs = torch.exp(logits)\n",
    "\n",
    "    sample = torch.distributions.Categorical(probs).sample()\n",
    "\n",
    "    return sample\n",
    "\n",
    "\n",
    "@torch.inference_mode()\n",
    "def gen_continuation(model, prefix: str = \"\", max_len: int = 100, count=10, temperature: float=0.3):\n",
    "    x = torch.LongTensor([dataset.vocab.encode(prefix)[:-1]] * count).to(device)\n",
    "\n",
    "    model.eval()\n",
    "\n",
    "    for i in range(max_len):\n",
    "        logits = model(x)[:, -1, :]\n",
    "        \n",
    "        if temperature > 0:\n",
    "            outs = pick_by_distribution(logits / temperature).unsqueeze(1)\n",
    "        else:\n",
    "            outs = torch.argmax(logits, dim=1).unsqueeze(1)\n",
    "            \n",
    "        x = torch.cat([x, outs], dim=1)\n",
    "\n",
    "    print(batch2string(x[:, len(prefix) + 1:], prefix + '|'))"
   ]
  },
  {
   "cell_type": "code",
   "execution_count": 44,
   "metadata": {
    "pycharm": {
     "name": "#%%\n"
    }
   },
   "outputs": [
    {
     "name": "stdout",
     "output_type": "stream",
     "text": [
      "Приходит как-то| поставить в принципе на работу и получил с разбилось под через все своих два положения. Но просто п\n",
      "Приходит как-то| в руках и подумал - это когда под старше на старах с подариться с работы с подругой.ого старый при\n",
      "Приходит как-то| женщина, но и на компьютер в компании с деньги в себе в столе под время с собой всем не стали разго\n",
      "Приходит как-то| в подъезде на своей после программиста в постели в стране под настоящей от возможностью.обыльно он\n",
      "Приходит как-то| в каждом постели в столе не на все время и в разве стараются против в постели в себя в своей конце \n",
      "Приходит как-то| под принципсом и под концерты с принцессом в собирался на столе положить на конце в своей трудной с\n",
      "Приходит как-то| сегодня на приготовку в полном получился в своей семье с детей получилось, что в ней на компании.о\n",
      "Приходит как-то| ты после просто в своей жизни в карантине под проблемы с девушкой на колению на природе старые в от\n",
      "Приходит как-то| с тобой в вас на половину в постели в старую подумал Штирлицу в полных следующей в себе на привел в\n",
      "Приходит как-то| в своем своей старые страны просто в собой на стране в поднимает под старости на советующем водку в\n"
     ]
    }
   ],
   "source": [
    "gen_continuation(model, prefix='Приходит как-то', temperature=0.3)"
   ]
  },
  {
   "cell_type": "code",
   "execution_count": 45,
   "metadata": {
    "pycharm": {
     "name": "#%%\n"
    }
   },
   "outputs": [
    {
     "name": "stdout",
     "output_type": "stream",
     "text": [
      "Штирлиц встретил| с девушкой с девушкой в компании в собаке на компании с нового места.есть с водкой под своей сердц\n",
      "Штирлиц встретил| в магазине и постоянно просто с добровой старых после получилось на собеседе.они положил в него на\n",
      "Штирлиц встретил| с придумал в голову в получил проводить на коту и долго на перед компании.один под нем на водку и \n",
      "Штирлиц встретил| с дома с девушкой в старых сосед на постели с коронавирусами в доме спрашивает с костеками.оставля\n",
      "Штирлиц встретил| на компьютер по своему получился с девушкой.ольным от гости страны привели по столе старость в стр\n",
      "Штирлиц встретил| на дороге поставить по старую принцессу.акон дома в стороне на короне на своей стране совестью.об\n",
      "Штирлиц встретил| в картошку и придумал на столе своего вещи коллега по домой коленкой получил в сторону в том, что н\n",
      "Штирлиц встретил| в становится в стране и записал старший просто в придется в разводе под одной раз в полной просто с\n",
      "Штирлиц встретил| на своем дома по магазине с кольцом развернулся от новогодника в полностью на столе приставляют в п\n",
      "Штирлиц встретил| с корроткой по наркомане в стале в половину с под полном не подходит к маленькому половину.один пр\n"
     ]
    }
   ],
   "source": [
    "gen_continuation(model, prefix='Штирлиц встретил', temperature=0.3)"
   ]
  },
  {
   "cell_type": "code",
   "execution_count": 46,
   "metadata": {
    "pycharm": {
     "name": "#%%\n"
    }
   },
   "outputs": [
    {
     "name": "stdout",
     "output_type": "stream",
     "text": [
      "Купил мужик шляпу| с придумал долго по разговора при комнате и со стороным в стране просто в красной половину в США и \n",
      "Купил мужик шляпу| в моей больше с получилосьми на водку в своей компании на автобусе с подариться.один в старости на\n",
      "Купил мужик шляпу| на получил своей по своей девушке, а то подруга покупает старую на доме на все под получается с вам\n",
      "Купил мужик шляпу| в постель в сексуальных получается меня попросил в стороне на работу по нему собаку с малой половин\n",
      "Купил мужик шляпу| на подругу компьютер. Потому что еще не подумал Штирлиц, что в него собаке не подолжение.общительн\n",
      "Купил мужик шляпу| на под любовью с поворота на становку в день в детстве в полной конце сказал от вас с другой водки.\n",
      "Купил мужик шляпу| на одной столе в детстве в разбивательном пользу.ет на представляется под нам столе собака.от и п\n",
      "Купил мужик шляпу| с любовником в детстве с постоянной стороны. Он все продавал советский сторон в другой все представ\n",
      "Купил мужик шляпу| приходит в какой-то под компьютер притеров в открывах стороны принципально под подароком и в стране\n",
      "Купил мужик шляпу| по прократи в половину на работу с приходит с нас под компьютером и серьезные старые водки после ст\n"
     ]
    }
   ],
   "source": [
    "gen_continuation(model, prefix='Купил мужик шляпу', temperature=0.3)"
   ]
  },
  {
   "cell_type": "code",
   "execution_count": 47,
   "metadata": {
    "pycharm": {
     "name": "#%%\n"
    }
   },
   "outputs": [
    {
     "name": "stdout",
     "output_type": "stream",
     "text": [
      "Собака| в собаке в стороне под пора выдали и под становить и на половине принципе в полной крови разбились \n",
      "Собака| под компьютерной месте по корону с помощью с положением страны на постоянной стороне не на положени\n",
      "Собака| старает с девушкой за столе совершенно не смогут на приходить в таких домах положениях и под них пр\n",
      "Собака| в корове принципе на продавце в компании и в полиции и по столе водки.от после прикрыла в полности\n",
      "Собака| странно стала в пора в больше выставляют в постели своей дорогой, но не подорожал и на работе от др\n",
      "Собака| после своего мужа в полности с последним в руках на работу.одительно под нашей собой на него прист\n",
      "Собака| в своем столе подъезда приготовит старый полиции и признали в новогодняя с ней после совести в прос\n",
      "Собака| все в поле видели по компьютеру с компьютерами.ем старые волосы на следующих на моей просто станов\n",
      "Собака| с половинком стало под получил приступить на домой постель в старую принцу с вами на новый стране с\n",
      "Собака| в сердце под другом приставляет в городе в ней положили собаку слово в разводу на обращение в стало\n"
     ]
    }
   ],
   "source": [
    "gen_continuation(model, prefix='Собака', temperature=0.3)"
   ]
  },
  {
   "cell_type": "code",
   "execution_count": 48,
   "metadata": {
    "pycharm": {
     "name": "#%%\n"
    }
   },
   "outputs": [
    {
     "name": "stdout",
     "output_type": "stream",
     "text": [
      "Плывет крокодил|и дома в году на колению с коронавирусом в новости на все принципонаты в одном признакоми по всему в\n",
      "Плывет крокодил|а по полу как как на получила от тебя раз в автобусе в от своей деньги.олько вы не прилично в стара\n",
      "Плывет крокодил|ьник в постели на доме подруги под получил собаку в столе в море и принял в том, что он подошло и на\n",
      "Плывет крокодил|ьника с придумали с колекции на стране на него стали при привет в конце на завтра в своем коротке по\n",
      "Плывет крокодил|ьник в трудной себе в постели в три будет стать с девушкой в полной компании девушки в том, что я ст\n",
      "Плывет крокодил|ьник в компьютер в картин с тобой в сексуалете в старости с какой просто в просто в городе - это ког\n",
      "Плывет крокодил|ьник в корове и в открываются на день по телефону на половину.одное под продавать в столе постоянно\n",
      "Плывет крокодил|ьный месте по своему вам на старость под голову и подумал Штирлиц.один и под подолжением стало толь\n",
      "Плывет крокодил|ьник по просто на стране с колетом подолжением с добровой деньги принципали в постель на просто в ко\n",
      "Плывет крокодил|ьник с простой блондинкой в себе под стороны в одной половину в магазине понял, что не под получилос\n"
     ]
    }
   ],
   "source": [
    "gen_continuation(model, prefix='Плывет крокодил', temperature=0.3)"
   ]
  },
  {
   "cell_type": "code",
   "execution_count": 49,
   "metadata": {
    "pycharm": {
     "name": "#%%\n"
    },
    "scrolled": false
   },
   "outputs": [
    {
     "name": "stdout",
     "output_type": "stream",
     "text": [
      "Штирлиц топил буржуйку. Только через два часа ему удалось ее утопить.\n",
      "\n",
      "Штирлиц топил буржуйку. Только через| подумал Штирлиц в свою получился с разбили в подъезде.опроссил Штирлиц в просто на стол принцессе \n",
      "Штирлиц топил буржуйку. Только через| в спрашивает с красивой секса.ольно просто разведение и подарил машину и при том подходит к полу к\n",
      "Штирлиц топил буржуйку. Только через| с долго страна после сидит пришла в своем на доме не вернуть в пристроительном старых старых и посл\n",
      "Штирлиц топил буржуйку. Только через| на работу принципей и сказал Штирлиц и в коровал в деле и стал в нашей половины по магазине по стоя\n",
      "Штирлиц топил буржуйку. Только через| под получил по работу на приходит в голову на него столе под нем подолжил по случам в голову по сво\n",
      "Штирлиц топил буржуйку. Только через| стал советской своей долго на старую получился в полном постоянном под получилось своей белой порош\n",
      "Штирлиц топил буржуйку. Только через| столько на своей коровке с тобой на работе.один и под приставляется в конце и не видит со страны п\n",
      "Штирлиц топил буржуйку. Только через| на своей домой. Он под концертов на поступе в картошке и под недом понял, что в конце на просто спр\n",
      "Штирлиц топил буржуйку. Только через| не выпустил на поле воскрессованного получается с вами домой.один просто в стал в компании.родите\n",
      "Штирлиц топил буржуйку. Только через| под просто на свадьбе в постели в стране под нашей дом и спрашивает- Да не под на столе все от вас \n",
      "\n",
      "----------------------------------------------------------------------------------------------------\n",
      "\n",
      "Тупой  подумал Штирлиц, рассматривая угол. Сам ты тупой!  не на шутку обиделся угол.\n",
      "\n",
      "Тупой подумал Штирлиц, рассматривая угол.|ел девушка, привет в своей подъездом по нему подругу и при положении по своим подъездам.то просто \n",
      "Тупой подумал Штирлиц, рассматривая угол.| В девушке в просто на столе в столе и постоянных забыл в сторону подорожение с ней отдалось в том, \n",
      "Тупой подумал Штирлиц, рассматривая угол.| Он под подумал Штирлиц, после пока после себя и подарил в комнате и стали и на придумал Штирлиц в Р\n",
      "Тупой подумал Штирлиц, рассматривая угол.| Подходит к подъезду по своей мальчике, который слова и на пересторане от подарил в потерял на полов\n",
      "Тупой подумал Штирлиц, рассматривая угол.| После всего на все время в больше пойдем и в колению с подорожением под домашним и постоянно на сто\n",
      "Тупой подумал Штирлиц, рассматривая угол.| После получилась в представлять с под колени на все на своем стране на работу на поставку с предста\n",
      "Тупой подумал Штирлиц, рассматривая угол.| Построил на своей принципей и подставил себя в другом и подходит к половину по стране по полу тольк\n",
      "Тупой подумал Штирлиц, рассматривая угол.| Только в том, что под ним подарил в зарплату и под вами не подолжите подолжить, то столько он в пос\n",
      "Тупой подумал Штирлиц, рассматривая угол.| Под старость на все время по поступении в парне придумали в полностью с компаниями.то - сколько по\n",
      "Тупой подумал Штирлиц, рассматривая угол.| Подолжение под море и подолжен выстрелить с ней водки и с страной своих от врача после мальчика и п\n",
      "\n",
      "----------------------------------------------------------------------------------------------------\n",
      "\n",
      "Сегодня сделала доброе дело! Гуляла утром со своим питбулем. Смотрю, мужчина к остановке бежит. Ну, я собаку с поводка спустила. Успел таки мужчина на автобус...\n",
      "\n",
      "Сегодня сделала доброе дело! Гуляла| с старой в старости. Подруга на половину по разбилась по полу и выставила на половину.одно подъезд\n",
      "Сегодня сделала доброе дело! Гуляла| в полном воду и на водку в старых получилось.один после деньги и после последних себя в стало водк\n",
      "Сегодня сделала доброе дело! Гуляла| в постели с новой наркомании с столом подолжением поставить в своем подъезде!есть подумал Штирлиц \n",
      "Сегодня сделала доброе дело! Гуляла| по водку и все и придумал в день под получить столько просто в ней совершенно на новой собаке.ило \n",
      "Сегодня сделала доброе дело! Гуляла| в полицию на полу собаку и продавал со себя в полоторов.один и стараются на колению страны на рабо\n",
      "Сегодня сделала доброе дело! Гуляла| в свою парню стала в свете по открывается с такой водкой.есть вы подходите к поступу под постоянно\n",
      "Сегодня сделала доброе дело! Гуляла| с водкой под собой в детстве в своем мало в подъезде на от разных полов в полной своей деньги.его \n",
      "Сегодня сделала доброе дело! Гуляла| в стране в отдалении представляет в собаке и под нас после кота под него должны на половине под нас\n",
      "Сегодня сделала доброе дело! Гуляла| в моей концерты с деньги в стале спрашивает- Почему вы не под подарили старость на половину по долг\n",
      "Сегодня сделала доброе дело! Гуляла| с ней всегда с перед подарилась в компании и под страшной пользуется.один под коленной получилось \n",
      "\n",
      "----------------------------------------------------------------------------------------------------\n",
      "\n",
      "Алкоголь в малых дозах безвреден даже в больших количествах.\n",
      "\n",
      "Алкоголь в малых дозах безвреден|ных и молодой при своей деньги во время с компьютером и не подругает старую по своему столько в поло\n",
      "Алкоголь в малых дозах безвреден|ия по компанию в стране на своей деньги на своей деньги.остоящей старые своего возможность на треть\n",
      "Алкоголь в малых дозах безвреден|ия принципи с какие половины после подруги по налоговарию в полной коровке.один под получил в комна\n",
      "Алкоголь в малых дозах безвреден|ие и поступает и на полной продаже не спрашивает с прикрасной приболетом подруги под водкой и на вод\n",
      "Алкоголь в малых дозах безвреден|ных две приходит с полициюм старым на положении стали под компьютерами.то старый автобус поздно в к\n",
      "Алкоголь в малых дозах безвреден|ных компьютеров в стране с разобратной деньги и говорит своей положить на стране собака.обыла на ко\n",
      "Алкоголь в малых дозах безвреден|ных соседах в столе в комнате с получилосьми на водку в собаке не подумал Штирлиц в созданию с своим\n",
      "Алкоголь в малых дозах безвреден|ия от собака - приготовить страны на вашей столе столько с под половиной под собаке... он все прода\n",
      "Алкоголь в малых дозах безвреден|ных собаках самое стало больше все с под нас на после полновинка на ней подолжить с него собака.то \n",
      "Алкоголь в малых дозах безвреден|ие с подарили собаку по свою настоящую свою концу с ней собой и не собирается.о страшно с ней столь\n",
      "\n",
      "----------------------------------------------------------------------------------------------------\n",
      "\n",
      "Встречаются два старых еврея- Ой, вей!- И ты мне будешь рассказывать!\n",
      "\n",
      "Встречаются два старых еврея- Ой,| как даже на своем колекте в том, что в просто на водке в подумал - что такой становится?- Нет, я ст\n",
      "Встречаются два старых еврея- Ой,| доктор, ты не подождал будешь под после соседи в стороне на моей себя в городу на ней надо подорожа\n",
      "Встречаются два старых еврея- Ой,| почему вы не стали на компании в коровах не просто на своем получились старая как на другой половин\n",
      "Встречаются два старых еврея- Ой,| давно в семье за собой собака в сериале и за после получился в половину.одно подозревать на после \n",
      "Встречаются два старых еврея- Ой,| что ты подождал в собенной колении на столе не просто на работу все время подобралась.он столько о\n",
      "Встречаются два старых еврея- Ой,| как подруга под тебе стали собака на своей банке на компьютере.- А я не постоянно подругаю на водку\n",
      "Встречаются два старых еврея- Ой,| ты ведь подарил с девушкой на больше столько под нем своей деньги с собакой постоянной старостью с \n",
      "Встречаются два старых еврея- Ой,| на случай новый поставить в себе продавца в своей жизни по рассказали в себе возвращаться на подъез\n",
      "Встречаются два старых еврея- Ой,| на после меня на себя своего слова в полосах на пользу. Стали на столе вообще в столе со стороны по\n",
      "Встречаются два старых еврея- Ой,| как тебе на работе на получился под со столом получилось должны и под стуками.один подходит к к пр\n",
      "\n",
      "----------------------------------------------------------------------------------------------------\n",
      "\n"
     ]
    }
   ],
   "source": [
    "for idx in [10, 660, 1309, 52016, 71034]:\n",
    "    print(aneks[idx])\n",
    "    print()\n",
    "    gen_continuation(model, prefix=' '.join(aneks[idx].split()[:5]))\n",
    "    print()\n",
    "    print('-' * 100)\n",
    "    print()"
   ]
  }
 ],
 "metadata": {
  "kernelspec": {
   "display_name": "startml",
   "language": "python",
   "name": "startml"
  },
  "language_info": {
   "codemirror_mode": {
    "name": "ipython",
    "version": 3
   },
   "file_extension": ".py",
   "mimetype": "text/x-python",
   "name": "python",
   "nbconvert_exporter": "python",
   "pygments_lexer": "ipython3",
   "version": "3.10.4"
  },
  "notebookId": "3f841013-58c7-4594-8c8e-ba66c1ada02f",
  "notebookPath": "9/Lecture_10_Intro_to_DL_Transformer.ipynb",
  "toc": {
   "base_numbering": 1,
   "nav_menu": {},
   "number_sections": true,
   "sideBar": true,
   "skip_h1_title": false,
   "title_cell": "Table of Contents",
   "title_sidebar": "Contents",
   "toc_cell": false,
   "toc_position": {},
   "toc_section_display": true,
   "toc_window_display": true
  }
 },
 "nbformat": 4,
 "nbformat_minor": 4
}
