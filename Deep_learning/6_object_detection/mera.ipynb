{
 "cells": [
  {
   "cell_type": "code",
   "execution_count": 1,
   "metadata": {},
   "outputs": [],
   "source": [
    "from torch import Tensor\n",
    "\n",
    "\n",
    "y_pred = Tensor([\n",
    "    [1, 1, 2, 2, 2],\n",
    "    [1, 1, 2, 1, 2],\n",
    "    [1, 0, 0, 0, 0],\n",
    "    [2, 2, 2, 0, 0],\n",
    "    [2, 1, 1, 1, 2]\n",
    "])\n",
    "\n",
    "y_true = Tensor([\n",
    "    [1, 1, 1, 2, 2],\n",
    "    [1, 1, 1, 2, 2],\n",
    "    [1, 1, 1, 2, 2],\n",
    "    [0, 0, 0, 2, 2],\n",
    "    [0, 0, 0, 2, 2]\n",
    "])"
   ]
  },
  {
   "attachments": {},
   "cell_type": "markdown",
   "metadata": {},
   "source": [
    "Мера Жаккара (Jaccard index) - это мера сходства двух наборов, которая вычисляется как размер пересечения наборов, деленный на размер их объединения.\n",
    "\n",
    "В случае многоклассовой классификации, мы можем вычислить меру Жаккара для каждого класса отдельно, а затем взять среднее значение. Для каждого класса мы считаем истинно-положительные (TP), ложно-положительные (FP) и ложно-отрицательные (FN) значения.\n",
    "\n",
    "TP - это количество раз, когда класс правильно предсказан, FP - это количество раз, когда другой класс был ошибочно предсказан вместо текущего, FN - это количество раз, когда текущий класс был ошибочно предсказан как другой.\n",
    "\n",
    "Мера Жаккара вычисляется по формуле: TP / (TP + FP + FN)."
   ]
  },
  {
   "cell_type": "code",
   "execution_count": 2,
   "metadata": {},
   "outputs": [
    {
     "name": "stdout",
     "output_type": "stream",
     "text": [
      "0.2115\n"
     ]
    }
   ],
   "source": [
    "def jaccard_index(y_true, y_pred, label):\n",
    "    intersection = ((y_pred == label) & (y_true == label)).sum().item()\n",
    "    union = ((y_pred == label) | (y_true == label)).sum().item()\n",
    "    return intersection / union if union > 0 else 1.0  # avoid division by zero\n",
    "\n",
    "jaccard_0 = jaccard_index(y_true, y_pred, 0)\n",
    "jaccard_1 = jaccard_index(y_true, y_pred, 1)\n",
    "jaccard_2 = jaccard_index(y_true, y_pred, 2)\n",
    "\n",
    "average_jaccard = (jaccard_0 + jaccard_1 + jaccard_2) / 3\n",
    "average_jaccard = round(average_jaccard, 4)\n",
    "\n",
    "print(average_jaccard)\n"
   ]
  }
 ],
 "metadata": {
  "kernelspec": {
   "display_name": "Python 3",
   "language": "python",
   "name": "python3"
  },
  "language_info": {
   "codemirror_mode": {
    "name": "ipython",
    "version": 3
   },
   "file_extension": ".py",
   "mimetype": "text/x-python",
   "name": "python",
   "nbconvert_exporter": "python",
   "pygments_lexer": "ipython3",
   "version": "3.10.11"
  },
  "orig_nbformat": 4
 },
 "nbformat": 4,
 "nbformat_minor": 2
}
