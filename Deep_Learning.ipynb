{
 "cells": [
  {
   "attachments": {},
   "cell_type": "markdown",
   "metadata": {},
   "source": [
    "# Lesson 1: Introduction to Deep Learning"
   ]
  },
  {
   "cell_type": "code",
   "execution_count": 1,
   "metadata": {},
   "outputs": [],
   "source": [
    "import torch\n",
    "import numpy as np"
   ]
  },
  {
   "attachments": {},
   "cell_type": "markdown",
   "metadata": {},
   "source": [
    "Напишите функцию `function01`. Она должна иметь следующую сигнатуру:\n",
    "\n",
    "`def function01(tensor: torch.Tensor, count_over: str) -> torch.Tensor:`\n",
    "\n",
    "Если `count_over` равен `'columns'`, верните среднее тензора по колонкам. Если равен `'rows'`, то верните среднее по рядам. Гарантируется, что тензор будет матрицей (то есть будет иметь размерность 2).  \n",
    "Отправляемый файл должен иметь расширение **.py**"
   ]
  },
  {
   "cell_type": "code",
   "execution_count": 2,
   "metadata": {},
   "outputs": [],
   "source": [
    "def function01(tensor: torch.tensor, count_over: str) -> torch.Tensor:\n",
    "    if count_over == \"columns\":\n",
    "        return torch.mean(tensor, dim=0) # dim=0 means columns dim=1 means rows\n",
    "    else:\n",
    "        return torch.mean(tensor, dim=1)\n"
   ]
  },
  {
   "cell_type": "code",
   "execution_count": 3,
   "metadata": {},
   "outputs": [
    {
     "name": "stdout",
     "output_type": "stream",
     "text": [
      "tensor([2., 5.])\n",
      "tensor([2.5000, 3.5000, 4.5000])\n"
     ]
    }
   ],
   "source": [
    "# let's create a tensor\n",
    "t = torch.tensor([[1, 2, 3], [4, 5, 6]], dtype=torch.float32)\n",
    "\n",
    "# calculate mean over columns\n",
    "print(function01(t, \"columns\"))\n",
    "\n",
    "# calculate mean over rows\n",
    "print(function01(t, \"rows\"))"
   ]
  },
  {
   "attachments": {},
   "cell_type": "markdown",
   "metadata": {},
   "source": [
    "Напишите функцию `function02`. Функции на вход должен приходить датасет — тензор-матрица признаков объектов. Ваша функция должна создать тензор-вектор с весами (пусть они будут из равномерного распределения на отрезке от 0 до 1) и вернуть их для дальнейшего обучения линейной регрессии без свободного коэффициента. Сделайте эти веса типа `float32`, для них нужно будет в процессе обучения вычислять градиенты (воспользуйтесь `requires_grad`).\n",
    "\n",
    "Отправляемый файл должен иметь расширение **.py**"
   ]
  },
  {
   "cell_type": "code",
   "execution_count": null,
   "metadata": {},
   "outputs": [],
   "source": [
    "def function02(tensor: torch.tensor) -> torch.Tensor:\n",
    "    # calculate the number of columns in the tensor\n",
    "    num_features = tensor.size(1)\n",
    "    \n",
    "    # creating the tensor of weights with the same shape as the input tensor и разрешаем вычисление градиента\n",
    "    weights = torch.rand(num_features, dtype=torch.float32, requires_grad=True)\n",
    "       \n",
    "    return weights"
   ]
  },
  {
   "attachments": {},
   "cell_type": "markdown",
   "metadata": {},
   "source": [
    "Напишите функцию `function03`. Она должна принимать тензор-матрицу с объектами и тензор-вектор с правильными ответами, будем решать задачу регрессии: `def function03(x: torch.Tensor, y: torch.Tensor):`\n",
    "\n",
    "Создайте внутри функции веса для линейной регрессии (без свободного коэффициента), можете воспользоваться функцией из предыдущего степа. С помощью градиентного спуска подберите оптимальные веса для входных данных (используйте длину шага около `1e-2`). Верните тензор-вектор с оптимальными весами из функции. Ваши обученные веса должны давать **MSE** на обучающей выборке меньше единицы.\n",
    "\n",
    "Отправляемый файл должен иметь расширение .py\n",
    "\n",
    "Входные данные будут выглядеть примерно так:"
   ]
  },
  {
   "cell_type": "code",
   "execution_count": null,
   "metadata": {},
   "outputs": [],
   "source": [
    "n_features = 2\n",
    "n_objects = 300\n",
    "\n",
    "w_true = torch.randn(n_features)\n",
    "X = (torch.rand(n_objects, n_features) - 0.5) * 5\n",
    "Y = X @ w_true + torch.randn(n_objects) / 2\n",
    "\n",
    "def function02(tensor: torch.tensor) -> torch.Tensor:\n",
    "    # calculate the number of columns in the tensor\n",
    "    num_features = tensor.size(1)\n",
    "    \n",
    "    # creating the tensor of weights with the same shape as the input tensor и разрешаем вычисление градиента\n",
    "    weights = torch.rand(num_features, dtype=torch.float32, requires_grad=True)\n",
    "       \n",
    "    return weights\n",
    "\n",
    "n_steps = 200\n",
    "step_seze = 1e-2\n",
    "\n",
    "def function03(X: torch.tensor, Y: torch.tensor) -> torch.Tensor:\n",
    "    \n",
    "    # initialize the weights\n",
    "    w = function02(X)\n",
    "     \n",
    "    mse = []\n",
    "    while mse \n",
    "    \n",
    "    return 0 "
   ]
  }
 ],
 "metadata": {
  "kernelspec": {
   "display_name": "Python 3",
   "language": "python",
   "name": "python3"
  },
  "language_info": {
   "codemirror_mode": {
    "name": "ipython",
    "version": 3
   },
   "file_extension": ".py",
   "mimetype": "text/x-python",
   "name": "python",
   "nbconvert_exporter": "python",
   "pygments_lexer": "ipython3",
   "version": "3.10.11"
  },
  "orig_nbformat": 4
 },
 "nbformat": 4,
 "nbformat_minor": 2
}
