{
 "cells": [
  {
   "cell_type": "markdown",
   "id": "c714d313",
   "metadata": {},
   "source": [
    "# Сторонние библиотеки\n",
    "Мы уже много узнали про встроенные структуры данных (`list`, `dict`, `set`, `tuple`) и про функции над ними.\n",
    "Но Python не стал бы таким популярным, если бы не написанные к нему библиотеки :)\n",
    "\n",
    "Сейчас мы рассмотрим, как импортировать библиотеки и потыкаем несколько встроенных в Python библиотек.\n",
    "\n",
    "\n",
    "## Что такое библиотека\n",
    "Библиотека - это набор готовых функций и переменных, которые можно использовать в своем коде. В Python уже есть несколько встроенных библиотек, которые мы уже можем использовать.\n",
    "\n",
    "Библиотеки могут также называть _пакетами_. В повествовании мы будем иногда их так называть, не пугайтесь - это одно и то же.\n",
    "\n",
    "### Простой импорт на примере `datetime`\n",
    "Практический пример: в анализе данных часто приходится иметь дело с датами. Давайте посмотрим, как работать с ними через библиотеку `datetime`:"
   ]
  },
  {
   "cell_type": "code",
   "execution_count": 1,
   "id": "22a78c2e",
   "metadata": {
    "ExecuteTime": {
     "end_time": "2021-12-28T16:05:59.848071Z",
     "start_time": "2021-12-28T16:05:59.826500Z"
    }
   },
   "outputs": [],
   "source": [
    "# просим подключить библиотеку под названием datetime\n",
    "import datetime\n",
    "\n",
    "# синтаксис простой\n",
    "\n",
    "# import название_библиотеки"
   ]
  },
  {
   "cell_type": "code",
   "execution_count": 2,
   "id": "3413c723",
   "metadata": {
    "ExecuteTime": {
     "end_time": "2021-12-28T16:07:50.826262Z",
     "start_time": "2021-12-28T16:07:50.815012Z"
    }
   },
   "outputs": [
    {
     "name": "stdout",
     "output_type": "stream",
     "text": [
      "2022-01-07\n"
     ]
    }
   ],
   "source": [
    "# теперь можно обращаться к библиотеке через ее название и точку\n",
    "# вызовем date() из библиотеки datetime\n",
    "christmas_day = datetime.date(year=2022, month=1, day=7)  # явно передаем имя аргумента, не привязываясь к порядку\n",
    "print(christmas_day)"
   ]
  },
  {
   "cell_type": "code",
   "execution_count": 6,
   "id": "240f6621",
   "metadata": {
    "ExecuteTime": {
     "end_time": "2021-12-28T16:14:39.353742Z",
     "start_time": "2021-12-28T16:14:39.348353Z"
    }
   },
   "outputs": [
    {
     "name": "stdout",
     "output_type": "stream",
     "text": [
      "Месяц 3\n",
      "День 4\n",
      "Час 13\n",
      "Минута 55\n",
      "Секунда 34\n"
     ]
    }
   ],
   "source": [
    "# в datetime куча полезностей для работы со временем.\n",
    "# Например, можно писать точную дату и время\n",
    "# для этого вызовем datetime() из библиотеки datetime (да, такая тавтология)\n",
    "# она вернет объект с датой и временем\n",
    "some_time = datetime.datetime(2022, 3, 4, 13, 55, 34)\n",
    "\n",
    "print(f'Месяц {some_time.month}')\n",
    "print(f'День {some_time.day}')\n",
    "print(f'Час {some_time.hour}')\n",
    "print(f'Минута {some_time.minute}')\n",
    "print(f'Секунда {some_time.second}')"
   ]
  },
  {
   "cell_type": "code",
   "execution_count": 8,
   "id": "cfe24e24",
   "metadata": {
    "ExecuteTime": {
     "end_time": "2021-12-28T16:17:19.297302Z",
     "start_time": "2021-12-28T16:17:19.292789Z"
    }
   },
   "outputs": [
    {
     "name": "stdout",
     "output_type": "stream",
     "text": [
      "2021-05-11\n"
     ]
    }
   ],
   "source": [
    "# Сложение и вычитание дат/веремени делается через timedelta\n",
    "delta_1 = datetime.timedelta(days=60)\n",
    "\n",
    "# Прибавляем 60 дней к дате 2021-03-12\n",
    "print(datetime.date(2021, 3, 12) + delta_1)"
   ]
  },
  {
   "cell_type": "markdown",
   "id": "abc33387",
   "metadata": {},
   "source": [
    "В пакете `datetime` (иногда пакеты называют _модулями_, хотя это не совсем корректно) есть много другого.\n",
    "Подробнее про `datetime` можно прочитать в [блоге pythonworld.ru](https://pythonworld.ru/moduli/modul-datetime.html)."
   ]
  },
  {
   "cell_type": "markdown",
   "id": "c8b7da11",
   "metadata": {},
   "source": [
    "### Импорт через `from` на примере  `collections`\n",
    "`collections` - еще одна полезная встроенная библиотека.\n",
    "Содержит дополнительные структуры данных, упрощающие жизнь.\n",
    "\n",
    "На практике часто используются `defaultdict` и `Counter`.\n",
    "#### `defaultdict`"
   ]
  },
  {
   "cell_type": "code",
   "execution_count": 10,
   "id": "58a578d4",
   "metadata": {
    "ExecuteTime": {
     "end_time": "2021-12-28T16:24:38.616360Z",
     "start_time": "2021-12-28T16:24:38.611864Z"
    }
   },
   "outputs": [
    {
     "name": "stdout",
     "output_type": "stream",
     "text": [
      "defaultdict(<class 'int'>, {})\n",
      "0\n",
      "defaultdict(<class 'int'>, {'this key does not exist': 0})\n"
     ]
    }
   ],
   "source": [
    "# можно подключать не всю библиотеку, а отдельные объекты из нее\n",
    "# подключим defaultdict и Counter из библиотеки collections\n",
    "from collections import defaultdict, Counter\n",
    "\n",
    "# общий синтаксис:\n",
    "\n",
    "# from название_библиотеки import объект_1, объект_2, объект_3\n",
    "\n",
    "\"\"\"\n",
    "defaultdict - это обычный словарь, но при обращению к несуществующему элементу\n",
    "он не выбрасывает ошибку, а создает его\n",
    "\"\"\"\n",
    "d = defaultdict(int)  # говорим, чтобы создавалось число 0 при остутствии элемента\n",
    "# Почему defaultdict(int), а не defaultdict(0) - поговорим позже\n",
    "print(d)\n",
    "print(d[\"this key does not exist\"])\n",
    "print(d)"
   ]
  },
  {
   "cell_type": "markdown",
   "id": "ba9bbe97",
   "metadata": {},
   "source": [
    "Видим, что при обращении к элементу `\"this key does not exist\"` он создался в словаре со значением `int()` - это нуль (убедитесь сами).\n",
    "Обычный `dict` в этом случае бы выбросил ошибку.\n",
    "\n",
    "####  `Counter`\n",
    "`Counter` принимает на вход список, считает в нем элементы и возвращает словарь с результатом"
   ]
  },
  {
   "cell_type": "code",
   "execution_count": 12,
   "id": "ac757308",
   "metadata": {
    "ExecuteTime": {
     "end_time": "2021-12-28T16:29:42.891359Z",
     "start_time": "2021-12-28T16:29:42.885611Z"
    }
   },
   "outputs": [
    {
     "data": {
      "text/plain": [
       "Counter({1: 2, 3: 3, 'a': 1, 'm': 1, None: 1, (): 1})"
      ]
     },
     "execution_count": 12,
     "metadata": {},
     "output_type": "execute_result"
    }
   ],
   "source": [
    "array = [1, 3, 'a', 'm', 1, None, 3, 3, ()]\n",
    "\n",
    "c = Counter(array)\n",
    "c"
   ]
  },
  {
   "cell_type": "markdown",
   "id": "fdac6ab1",
   "metadata": {},
   "source": [
    "Число `1` встретилось два раза, число `3` встретилось 3 раза, остальные элементы - по одному разу.\n",
    "\n",
    "Обратите внимание: ключами в словаре могут быть только неизменяемые объекты.\n",
    "Поэтому на вход в `Counter()` могут поступать только списки с неизменяемыми объектами."
   ]
  },
  {
   "cell_type": "code",
   "execution_count": 13,
   "id": "18bbdf26",
   "metadata": {
    "ExecuteTime": {
     "end_time": "2021-12-28T16:31:08.189111Z",
     "start_time": "2021-12-28T16:31:08.181794Z"
    }
   },
   "outputs": [
    {
     "name": "stdout",
     "output_type": "stream",
     "text": [
      "Counter({1: 3, 3: 3, 'a': 1, 'm': 1, None: 1, (): 1})\n",
      "Counter({1: 3, 3: 3, 'a': None, 'm': 1, None: 1, (): 1})\n"
     ]
    }
   ],
   "source": [
    "# Counter - это такой же словарь, как и dict\n",
    "c[1] += 1\n",
    "print(c)\n",
    "\n",
    "c['a'] = None\n",
    "print(c)"
   ]
  },
  {
   "cell_type": "markdown",
   "id": "dabae385",
   "metadata": {},
   "source": [
    "### Импорт через `as` на примере \n",
    "Конструкция `as` позволяет обращаться к пакету по другому имени в коде.\n",
    "Это полезно, когда название пакета длинное и не хочется его полностью писать каждый раз.\n",
    "\n",
    "Мы чуть позже сталкнемся с полезными примерами, пока что рассмотрим искусственный:"
   ]
  },
  {
   "cell_type": "code",
   "execution_count": 18,
   "id": "1506a30e",
   "metadata": {
    "ExecuteTime": {
     "end_time": "2021-12-28T16:35:47.972371Z",
     "start_time": "2021-12-28T16:35:47.966916Z"
    }
   },
   "outputs": [
    {
     "data": {
      "text/plain": [
       "'{\"a\": true}'"
      ]
     },
     "execution_count": 18,
     "metadata": {},
     "output_type": "execute_result"
    }
   ],
   "source": [
    "import json as j\n",
    "\n",
    "# Преобразует словарь в JSON-формат\n",
    "j.dumps({'a': True})"
   ]
  },
  {
   "cell_type": "markdown",
   "id": "85389f1a",
   "metadata": {},
   "source": [
    "Этот код равносилен коду:"
   ]
  },
  {
   "cell_type": "code",
   "execution_count": 19,
   "id": "e0d39208",
   "metadata": {
    "ExecuteTime": {
     "end_time": "2021-12-28T16:35:59.595845Z",
     "start_time": "2021-12-28T16:35:59.590598Z"
    }
   },
   "outputs": [
    {
     "data": {
      "text/plain": [
       "'{\"a\": true}'"
      ]
     },
     "execution_count": 19,
     "metadata": {},
     "output_type": "execute_result"
    }
   ],
   "source": [
    "import json\n",
    "json.dumps({'a': True})"
   ]
  }
 ],
 "metadata": {
  "kernelspec": {
   "display_name": "Python 3",
   "language": "python",
   "name": "python3"
  },
  "language_info": {
   "codemirror_mode": {
    "name": "ipython",
    "version": 3
   },
   "file_extension": ".py",
   "mimetype": "text/x-python",
   "name": "python",
   "nbconvert_exporter": "python",
   "pygments_lexer": "ipython3",
   "version": "3.10.9 (tags/v3.10.9:1dd9be6, Dec  6 2022, 20:01:21) [MSC v.1934 64 bit (AMD64)]"
  },
  "toc": {
   "base_numbering": 1,
   "nav_menu": {},
   "number_sections": true,
   "sideBar": true,
   "skip_h1_title": false,
   "title_cell": "Table of Contents",
   "title_sidebar": "Contents",
   "toc_cell": false,
   "toc_position": {},
   "toc_section_display": true,
   "toc_window_display": false
  },
  "varInspector": {
   "cols": {
    "lenName": 16,
    "lenType": 16,
    "lenVar": 40
   },
   "kernels_config": {
    "python": {
     "delete_cmd_postfix": "",
     "delete_cmd_prefix": "del ",
     "library": "var_list.py",
     "varRefreshCmd": "print(var_dic_list())"
    },
    "r": {
     "delete_cmd_postfix": ") ",
     "delete_cmd_prefix": "rm(",
     "library": "var_list.r",
     "varRefreshCmd": "cat(var_dic_list()) "
    }
   },
   "types_to_exclude": [
    "module",
    "function",
    "builtin_function_or_method",
    "instance",
    "_Feature"
   ],
   "window_display": false
  },
  "vscode": {
   "interpreter": {
    "hash": "cdaf845c447f5b8a88f1bde010b8054a6111556832cc2133cdddd7f2255dae56"
   }
  }
 },
 "nbformat": 4,
 "nbformat_minor": 5
}
