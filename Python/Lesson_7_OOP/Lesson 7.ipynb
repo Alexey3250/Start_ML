{
 "cells": [
  {
   "cell_type": "markdown",
   "id": "a26a11c8",
   "metadata": {
    "toc": true
   },
   "source": [
    "<h1>Содержание<span class=\"tocSkip\"></span></h1>\n",
    "<div class=\"toc\"><ul class=\"toc-item\"><li><span><a href=\"#ООП\" data-toc-modified-id=\"ООП-1\"><span class=\"toc-item-num\">1&nbsp;&nbsp;</span>ООП</a></span><ul class=\"toc-item\"><li><span><a href=\"#Объекты-и-их-взаимосвязи\" data-toc-modified-id=\"Объекты-и-их-взаимосвязи-1.1\"><span class=\"toc-item-num\">1.1&nbsp;&nbsp;</span>Объекты и их взаимосвязи</a></span><ul class=\"toc-item\"><li><span><a href=\"#Пример-с-авто\" data-toc-modified-id=\"Пример-с-авто-1.1.1\"><span class=\"toc-item-num\">1.1.1&nbsp;&nbsp;</span>Пример с авто</a></span></li><li><span><a href=\"#Класс-и-объект\" data-toc-modified-id=\"Класс-и-объект-1.1.2\"><span class=\"toc-item-num\">1.1.2&nbsp;&nbsp;</span>Класс и объект</a></span></li></ul></li><li><span><a href=\"#Классы-в-Python\" data-toc-modified-id=\"Классы-в-Python-1.2\"><span class=\"toc-item-num\">1.2&nbsp;&nbsp;</span>Классы в Python</a></span><ul class=\"toc-item\"><li><span><a href=\"#Простой-класс-со-свойствами\" data-toc-modified-id=\"Простой-класс-со-свойствами-1.2.1\"><span class=\"toc-item-num\">1.2.1&nbsp;&nbsp;</span>Простой класс со свойствами</a></span></li><li><span><a href=\"#Говорим,-что-объект-умеет-делать:-методы\" data-toc-modified-id=\"Говорим,-что-объект-умеет-делать:-методы-1.2.2\"><span class=\"toc-item-num\">1.2.2&nbsp;&nbsp;</span>Говорим, что объект умеет делать: методы</a></span></li></ul></li><li><span><a href=\"#Главное-откровение\" data-toc-modified-id=\"Главное-откровение-1.3\"><span class=\"toc-item-num\">1.3&nbsp;&nbsp;</span>Главное откровение</a></span></li><li><span><a href=\"#Наследование\" data-toc-modified-id=\"Наследование-1.4\"><span class=\"toc-item-num\">1.4&nbsp;&nbsp;</span>Наследование</a></span></li><li><span><a href=\"#Инверсия-зависимостей\" data-toc-modified-id=\"Инверсия-зависимостей-1.5\"><span class=\"toc-item-num\">1.5&nbsp;&nbsp;</span>Инверсия зависимостей</a></span></li><li><span><a href=\"#Перегрузка\" data-toc-modified-id=\"Перегрузка-1.6\"><span class=\"toc-item-num\">1.6&nbsp;&nbsp;</span>Перегрузка</a></span></li><li><span><a href=\"#Полиморфизм\" data-toc-modified-id=\"Полиморфизм-1.7\"><span class=\"toc-item-num\">1.7&nbsp;&nbsp;</span>Полиморфизм</a></span></li><li><span><a href=\"#Магические-методы\" data-toc-modified-id=\"Магические-методы-1.8\"><span class=\"toc-item-num\">1.8&nbsp;&nbsp;</span>Магические методы</a></span></li><li><span><a href=\"#Множественное-наследование\" data-toc-modified-id=\"Множественное-наследование-1.9\"><span class=\"toc-item-num\">1.9&nbsp;&nbsp;</span>Множественное наследование</a></span></li><li><span><a href=\"#Интерфейс\" data-toc-modified-id=\"Интерфейс-1.10\"><span class=\"toc-item-num\">1.10&nbsp;&nbsp;</span>Интерфейс</a></span></li><li><span><a href=\"#SOLID-принципы\" data-toc-modified-id=\"SOLID-принципы-1.11\"><span class=\"toc-item-num\">1.11&nbsp;&nbsp;</span>SOLID-принципы</a></span></li></ul></li></ul></div>"
   ]
  },
  {
   "cell_type": "markdown",
   "id": "8d74ca87",
   "metadata": {},
   "source": [
    "# ООП\n",
    "Мы уже много работали со странным синтаксисом вызова функций через точку. Например, для списка писали:\n",
    "```python\n",
    "sample_data = [1, 5., 3., -12]\n",
    "sample_data.append(-4.5)  # вызов .append\n",
    "```\n",
    "\n",
    "При этом не было до конца ясно, почему мы вызываем именно `sample_data.append(-4.5)`, а не `append(sample_data, 4.5)`. В этом уроке мы раскроем данную загадку :)\n",
    "\n",
    "Нам понадобится сделать небольшой шаг назад, в теорию.\n",
    "\n",
    "## Объекты и их взаимосвязи\n",
    "### Пример с авто\n",
    "Представьте себе, что вы устроились программистом в Volkswagen. Вам поставили задачу написать код, описывающий марки автомобили - как свои, так и конкурентов. Марки бывают разные и могут иметь разные функциональности: каждая имеет свой цвет, тип топлива и т.п. Словом, все машины имеют разный набор характеристик. Но в то же время все автомобили описываются схожим образом, словно по трафарету.\n",
    "\n",
    "Вы думаете, как же лучше всего это все собрать воедино. С одной стороны, для общих характеристик хочется иметь единое название: скажем, если вы обозначите цвет за `color`, то эта переменная должна так же называться и в других моделях (даже тех, которые будет писать другой программист). С другой стороны, нужно как-то делать свой код расширяемым, чтобы в будущем можно было без труда дописать код под новые марки авто  и с новыми характеристиками - в этом смысле навязать всем один строгий набор переменных будет плохой мыслью.\n",
    "\n",
    "Вы могли бы создать что-то в духе\n",
    "```python\n",
    "# (цвет, производитель, марка, тип топлива)\n",
    "car_1 = ('green', 'Ford', 'Mustang', 'Gasoline')\n",
    "car_2 = ('Blue', 'Volkswagen', 'Golf', 'Diesel')\n",
    "```\n",
    "но согласитесь, тяжело сходу понять, какое число что значит. Да и легко ошибиться: кто-нибудь может сделать кортеж длины 5 и это уже будет неверная запись. Более того, если появится новая характеристика, то неясно, как ее аккуратно добавить с такую структуру.\n",
    "\n",
    "### Класс и объект\n",
    "На помощь приходят классы. Давайте посмотрим на задачу вот с такой стороны:\n",
    "1. Есть некое общее описание \"Машина\", которая имеет характеристику: `color`, `manufacturer`, `series`, `fuel_type`.\n",
    "2. По этому общему описанию клепаются конкретные объекты - например, машина с определенной маркой.\n",
    "\n",
    "В такой постановке становится удобнее жить: мы выносим описание \"Машины\" в некую сущность, а конкретные чисал будут в конкретных представителях этой сущности.\n",
    "Поздравляю, мы с вами пришли к концепции класса.\n",
    "\n",
    "**Класс** - это некоторое объединение свойств объекта и действий, которые этот объект может совершать. Класс является некоторым шаблоном, по которому клепаются _объекты_. Например, по _классу_ \"Машина\" можно создавать конкретные _экземпляры_ (или _объекты_) машины - конкретные марки.\n",
    "\n",
    "## Классы в Python\n",
    "### Простой класс со свойствами\n",
    "Давайте реализуем это в коде:"
   ]
  },
  {
   "cell_type": "code",
   "execution_count": 3,
   "id": "a745035c",
   "metadata": {
    "ExecuteTime": {
     "end_time": "2022-01-30T15:17:38.536055Z",
     "start_time": "2022-01-30T15:17:38.529975Z"
    }
   },
   "outputs": [],
   "source": [
    "from dataclasses import dataclass  # упрощает создание класса в нашем случае\n",
    "\n",
    "# Классы объявляются (т.е. создаются) через ключевое слово class\n",
    "# далее идет имя. Принято писать с заглавной буквы\n",
    "@dataclass\n",
    "class Auto:\n",
    "    color: str\n",
    "    manufacturer: str\n",
    "    series: str\n",
    "    fuel_type: str"
   ]
  },
  {
   "cell_type": "code",
   "execution_count": 4,
   "id": "9a54ed61",
   "metadata": {
    "ExecuteTime": {
     "end_time": "2022-01-30T15:19:00.864577Z",
     "start_time": "2022-01-30T15:19:00.855132Z"
    }
   },
   "outputs": [
    {
     "data": {
      "text/plain": [
       "Auto(color='green', manufacturer='Ford', series='Mustang', fuel_type='Gasoline')"
      ]
     },
     "execution_count": 4,
     "metadata": {},
     "output_type": "execute_result"
    }
   ],
   "source": [
    "car_1 = Auto('green', 'Ford', 'Mustang', 'Gasoline')\n",
    "car_2 = Auto('blue', 'Volkswagen', 'Golf', 'Diesel')\n",
    "car_1"
   ]
  },
  {
   "cell_type": "code",
   "execution_count": 5,
   "id": "a2eaa302",
   "metadata": {
    "ExecuteTime": {
     "end_time": "2022-01-30T15:24:33.204625Z",
     "start_time": "2022-01-30T15:24:33.199817Z"
    }
   },
   "outputs": [],
   "source": [
    "# конструктор - что делать, когда создаем объект\n",
    "# имена класса пишутся в CamelCase с первой заглавной буквой\n",
    "# ТоЕстьСловаСлитноБольшаяБукваНаСлово\n",
    "class AutoShort:\n",
    "    # функция внутри класса с таким названием будет вызываться каждый\n",
    "    # раз, когда мы попросим создать новый объект.\n",
    "    # Задает, что нужно принимать на вход для создания объекта\n",
    "    def __init__(self, color):  # self - это сам объект, который будет создан\n",
    "        self.color = color  # создаваемому объекту задаем переменную color"
   ]
  },
  {
   "cell_type": "code",
   "execution_count": 6,
   "id": "c1dfd7b7",
   "metadata": {
    "ExecuteTime": {
     "end_time": "2022-01-30T15:24:33.689491Z",
     "start_time": "2022-01-30T15:24:33.681744Z"
    }
   },
   "outputs": [
    {
     "data": {
      "text/plain": [
       "'red'"
      ]
     },
     "execution_count": 6,
     "metadata": {},
     "output_type": "execute_result"
    }
   ],
   "source": [
    "colored_car = AutoShort('red')\n",
    "colored_car.color  # наш синтаксис с точкой"
   ]
  },
  {
   "cell_type": "code",
   "execution_count": 7,
   "id": "4fe691c7",
   "metadata": {
    "ExecuteTime": {
     "end_time": "2022-01-30T15:25:05.896402Z",
     "start_time": "2022-01-30T15:25:05.890519Z"
    }
   },
   "outputs": [
    {
     "data": {
      "text/plain": [
       "'blue'"
      ]
     },
     "execution_count": 7,
     "metadata": {},
     "output_type": "execute_result"
    }
   ],
   "source": [
    "colored_car.color = 'blue'  # можно менять переменную внутри объекта\n",
    "colored_car.color"
   ]
  },
  {
   "cell_type": "markdown",
   "id": "ee1504c8",
   "metadata": {},
   "source": [
    "### Говорим, что объект умеет делать: методы\n",
    "Объект может не только иметь свойства, но уметь что-то делать. Давайте посмотрим:"
   ]
  },
  {
   "cell_type": "code",
   "execution_count": 8,
   "id": "6fd04806",
   "metadata": {
    "ExecuteTime": {
     "end_time": "2022-01-30T15:33:23.842203Z",
     "start_time": "2022-01-30T15:33:23.835460Z"
    }
   },
   "outputs": [],
   "source": [
    "class AutoWithAlarm:\n",
    "    # через name: type можно делать подсказки типа\n",
    "    def __init__(self, color, alarm_sound: str):\n",
    "        self.color = color\n",
    "        self.alarm_sound = alarm_sound\n",
    "    \n",
    "    # эта функция уйдет в каждый объект класса, он будет уметь ее вызывать\n",
    "    def alarm(self):\n",
    "        # внутри этой функции можем обращаться к свойствам объекта\n",
    "        print(self.alarm_sound)"
   ]
  },
  {
   "cell_type": "code",
   "execution_count": 9,
   "id": "737e5f2b",
   "metadata": {
    "ExecuteTime": {
     "end_time": "2022-01-30T15:33:24.974750Z",
     "start_time": "2022-01-30T15:33:24.971453Z"
    }
   },
   "outputs": [],
   "source": [
    "my_new_car = AutoWithAlarm('red', 'beep-beep-beeeeeep')"
   ]
  },
  {
   "cell_type": "code",
   "execution_count": 10,
   "id": "aebb3c94",
   "metadata": {
    "ExecuteTime": {
     "end_time": "2022-01-30T15:33:25.420967Z",
     "start_time": "2022-01-30T15:33:25.414668Z"
    }
   },
   "outputs": [
    {
     "data": {
      "text/plain": [
       "'red'"
      ]
     },
     "execution_count": 10,
     "metadata": {},
     "output_type": "execute_result"
    }
   ],
   "source": [
    "# проверяем цвет\n",
    "my_new_car.color"
   ]
  },
  {
   "cell_type": "code",
   "execution_count": 11,
   "id": "ebb6338e",
   "metadata": {
    "ExecuteTime": {
     "end_time": "2022-01-30T15:33:25.999094Z",
     "start_time": "2022-01-30T15:33:25.994223Z"
    }
   },
   "outputs": [
    {
     "name": "stdout",
     "output_type": "stream",
     "text": [
      "beep-beep-beeeeeep\n"
     ]
    }
   ],
   "source": [
    "my_new_car.alarm()"
   ]
  },
  {
   "cell_type": "markdown",
   "id": "b8025288",
   "metadata": {},
   "source": [
    "Давайте еще раз задумаемся над примером. Мы создали класс как шаблон объектов, затем начали создавать объекты по образу и подобию этого класса.\n",
    "\n",
    "Такой подход называется ООП - _объектно-ориентированное программированием_. В ООП вы строите свой код через классы, объекты и их взаимодействие. Объектом может быть что угодно: особый список, подключение к базе данных, датафрейм и т.п.\n",
    "\n",
    "Каждая переменная в классе называется _полем_ или _свойством_, каждая функция - _методом_.\n",
    "\n",
    "## Главное откровение\n",
    "Все в Python является объектами. Датафреймы, списки, модули (даже они), функции (и они тоже), подключения к БД - все это есть объекты некоторых классов. Именно поэтому они имели свои функции (как `[1, 2].append(3)`), которые мы вызывали через синтаксис с точкой.\n",
    "\n",
    "## Наследование\n",
    "Классы обладают интересной возможностью: вы можете создавать класс не с нуля, а позаимствовать свойства и методы из другого класса. Такой прием называется _наследованием_."
   ]
  },
  {
   "cell_type": "code",
   "execution_count": 12,
   "id": "b63ceb10",
   "metadata": {
    "ExecuteTime": {
     "end_time": "2022-01-30T15:43:45.661967Z",
     "start_time": "2022-01-30T15:43:45.654364Z"
    }
   },
   "outputs": [],
   "source": [
    "# Очень простое описание авто\n",
    "class Auto:\n",
    "    color = ''  # можно заранее создать поля, можно делать в __init__\n",
    "    name = ''   # в этом примере сделаем и там, и там\n",
    "    alarm_sound = ''\n",
    "    \n",
    "    def __init__(self, color: str, name: str, alarm_sound: str):\n",
    "        self.name = name\n",
    "        self.color = color\n",
    "        self.alarm_sound = alarm_sound  # \n",
    "\n",
    "    def beep(self):\n",
    "        print(self.alarm_sound)\n",
    "        \n",
    "# Мы захотели его расширить: добавить звуковой сигнал\n",
    "# синтаксис: после имени класса в круглых скобках пишем, от кого наследуемся\n",
    "class AutoWithAlarm(Auto):\n",
    "    # добавляем новый функционал\n",
    "    def alarm(self):\n",
    "        print('piy-piy')"
   ]
  },
  {
   "cell_type": "code",
   "execution_count": 13,
   "id": "e2291411",
   "metadata": {
    "ExecuteTime": {
     "end_time": "2022-01-30T15:45:30.177521Z",
     "start_time": "2022-01-30T15:45:30.172539Z"
    }
   },
   "outputs": [
    {
     "name": "stdout",
     "output_type": "stream",
     "text": [
      "piy-piy\n"
     ]
    }
   ],
   "source": [
    "car_sound = AutoWithAlarm('red', 'Polo', 'bepe')\n",
    "car_sound.alarm()"
   ]
  },
  {
   "cell_type": "code",
   "execution_count": 14,
   "id": "349a970b",
   "metadata": {
    "ExecuteTime": {
     "end_time": "2022-01-30T15:45:44.064742Z",
     "start_time": "2022-01-30T15:45:44.059062Z"
    }
   },
   "outputs": [
    {
     "name": "stdout",
     "output_type": "stream",
     "text": [
      "bepe\n"
     ]
    }
   ],
   "source": [
    "car_sound.beep()"
   ]
  },
  {
   "cell_type": "markdown",
   "id": "3ba2dc5d",
   "metadata": {},
   "source": [
    "Класс `AutoWithAlarm` зовется _дочерним_, `Auto` для него будет _родительским_ классом (или _базовым_ классом).\n",
    "\n",
    "При наследовании надо соблюдать несколько простых правил:\n",
    "1. Наследуемый класс (`AutoWithAlarm`) по логике должен расширять базовый класс, а не перечеркивать его поведение и делать по-своему.\n",
    "2. Код должен продолжать работать, если заменить в нем базовый класс на какой-то из его наследников ([принцип Барбары Лисков](https://ru.wikipedia.org/wiki/Принцип_подстановки_Барбары_Лисков))."
   ]
  },
  {
   "cell_type": "markdown",
   "id": "c818724a",
   "metadata": {},
   "source": [
    "## Инверсия зависимостей\n",
    "Еще одна вещь про наследование. Если у вас есть много слабо связанных сущностей, то стоит их общие черты выделить в некий \"абстрактный\" класс, а затем каждую сущность сделать наследником."
   ]
  },
  {
   "cell_type": "code",
   "execution_count": 15,
   "id": "0f27b9b6",
   "metadata": {
    "ExecuteTime": {
     "end_time": "2022-01-30T14:35:01.516900Z",
     "start_time": "2022-01-30T14:35:01.511720Z"
    }
   },
   "outputs": [],
   "source": [
    "# Общий, несколько абстрактный, класс - от него будут наследоваться детали\n",
    "class GeneralAuto:\n",
    "    color = ''\n",
    "    name = ''\n",
    "\n",
    "# добавляем специфичную функцию, не свойственную всем автомобилям\n",
    "class AutoTransmissionCar(GeneralAuto):\n",
    "    def set_position(self, position):\n",
    "        if position == 'D':\n",
    "            print(f'going forward')\n",
    "        # дальше сложный код по выстановке автоматической трансмиссии\n",
    "\n",
    "class ManualTransmissionCar(GeneralAuto):\n",
    "    def set_transmission(self, step):\n",
    "        if step == 'R':\n",
    "            print('going backwards')\n",
    "        # сложный код по переключению передачи"
   ]
  },
  {
   "attachments": {
    "bd4c2d48-f719-4ea6-90aa-fd6783fb6d8f.png": {
     "image/png": "[encoded data removed]"
    }
   },
   "cell_type": "markdown",
   "id": "15297f9f",
   "metadata": {},
   "source": [
    "Это выльется в такое отношение\n",
    "\n",
    "![image.png](attachment:bd4c2d48-f719-4ea6-90aa-fd6783fb6d8f.png)"
   ]
  },
  {
   "cell_type": "markdown",
   "id": "24f104f4",
   "metadata": {},
   "source": [
    "## Перегрузка\n",
    "\n",
    "Класс-наследник может переопределить поведение родительской функции:"
   ]
  },
  {
   "cell_type": "code",
   "execution_count": 16,
   "id": "a39dd347",
   "metadata": {
    "ExecuteTime": {
     "end_time": "2022-01-30T16:07:26.081353Z",
     "start_time": "2022-01-30T16:07:26.066554Z"
    }
   },
   "outputs": [],
   "source": [
    "class Auto:\n",
    "    color = ''\n",
    "    name = ''\n",
    "    alarm_sound = ''\n",
    "    \n",
    "    def __init__(self, color: str, name: str, alarm_sound: str):\n",
    "        self.name = name\n",
    "        self.color = color\n",
    "        self.alarm_sound = alarm_sound  # \n",
    "\n",
    "    def beep(self):\n",
    "        print(self.alarm_sound)\n",
    "        \n",
    "\n",
    "class AutoWithCustomBeep(Auto):\n",
    "    # берем и нагло меняем поведение - переопределяем метод родителя\n",
    "    def beep(self):\n",
    "        # кстати, можно использовать родительскую версию\n",
    "        # super().beep()\n",
    "        print('beep broke, sorry')"
   ]
  },
  {
   "cell_type": "code",
   "execution_count": 17,
   "id": "6ef93027",
   "metadata": {
    "ExecuteTime": {
     "end_time": "2022-01-30T16:07:28.313992Z",
     "start_time": "2022-01-30T16:07:28.309677Z"
    }
   },
   "outputs": [
    {
     "name": "stdout",
     "output_type": "stream",
     "text": [
      "beep broke, sorry\n"
     ]
    }
   ],
   "source": [
    "car_broken = AutoWithCustomBeep('red', 'Volvo', 'beep123')\n",
    "car_broken.beep()"
   ]
  },
  {
   "cell_type": "markdown",
   "id": "a6ada465",
   "metadata": {},
   "source": [
    "Такое переопределение называется _перегрузкой_ (_override_) метода. Оно часто применяется, когда в наследнике необходимо поменять некоторое поведение родителя.\n",
    "\n",
    "Кстати, если вы переопределите свойства, то все обращения к ней тоже переопределятся!"
   ]
  },
  {
   "cell_type": "markdown",
   "id": "4e046f9a",
   "metadata": {},
   "source": [
    "## Полиморфизм\n",
    "Для Python особо не актуален, поскольку в Python динамическая типизация. Расскажем коротко.\n",
    "\n",
    "Полиморфизм - это возможность создавать _один и тот же метод_ в классе, работающий с данными разного _типа_.\n",
    "\n",
    "Например\n",
    "```python\n",
    "class NumberPrinter:\n",
    "    def print_number(self, num: int):\n",
    "        print(f'integer, {num}')\n",
    "    def print_number(self, num: float):\n",
    "        print(f'float, {num}')\n",
    "```\n",
    "Достигнется разное поведение на разных типах.\n",
    "\n",
    "В Python этот пример **не будет** работать, он только лишь возьмет последнюю реализацию функции.\n",
    "\n",
    "[Подробнее про полиморфизм для заинтересованных](https://habr.com/ru/post/552922/)."
   ]
  },
  {
   "cell_type": "code",
   "execution_count": 18,
   "id": "69d98e9b",
   "metadata": {
    "ExecuteTime": {
     "end_time": "2022-01-30T16:10:53.832235Z",
     "start_time": "2022-01-30T16:10:53.827445Z"
    }
   },
   "outputs": [],
   "source": [
    "# В других языках этот пример бы сработал, но не в Python\n",
    "# из-за дин. типизации\n",
    "class NumberPrinter:\n",
    "    # для int\n",
    "    def print_number(self, num: int):\n",
    "        print(f'integer, {num}')\n",
    "        \n",
    "    # для float\n",
    "    def print_number(self, num: float):\n",
    "        print(f'float, {num}')"
   ]
  },
  {
   "cell_type": "code",
   "execution_count": 19,
   "id": "4a424e61",
   "metadata": {
    "ExecuteTime": {
     "end_time": "2022-01-30T16:11:32.351806Z",
     "start_time": "2022-01-30T16:11:32.346551Z"
    }
   },
   "outputs": [
    {
     "name": "stdout",
     "output_type": "stream",
     "text": [
      "float, 5.5\n",
      "float, 5\n"
     ]
    }
   ],
   "source": [
    "NumberPrinter().print_number(5.5)\n",
    "NumberPrinter().print_number(5)"
   ]
  },
  {
   "cell_type": "markdown",
   "id": "da8b161e",
   "metadata": {},
   "source": [
    "## Магические методы\n",
    "В классе можно объявить методы с особыми названиями, которые дадут объектам класса особую функциональность. Такие методы называются _magic methods_."
   ]
  },
  {
   "cell_type": "code",
   "execution_count": 20,
   "id": "a85ba588",
   "metadata": {
    "ExecuteTime": {
     "end_time": "2022-01-30T16:18:17.372294Z",
     "start_time": "2022-01-30T16:18:17.367427Z"
    }
   },
   "outputs": [],
   "source": [
    "class Vector3D:\n",
    "    def __init__(self, x, y, z):\n",
    "        self.x, self.y, self.z = x, y, z\n",
    "        \n",
    "    # Добавит возможность складывать объекты\n",
    "    def __add__(self, other):\n",
    "        return Vector3D(self.x + other.x, self.y + other.y, self.z + other.z)"
   ]
  },
  {
   "cell_type": "code",
   "execution_count": 21,
   "id": "9d1f1d1f",
   "metadata": {
    "ExecuteTime": {
     "end_time": "2022-01-30T16:18:32.669933Z",
     "start_time": "2022-01-30T16:18:32.664729Z"
    },
    "scrolled": true
   },
   "outputs": [
    {
     "name": "stdout",
     "output_type": "stream",
     "text": [
      "<__main__.Vector3D object at 0x000001B7B5B82C50>\n"
     ]
    }
   ],
   "source": [
    "vec_1 = Vector3D(1, 3, 5)\n",
    "vec_2 = Vector3D(-5, -3, 1)\n",
    "sum_vec = vec_1 + vec_2\n",
    "print(sum_vec)   # некрасивый вывод"
   ]
  },
  {
   "cell_type": "code",
   "execution_count": 22,
   "id": "ce3ca2a5",
   "metadata": {
    "ExecuteTime": {
     "end_time": "2022-01-30T16:19:19.634600Z",
     "start_time": "2022-01-30T16:19:19.627402Z"
    }
   },
   "outputs": [
    {
     "data": {
      "text/plain": [
       "6"
      ]
     },
     "execution_count": 22,
     "metadata": {},
     "output_type": "execute_result"
    }
   ],
   "source": [
    "sum_vec.z"
   ]
  },
  {
   "cell_type": "code",
   "execution_count": 23,
   "id": "830b87a1",
   "metadata": {
    "ExecuteTime": {
     "end_time": "2022-01-30T16:20:16.416162Z",
     "start_time": "2022-01-30T16:20:16.408486Z"
    }
   },
   "outputs": [],
   "source": [
    "class Vector3D:\n",
    "    def __init__(self, x, y, z):\n",
    "        self.x, self.y, self.z = x, y, z\n",
    "\n",
    "    def __add__(self, other):\n",
    "        return Vector3D(self.x + other.x, self.y + other.y, self.z + other.z)\n",
    "    \n",
    "    # добавит красивую печать\n",
    "    def __str__(self):\n",
    "        return f'({self.x}, {self.y}, {self.z})'"
   ]
  },
  {
   "cell_type": "code",
   "execution_count": 24,
   "id": "542f58a1",
   "metadata": {
    "ExecuteTime": {
     "end_time": "2022-01-30T16:20:30.619691Z",
     "start_time": "2022-01-30T16:20:30.614841Z"
    }
   },
   "outputs": [
    {
     "name": "stdout",
     "output_type": "stream",
     "text": [
      "(-4, 0, 6)\n"
     ]
    }
   ],
   "source": [
    "vec_1 = Vector3D(1, 3, 5)\n",
    "vec_2 = Vector3D(-5, -3, 1)\n",
    "print(vec_1 + vec_2)"
   ]
  },
  {
   "cell_type": "code",
   "execution_count": 25,
   "id": "3092ab45",
   "metadata": {
    "ExecuteTime": {
     "end_time": "2022-01-30T16:22:47.493372Z",
     "start_time": "2022-01-30T16:22:47.489149Z"
    }
   },
   "outputs": [],
   "source": [
    "# еще один трюк: можно добавить возможность вызывать объект как функцию!\n",
    "class TriangleCalculator:\n",
    "    def __init__(self, a):\n",
    "        self.a = a\n",
    "        \n",
    "    # дает возможность вызывать объект, как  функцию\n",
    "    def __call__(self, b):\n",
    "        return (self.a ** 2 + b ** 2) ** 0.5"
   ]
  },
  {
   "cell_type": "code",
   "execution_count": 26,
   "id": "a0bf65a9",
   "metadata": {
    "ExecuteTime": {
     "end_time": "2022-01-30T16:25:04.724661Z",
     "start_time": "2022-01-30T16:25:04.719025Z"
    }
   },
   "outputs": [
    {
     "data": {
      "text/plain": [
       "5"
      ]
     },
     "execution_count": 26,
     "metadata": {},
     "output_type": "execute_result"
    }
   ],
   "source": [
    "calc = TriangleCalculator(a=5)\n",
    "# можно забирать поля\n",
    "calc.a"
   ]
  },
  {
   "cell_type": "code",
   "execution_count": 27,
   "id": "3cc20f91",
   "metadata": {
    "ExecuteTime": {
     "end_time": "2022-01-30T16:25:16.614451Z",
     "start_time": "2022-01-30T16:25:16.608277Z"
    }
   },
   "outputs": [
    {
     "data": {
      "text/plain": [
       "6.4031242374328485"
      ]
     },
     "execution_count": 27,
     "metadata": {},
     "output_type": "execute_result"
    }
   ],
   "source": [
    "# а можно использовать как функцию\n",
    "calc(4)"
   ]
  },
  {
   "cell_type": "markdown",
   "id": "4636fe07",
   "metadata": {},
   "source": [
    "Такие волшебные методы часто используются при разработке библиотек. Более подробно про них можно почитать [здесь](https://www.tutorialsteacher.com/python/magic-methods-in-python)."
   ]
  },
  {
   "cell_type": "markdown",
   "id": "60263f7e",
   "metadata": {},
   "source": [
    "## Множественное наследование\n",
    "В Python можно наследоваться не только от одного класса, а от нескольких. Для этого надо перечислять родителей через запятую:"
   ]
  },
  {
   "cell_type": "code",
   "execution_count": 28,
   "id": "43833617",
   "metadata": {
    "ExecuteTime": {
     "end_time": "2022-01-30T16:29:30.545183Z",
     "start_time": "2022-01-30T16:29:30.539183Z"
    }
   },
   "outputs": [],
   "source": [
    "class Printable:\n",
    "    # обращаемся к переменной \"a\", хотя не объявили\n",
    "    def __str__(self):\n",
    "        print('__str__ is called')\n",
    "        return f'{self.a}'\n",
    "        \n",
    "class Divisable:\n",
    "    def __truediv__(self, b: int):\n",
    "        print('__truediv__ is called')\n",
    "        return self.a / b\n",
    "\n",
    "\n",
    "class NumberKeeper(Printable, Divisable):\n",
    "    def __init__(self, a):\n",
    "        # Вот тут появится a\n",
    "        self.a = a"
   ]
  },
  {
   "cell_type": "code",
   "execution_count": 29,
   "id": "45c394de",
   "metadata": {
    "ExecuteTime": {
     "end_time": "2022-01-30T16:29:34.522147Z",
     "start_time": "2022-01-30T16:29:34.512701Z"
    }
   },
   "outputs": [
    {
     "name": "stdout",
     "output_type": "stream",
     "text": [
      "__truediv__ is called\n"
     ]
    },
    {
     "data": {
      "text/plain": [
       "2.5"
      ]
     },
     "execution_count": 29,
     "metadata": {},
     "output_type": "execute_result"
    }
   ],
   "source": [
    "keeper = NumberKeeper(5)\n",
    "keeper / 2"
   ]
  },
  {
   "cell_type": "code",
   "execution_count": 30,
   "id": "22c513e9",
   "metadata": {
    "ExecuteTime": {
     "end_time": "2022-01-30T16:29:39.347228Z",
     "start_time": "2022-01-30T16:29:39.342030Z"
    }
   },
   "outputs": [
    {
     "name": "stdout",
     "output_type": "stream",
     "text": [
      "__str__ is called\n",
      "5\n"
     ]
    }
   ],
   "source": [
    "print(keeper)"
   ]
  },
  {
   "cell_type": "markdown",
   "id": "d02cf7db",
   "metadata": {},
   "source": [
    "## Интерфейс\n",
    "Классы позволяют проводить еще один трюк. Допустим, вы разрабатываете библиотеку для подключения к различным типам СУБД: к PostgreSQL, к ClickHouse, к MySQL и т.п.\n",
    "\n",
    "Как главный разработчик, вы принимаете решение писать по классу на каждый тип СУБД и при этом обязать всех программистов реализовать функцию `.connect()` в этих классах. С помощью ООП можно наложить это обязательство не только словами, но и кодом:"
   ]
  },
  {
   "cell_type": "code",
   "execution_count": 31,
   "id": "89095a64",
   "metadata": {
    "ExecuteTime": {
     "end_time": "2022-01-30T14:35:01.693842Z",
     "start_time": "2022-01-30T14:35:01.687527Z"
    }
   },
   "outputs": [],
   "source": [
    "import time\n",
    "\n",
    "# Создаем класс с функцией, которую требуется реализовать\n",
    "class Connectable:\n",
    "    def connect(conn_uri: str):\n",
    "        raise NotImplemented(\"you should override this method\")\n",
    "\n",
    "# И наследуемся от нее во всех классах\n",
    "class PostgresqlConnection(Connectable):\n",
    "    # теперь мы получили в наследство неисправную функцию\n",
    "    # надо ее переопределить на исправную версию\n",
    "    def connect(conn_uri: str):\n",
    "        print('connecting to postgres')\n",
    "        time.sleep(3)  # имитируем подключение к postgres :)\n",
    "        print('connection done')"
   ]
  },
  {
   "cell_type": "markdown",
   "id": "93da17b3",
   "metadata": {},
   "source": [
    "Класс `Connectable` в этом случае будет называться _интерфейсом_. Грубо говоря, интерфейс - это класс, который ничего не делает по существу и только дает обязательства на реализацию того или иного метода.\n",
    "\n",
    "Интерфейсы используются, чтобы напоминать другим разработчикам, какие методы они должны реализовать для нормальной работы класса в остальной системе :)"
   ]
  },
  {
   "cell_type": "markdown",
   "id": "ce4eae1f",
   "metadata": {},
   "source": [
    "## SOLID-принципы\n",
    "Пять принципов, по которым стоит строить классы. Не обязательно их всех запомнить, но лучше держать в голове и потихоньку к ним приближаться :)\n",
    "1. Принцип единственной ответственности (single responsibility principle)\n",
    "2. Программные сущности должны быть открыты для расширения, но закрыты для модификации».\n",
    "3. Объекты в программе должны быть заменяемыми на экземпляры их подтипов без изменения правильности выполнения программы\n",
    "4. Много интерфейсов, специально предназначенных для клиентов, лучше, чем один интерфейс общего назначения.\n",
    "5. Зависимость на Абстракциях."
   ]
  }
 ],
 "metadata": {
  "kernelspec": {
   "display_name": "Python 3",
   "language": "python",
   "name": "python3"
  },
  "language_info": {
   "codemirror_mode": {
    "name": "ipython",
    "version": 3
   },
   "file_extension": ".py",
   "mimetype": "text/x-python",
   "name": "python",
   "nbconvert_exporter": "python",
   "pygments_lexer": "ipython3",
   "version": "3.10.9"
  },
  "toc": {
   "base_numbering": 1,
   "nav_menu": {},
   "number_sections": true,
   "sideBar": true,
   "skip_h1_title": false,
   "title_cell": "Содержание",
   "title_sidebar": "Contents",
   "toc_cell": true,
   "toc_position": {},
   "toc_section_display": true,
   "toc_window_display": false
  },
  "varInspector": {
   "cols": {
    "lenName": 16,
    "lenType": 16,
    "lenVar": 40
   },
   "kernels_config": {
    "python": {
     "delete_cmd_postfix": "",
     "delete_cmd_prefix": "del ",
     "library": "var_list.py",
     "varRefreshCmd": "print(var_dic_list())"
    },
    "r": {
     "delete_cmd_postfix": ") ",
     "delete_cmd_prefix": "rm(",
     "library": "var_list.r",
     "varRefreshCmd": "cat(var_dic_list()) "
    }
   },
   "types_to_exclude": [
    "module",
    "function",
    "builtin_function_or_method",
    "instance",
    "_Feature"
   ],
   "window_display": false
  },
  "vscode": {
   "interpreter": {
    "hash": "cdaf845c447f5b8a88f1bde010b8054a6111556832cc2133cdddd7f2255dae56"
   }
  }
 },
 "nbformat": 4,
 "nbformat_minor": 5
}
