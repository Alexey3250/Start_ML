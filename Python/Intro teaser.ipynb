{
 "cells": [
  {
   "cell_type": "markdown",
   "id": "d6548d84",
   "metadata": {},
   "source": [
    "# Задача\n",
    "Распознать число на изображении\n",
    "\n",
    "`картинка числа` -> преобразуется в опознанное число"
   ]
  },
  {
   "cell_type": "code",
   "execution_count": null,
   "id": "ed453621",
   "metadata": {
    "ExecuteTime": {
     "end_time": "2021-11-29T18:04:50.655384Z",
     "start_time": "2021-11-29T18:04:50.650571Z"
    }
   },
   "outputs": [],
   "source": [
    "import numpy as np\n",
    "import pandas as pd\n",
    "import xgboost as xgb\n",
    "import requests\n",
    "import gzip\n",
    "import cv2\n",
    "import zlib\n",
    "import idx2numpy\n",
    "from sklearn.preprocessing import StandardScaler\n",
    "from sklearn.model_selection import train_test_split"
   ]
  },
  {
   "cell_type": "code",
   "execution_count": 9,
   "id": "ecacc382",
   "metadata": {
    "ExecuteTime": {
     "end_time": "2021-11-29T18:05:35.264726Z",
     "start_time": "2021-11-29T18:05:33.321537Z"
    }
   },
   "outputs": [],
   "source": [
    "def load_ubyte(url, target_file):\n",
    "    r = requests.get(url)\n",
    "    data = zlib.decompress(r.content, zlib.MAX_WBITS|32)\n",
    "    with open(target_file, 'wb') as f:\n",
    "        f.write(data)\n",
    "\n",
    "# Загрузим MNIST (рукописные изображения цифр)\n",
    "# MNIST очень популярен для проверки качества в задачах распознания объектов\n",
    "load_ubyte(\n",
    "    'http://yann.lecun.com/exdb/mnist/train-images-idx3-ubyte.gz',\n",
    "    'train_data.ubyte'\n",
    ")\n",
    "load_ubyte(\n",
    "    'http://yann.lecun.com/exdb/mnist/train-labels-idx1-ubyte.gz',\n",
    "    'train_labels.ubyte'\n",
    ")\n",
    "load_ubyte(\n",
    "    'http://yann.lecun.com/exdb/mnist/t10k-images-idx3-ubyte.gz',\n",
    "    'test_data.ubyte'\n",
    ")\n",
    "load_ubyte(\n",
    "    'http://yann.lecun.com/exdb/mnist/t10k-labels-idx1-ubyte.gz',\n",
    "    'test_labels.ubyte'\n",
    ")"
   ]
  },
  {
   "cell_type": "code",
   "execution_count": 10,
   "id": "a6a5e1c4",
   "metadata": {
    "ExecuteTime": {
     "end_time": "2021-11-29T18:05:40.316051Z",
     "start_time": "2021-11-29T18:05:40.254516Z"
    }
   },
   "outputs": [
    {
     "name": "stdout",
     "output_type": "stream",
     "text": [
      "Одна картинка - это набор пикселей:\n",
      "[  0   0   0   0   0   0   0   0   0   0   0   0   0   0   0   0   0   0  67 232  39   0]\n",
      "[  0   0  62  81   0   0   0   0   0   0   0   0   0   0   0   0   0   0 120 180  39   0]\n",
      "[  0   0 126 163   0   0   0   0   0   0   0   0   0   0   0   0   0   2 153 210  40   0]\n",
      "[  0   0 220 163   0   0   0   0   0   0   0   0   0   0   0   0   0  27 254 162   0   0]\n",
      "[  0   0 222 163   0   0   0   0   0   0   0   0   0   0   0   0   0 183 254 125   0   0]\n",
      "[  0  46 245 163   0   0   0   0   0   0   0   0   0   0   0   0   0 198 254  56   0   0]\n",
      "[  0 120 254 163   0   0   0   0   0   0   0   0   0   0   0   0  23 231 254  29   0   0]\n",
      "[  0 159 254 120   0   0   0   0   0   0   0   0   0   0   0   0 163 254 216  16   0   0]\n",
      "[  0 159 254  67   0   0   0   0   0   0   0   0   0  14  86 178 248 254  91   0   0   0]\n",
      "[  0 159 254  85   0   0   0  47  49 116 144 150 241 243 234 179 241 252  40   0   0   0]\n",
      "[  0 150 253 237 207 207 207 253 254 250 240 198 143  91  28   5 233 250   0   0   0   0]\n",
      "[  0   0 119 177 177 177 177 177  98  56   0   0   0   0   0 102 254 220   0   0   0   0]\n",
      "[  0   0   0   0   0   0   0   0   0   0   0   0   0   0   0 169 254 137   0   0   0   0]\n",
      "[  0   0   0   0   0   0   0   0   0   0   0   0   0   0   0 169 254  57   0   0   0   0]\n",
      "[  0   0   0   0   0   0   0   0   0   0   0   0   0   0   0 169 254  57   0   0   0   0]\n",
      "[  0   0   0   0   0   0   0   0   0   0   0   0   0   0   0 169 255  94   0   0   0   0]\n",
      "[  0   0   0   0   0   0   0   0   0   0   0   0   0   0   0 169 254  96   0   0   0   0]\n",
      "[  0   0   0   0   0   0   0   0   0   0   0   0   0   0   0 169 254 153   0   0   0   0]\n",
      "[  0   0   0   0   0   0   0   0   0   0   0   0   0   0   0 169 255 153   0   0   0   0]\n",
      "[  0   0   0   0   0   0   0   0   0   0   0   0   0   0   0  96 254 153   0   0   0   0]\n"
     ]
    }
   ],
   "source": [
    "# Распакуем данные и считаем картинки в массив\n",
    "train_images_file = 'train_data.ubyte'\n",
    "train_labels_file = 'train_labels.ubyte'\n",
    "test_images_file = 'test_data.ubyte'\n",
    "test_labels_file = 'test_labels.ubyte'\n",
    "\n",
    "train_images = idx2numpy.convert_from_file(train_images_file)\n",
    "train_labels = idx2numpy.convert_from_file(train_labels_file)\n",
    "test_images = idx2numpy.convert_from_file(test_images_file)\n",
    "test_labels = idx2numpy.convert_from_file(test_labels_file)\n",
    "\n",
    "np.set_printoptions(linewidth=300)\n",
    "print(f'Одна картинка - это набор пикселей:')\n",
    "print(*train_images[2][5:-3, 2:-4], sep='\\n')"
   ]
  },
  {
   "cell_type": "code",
   "execution_count": 11,
   "id": "64c3ce0a",
   "metadata": {
    "ExecuteTime": {
     "end_time": "2021-11-29T18:08:04.049371Z",
     "start_time": "2021-11-29T18:08:04.034748Z"
    }
   },
   "outputs": [],
   "source": [
    "# Модели удобнее работать с векторами - распакуем массив пикселей в вектор\n",
    "width, height = 28, 28\n",
    "pixels = width * height\n",
    "train_data = pd.DataFrame(\n",
    "    train_images.reshape(-1, pixels),\n",
    "    columns=[f'pixel_{i}' for i in range(pixels)]\n",
    ")\n",
    "test_data = pd.DataFrame(\n",
    "    test_images.reshape(-1, pixels),\n",
    "    columns=[f'pixel_{i}' for i in range(pixels)]\n",
    ")\n",
    "# Модель будет учиться по меткам, которые ей отдадут\n",
    "train_data['label'] = train_labels"
   ]
  },
  {
   "cell_type": "code",
   "execution_count": 13,
   "id": "e77e046c",
   "metadata": {
    "ExecuteTime": {
     "end_time": "2021-11-29T18:16:19.447935Z",
     "start_time": "2021-11-29T18:15:36.997148Z"
    }
   },
   "outputs": [
    {
     "name": "stdout",
     "output_type": "stream",
     "text": [
      "[0]\ttrain-merror:0.03396\tvalidation-merror:0.03667\n",
      "[1]\ttrain-merror:0.00800\tvalidation-merror:0.00883\n",
      "[2]\ttrain-merror:0.00507\tvalidation-merror:0.00583\n",
      "[3]\ttrain-merror:0.00541\tvalidation-merror:0.00633\n",
      "[4]\ttrain-merror:0.00018\tvalidation-merror:0.00033\n",
      "[5]\ttrain-merror:0.00000\tvalidation-merror:0.00000\n",
      "[6]\ttrain-merror:0.00000\tvalidation-merror:0.00000\n",
      "[7]\ttrain-merror:0.00000\tvalidation-merror:0.00000\n",
      "[8]\ttrain-merror:0.00000\tvalidation-merror:0.00000\n",
      "[9]\ttrain-merror:0.00000\tvalidation-merror:0.00000\n",
      "[10]\ttrain-merror:0.00000\tvalidation-merror:0.00000\n",
      "[11]\ttrain-merror:0.00000\tvalidation-merror:0.00000\n",
      "[12]\ttrain-merror:0.00000\tvalidation-merror:0.00000\n",
      "[13]\ttrain-merror:0.00000\tvalidation-merror:0.00000\n",
      "[14]\ttrain-merror:0.00000\tvalidation-merror:0.00000\n",
      "[15]\ttrain-merror:0.00000\tvalidation-merror:0.00000\n"
     ]
    }
   ],
   "source": [
    "##### Обучаем модель\n",
    "# Сначала приводим значения пикселей к схожему масштабу\n",
    "# В блоке \"Машинное обучение и приложения\" мы узнаем, почему это нужно\n",
    "scaler = StandardScaler()\n",
    "X_std = scaler.fit_transform(train_data.values[:, 1:])\n",
    "test_std = scaler.fit_transform(test_data.values)\n",
    "\n",
    "y_train = train_data.label\n",
    "# X_valid будет использован, чтобы досрочно завершить обучение модели,\n",
    "# если ее качество перестанет улучшаться\n",
    "X_train, X_valid, y_train, y_valid = train_test_split(\n",
    "    X_std,\n",
    "    y_train,\n",
    "    test_size=0.1,\n",
    "    random_state=42\n",
    ")\n",
    "\n",
    "# Про параметры бустинга поговорим в блоке \"Машинное обучение и приложения\"\n",
    "param_list = [\n",
    "    (\"eta\", 0.08), \n",
    "    (\"max_depth\", 6),\n",
    "    (\"subsample\", 0.8),\n",
    "    (\"colsample_bytree\", 0.8),\n",
    "    (\"objective\", \"multi:softmax\"),\n",
    "    (\"eval_metric\", \"merror\"),\n",
    "    (\"alpha\", 8),\n",
    "    (\"lambda\", 2),\n",
    "    (\"num_class\", 10)\n",
    "]\n",
    "n_rounds = 600\n",
    "# Если за последние 10 раундов модель не улучшается на валидации, прекратить обучение\n",
    "early_stopping = 10\n",
    "    \n",
    "d_train = xgb.DMatrix(X_train, label=y_train)\n",
    "d_val = xgb.DMatrix(X_valid, label=y_valid)\n",
    "eval_list = [(d_train, \"train\"), (d_val, \"validation\")]\n",
    "bst = xgb.train(\n",
    "    param_list,\n",
    "    d_train,\n",
    "    n_rounds,\n",
    "    evals=eval_list,\n",
    "    early_stopping_rounds=early_stopping,\n",
    "    verbose_eval=True\n",
    ")"
   ]
  },
  {
   "cell_type": "code",
   "execution_count": 14,
   "id": "de8b8b0e",
   "metadata": {
    "ExecuteTime": {
     "end_time": "2021-11-29T18:16:59.513370Z",
     "start_time": "2021-11-29T18:16:59.509402Z"
    }
   },
   "outputs": [],
   "source": [
    "def imshow(img):\n",
    "    import cv2\n",
    "    import IPython\n",
    "    from ipywidgets import widgets, HBox\n",
    "    _,ret = cv2.imencode('.jpg', img)\n",
    "    i = IPython.display.Image(data=ret, width=200, height=200)\n",
    "    IPython.display.display(i)"
   ]
  },
  {
   "cell_type": "code",
   "execution_count": 15,
   "id": "08818bc1",
   "metadata": {
    "ExecuteTime": {
     "end_time": "2021-11-29T18:17:10.184202Z",
     "start_time": "2021-11-29T18:17:10.158460Z"
    },
    "scrolled": false
   },
   "outputs": [
    {
     "data": {
      "image/png": "[encoded data removed]",
      "text/plain": [
       "<IPython.core.display.Image object>"
      ]
     },
     "metadata": {
      "image/png": {
       "height": 200,
       "width": 200
      }
     },
     "output_type": "display_data"
    },
    {
     "name": "stdout",
     "output_type": "stream",
     "text": [
      "Опознано число: 0\n"
     ]
    },
    {
     "data": {
      "image/png": "[encoded data removed]",
      "text/plain": [
       "<IPython.core.display.Image object>"
      ]
     },
     "metadata": {
      "image/png": {
       "height": 200,
       "width": 200
      }
     },
     "output_type": "display_data"
    },
    {
     "name": "stdout",
     "output_type": "stream",
     "text": [
      "Опознано число: 6\n"
     ]
    },
    {
     "data": {
      "image/png": "[encoded data removed]",
      "text/plain": [
       "<IPython.core.display.Image object>"
      ]
     },
     "metadata": {
      "image/png": {
       "height": 200,
       "width": 200
      }
     },
     "output_type": "display_data"
    },
    {
     "name": "stdout",
     "output_type": "stream",
     "text": [
      "Опознано число: 9\n"
     ]
    },
    {
     "data": {
      "image/png": "[encoded data removed]",
      "text/plain": [
       "<IPython.core.display.Image object>"
      ]
     },
     "metadata": {
      "image/png": {
       "height": 200,
       "width": 200
      }
     },
     "output_type": "display_data"
    },
    {
     "name": "stdout",
     "output_type": "stream",
     "text": [
      "Опознано число: 0\n"
     ]
    },
    {
     "data": {
      "image/png": "[encoded data removed]",
      "text/plain": [
       "<IPython.core.display.Image object>"
      ]
     },
     "metadata": {
      "image/png": {
       "height": 200,
       "width": 200
      }
     },
     "output_type": "display_data"
    },
    {
     "name": "stdout",
     "output_type": "stream",
     "text": [
      "Опознано число: 1\n"
     ]
    },
    {
     "data": {
      "image/png": "[encoded data removed]",
      "text/plain": [
       "<IPython.core.display.Image object>"
      ]
     },
     "metadata": {
      "image/png": {
       "height": 200,
       "width": 200
      }
     },
     "output_type": "display_data"
    },
    {
     "name": "stdout",
     "output_type": "stream",
     "text": [
      "Опознано число: 5\n"
     ]
    },
    {
     "data": {
      "image/png": "[encoded data removed]",
      "text/plain": [
       "<IPython.core.display.Image object>"
      ]
     },
     "metadata": {
      "image/png": {
       "height": 200,
       "width": 200
      }
     },
     "output_type": "display_data"
    },
    {
     "name": "stdout",
     "output_type": "stream",
     "text": [
      "Опознано число: 9\n"
     ]
    },
    {
     "data": {
      "image/png": "[encoded data removed]",
      "text/plain": [
       "<IPython.core.display.Image object>"
      ]
     },
     "metadata": {
      "image/png": {
       "height": 200,
       "width": 200
      }
     },
     "output_type": "display_data"
    },
    {
     "name": "stdout",
     "output_type": "stream",
     "text": [
      "Опознано число: 7\n"
     ]
    },
    {
     "data": {
      "image/png": "[encoded data removed]",
      "text/plain": [
       "<IPython.core.display.Image object>"
      ]
     },
     "metadata": {
      "image/png": {
       "height": 200,
       "width": 200
      }
     },
     "output_type": "display_data"
    },
    {
     "name": "stdout",
     "output_type": "stream",
     "text": [
      "Опознано число: 3\n"
     ]
    },
    {
     "data": {
      "image/png": "[encoded data removed]",
      "text/plain": [
       "<IPython.core.display.Image object>"
      ]
     },
     "metadata": {
      "image/png": {
       "height": 200,
       "width": 200
      }
     },
     "output_type": "display_data"
    },
    {
     "name": "stdout",
     "output_type": "stream",
     "text": [
      "Опознано число: 4\n"
     ]
    }
   ],
   "source": [
    "# Вы можете поиграться здесь и поменять значения offset и n_show\n",
    "# Например, если вместо 0, 10 написать 10, 30\n",
    "# то выведутся изображения с 10-го по 40-ое и опознанные моделью числа\n",
    "offset, n_show = 10, 10\n",
    "for image, label in zip(\n",
    "    test_data.values.reshape(-1, width, height)[offset:offset+n_show],\n",
    "    test_labels[offset:offset+n_show]\n",
    "):\n",
    "    imshow(image)\n",
    "    print(f'Опознано число: {label}')"
   ]
  }
 ],
 "metadata": {
  "kernelspec": {
   "display_name": "Python 3",
   "language": "python",
   "name": "python3"
  },
  "language_info": {
   "codemirror_mode": {
    "name": "ipython",
    "version": 3
   },
   "file_extension": ".py",
   "mimetype": "text/x-python",
   "name": "python",
   "nbconvert_exporter": "python",
   "pygments_lexer": "ipython3",
   "version": "3.10.9 (tags/v3.10.9:1dd9be6, Dec  6 2022, 20:01:21) [MSC v.1934 64 bit (AMD64)]"
  },
  "toc": {
   "base_numbering": 1,
   "nav_menu": {},
   "number_sections": true,
   "sideBar": true,
   "skip_h1_title": false,
   "title_cell": "Table of Contents",
   "title_sidebar": "Contents",
   "toc_cell": false,
   "toc_position": {},
   "toc_section_display": true,
   "toc_window_display": false
  },
  "varInspector": {
   "cols": {
    "lenName": 16,
    "lenType": 16,
    "lenVar": 40
   },
   "kernels_config": {
    "python": {
     "delete_cmd_postfix": "",
     "delete_cmd_prefix": "del ",
     "library": "var_list.py",
     "varRefreshCmd": "print(var_dic_list())"
    },
    "r": {
     "delete_cmd_postfix": ") ",
     "delete_cmd_prefix": "rm(",
     "library": "var_list.r",
     "varRefreshCmd": "cat(var_dic_list()) "
    }
   },
   "types_to_exclude": [
    "module",
    "function",
    "builtin_function_or_method",
    "instance",
    "_Feature"
   ],
   "window_display": false
  },
  "vscode": {
   "interpreter": {
    "hash": "cdaf845c447f5b8a88f1bde010b8054a6111556832cc2133cdddd7f2255dae56"
   }
  }
 },
 "nbformat": 4,
 "nbformat_minor": 5
}
