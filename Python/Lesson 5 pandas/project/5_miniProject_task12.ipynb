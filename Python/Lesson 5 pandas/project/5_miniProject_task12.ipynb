{
 "cells": [
  {
   "cell_type": "code",
   "execution_count": 1,
   "id": "13d72983",
   "metadata": {},
   "outputs": [
    {
     "name": "stderr",
     "output_type": "stream",
     "text": [
      "C:\\Users\\Olesia\\AppData\\Local\\Temp\\ipykernel_4048\\3039776338.py:7: FutureWarning: The default value of regex will change from True to False in a future version. In addition, single character regular expressions will *not* be treated as literal strings when regex=True.\n",
      "  playstore['price']=playstore['price'].str.replace('$','').astype({'price': 'float64'})\n"
     ]
    }
   ],
   "source": [
    "import pandas as pd\n",
    "import numpy as np\n",
    "\n",
    "# 1. Загрузите файл playstore.csv в датафрейм playstore.\n",
    "playstore = pd.read_csv('playstore.csv')\n",
    "\n",
    "# 2. Приведите названия столбцов к нижнему регистру.\n",
    "playstore.columns = [row.replace(' ','_').lower() for row in playstore.columns]\n",
    "\n",
    "# Change to datetime\n",
    "dt_tmp=pd.to_datetime(playstore['last_updated'])\n",
    "\n",
    "\n",
    "playstore['last_updated']=dt_tmp\n",
    "\n",
    "playstore['price']=playstore['price'].str.replace('$','').astype({'price': 'float64'})\n",
    "\n",
    "\n",
    "df2 = playstore.sort_values(['app', 'last_updated', 'unnamed:_0'], ascending=False) \\\n",
    ".drop_duplicates(subset=[\"app\"],ignore_index=True).pivot_table(index=[\"category\", \"type\"],\n",
    "                                                               values=['price','rating','reviews'],\n",
    "                                                               aggfunc='mean')\n",
    "df2['price']=df2['price'].apply(lambda x: round(x, 2))\n",
    "\n",
    "df2['reviews']=df2['reviews'].apply(lambda x: round(x, 2))\n",
    "\n",
    "df2['rating']=df2['rating'].apply(lambda x: round(x, 1))\n",
    "\n",
    "\n",
    "df2.columns = [f\"mean_{j}\" for j in df2.columns]\n",
    "\n",
    "df2.to_csv('5_project_task12.csv')\n",
    "\n",
    "#df2.to_csv('5_project_task12.csv', sep=',', float_format='%.2f'/"
   ]
  },
  {
   "cell_type": "code",
   "execution_count": null,
   "id": "21c816e8",
   "metadata": {},
   "outputs": [],
   "source": []
  }
 ],
 "metadata": {
  "kernelspec": {
   "display_name": "Python 3",
   "language": "python",
   "name": "python3"
  },
  "language_info": {
   "codemirror_mode": {
    "name": "ipython",
    "version": 3
   },
   "file_extension": ".py",
   "mimetype": "text/x-python",
   "name": "python",
   "nbconvert_exporter": "python",
   "pygments_lexer": "ipython3",
   "version": "3.10.9 (tags/v3.10.9:1dd9be6, Dec  6 2022, 20:01:21) [MSC v.1934 64 bit (AMD64)]"
  },
  "vscode": {
   "interpreter": {
    "hash": "cdaf845c447f5b8a88f1bde010b8054a6111556832cc2133cdddd7f2255dae56"
   }
  }
 },
 "nbformat": 4,
 "nbformat_minor": 5
}
