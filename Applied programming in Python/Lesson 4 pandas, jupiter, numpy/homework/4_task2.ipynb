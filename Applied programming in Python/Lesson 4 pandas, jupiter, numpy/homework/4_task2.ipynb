{
 "cells": [
  {
   "cell_type": "markdown",
   "id": "f8a7a435",
   "metadata": {},
   "source": [
    "# Идемпотентность: что такое и зачем"
   ]
  },
  {
   "cell_type": "code",
   "execution_count": 137,
   "id": "ce7946b6",
   "metadata": {
    "ExecuteTime": {
     "end_time": "2022-02-02T16:20:05.008106Z",
     "start_time": "2022-02-02T16:20:05.004189Z"
    }
   },
   "outputs": [],
   "source": [
    "credit_payments2 = []"
   ]
  },
  {
   "cell_type": "markdown",
   "id": "716f4878",
   "metadata": {},
   "source": [
    "Идемпотентность - это свойство операции, когда при ее повторении результат операции получается такой же.\n",
    "\n",
    "Для Jupyter Notebook это весьма полезное свойство: если вы сделаете так, что при перезапуске ячейки результат будет такой же, то разработка станет проще. Сейчас мы на практике увидим, как это происходит :)\n",
    "\n",
    "В Jupyter Notebook может быть много ячеек и часто легко забыть, когда и где были проинициализированы переменные. Если в ячейках отсутствует _идемпотентность_, то результат будет непредсказуемым."
   ]
  },
  {
   "cell_type": "code",
   "execution_count": 138,
   "id": "5fde8f48",
   "metadata": {},
   "outputs": [
    {
     "name": "stdout",
     "output_type": "stream",
     "text": [
      "num_records    5\n",
      "value          7\n",
      "total          9\n",
      "dtype: int64\n",
      "1    1\n",
      "4    1\n",
      "Name: num_records, dtype: int64\n"
     ]
    },
    {
     "data": {
      "text/html": [
       "<div>\n",
       "<style scoped>\n",
       "    .dataframe tbody tr th:only-of-type {\n",
       "        vertical-align: middle;\n",
       "    }\n",
       "\n",
       "    .dataframe tbody tr th {\n",
       "        vertical-align: top;\n",
       "    }\n",
       "\n",
       "    .dataframe thead th {\n",
       "        text-align: right;\n",
       "    }\n",
       "</style>\n",
       "<table border=\"1\" class=\"dataframe\">\n",
       "  <thead>\n",
       "    <tr style=\"text-align: right;\">\n",
       "      <th></th>\n",
       "      <th>num_records</th>\n",
       "      <th>value</th>\n",
       "      <th>total</th>\n",
       "    </tr>\n",
       "  </thead>\n",
       "  <tbody>\n",
       "    <tr>\n",
       "      <th>0</th>\n",
       "      <td>1</td>\n",
       "      <td>2</td>\n",
       "      <td>3</td>\n",
       "    </tr>\n",
       "    <tr>\n",
       "      <th>1</th>\n",
       "      <td>4</td>\n",
       "      <td>5</td>\n",
       "      <td>6</td>\n",
       "    </tr>\n",
       "  </tbody>\n",
       "</table>\n",
       "</div>"
      ],
      "text/plain": [
       "   num_records  value  total\n",
       "0            1      2      3\n",
       "1            4      5      6"
      ]
     },
     "execution_count": 138,
     "metadata": {},
     "output_type": "execute_result"
    }
   ],
   "source": [
    "# OLD experiment. todo: remove it\n",
    "import pandas as pd\n",
    "\n",
    "\n",
    "df = pd.DataFrame(\n",
    "    [[1, 2, 3],\n",
    "    [4, 5, 6]],\n",
    "    columns=['num_records', 'value', 'total']\n",
    ")\n",
    "print(df.sum())\n",
    "\n",
    "print(df['num_records'].value_counts())\n",
    "\n",
    "df.head()"
   ]
  },
  {
   "cell_type": "code",
   "execution_count": 204,
   "id": "91b8457a",
   "metadata": {
    "ExecuteTime": {
     "end_time": "2022-02-02T16:23:04.103032Z",
     "start_time": "2022-02-02T16:23:04.065788Z"
    }
   },
   "outputs": [
    {
     "name": "stdout",
     "output_type": "stream",
     "text": [
      "0.007999897003173828\n",
      "0.033337\n"
     ]
    }
   ],
   "source": [
    "import time\n",
    "\n",
    "\n",
    "start = time.time()\n",
    "#credit_payments.append(5)\n",
    "for i in range(int(1e5)):\n",
    "    credit_payments = []\n",
    "    credit_payments.append((i % 7 + i // 3) / 1e6)\n",
    "\n",
    "end = time.time()\n",
    "print(end - start)\n",
    "print(sum(credit_payments))"
   ]
  }
 ],
 "metadata": {
  "kernelspec": {
   "display_name": "Python 3",
   "language": "python",
   "name": "python3"
  },
  "language_info": {
   "codemirror_mode": {
    "name": "ipython",
    "version": 3
   },
   "file_extension": ".py",
   "mimetype": "text/x-python",
   "name": "python",
   "nbconvert_exporter": "python",
   "pygments_lexer": "ipython3",
   "version": "3.10.9"
  },
  "toc": {
   "base_numbering": 1,
   "nav_menu": {},
   "number_sections": true,
   "sideBar": true,
   "skip_h1_title": false,
   "title_cell": "Table of Contents",
   "title_sidebar": "Contents",
   "toc_cell": false,
   "toc_position": {},
   "toc_section_display": true,
   "toc_window_display": false
  },
  "varInspector": {
   "cols": {
    "lenName": 16,
    "lenType": 16,
    "lenVar": 40
   },
   "kernels_config": {
    "python": {
     "delete_cmd_postfix": "",
     "delete_cmd_prefix": "del ",
     "library": "var_list.py",
     "varRefreshCmd": "print(var_dic_list())"
    },
    "r": {
     "delete_cmd_postfix": ") ",
     "delete_cmd_prefix": "rm(",
     "library": "var_list.r",
     "varRefreshCmd": "cat(var_dic_list()) "
    }
   },
   "types_to_exclude": [
    "module",
    "function",
    "builtin_function_or_method",
    "instance",
    "_Feature"
   ],
   "window_display": false
  },
  "vscode": {
   "interpreter": {
    "hash": "cdaf845c447f5b8a88f1bde010b8054a6111556832cc2133cdddd7f2255dae56"
   }
  }
 },
 "nbformat": 4,
 "nbformat_minor": 5
}
