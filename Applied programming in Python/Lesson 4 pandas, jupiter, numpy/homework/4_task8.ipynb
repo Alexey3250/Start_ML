{
 "cells": [
  {
   "cell_type": "code",
   "execution_count": 7,
   "id": "1cca2d70",
   "metadata": {
    "ExecuteTime": {
     "end_time": "2022-02-02T19:39:19.216725Z",
     "start_time": "2022-02-02T19:39:19.213633Z"
    }
   },
   "outputs": [],
   "source": [
    "def gcd(a, b):\n",
    "    if a < b:\n",
    "        b, a = a, b\n",
    "    while b != 0:\n",
    "        a, b = a % b, a\n",
    "    print(a)"
   ]
  },
  {
   "cell_type": "code",
   "execution_count": 8,
   "id": "7c40cabd",
   "metadata": {
    "ExecuteTime": {
     "end_time": "2022-02-02T19:39:23.104767Z",
     "start_time": "2022-02-02T19:39:19.499669Z"
    }
   },
   "outputs": [
    {
     "name": "stdout",
     "output_type": "stream",
     "text": [
      "0\n"
     ]
    }
   ],
   "source": [
    "gcd(5, 10)"
   ]
  },
  {
   "cell_type": "code",
   "execution_count": null,
   "id": "049b7f60",
   "metadata": {
    "ExecuteTime": {
     "end_time": "2022-02-02T19:46:51.037347Z",
     "start_time": "2022-02-02T19:46:51.034432Z"
    }
   },
   "outputs": [],
   "source": [
    "print('success')"
   ]
  }
 ],
 "metadata": {
  "kernelspec": {
   "display_name": "Python 3",
   "language": "python",
   "name": "python3"
  },
  "language_info": {
   "codemirror_mode": {
    "name": "ipython",
    "version": 3
   },
   "file_extension": ".py",
   "mimetype": "text/x-python",
   "name": "python",
   "nbconvert_exporter": "python",
   "pygments_lexer": "ipython3",
   "version": "3.10.9"
  },
  "toc": {
   "base_numbering": 1,
   "nav_menu": {},
   "number_sections": true,
   "sideBar": true,
   "skip_h1_title": false,
   "title_cell": "Table of Contents",
   "title_sidebar": "Contents",
   "toc_cell": false,
   "toc_position": {},
   "toc_section_display": true,
   "toc_window_display": false
  },
  "varInspector": {
   "cols": {
    "lenName": 16,
    "lenType": 16,
    "lenVar": 40
   },
   "kernels_config": {
    "python": {
     "delete_cmd_postfix": "",
     "delete_cmd_prefix": "del ",
     "library": "var_list.py",
     "varRefreshCmd": "print(var_dic_list())"
    },
    "r": {
     "delete_cmd_postfix": ") ",
     "delete_cmd_prefix": "rm(",
     "library": "var_list.r",
     "varRefreshCmd": "cat(var_dic_list()) "
    }
   },
   "types_to_exclude": [
    "module",
    "function",
    "builtin_function_or_method",
    "instance",
    "_Feature"
   ],
   "window_display": false
  },
  "vscode": {
   "interpreter": {
    "hash": "cdaf845c447f5b8a88f1bde010b8054a6111556832cc2133cdddd7f2255dae56"
   }
  }
 },
 "nbformat": 4,
 "nbformat_minor": 5
}
