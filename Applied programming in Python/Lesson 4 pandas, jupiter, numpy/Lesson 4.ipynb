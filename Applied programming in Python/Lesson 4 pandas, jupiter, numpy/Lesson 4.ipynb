{
 "cells": [
  {
   "cell_type": "markdown",
   "id": "ec79bfc1",
   "metadata": {},
   "source": [
    "# Обзор jupyter, numpy, pandas, matplotlib\n",
    "\n",
    "Наших знаний достаточно, чтобы наконец познакомиться с главными инструментами в арсенале DS: `numpy`, `pandas`, `matplotlib`.\n",
    "Более того, мы достаточно освоились в Jupyter Notebook, чтобы пользоваться его продвинутыми командами.\n",
    "\n",
    "Почему изучать именно эти библиотеки?\n",
    "Без `pandas` не проходит и дня в работе DS: он используется для исследования данных, их преобразования, проверки гипотез, загрузки/выгрузки и много другого.\n",
    "`pandas` очень шустро работает, намного быстрее встренных в Python возможностей.\n",
    "\n",
    "Высокая скорость обработки в `pandas` дарит нам библиотека `numpy`. Хотя `numpy` сам по себе используется чуть реже в анализе данных, он очень важен - многие библиотеки для ML \"под капотом\" используют `numpy` для быстрых вычислений. О нем более подробно поговорим в блоке про машинное обучение.\n",
    "\n",
    "Наконец, для любого хорошего отчета необходима визуализация результатов. Для построения графиков чаще всего используется `matplotlib` и основнные на ней библиотеки (`seaborn`, к примеру). Про визуализацию подробнее поговорим в модуле \"Машинное обучение\".\n",
    "\n",
    "Поехали! Сначала разберемся с плюшками Jupyter Notebook, затем обзорно пройдемся по `numpy`, `pandas` и `matplotib`. В таком порядке будет удобнее знакомиться с каждым инструментом.\n",
    "\n",
    "## Jupyter: продвинутые команды"
   ]
  },
  {
   "cell_type": "markdown",
   "id": "5bab6e07",
   "metadata": {},
   "source": [
    "### Ячейки\n",
    "Весь Jupyter notebook состоит из _ячеек_ (англ. _cell_).\n",
    "\n",
    "Ячейки в ноутбуке бывают трех типов:\n",
    "1. `code` - содержат Python-код, который Jupyter выполнит.\n",
    "2. `text` - содержат текст в разметке Markdown.\n",
    "3. `raw` - содержат любые символы, которые Jupyter не будет пытаться как-либо выполнить (на практике используется редко).\n",
    "\n",
    "Эта ячейка имеет тип `text`, и в ней написан текст. Если вы кликнете по ней два раза, то откроется исходный код текста - он станет немного другим.\n",
    "Все дело в разметке: Markdown использует специальные символы для обозначения привычных вещей в тексте. Попробуйте кликнуть два раза по этому тексту и посмотрите на результат.\n",
    "\n",
    "Чтобы выйти из исходного кода, можно нажать `Esc` (фон текста станет серее), но текст при этом останется некрасивым (или, корректнее, без применения разметки) - jupyter не прогонит его через себя и не превратит в красивый текст. Чтобы попросить Jupyter применить разметку, надо кликнуть на ячейку и нажать `Ctrl + Enter`.\n",
    "\n",
    "Разметка Markdown проста и очень рекомендуется к изучению. Многие программные проекты используют ее для ведения документации (можно сказать, он так же часто используется для текстов в программирвании, как Word в бухгалтерии).\n",
    "[Начать можно отсюда](https://www.markdownguide.org/getting-started/)."
   ]
  },
  {
   "cell_type": "markdown",
   "id": "62437843",
   "metadata": {},
   "source": [
    "### Горячие клавиши\n",
    "В Jupyter notebook много горячих клавиш (англ. _hotkey_). Это такие кнопки наподобие `Ctrl + C`, которые делают определенное действие.\n",
    "\n",
    "Чтобы пользоваться горячими клавишами, надо выйти из режима редактирования текста - нажать `esc`. Курсор в тексте должен пропасть.\n",
    "Горячих клавиш много, поэтому дадим список самых популярных:\n",
    "\n",
    "- `esc` - выйти из режима редактирования ячейки\n",
    "- `b` (как _below_) - создать ячейку внизу с типом `code`\n",
    "- `a` (как _above_) - создать ячейку сверху с типом `code`\n",
    "- `y` - сделать выбранной ячейке (это ячейка, вокруг которой зеленая рамка) тип `code`\n",
    "- `m` (как _markdown_) - сделать выбранной ячейке тип `text`\n",
    "- `dd` (как _delete_, только дважды) - удалить выбранную ячейку\n",
    "- `x` - удалить ячейку и сохранить во временную память (не `Ctrl + C` - у jupyter на ячейки отдельный буфер обмена)\n",
    "- `c` - скопировать ячейку и сохранить во временную память\n",
    "- `v` - вставить ячейку из временной памяти _под_ текущей\n",
    "- `V` (`shift + v`) - вставить ячейку из временной памяти _над_ текущей\n",
    "- стрелка вниз - выбрать ячейку ниже\n",
    "- стрелка вверх - выбрать ячейку выше\n",
    "- `Ctrl + Enter` - исполнить текущую ячейку\n",
    "- `Shift + Enter` - исполнить текущую ячейку и выбрать ячейку ниже\n",
    "\n",
    "Попробуйте поиграть с этой ячейкой:\n",
    "1. Создать под ней ячейку, превратить в тип `text` и написать туда, что вы ели сегодня на завтрак.\n",
    "2. Скопиривать ячейку с завтраком, вставить _над_ ней, дать тип `code` и отредактировать в `print('hello')`.\n",
    "3. Перейти на ячейку с завтраком и вырезать ее.\n",
    "4. Вставить ячейку с завтраком.\n",
    "\n",
    "Использования hotkeys неплохо экономит время на практике."
   ]
  },
  {
   "cell_type": "markdown",
   "id": "0a2bc3bd",
   "metadata": {},
   "source": [
    "### Магические команды\n",
    "\n",
    "Магические команды (англ. _magic commands_) - это дополнительная функциональность Jupyter, которая дает возможность менять поведение кода, добавлять подсчеты и чуть-чуть упрощает работу.\n",
    "Давайте посмотрим на пример:"
   ]
  },
  {
   "cell_type": "code",
   "execution_count": 8,
   "id": "f2d78bd1",
   "metadata": {
    "ExecuteTime": {
     "end_time": "2022-01-17T16:59:46.254976Z",
     "start_time": "2022-01-17T16:59:46.247415Z"
    }
   },
   "outputs": [
    {
     "name": "stdout",
     "output_type": "stream",
     "text": [
      "CPU times: user 2 µs, sys: 1e+03 ns, total: 3 µs\n",
      "Wall time: 5.72 µs\n"
     ]
    },
    {
     "data": {
      "text/plain": [
       "1000000000000.0"
      ]
     },
     "execution_count": 8,
     "metadata": {},
     "output_type": "execute_result"
    }
   ],
   "source": [
    "%time 1e6 ** 2"
   ]
  },
  {
   "cell_type": "code",
   "execution_count": 15,
   "id": "4df22b61",
   "metadata": {
    "ExecuteTime": {
     "end_time": "2022-01-17T17:05:30.879754Z",
     "start_time": "2022-01-17T17:05:25.036108Z"
    }
   },
   "outputs": [
    {
     "name": "stdout",
     "output_type": "stream",
     "text": [
      "CPU times: user 5.71 s, sys: 59.7 ms, total: 5.77 s\n",
      "Wall time: 5.84 s\n"
     ]
    }
   ],
   "source": [
    "%%time\n",
    "# Все magic commands начинаются с символа % и далее идет название\n",
    "# Эта магия подсчитает время выполнения одной команды под ней\n",
    "import numpy as np\n",
    "for i in range(int(1e7)):\n",
    "    i**2"
   ]
  },
  {
   "cell_type": "markdown",
   "id": "5976cd4a",
   "metadata": {},
   "source": [
    "Магия с двумя `%%` будет действовать на всю ячейку, но должна быть поддержка со стороны magic command.\n",
    "`%time` по-умолчанию не работает с `%%`, надо ставить расширение на jupyter."
   ]
  },
  {
   "cell_type": "code",
   "execution_count": 18,
   "id": "77bb351d",
   "metadata": {
    "ExecuteTime": {
     "end_time": "2022-01-17T17:08:59.431109Z",
     "start_time": "2022-01-17T17:08:55.820755Z"
    },
    "scrolled": true
   },
   "outputs": [
    {
     "name": "stdout",
     "output_type": "stream",
     "text": [
      "Requirement already satisfied: notebook in /Users/ruapyyj/.pyenv/versions/3.9.5/Library/Frameworks/Python.framework/Versions/3.9/lib/python3.9/site-packages (6.4.0)\n",
      "Requirement already satisfied: terminado>=0.8.3 in /Users/ruapyyj/.pyenv/versions/3.9.5/Library/Frameworks/Python.framework/Versions/3.9/lib/python3.9/site-packages (from notebook) (0.10.0)\n",
      "Requirement already satisfied: pyzmq>=17 in /Users/ruapyyj/.pyenv/versions/3.9.5/Library/Frameworks/Python.framework/Versions/3.9/lib/python3.9/site-packages (from notebook) (22.1.0)\n",
      "Requirement already satisfied: jinja2 in /Users/ruapyyj/.pyenv/versions/3.9.5/Library/Frameworks/Python.framework/Versions/3.9/lib/python3.9/site-packages (from notebook) (3.0.1)\n",
      "Requirement already satisfied: ipykernel in /Users/ruapyyj/.pyenv/versions/3.9.5/Library/Frameworks/Python.framework/Versions/3.9/lib/python3.9/site-packages (from notebook) (5.5.5)\n",
      "Requirement already satisfied: tornado>=6.1 in /Users/ruapyyj/.pyenv/versions/3.9.5/Library/Frameworks/Python.framework/Versions/3.9/lib/python3.9/site-packages (from notebook) (6.1)\n",
      "Requirement already satisfied: nbconvert in /Users/ruapyyj/.pyenv/versions/3.9.5/Library/Frameworks/Python.framework/Versions/3.9/lib/python3.9/site-packages (from notebook) (6.0.7)\n",
      "Requirement already satisfied: jupyter-core>=4.6.1 in /Users/ruapyyj/.pyenv/versions/3.9.5/Library/Frameworks/Python.framework/Versions/3.9/lib/python3.9/site-packages (from notebook) (4.7.1)\n",
      "Requirement already satisfied: Send2Trash>=1.5.0 in /Users/ruapyyj/.pyenv/versions/3.9.5/Library/Frameworks/Python.framework/Versions/3.9/lib/python3.9/site-packages (from notebook) (1.5.0)\n",
      "Requirement already satisfied: ipython-genutils in /Users/ruapyyj/.pyenv/versions/3.9.5/Library/Frameworks/Python.framework/Versions/3.9/lib/python3.9/site-packages (from notebook) (0.2.0)\n",
      "Requirement already satisfied: prometheus-client in /Users/ruapyyj/.pyenv/versions/3.9.5/Library/Frameworks/Python.framework/Versions/3.9/lib/python3.9/site-packages (from notebook) (0.10.1)\n",
      "Requirement already satisfied: nbformat in /Users/ruapyyj/.pyenv/versions/3.9.5/Library/Frameworks/Python.framework/Versions/3.9/lib/python3.9/site-packages (from notebook) (5.1.3)\n",
      "Requirement already satisfied: traitlets>=4.2.1 in /Users/ruapyyj/.pyenv/versions/3.9.5/Library/Frameworks/Python.framework/Versions/3.9/lib/python3.9/site-packages (from notebook) (5.0.5)\n",
      "Requirement already satisfied: jupyter-client>=5.3.4 in /Users/ruapyyj/.pyenv/versions/3.9.5/Library/Frameworks/Python.framework/Versions/3.9/lib/python3.9/site-packages (from notebook) (6.1.12)\n",
      "Requirement already satisfied: argon2-cffi in /Users/ruapyyj/.pyenv/versions/3.9.5/Library/Frameworks/Python.framework/Versions/3.9/lib/python3.9/site-packages (from notebook) (20.1.0)\n",
      "Requirement already satisfied: python-dateutil>=2.1 in /Users/ruapyyj/.pyenv/versions/3.9.5/Library/Frameworks/Python.framework/Versions/3.9/lib/python3.9/site-packages (from jupyter-client>=5.3.4->notebook) (2.8.1)\n",
      "Requirement already satisfied: ptyprocess in /Users/ruapyyj/.pyenv/versions/3.9.5/Library/Frameworks/Python.framework/Versions/3.9/lib/python3.9/site-packages (from terminado>=0.8.3->notebook) (0.7.0)\n",
      "Requirement already satisfied: cffi>=1.0.0 in /Users/ruapyyj/.pyenv/versions/3.9.5/Library/Frameworks/Python.framework/Versions/3.9/lib/python3.9/site-packages (from argon2-cffi->notebook) (1.14.5)\n",
      "Requirement already satisfied: six in /Users/ruapyyj/.pyenv/versions/3.9.5/Library/Frameworks/Python.framework/Versions/3.9/lib/python3.9/site-packages (from argon2-cffi->notebook) (1.16.0)\n",
      "Requirement already satisfied: appnope in /Users/ruapyyj/.pyenv/versions/3.9.5/Library/Frameworks/Python.framework/Versions/3.9/lib/python3.9/site-packages (from ipykernel->notebook) (0.1.2)\n",
      "Requirement already satisfied: ipython>=5.0.0 in /Users/ruapyyj/.pyenv/versions/3.9.5/Library/Frameworks/Python.framework/Versions/3.9/lib/python3.9/site-packages (from ipykernel->notebook) (7.24.0)\n",
      "Requirement already satisfied: MarkupSafe>=2.0 in /Users/ruapyyj/.pyenv/versions/3.9.5/Library/Frameworks/Python.framework/Versions/3.9/lib/python3.9/site-packages (from jinja2->notebook) (2.0.1)\n",
      "Requirement already satisfied: testpath in /Users/ruapyyj/.pyenv/versions/3.9.5/Library/Frameworks/Python.framework/Versions/3.9/lib/python3.9/site-packages (from nbconvert->notebook) (0.5.0)\n",
      "Requirement already satisfied: pygments>=2.4.1 in /Users/ruapyyj/.pyenv/versions/3.9.5/Library/Frameworks/Python.framework/Versions/3.9/lib/python3.9/site-packages (from nbconvert->notebook) (2.9.0)\n",
      "Requirement already satisfied: mistune<2,>=0.8.1 in /Users/ruapyyj/.pyenv/versions/3.9.5/Library/Frameworks/Python.framework/Versions/3.9/lib/python3.9/site-packages (from nbconvert->notebook) (0.8.4)\n",
      "Requirement already satisfied: bleach in /Users/ruapyyj/.pyenv/versions/3.9.5/Library/Frameworks/Python.framework/Versions/3.9/lib/python3.9/site-packages (from nbconvert->notebook) (3.3.0)\n",
      "Requirement already satisfied: pandocfilters>=1.4.1 in /Users/ruapyyj/.pyenv/versions/3.9.5/Library/Frameworks/Python.framework/Versions/3.9/lib/python3.9/site-packages (from nbconvert->notebook) (1.4.3)\n",
      "Requirement already satisfied: nbclient<0.6.0,>=0.5.0 in /Users/ruapyyj/.pyenv/versions/3.9.5/Library/Frameworks/Python.framework/Versions/3.9/lib/python3.9/site-packages (from nbconvert->notebook) (0.5.3)\n",
      "Requirement already satisfied: jupyterlab-pygments in /Users/ruapyyj/.pyenv/versions/3.9.5/Library/Frameworks/Python.framework/Versions/3.9/lib/python3.9/site-packages (from nbconvert->notebook) (0.1.2)\n",
      "Requirement already satisfied: entrypoints>=0.2.2 in /Users/ruapyyj/.pyenv/versions/3.9.5/Library/Frameworks/Python.framework/Versions/3.9/lib/python3.9/site-packages (from nbconvert->notebook) (0.3)\n",
      "Requirement already satisfied: defusedxml in /Users/ruapyyj/.pyenv/versions/3.9.5/Library/Frameworks/Python.framework/Versions/3.9/lib/python3.9/site-packages (from nbconvert->notebook) (0.7.1)\n",
      "Requirement already satisfied: jsonschema!=2.5.0,>=2.4 in /Users/ruapyyj/.pyenv/versions/3.9.5/Library/Frameworks/Python.framework/Versions/3.9/lib/python3.9/site-packages (from nbformat->notebook) (3.2.0)\n",
      "Requirement already satisfied: pycparser in /Users/ruapyyj/.pyenv/versions/3.9.5/Library/Frameworks/Python.framework/Versions/3.9/lib/python3.9/site-packages (from cffi>=1.0.0->argon2-cffi->notebook) (2.20)\n",
      "Requirement already satisfied: prompt-toolkit!=3.0.0,!=3.0.1,<3.1.0,>=2.0.0 in /Users/ruapyyj/.pyenv/versions/3.9.5/Library/Frameworks/Python.framework/Versions/3.9/lib/python3.9/site-packages (from ipython>=5.0.0->ipykernel->notebook) (3.0.18)\n",
      "Requirement already satisfied: jedi>=0.16 in /Users/ruapyyj/.pyenv/versions/3.9.5/Library/Frameworks/Python.framework/Versions/3.9/lib/python3.9/site-packages (from ipython>=5.0.0->ipykernel->notebook) (0.18.0)\n",
      "Requirement already satisfied: matplotlib-inline in /Users/ruapyyj/.pyenv/versions/3.9.5/Library/Frameworks/Python.framework/Versions/3.9/lib/python3.9/site-packages (from ipython>=5.0.0->ipykernel->notebook) (0.1.2)\n",
      "Requirement already satisfied: backcall in /Users/ruapyyj/.pyenv/versions/3.9.5/Library/Frameworks/Python.framework/Versions/3.9/lib/python3.9/site-packages (from ipython>=5.0.0->ipykernel->notebook) (0.2.0)\n",
      "Requirement already satisfied: pexpect>4.3 in /Users/ruapyyj/.pyenv/versions/3.9.5/Library/Frameworks/Python.framework/Versions/3.9/lib/python3.9/site-packages (from ipython>=5.0.0->ipykernel->notebook) (4.8.0)\n",
      "Requirement already satisfied: setuptools>=18.5 in /Users/ruapyyj/.pyenv/versions/3.9.5/Library/Frameworks/Python.framework/Versions/3.9/lib/python3.9/site-packages (from ipython>=5.0.0->ipykernel->notebook) (56.0.0)\n",
      "Requirement already satisfied: decorator in /Users/ruapyyj/.pyenv/versions/3.9.5/Library/Frameworks/Python.framework/Versions/3.9/lib/python3.9/site-packages (from ipython>=5.0.0->ipykernel->notebook) (5.0.9)\n",
      "Requirement already satisfied: pickleshare in /Users/ruapyyj/.pyenv/versions/3.9.5/Library/Frameworks/Python.framework/Versions/3.9/lib/python3.9/site-packages (from ipython>=5.0.0->ipykernel->notebook) (0.7.5)\n",
      "Requirement already satisfied: attrs>=17.4.0 in /Users/ruapyyj/.pyenv/versions/3.9.5/Library/Frameworks/Python.framework/Versions/3.9/lib/python3.9/site-packages (from jsonschema!=2.5.0,>=2.4->nbformat->notebook) (21.2.0)\n",
      "Requirement already satisfied: pyrsistent>=0.14.0 in /Users/ruapyyj/.pyenv/versions/3.9.5/Library/Frameworks/Python.framework/Versions/3.9/lib/python3.9/site-packages (from jsonschema!=2.5.0,>=2.4->nbformat->notebook) (0.17.3)\n",
      "Requirement already satisfied: async-generator in /Users/ruapyyj/.pyenv/versions/3.9.5/Library/Frameworks/Python.framework/Versions/3.9/lib/python3.9/site-packages (from nbclient<0.6.0,>=0.5.0->nbconvert->notebook) (1.10)\n",
      "Requirement already satisfied: nest-asyncio in /Users/ruapyyj/.pyenv/versions/3.9.5/Library/Frameworks/Python.framework/Versions/3.9/lib/python3.9/site-packages (from nbclient<0.6.0,>=0.5.0->nbconvert->notebook) (1.5.1)\n",
      "Requirement already satisfied: webencodings in /Users/ruapyyj/.pyenv/versions/3.9.5/Library/Frameworks/Python.framework/Versions/3.9/lib/python3.9/site-packages (from bleach->nbconvert->notebook) (0.5.1)\n",
      "Requirement already satisfied: packaging in /Users/ruapyyj/.pyenv/versions/3.9.5/Library/Frameworks/Python.framework/Versions/3.9/lib/python3.9/site-packages (from bleach->nbconvert->notebook) (20.9)\n",
      "Requirement already satisfied: parso<0.9.0,>=0.8.0 in /Users/ruapyyj/.pyenv/versions/3.9.5/Library/Frameworks/Python.framework/Versions/3.9/lib/python3.9/site-packages (from jedi>=0.16->ipython>=5.0.0->ipykernel->notebook) (0.8.2)\n",
      "Requirement already satisfied: wcwidth in /Users/ruapyyj/.pyenv/versions/3.9.5/Library/Frameworks/Python.framework/Versions/3.9/lib/python3.9/site-packages (from prompt-toolkit!=3.0.0,!=3.0.1,<3.1.0,>=2.0.0->ipython>=5.0.0->ipykernel->notebook) (0.2.5)\n",
      "Requirement already satisfied: pyparsing>=2.0.2 in /Users/ruapyyj/.pyenv/versions/3.9.5/Library/Frameworks/Python.framework/Versions/3.9/lib/python3.9/site-packages (from packaging->bleach->nbconvert->notebook) (2.4.7)\n"
     ]
    }
   ],
   "source": [
    "# Через ! можно сказать jupyter, что вся команду надо выполнить\n",
    "# в терминале системы\n",
    "# Jupyter поймет, что это не Python код\n",
    "!pip install notebook"
   ]
  },
  {
   "cell_type": "code",
   "execution_count": 25,
   "id": "b689dc17",
   "metadata": {
    "ExecuteTime": {
     "end_time": "2022-01-17T17:16:26.223165Z",
     "start_time": "2022-01-17T17:16:20.473418Z"
    }
   },
   "outputs": [
    {
     "name": "stdout",
     "output_type": "stream",
     "text": [
      "719 ms ± 48.1 ms per loop (mean ± std. dev. of 7 runs, 1 loop each)\n"
     ]
    }
   ],
   "source": [
    "import numpy as np\n",
    "%timeit np.array([i**2 for i in range(int(1e6))])"
   ]
  },
  {
   "cell_type": "markdown",
   "id": "054d86ef",
   "metadata": {},
   "source": [
    "Обратите внимание: когда ячейка выполняется, она выглядит вот так:\n",
    "```\n",
    "In [*]:\n",
    "```\n",
    "а когда ячейка выполнена, она выглядит как\n",
    "```\n",
    "In [14]:\n",
    "```\n",
    "\n",
    "Это отличительный знак: когда Jupyter ждет выполнения ячейки, он выставляет в `In [...]` звездочку."
   ]
  },
  {
   "cell_type": "code",
   "execution_count": 35,
   "id": "df3207e8",
   "metadata": {
    "ExecuteTime": {
     "end_time": "2022-01-17T17:20:18.624796Z",
     "start_time": "2022-01-17T17:20:18.618351Z"
    }
   },
   "outputs": [
    {
     "data": {
      "application/json": {
       "cell": {
        "!": "OSMagics",
        "HTML": "Other",
        "SVG": "Other",
        "bash": "Other",
        "capture": "ExecutionMagics",
        "debug": "ExecutionMagics",
        "file": "Other",
        "html": "DisplayMagics",
        "javascript": "DisplayMagics",
        "js": "DisplayMagics",
        "latex": "DisplayMagics",
        "markdown": "DisplayMagics",
        "perl": "Other",
        "prun": "ExecutionMagics",
        "pypy": "Other",
        "python": "Other",
        "python2": "Other",
        "python3": "Other",
        "ruby": "Other",
        "script": "ScriptMagics",
        "sh": "Other",
        "svg": "DisplayMagics",
        "sx": "OSMagics",
        "system": "OSMagics",
        "time": "ExecutionMagics",
        "timeit": "ExecutionMagics",
        "writefile": "OSMagics"
       },
       "line": {
        "alias": "OSMagics",
        "alias_magic": "BasicMagics",
        "autoawait": "AsyncMagics",
        "autocall": "AutoMagics",
        "automagic": "AutoMagics",
        "autosave": "KernelMagics",
        "bookmark": "OSMagics",
        "cat": "Other",
        "cd": "OSMagics",
        "clear": "KernelMagics",
        "colors": "BasicMagics",
        "conda": "PackagingMagics",
        "config": "ConfigMagics",
        "connect_info": "KernelMagics",
        "cp": "Other",
        "debug": "ExecutionMagics",
        "dhist": "OSMagics",
        "dirs": "OSMagics",
        "doctest_mode": "BasicMagics",
        "ed": "Other",
        "edit": "KernelMagics",
        "env": "OSMagics",
        "gui": "BasicMagics",
        "hist": "Other",
        "history": "HistoryMagics",
        "killbgscripts": "ScriptMagics",
        "ldir": "Other",
        "less": "KernelMagics",
        "lf": "Other",
        "lk": "Other",
        "ll": "Other",
        "load": "CodeMagics",
        "load_ext": "ExtensionMagics",
        "loadpy": "CodeMagics",
        "logoff": "LoggingMagics",
        "logon": "LoggingMagics",
        "logstart": "LoggingMagics",
        "logstate": "LoggingMagics",
        "logstop": "LoggingMagics",
        "ls": "Other",
        "lsmagic": "BasicMagics",
        "lx": "Other",
        "macro": "ExecutionMagics",
        "magic": "BasicMagics",
        "man": "KernelMagics",
        "matplotlib": "PylabMagics",
        "mkdir": "Other",
        "more": "KernelMagics",
        "mv": "Other",
        "notebook": "BasicMagics",
        "page": "BasicMagics",
        "pastebin": "CodeMagics",
        "pdb": "ExecutionMagics",
        "pdef": "NamespaceMagics",
        "pdoc": "NamespaceMagics",
        "pfile": "NamespaceMagics",
        "pinfo": "NamespaceMagics",
        "pinfo2": "NamespaceMagics",
        "pip": "PackagingMagics",
        "popd": "OSMagics",
        "pprint": "BasicMagics",
        "precision": "BasicMagics",
        "prun": "ExecutionMagics",
        "psearch": "NamespaceMagics",
        "psource": "NamespaceMagics",
        "pushd": "OSMagics",
        "pwd": "OSMagics",
        "pycat": "OSMagics",
        "pylab": "PylabMagics",
        "qtconsole": "KernelMagics",
        "quickref": "BasicMagics",
        "recall": "HistoryMagics",
        "rehashx": "OSMagics",
        "reload_ext": "ExtensionMagics",
        "rep": "Other",
        "rerun": "HistoryMagics",
        "reset": "NamespaceMagics",
        "reset_selective": "NamespaceMagics",
        "rm": "Other",
        "rmdir": "Other",
        "run": "ExecutionMagics",
        "save": "CodeMagics",
        "sc": "OSMagics",
        "set_env": "OSMagics",
        "store": "StoreMagics",
        "sx": "OSMagics",
        "system": "OSMagics",
        "tb": "ExecutionMagics",
        "time": "ExecutionMagics",
        "timeit": "ExecutionMagics",
        "unalias": "OSMagics",
        "unload_ext": "ExtensionMagics",
        "who": "NamespaceMagics",
        "who_ls": "NamespaceMagics",
        "whos": "NamespaceMagics",
        "xdel": "NamespaceMagics",
        "xmode": "BasicMagics"
       }
      },
      "text/plain": [
       "Available line magics:\n",
       "%alias  %alias_magic  %autoawait  %autocall  %automagic  %autosave  %bookmark  %cat  %cd  %clear  %colors  %conda  %config  %connect_info  %cp  %debug  %dhist  %dirs  %doctest_mode  %ed  %edit  %env  %gui  %hist  %history  %killbgscripts  %ldir  %less  %lf  %lk  %ll  %load  %load_ext  %loadpy  %logoff  %logon  %logstart  %logstate  %logstop  %ls  %lsmagic  %lx  %macro  %magic  %man  %matplotlib  %mkdir  %more  %mv  %notebook  %page  %pastebin  %pdb  %pdef  %pdoc  %pfile  %pinfo  %pinfo2  %pip  %popd  %pprint  %precision  %prun  %psearch  %psource  %pushd  %pwd  %pycat  %pylab  %qtconsole  %quickref  %recall  %rehashx  %reload_ext  %rep  %rerun  %reset  %reset_selective  %rm  %rmdir  %run  %save  %sc  %set_env  %store  %sx  %system  %tb  %time  %timeit  %unalias  %unload_ext  %who  %who_ls  %whos  %xdel  %xmode\n",
       "\n",
       "Available cell magics:\n",
       "%%!  %%HTML  %%SVG  %%bash  %%capture  %%debug  %%file  %%html  %%javascript  %%js  %%latex  %%markdown  %%perl  %%prun  %%pypy  %%python  %%python2  %%python3  %%ruby  %%script  %%sh  %%svg  %%sx  %%system  %%time  %%timeit  %%writefile\n",
       "\n",
       "Automagic is ON, % prefix IS NOT needed for line magics."
      ]
     },
     "execution_count": 35,
     "metadata": {},
     "output_type": "execute_result"
    }
   ],
   "source": [
    "# Посмотрим, какая магия нам доступна\n",
    "%lsmagic"
   ]
  },
  {
   "cell_type": "code",
   "execution_count": 40,
   "id": "102cc822",
   "metadata": {
    "ExecuteTime": {
     "end_time": "2022-01-17T17:22:13.342527Z",
     "start_time": "2022-01-17T17:22:12.732190Z"
    }
   },
   "outputs": [
    {
     "name": "stdout",
     "output_type": "stream",
     "text": [
      "CPU times: user 600 ms, sys: 7.75 ms, total: 608 ms\n",
      "Wall time: 606 ms\n"
     ]
    }
   ],
   "source": [
    "%%time\n",
    "# Cell magic - это магия, которая действует на всю ячейку\n",
    "# cell magic обязательно должна быть первой строкой в ячейке\n",
    "for i in range(int(1e6)):\n",
    "    a = i**2"
   ]
  },
  {
   "cell_type": "code",
   "execution_count": 8,
   "id": "05a1dd59",
   "metadata": {
    "ExecuteTime": {
     "end_time": "2022-01-17T17:26:21.213394Z",
     "start_time": "2022-01-17T17:26:21.190896Z"
    }
   },
   "outputs": [
    {
     "name": "stdout",
     "output_type": "stream",
     "text": [
      "The autoreload extension is already loaded. To reload it, use:\n",
      "  %reload_ext autoreload\n"
     ]
    }
   ],
   "source": [
    "%load_ext autoreload\n",
    "%autoreload 2\n",
    "# autoreload делает так, чтобы все модули пере-импортировались перед тем,\n",
    "# как запускать код.\n",
    "# По умолчанию Python так не делает: если модуль уже импортирован,\n",
    "# он просто игнорирует импорт.\n",
    "# Если вы меняете исходный код модуля,\n",
    "# изменения не подтянутся - autoreload как раз решает эту проблему."
   ]
  },
  {
   "cell_type": "markdown",
   "id": "3c0e3fbc",
   "metadata": {},
   "source": [
    "На практике чаще всего используют `%%time` для замера скорости ячейки, `%time` для замера скорости операции и `%autoreload` при разработке Python-пакета.\n",
    "\n",
    "Оставим ссылки на документацию (не бойтесь ее читать!):\n",
    "\n",
    "[Документация на magic](https://ipython.readthedocs.io/en/stable/interactive/magics.html) (IPython - это почти то же самое, что Jupyter)\n",
    "\n",
    "[Документация на autoreload](https://ipython.org/ipython-doc/3/config/extensions/autoreload.html)\n",
    "\n",
    "[Хорошая статья с полезными magic-командами](https://towardsdatascience.com/top-8-magic-commands-in-jupyter-notebook-c1582e813560)"
   ]
  },
  {
   "attachments": {
    "405cae3f-6d7d-4507-84dc-dfc6d0f12ecb.png": {
     "image/png": "[encoded data removed]"
    }
   },
   "cell_type": "markdown",
   "id": "653017f0",
   "metadata": {},
   "source": [
    "### Kernel\n",
    "\n",
    "В Jupyter можно выполнять не только Python-коды, но и коды на других языках! Мы этим пользоваться не будем, но про возможность полезно знать.\n",
    "\n",
    "За выполнение кода Python в Jupyter отвечает _ядро_ (англ. _kernel_). Нам здесь нужно знать две вещи: ядро можно менять на другое (скажем, то, где больше установленных пакетов) и ядро может зависать.\n",
    "\n",
    "Ранее мы видели, `In [*]` означает, что ячейка считается.\n",
    "На деле, эта запись означает другое: она говорит, что ядро занято.\n",
    "\n",
    "Если ядро зависло или команда выполняется слишком долго, можно его _прервать_ (англ. _interrupt_). Для этого на панели наверху есть кнопка с изображением квадратика.\n",
    "\n",
    "![image.png](attachment:405cae3f-6d7d-4507-84dc-dfc6d0f12ecb.png)\n",
    "\n",
    "Ядро содержит в ОЗУ все когда-либо объявленные переменные ноутбука и может \"жить\" долго.\n",
    "В больших проектах это может привести к тому, что ядро станет занимать очень много ОЗУ.\n",
    "\n",
    "Если вам кажется, что ядро \"раздулось\", до больших размеров, то его можно перезапустить кнопкой, находящейся справа от кнопки _прерывания_.\n",
    "Перезапуск ядра приведет к тому, что все переменные удалятся и все расчеты потеряются. Будьте готовы.\n",
    "\n",
    "Кстати, на панельке сверху есть немало операций, которые мы изучили в секции \"Горячие клавиши\"."
   ]
  },
  {
   "cell_type": "code",
   "execution_count": null,
   "id": "0097afca",
   "metadata": {
    "ExecuteTime": {
     "end_time": "2022-01-17T16:17:49.513648Z",
     "start_time": "2022-01-17T16:17:49.497646Z"
    }
   },
   "outputs": [],
   "source": [
    "# сымитируем ситуацию, когда ядро зависает\n",
    "# while True:\n",
    "#     continue"
   ]
  },
  {
   "cell_type": "markdown",
   "id": "fe795a2d",
   "metadata": {},
   "source": [
    "## Numpy\n",
    "\n",
    "Библиотека для работы с матрицами. [Оффициальный сайт](https://numpy.org). Название происходит от **Num**eric **Py**thon.\n",
    "\"Под капотом\" написана на C++ (это такой язык программирования, очень быстрый в умелых руках), а то, что видим в Python - это лишь \"рычаги управления\".\n",
    "\n",
    "Используется как фундамент для построения популярных библиотек в ML: `pandas`, `scikit-learn` и т.п. Вы познакомитесь с `numpy` поближе в модуле \"Машинное обучение\", а пока мы обзорно посмотрим на его возможности."
   ]
  },
  {
   "cell_type": "code",
   "execution_count": 15,
   "id": "ed6f0947",
   "metadata": {
    "ExecuteTime": {
     "end_time": "2022-01-17T17:41:53.954430Z",
     "start_time": "2022-01-17T17:41:53.935267Z"
    }
   },
   "outputs": [
    {
     "data": {
      "text/plain": [
       "array([[ 1,  2,  3],\n",
       "       [ 4,  5,  6],\n",
       "       [ 7,  8,  9],\n",
       "       [10, 11, 12]])"
      ]
     },
     "execution_count": 15,
     "metadata": {},
     "output_type": "execute_result"
    }
   ],
   "source": [
    "import numpy as np\n",
    "\n",
    "# Создаем матрцы\n",
    "a = np.array([[1, 2, 3], [4, 5, 6], [7, 8, 9], [10, 11, 12]])\n",
    "a"
   ]
  },
  {
   "cell_type": "code",
   "execution_count": 18,
   "id": "a6d143cb",
   "metadata": {
    "ExecuteTime": {
     "end_time": "2022-01-17T17:44:33.927315Z",
     "start_time": "2022-01-17T17:44:33.905316Z"
    }
   },
   "outputs": [
    {
     "data": {
      "text/plain": [
       "array([[ 1,  4,  7, 10],\n",
       "       [ 2,  5,  8, 11],\n",
       "       [ 3,  6,  9, 12]])"
      ]
     },
     "execution_count": 18,
     "metadata": {},
     "output_type": "execute_result"
    }
   ],
   "source": [
    "# Матрицу можно транспонировать (\"повернуть на бок\")\n",
    "a.T"
   ]
  },
  {
   "cell_type": "code",
   "execution_count": 22,
   "id": "bbd40111",
   "metadata": {
    "ExecuteTime": {
     "end_time": "2022-01-17T17:46:39.176992Z",
     "start_time": "2022-01-17T17:46:39.154728Z"
    }
   },
   "outputs": [
    {
     "data": {
      "text/plain": [
       "array([14, 32, 50, 68])"
      ]
     },
     "execution_count": 22,
     "metadata": {},
     "output_type": "execute_result"
    }
   ],
   "source": [
    "# Можно считать скалярные произведения\n",
    "np.dot(a, np.array([1, 2, 3]))"
   ]
  },
  {
   "cell_type": "code",
   "execution_count": 24,
   "id": "6d474052",
   "metadata": {
    "ExecuteTime": {
     "end_time": "2022-01-17T17:47:57.469279Z",
     "start_time": "2022-01-17T17:47:57.450232Z"
    }
   },
   "outputs": [
    {
     "data": {
      "text/plain": [
       "array([[  -1,   -4,   -9],\n",
       "       [ -16,  -25,  -36],\n",
       "       [ -49,  -64,  -81],\n",
       "       [-100, -121, -144]])"
      ]
     },
     "execution_count": 24,
     "metadata": {},
     "output_type": "execute_result"
    }
   ],
   "source": [
    "# Обычные умножения делаются поэлементно. Немного непривычно для математиков\n",
    "b = np.array([[-1, -2, -3], [-4, -5, -6], [-7, -8, -9], [-10, -11, -12]])\n",
    "a * b"
   ]
  },
  {
   "cell_type": "code",
   "execution_count": 25,
   "id": "72c48564",
   "metadata": {
    "ExecuteTime": {
     "end_time": "2022-01-17T17:47:58.157167Z",
     "start_time": "2022-01-17T17:47:58.135373Z"
    }
   },
   "outputs": [
    {
     "data": {
      "text/plain": [
       "array([[  -1,   -4,   -9],\n",
       "       [ -16,  -25,  -36],\n",
       "       [ -49,  -64,  -81],\n",
       "       [-100, -121, -144]])"
      ]
     },
     "execution_count": 25,
     "metadata": {},
     "output_type": "execute_result"
    }
   ],
   "source": [
    "b * a"
   ]
  },
  {
   "cell_type": "code",
   "execution_count": 26,
   "id": "f21e037e",
   "metadata": {
    "ExecuteTime": {
     "end_time": "2022-01-17T17:48:38.843028Z",
     "start_time": "2022-01-17T17:48:38.819382Z"
    }
   },
   "outputs": [
    {
     "data": {
      "text/plain": [
       "array([[ -14,  -32,  -50,  -68],\n",
       "       [ -32,  -77, -122, -167],\n",
       "       [ -50, -122, -194, -266],\n",
       "       [ -68, -167, -266, -365]])"
      ]
     },
     "execution_count": 26,
     "metadata": {},
     "output_type": "execute_result"
    }
   ],
   "source": [
    "# матричные умножения делаются через np.dot\n",
    "np.dot(a, b.T)"
   ]
  },
  {
   "cell_type": "code",
   "execution_count": 30,
   "id": "27cf102c",
   "metadata": {
    "ExecuteTime": {
     "end_time": "2022-01-17T17:49:14.034792Z",
     "start_time": "2022-01-17T17:49:14.014012Z"
    }
   },
   "outputs": [
    {
     "data": {
      "text/plain": [
       "(4, 3)"
      ]
     },
     "execution_count": 30,
     "metadata": {},
     "output_type": "execute_result"
    }
   ],
   "source": [
    "# можно вытащить размерность через .shape - строки x столбцы\n",
    "a.shape"
   ]
  },
  {
   "cell_type": "markdown",
   "id": "7bf52b70",
   "metadata": {},
   "source": [
    "## Pandas\n",
    "Библиотека для работы с табличными данным. Подробнее познакомимся в следующем уроке, здесь же пройдемся обзорно."
   ]
  },
  {
   "cell_type": "code",
   "execution_count": 31,
   "id": "e1d12662",
   "metadata": {
    "ExecuteTime": {
     "end_time": "2022-01-17T17:51:59.612330Z",
     "start_time": "2022-01-17T17:51:58.988464Z"
    }
   },
   "outputs": [
    {
     "data": {
      "text/html": [
       "<div>\n",
       "<style scoped>\n",
       "    .dataframe tbody tr th:only-of-type {\n",
       "        vertical-align: middle;\n",
       "    }\n",
       "\n",
       "    .dataframe tbody tr th {\n",
       "        vertical-align: top;\n",
       "    }\n",
       "\n",
       "    .dataframe thead th {\n",
       "        text-align: right;\n",
       "    }\n",
       "</style>\n",
       "<table border=\"1\" class=\"dataframe\">\n",
       "  <thead>\n",
       "    <tr style=\"text-align: right;\">\n",
       "      <th></th>\n",
       "      <th>block</th>\n",
       "      <th>lessons</th>\n",
       "    </tr>\n",
       "  </thead>\n",
       "  <tbody>\n",
       "    <tr>\n",
       "      <th>0</th>\n",
       "      <td>Python</td>\n",
       "      <td>6</td>\n",
       "    </tr>\n",
       "    <tr>\n",
       "      <th>1</th>\n",
       "      <td>Python</td>\n",
       "      <td>8</td>\n",
       "    </tr>\n",
       "    <tr>\n",
       "      <th>2</th>\n",
       "      <td>ML</td>\n",
       "      <td>20</td>\n",
       "    </tr>\n",
       "  </tbody>\n",
       "</table>\n",
       "</div>"
      ],
      "text/plain": [
       "    block  lessons\n",
       "0  Python        6\n",
       "1  Python        8\n",
       "2      ML       20"
      ]
     },
     "execution_count": 31,
     "metadata": {},
     "output_type": "execute_result"
    }
   ],
   "source": [
    "import pandas as pd  # чаще всего импортируют под именем pd\n",
    "\n",
    "df = pd.DataFrame([(\"Python\", 6), (\"Python\", 8), (\"ML\", 20)],\n",
    "                  columns=['block', 'lessons'])\n",
    "df"
   ]
  },
  {
   "cell_type": "code",
   "execution_count": 35,
   "id": "73f642fd",
   "metadata": {
    "ExecuteTime": {
     "end_time": "2022-01-17T17:55:56.126365Z",
     "start_time": "2022-01-17T17:55:56.091616Z"
    }
   },
   "outputs": [
    {
     "data": {
      "text/html": [
       "<div>\n",
       "<style scoped>\n",
       "    .dataframe tbody tr th:only-of-type {\n",
       "        vertical-align: middle;\n",
       "    }\n",
       "\n",
       "    .dataframe tbody tr th {\n",
       "        vertical-align: top;\n",
       "    }\n",
       "\n",
       "    .dataframe thead th {\n",
       "        text-align: right;\n",
       "    }\n",
       "</style>\n",
       "<table border=\"1\" class=\"dataframe\">\n",
       "  <thead>\n",
       "    <tr style=\"text-align: right;\">\n",
       "      <th></th>\n",
       "      <th>block</th>\n",
       "      <th>lessons</th>\n",
       "    </tr>\n",
       "  </thead>\n",
       "  <tbody>\n",
       "    <tr>\n",
       "      <th>0</th>\n",
       "      <td>Python</td>\n",
       "      <td>6</td>\n",
       "    </tr>\n",
       "    <tr>\n",
       "      <th>1</th>\n",
       "      <td>Python</td>\n",
       "      <td>8</td>\n",
       "    </tr>\n",
       "  </tbody>\n",
       "</table>\n",
       "</div>"
      ],
      "text/plain": [
       "    block  lessons\n",
       "0  Python        6\n",
       "1  Python        8"
      ]
     },
     "execution_count": 35,
     "metadata": {},
     "output_type": "execute_result"
    }
   ],
   "source": [
    "# Можно фильтровать записи через логические условия\n",
    "df[df['block'] == 'Python']"
   ]
  },
  {
   "cell_type": "code",
   "execution_count": 43,
   "id": "3d02a630",
   "metadata": {
    "ExecuteTime": {
     "end_time": "2022-01-17T17:59:25.939681Z",
     "start_time": "2022-01-17T17:59:25.905594Z"
    }
   },
   "outputs": [
    {
     "data": {
      "text/html": [
       "<div>\n",
       "<style scoped>\n",
       "    .dataframe tbody tr th:only-of-type {\n",
       "        vertical-align: middle;\n",
       "    }\n",
       "\n",
       "    .dataframe tbody tr th {\n",
       "        vertical-align: top;\n",
       "    }\n",
       "\n",
       "    .dataframe thead th {\n",
       "        text-align: right;\n",
       "    }\n",
       "</style>\n",
       "<table border=\"1\" class=\"dataframe\">\n",
       "  <thead>\n",
       "    <tr style=\"text-align: right;\">\n",
       "      <th></th>\n",
       "      <th>block</th>\n",
       "      <th>lessons</th>\n",
       "      <th>#</th>\n",
       "    </tr>\n",
       "  </thead>\n",
       "  <tbody>\n",
       "    <tr>\n",
       "      <th>0</th>\n",
       "      <td>Python</td>\n",
       "      <td>6</td>\n",
       "      <td>course_1</td>\n",
       "    </tr>\n",
       "    <tr>\n",
       "      <th>1</th>\n",
       "      <td>Python</td>\n",
       "      <td>8</td>\n",
       "      <td>course_2</td>\n",
       "    </tr>\n",
       "    <tr>\n",
       "      <th>2</th>\n",
       "      <td>ML</td>\n",
       "      <td>20</td>\n",
       "      <td>course_3</td>\n",
       "    </tr>\n",
       "  </tbody>\n",
       "</table>\n",
       "</div>"
      ],
      "text/plain": [
       "    block  lessons         #\n",
       "0  Python        6  course_1\n",
       "1  Python        8  course_2\n",
       "2      ML       20  course_3"
      ]
     },
     "execution_count": 43,
     "metadata": {},
     "output_type": "execute_result"
    }
   ],
   "source": [
    "# создавать колонки\n",
    "result = []\n",
    "for i in range(1, df.shape[0] + 1):\n",
    "    result.append(f'course_{i}')\n",
    "# df['#'] = [f\"course_{i}\" for i in range(1, df.shape[0] + 1)]\n",
    "df['#'] = result\n",
    "df"
   ]
  },
  {
   "cell_type": "code",
   "execution_count": 44,
   "id": "727346f7",
   "metadata": {
    "ExecuteTime": {
     "end_time": "2022-01-17T18:01:16.724622Z",
     "start_time": "2022-01-17T18:01:16.690883Z"
    }
   },
   "outputs": [
    {
     "data": {
      "text/html": [
       "<div>\n",
       "<style scoped>\n",
       "    .dataframe tbody tr th:only-of-type {\n",
       "        vertical-align: middle;\n",
       "    }\n",
       "\n",
       "    .dataframe tbody tr th {\n",
       "        vertical-align: top;\n",
       "    }\n",
       "\n",
       "    .dataframe thead th {\n",
       "        text-align: right;\n",
       "    }\n",
       "</style>\n",
       "<table border=\"1\" class=\"dataframe\">\n",
       "  <thead>\n",
       "    <tr style=\"text-align: right;\">\n",
       "      <th></th>\n",
       "      <th>lessons</th>\n",
       "    </tr>\n",
       "    <tr>\n",
       "      <th>block</th>\n",
       "      <th></th>\n",
       "    </tr>\n",
       "  </thead>\n",
       "  <tbody>\n",
       "    <tr>\n",
       "      <th>ML</th>\n",
       "      <td>20</td>\n",
       "    </tr>\n",
       "    <tr>\n",
       "      <th>Python</th>\n",
       "      <td>14</td>\n",
       "    </tr>\n",
       "  </tbody>\n",
       "</table>\n",
       "</div>"
      ],
      "text/plain": [
       "        lessons\n",
       "block          \n",
       "ML           20\n",
       "Python       14"
      ]
     },
     "execution_count": 44,
     "metadata": {},
     "output_type": "execute_result"
    }
   ],
   "source": [
    "# Сгруппировать по колонке \"block\" и вывести сумму в пределах группы для каждой колонки\n",
    "df.groupby('block').sum()"
   ]
  },
  {
   "cell_type": "code",
   "execution_count": 52,
   "id": "f1752fc0",
   "metadata": {
    "ExecuteTime": {
     "end_time": "2022-01-17T18:07:11.075512Z",
     "start_time": "2022-01-17T18:07:11.036613Z"
    }
   },
   "outputs": [
    {
     "data": {
      "text/html": [
       "<div>\n",
       "<style scoped>\n",
       "    .dataframe tbody tr th:only-of-type {\n",
       "        vertical-align: middle;\n",
       "    }\n",
       "\n",
       "    .dataframe tbody tr th {\n",
       "        vertical-align: top;\n",
       "    }\n",
       "\n",
       "    .dataframe thead th {\n",
       "        text-align: right;\n",
       "    }\n",
       "</style>\n",
       "<table border=\"1\" class=\"dataframe\">\n",
       "  <thead>\n",
       "    <tr style=\"text-align: right;\">\n",
       "      <th></th>\n",
       "      <th>lessons</th>\n",
       "      <th>#</th>\n",
       "    </tr>\n",
       "    <tr>\n",
       "      <th>block</th>\n",
       "      <th></th>\n",
       "      <th></th>\n",
       "    </tr>\n",
       "  </thead>\n",
       "  <tbody>\n",
       "    <tr>\n",
       "      <th>Python</th>\n",
       "      <td>6</td>\n",
       "      <td>course_1</td>\n",
       "    </tr>\n",
       "    <tr>\n",
       "      <th>Python</th>\n",
       "      <td>8</td>\n",
       "      <td>course_2</td>\n",
       "    </tr>\n",
       "    <tr>\n",
       "      <th>ML</th>\n",
       "      <td>20</td>\n",
       "      <td>course_3</td>\n",
       "    </tr>\n",
       "  </tbody>\n",
       "</table>\n",
       "</div>"
      ],
      "text/plain": [
       "        lessons         #\n",
       "block                    \n",
       "Python        6  course_1\n",
       "Python        8  course_2\n",
       "ML           20  course_3"
      ]
     },
     "execution_count": 52,
     "metadata": {},
     "output_type": "execute_result"
    }
   ],
   "source": [
    "# Сохраним результат в файл\n",
    "df.to_csv('1.csv', index=False)\n",
    "\n",
    "# Прочитаем файл\n",
    "df_1 = pd.read_csv('1.csv', index_col=0)\n",
    "df_1"
   ]
  },
  {
   "cell_type": "markdown",
   "id": "29a54819",
   "metadata": {},
   "source": [
    "## Matplotlib\n",
    "Популярная библиотека для визуализации данных. Тесно интегрируется с `numpy`.\n",
    "\n",
    "Будем активно использовать в блоке \"Машинное обучение\", пока что приведем обзор возможностей."
   ]
  },
  {
   "cell_type": "code",
   "execution_count": 56,
   "id": "21c9819d",
   "metadata": {
    "ExecuteTime": {
     "end_time": "2022-01-17T18:14:10.644742Z",
     "start_time": "2022-01-17T18:14:10.387213Z"
    }
   },
   "outputs": [
    {
     "data": {
      "text/plain": [
       "[<matplotlib.lines.Line2D at 0x10b2aa5e0>]"
      ]
     },
     "execution_count": 56,
     "metadata": {},
     "output_type": "execute_result"
    },
    {
     "data": {
      "image/png": "[encoded data removed]",
      "text/plain": [
       "<Figure size 1152x648 with 1 Axes>"
      ]
     },
     "metadata": {
      "needs_background": "light"
     },
     "output_type": "display_data"
    }
   ],
   "source": [
    "import matplotlib.pyplot as plt\n",
    "\n",
    "# попросим размер графика (16, 9)\n",
    "plt.figure(figsize=(16, 9))\n",
    "# Простые линии\n",
    "\n",
    "x = np.arange(-10, 11, 0.5)  # это range(-10, 11), только вернет тип np.array\n",
    "y = x**2  # np.array вот так умеет - это возведет каждый элемент в квадрат\n",
    "plt.plot(x, y)"
   ]
  },
  {
   "cell_type": "code",
   "execution_count": 58,
   "id": "90948785",
   "metadata": {
    "ExecuteTime": {
     "end_time": "2022-01-17T18:16:01.208130Z",
     "start_time": "2022-01-17T18:16:00.936069Z"
    }
   },
   "outputs": [
    {
     "data": {
      "image/png": "[encoded data removed]",
      "text/plain": [
       "<Figure size 1152x648 with 1 Axes>"
      ]
     },
     "metadata": {
      "needs_background": "light"
     },
     "output_type": "display_data"
    }
   ],
   "source": [
    "plt.figure(figsize=(16, 9))\n",
    "plt.plot(x, y)\n",
    "# Сетка добавляется через последующий вызов функции plt.grid()\n",
    "plt.grid()"
   ]
  },
  {
   "cell_type": "code",
   "execution_count": 61,
   "id": "dcda916a",
   "metadata": {
    "ExecuteTime": {
     "end_time": "2022-01-17T18:19:08.152417Z",
     "start_time": "2022-01-17T18:19:07.628372Z"
    }
   },
   "outputs": [
    {
     "data": {
      "image/png": "[encoded data removed]",
      "text/plain": [
       "<Figure size 1152x648 with 1 Axes>"
      ]
     },
     "metadata": {
      "needs_background": "light"
     },
     "output_type": "display_data"
    }
   ],
   "source": [
    "plt.figure(figsize=(16, 9))\n",
    "plt.plot(x, y)\n",
    "plt.grid()\n",
    "plt.title('График $y=x^2$')\n",
    "# есть ограниченная поддержка latex, в основном для уравнений\n",
    "plt.xlabel('x')\n",
    "plt.ylabel('y')\n",
    "plt.savefig('1.pdf')"
   ]
  },
  {
   "cell_type": "code",
   "execution_count": 64,
   "id": "2c8bc9dc",
   "metadata": {
    "ExecuteTime": {
     "end_time": "2022-01-17T18:21:06.592284Z",
     "start_time": "2022-01-17T18:21:06.278434Z"
    }
   },
   "outputs": [
    {
     "data": {
      "text/plain": [
       "Text(0, 0.5, 'y')"
      ]
     },
     "execution_count": 64,
     "metadata": {},
     "output_type": "execute_result"
    },
    {
     "data": {
      "image/png": "[encoded data removed]",
      "text/plain": [
       "<Figure size 1152x648 with 1 Axes>"
      ]
     },
     "metadata": {
      "needs_background": "light"
     },
     "output_type": "display_data"
    }
   ],
   "source": [
    "plt.figure(figsize=(16, 9))\n",
    "# Можно рисовать точки\n",
    "plt.scatter(x, y)\n",
    "# Можно и график рядом\n",
    "# plt.plot(x, y)\n",
    "\n",
    "plt.grid()\n",
    "plt.title('График $y=x^2$')\n",
    "# есть ограниченная поддержка latex, в основном для уравнений\n",
    "plt.xlabel('x')\n",
    "plt.ylabel('y')"
   ]
  },
  {
   "cell_type": "code",
   "execution_count": 70,
   "id": "dfdd0347",
   "metadata": {
    "ExecuteTime": {
     "end_time": "2022-01-17T18:24:15.339357Z",
     "start_time": "2022-01-17T18:24:14.901032Z"
    }
   },
   "outputs": [
    {
     "data": {
      "image/png": "[encoded data removed]",
      "text/plain": [
       "<Figure size 1152x648 with 1 Axes>"
      ]
     },
     "metadata": {
      "needs_background": "light"
     },
     "output_type": "display_data"
    }
   ],
   "source": [
    "# И гистограммы\n",
    "plt.figure(figsize=(16, 9))\n",
    "plt.hist([1, 1, 2, 3, 5, 5], bins=50)\n",
    "# bins - число столбиков. Если много, будут тонкими\n",
    "plt.grid()"
   ]
  }
 ],
 "metadata": {
  "kernelspec": {
   "display_name": "Python 3",
   "language": "python",
   "name": "python3"
  },
  "language_info": {
   "codemirror_mode": {
    "name": "ipython",
    "version": 3
   },
   "file_extension": ".py",
   "mimetype": "text/x-python",
   "name": "python",
   "nbconvert_exporter": "python",
   "pygments_lexer": "ipython3",
   "version": "3.10.9 (tags/v3.10.9:1dd9be6, Dec  6 2022, 20:01:21) [MSC v.1934 64 bit (AMD64)]"
  },
  "toc": {
   "base_numbering": 1,
   "nav_menu": {},
   "number_sections": true,
   "sideBar": true,
   "skip_h1_title": false,
   "title_cell": "Table of Contents",
   "title_sidebar": "Contents",
   "toc_cell": false,
   "toc_position": {
    "height": "calc(100% - 180px)",
    "left": "10px",
    "top": "150px",
    "width": "384px"
   },
   "toc_section_display": true,
   "toc_window_display": false
  },
  "varInspector": {
   "cols": {
    "lenName": 16,
    "lenType": 16,
    "lenVar": 40
   },
   "kernels_config": {
    "python": {
     "delete_cmd_postfix": "",
     "delete_cmd_prefix": "del ",
     "library": "var_list.py",
     "varRefreshCmd": "print(var_dic_list())"
    },
    "r": {
     "delete_cmd_postfix": ") ",
     "delete_cmd_prefix": "rm(",
     "library": "var_list.r",
     "varRefreshCmd": "cat(var_dic_list()) "
    }
   },
   "types_to_exclude": [
    "module",
    "function",
    "builtin_function_or_method",
    "instance",
    "_Feature"
   ],
   "window_display": false
  },
  "vscode": {
   "interpreter": {
    "hash": "cdaf845c447f5b8a88f1bde010b8054a6111556832cc2133cdddd7f2255dae56"
   }
  }
 },
 "nbformat": 4,
 "nbformat_minor": 5
}
