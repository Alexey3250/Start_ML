{
 "cells": [
  {
   "cell_type": "markdown",
   "id": "3e795a55-67f0-42ea-ba08-191dd17c8834",
   "metadata": {},
   "source": [
    "# Основы Python\n",
    "Привет! Мы начинаем знакомство с языком Python. На первых порах для простоты мы будем писать все Python-программы в среде Jupyter. В ней уже все настроено и доступно из браузера - поэтому установка Python себе на компьютер не будет сейчас отвлекать. Текст, который ты читаешь, был написан в \"ячейке\" (англ. _cell_). \"Ячейка\" - это неразделимый кусок текста или кода, который Jupyter выполняет целиком.\n",
    "\n",
    "Ячейка создается нажатием кнопки `+` выше в панельке. Попробуй создать новую ячейку, кликнуть на ее (появится курсор), написать в ней:\n",
    "```python\n",
    "1 + 5\n",
    "```\n",
    "и \"выполнить\" ее нажатием `Ctrl + Enter`. Внизу под ячейкой выведется число 6 - этот результат был подсчитан на Python.\n",
    "\n",
    "Ячейки дают возможность сразу увидеть результат выполнения - этим они и удобны.\n",
    "\n",
    "Знакомство с Python начнем с базовых конструкций языка."
   ]
  },
  {
   "cell_type": "markdown",
   "id": "0e565f3b-1e42-4df1-9ed4-6b6750b0998a",
   "metadata": {},
   "source": [
    "## Базовые операции\n",
    "Посмотрим на основные операции, которые используются любым программистом на Python."
   ]
  },
  {
   "cell_type": "code",
   "execution_count": 1,
   "id": "b0d3526a-8035-4a0b-a42e-f74cf1401c2a",
   "metadata": {
    "ExecuteTime": {
     "end_time": "2021-12-13T17:01:41.135287Z",
     "start_time": "2021-12-13T17:01:41.121870Z"
    }
   },
   "outputs": [],
   "source": [
    "# Это комментарий. Питон игнорирует все, что написано после симовола # до конца строки\n",
    "# А редактор это подсвечивает серым\n",
    "\n",
    "# Пустые строки тоже игнорируются и никакого смысла не несут\n",
    "\n",
    "# Знак = (равно) - это присваивание. Мы сейчас попросим записать в переменную \"a\" значение 5\n",
    "a = 5"
   ]
  },
  {
   "cell_type": "code",
   "execution_count": 2,
   "id": "3c3a7c1b-a07a-4622-81df-dc450113ed24",
   "metadata": {
    "ExecuteTime": {
     "end_time": "2021-12-13T17:02:02.067614Z",
     "start_time": "2021-12-13T17:02:02.034233Z"
    }
   },
   "outputs": [
    {
     "data": {
      "text/plain": [
       "5"
      ]
     },
     "execution_count": 2,
     "metadata": {},
     "output_type": "execute_result"
    }
   ],
   "source": [
    "# Теперь по имени \"a\" можно вытащить его значение - сейчас это 5. Jupyter нам это покажет\n",
    "a"
   ]
  },
  {
   "cell_type": "code",
   "execution_count": 4,
   "id": "1eebc30c-13c0-49d4-829b-586a63b543be",
   "metadata": {
    "ExecuteTime": {
     "end_time": "2021-12-13T17:02:37.699522Z",
     "start_time": "2021-12-13T17:02:37.694261Z"
    }
   },
   "outputs": [
    {
     "data": {
      "text/plain": [
       "55"
      ]
     },
     "execution_count": 4,
     "metadata": {},
     "output_type": "execute_result"
    }
   ],
   "source": [
    "# Арифметические операции можно делать как с числами\n",
    "5 * 11"
   ]
  },
  {
   "cell_type": "code",
   "execution_count": 5,
   "id": "8c52c8e8-1e92-45d2-be87-8cc2abc89424",
   "metadata": {
    "ExecuteTime": {
     "end_time": "2021-12-13T17:02:44.126658Z",
     "start_time": "2021-12-13T17:02:44.120077Z"
    }
   },
   "outputs": [
    {
     "data": {
      "text/plain": [
       "55"
      ]
     },
     "execution_count": 5,
     "metadata": {},
     "output_type": "execute_result"
    }
   ],
   "source": [
    "# Так и с участием переменных\n",
    "11 * a"
   ]
  },
  {
   "cell_type": "code",
   "execution_count": 6,
   "id": "5e75d5e1-5189-4fd1-8df6-dab293bf9d4d",
   "metadata": {
    "ExecuteTime": {
     "end_time": "2021-12-13T17:03:56.789035Z",
     "start_time": "2021-12-13T17:03:56.786264Z"
    }
   },
   "outputs": [
    {
     "name": "stdout",
     "output_type": "stream",
     "text": [
      "5\n"
     ]
    }
   ],
   "source": [
    "# Можно явно просить написать строку - это делается функцией print\n",
    "# как в математке f(x) - функция f принимает аргумент x и делает над ним определенные действия\n",
    "print(a)\n",
    "# в нашем случае - печатает его"
   ]
  },
  {
   "cell_type": "code",
   "execution_count": 8,
   "id": "c3f926bd-8be4-4d40-98c3-1ddfb1801a39",
   "metadata": {
    "ExecuteTime": {
     "end_time": "2021-12-13T17:05:43.544791Z",
     "start_time": "2021-12-13T17:05:43.541621Z"
    }
   },
   "outputs": [
    {
     "name": "stdout",
     "output_type": "stream",
     "text": [
      "4 1 hello 5\n"
     ]
    }
   ],
   "source": [
    "# print может принимать любое количество аргументов (делается через запятую)\n",
    "# он распечатает их всех через пробел\n",
    "print(4, 1, 'hello', a)"
   ]
  },
  {
   "cell_type": "code",
   "execution_count": 9,
   "id": "f7b4ff0d-10c2-4291-8f81-e04bea47803c",
   "metadata": {
    "ExecuteTime": {
     "end_time": "2021-12-13T17:06:46.850559Z",
     "start_time": "2021-12-13T17:06:46.841477Z"
    }
   },
   "outputs": [
    {
     "data": {
      "text/plain": [
       "2"
      ]
     },
     "execution_count": 9,
     "metadata": {},
     "output_type": "execute_result"
    }
   ],
   "source": [
    "# Можно делть нацело, отбрасывая дробную часть\n",
    "5 // 2"
   ]
  },
  {
   "cell_type": "code",
   "execution_count": 10,
   "id": "1509a63d-f8c4-4b63-905a-ea280b3755b5",
   "metadata": {
    "ExecuteTime": {
     "end_time": "2021-12-13T17:07:23.163200Z",
     "start_time": "2021-12-13T17:07:23.157345Z"
    }
   },
   "outputs": [
    {
     "data": {
      "text/plain": [
       "1"
      ]
     },
     "execution_count": 10,
     "metadata": {},
     "output_type": "execute_result"
    }
   ],
   "source": [
    "# Остаток от деления берется через символ %\n",
    "5 % 2"
   ]
  },
  {
   "cell_type": "code",
   "execution_count": 13,
   "id": "c2ce8054-5b11-4b56-9a9a-43bd8039121e",
   "metadata": {
    "ExecuteTime": {
     "end_time": "2021-12-13T17:09:03.485664Z",
     "start_time": "2021-12-13T17:09:03.482475Z"
    }
   },
   "outputs": [
    {
     "name": "stdout",
     "output_type": "stream",
     "text": [
      "5.0\n",
      "2.0\n"
     ]
    }
   ],
   "source": [
    "# Переменная может менять свое значение по ходу выполнения программы - отсюда и название\n",
    "a = 10\n",
    "print(a / 2)\n",
    "a = 4\n",
    "print(a / 2)"
   ]
  },
  {
   "cell_type": "markdown",
   "id": "6c19f52e-73f0-48c8-a0ed-8fed7c71cf3e",
   "metadata": {},
   "source": [
    "Из примера выше видно, что в одну ячейку можно положить несколько команд - Jupyter выполнит их последовательно. При этом Python ожидает, что каждая команда пишется с новой строки."
   ]
  },
  {
   "cell_type": "markdown",
   "id": "71631b14-3a35-4802-ae60-3fa16bd914fa",
   "metadata": {},
   "source": [
    "### Зачем нужны переменные?\n",
    "У переменных два преимущества:\n",
    "1. Делают логику независимой от чисел.\n",
    "2. Делают преобразования данных читаемыми.\n",
    "\n",
    "Приведем пример.\n",
    "Представим, что мы хотим подсчитать доход через 5 лет по банковскому вкладу в разных банках. У нас есть 100 рублей и 2 банка с разными процентами:\n",
    "1. Банк \"Весна\" дает 3% годовых.\n",
    "2. Банк \"Осень\" дает 2% годовых, но более надежен.\n",
    "\n",
    "Посчитаем, сколько будет денег через 5 лет:"
   ]
  },
  {
   "cell_type": "code",
   "execution_count": 15,
   "id": "81e4668c",
   "metadata": {
    "ExecuteTime": {
     "end_time": "2021-12-13T17:12:43.976458Z",
     "start_time": "2021-12-13T17:12:43.969892Z"
    }
   },
   "outputs": [
    {
     "data": {
      "text/plain": [
       "27"
      ]
     },
     "execution_count": 15,
     "metadata": {},
     "output_type": "execute_result"
    }
   ],
   "source": [
    "3 ** 3  # 3 * 3 * 3"
   ]
  },
  {
   "cell_type": "code",
   "execution_count": 16,
   "id": "8e0932ab-f07b-4e73-b8bf-28b473ec1d67",
   "metadata": {
    "ExecuteTime": {
     "end_time": "2021-12-13T17:13:07.557427Z",
     "start_time": "2021-12-13T17:13:07.551383Z"
    }
   },
   "outputs": [
    {
     "data": {
      "text/plain": [
       "115.92740743"
      ]
     },
     "execution_count": 16,
     "metadata": {},
     "output_type": "execute_result"
    }
   ],
   "source": [
    "# Две звездочки - это оператор возведения в степень\n",
    "# Обратите внимание на скобки - они указывают порядок операций\n",
    "100 * ((100 + 3) / 100)**5"
   ]
  },
  {
   "cell_type": "code",
   "execution_count": 17,
   "id": "65f578cc-09d3-499d-ab2e-2571ee3c0da4",
   "metadata": {
    "ExecuteTime": {
     "end_time": "2021-12-13T17:13:09.277600Z",
     "start_time": "2021-12-13T17:13:09.271538Z"
    }
   },
   "outputs": [
    {
     "data": {
      "text/plain": [
       "110.40808032"
      ]
     },
     "execution_count": 17,
     "metadata": {},
     "output_type": "execute_result"
    }
   ],
   "source": [
    "# Кстати, пробелы между операторами тоже игнорируются\n",
    "100 * ((100 + 2) / 100) ** 5"
   ]
  },
  {
   "cell_type": "markdown",
   "id": "9dce6726-fc0f-4b0e-816f-a45485d9d0a5",
   "metadata": {},
   "source": [
    "Сходу глядя на код, не очень ясно, что означает первое число 100 и второе.\n",
    "Нужно знать исходную задачу.\n",
    "\n",
    "Давайте перепишем с использованием переменных."
   ]
  },
  {
   "cell_type": "code",
   "execution_count": 18,
   "id": "f8145aaf-281c-4b72-8532-5858f0d34eab",
   "metadata": {
    "ExecuteTime": {
     "end_time": "2021-12-13T17:15:09.893509Z",
     "start_time": "2021-12-13T17:15:09.888956Z"
    }
   },
   "outputs": [
    {
     "data": {
      "text/plain": [
       "115.92740743"
      ]
     },
     "execution_count": 18,
     "metadata": {},
     "output_type": "execute_result"
    }
   ],
   "source": [
    "initial_sum = 100\n",
    "interest_rate = 3\n",
    "years = 5\n",
    "# Теперь из кода сразу ясно, как считается сумма в конце для любых входных данных\n",
    "end_sum = initial_sum * ((100 + interest_rate) / 100)**years\n",
    "end_sum"
   ]
  },
  {
   "cell_type": "markdown",
   "id": "040bdc05-d5d7-42db-9a52-5ae7fd9ba56e",
   "metadata": {},
   "source": [
    "А еще можно легко пересчитать под другой процент, поменяв только вторую строчку - ту, что задает `interest_rate`."
   ]
  },
  {
   "cell_type": "markdown",
   "id": "0872bd6d-3688-4d25-8c39-5d1f2f956c2f",
   "metadata": {},
   "source": [
    "### Другие типы переменных\n",
    "В переменные можно класть не только числа! Есть строки, числа с дробной частью (в программировании их называют _числа с плавающей точкой_, англ. _float_) и многое другое.\n",
    "#### Строки"
   ]
  },
  {
   "cell_type": "code",
   "execution_count": 19,
   "id": "75a735c9-c3bf-49fa-8b6d-4f70c3d6c2be",
   "metadata": {
    "ExecuteTime": {
     "end_time": "2021-12-13T17:17:18.033429Z",
     "start_time": "2021-12-13T17:17:18.029936Z"
    }
   },
   "outputs": [
    {
     "name": "stdout",
     "output_type": "stream",
     "text": [
      "John\n",
      "Smith\n"
     ]
    }
   ],
   "source": [
    "# Строки заключаются в кавычки\n",
    "# Двойные\n",
    "name = \"John\"\n",
    "# Или одинарные - разницы никакой\n",
    "surname = 'Smith'\n",
    "print(name)\n",
    "print(surname)"
   ]
  },
  {
   "cell_type": "code",
   "execution_count": 20,
   "id": "7cdc2cf7",
   "metadata": {
    "ExecuteTime": {
     "end_time": "2021-12-13T17:19:04.896914Z",
     "start_time": "2021-12-13T17:19:04.891691Z"
    }
   },
   "outputs": [
    {
     "name": "stdout",
     "output_type": "stream",
     "text": [
      "32\n"
     ]
    }
   ],
   "source": [
    "print(2 ** 5)"
   ]
  },
  {
   "cell_type": "markdown",
   "id": "800c3b62-b3f2-44b5-a9bd-eff61d483145",
   "metadata": {},
   "source": [
    "В ячейке выше исполнилось 4 команды. Давай разберемся, что конкретно произошло:\n",
    "1. Мы попросили записать в переменную `name` строку `John`\n",
    "2. Мы попросили записать в переменную `surname` строку `Smith`\n",
    "3. Мы попросили вызвать функцию `print` и передали аргументом ей переменную. Питон выполнил подстановку значения переменной и фактически вызвал функцию `print(\"John\")`, которая, в свою очередь, распечатала строку `John`.\n",
    "4. То же самое, что п.3, только передали переменную `surname`. После подстановки вызвалась `print(\"Smith\")` и распечаталась строка `Smith`."
   ]
  },
  {
   "cell_type": "code",
   "execution_count": 22,
   "id": "305f10e8-7ec1-4c45-99f7-f9af587a3040",
   "metadata": {
    "ExecuteTime": {
     "end_time": "2021-12-13T17:21:56.963489Z",
     "start_time": "2021-12-13T17:21:56.958136Z"
    },
    "scrolled": true
   },
   "outputs": [
    {
     "name": "stdout",
     "output_type": "stream",
     "text": [
      "<class 'str'>\n",
      "hello\n",
      "<class 'int'>\n",
      "2\n"
     ]
    }
   ],
   "source": [
    "# На деле, у каждой переменной есть тип, просто Python его определяет сам\n",
    "hello = 'hello'\n",
    "# Распечатаем тип\n",
    "print(type(hello))\n",
    "print(hello)\n",
    "\n",
    "# Python даже дает возможность менять тип на ходу! Не все языки программирования так щедры\n",
    "hello = 2\n",
    "print(type(hello))\n",
    "print(hello)"
   ]
  },
  {
   "cell_type": "markdown",
   "id": "0e3840b3",
   "metadata": {},
   "source": [
    "#### Boolean"
   ]
  },
  {
   "cell_type": "code",
   "execution_count": 24,
   "id": "70dc4ea5",
   "metadata": {
    "ExecuteTime": {
     "end_time": "2021-12-13T17:24:54.680152Z",
     "start_time": "2021-12-13T17:24:54.674225Z"
    }
   },
   "outputs": [
    {
     "data": {
      "text/plain": [
       "False"
      ]
     },
     "execution_count": 24,
     "metadata": {},
     "output_type": "execute_result"
    }
   ],
   "source": [
    "# Булевый (англ. boolean) тип - это одно из слов \"да\" или \"нет\"\n",
    "# Только Python предпочитает слова True и False :)\n",
    "# Активно используется в проверке условий\n",
    "my_bool = ('5' == 5)  # False, потому что сравнение учитывает типы\n",
    "my_bool"
   ]
  },
  {
   "cell_type": "code",
   "execution_count": 26,
   "id": "350c42e2",
   "metadata": {
    "ExecuteTime": {
     "end_time": "2021-12-13T17:26:57.942223Z",
     "start_time": "2021-12-13T17:26:57.938141Z"
    }
   },
   "outputs": [
    {
     "data": {
      "text/plain": [
       "True"
      ]
     },
     "execution_count": 26,
     "metadata": {},
     "output_type": "execute_result"
    }
   ],
   "source": [
    "my_bool_2 = ('el' in 'hello')  # True, потому что \"hello\" содержит подстроку \"el\"\n",
    "my_bool_2"
   ]
  },
  {
   "cell_type": "code",
   "execution_count": 28,
   "id": "73537bd5",
   "metadata": {
    "ExecuteTime": {
     "end_time": "2021-12-13T17:28:29.969713Z",
     "start_time": "2021-12-13T17:28:29.962846Z"
    }
   },
   "outputs": [
    {
     "data": {
      "text/plain": [
       "True"
      ]
     },
     "execution_count": 28,
     "metadata": {},
     "output_type": "execute_result"
    }
   ],
   "source": [
    "# Над булевыми типами есть операторы and, or, not\n",
    "# Есть и другие, но на практике чаще использует эти три\n",
    "# and требует, чтобы оба значения были True\n",
    "a = 3\n",
    "# == - это оператор равенства (не путайте с присваиванием!)\n",
    "# проверяет, что значения слева и справа равны\n",
    "(5 == 5) and (a == 3)"
   ]
  },
  {
   "cell_type": "code",
   "execution_count": 29,
   "id": "c56cc23e",
   "metadata": {
    "ExecuteTime": {
     "end_time": "2021-12-13T17:29:30.116545Z",
     "start_time": "2021-12-13T17:29:30.110565Z"
    }
   },
   "outputs": [
    {
     "data": {
      "text/plain": [
       "True"
      ]
     },
     "execution_count": 29,
     "metadata": {},
     "output_type": "execute_result"
    }
   ],
   "source": [
    "# or требует, чтобы хотя бы одно значение было True\n",
    "(5 == 3) or (a == 3)"
   ]
  },
  {
   "cell_type": "code",
   "execution_count": 30,
   "id": "ca254034",
   "metadata": {
    "ExecuteTime": {
     "end_time": "2021-12-13T17:30:13.148031Z",
     "start_time": "2021-12-13T17:30:13.140768Z"
    }
   },
   "outputs": [
    {
     "data": {
      "text/plain": [
       "True"
      ]
     },
     "execution_count": 30,
     "metadata": {},
     "output_type": "execute_result"
    }
   ],
   "source": [
    "# not просто берет обратное значение\n",
    "not (5 == 3)"
   ]
  },
  {
   "cell_type": "code",
   "execution_count": 31,
   "id": "7e9292b3",
   "metadata": {
    "ExecuteTime": {
     "end_time": "2021-12-13T17:31:22.230144Z",
     "start_time": "2021-12-13T17:31:22.225799Z"
    }
   },
   "outputs": [
    {
     "data": {
      "text/plain": [
       "True"
      ]
     },
     "execution_count": 31,
     "metadata": {},
     "output_type": "execute_result"
    }
   ],
   "source": [
    "# Обычно это все используется для сложной логики\n",
    "my_name = 'Sasha'\n",
    "(a == 3) or (my_name == 'Aleksei')"
   ]
  },
  {
   "cell_type": "markdown",
   "id": "f093fe36",
   "metadata": {},
   "source": [
    "Порядок вычисления такой:\n",
    "\n",
    "1. Скобки\n",
    "2. `not`\n",
    "3. `and`\n",
    "4. `or`"
   ]
  },
  {
   "cell_type": "code",
   "execution_count": 32,
   "id": "5c3f0ed8",
   "metadata": {
    "ExecuteTime": {
     "end_time": "2021-12-13T17:35:07.025829Z",
     "start_time": "2021-12-13T17:35:07.020450Z"
    }
   },
   "outputs": [
    {
     "name": "stdout",
     "output_type": "stream",
     "text": [
      "True\n"
     ]
    },
    {
     "data": {
      "text/plain": [
       "True"
      ]
     },
     "execution_count": 32,
     "metadata": {},
     "output_type": "execute_result"
    }
   ],
   "source": [
    "# помимо == есть и другие операторы для сравнения\n",
    "# больше либо равно\n",
    "5 >= 2\n",
    "# строго больше\n",
    "print(5 > 2)  # булево значение можно передавать в функцию, как любое другое значение\n",
    "# меньше либо равно (знак = в нем всегда идет вторым)\n",
    "3 <= 1\n",
    "# не равно\n",
    "'hi' != 'bye'  # not (3 == 1)"
   ]
  },
  {
   "cell_type": "markdown",
   "id": "9c1b2003-65a2-4878-8388-a12e2f2280fe",
   "metadata": {},
   "source": [
    "## List, tuple, set\n",
    "Часто в переменную имеет смысл положить не одно значение, а несколько.\n",
    "Например, если мы захотим проводить анализ списка клиентов интернет-магазина за последний месяц, то имеет смысл держать их всех в одном месте, чтобы можно было удобно работать сразу со всеми элементами.\n",
    "\n",
    "В Python для работы с набором данных есть несколько типов:\n",
    "- list\n",
    "- tuple\n",
    "- set\n",
    "\n",
    "Будем знакомиться по-отдельности с каждым.\n",
    "### List\n",
    "Набор элементов, в который можно класть объекты, доставать их и удалять.\n",
    "Запоминает порядок, в котором элементы были добавлены."
   ]
  },
  {
   "cell_type": "code",
   "execution_count": 34,
   "id": "9c96da20-e619-43d2-a5f2-0ba8d5df210e",
   "metadata": {
    "ExecuteTime": {
     "end_time": "2021-12-13T17:38:28.935099Z",
     "start_time": "2021-12-13T17:38:28.930291Z"
    }
   },
   "outputs": [
    {
     "data": {
      "text/plain": [
       "[1, 2, 3, 5]"
      ]
     },
     "execution_count": 34,
     "metadata": {},
     "output_type": "execute_result"
    }
   ],
   "source": [
    "# Объявляется через квадратные скобки и содержимое отделяется запятой\n",
    "my_list = [1, 2, 3, 5]\n",
    "my_list"
   ]
  },
  {
   "cell_type": "code",
   "execution_count": 35,
   "id": "97456a2c-dba6-4e74-8efd-b4ac9065ea29",
   "metadata": {
    "ExecuteTime": {
     "end_time": "2021-12-13T17:39:30.896400Z",
     "start_time": "2021-12-13T17:39:30.891402Z"
    }
   },
   "outputs": [
    {
     "data": {
      "text/plain": [
       "2"
      ]
     },
     "execution_count": 35,
     "metadata": {},
     "output_type": "execute_result"
    }
   ],
   "source": [
    "# Можно обратиться к элементу по порядку через квадратные скобки\n",
    "# Заметьте, нумерация начинается с нуля\n",
    "my_list[1]  # второй элемент в списке"
   ]
  },
  {
   "cell_type": "code",
   "execution_count": 36,
   "id": "a4d47306-5052-4a37-bf92-275ad2fa317a",
   "metadata": {
    "ExecuteTime": {
     "end_time": "2021-12-13T17:39:51.022934Z",
     "start_time": "2021-12-13T17:39:51.018704Z"
    }
   },
   "outputs": [
    {
     "data": {
      "text/plain": [
       "4"
      ]
     },
     "execution_count": 36,
     "metadata": {},
     "output_type": "execute_result"
    }
   ],
   "source": [
    "len(my_list)  # запросим длину"
   ]
  },
  {
   "cell_type": "code",
   "execution_count": 37,
   "id": "0211e6a0-6db9-4bc9-937a-e90059e11278",
   "metadata": {
    "ExecuteTime": {
     "end_time": "2021-12-13T17:40:35.014035Z",
     "start_time": "2021-12-13T17:40:35.006033Z"
    }
   },
   "outputs": [
    {
     "name": "stdout",
     "output_type": "stream",
     "text": [
      "['a', 1, 3.14, [1, 2]]\n"
     ]
    }
   ],
   "source": [
    "# Элементы списка не обязаны быть одного типа\n",
    "# можно даже класть в список другой список\n",
    "my_list = ['a', 1, 3.14, [1, 2]]\n",
    "print(my_list)"
   ]
  },
  {
   "cell_type": "code",
   "execution_count": 38,
   "id": "3334055d-ae36-4ab5-bd99-2081b4604127",
   "metadata": {
    "ExecuteTime": {
     "end_time": "2021-12-13T17:41:32.398769Z",
     "start_time": "2021-12-13T17:41:32.389363Z"
    }
   },
   "outputs": [
    {
     "data": {
      "text/plain": [
       "['a', 1, 3.14, [1, 2], 'h', 'e', 'l', 'l', 'o']"
      ]
     },
     "execution_count": 38,
     "metadata": {},
     "output_type": "execute_result"
    }
   ],
   "source": [
    "# К списку можно \"прибавить\" другой список - один список добавится к концу другого\n",
    "new_list = my_list + ['h', 'e', 'l', 'l', 'o']\n",
    "new_list"
   ]
  },
  {
   "cell_type": "code",
   "execution_count": 41,
   "id": "4b2018e0-aa7c-43de-b216-7bd2df4e5baf",
   "metadata": {
    "ExecuteTime": {
     "end_time": "2021-12-13T17:44:40.110496Z",
     "start_time": "2021-12-13T17:44:40.105879Z"
    }
   },
   "outputs": [
    {
     "data": {
      "text/plain": [
       "['a', 1, 3.14, [1, 2], 'h', 'e', 'l', 'l', 'o', 'g', 'g', 'g']"
      ]
     },
     "execution_count": 41,
     "metadata": {},
     "output_type": "execute_result"
    }
   ],
   "source": [
    "# Можно добавлять через функцию append\n",
    "new_list.append('g')\n",
    "new_list\n",
    "# Выполните несколько раз эту ячейку - каждый раз append будет добавлять в список"
   ]
  },
  {
   "cell_type": "code",
   "execution_count": 44,
   "id": "20624b09-9b5b-4e17-9b37-7b1da6673ab1",
   "metadata": {
    "ExecuteTime": {
     "end_time": "2021-12-13T17:47:42.077190Z",
     "start_time": "2021-12-13T17:47:42.071661Z"
    }
   },
   "outputs": [
    {
     "name": "stdout",
     "output_type": "stream",
     "text": [
      "1\n",
      "g\n"
     ]
    }
   ],
   "source": [
    "# Можно удалять элемент, зная его индекс (0 - начало массива, 1 - второй элемент и т.д.)\n",
    "# Удалит первый элемент (позиция 0)\n",
    "deleted_item = new_list.pop(0)\n",
    "print(deleted_item)\n",
    "# pop() без аргументов удалит последний элемент\n",
    "print(new_list.pop())\n",
    "# Если много раз выполнить, можно опустошить весь список :)"
   ]
  },
  {
   "cell_type": "code",
   "execution_count": 45,
   "id": "7f35b2bb",
   "metadata": {
    "ExecuteTime": {
     "end_time": "2021-12-13T17:47:54.290479Z",
     "start_time": "2021-12-13T17:47:54.286563Z"
    }
   },
   "outputs": [
    {
     "data": {
      "text/plain": [
       "[3.14, [1, 2], 'h', 'e', 'l', 'l', 'o', 'g']"
      ]
     },
     "execution_count": 45,
     "metadata": {},
     "output_type": "execute_result"
    }
   ],
   "source": [
    "new_list"
   ]
  },
  {
   "cell_type": "code",
   "execution_count": 46,
   "id": "07e49f66-0c88-48c7-b4ac-de98efb10011",
   "metadata": {
    "ExecuteTime": {
     "end_time": "2021-12-13T17:49:08.861682Z",
     "start_time": "2021-12-13T17:49:08.858103Z"
    }
   },
   "outputs": [
    {
     "name": "stdout",
     "output_type": "stream",
     "text": [
      "[3.14, [1, 2], 'h', 'e', 'l', 'l', 'o', 'g']\n",
      "[3.14, [1, 2], 'e', 'l', 'l', 'o', 'g']\n"
     ]
    }
   ],
   "source": [
    "# Можно удалять по значению, а не индексу\n",
    "# Если элемента не найдется, то вылезет ошибка\n",
    "print(new_list)\n",
    "new_list.remove('h')\n",
    "print(new_list)"
   ]
  },
  {
   "cell_type": "markdown",
   "id": "984038ee-82f3-4a7b-961a-d8c0f78745f2",
   "metadata": {},
   "source": [
    "#### Когда применять\n",
    "Когда хотим класть много данных в одно логическое место. Например, список заказов одного клиента.\n",
    "\n",
    "Если хотим добавлять элементы, следить за их взаимным порядком и удалять - самое то."
   ]
  },
  {
   "cell_type": "markdown",
   "id": "9717c559-ebcf-46f6-8ce3-4fe712b6455e",
   "metadata": {},
   "source": [
    "### Tuple (по-русски \"кортеж\")\n",
    "Точно такой же, как `list` - только нет `append` и `remove` (т.е. в существующий `tuple` не получится положить еще элемент или же удалить его). Это из-за того, что объект tuple, будучи созданным, не может быть изменен (а добавление элемента в tuple - это его изменение)."
   ]
  },
  {
   "cell_type": "code",
   "execution_count": 50,
   "id": "6a93dfcf-6f18-45db-b2b6-dbdabeb61678",
   "metadata": {
    "ExecuteTime": {
     "end_time": "2021-12-13T17:52:51.624453Z",
     "start_time": "2021-12-13T17:52:51.617067Z"
    }
   },
   "outputs": [
    {
     "data": {
      "text/plain": [
       "(1, 2, 3)"
      ]
     },
     "execution_count": 50,
     "metadata": {},
     "output_type": "execute_result"
    }
   ],
   "source": [
    "my_tuple = (1, 2, 3)\n",
    "my_tuple"
   ]
  },
  {
   "cell_type": "code",
   "execution_count": 51,
   "id": "7f1d1574",
   "metadata": {
    "ExecuteTime": {
     "end_time": "2021-12-13T17:53:06.545283Z",
     "start_time": "2021-12-13T17:53:06.535873Z"
    }
   },
   "outputs": [
    {
     "data": {
      "text/plain": [
       "2"
      ]
     },
     "execution_count": 51,
     "metadata": {},
     "output_type": "execute_result"
    }
   ],
   "source": [
    "my_tuple[1]"
   ]
  },
  {
   "cell_type": "code",
   "execution_count": 52,
   "id": "ff1f0b96-e35e-4540-93dc-c3103c44a64d",
   "metadata": {
    "ExecuteTime": {
     "end_time": "2021-12-13T17:53:38.780755Z",
     "start_time": "2021-12-13T17:53:38.773865Z"
    }
   },
   "outputs": [
    {
     "data": {
      "text/plain": [
       "(1, 2, 3, 5, 5)"
      ]
     },
     "execution_count": 52,
     "metadata": {},
     "output_type": "execute_result"
    }
   ],
   "source": [
    "# Можно складывать, как и list\n",
    "# при этом создастся новый (!) tuple, куда копируется сначала первый, потом второй\n",
    "my_tuple + (5, 5)"
   ]
  },
  {
   "cell_type": "code",
   "execution_count": 53,
   "id": "fbc0852c-7e2d-4857-a8b0-456f5f05f0d2",
   "metadata": {
    "ExecuteTime": {
     "end_time": "2021-12-13T17:54:15.880142Z",
     "start_time": "2021-12-13T17:54:15.875703Z"
    }
   },
   "outputs": [
    {
     "data": {
      "text/plain": [
       "(5, 5, 1, 2, 3)"
      ]
     },
     "execution_count": 53,
     "metadata": {},
     "output_type": "execute_result"
    }
   ],
   "source": [
    "(5, 5) + my_tuple"
   ]
  },
  {
   "cell_type": "code",
   "execution_count": 54,
   "id": "47cc334e-c115-4223-89e8-f2f2d056b5af",
   "metadata": {
    "ExecuteTime": {
     "end_time": "2021-12-13T17:54:25.610364Z",
     "start_time": "2021-12-13T17:54:25.603220Z"
    }
   },
   "outputs": [
    {
     "data": {
      "text/plain": [
       "6"
      ]
     },
     "execution_count": 54,
     "metadata": {},
     "output_type": "execute_result"
    }
   ],
   "source": [
    "len(my_tuple + (1, 3, 'aaa',))"
   ]
  },
  {
   "cell_type": "code",
   "execution_count": 55,
   "id": "080c519f",
   "metadata": {
    "ExecuteTime": {
     "end_time": "2021-12-13T17:54:36.817087Z",
     "start_time": "2021-12-13T17:54:36.812991Z"
    }
   },
   "outputs": [
    {
     "data": {
      "text/plain": [
       "2"
      ]
     },
     "execution_count": 55,
     "metadata": {},
     "output_type": "execute_result"
    }
   ],
   "source": [
    "# В остальном - похож на list\n",
    "my_tuple[1]"
   ]
  },
  {
   "cell_type": "markdown",
   "id": "f811ccea-6f75-47f3-b788-40cdd18ffff0",
   "metadata": {},
   "source": [
    "#### Когда применять\n",
    "Когда требуются удобства list, но и в то же время неизменяемость. Подробнее об этом поговорим на уроке 2."
   ]
  },
  {
   "cell_type": "markdown",
   "id": "c6ad5714-0695-47a3-b587-561737d0d02f",
   "metadata": {},
   "source": [
    "### Set\n",
    "Близок к \"множествам\" из математики. Особенен тем, что хранит уникальные элементы.\n",
    "\n",
    "Не запоминает порядок элементов."
   ]
  },
  {
   "cell_type": "code",
   "execution_count": 56,
   "id": "1e06881e-0b19-4a70-ac24-fe2a16c74aa2",
   "metadata": {
    "ExecuteTime": {
     "end_time": "2021-12-13T17:56:50.829581Z",
     "start_time": "2021-12-13T17:56:50.825161Z"
    }
   },
   "outputs": [
    {
     "data": {
      "text/plain": [
       "{2, 3.14, 'a'}"
      ]
     },
     "execution_count": 56,
     "metadata": {},
     "output_type": "execute_result"
    }
   ],
   "source": [
    "a = {2, 'a', 3.14}\n",
    "a"
   ]
  },
  {
   "cell_type": "code",
   "execution_count": 58,
   "id": "8abd0bd2",
   "metadata": {
    "ExecuteTime": {
     "end_time": "2021-12-13T17:57:25.437124Z",
     "start_time": "2021-12-13T17:57:25.432992Z"
    }
   },
   "outputs": [
    {
     "data": {
      "text/plain": [
       "set()"
      ]
     },
     "execution_count": 58,
     "metadata": {},
     "output_type": "execute_result"
    }
   ],
   "source": [
    "b = set()\n",
    "b"
   ]
  },
  {
   "cell_type": "code",
   "execution_count": 61,
   "id": "455ce1f5-8ee9-4466-87be-56e81dff26b3",
   "metadata": {
    "ExecuteTime": {
     "end_time": "2021-12-13T17:58:01.547207Z",
     "start_time": "2021-12-13T17:58:01.543284Z"
    }
   },
   "outputs": [
    {
     "data": {
      "text/plain": [
       "{2, 3, 3.14, 'a'}"
      ]
     },
     "execution_count": 61,
     "metadata": {},
     "output_type": "execute_result"
    }
   ],
   "source": [
    "# Добавим элемент\n",
    "a.add(3)\n",
    "a"
   ]
  },
  {
   "cell_type": "code",
   "execution_count": null,
   "id": "6955c09f-ea77-415c-a3c7-b2bbab02e5c6",
   "metadata": {
    "ExecuteTime": {
     "end_time": "2021-11-17T18:21:07.143573Z",
     "start_time": "2021-11-17T18:21:07.139356Z"
    }
   },
   "outputs": [],
   "source": [
    "# Еще раз добавим - вот только он не добавится\n",
    "# В set никогда не дублируются элементы - если элемент уже есть, он его не добавит\n",
    "a.add(3)\n",
    "a"
   ]
  },
  {
   "cell_type": "code",
   "execution_count": 62,
   "id": "d49d47e3-479d-4bc1-9a69-f2ba4a6b33a8",
   "metadata": {
    "ExecuteTime": {
     "end_time": "2021-12-13T17:59:05.974332Z",
     "start_time": "2021-12-13T17:59:05.963801Z"
    }
   },
   "outputs": [
    {
     "data": {
      "text/plain": [
       "{2, 3, 'a'}"
      ]
     },
     "execution_count": 62,
     "metadata": {},
     "output_type": "execute_result"
    }
   ],
   "source": [
    "# Можно удалить. Если элемента нет, то вылезет ошибка, надо за этим следить\n",
    "a.remove(3.14)\n",
    "a"
   ]
  },
  {
   "cell_type": "code",
   "execution_count": null,
   "id": "1ef31282",
   "metadata": {},
   "outputs": [],
   "source": [
    "# a[0] - так нельзя"
   ]
  },
  {
   "cell_type": "markdown",
   "id": "be4f0c80-c3e5-4921-8bd4-f3ca47ddbfc2",
   "metadata": {},
   "source": [
    "В `set` можно добавлять **только** неизменяемые объекты!\n",
    "Это связано с его внутренним строением.\n",
    "Так, создать множество вида `{2, \"hello\", []}` не получится, т.к. третий элемент имеет тип `list`, а он изменяемый.\n",
    "\n",
    "Можно брать пересечения множеств, объединение, симметричную разность:\n",
    "- `a.intersection(b)`\n",
    "- `a.union(b)`\n",
    "- `a.symmetric_difference(b)`"
   ]
  },
  {
   "cell_type": "code",
   "execution_count": 63,
   "id": "d5b55b3a-f679-4b41-8b66-d27d7ac464a1",
   "metadata": {
    "ExecuteTime": {
     "end_time": "2021-12-13T18:02:05.480886Z",
     "start_time": "2021-12-13T18:02:05.476402Z"
    }
   },
   "outputs": [
    {
     "data": {
      "text/plain": [
       "{(1, 2), 3}"
      ]
     },
     "execution_count": 63,
     "metadata": {},
     "output_type": "execute_result"
    }
   ],
   "source": [
    "a = {'a', (1, 2), 3}\n",
    "b = {3, (1, 2), 'unique'}\n",
    "a.intersection(b)"
   ]
  },
  {
   "cell_type": "code",
   "execution_count": 64,
   "id": "78b30172-2889-48a8-b6bc-e23330fbb5c8",
   "metadata": {
    "ExecuteTime": {
     "end_time": "2021-12-13T18:02:45.560201Z",
     "start_time": "2021-12-13T18:02:45.555876Z"
    }
   },
   "outputs": [
    {
     "data": {
      "text/plain": [
       "{(1, 2), 3, 'a', 'unique'}"
      ]
     },
     "execution_count": 64,
     "metadata": {},
     "output_type": "execute_result"
    }
   ],
   "source": [
    "a.union(b)"
   ]
  },
  {
   "cell_type": "code",
   "execution_count": 65,
   "id": "bb2665d8-5cf8-4f11-8147-8a18d6f26bde",
   "metadata": {
    "ExecuteTime": {
     "end_time": "2021-12-13T18:03:44.781909Z",
     "start_time": "2021-12-13T18:03:44.776932Z"
    }
   },
   "outputs": [
    {
     "data": {
      "text/plain": [
       "{'a', 'unique'}"
      ]
     },
     "execution_count": 65,
     "metadata": {},
     "output_type": "execute_result"
    }
   ],
   "source": [
    "a.symmetric_difference(b)"
   ]
  },
  {
   "cell_type": "code",
   "execution_count": 66,
   "id": "ab18b195",
   "metadata": {
    "ExecuteTime": {
     "end_time": "2021-12-13T18:05:25.178852Z",
     "start_time": "2021-12-13T18:05:25.174812Z"
    }
   },
   "outputs": [
    {
     "data": {
      "text/plain": [
       "{'a'}"
      ]
     },
     "execution_count": 66,
     "metadata": {},
     "output_type": "execute_result"
    }
   ],
   "source": [
    "a - b"
   ]
  },
  {
   "cell_type": "code",
   "execution_count": 67,
   "id": "30a5957b",
   "metadata": {
    "ExecuteTime": {
     "end_time": "2021-12-13T18:05:38.896946Z",
     "start_time": "2021-12-13T18:05:38.892952Z"
    }
   },
   "outputs": [
    {
     "data": {
      "text/plain": [
       "{'unique'}"
      ]
     },
     "execution_count": 67,
     "metadata": {},
     "output_type": "execute_result"
    }
   ],
   "source": [
    "b - a"
   ]
  },
  {
   "cell_type": "markdown",
   "id": "ba949ea9-4372-4c06-a3fa-13955d742bc4",
   "metadata": {},
   "source": [
    "#### Когда применять\n",
    "1. Если нужно получить только уникальные элементы и порядок элементов не важен. Самый частый на практике кейс.\n",
    "2. Если нужно узнать пересечение и прочие операции над множествами."
   ]
  },
  {
   "cell_type": "markdown",
   "id": "98cdbc88-b8e8-4ca4-8dc8-8036a6996041",
   "metadata": {},
   "source": [
    "## Словарь\n",
    "Хорошо, мы можем собрать список клиентов в одном месте, сохранить в переменную с удобным именем и иметь возможность дальше обращаться к переменной.\n",
    "\n",
    "Но что, если мы захотим для каждого клиента хранить еще его номер телефона? Скажем, иметь что-то в духе адресной книги:\n",
    "\n",
    "\n",
    "| Имя     | Номер             |\n",
    "|---------|-------------------|\n",
    "| Алексей | +7 123 123-12-34  |\n",
    "| Никита  | +43 321 321-32-10 |\n",
    "\n",
    "В Python для этого используются _словари_ (англ. _dict_, сокращенно от _dictionary_). Давайте посмотрим на пример:"
   ]
  },
  {
   "cell_type": "code",
   "execution_count": 68,
   "id": "ecc6ef24-3112-4bd1-a625-b79d43f23bd7",
   "metadata": {
    "ExecuteTime": {
     "end_time": "2021-12-13T18:09:04.246914Z",
     "start_time": "2021-12-13T18:09:04.243584Z"
    }
   },
   "outputs": [
    {
     "name": "stdout",
     "output_type": "stream",
     "text": [
      "{'Алексей': '+7 123 123-12-34', 'Никита': '+43 321-32-10'}\n"
     ]
    }
   ],
   "source": [
    "# ключами может быть любой неизменяемый объект (строка, int, tuple) - как в set\n",
    "name_to_number = {\n",
    "    'Алексей': '+7 123 123-12-34',\n",
    "    'Никита': '+43 321-32-10'\n",
    "}\n",
    "print(name_to_number)"
   ]
  },
  {
   "cell_type": "code",
   "execution_count": 69,
   "id": "c02b8a40-d663-4fbe-920c-86569bed079c",
   "metadata": {
    "ExecuteTime": {
     "end_time": "2021-12-13T18:09:54.956079Z",
     "start_time": "2021-12-13T18:09:54.948751Z"
    }
   },
   "outputs": [
    {
     "data": {
      "text/plain": [
       "'+7 123 123-12-34'"
      ]
     },
     "execution_count": 69,
     "metadata": {},
     "output_type": "execute_result"
    }
   ],
   "source": [
    "# По ключу можно вытащить значение\n",
    "name_to_number['Алексей']"
   ]
  },
  {
   "cell_type": "code",
   "execution_count": 70,
   "id": "ff6be354-df67-4b19-b2de-1c380e17e605",
   "metadata": {
    "ExecuteTime": {
     "end_time": "2021-12-13T18:11:56.326604Z",
     "start_time": "2021-12-13T18:11:56.323326Z"
    }
   },
   "outputs": [
    {
     "name": "stdout",
     "output_type": "stream",
     "text": [
      "+43 321-32-10\n",
      "no info\n"
     ]
    }
   ],
   "source": [
    "# При этом, если ключа нет, то вылезет ошибка\n",
    "# Можно сделать без ошибки: попросить возвращать некое значение по-умолчанию, если ключ не найден\n",
    "print(name_to_number.get('Никита', 'no info'))\n",
    "# Выведет +43 321-32-10, т.к. ключ \"Никита\" присутствует в словаре\n",
    "\n",
    "print(name_to_number.get('Мария', 'no info'))\n",
    "# Выведет \"no info\", т.к. ключа \"Мария\" нет в словаре"
   ]
  },
  {
   "cell_type": "code",
   "execution_count": 71,
   "id": "23d106f6-af97-42cf-b533-2575fa04a25a",
   "metadata": {
    "ExecuteTime": {
     "end_time": "2021-12-13T18:12:58.183143Z",
     "start_time": "2021-12-13T18:12:58.178010Z"
    }
   },
   "outputs": [
    {
     "name": "stdout",
     "output_type": "stream",
     "text": [
      "+1 111 111-11-11\n"
     ]
    },
    {
     "data": {
      "text/plain": [
       "True"
      ]
     },
     "execution_count": 71,
     "metadata": {},
     "output_type": "execute_result"
    }
   ],
   "source": [
    "# В словарь легко добавлять элементы через оператор присваивания\n",
    "name_to_number['Владимир'] = '+1 111 111-11-11'\n",
    "print(name_to_number['Владимир'])\n",
    "# через оператор in можно узнать, есть ли ключ в словаре\n",
    "'Владимир' in name_to_number"
   ]
  },
  {
   "cell_type": "code",
   "execution_count": 74,
   "id": "67079117",
   "metadata": {
    "ExecuteTime": {
     "end_time": "2021-12-13T18:14:26.483369Z",
     "start_time": "2021-12-13T18:14:26.479619Z"
    }
   },
   "outputs": [
    {
     "data": {
      "text/plain": [
       "{'Алексей': '+7 123 123-12-34',\n",
       " 'Никита': '+43 321-32-10',\n",
       " 'Владимир': 'hidden'}"
      ]
     },
     "execution_count": 74,
     "metadata": {},
     "output_type": "execute_result"
    }
   ],
   "source": [
    "name_to_number"
   ]
  },
  {
   "cell_type": "code",
   "execution_count": 73,
   "id": "495edbc6-1e5d-4c82-8c5b-10a37a9fa51f",
   "metadata": {
    "ExecuteTime": {
     "end_time": "2021-12-13T18:14:14.184332Z",
     "start_time": "2021-12-13T18:14:14.176871Z"
    }
   },
   "outputs": [
    {
     "data": {
      "text/plain": [
       "'hidden'"
      ]
     },
     "execution_count": 73,
     "metadata": {},
     "output_type": "execute_result"
    }
   ],
   "source": [
    "# И точно также можно редактировать через присваиваение\n",
    "name_to_number['Владимир'] = 'hidden'\n",
    "name_to_number['Владимир']"
   ]
  },
  {
   "cell_type": "markdown",
   "id": "4a698587-54d4-4b1b-9a7e-ff14313d66f4",
   "metadata": {},
   "source": [
    "## Условия и циклы\n",
    "Отлично, мы можем хранить много объектов в списках, хранить соответствия между объектами в словаре.\n",
    "\n",
    "Но вместе с кучей объектов приходит вопрос: как их обрабатывать? Писать код на обработку каждого элемента - занятие неблагодарное.\n",
    "К счастью, в Python есть _циклы_, которые позволяют применять набор операций к каждому элементу из списка.\n",
    "\n",
    "### Цикл for\n",
    "Пробегает по всем элементам и выполняет набор операций. Пример:"
   ]
  },
  {
   "cell_type": "code",
   "execution_count": 76,
   "id": "66ab8be5-aaab-4b7a-8ffd-8f06eca7fa13",
   "metadata": {
    "ExecuteTime": {
     "end_time": "2021-12-13T18:27:05.364641Z",
     "start_time": "2021-12-13T18:27:05.361427Z"
    }
   },
   "outputs": [
    {
     "name": "stdout",
     "output_type": "stream",
     "text": [
      "считаем в цикле\n",
      "4.0\n",
      "считаем в цикле\n",
      "5.0\n",
      "считаем в цикле\n",
      "6.0\n",
      "Пишем один раз\n"
     ]
    }
   ],
   "source": [
    "for a in [9, 16, 25]:\n",
    "    print('считаем в цикле')\n",
    "    print(a ** 0.5 + 1)\n",
    "print('Пишем один раз')"
   ]
  },
  {
   "cell_type": "markdown",
   "id": "ac7a30d5-6858-416e-9897-3398a3d58396",
   "metadata": {},
   "source": [
    "Цикл пишется по простому синтаксису:\n",
    "```python\n",
    "for один_элемент in список_или_tuple_или_set:\n",
    "    операция_1\n",
    "    операция_2\n",
    "```\n",
    "В _один_элемент_ на каждом прогоне (или _итерации_) один за другим будут записываться объекты из списка.\n",
    "\n",
    "Обратите внимание на двоеточие в конце строки (:) и отбивку табуляцией (или 4-мя пробелами) - это требования синтаксиса.\n",
    "Через отбивку пробелами Python \"понимает\", какие команды надо повторять в цикле, а какие нет. При этом команды, которые цикл будет повторять раз за разом, называются _телом цикла_.\n",
    "\n",
    "В примере выше первые два `print` идут в цикле, а последний - нет, поэтому он исполняется только один раз. Попробуте добавить в список `[9, 16, 25]` еще несколько значений и посмотрите, как поменяется вывод.\n",
    "\n",
    "Давайте посмотрим, как это может применяться на практике:"
   ]
  },
  {
   "cell_type": "code",
   "execution_count": 77,
   "id": "8d02f714-19c1-44f5-a192-222842504ad9",
   "metadata": {
    "ExecuteTime": {
     "end_time": "2021-12-13T18:28:10.312310Z",
     "start_time": "2021-12-13T18:28:10.308599Z"
    }
   },
   "outputs": [
    {
     "name": "stdout",
     "output_type": "stream",
     "text": [
      "0\n",
      "1\n",
      "2\n",
      "3\n",
      "4\n"
     ]
    }
   ],
   "source": [
    "# range(n) сгенерирует все числа от 0 до n-1 (последний не входит!)\n",
    "# range очень часто встречается на практике, на нем остановимся детальнее\n",
    "for i in range(5):\n",
    "    print(i)"
   ]
  },
  {
   "cell_type": "code",
   "execution_count": 79,
   "id": "519bcc5e-e5e4-42f6-a0fb-656288e97c87",
   "metadata": {
    "ExecuteTime": {
     "end_time": "2021-12-13T18:30:46.848660Z",
     "start_time": "2021-12-13T18:30:46.845498Z"
    }
   },
   "outputs": [
    {
     "name": "stdout",
     "output_type": "stream",
     "text": [
      "Квадрат числа 1 есть 1\n",
      "Квадрат числа 2 есть 4\n",
      "Квадрат числа 3 есть 9\n",
      "Квадрат числа 4 есть 16\n",
      "Квадрат числа 5 есть 25\n",
      "Квадрат числа 6 есть 36\n"
     ]
    }
   ],
   "source": [
    "# range(start, stop) сгенерирует все числа от start до stop - 1\n",
    "for i in range(1, 7):\n",
    "    # f\"что-то\" называется f-string\n",
    "    # через него можно подставить значение Python-выражения прямо в строку\n",
    "    print(f'Квадрат числа {i} есть {i * i}')"
   ]
  },
  {
   "cell_type": "code",
   "execution_count": 84,
   "id": "e28bd8b2-eb3f-4391-8875-9327c1fefd86",
   "metadata": {
    "ExecuteTime": {
     "end_time": "2021-12-13T18:33:25.046190Z",
     "start_time": "2021-12-13T18:33:25.042331Z"
    }
   },
   "outputs": [
    {
     "name": "stdout",
     "output_type": "stream",
     "text": [
      "Генерируем четные числа\n",
      "[0, 2, 4, 6, 8, 10, 12]\n"
     ]
    }
   ],
   "source": [
    "print('Генерируем четные числа')\n",
    "# range(start, stop, step) генерирует от start до (stop - 1) с шагом step\n",
    "even_numbers = []\n",
    "for i in range(0, 14, 2):\n",
    "    even_numbers.append(i)\n",
    "print(even_numbers)"
   ]
  },
  {
   "cell_type": "markdown",
   "id": "82e54531-7eeb-4f0e-be8f-ce18d99e3262",
   "metadata": {
    "tags": []
   },
   "source": [
    "### Цикл while\n",
    "Если цикл `for` бегал по элементам из набора, то циклу `while` не нужны никакие списки.\n",
    "Он просто прогоняет код в своем _теле цикла_ до тех пор, пока верно некое утверждение.\n",
    "\n",
    "Давайте посмотрим, как это может работать:"
   ]
  },
  {
   "cell_type": "code",
   "execution_count": 85,
   "id": "4f4f626c-70ba-46c3-9c3f-a8801dad7f4e",
   "metadata": {
    "ExecuteTime": {
     "end_time": "2021-12-13T18:36:39.429689Z",
     "start_time": "2021-12-13T18:36:39.424281Z"
    }
   },
   "outputs": [
    {
     "name": "stdout",
     "output_type": "stream",
     "text": [
      "делится на 2, делим\n",
      "делится на 2, делим\n",
      "делится на 2, делим\n",
      "делится на 2, делим\n",
      "делится на 2, делим\n",
      "делится на 2, делим\n",
      "541\n"
     ]
    }
   ],
   "source": [
    "# Представим, что нас попросили подсчитать, сколько раз число делится на 2\n",
    "number = 34624\n",
    "\n",
    "# Мы заранее не можем знать, сколько раз число поделится на 2 - тут и выручает while\n",
    "while number % 2 == 0:  # кстати, number % 2 == 0 - имеет булевый тип\n",
    "    print('делится на 2, делим')\n",
    "    number //= 2 # то же самое, что number = number // 2\n",
    "print(number)"
   ]
  },
  {
   "cell_type": "markdown",
   "id": "7f6f9762-e842-44d2-8ccc-325b8ca53c7a",
   "metadata": {},
   "source": [
    "Что делает `==`? Это оператор, проверящий на равенство: `number % 2 == 0` проверяет, равен ли остаток от деления на два нулю (проверка на четность). Если это так, то все конструкция обратится в `True` - это увидит `while` и войдет внутрь цикла.\n",
    "\n",
    "Как только `number % 2 == 0` станет `False` (т.е. остаток перестанет быть нулем), цикл `while` \"увидит\" это и воспримет как сигнал завершения - больше внутрь цикла заходить не будет. После этого выполнится `print(number)`."
   ]
  },
  {
   "cell_type": "markdown",
   "id": "150a07f6-f08c-40ce-9e51-a4c1e00803e8",
   "metadata": {
    "tags": []
   },
   "source": [
    "### Условный оператор: `if`\n",
    "\n",
    "Представим ситуацию, когда нам дан на входе список балансов на счетах клиентов и нам надо вывести все счета с отрицательным балансом.\n",
    "В голову приходит сравнивать баланс с нулем и если он меньше нуля, то записать в ответ. Но как объяснить Питону это \"если\"?\n",
    "\n",
    "На помощь приходит оператор `if`:"
   ]
  },
  {
   "cell_type": "code",
   "execution_count": 88,
   "id": "5a70cee3-2bb2-4f67-8ddc-58e3831a1167",
   "metadata": {
    "ExecuteTime": {
     "end_time": "2021-12-13T18:42:30.841105Z",
     "start_time": "2021-12-13T18:42:30.837961Z"
    }
   },
   "outputs": [
    {
     "name": "stdout",
     "output_type": "stream",
     "text": [
      "число четное\n"
     ]
    }
   ],
   "source": [
    "# Простой пример для затравки: в зависимости от четности пишем разные сообщения\n",
    "number = 4\n",
    "if number % 2 == 0:\n",
    "    print('число четное')\n",
    "else:\n",
    "    print('Число нечетное')"
   ]
  },
  {
   "cell_type": "code",
   "execution_count": 89,
   "id": "5711bab4-bd04-4543-8a65-06359d2bef5d",
   "metadata": {
    "ExecuteTime": {
     "end_time": "2021-12-13T18:44:31.808703Z",
     "start_time": "2021-12-13T18:44:31.801201Z"
    }
   },
   "outputs": [
    {
     "name": "stdout",
     "output_type": "stream",
     "text": [
      "закончили обрабатывать баланс 1482.0\n",
      "закончили обрабатывать баланс 28182.12\n",
      "-124.42 отрицателен, записываем в ответ\n",
      "закончили обрабатывать баланс -124.42\n",
      "закончили обрабатывать баланс 85.3\n",
      "-23.5 отрицателен, записываем в ответ\n",
      "закончили обрабатывать баланс -23.5\n",
      "закончили обрабатывать баланс 82\n",
      "Отрицательные балансы: [-124.42, -23.5]\n"
     ]
    }
   ],
   "source": [
    "# А теперь поищем счета с отрицательным балансом\n",
    "accounts_balance = [1482.0, 28182.12, -124.42, 85.3, -23.5, 82]  # входные данные\n",
    "\n",
    "# сюда запишем ответ\n",
    "negative_accounts = []\n",
    "# проходимся по всем элементам во входных данных\n",
    "for balance in accounts_balance:\n",
    "    # если значение текущего элемента < 0, то идем во внутрь `if`\n",
    "    if balance < 0:\n",
    "        print(f'{balance} отрицателен, записываем в ответ')\n",
    "        negative_accounts.append(balance)\n",
    "    # выполнится в любом случае, т.к. не находится под властью `if` (отступы важны!)\n",
    "    print(f'закончили обрабатывать баланс {balance}')\n",
    "    \n",
    "print(f'Отрицательные балансы: {negative_accounts}')"
   ]
  },
  {
   "cell_type": "markdown",
   "id": "48ce3e26-304c-46e1-ad6d-7d841d78e5ba",
   "metadata": {},
   "source": [
    "Сразу посмотрим на коснструкцию `if`. Ничего не напоминает? Синтаксис точно такой же, как у `while` - и это не спроста: в Python `for`, `while` и `if` являются _блочными_ конструкциями: они формируют блоки и каким-то образом их контролируют (`for` и `while` формируют блок повторяющихся операций, а `if` формирует блок, который выполнится при определенном условии).\n",
    "\n",
    "`if` достаточно умен, чтобы обрабатывать сразу несколько случаев:"
   ]
  },
  {
   "cell_type": "code",
   "execution_count": 92,
   "id": "d0415f18-75c0-452e-b45a-e5096ccd9001",
   "metadata": {
    "ExecuteTime": {
     "end_time": "2021-12-13T18:51:21.658466Z",
     "start_time": "2021-12-13T18:51:12.571897Z"
    }
   },
   "outputs": [
    {
     "name": "stdout",
     "output_type": "stream",
     "text": [
      "Норвегия\n",
      "Неизвестно\n"
     ]
    }
   ],
   "source": [
    "# input() - это запрос ввода от пользователя\n",
    "# У вас появится внизу строка, куда можно ввести что угодно и это запишется в `name`\n",
    "# Попробуйте ввести в строку \"Москва\" и \"Лондон\" без кавычек (запустите ячейку два раза)\n",
    "name = input()\n",
    "if name == 'Москва':\n",
    "    print('Столица России')\n",
    "# else if\n",
    "elif name == 'Лондон':\n",
    "    print('Столица Великобритании')\n",
    "else:\n",
    "    print('Неизвестно')"
   ]
  },
  {
   "cell_type": "markdown",
   "id": "8f129b45-e6c0-490a-b95f-cd34845e7d35",
   "metadata": {},
   "source": [
    "Работает следующим образом: если условие после `if` не выполнено, то идут проверяться условия после `elif` в том порядке, в каком они записаны в коде. Отбирается первое правильное - и в его блок исполняется. Если ничего не нашлось, то выполняется код из `else`.\n",
    "\n",
    "\n",
    "### break, continue\n",
    "Расскажем напоследок про два важных дополнения к `for` и `while`: это команды `break` и `continue`. Оба дают возможность выйти из цикла раньше задуманного:"
   ]
  },
  {
   "cell_type": "code",
   "execution_count": 93,
   "id": "d3c07fbf-26b9-4b9b-9674-2230b0c07b03",
   "metadata": {
    "ExecuteTime": {
     "end_time": "2021-12-13T18:53:07.469600Z",
     "start_time": "2021-12-13T18:53:07.463309Z"
    },
    "tags": []
   },
   "outputs": [
    {
     "name": "stdout",
     "output_type": "stream",
     "text": [
      "see\n",
      "this\n",
      "long\n",
      "sentence\n"
     ]
    }
   ],
   "source": [
    "words = ['see', 'this', 'long', 'sentence', 'here', 'no-show', 'no-show']\n",
    "for i in range(len(words)):\n",
    "    # Если треье слово - вылезаем досрочно\n",
    "    print(words[i])\n",
    "    if i > 2:\n",
    "        # Выведет досрочно из цикла\n",
    "        break"
   ]
  },
  {
   "cell_type": "code",
   "execution_count": 100,
   "id": "428672d7-24e4-4e74-976f-27aef8f826df",
   "metadata": {
    "ExecuteTime": {
     "end_time": "2021-12-13T18:59:58.622096Z",
     "start_time": "2021-12-13T18:59:58.617650Z"
    }
   },
   "outputs": [
    {
     "name": "stdout",
     "output_type": "stream",
     "text": [
      "0 0\n",
      "0 1\n",
      "0 2\n",
      "0 3\n",
      "увеличиваем i\n",
      "1 0\n",
      "1 1\n",
      "1 2\n",
      "1 3\n",
      "увеличиваем i\n",
      "2 0\n",
      "2 1\n",
      "2 2\n",
      "2 3\n",
      "увеличиваем i\n",
      "3 0\n",
      "3 1\n",
      "3 2\n",
      "3 3\n",
      "увеличиваем i\n",
      "4 0\n",
      "4 1\n",
      "4 2\n",
      "4 3\n",
      "увеличиваем i\n"
     ]
    }
   ],
   "source": [
    "for i in range(5):\n",
    "    for j in range(7):\n",
    "        print(i, j)\n",
    "        if j > 2:\n",
    "            # Выкинет только из внутреннего цикла\n",
    "            # Увидим, что i в выводе принимает значения 3, 4\n",
    "            # это ожидаемо: break происходит после print(i, j) и одна итерация \"просачивается\"\n",
    "            break\n",
    "    print('увеличиваем i')"
   ]
  },
  {
   "cell_type": "markdown",
   "id": "a5b3885c-1d86-4488-8786-e53cdc37843e",
   "metadata": {},
   "source": [
    "`continue` работает схожим образом, только не выходит целиком из цикла, а пропускает одну итерацию:"
   ]
  },
  {
   "cell_type": "code",
   "execution_count": 102,
   "id": "74ee1b81-40df-473f-a71d-784dc607231f",
   "metadata": {
    "ExecuteTime": {
     "end_time": "2021-12-13T19:01:45.304141Z",
     "start_time": "2021-12-13T19:01:45.297828Z"
    }
   },
   "outputs": [
    {
     "name": "stdout",
     "output_type": "stream",
     "text": [
      "starting action: make sandwitch\n",
      "Coffee machine is broken, skipping :(\n",
      "starting action: watch TV\n",
      "starting action: wash plate\n"
     ]
    }
   ],
   "source": [
    "for feature in ['make sandwitch', 'make coffee', 'watch TV', 'wash plate']:\n",
    "    if feature == 'make coffee':\n",
    "        # Пропустим одну итерацию в цикле\n",
    "        print('Coffee machine is broken, skipping :(')\n",
    "        continue\n",
    "    # else уже не нужен - если условие не истинно\n",
    "    # то все равно выйдем на print ниже\n",
    "    # а если истинно - continue гарантирует, что дальше цикл выполняться не будет\n",
    "    print(f'starting action: {feature}')"
   ]
  },
  {
   "cell_type": "markdown",
   "id": "760b3826-e787-48ea-b04f-6b53a74eea14",
   "metadata": {},
   "source": [
    "Для чего это может быть нужно? Иногда в логике цикла бывают отклонения: скажем, определенную комбинацию параметров нельзя обрабатывать циклом - тогда используем `continue`.\n",
    "\n",
    "`break` чаще всего используется в циклах `while` как уточнение, когда останвливать цикл.\n",
    "Пример: в машинном обучении есть алгоритм градиентного спуска, который \"учит\" модель на данных. Процесс \"обучения\" идет по шагам, и часто процесс надо прервать, если новый шаг не привел к улучшению модели - в таких случаях можно применить `break` для выхода."
   ]
  }
 ],
 "metadata": {
  "kernelspec": {
   "display_name": "Python 3",
   "language": "python",
   "name": "python3"
  },
  "language_info": {
   "codemirror_mode": {
    "name": "ipython",
    "version": 3
   },
   "file_extension": ".py",
   "mimetype": "text/x-python",
   "name": "python",
   "nbconvert_exporter": "python",
   "pygments_lexer": "ipython3",
   "version": "3.9.5"
  },
  "toc": {
   "base_numbering": 1,
   "nav_menu": {},
   "number_sections": true,
   "sideBar": true,
   "skip_h1_title": false,
   "title_cell": "Table of Contents",
   "title_sidebar": "Contents",
   "toc_cell": false,
   "toc_position": {},
   "toc_section_display": true,
   "toc_window_display": false
  },
  "varInspector": {
   "cols": {
    "lenName": 16,
    "lenType": 16,
    "lenVar": 40
   },
   "kernels_config": {
    "python": {
     "delete_cmd_postfix": "",
     "delete_cmd_prefix": "del ",
     "library": "var_list.py",
     "varRefreshCmd": "print(var_dic_list())"
    },
    "r": {
     "delete_cmd_postfix": ") ",
     "delete_cmd_prefix": "rm(",
     "library": "var_list.r",
     "varRefreshCmd": "cat(var_dic_list()) "
    }
   },
   "types_to_exclude": [
    "module",
    "function",
    "builtin_function_or_method",
    "instance",
    "_Feature"
   ],
   "window_display": false
  }
 },
 "nbformat": 4,
 "nbformat_minor": 5
}
