{
 "cells": [
  {
   "cell_type": "markdown",
   "id": "1a40efc0",
   "metadata": {},
   "source": [
    "### В данном уроке мы выделим еще несколько потенциально важных фичей из изначального датасета и попробуем применить изученные методы отбора признаков к итоговому датасету."
   ]
  },
  {
   "cell_type": "code",
   "execution_count": 1,
   "id": "1c2b72ac",
   "metadata": {},
   "outputs": [
    {
     "data": {
      "text/html": [
       "<div>\n",
       "<style scoped>\n",
       "    .dataframe tbody tr th:only-of-type {\n",
       "        vertical-align: middle;\n",
       "    }\n",
       "\n",
       "    .dataframe tbody tr th {\n",
       "        vertical-align: top;\n",
       "    }\n",
       "\n",
       "    .dataframe thead th {\n",
       "        text-align: right;\n",
       "    }\n",
       "</style>\n",
       "<table border=\"1\" class=\"dataframe\">\n",
       "  <thead>\n",
       "    <tr style=\"text-align: right;\">\n",
       "      <th></th>\n",
       "      <th>vendor_id</th>\n",
       "      <th>passenger_count</th>\n",
       "      <th>store_and_fwd_flag</th>\n",
       "      <th>distance_km</th>\n",
       "      <th>log_trip_duration</th>\n",
       "    </tr>\n",
       "    <tr>\n",
       "      <th>id</th>\n",
       "      <th></th>\n",
       "      <th></th>\n",
       "      <th></th>\n",
       "      <th></th>\n",
       "      <th></th>\n",
       "    </tr>\n",
       "  </thead>\n",
       "  <tbody>\n",
       "    <tr>\n",
       "      <th>id2875421</th>\n",
       "      <td>1</td>\n",
       "      <td>930.399753</td>\n",
       "      <td>0</td>\n",
       "      <td>1.500479</td>\n",
       "      <td>6.122493</td>\n",
       "    </tr>\n",
       "    <tr>\n",
       "      <th>id2377394</th>\n",
       "      <td>0</td>\n",
       "      <td>930.399753</td>\n",
       "      <td>0</td>\n",
       "      <td>1.807119</td>\n",
       "      <td>6.498282</td>\n",
       "    </tr>\n",
       "    <tr>\n",
       "      <th>id3858529</th>\n",
       "      <td>1</td>\n",
       "      <td>930.399753</td>\n",
       "      <td>0</td>\n",
       "      <td>6.392080</td>\n",
       "      <td>7.661527</td>\n",
       "    </tr>\n",
       "    <tr>\n",
       "      <th>id3504673</th>\n",
       "      <td>1</td>\n",
       "      <td>930.399753</td>\n",
       "      <td>0</td>\n",
       "      <td>1.487155</td>\n",
       "      <td>6.063785</td>\n",
       "    </tr>\n",
       "    <tr>\n",
       "      <th>id2181028</th>\n",
       "      <td>1</td>\n",
       "      <td>930.399753</td>\n",
       "      <td>0</td>\n",
       "      <td>1.189925</td>\n",
       "      <td>6.077642</td>\n",
       "    </tr>\n",
       "  </tbody>\n",
       "</table>\n",
       "</div>"
      ],
      "text/plain": [
       "           vendor_id  passenger_count  store_and_fwd_flag  distance_km  \\\n",
       "id                                                                       \n",
       "id2875421          1       930.399753                   0     1.500479   \n",
       "id2377394          0       930.399753                   0     1.807119   \n",
       "id3858529          1       930.399753                   0     6.392080   \n",
       "id3504673          1       930.399753                   0     1.487155   \n",
       "id2181028          1       930.399753                   0     1.189925   \n",
       "\n",
       "           log_trip_duration  \n",
       "id                            \n",
       "id2875421           6.122493  \n",
       "id2377394           6.498282  \n",
       "id3858529           7.661527  \n",
       "id3504673           6.063785  \n",
       "id2181028           6.077642  "
      ]
     },
     "execution_count": 1,
     "metadata": {},
     "output_type": "execute_result"
    }
   ],
   "source": [
    "import numpy as np\n",
    "import pandas as pd\n",
    "\n",
    "processed_data = pd.read_csv('processed_data.csv', index_col='id')\n",
    "\n",
    "processed_data.head()"
   ]
  },
  {
   "cell_type": "code",
   "execution_count": 2,
   "id": "98e1d22d",
   "metadata": {},
   "outputs": [
    {
     "data": {
      "text/html": [
       "<div>\n",
       "<style scoped>\n",
       "    .dataframe tbody tr th:only-of-type {\n",
       "        vertical-align: middle;\n",
       "    }\n",
       "\n",
       "    .dataframe tbody tr th {\n",
       "        vertical-align: top;\n",
       "    }\n",
       "\n",
       "    .dataframe thead th {\n",
       "        text-align: right;\n",
       "    }\n",
       "</style>\n",
       "<table border=\"1\" class=\"dataframe\">\n",
       "  <thead>\n",
       "    <tr style=\"text-align: right;\">\n",
       "      <th></th>\n",
       "      <th>id</th>\n",
       "      <th>vendor_id</th>\n",
       "      <th>pickup_datetime</th>\n",
       "      <th>dropoff_datetime</th>\n",
       "      <th>passenger_count</th>\n",
       "      <th>pickup_longitude</th>\n",
       "      <th>pickup_latitude</th>\n",
       "      <th>dropoff_longitude</th>\n",
       "      <th>dropoff_latitude</th>\n",
       "      <th>store_and_fwd_flag</th>\n",
       "    </tr>\n",
       "  </thead>\n",
       "  <tbody>\n",
       "    <tr>\n",
       "      <th>0</th>\n",
       "      <td>id2875421</td>\n",
       "      <td>2</td>\n",
       "      <td>2016-03-14 17:24:55</td>\n",
       "      <td>2016-03-14 17:32:30</td>\n",
       "      <td>1</td>\n",
       "      <td>-73.982155</td>\n",
       "      <td>40.767937</td>\n",
       "      <td>-73.964630</td>\n",
       "      <td>40.765602</td>\n",
       "      <td>N</td>\n",
       "    </tr>\n",
       "    <tr>\n",
       "      <th>1</th>\n",
       "      <td>id2377394</td>\n",
       "      <td>1</td>\n",
       "      <td>2016-06-12 00:43:35</td>\n",
       "      <td>2016-06-12 00:54:38</td>\n",
       "      <td>1</td>\n",
       "      <td>-73.980415</td>\n",
       "      <td>40.738564</td>\n",
       "      <td>-73.999481</td>\n",
       "      <td>40.731152</td>\n",
       "      <td>N</td>\n",
       "    </tr>\n",
       "    <tr>\n",
       "      <th>2</th>\n",
       "      <td>id3858529</td>\n",
       "      <td>2</td>\n",
       "      <td>2016-01-19 11:35:24</td>\n",
       "      <td>2016-01-19 12:10:48</td>\n",
       "      <td>1</td>\n",
       "      <td>-73.979027</td>\n",
       "      <td>40.763939</td>\n",
       "      <td>-74.005333</td>\n",
       "      <td>40.710087</td>\n",
       "      <td>N</td>\n",
       "    </tr>\n",
       "    <tr>\n",
       "      <th>3</th>\n",
       "      <td>id3504673</td>\n",
       "      <td>2</td>\n",
       "      <td>2016-04-06 19:32:31</td>\n",
       "      <td>2016-04-06 19:39:40</td>\n",
       "      <td>1</td>\n",
       "      <td>-74.010040</td>\n",
       "      <td>40.719971</td>\n",
       "      <td>-74.012268</td>\n",
       "      <td>40.706718</td>\n",
       "      <td>N</td>\n",
       "    </tr>\n",
       "    <tr>\n",
       "      <th>4</th>\n",
       "      <td>id2181028</td>\n",
       "      <td>2</td>\n",
       "      <td>2016-03-26 13:30:55</td>\n",
       "      <td>2016-03-26 13:38:10</td>\n",
       "      <td>1</td>\n",
       "      <td>-73.973053</td>\n",
       "      <td>40.793209</td>\n",
       "      <td>-73.972923</td>\n",
       "      <td>40.782520</td>\n",
       "      <td>N</td>\n",
       "    </tr>\n",
       "  </tbody>\n",
       "</table>\n",
       "</div>"
      ],
      "text/plain": [
       "          id  vendor_id      pickup_datetime     dropoff_datetime  \\\n",
       "0  id2875421          2  2016-03-14 17:24:55  2016-03-14 17:32:30   \n",
       "1  id2377394          1  2016-06-12 00:43:35  2016-06-12 00:54:38   \n",
       "2  id3858529          2  2016-01-19 11:35:24  2016-01-19 12:10:48   \n",
       "3  id3504673          2  2016-04-06 19:32:31  2016-04-06 19:39:40   \n",
       "4  id2181028          2  2016-03-26 13:30:55  2016-03-26 13:38:10   \n",
       "\n",
       "   passenger_count  pickup_longitude  pickup_latitude  dropoff_longitude  \\\n",
       "0                1        -73.982155        40.767937         -73.964630   \n",
       "1                1        -73.980415        40.738564         -73.999481   \n",
       "2                1        -73.979027        40.763939         -74.005333   \n",
       "3                1        -74.010040        40.719971         -74.012268   \n",
       "4                1        -73.973053        40.793209         -73.972923   \n",
       "\n",
       "   dropoff_latitude store_and_fwd_flag  \n",
       "0         40.765602                  N  \n",
       "1         40.731152                  N  \n",
       "2         40.710087                  N  \n",
       "3         40.706718                  N  \n",
       "4         40.782520                  N  "
      ]
     },
     "execution_count": 2,
     "metadata": {},
     "output_type": "execute_result"
    }
   ],
   "source": [
    "initial_data = pd.read_csv('taxi_dataset.csv')\n",
    "\n",
    "initial_data.head()"
   ]
  },
  {
   "cell_type": "code",
   "execution_count": 3,
   "id": "e7b57453",
   "metadata": {},
   "outputs": [
    {
     "data": {
      "text/plain": [
       "True"
      ]
     },
     "execution_count": 3,
     "metadata": {},
     "output_type": "execute_result"
    }
   ],
   "source": [
    "initial_data.shape[0] == processed_data.shape[0]"
   ]
  },
  {
   "cell_type": "code",
   "execution_count": 4,
   "id": "ab7ef9d7",
   "metadata": {},
   "outputs": [],
   "source": [
    "### Вернем в датасет колонку pickup_datetime\n",
    "\n",
    "initial_data = initial_data.set_index('id')\n",
    "\n",
    "processed_data = pd.merge(processed_data, initial_data['pickup_datetime'],\n",
    "                          left_index=True, right_index=True)"
   ]
  },
  {
   "cell_type": "code",
   "execution_count": 5,
   "id": "71718ddd",
   "metadata": {},
   "outputs": [
    {
     "data": {
      "text/html": [
       "<div>\n",
       "<style scoped>\n",
       "    .dataframe tbody tr th:only-of-type {\n",
       "        vertical-align: middle;\n",
       "    }\n",
       "\n",
       "    .dataframe tbody tr th {\n",
       "        vertical-align: top;\n",
       "    }\n",
       "\n",
       "    .dataframe thead th {\n",
       "        text-align: right;\n",
       "    }\n",
       "</style>\n",
       "<table border=\"1\" class=\"dataframe\">\n",
       "  <thead>\n",
       "    <tr style=\"text-align: right;\">\n",
       "      <th></th>\n",
       "      <th>vendor_id</th>\n",
       "      <th>passenger_count</th>\n",
       "      <th>store_and_fwd_flag</th>\n",
       "      <th>distance_km</th>\n",
       "      <th>log_trip_duration</th>\n",
       "      <th>pickup_datetime</th>\n",
       "    </tr>\n",
       "    <tr>\n",
       "      <th>id</th>\n",
       "      <th></th>\n",
       "      <th></th>\n",
       "      <th></th>\n",
       "      <th></th>\n",
       "      <th></th>\n",
       "      <th></th>\n",
       "    </tr>\n",
       "  </thead>\n",
       "  <tbody>\n",
       "    <tr>\n",
       "      <th>id2875421</th>\n",
       "      <td>1</td>\n",
       "      <td>930.399753</td>\n",
       "      <td>0</td>\n",
       "      <td>1.500479</td>\n",
       "      <td>6.122493</td>\n",
       "      <td>2016-03-14 17:24:55</td>\n",
       "    </tr>\n",
       "    <tr>\n",
       "      <th>id2377394</th>\n",
       "      <td>0</td>\n",
       "      <td>930.399753</td>\n",
       "      <td>0</td>\n",
       "      <td>1.807119</td>\n",
       "      <td>6.498282</td>\n",
       "      <td>2016-06-12 00:43:35</td>\n",
       "    </tr>\n",
       "    <tr>\n",
       "      <th>id3858529</th>\n",
       "      <td>1</td>\n",
       "      <td>930.399753</td>\n",
       "      <td>0</td>\n",
       "      <td>6.392080</td>\n",
       "      <td>7.661527</td>\n",
       "      <td>2016-01-19 11:35:24</td>\n",
       "    </tr>\n",
       "    <tr>\n",
       "      <th>id3504673</th>\n",
       "      <td>1</td>\n",
       "      <td>930.399753</td>\n",
       "      <td>0</td>\n",
       "      <td>1.487155</td>\n",
       "      <td>6.063785</td>\n",
       "      <td>2016-04-06 19:32:31</td>\n",
       "    </tr>\n",
       "    <tr>\n",
       "      <th>id2181028</th>\n",
       "      <td>1</td>\n",
       "      <td>930.399753</td>\n",
       "      <td>0</td>\n",
       "      <td>1.189925</td>\n",
       "      <td>6.077642</td>\n",
       "      <td>2016-03-26 13:30:55</td>\n",
       "    </tr>\n",
       "  </tbody>\n",
       "</table>\n",
       "</div>"
      ],
      "text/plain": [
       "           vendor_id  passenger_count  store_and_fwd_flag  distance_km  \\\n",
       "id                                                                       \n",
       "id2875421          1       930.399753                   0     1.500479   \n",
       "id2377394          0       930.399753                   0     1.807119   \n",
       "id3858529          1       930.399753                   0     6.392080   \n",
       "id3504673          1       930.399753                   0     1.487155   \n",
       "id2181028          1       930.399753                   0     1.189925   \n",
       "\n",
       "           log_trip_duration      pickup_datetime  \n",
       "id                                                 \n",
       "id2875421           6.122493  2016-03-14 17:24:55  \n",
       "id2377394           6.498282  2016-06-12 00:43:35  \n",
       "id3858529           7.661527  2016-01-19 11:35:24  \n",
       "id3504673           6.063785  2016-04-06 19:32:31  \n",
       "id2181028           6.077642  2016-03-26 13:30:55  "
      ]
     },
     "execution_count": 5,
     "metadata": {},
     "output_type": "execute_result"
    }
   ],
   "source": [
    "processed_data.head()"
   ]
  },
  {
   "cell_type": "markdown",
   "id": "8584e7c2",
   "metadata": {},
   "source": [
    "Напомним, **pickup_datetime** - время начала поездки.\n",
    "\n",
    "Кажется, что в зависимости от месяца/дня недели/времени суток движение на дорогах может отличаться. Как из-за погодных условий, так и из-за загруженности транспорта. Поэтому, есть подозрение, что будет полезно выделить ряд признаков из колонки **pickup_datetime**. Давайте исследуем зависимость нашей таргетной переменной от указанных факторов."
   ]
  },
  {
   "cell_type": "code",
   "execution_count": 6,
   "id": "be3da956",
   "metadata": {},
   "outputs": [],
   "source": [
    "processed_data['pickup_datetime'] = pd.to_datetime(processed_data['pickup_datetime'])\n",
    "\n",
    "processed_data['date'] = processed_data.pickup_datetime.dt.date\n",
    "processed_data['day_of_week'] = processed_data.pickup_datetime.dt.dayofweek\n",
    "processed_data['hour'] = processed_data.pickup_datetime.dt.hour\n",
    "processed_data['month'] = processed_data.pickup_datetime.dt.month"
   ]
  },
  {
   "cell_type": "code",
   "execution_count": 7,
   "id": "df01fb66",
   "metadata": {},
   "outputs": [
    {
     "data": {
      "text/html": [
       "<div>\n",
       "<style scoped>\n",
       "    .dataframe tbody tr th:only-of-type {\n",
       "        vertical-align: middle;\n",
       "    }\n",
       "\n",
       "    .dataframe tbody tr th {\n",
       "        vertical-align: top;\n",
       "    }\n",
       "\n",
       "    .dataframe thead th {\n",
       "        text-align: right;\n",
       "    }\n",
       "</style>\n",
       "<table border=\"1\" class=\"dataframe\">\n",
       "  <thead>\n",
       "    <tr style=\"text-align: right;\">\n",
       "      <th></th>\n",
       "      <th>vendor_id</th>\n",
       "      <th>passenger_count</th>\n",
       "      <th>store_and_fwd_flag</th>\n",
       "      <th>distance_km</th>\n",
       "      <th>log_trip_duration</th>\n",
       "      <th>pickup_datetime</th>\n",
       "      <th>date</th>\n",
       "      <th>day_of_week</th>\n",
       "      <th>hour</th>\n",
       "      <th>month</th>\n",
       "    </tr>\n",
       "    <tr>\n",
       "      <th>id</th>\n",
       "      <th></th>\n",
       "      <th></th>\n",
       "      <th></th>\n",
       "      <th></th>\n",
       "      <th></th>\n",
       "      <th></th>\n",
       "      <th></th>\n",
       "      <th></th>\n",
       "      <th></th>\n",
       "      <th></th>\n",
       "    </tr>\n",
       "  </thead>\n",
       "  <tbody>\n",
       "    <tr>\n",
       "      <th>id2875421</th>\n",
       "      <td>1</td>\n",
       "      <td>930.399753</td>\n",
       "      <td>0</td>\n",
       "      <td>1.500479</td>\n",
       "      <td>6.122493</td>\n",
       "      <td>2016-03-14 17:24:55</td>\n",
       "      <td>2016-03-14</td>\n",
       "      <td>0</td>\n",
       "      <td>17</td>\n",
       "      <td>3</td>\n",
       "    </tr>\n",
       "    <tr>\n",
       "      <th>id2377394</th>\n",
       "      <td>0</td>\n",
       "      <td>930.399753</td>\n",
       "      <td>0</td>\n",
       "      <td>1.807119</td>\n",
       "      <td>6.498282</td>\n",
       "      <td>2016-06-12 00:43:35</td>\n",
       "      <td>2016-06-12</td>\n",
       "      <td>6</td>\n",
       "      <td>0</td>\n",
       "      <td>6</td>\n",
       "    </tr>\n",
       "    <tr>\n",
       "      <th>id3858529</th>\n",
       "      <td>1</td>\n",
       "      <td>930.399753</td>\n",
       "      <td>0</td>\n",
       "      <td>6.392080</td>\n",
       "      <td>7.661527</td>\n",
       "      <td>2016-01-19 11:35:24</td>\n",
       "      <td>2016-01-19</td>\n",
       "      <td>1</td>\n",
       "      <td>11</td>\n",
       "      <td>1</td>\n",
       "    </tr>\n",
       "    <tr>\n",
       "      <th>id3504673</th>\n",
       "      <td>1</td>\n",
       "      <td>930.399753</td>\n",
       "      <td>0</td>\n",
       "      <td>1.487155</td>\n",
       "      <td>6.063785</td>\n",
       "      <td>2016-04-06 19:32:31</td>\n",
       "      <td>2016-04-06</td>\n",
       "      <td>2</td>\n",
       "      <td>19</td>\n",
       "      <td>4</td>\n",
       "    </tr>\n",
       "    <tr>\n",
       "      <th>id2181028</th>\n",
       "      <td>1</td>\n",
       "      <td>930.399753</td>\n",
       "      <td>0</td>\n",
       "      <td>1.189925</td>\n",
       "      <td>6.077642</td>\n",
       "      <td>2016-03-26 13:30:55</td>\n",
       "      <td>2016-03-26</td>\n",
       "      <td>5</td>\n",
       "      <td>13</td>\n",
       "      <td>3</td>\n",
       "    </tr>\n",
       "  </tbody>\n",
       "</table>\n",
       "</div>"
      ],
      "text/plain": [
       "           vendor_id  passenger_count  store_and_fwd_flag  distance_km  \\\n",
       "id                                                                       \n",
       "id2875421          1       930.399753                   0     1.500479   \n",
       "id2377394          0       930.399753                   0     1.807119   \n",
       "id3858529          1       930.399753                   0     6.392080   \n",
       "id3504673          1       930.399753                   0     1.487155   \n",
       "id2181028          1       930.399753                   0     1.189925   \n",
       "\n",
       "           log_trip_duration     pickup_datetime        date  day_of_week  \\\n",
       "id                                                                          \n",
       "id2875421           6.122493 2016-03-14 17:24:55  2016-03-14            0   \n",
       "id2377394           6.498282 2016-06-12 00:43:35  2016-06-12            6   \n",
       "id3858529           7.661527 2016-01-19 11:35:24  2016-01-19            1   \n",
       "id3504673           6.063785 2016-04-06 19:32:31  2016-04-06            2   \n",
       "id2181028           6.077642 2016-03-26 13:30:55  2016-03-26            5   \n",
       "\n",
       "           hour  month  \n",
       "id                      \n",
       "id2875421    17      3  \n",
       "id2377394     0      6  \n",
       "id3858529    11      1  \n",
       "id3504673    19      4  \n",
       "id2181028    13      3  "
      ]
     },
     "execution_count": 7,
     "metadata": {},
     "output_type": "execute_result"
    }
   ],
   "source": [
    "processed_data.head()"
   ]
  },
  {
   "cell_type": "markdown",
   "id": "558e6a9c",
   "metadata": {},
   "source": [
    "Исследуем, когда и сколько поездок было совершено. \n",
    "\n",
    "Начнем с графиков, показывающих количество поездок в зависимости от времени суток/даты и т.д.\n",
    "\n",
    "Так же полезно сразу показать и среднее значение таргетной переменной."
   ]
  },
  {
   "cell_type": "code",
   "execution_count": 8,
   "id": "7228773f",
   "metadata": {},
   "outputs": [
    {
     "data": {
      "image/png": "[encoded data removed]",
      "text/plain": [
       "<Figure size 1152x720 with 2 Axes>"
      ]
     },
     "metadata": {
      "needs_background": "light"
     },
     "output_type": "display_data"
    }
   ],
   "source": [
    "import matplotlib.pyplot as plt\n",
    "\n",
    "fig = plt.figure()\n",
    "\n",
    "fig.set_size_inches(16, 10)\n",
    "\n",
    "ax_1 = fig.add_subplot(1, 2, 1)\n",
    "plt.hist(processed_data['date'], bins=processed_data.date.unique().shape[0])\n",
    "plt.ylim((4000, 10000))\n",
    "\n",
    "ax_2 = fig.add_subplot(1, 2, 2)\n",
    "plt.bar(sorted(list(processed_data['date'].unique())), \n",
    "        processed_data.groupby('date', as_index=False)['log_trip_duration'].mean()['log_trip_duration'],\n",
    "        width=1)\n",
    "plt.ylim((6, 7))\n",
    "\n",
    "fig.tight_layout()\n",
    "\n",
    "ax_1.set(title = 'Количество поездок по датам')\n",
    "ax_2.set(title = 'Средняя логарифмированная продолжительность поездок по датам')\n",
    "\n",
    "plt.show()"
   ]
  },
  {
   "cell_type": "markdown",
   "id": "b34f8ab1",
   "metadata": {},
   "source": [
    "Кажется, что внутри недели есть некоторая зависимость таргета от дня недели. \n",
    "\n",
    "Такая же зависимость может оказаться и внутри дня (в завимости от часов).\n",
    "\n",
    "Предлагаю исследовать эту зависимость подробнее.\n",
    "\n",
    "Изобразите следующие графики зависимостей:\n",
    "\n",
    "- Количество поездок/Средняя продолжительность поездки vs День недели\n",
    "- Количество поездок/Средняя продолжительность поездки vs время суток\n",
    "- Средняя продолжительность поездки vs время суток для каждого дня недели (например, нарисовав с разными цветами и, соответственно, легендами)\n",
    "- Аналогичные графики, используя информацию о месяце, внутри которого была совершена поездка.\n",
    "- Ящики с усами для различных: времени суток, дня недели, месяца\n",
    "\n",
    "Используйте любые доступные инструменты pyplot!\n",
    "\n",
    "Далее, на основе полученных результатов, мы будем принимать решение о создании новых признаков.\n",
    "\n",
    "EDA можно использовать не только для того, чтобы понять, какие фичи можно убрать из датасета. Но и для выделения базовых признаков. Этим и займемся!\n",
    "\n",
    "P.S. Сами графики мы проверять у Вас не будем. Зато для ответа на устные вопросы понадобятся, поэтому, в любом случае, крайне рекомендуем поупражняться. Поэтому рисовать все графики не обязательно - ограничьтесь теми, которые помогут Вам ответить на тестовые вопросы.\n",
    "\n",
    "**Hint**: обратите внимание на сильную просадку в январе. Почему она могла произойти - можно прочитать <a href=\"https://en.wikipedia.org/wiki/January_2016_United_States_blizzard\"> здесь</a>. В будущем можно будет создать бинарный признак \"произошла ли поездка во время сильного снегопада\".\n"
   ]
  },
  {
   "cell_type": "code",
   "execution_count": 1,
   "id": "99713b2a",
   "metadata": {},
   "outputs": [],
   "source": [
    "### Your code is here\n",
    "\n",
    "\n"
   ]
  },
  {
   "cell_type": "markdown",
   "id": "174a22f0",
   "metadata": {},
   "source": [
    "Кажется, что полученные выводы из графиков выше достаточны для того, чтобы посчитать признаки, связанные с временем/датой поездки, достаточно важными. На их основе выделим еще пару.\n",
    "\n",
    "Добавьте следующие бинарные признаки:\n",
    "\n",
    "\n",
    "1. Была ли в день поездки буря (основываясь на единственном обнаруженном таком дне)\n",
    "2. Является ли время поездки статистически самым проблемным, то есть час пиком?\n",
    "\n",
    "Для создания 2ой фичи используйте следующую логику: посчитаем для каждой пары \"день недели\"-\"время суток\" среднее значение таргета. Найдем топ-10 самых \"больших\" пар. Если поездка была совершена во входящее в этот топ время, то ставим 1. Иначе - 0. Получается бинарный признак.\n",
    "\n",
    "P.S. назовите колонки **anomaly** и **traffic_jam**"
   ]
  },
  {
   "cell_type": "code",
   "execution_count": 15,
   "id": "4602427d",
   "metadata": {},
   "outputs": [],
   "source": [
    "### Создадим первый бинарный признак\n",
    "### Your code is here\n"
   ]
  },
  {
   "cell_type": "code",
   "execution_count": 16,
   "id": "50c8bf30",
   "metadata": {},
   "outputs": [],
   "source": [
    "### Создадим второй бинарный признак\n",
    "### Your code is here"
   ]
  },
  {
   "cell_type": "code",
   "execution_count": null,
   "id": "9b6b6ff8",
   "metadata": {},
   "outputs": [],
   "source": [
    "processed_data.head()"
   ]
  },
  {
   "cell_type": "markdown",
   "id": "ce55afbe",
   "metadata": {},
   "source": [
    "Теперь колонки **pickup_datetime**, **date** можно убрать. А про оставшиеся **day_of_week**, **hour**, **month** необходимо подумать:\n",
    "\n",
    "- С одной стороны, первые две можно убрать, так как на их основе была создана колонка **traffic_jam**\n",
    "- С другой стороны, зависимость с колонкой **traffic_jam** нелинейная, поэтому можно попробовать использовать все фичи в комбинации. Конечно, лучше попробовать оба варианта и проэкспериментировать, но ради упрощения - оставим все колонки. Хоть **day_of_week**, **hour** и описываются числами, мы понимаем, что это скорее категориальные фичи. Потому что, например, отношение между 23:00 и 00:00 не такое же, как между числами 23 и 0. Закодируем их с помощью OneHotEncoder. \n",
    "- Последняя (**month**) очевидно категориальная. Можно закодировать ее тоже через OneHotEncoder."
   ]
  },
  {
   "cell_type": "code",
   "execution_count": 18,
   "id": "4c8c84ff",
   "metadata": {},
   "outputs": [],
   "source": [
    "processed_data = processed_data.drop(['pickup_datetime', 'date'], axis=1)"
   ]
  },
  {
   "cell_type": "code",
   "execution_count": 19,
   "id": "bef9a151",
   "metadata": {},
   "outputs": [],
   "source": [
    "### Делаем OneHotEncoding и конкатим с processed_data\n",
    "\n",
    "\n",
    "for col in ['day_of_week', 'hour', 'month']:\n",
    "    \n",
    "    ### Your code is here"
   ]
  },
  {
   "cell_type": "markdown",
   "id": "38a3d173",
   "metadata": {},
   "source": [
    "Что же, мы с Вами научились с помощью EDA визуализаций понимать важность признаков не только постфактум, но и до того, как сформировался финальный датасет - на этапе **выделения базовых фичей**."
   ]
  },
  {
   "cell_type": "markdown",
   "id": "c7b4a7a3",
   "metadata": {},
   "source": [
    "Обратимся теперь к методам фильтрации - например, применим корреляционный анализ для одной пары фичей, чтобы понять, нет ли относительно этих колонок в нашем датасете избытка информации. \n",
    "\n",
    "Вспомним так же изначальные вещественные признаки - distance_km, passenger_count\n",
    "\n",
    "Посчитайте корреляцию между ними. Есть ли какие-то основания для беспокойства?"
   ]
  },
  {
   "cell_type": "code",
   "execution_count": 2,
   "id": "dc09e702",
   "metadata": {},
   "outputs": [],
   "source": [
    "### Your code is here\n",
    "\n"
   ]
  },
  {
   "cell_type": "code",
   "execution_count": null,
   "id": "4d54ae07",
   "metadata": {},
   "outputs": [],
   "source": [
    "processed_data.head()"
   ]
  },
  {
   "cell_type": "code",
   "execution_count": 3,
   "id": "aa1f7faa",
   "metadata": {},
   "outputs": [],
   "source": [
    "### На данный момент у нас 41 фича\n",
    "### Представим, что хочется сократить их количество до 5.\n",
    "### Воспользуемся для этим каким-нибудь методом обертки\n",
    "### Например, метод прямого отбора\n",
    "\n",
    "### Your code is here\n"
   ]
  },
  {
   "cell_type": "code",
   "execution_count": 4,
   "id": "9745be8c",
   "metadata": {},
   "outputs": [],
   "source": [
    "### Перечислите фичи, которые окажутся наиболее желанными\n",
    "### Your code is here\n"
   ]
  },
  {
   "cell_type": "code",
   "execution_count": 5,
   "id": "ffcb5fc6",
   "metadata": {},
   "outputs": [],
   "source": [
    "### Представим, что мы с Вами ничего не знаем про Кросс-Валидацию и отложенную выборку\n",
    "### Замерьте качество линейной регрессии на данных фичах\n",
    "### Сильно ли оно отличается от полученного на Кросс-Валидации в прошлом уроке в ДЗ?\n",
    "\n",
    "### Your code is here\n",
    "\n"
   ]
  },
  {
   "cell_type": "code",
   "execution_count": null,
   "id": "b17b6f7b",
   "metadata": {},
   "outputs": [],
   "source": []
  }
 ],
 "metadata": {
  "kernelspec": {
   "display_name": "Python 3 (ipykernel)",
   "language": "python",
   "name": "python3"
  },
  "language_info": {
   "codemirror_mode": {
    "name": "ipython",
    "version": 3
   },
   "file_extension": ".py",
   "mimetype": "text/x-python",
   "name": "python",
   "nbconvert_exporter": "python",
   "pygments_lexer": "ipython3",
   "version": "3.8.10"
  }
 },
 "nbformat": 4,
 "nbformat_minor": 5
}
