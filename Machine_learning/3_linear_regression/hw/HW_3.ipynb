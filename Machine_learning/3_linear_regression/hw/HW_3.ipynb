{
 "cells": [
  {
   "cell_type": "code",
   "execution_count": 1,
   "metadata": {},
   "outputs": [],
   "source": [
    "import pandas as pd"
   ]
  },
  {
   "cell_type": "markdown",
   "metadata": {},
   "source": [
    "Загрузим табличку с нашими данными про длительность поездок такси! "
   ]
  },
  {
   "cell_type": "code",
   "execution_count": 2,
   "metadata": {},
   "outputs": [
    {
     "data": {
      "text/html": [
       "<div>\n",
       "<style scoped>\n",
       "    .dataframe tbody tr th:only-of-type {\n",
       "        vertical-align: middle;\n",
       "    }\n",
       "\n",
       "    .dataframe tbody tr th {\n",
       "        vertical-align: top;\n",
       "    }\n",
       "\n",
       "    .dataframe thead th {\n",
       "        text-align: right;\n",
       "    }\n",
       "</style>\n",
       "<table border=\"1\" class=\"dataframe\">\n",
       "  <thead>\n",
       "    <tr style=\"text-align: right;\">\n",
       "      <th></th>\n",
       "      <th>vendor_id</th>\n",
       "      <th>pickup_datetime</th>\n",
       "      <th>passenger_count</th>\n",
       "      <th>store_and_fwd_flag</th>\n",
       "      <th>trip_duration</th>\n",
       "      <th>distance_km</th>\n",
       "    </tr>\n",
       "    <tr>\n",
       "      <th>id</th>\n",
       "      <th></th>\n",
       "      <th></th>\n",
       "      <th></th>\n",
       "      <th></th>\n",
       "      <th></th>\n",
       "      <th></th>\n",
       "    </tr>\n",
       "  </thead>\n",
       "  <tbody>\n",
       "    <tr>\n",
       "      <th>id2875421</th>\n",
       "      <td>1</td>\n",
       "      <td>2016-03-14 17:24:55</td>\n",
       "      <td>930.399753</td>\n",
       "      <td>0</td>\n",
       "      <td>455.0</td>\n",
       "      <td>1.500479</td>\n",
       "    </tr>\n",
       "    <tr>\n",
       "      <th>id2377394</th>\n",
       "      <td>0</td>\n",
       "      <td>2016-06-12 00:43:35</td>\n",
       "      <td>930.399753</td>\n",
       "      <td>0</td>\n",
       "      <td>663.0</td>\n",
       "      <td>1.807119</td>\n",
       "    </tr>\n",
       "    <tr>\n",
       "      <th>id3858529</th>\n",
       "      <td>1</td>\n",
       "      <td>2016-01-19 11:35:24</td>\n",
       "      <td>930.399753</td>\n",
       "      <td>0</td>\n",
       "      <td>2124.0</td>\n",
       "      <td>6.392080</td>\n",
       "    </tr>\n",
       "    <tr>\n",
       "      <th>id3504673</th>\n",
       "      <td>1</td>\n",
       "      <td>2016-04-06 19:32:31</td>\n",
       "      <td>930.399753</td>\n",
       "      <td>0</td>\n",
       "      <td>429.0</td>\n",
       "      <td>1.487155</td>\n",
       "    </tr>\n",
       "    <tr>\n",
       "      <th>id2181028</th>\n",
       "      <td>1</td>\n",
       "      <td>2016-03-26 13:30:55</td>\n",
       "      <td>930.399753</td>\n",
       "      <td>0</td>\n",
       "      <td>435.0</td>\n",
       "      <td>1.189925</td>\n",
       "    </tr>\n",
       "  </tbody>\n",
       "</table>\n",
       "</div>"
      ],
      "text/plain": [
       "           vendor_id      pickup_datetime  passenger_count  \\\n",
       "id                                                           \n",
       "id2875421          1  2016-03-14 17:24:55       930.399753   \n",
       "id2377394          0  2016-06-12 00:43:35       930.399753   \n",
       "id3858529          1  2016-01-19 11:35:24       930.399753   \n",
       "id3504673          1  2016-04-06 19:32:31       930.399753   \n",
       "id2181028          1  2016-03-26 13:30:55       930.399753   \n",
       "\n",
       "           store_and_fwd_flag  trip_duration  distance_km  \n",
       "id                                                         \n",
       "id2875421                   0          455.0     1.500479  \n",
       "id2377394                   0          663.0     1.807119  \n",
       "id3858529                   0         2124.0     6.392080  \n",
       "id3504673                   0          429.0     1.487155  \n",
       "id2181028                   0          435.0     1.189925  "
      ]
     },
     "execution_count": 2,
     "metadata": {},
     "output_type": "execute_result"
    }
   ],
   "source": [
    "df = pd.read_csv('taxi_dataset_with_target.csv', index_col=0)\n",
    "\n",
    "df.head()"
   ]
  },
  {
   "attachments": {},
   "cell_type": "markdown",
   "metadata": {},
   "source": [
    "Попробуем построить модель Линейной Регрессии!\n",
    "\n",
    "В качестве Выборки используйте таргетную колонку (*trip_duration*) и все признаки, кроме времени начала заказа (*pickup_datetime*)\n",
    "\n",
    "Для начала воспользуемся \"коробочным решением\". Для этого создайте переменную model, положите в нее класс **LinearRegression** из модуля **linear_model** библиотеки **sklearn**.\n",
    "\n",
    "Далее воспользуйтесь методом **fit**, положите в него через запятую: массив **X**, состоящий из признаков объектов (можно pandas dataframe'ом, а можно numpy-массивом), и массив **Y** с таргетами.\n",
    "\n",
    "Чтобы посмотреть на значения полученных коэффициентов модели, следует обратиться к атрибуту **coef\\_** класса линейной регрессии. Для просмотра свободного веса, к атрибуту **intercept\\_**\n",
    "\n",
    "---\n",
    "\n",
    "Полученные коэффициенты будут являться ответом на задание. Перечислите коэффициенты через запятую и пробел, округлив до 3 знаков после точки. Используйте точку в качестве десятичного разделителя.\n",
    "\n",
    "Пример ответа: `123.231, 0.543, 23.345, 12.433, 120.321`"
   ]
  },
  {
   "attachments": {},
   "cell_type": "markdown",
   "id": "a4850034",
   "metadata": {},
   "source": [
    "В этом задании нужно построить модель линейной регрессии. Для этого необходимо:\n",
    "\n",
    "1. Создать два датафрейма (numpy-массива):\n",
    "    - X — с признаками (все признаки, кроме pickup\\_datetime и trip\\_duration)\n",
    "    - Y — c таргетом (trip\\_duration).\n",
    "2. Создать переменную model, положить в нее класс LinearRegression из модуля linear\\_model библиотеки sklearn.\n",
    "3. Через запятую положить в метод fit созданные ранее датафреймы.\n",
    "4. Узнать коэффициенты модели и свободный вес, используя model.coef\\_ и model.intercept\\_."
   ]
  },
  {
   "cell_type": "code",
   "execution_count": 6,
   "metadata": {},
   "outputs": [],
   "source": [
    "from sklearn.linear_model import LinearRegression\n",
    "import numpy as np\n",
    "\n",
    "# Создаем два массива NumPy: X и Y\n",
    "X = df.drop(['trip_duration','pickup_datetime'],axis = 1)\n",
    "Y = df['trip_duration']\n",
    "\n",
    "# Создаем объект линейной регрессии\n",
    "model = LinearRegression()\n",
    "\n",
    "# Обучаем модель\n",
    "model.fit(X, Y)\n",
    "\n",
    "# Получаем коэффициенты линейной регрессии и свободный вес\n",
    "coef = model.coef_\n",
    "intercept = model.intercept_"
   ]
  },
  {
   "cell_type": "markdown",
   "metadata": {},
   "source": [
    "Чтобы посмотреть на значения полученных коэффициентов модели, следует обратиться к атрибуту **coef_** класса линейной регрессии. Для просмотра свободного веса, к атрибуту **intercept_** "
   ]
  },
  {
   "attachments": {},
   "cell_type": "markdown",
   "id": "31964e9c",
   "metadata": {},
   "source": [
    "np.around is a NumPy function that rounds an array of floating-point numbers to the nearest integer. It has the signature np.around(arr, decimals=0) where arr is the input array and decimals is an optional argument that specifies the number of decimal places to round to. If decimals is not provided, the array is rounded to the nearest integer."
   ]
  },
  {
   "cell_type": "code",
   "execution_count": 9,
   "metadata": {},
   "outputs": [
    {
     "data": {
      "text/plain": [
       "array([198.463,   0.296,  56.469, 115.274])"
      ]
     },
     "execution_count": 9,
     "metadata": {},
     "output_type": "execute_result"
    }
   ],
   "source": [
    "np.around(coef, decimals = 3)\n"
   ]
  },
  {
   "cell_type": "code",
   "execution_count": 10,
   "id": "340cad58",
   "metadata": {},
   "outputs": [
    {
     "data": {
      "text/plain": [
       "171.657"
      ]
     },
     "execution_count": 10,
     "metadata": {},
     "output_type": "execute_result"
    }
   ],
   "source": [
    "np.around(intercept, decimals = 3)"
   ]
  },
  {
   "cell_type": "code",
   "execution_count": 1,
   "metadata": {},
   "outputs": [],
   "source": [
    "### Полученные коэффициенты будут являться ответом на задание 5 в ЛМС.\n",
    "### Перечислите коэффициенты через запятую и пробел, округлив до 3 знаков после точки.\n",
    "### Используйте точку в качестве десятичного разделителя."
   ]
  },
  {
   "cell_type": "markdown",
   "metadata": {},
   "source": [
    "Теперь реализуйте функцию LinearRegressionByMatrix, которая будет принимать на вход 3 параметра:\n",
    "\n",
    "Матрицу объект-признак **(X)**, вектор с ответами **(Y)**, булевый параметр **fit_intercept**, цель которого - добавить константный признак (состоящий из единичек), если True, и ничего не делать, если False.\n",
    "\n",
    "Функция должна вернуть одномерный np.array объект с оцененными **$\\beta_1, ..., \\beta_n, \\beta_0$**\n",
    "\n",
    "Реализуйте решение через аналитическое решение в матрицах из лекции и практики:\n",
    "\n",
    "$$\n",
    "\\beta^* = (X^T \\cdot X)^{-1} \\cdot X^T \\cdot Y\n",
    "$$"
   ]
  },
  {
   "cell_type": "code",
   "execution_count": 4,
   "metadata": {},
   "outputs": [],
   "source": [
    "import numpy as np\n",
    "\n",
    "### Your code is here\n",
    "\n",
    "def LinearRegressionByMatrix(X: np.array, Y: np.array, fit_intercept: bool = True):\n",
    "        \"\"\"\n",
    "        :param X: матрица объектов\n",
    "        :param Y: вектор (матрица с 1 столбцом) ответов\n",
    "        :param fit_intercept: добавить ли константную переменную в данные?\n",
    "        \n",
    "        :return: одномерный numpy-array с полученными коэффициентами beta\n",
    "        \"\"\"\n",
    "        \n",
    "        return "
   ]
  },
  {
   "cell_type": "code",
   "execution_count": 16,
   "id": "c84d4460",
   "metadata": {},
   "outputs": [],
   "source": [
    "import numpy as np\n",
    "\n",
    "def LinearRegressionByMatrix(X, Y, fit_intercept=True):\n",
    "    \n",
    "    # Добавляем столбец из единиц, если fit_intercept=True\n",
    "    if fit_intercept:\n",
    "        X = np.column_stack((np.ones(X.shape[0]), X))\n",
    "    \n",
    "    # Возвращаем решение нормального уравнения\n",
    "    return np.linalg.inv(X.T @ X) @ X.T @ Y\n"
   ]
  },
  {
   "cell_type": "code",
   "execution_count": 18,
   "id": "8f4399d8",
   "metadata": {},
   "outputs": [
    {
     "data": {
      "text/plain": [
       "array([171.65658145, 198.46313674,   0.29631295,  56.46912165,\n",
       "       115.27353763])"
      ]
     },
     "execution_count": 18,
     "metadata": {},
     "output_type": "execute_result"
    }
   ],
   "source": [
    "X_train = df.drop(['trip_duration', 'pickup_datetime'], axis=1).values\n",
    "Y_train = df['trip_duration'].values\n",
    "\n",
    "LinearRegressionByMatrix(X_train, Y_train)"
   ]
  },
  {
   "cell_type": "code",
   "execution_count": 19,
   "id": "a4c7db73",
   "metadata": {},
   "outputs": [],
   "source": [
    "import numpy as np\n",
    "\n",
    "def LinearRegressionByMatrix(X, Y, fit_intercept=True):\n",
    "    if fit_intercept:\n",
    "        X = np.column_stack((np.ones(X.shape[0]), X))\n",
    "    beta_star = np.linalg.inv(X.T @ X) @ X.T @ Y\n",
    "    \n",
    "    # Возвращаем строку с коэффициентами, разделенными пробелами\n",
    "    return ' '.join([str(round(beta, 3)) for beta in beta_star])\n"
   ]
  },
  {
   "cell_type": "code",
   "execution_count": 20,
   "metadata": {},
   "outputs": [
    {
     "data": {
      "text/plain": [
       "'171.657 198.463 0.296 56.469 115.274'"
      ]
     },
     "execution_count": 20,
     "metadata": {},
     "output_type": "execute_result"
    }
   ],
   "source": [
    "X_train = df.drop(['trip_duration', 'pickup_datetime'], axis=1).values\n",
    "Y_train = df['trip_duration'].values\n",
    "\n",
    "LinearRegressionByMatrix(X_train, Y_train)"
   ]
  },
  {
   "cell_type": "code",
   "execution_count": 5,
   "metadata": {},
   "outputs": [],
   "source": [
    "### Полученные коэффициенты будут являться ответом на задание 6 в ЛМС.\n",
    "### Перечислите коэффициенты через запятую и пробел, округлив в большую сторону до 3 знаков после точки.\n",
    "### Используйте точку в качестве десятичного разделителя."
   ]
  },
  {
   "cell_type": "markdown",
   "metadata": {},
   "source": [
    "Получились ли коэффициенты такими же, как и в \"коробочном\" варианте?\n",
    "\n",
    "Имея коэффициенты модели, можно восстановить предсказания для каждого объекта!\n",
    "\n",
    "Сделайте это через операцию матричного произведения матрицы **X** и полученных коэффициентов (как результат работы *LinearRegressionByMatrix*)"
   ]
  },
  {
   "attachments": {},
   "cell_type": "markdown",
   "id": "12862d60",
   "metadata": {},
   "source": [
    "numpy.linalg.inv is a function in the NumPy library for Python which is used to calculate the (multiplicative) inverse of a matrix. The inverse of a matrix A is a matrix A^-1 such that A * A^-1 = I (where I is the identity matrix), i.e., it \"undoes\" the linear transformation represented by A. The inverse is not defined for singular matrices (i.e., matrices that do not have an inverse)."
   ]
  },
  {
   "cell_type": "code",
   "execution_count": 23,
   "id": "c094c17f",
   "metadata": {},
   "outputs": [],
   "source": [
    "beta_star = np.linalg.inv(X.T @ X) @ X.T @ Y"
   ]
  },
  {
   "cell_type": "code",
   "execution_count": 24,
   "metadata": {},
   "outputs": [
    {
     "data": {
      "text/plain": [
       "array([ 811.35584722,  651.84964688, 1375.45281398, ..., 1541.61345327,\n",
       "        569.58841681,  574.3934665 ])"
      ]
     },
     "execution_count": 24,
     "metadata": {},
     "output_type": "execute_result"
    }
   ],
   "source": [
    "Final = np.dot(X,beta_star)\n",
    "Final"
   ]
  },
  {
   "cell_type": "code",
   "execution_count": 29,
   "id": "18d4d2f6",
   "metadata": {},
   "outputs": [
    {
     "data": {
      "text/plain": [
       "array([ 455.,  663., 2124., ...,  764.,  373.,  198.])"
      ]
     },
     "execution_count": 29,
     "metadata": {},
     "output_type": "execute_result"
    }
   ],
   "source": [
    "df['trip_duration'].values"
   ]
  },
  {
   "cell_type": "code",
   "execution_count": 32,
   "id": "29c47fcb",
   "metadata": {},
   "outputs": [
    {
     "name": "stdout",
     "output_type": "stream",
     "text": [
      "Mean Squared Error:  27173452.726003308\n"
     ]
    }
   ],
   "source": [
    "# Calculate the mean squared error\n",
    "mse = np.mean((Y - Final) ** 2)\n",
    "print(\"Mean Squared Error: \", mse)"
   ]
  },
  {
   "cell_type": "code",
   "execution_count": 35,
   "id": "3bc30662",
   "metadata": {},
   "outputs": [
    {
     "name": "stdout",
     "output_type": "stream",
     "text": [
      "Matrix A:\n",
      "[[1 2]\n",
      " [3 4]]\n",
      "\n",
      "Inverse of matrix A:\n",
      "[[-2.   1. ]\n",
      " [ 1.5 -0.5]]\n",
      "\n",
      "Check: A * A_inv\n",
      "[[1.0000000e+00 0.0000000e+00]\n",
      " [8.8817842e-16 1.0000000e+00]]\n"
     ]
    }
   ],
   "source": [
    "import numpy as np\n",
    "\n",
    "# Define the matrix\n",
    "A = np.array([[1, 2], [3, 4]])\n",
    "\n",
    "# Calculate the inverse of the matrix\n",
    "A_inv = np.linalg.inv(A)\n",
    "\n",
    "print(\"Matrix A:\")\n",
    "print(A)\n",
    "\n",
    "print(\"\\nInverse of matrix A:\")\n",
    "print(A_inv)\n",
    "\n",
    "print(\"\\nCheck: A * A_inv\")\n",
    "print(np.dot(A, A_inv))\n"
   ]
  },
  {
   "cell_type": "code",
   "execution_count": 37,
   "id": "0fd9ec5a",
   "metadata": {},
   "outputs": [
    {
     "name": "stdout",
     "output_type": "stream",
     "text": [
      "[[  1.         930.39975328   0.           1.50047895]\n",
      " [  0.         930.39975328   0.           1.80711941]\n",
      " [  1.         930.39975328   0.           6.39208025]\n",
      " ...\n",
      " [  1.         930.39975328   0.           7.83295239]\n",
      " [  0.         930.39975328   0.           1.09378613]\n",
      " [  0.         930.39975328   0.           1.13545341]]\n"
     ]
    }
   ],
   "source": [
    "print(X_train)"
   ]
  },
  {
   "attachments": {},
   "cell_type": "markdown",
   "id": "b29bee32",
   "metadata": {},
   "source": [
    "y=198.463⋅x1​+0.296⋅x2​+56.469⋅x3​+115.274⋅x4​+171.657"
   ]
  }
 ],
 "metadata": {
  "kernelspec": {
   "display_name": "Python 3",
   "language": "python",
   "name": "python3"
  },
  "language_info": {
   "codemirror_mode": {
    "name": "ipython",
    "version": 3
   },
   "file_extension": ".py",
   "mimetype": "text/x-python",
   "name": "python",
   "nbconvert_exporter": "python",
   "pygments_lexer": "ipython3",
   "version": "3.10.9"
  },
  "vscode": {
   "interpreter": {
    "hash": "cdaf845c447f5b8a88f1bde010b8054a6111556832cc2133cdddd7f2255dae56"
   }
  }
 },
 "nbformat": 4,
 "nbformat_minor": 5
}
