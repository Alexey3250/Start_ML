{
 "cells": [
  {
   "cell_type": "code",
   "execution_count": 1,
   "id": "c891860e",
   "metadata": {},
   "outputs": [],
   "source": [
    "import warnings\n",
    "warnings.filterwarnings('ignore')"
   ]
  },
  {
   "cell_type": "markdown",
   "id": "9a8cb469",
   "metadata": {},
   "source": [
    "## Numpy"
   ]
  },
  {
   "cell_type": "markdown",
   "id": "8aae0060",
   "metadata": {},
   "source": [
    "Numpy - библиотека python, позволяющая делать сложные вычисления и операции с массивами.\n",
    "\n",
    "Главный объект Numpy - это однородный многомерный массив. \n",
    "\n",
    "Массив - упорядоченный набор однородных данных, доступных по индексу. Чаще всего это одномерная последовательность или двумерная таблица, заполненные элементами одного типа.\n",
    "\n",
    "[Подробнее](https://pyprog.pro/introduction.html) о массивах"
   ]
  },
  {
   "cell_type": "code",
   "execution_count": 2,
   "id": "71602e3a",
   "metadata": {},
   "outputs": [],
   "source": [
    "import numpy as np"
   ]
  },
  {
   "cell_type": "code",
   "execution_count": 3,
   "id": "9a9116f9",
   "metadata": {},
   "outputs": [
    {
     "data": {
      "text/plain": [
       "array([1, 3, 2])"
      ]
     },
     "execution_count": 3,
     "metadata": {},
     "output_type": "execute_result"
    }
   ],
   "source": [
    "a = np.array([1, 3, 2])\n",
    "\n",
    "a"
   ]
  },
  {
   "cell_type": "code",
   "execution_count": 4,
   "id": "57119d4f",
   "metadata": {},
   "outputs": [
    {
     "data": {
      "text/plain": [
       "array([[1.5+0.j, 2. +0.j, 3. +0.j],\n",
       "       [4. +0.j, 5. +0.j, 6. +0.j]])"
      ]
     },
     "execution_count": 4,
     "metadata": {},
     "output_type": "execute_result"
    }
   ],
   "source": [
    "a = np.array([[1.5, 2, 3], [4, 5, 6]], dtype=np.complex128) \n",
    "#В отличии от списков, в массиве все элементы обязательно принадлежат одному типу\n",
    "\n",
    "a"
   ]
  },
  {
   "cell_type": "code",
   "execution_count": 5,
   "id": "dbdde97d",
   "metadata": {},
   "outputs": [
    {
     "data": {
      "text/plain": [
       "array([[    1,     2,     3],\n",
       "       [    4,     5, 10176]], dtype=int16)"
      ]
     },
     "execution_count": 5,
     "metadata": {},
     "output_type": "execute_result"
    }
   ],
   "source": [
    "a = np.array([[1.5, 2, 3], [4, 5, 600000]], dtype=np.int16) #создаст одномерную матрицу размером 2 х 3 c типом данных int16 \n",
    "\n",
    "a\n",
    "\n",
    "#Массив будет преобразован в соответствии с данным типом и на выходе полчим следующее:\n",
    "#Дробные числа переведены в целочисленный формат в соответствии с типом\n",
    "#Число 600000 не умещается в тип int16, происходит \"переполнение типа\"\n"
   ]
  },
  {
   "cell_type": "markdown",
   "id": "8e80b8d3",
   "metadata": {},
   "source": [
    "## Сложение / Вычитание матриц"
   ]
  },
  {
   "cell_type": "code",
   "execution_count": 6,
   "id": "43a62cd0",
   "metadata": {},
   "outputs": [],
   "source": [
    "### Матрица A размера 2x3\n",
    "A = np.array([[3, 4, 5],\n",
    "              [1, 1, 1]])\n",
    "\n",
    "### Матрица B размера 2x3\n",
    "B = np.array([[5, 5],\n",
    "              [3, 1]])\n",
    "\n",
    "### Так как размеры совпадают, можно вычитать и складывать!"
   ]
  },
  {
   "cell_type": "code",
   "execution_count": 7,
   "id": "7660eaf3",
   "metadata": {},
   "outputs": [
    {
     "ename": "ValueError",
     "evalue": "operands could not be broadcast together with shapes (2,3) (2,2) ",
     "output_type": "error",
     "traceback": [
      "\u001b[1;31m---------------------------------------------------------------------------\u001b[0m",
      "\u001b[1;31mValueError\u001b[0m                                Traceback (most recent call last)",
      "Cell \u001b[1;32mIn[7], line 1\u001b[0m\n\u001b[1;32m----> 1\u001b[0m A \u001b[39m-\u001b[39;49m B \n",
      "\u001b[1;31mValueError\u001b[0m: operands could not be broadcast together with shapes (2,3) (2,2) "
     ]
    }
   ],
   "source": [
    "A - B "
   ]
  },
  {
   "cell_type": "markdown",
   "id": "f760165d",
   "metadata": {},
   "source": [
    "## Умножение матриц"
   ]
  },
  {
   "cell_type": "code",
   "execution_count": 8,
   "id": "3c35f50d",
   "metadata": {},
   "outputs": [],
   "source": [
    "### Матрица A размера 2x3\n",
    "A = np.array([[3, 4, 5],\n",
    "              [1, 1, 1]])\n",
    "\n",
    "### Матрица B размера 3x3\n",
    "B = np.array([[5, 5, 5],\n",
    "              [3, 1, 10],\n",
    "              [4, 4, 12]])\n",
    "\n",
    "### Так как кол-во строк матрицы A совпадает с кол-вом строк матрицы B,\n",
    "### Можем умножить A * B"
   ]
  },
  {
   "cell_type": "code",
   "execution_count": 10,
   "id": "9806079d",
   "metadata": {},
   "outputs": [
    {
     "ename": "ValueError",
     "evalue": "shapes (2,3) and (2,3) not aligned: 3 (dim 1) != 2 (dim 0)",
     "output_type": "error",
     "traceback": [
      "\u001b[1;31m---------------------------------------------------------------------------\u001b[0m",
      "\u001b[1;31mValueError\u001b[0m                                Traceback (most recent call last)",
      "Cell \u001b[1;32mIn[10], line 1\u001b[0m\n\u001b[1;32m----> 1\u001b[0m np\u001b[39m.\u001b[39;49mdot(A, B)\n",
      "File \u001b[1;32m<__array_function__ internals>:180\u001b[0m, in \u001b[0;36mdot\u001b[1;34m(*args, **kwargs)\u001b[0m\n",
      "\u001b[1;31mValueError\u001b[0m: shapes (2,3) and (2,3) not aligned: 3 (dim 1) != 2 (dim 0)"
     ]
    }
   ],
   "source": [
    "np.dot(A, B)"
   ]
  },
  {
   "cell_type": "markdown",
   "id": "92f34d16",
   "metadata": {},
   "source": [
    "## Транспонирование матриц"
   ]
  },
  {
   "cell_type": "code",
   "execution_count": 11,
   "id": "33848cc7",
   "metadata": {},
   "outputs": [],
   "source": [
    "A = np.array([[3, 4, 5],\n",
    "              [1, 1, 1]])"
   ]
  },
  {
   "cell_type": "code",
   "execution_count": 12,
   "id": "727dc085",
   "metadata": {},
   "outputs": [
    {
     "data": {
      "text/plain": [
       "array([[3, 1],\n",
       "       [4, 1],\n",
       "       [5, 1]])"
      ]
     },
     "execution_count": 12,
     "metadata": {},
     "output_type": "execute_result"
    }
   ],
   "source": [
    "A.T"
   ]
  },
  {
   "cell_type": "markdown",
   "id": "4b8b8046",
   "metadata": {},
   "source": [
    "## Единичная матрица"
   ]
  },
  {
   "cell_type": "code",
   "execution_count": 13,
   "id": "6a65779f",
   "metadata": {},
   "outputs": [
    {
     "data": {
      "text/plain": [
       "array([[1., 0., 0., 0.],\n",
       "       [0., 1., 0., 0.],\n",
       "       [0., 0., 1., 0.],\n",
       "       [0., 0., 0., 1.]])"
      ]
     },
     "execution_count": 13,
     "metadata": {},
     "output_type": "execute_result"
    }
   ],
   "source": [
    "np.eye(4)"
   ]
  },
  {
   "cell_type": "markdown",
   "id": "e4e43a7d",
   "metadata": {},
   "source": [
    "## Обращение матриц"
   ]
  },
  {
   "cell_type": "code",
   "execution_count": 14,
   "id": "32b5638b",
   "metadata": {},
   "outputs": [],
   "source": [
    "### Матрица A размера 3x3 => Ее можно обращать\n",
    "A = np.array([[5, 5, 5],\n",
    "              [3, 2, 10],\n",
    "              [4, 4, 12]])"
   ]
  },
  {
   "cell_type": "code",
   "execution_count": 15,
   "id": "b7083cc4",
   "metadata": {},
   "outputs": [
    {
     "data": {
      "text/plain": [
       "array([[ 0.4  ,  1.   , -1.   ],\n",
       "       [-0.1  , -1.   ,  0.875],\n",
       "       [-0.1  ,  0.   ,  0.125]])"
      ]
     },
     "execution_count": 15,
     "metadata": {},
     "output_type": "execute_result"
    }
   ],
   "source": [
    "np.linalg.inv(A)"
   ]
  },
  {
   "cell_type": "code",
   "execution_count": null,
   "id": "73b7b6bc",
   "metadata": {},
   "outputs": [],
   "source": []
  },
  {
   "cell_type": "code",
   "execution_count": null,
   "id": "0e204a37",
   "metadata": {},
   "outputs": [],
   "source": []
  },
  {
   "cell_type": "markdown",
   "id": "ad7442d6",
   "metadata": {},
   "source": [
    "## $\\beta^* = (X^T \\cdot X)^{-1}\\cdot X^T \\cdot Y$"
   ]
  },
  {
   "cell_type": "code",
   "execution_count": 16,
   "id": "3e553a7f",
   "metadata": {},
   "outputs": [],
   "source": [
    "X = np.array([[23, 0.5, 1],\n",
    "              [35, 1, 1],\n",
    "              [18, 0, 1]])\n",
    "\n",
    "Y = np.array([55, 100, 45])\n"
   ]
  },
  {
   "cell_type": "code",
   "execution_count": 17,
   "id": "d9162067",
   "metadata": {},
   "outputs": [
    {
     "data": {
      "text/plain": [
       "array([  5., -30., -45.])"
      ]
     },
     "execution_count": 17,
     "metadata": {},
     "output_type": "execute_result"
    }
   ],
   "source": [
    "xxt = np.dot(X.T, X)\n",
    "xxt_inv = np.linalg.inv(xxt)\n",
    "xxt_inv_xxt = np.dot(xxt_inv, X.T)\n",
    "final_betas = np.dot(xxt_inv_xxt, Y)\n",
    "\n",
    "final_betas"
   ]
  },
  {
   "cell_type": "markdown",
   "id": "077bd1aa",
   "metadata": {},
   "source": [
    "## Пример с первого практического занятия"
   ]
  },
  {
   "cell_type": "code",
   "execution_count": 18,
   "id": "8ca6db69",
   "metadata": {},
   "outputs": [
    {
     "ename": "FileNotFoundError",
     "evalue": "[Errno 2] No such file or directory: 'X.csv'",
     "output_type": "error",
     "traceback": [
      "\u001b[1;31m---------------------------------------------------------------------------\u001b[0m",
      "\u001b[1;31mFileNotFoundError\u001b[0m                         Traceback (most recent call last)",
      "Cell \u001b[1;32mIn[18], line 3\u001b[0m\n\u001b[0;32m      1\u001b[0m \u001b[39mimport\u001b[39;00m \u001b[39mpandas\u001b[39;00m \u001b[39mas\u001b[39;00m \u001b[39mpd\u001b[39;00m\n\u001b[1;32m----> 3\u001b[0m X \u001b[39m=\u001b[39m pd\u001b[39m.\u001b[39;49mread_csv(\u001b[39m'\u001b[39;49m\u001b[39mX.csv\u001b[39;49m\u001b[39m'\u001b[39;49m)\u001b[39m.\u001b[39mdrop(\u001b[39m'\u001b[39m\u001b[39mПредсказание\u001b[39m\u001b[39m'\u001b[39m, axis\u001b[39m=\u001b[39m\u001b[39m1\u001b[39m)\n\u001b[0;32m      4\u001b[0m Y \u001b[39m=\u001b[39m pd\u001b[39m.\u001b[39mread_csv(\u001b[39m'\u001b[39m\u001b[39mY.csv\u001b[39m\u001b[39m'\u001b[39m)\n",
      "File \u001b[1;32m~\\AppData\\Local\\Packages\\PythonSoftwareFoundation.Python.3.10_qbz5n2kfra8p0\\LocalCache\\local-packages\\Python310\\site-packages\\pandas\\util\\_decorators.py:211\u001b[0m, in \u001b[0;36mdeprecate_kwarg.<locals>._deprecate_kwarg.<locals>.wrapper\u001b[1;34m(*args, **kwargs)\u001b[0m\n\u001b[0;32m    209\u001b[0m     \u001b[39melse\u001b[39;00m:\n\u001b[0;32m    210\u001b[0m         kwargs[new_arg_name] \u001b[39m=\u001b[39m new_arg_value\n\u001b[1;32m--> 211\u001b[0m \u001b[39mreturn\u001b[39;00m func(\u001b[39m*\u001b[39margs, \u001b[39m*\u001b[39m\u001b[39m*\u001b[39mkwargs)\n",
      "File \u001b[1;32m~\\AppData\\Local\\Packages\\PythonSoftwareFoundation.Python.3.10_qbz5n2kfra8p0\\LocalCache\\local-packages\\Python310\\site-packages\\pandas\\util\\_decorators.py:331\u001b[0m, in \u001b[0;36mdeprecate_nonkeyword_arguments.<locals>.decorate.<locals>.wrapper\u001b[1;34m(*args, **kwargs)\u001b[0m\n\u001b[0;32m    325\u001b[0m \u001b[39mif\u001b[39;00m \u001b[39mlen\u001b[39m(args) \u001b[39m>\u001b[39m num_allow_args:\n\u001b[0;32m    326\u001b[0m     warnings\u001b[39m.\u001b[39mwarn(\n\u001b[0;32m    327\u001b[0m         msg\u001b[39m.\u001b[39mformat(arguments\u001b[39m=\u001b[39m_format_argument_list(allow_args)),\n\u001b[0;32m    328\u001b[0m         \u001b[39mFutureWarning\u001b[39;00m,\n\u001b[0;32m    329\u001b[0m         stacklevel\u001b[39m=\u001b[39mfind_stack_level(),\n\u001b[0;32m    330\u001b[0m     )\n\u001b[1;32m--> 331\u001b[0m \u001b[39mreturn\u001b[39;00m func(\u001b[39m*\u001b[39margs, \u001b[39m*\u001b[39m\u001b[39m*\u001b[39mkwargs)\n",
      "File \u001b[1;32m~\\AppData\\Local\\Packages\\PythonSoftwareFoundation.Python.3.10_qbz5n2kfra8p0\\LocalCache\\local-packages\\Python310\\site-packages\\pandas\\io\\parsers\\readers.py:950\u001b[0m, in \u001b[0;36mread_csv\u001b[1;34m(filepath_or_buffer, sep, delimiter, header, names, index_col, usecols, squeeze, prefix, mangle_dupe_cols, dtype, engine, converters, true_values, false_values, skipinitialspace, skiprows, skipfooter, nrows, na_values, keep_default_na, na_filter, verbose, skip_blank_lines, parse_dates, infer_datetime_format, keep_date_col, date_parser, dayfirst, cache_dates, iterator, chunksize, compression, thousands, decimal, lineterminator, quotechar, quoting, doublequote, escapechar, comment, encoding, encoding_errors, dialect, error_bad_lines, warn_bad_lines, on_bad_lines, delim_whitespace, low_memory, memory_map, float_precision, storage_options)\u001b[0m\n\u001b[0;32m    935\u001b[0m kwds_defaults \u001b[39m=\u001b[39m _refine_defaults_read(\n\u001b[0;32m    936\u001b[0m     dialect,\n\u001b[0;32m    937\u001b[0m     delimiter,\n\u001b[1;32m   (...)\u001b[0m\n\u001b[0;32m    946\u001b[0m     defaults\u001b[39m=\u001b[39m{\u001b[39m\"\u001b[39m\u001b[39mdelimiter\u001b[39m\u001b[39m\"\u001b[39m: \u001b[39m\"\u001b[39m\u001b[39m,\u001b[39m\u001b[39m\"\u001b[39m},\n\u001b[0;32m    947\u001b[0m )\n\u001b[0;32m    948\u001b[0m kwds\u001b[39m.\u001b[39mupdate(kwds_defaults)\n\u001b[1;32m--> 950\u001b[0m \u001b[39mreturn\u001b[39;00m _read(filepath_or_buffer, kwds)\n",
      "File \u001b[1;32m~\\AppData\\Local\\Packages\\PythonSoftwareFoundation.Python.3.10_qbz5n2kfra8p0\\LocalCache\\local-packages\\Python310\\site-packages\\pandas\\io\\parsers\\readers.py:605\u001b[0m, in \u001b[0;36m_read\u001b[1;34m(filepath_or_buffer, kwds)\u001b[0m\n\u001b[0;32m    602\u001b[0m _validate_names(kwds\u001b[39m.\u001b[39mget(\u001b[39m\"\u001b[39m\u001b[39mnames\u001b[39m\u001b[39m\"\u001b[39m, \u001b[39mNone\u001b[39;00m))\n\u001b[0;32m    604\u001b[0m \u001b[39m# Create the parser.\u001b[39;00m\n\u001b[1;32m--> 605\u001b[0m parser \u001b[39m=\u001b[39m TextFileReader(filepath_or_buffer, \u001b[39m*\u001b[39m\u001b[39m*\u001b[39mkwds)\n\u001b[0;32m    607\u001b[0m \u001b[39mif\u001b[39;00m chunksize \u001b[39mor\u001b[39;00m iterator:\n\u001b[0;32m    608\u001b[0m     \u001b[39mreturn\u001b[39;00m parser\n",
      "File \u001b[1;32m~\\AppData\\Local\\Packages\\PythonSoftwareFoundation.Python.3.10_qbz5n2kfra8p0\\LocalCache\\local-packages\\Python310\\site-packages\\pandas\\io\\parsers\\readers.py:1442\u001b[0m, in \u001b[0;36mTextFileReader.__init__\u001b[1;34m(self, f, engine, **kwds)\u001b[0m\n\u001b[0;32m   1439\u001b[0m     \u001b[39mself\u001b[39m\u001b[39m.\u001b[39moptions[\u001b[39m\"\u001b[39m\u001b[39mhas_index_names\u001b[39m\u001b[39m\"\u001b[39m] \u001b[39m=\u001b[39m kwds[\u001b[39m\"\u001b[39m\u001b[39mhas_index_names\u001b[39m\u001b[39m\"\u001b[39m]\n\u001b[0;32m   1441\u001b[0m \u001b[39mself\u001b[39m\u001b[39m.\u001b[39mhandles: IOHandles \u001b[39m|\u001b[39m \u001b[39mNone\u001b[39;00m \u001b[39m=\u001b[39m \u001b[39mNone\u001b[39;00m\n\u001b[1;32m-> 1442\u001b[0m \u001b[39mself\u001b[39m\u001b[39m.\u001b[39m_engine \u001b[39m=\u001b[39m \u001b[39mself\u001b[39;49m\u001b[39m.\u001b[39;49m_make_engine(f, \u001b[39mself\u001b[39;49m\u001b[39m.\u001b[39;49mengine)\n",
      "File \u001b[1;32m~\\AppData\\Local\\Packages\\PythonSoftwareFoundation.Python.3.10_qbz5n2kfra8p0\\LocalCache\\local-packages\\Python310\\site-packages\\pandas\\io\\parsers\\readers.py:1735\u001b[0m, in \u001b[0;36mTextFileReader._make_engine\u001b[1;34m(self, f, engine)\u001b[0m\n\u001b[0;32m   1733\u001b[0m     \u001b[39mif\u001b[39;00m \u001b[39m\"\u001b[39m\u001b[39mb\u001b[39m\u001b[39m\"\u001b[39m \u001b[39mnot\u001b[39;00m \u001b[39min\u001b[39;00m mode:\n\u001b[0;32m   1734\u001b[0m         mode \u001b[39m+\u001b[39m\u001b[39m=\u001b[39m \u001b[39m\"\u001b[39m\u001b[39mb\u001b[39m\u001b[39m\"\u001b[39m\n\u001b[1;32m-> 1735\u001b[0m \u001b[39mself\u001b[39m\u001b[39m.\u001b[39mhandles \u001b[39m=\u001b[39m get_handle(\n\u001b[0;32m   1736\u001b[0m     f,\n\u001b[0;32m   1737\u001b[0m     mode,\n\u001b[0;32m   1738\u001b[0m     encoding\u001b[39m=\u001b[39;49m\u001b[39mself\u001b[39;49m\u001b[39m.\u001b[39;49moptions\u001b[39m.\u001b[39;49mget(\u001b[39m\"\u001b[39;49m\u001b[39mencoding\u001b[39;49m\u001b[39m\"\u001b[39;49m, \u001b[39mNone\u001b[39;49;00m),\n\u001b[0;32m   1739\u001b[0m     compression\u001b[39m=\u001b[39;49m\u001b[39mself\u001b[39;49m\u001b[39m.\u001b[39;49moptions\u001b[39m.\u001b[39;49mget(\u001b[39m\"\u001b[39;49m\u001b[39mcompression\u001b[39;49m\u001b[39m\"\u001b[39;49m, \u001b[39mNone\u001b[39;49;00m),\n\u001b[0;32m   1740\u001b[0m     memory_map\u001b[39m=\u001b[39;49m\u001b[39mself\u001b[39;49m\u001b[39m.\u001b[39;49moptions\u001b[39m.\u001b[39;49mget(\u001b[39m\"\u001b[39;49m\u001b[39mmemory_map\u001b[39;49m\u001b[39m\"\u001b[39;49m, \u001b[39mFalse\u001b[39;49;00m),\n\u001b[0;32m   1741\u001b[0m     is_text\u001b[39m=\u001b[39;49mis_text,\n\u001b[0;32m   1742\u001b[0m     errors\u001b[39m=\u001b[39;49m\u001b[39mself\u001b[39;49m\u001b[39m.\u001b[39;49moptions\u001b[39m.\u001b[39;49mget(\u001b[39m\"\u001b[39;49m\u001b[39mencoding_errors\u001b[39;49m\u001b[39m\"\u001b[39;49m, \u001b[39m\"\u001b[39;49m\u001b[39mstrict\u001b[39;49m\u001b[39m\"\u001b[39;49m),\n\u001b[0;32m   1743\u001b[0m     storage_options\u001b[39m=\u001b[39;49m\u001b[39mself\u001b[39;49m\u001b[39m.\u001b[39;49moptions\u001b[39m.\u001b[39;49mget(\u001b[39m\"\u001b[39;49m\u001b[39mstorage_options\u001b[39;49m\u001b[39m\"\u001b[39;49m, \u001b[39mNone\u001b[39;49;00m),\n\u001b[0;32m   1744\u001b[0m )\n\u001b[0;32m   1745\u001b[0m \u001b[39massert\u001b[39;00m \u001b[39mself\u001b[39m\u001b[39m.\u001b[39mhandles \u001b[39mis\u001b[39;00m \u001b[39mnot\u001b[39;00m \u001b[39mNone\u001b[39;00m\n\u001b[0;32m   1746\u001b[0m f \u001b[39m=\u001b[39m \u001b[39mself\u001b[39m\u001b[39m.\u001b[39mhandles\u001b[39m.\u001b[39mhandle\n",
      "File \u001b[1;32m~\\AppData\\Local\\Packages\\PythonSoftwareFoundation.Python.3.10_qbz5n2kfra8p0\\LocalCache\\local-packages\\Python310\\site-packages\\pandas\\io\\common.py:856\u001b[0m, in \u001b[0;36mget_handle\u001b[1;34m(path_or_buf, mode, encoding, compression, memory_map, is_text, errors, storage_options)\u001b[0m\n\u001b[0;32m    851\u001b[0m \u001b[39melif\u001b[39;00m \u001b[39misinstance\u001b[39m(handle, \u001b[39mstr\u001b[39m):\n\u001b[0;32m    852\u001b[0m     \u001b[39m# Check whether the filename is to be opened in binary mode.\u001b[39;00m\n\u001b[0;32m    853\u001b[0m     \u001b[39m# Binary mode does not support 'encoding' and 'newline'.\u001b[39;00m\n\u001b[0;32m    854\u001b[0m     \u001b[39mif\u001b[39;00m ioargs\u001b[39m.\u001b[39mencoding \u001b[39mand\u001b[39;00m \u001b[39m\"\u001b[39m\u001b[39mb\u001b[39m\u001b[39m\"\u001b[39m \u001b[39mnot\u001b[39;00m \u001b[39min\u001b[39;00m ioargs\u001b[39m.\u001b[39mmode:\n\u001b[0;32m    855\u001b[0m         \u001b[39m# Encoding\u001b[39;00m\n\u001b[1;32m--> 856\u001b[0m         handle \u001b[39m=\u001b[39m \u001b[39mopen\u001b[39;49m(\n\u001b[0;32m    857\u001b[0m             handle,\n\u001b[0;32m    858\u001b[0m             ioargs\u001b[39m.\u001b[39;49mmode,\n\u001b[0;32m    859\u001b[0m             encoding\u001b[39m=\u001b[39;49mioargs\u001b[39m.\u001b[39;49mencoding,\n\u001b[0;32m    860\u001b[0m             errors\u001b[39m=\u001b[39;49merrors,\n\u001b[0;32m    861\u001b[0m             newline\u001b[39m=\u001b[39;49m\u001b[39m\"\u001b[39;49m\u001b[39m\"\u001b[39;49m,\n\u001b[0;32m    862\u001b[0m         )\n\u001b[0;32m    863\u001b[0m     \u001b[39melse\u001b[39;00m:\n\u001b[0;32m    864\u001b[0m         \u001b[39m# Binary mode\u001b[39;00m\n\u001b[0;32m    865\u001b[0m         handle \u001b[39m=\u001b[39m \u001b[39mopen\u001b[39m(handle, ioargs\u001b[39m.\u001b[39mmode)\n",
      "\u001b[1;31mFileNotFoundError\u001b[0m: [Errno 2] No such file or directory: 'X.csv'"
     ]
    }
   ],
   "source": [
    "import pandas as pd\n",
    "\n",
    "X = pd.read_csv('X.csv').drop('Предсказание', axis=1)\n",
    "Y = pd.read_csv('Y.csv')"
   ]
  },
  {
   "cell_type": "code",
   "execution_count": null,
   "id": "69eae9d1",
   "metadata": {},
   "outputs": [
    {
     "data": {
      "text/html": [
       "<div>\n",
       "<style scoped>\n",
       "    .dataframe tbody tr th:only-of-type {\n",
       "        vertical-align: middle;\n",
       "    }\n",
       "\n",
       "    .dataframe tbody tr th {\n",
       "        vertical-align: top;\n",
       "    }\n",
       "\n",
       "    .dataframe thead th {\n",
       "        text-align: right;\n",
       "    }\n",
       "</style>\n",
       "<table border=\"1\" class=\"dataframe\">\n",
       "  <thead>\n",
       "    <tr style=\"text-align: right;\">\n",
       "      <th></th>\n",
       "      <th>Категория</th>\n",
       "      <th>Цель в долларах</th>\n",
       "      <th>Срок</th>\n",
       "      <th>Год публикации</th>\n",
       "      <th>Close_brent</th>\n",
       "      <th>CAD</th>\n",
       "      <th>CHF</th>\n",
       "      <th>DKK</th>\n",
       "      <th>EUR</th>\n",
       "      <th>GBP</th>\n",
       "      <th>...</th>\n",
       "      <th>Design</th>\n",
       "      <th>Fashion</th>\n",
       "      <th>Film &amp; Video</th>\n",
       "      <th>Food</th>\n",
       "      <th>Journalism</th>\n",
       "      <th>Music</th>\n",
       "      <th>Photography</th>\n",
       "      <th>Publishing</th>\n",
       "      <th>Technology</th>\n",
       "      <th>Theater</th>\n",
       "    </tr>\n",
       "  </thead>\n",
       "  <tbody>\n",
       "    <tr>\n",
       "      <th>0</th>\n",
       "      <td>6035.989239</td>\n",
       "      <td>1000.0</td>\n",
       "      <td>39</td>\n",
       "      <td>2009</td>\n",
       "      <td>34.41</td>\n",
       "      <td>0</td>\n",
       "      <td>0</td>\n",
       "      <td>0</td>\n",
       "      <td>0</td>\n",
       "      <td>0</td>\n",
       "      <td>...</td>\n",
       "      <td>0</td>\n",
       "      <td>1</td>\n",
       "      <td>0</td>\n",
       "      <td>0</td>\n",
       "      <td>0</td>\n",
       "      <td>0</td>\n",
       "      <td>0</td>\n",
       "      <td>0</td>\n",
       "      <td>0</td>\n",
       "      <td>0</td>\n",
       "    </tr>\n",
       "    <tr>\n",
       "      <th>1</th>\n",
       "      <td>3591.033473</td>\n",
       "      <td>80000.0</td>\n",
       "      <td>87</td>\n",
       "      <td>2009</td>\n",
       "      <td>34.41</td>\n",
       "      <td>0</td>\n",
       "      <td>0</td>\n",
       "      <td>0</td>\n",
       "      <td>0</td>\n",
       "      <td>0</td>\n",
       "      <td>...</td>\n",
       "      <td>0</td>\n",
       "      <td>0</td>\n",
       "      <td>1</td>\n",
       "      <td>0</td>\n",
       "      <td>0</td>\n",
       "      <td>0</td>\n",
       "      <td>0</td>\n",
       "      <td>0</td>\n",
       "      <td>0</td>\n",
       "      <td>0</td>\n",
       "    </tr>\n",
       "    <tr>\n",
       "      <th>2</th>\n",
       "      <td>3661.424550</td>\n",
       "      <td>20.0</td>\n",
       "      <td>8</td>\n",
       "      <td>2009</td>\n",
       "      <td>34.41</td>\n",
       "      <td>0</td>\n",
       "      <td>0</td>\n",
       "      <td>0</td>\n",
       "      <td>0</td>\n",
       "      <td>0</td>\n",
       "      <td>...</td>\n",
       "      <td>0</td>\n",
       "      <td>0</td>\n",
       "      <td>0</td>\n",
       "      <td>0</td>\n",
       "      <td>0</td>\n",
       "      <td>0</td>\n",
       "      <td>0</td>\n",
       "      <td>0</td>\n",
       "      <td>0</td>\n",
       "      <td>0</td>\n",
       "    </tr>\n",
       "    <tr>\n",
       "      <th>3</th>\n",
       "      <td>4321.245721</td>\n",
       "      <td>99.0</td>\n",
       "      <td>79</td>\n",
       "      <td>2009</td>\n",
       "      <td>34.41</td>\n",
       "      <td>0</td>\n",
       "      <td>0</td>\n",
       "      <td>0</td>\n",
       "      <td>0</td>\n",
       "      <td>0</td>\n",
       "      <td>...</td>\n",
       "      <td>0</td>\n",
       "      <td>0</td>\n",
       "      <td>0</td>\n",
       "      <td>0</td>\n",
       "      <td>0</td>\n",
       "      <td>0</td>\n",
       "      <td>0</td>\n",
       "      <td>0</td>\n",
       "      <td>1</td>\n",
       "      <td>0</td>\n",
       "    </tr>\n",
       "    <tr>\n",
       "      <th>4</th>\n",
       "      <td>6035.989239</td>\n",
       "      <td>1900.0</td>\n",
       "      <td>28</td>\n",
       "      <td>2009</td>\n",
       "      <td>34.41</td>\n",
       "      <td>0</td>\n",
       "      <td>0</td>\n",
       "      <td>0</td>\n",
       "      <td>0</td>\n",
       "      <td>0</td>\n",
       "      <td>...</td>\n",
       "      <td>0</td>\n",
       "      <td>1</td>\n",
       "      <td>0</td>\n",
       "      <td>0</td>\n",
       "      <td>0</td>\n",
       "      <td>0</td>\n",
       "      <td>0</td>\n",
       "      <td>0</td>\n",
       "      <td>0</td>\n",
       "      <td>0</td>\n",
       "    </tr>\n",
       "  </tbody>\n",
       "</table>\n",
       "<p>5 rows × 32 columns</p>\n",
       "</div>"
      ],
      "text/plain": [
       "     Категория  Цель в долларах  Срок  Год публикации  Close_brent  CAD  CHF  \\\n",
       "0  6035.989239           1000.0    39            2009        34.41    0    0   \n",
       "1  3591.033473          80000.0    87            2009        34.41    0    0   \n",
       "2  3661.424550             20.0     8            2009        34.41    0    0   \n",
       "3  4321.245721             99.0    79            2009        34.41    0    0   \n",
       "4  6035.989239           1900.0    28            2009        34.41    0    0   \n",
       "\n",
       "   DKK  EUR  GBP  ...  Design  Fashion  Film & Video  Food  Journalism  Music  \\\n",
       "0    0    0    0  ...       0        1             0     0           0      0   \n",
       "1    0    0    0  ...       0        0             1     0           0      0   \n",
       "2    0    0    0  ...       0        0             0     0           0      0   \n",
       "3    0    0    0  ...       0        0             0     0           0      0   \n",
       "4    0    0    0  ...       0        1             0     0           0      0   \n",
       "\n",
       "   Photography  Publishing  Technology  Theater  \n",
       "0            0           0           0        0  \n",
       "1            0           0           0        0  \n",
       "2            0           0           0        0  \n",
       "3            0           0           1        0  \n",
       "4            0           0           0        0  \n",
       "\n",
       "[5 rows x 32 columns]"
      ]
     },
     "execution_count": 47,
     "metadata": {},
     "output_type": "execute_result"
    }
   ],
   "source": [
    "X.head()"
   ]
  },
  {
   "cell_type": "code",
   "execution_count": null,
   "id": "3283cc7b",
   "metadata": {},
   "outputs": [
    {
     "data": {
      "text/html": [
       "<div>\n",
       "<style scoped>\n",
       "    .dataframe tbody tr th:only-of-type {\n",
       "        vertical-align: middle;\n",
       "    }\n",
       "\n",
       "    .dataframe tbody tr th {\n",
       "        vertical-align: top;\n",
       "    }\n",
       "\n",
       "    .dataframe thead th {\n",
       "        text-align: right;\n",
       "    }\n",
       "</style>\n",
       "<table border=\"1\" class=\"dataframe\">\n",
       "  <thead>\n",
       "    <tr style=\"text-align: right;\">\n",
       "      <th></th>\n",
       "      <th>таргет2</th>\n",
       "    </tr>\n",
       "  </thead>\n",
       "  <tbody>\n",
       "    <tr>\n",
       "      <th>0</th>\n",
       "      <td>625.0</td>\n",
       "    </tr>\n",
       "    <tr>\n",
       "      <th>1</th>\n",
       "      <td>22.0</td>\n",
       "    </tr>\n",
       "    <tr>\n",
       "      <th>2</th>\n",
       "      <td>35.0</td>\n",
       "    </tr>\n",
       "    <tr>\n",
       "      <th>3</th>\n",
       "      <td>145.0</td>\n",
       "    </tr>\n",
       "    <tr>\n",
       "      <th>4</th>\n",
       "      <td>387.0</td>\n",
       "    </tr>\n",
       "  </tbody>\n",
       "</table>\n",
       "</div>"
      ],
      "text/plain": [
       "   таргет2\n",
       "0    625.0\n",
       "1     22.0\n",
       "2     35.0\n",
       "3    145.0\n",
       "4    387.0"
      ]
     },
     "execution_count": 48,
     "metadata": {},
     "output_type": "execute_result"
    }
   ],
   "source": [
    "Y.head()"
   ]
  },
  {
   "cell_type": "code",
   "execution_count": null,
   "id": "048de074",
   "metadata": {},
   "outputs": [
    {
     "name": "stdout",
     "output_type": "stream",
     "text": [
      "Категория 0.9912323981302028\n",
      "Цель в долларах 0.00046210545732411\n",
      "Срок 84.7960380387574\n",
      "Год публикации 789.623759578069\n",
      "Close_brent 32.52363238751121\n",
      "CAD 477.0442389583962\n",
      "CHF 8787.42593334129\n",
      "DKK 519.7524602299042\n",
      "EUR 408.436698789295\n",
      "GBP 2794.5137779940305\n",
      "HKD -2352.9318103890287\n",
      "JPY -8944.518338941747\n",
      "MXN -4246.631441116689\n",
      "NOK -1181.5007050675156\n",
      "NZD -395.7721892123315\n",
      "SEK 2085.2689875865517\n",
      "SGD -1612.7741094312478\n",
      "USD 7000.650258232897\n",
      "Art -105.3700874282956\n",
      "Comics -531.3510093663201\n",
      "Crafts -608.7810292957257\n",
      "Dance -379.446410488763\n",
      "Design -219.11835083464044\n",
      "Fashion -293.370137548206\n",
      "Film & Video -49.87838409990245\n",
      "Food -692.236001794821\n",
      "Journalism -451.5810021298357\n",
      "Music -303.9350860455762\n",
      "Photography 222.96861493755802\n",
      "Publishing -370.53746498403916\n",
      "Technology -175.9808894795485\n",
      "Theater 237.6083627399823\n",
      "[-1600008.97574461]\n"
     ]
    }
   ],
   "source": [
    "from sklearn.linear_model import LinearRegression\n",
    "\n",
    "model = LinearRegression()\n",
    "model.fit(X, Y)\n",
    "\n",
    "\n",
    "for column, coef in zip(X.columns, model.coef_):\n",
    "    print(column, coef)\n",
    "    \n",
    "print(model.intercept_)"
   ]
  },
  {
   "cell_type": "code",
   "execution_count": null,
   "id": "e68529b6",
   "metadata": {},
   "outputs": [],
   "source": [
    "X['constant'] = 1"
   ]
  },
  {
   "cell_type": "code",
   "execution_count": null,
   "id": "24bbbc7c",
   "metadata": {},
   "outputs": [
    {
     "data": {
      "text/plain": [
       "array([[ 9.91232399e-01],\n",
       "       [ 4.62105457e-04],\n",
       "       [ 8.47960380e+01],\n",
       "       [ 7.89623760e+02],\n",
       "       [ 3.25236324e+01],\n",
       "       [ 4.77044239e+02],\n",
       "       [ 8.78742593e+03],\n",
       "       [ 5.19752460e+02],\n",
       "       [ 4.08436699e+02],\n",
       "       [ 2.79451378e+03],\n",
       "       [-2.35293181e+03],\n",
       "       [-8.94451834e+03],\n",
       "       [-4.24663144e+03],\n",
       "       [-1.18150071e+03],\n",
       "       [-3.95772189e+02],\n",
       "       [ 2.08526899e+03],\n",
       "       [-1.61277411e+03],\n",
       "       [ 7.00065026e+03],\n",
       "       [-1.05370087e+02],\n",
       "       [-5.31351009e+02],\n",
       "       [-6.08781029e+02],\n",
       "       [-3.79446410e+02],\n",
       "       [-2.19118351e+02],\n",
       "       [-2.93370138e+02],\n",
       "       [-4.98783841e+01],\n",
       "       [-6.92236002e+02],\n",
       "       [-4.51581002e+02],\n",
       "       [-3.03935086e+02],\n",
       "       [ 2.22968615e+02],\n",
       "       [-3.70537465e+02],\n",
       "       [-1.75980889e+02],\n",
       "       [ 2.37608363e+02],\n",
       "       [-1.60000898e+06]])"
      ]
     },
     "execution_count": 51,
     "metadata": {},
     "output_type": "execute_result"
    }
   ],
   "source": [
    "xxt = np.dot(X.T, X)\n",
    "xxt_inv = np.linalg.inv(xxt)\n",
    "xxt_inv_xxt = np.dot(xxt_inv, X.T)\n",
    "final_betas = np.dot(xxt_inv_xxt, Y)\n",
    "\n",
    "final_betas"
   ]
  },
  {
   "cell_type": "code",
   "execution_count": null,
   "id": "ae621f0d",
   "metadata": {},
   "outputs": [
    {
     "name": "stdout",
     "output_type": "stream",
     "text": [
      "Категория [0.9912324]\n",
      "Цель в долларах [0.00046211]\n",
      "Срок [84.796038]\n",
      "Год публикации [789.62375955]\n",
      "Close_brent [32.52363239]\n",
      "CAD [477.04423896]\n",
      "CHF [8787.42593335]\n",
      "DKK [519.75246024]\n",
      "EUR [408.4366988]\n",
      "GBP [2794.513778]\n",
      "HKD [-2352.9318104]\n",
      "JPY [-8944.51833898]\n",
      "MXN [-4246.63144111]\n",
      "NOK [-1181.50070505]\n",
      "NZD [-395.77218921]\n",
      "SEK [2085.2689876]\n",
      "SGD [-1612.77410944]\n",
      "USD [7000.65025821]\n",
      "Art [-105.37008743]\n",
      "Comics [-531.35100937]\n",
      "Crafts [-608.78102928]\n",
      "Dance [-379.4464105]\n",
      "Design [-219.11835083]\n",
      "Fashion [-293.37013754]\n",
      "Film & Video [-49.87838412]\n",
      "Food [-692.23600179]\n",
      "Journalism [-451.58100212]\n",
      "Music [-303.93508606]\n",
      "Photography [222.96861493]\n",
      "Publishing [-370.53746499]\n",
      "Technology [-175.98088947]\n",
      "Theater [237.60836272]\n",
      "constant [-1600008.97568207]\n"
     ]
    }
   ],
   "source": [
    "for column, coef in zip(X.columns, final_betas):\n",
    "    print(column, coef)"
   ]
  },
  {
   "cell_type": "markdown",
   "id": "dff59636",
   "metadata": {},
   "source": [
    "## А что, если данных, в т.ч. признаков, очень много?"
   ]
  },
  {
   "cell_type": "code",
   "execution_count": null,
   "id": "ae3abb6c",
   "metadata": {},
   "outputs": [],
   "source": [
    "matrix = np.random.rand(50000, 50000)"
   ]
  },
  {
   "cell_type": "code",
   "execution_count": null,
   "id": "585749ee",
   "metadata": {},
   "outputs": [],
   "source": [
    "matrixdot = np.dot(matrix.T, matrix)\n",
    "matrix_inv = np.linalg.inv(matrixdot)"
   ]
  },
  {
   "cell_type": "code",
   "execution_count": null,
   "id": "6f45a3f3",
   "metadata": {},
   "outputs": [],
   "source": []
  },
  {
   "cell_type": "code",
   "execution_count": null,
   "id": "ecbc3c84",
   "metadata": {},
   "outputs": [],
   "source": []
  }
 ],
 "metadata": {
  "kernelspec": {
   "display_name": "Python 3",
   "language": "python",
   "name": "python3"
  },
  "language_info": {
   "codemirror_mode": {
    "name": "ipython",
    "version": 3
   },
   "file_extension": ".py",
   "mimetype": "text/x-python",
   "name": "python",
   "nbconvert_exporter": "python",
   "pygments_lexer": "ipython3",
   "version": "3.10.10"
  },
  "vscode": {
   "interpreter": {
    "hash": "cdaf845c447f5b8a88f1bde010b8054a6111556832cc2133cdddd7f2255dae56"
   }
  }
 },
 "nbformat": 4,
 "nbformat_minor": 5
}
