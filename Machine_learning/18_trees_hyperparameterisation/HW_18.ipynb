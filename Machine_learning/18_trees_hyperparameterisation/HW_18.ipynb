{
 "cells": [
  {
   "cell_type": "code",
   "execution_count": 159,
   "metadata": {},
   "outputs": [],
   "source": [
    "import pandas as pd\n",
    "import numpy as np\n",
    "import matplotlib.pyplot as plt\n",
    "import seaborn as sns\n",
    "\n",
    "pd.options.display.max_columns = 500"
   ]
  },
  {
   "cell_type": "markdown",
   "metadata": {},
   "source": [
    "### Загрузим датасет с машинами. Цель - верно восстанавливать для каждой из них цену продажи!"
   ]
  },
  {
   "cell_type": "code",
   "execution_count": 160,
   "metadata": {},
   "outputs": [
    {
     "data": {
      "text/html": [
       "<div>\n",
       "<style scoped>\n",
       "    .dataframe tbody tr th:only-of-type {\n",
       "        vertical-align: middle;\n",
       "    }\n",
       "\n",
       "    .dataframe tbody tr th {\n",
       "        vertical-align: top;\n",
       "    }\n",
       "\n",
       "    .dataframe thead th {\n",
       "        text-align: right;\n",
       "    }\n",
       "</style>\n",
       "<table border=\"1\" class=\"dataframe\">\n",
       "  <thead>\n",
       "    <tr style=\"text-align: right;\">\n",
       "      <th></th>\n",
       "      <th>name</th>\n",
       "      <th>year</th>\n",
       "      <th>selling_price</th>\n",
       "      <th>km_driven</th>\n",
       "      <th>fuel</th>\n",
       "      <th>seller_type</th>\n",
       "      <th>transmission</th>\n",
       "      <th>owner</th>\n",
       "    </tr>\n",
       "  </thead>\n",
       "  <tbody>\n",
       "    <tr>\n",
       "      <th>0</th>\n",
       "      <td>Maruti 800 AC</td>\n",
       "      <td>2007</td>\n",
       "      <td>60000</td>\n",
       "      <td>70000</td>\n",
       "      <td>Petrol</td>\n",
       "      <td>Individual</td>\n",
       "      <td>Manual</td>\n",
       "      <td>First Owner</td>\n",
       "    </tr>\n",
       "    <tr>\n",
       "      <th>1</th>\n",
       "      <td>Maruti Wagon R LXI Minor</td>\n",
       "      <td>2007</td>\n",
       "      <td>135000</td>\n",
       "      <td>50000</td>\n",
       "      <td>Petrol</td>\n",
       "      <td>Individual</td>\n",
       "      <td>Manual</td>\n",
       "      <td>First Owner</td>\n",
       "    </tr>\n",
       "    <tr>\n",
       "      <th>2</th>\n",
       "      <td>Hyundai Verna 1.6 SX</td>\n",
       "      <td>2012</td>\n",
       "      <td>600000</td>\n",
       "      <td>100000</td>\n",
       "      <td>Diesel</td>\n",
       "      <td>Individual</td>\n",
       "      <td>Manual</td>\n",
       "      <td>First Owner</td>\n",
       "    </tr>\n",
       "    <tr>\n",
       "      <th>3</th>\n",
       "      <td>Datsun RediGO T Option</td>\n",
       "      <td>2017</td>\n",
       "      <td>250000</td>\n",
       "      <td>46000</td>\n",
       "      <td>Petrol</td>\n",
       "      <td>Individual</td>\n",
       "      <td>Manual</td>\n",
       "      <td>First Owner</td>\n",
       "    </tr>\n",
       "    <tr>\n",
       "      <th>4</th>\n",
       "      <td>Honda Amaze VX i-DTEC</td>\n",
       "      <td>2014</td>\n",
       "      <td>450000</td>\n",
       "      <td>141000</td>\n",
       "      <td>Diesel</td>\n",
       "      <td>Individual</td>\n",
       "      <td>Manual</td>\n",
       "      <td>Second Owner</td>\n",
       "    </tr>\n",
       "  </tbody>\n",
       "</table>\n",
       "</div>"
      ],
      "text/plain": [
       "                       name  year  selling_price  km_driven    fuel  \\\n",
       "0             Maruti 800 AC  2007          60000      70000  Petrol   \n",
       "1  Maruti Wagon R LXI Minor  2007         135000      50000  Petrol   \n",
       "2      Hyundai Verna 1.6 SX  2012         600000     100000  Diesel   \n",
       "3    Datsun RediGO T Option  2017         250000      46000  Petrol   \n",
       "4     Honda Amaze VX i-DTEC  2014         450000     141000  Diesel   \n",
       "\n",
       "  seller_type transmission         owner  \n",
       "0  Individual       Manual   First Owner  \n",
       "1  Individual       Manual   First Owner  \n",
       "2  Individual       Manual   First Owner  \n",
       "3  Individual       Manual   First Owner  \n",
       "4  Individual       Manual  Second Owner  "
      ]
     },
     "execution_count": 160,
     "metadata": {},
     "output_type": "execute_result"
    }
   ],
   "source": [
    "data = pd.read_csv('autos.csv')\n",
    "\n",
    "data.head()"
   ]
  },
  {
   "cell_type": "code",
   "execution_count": 161,
   "metadata": {},
   "outputs": [],
   "source": [
    "### Колонка с тергетом - \"selling price\"\n",
    "\n",
    "X = data.drop(\"selling_price\", axis=1)\n",
    "y = data[\"selling_price\"]\n",
    "\n",
    "### Будем замерять MSLE!\n",
    "### Поэтому прологарифмируем таргет\n",
    "### А после оптимизируем MSE\n",
    "\n",
    "y = y.apply(np.log1p)"
   ]
  },
  {
   "cell_type": "code",
   "execution_count": 162,
   "metadata": {},
   "outputs": [],
   "source": [
    "### Разделим выборку на трейн и тест!\n",
    "\n",
    "from sklearn.model_selection import train_test_split \n",
    "\n",
    "X_train, X_test, y_train, y_test = train_test_split(X, y, test_size=0.2, random_state=1)"
   ]
  },
  {
   "cell_type": "markdown",
   "metadata": {},
   "source": [
    "__Задание__ \n",
    "\n",
    "Реализуйте свой MeanTargetEncoder с добавленем некоторого шума!\n",
    "\n",
    "Однажды в лекционном материале, обсуждая счетчики, мы говорили с вами о том, что из-за них модели могут переобучаться. Один из способов бороться с этим - валидировать расчеты среднего таргета (стратегия отложенной выборки / расчеты на кросс-валидации). Но есть еще проще!\n",
    "\n",
    "Можно просто к значению счетчика добавить случайный шум (зашумить данные)!\n",
    "\n",
    "Напомним, что рассчитываться новые признаки должны по такой формуле:\n",
    "\n",
    "$$\n",
    "g_j = \\frac{\\sum_{i=1}^{l} [f_j(x) = f_j(x_i)]}{l} + C * \\epsilon\n",
    "$$\n",
    "\n",
    "\n",
    "Пусть шум будет случайной величиной из нормального стандартного распределения, то есть $\\epsilon \\sim N(0, 1) $, а $ C = 0.006$."
   ]
  },
  {
   "cell_type": "markdown",
   "metadata": {},
   "source": [
    "Создавай свой класс-трансформер, наследуйтесь от классов `BaseEstimator, TransformerMixin` из `sklearn.base`. Трансформер не должен модифицировать передаваемую ему выборку inplace, а все необходимые статистики нужно считать только по обучающей выборке в методе `fit`. \n",
    "Ваш трансформер должен принимать при инициализации список из категориальных признаков и список из числовых признаков. \n",
    "\n",
    "Если для какого-то признака в тестовой выборке отсутствует значение, трансформер должен поставить там 0.\n",
    "\n",
    "На выходе должен получиться датасет того же размера с измененными категориальными признаками"
   ]
  },
  {
   "cell_type": "code",
   "execution_count": 163,
   "metadata": {},
   "outputs": [
    {
     "data": {
      "text/html": [
       "<div>\n",
       "<style scoped>\n",
       "    .dataframe tbody tr th:only-of-type {\n",
       "        vertical-align: middle;\n",
       "    }\n",
       "\n",
       "    .dataframe tbody tr th {\n",
       "        vertical-align: top;\n",
       "    }\n",
       "\n",
       "    .dataframe thead th {\n",
       "        text-align: right;\n",
       "    }\n",
       "</style>\n",
       "<table border=\"1\" class=\"dataframe\">\n",
       "  <thead>\n",
       "    <tr style=\"text-align: right;\">\n",
       "      <th></th>\n",
       "      <th>name</th>\n",
       "      <th>year</th>\n",
       "      <th>km_driven</th>\n",
       "      <th>fuel</th>\n",
       "      <th>seller_type</th>\n",
       "      <th>transmission</th>\n",
       "      <th>owner</th>\n",
       "    </tr>\n",
       "  </thead>\n",
       "  <tbody>\n",
       "    <tr>\n",
       "      <th>0</th>\n",
       "      <td>Maruti 800 AC</td>\n",
       "      <td>2007</td>\n",
       "      <td>70000</td>\n",
       "      <td>Petrol</td>\n",
       "      <td>Individual</td>\n",
       "      <td>Manual</td>\n",
       "      <td>First Owner</td>\n",
       "    </tr>\n",
       "    <tr>\n",
       "      <th>1</th>\n",
       "      <td>Maruti Wagon R LXI Minor</td>\n",
       "      <td>2007</td>\n",
       "      <td>50000</td>\n",
       "      <td>Petrol</td>\n",
       "      <td>Individual</td>\n",
       "      <td>Manual</td>\n",
       "      <td>First Owner</td>\n",
       "    </tr>\n",
       "    <tr>\n",
       "      <th>2</th>\n",
       "      <td>Hyundai Verna 1.6 SX</td>\n",
       "      <td>2012</td>\n",
       "      <td>100000</td>\n",
       "      <td>Diesel</td>\n",
       "      <td>Individual</td>\n",
       "      <td>Manual</td>\n",
       "      <td>First Owner</td>\n",
       "    </tr>\n",
       "    <tr>\n",
       "      <th>3</th>\n",
       "      <td>Datsun RediGO T Option</td>\n",
       "      <td>2017</td>\n",
       "      <td>46000</td>\n",
       "      <td>Petrol</td>\n",
       "      <td>Individual</td>\n",
       "      <td>Manual</td>\n",
       "      <td>First Owner</td>\n",
       "    </tr>\n",
       "    <tr>\n",
       "      <th>4</th>\n",
       "      <td>Honda Amaze VX i-DTEC</td>\n",
       "      <td>2014</td>\n",
       "      <td>141000</td>\n",
       "      <td>Diesel</td>\n",
       "      <td>Individual</td>\n",
       "      <td>Manual</td>\n",
       "      <td>Second Owner</td>\n",
       "    </tr>\n",
       "  </tbody>\n",
       "</table>\n",
       "</div>"
      ],
      "text/plain": [
       "                       name  year  km_driven    fuel seller_type transmission  \\\n",
       "0             Maruti 800 AC  2007      70000  Petrol  Individual       Manual   \n",
       "1  Maruti Wagon R LXI Minor  2007      50000  Petrol  Individual       Manual   \n",
       "2      Hyundai Verna 1.6 SX  2012     100000  Diesel  Individual       Manual   \n",
       "3    Datsun RediGO T Option  2017      46000  Petrol  Individual       Manual   \n",
       "4     Honda Amaze VX i-DTEC  2014     141000  Diesel  Individual       Manual   \n",
       "\n",
       "          owner  \n",
       "0   First Owner  \n",
       "1   First Owner  \n",
       "2   First Owner  \n",
       "3   First Owner  \n",
       "4  Second Owner  "
      ]
     },
     "execution_count": 163,
     "metadata": {},
     "output_type": "execute_result"
    }
   ],
   "source": [
    "object_cols = ['name', 'year', 'fuel', 'seller_type', 'transmission', 'owner']\n",
    "num_cols = ['km_driven']\n",
    "\n",
    "X.head()"
   ]
  },
  {
   "cell_type": "code",
   "execution_count": 164,
   "metadata": {},
   "outputs": [],
   "source": [
    "from sklearn.base import BaseEstimator, TransformerMixin\n",
    "\n",
    "class MeanTargetEncoderNoise(BaseEstimator, TransformerMixin):\n",
    "    \n",
    "    def __init__(self, categorical, numeric):\n",
    "        self.categorical = categorical\n",
    "        self.numeric = numeric\n",
    "        self.mean_target = {} # Словарь для хранения значений Mean Target для каждого категориального признака и каждого числового признака\n",
    "        self.C = 0.006\n",
    "    \n",
    "    def fit(self, X, y):\n",
    "        \"\"\"\n",
    "        Метод fit для расчета Mean Target для каждого категориального и числового признака.\n",
    "        Расчет проводится только по обучающей выборке.\n",
    "        :param X: pandas.DataFrame, обучающая выборка\n",
    "        :param y: pandas.Series, значения целевой переменной для обучающей выборки\n",
    "        :return: экземпляр класса MeanTargetEncoderNoise\n",
    "        \"\"\"\n",
    "        for col in self.categorical:\n",
    "            df = pd.DataFrame({'feature': X[col], 'target': y}) # Создаем DataFrame, чтобы сгруппировать значения по признаку\n",
    "            mean_target = df.groupby(['feature'])['target'].mean() # Считаем среднее значение target для каждого значения признака\n",
    "            self.mean_target[col] = mean_target  # Добавляем значения mean target в словарь\n",
    "        \n",
    "        for col in self.numeric:\n",
    "            self.mean_target[col] = y.mean() # Для числовых признаков считаем среднее значение target по всей выборке\n",
    "            \n",
    "            return self\n",
    "        \n",
    "    def transform(self, X):\n",
    "        \"\"\"\n",
    "        Метод transform для трансформации признаков с помощью Mean Target Encoding с добавлением шума.\n",
    "        :param X: pandas.DataFrame, выборка для трансформации\n",
    "        :return: pandas.DataFrame, трансформированная выборка\n",
    "        \"\"\"\n",
    "        temp = X.copy()  # Создаем копию датасета, чтобы не изменять исходные данные\n",
    "        \n",
    "        for col in self.categorical:\n",
    "            temp[col] = temp[col].map(self.mean_target[col]) # Заменяем значения категориального признака на значения mean target\n",
    "            temp[col] = temp[col] + self.C * np.random.randn(len(X)) # Добавляем случайный шум\n",
    "            temp[col] = temp[col].fillna(0) # Заполняем пропущенные значения 0\n",
    "            \n",
    "        for col in self.numeric:\n",
    "            temp[col] = temp[col].fillna(self.mean_target[col]) # Заполняем пропущенные значения средним значением target по всей выборке\n",
    "            \n",
    "        return temp"
   ]
  },
  {
   "cell_type": "code",
   "execution_count": 165,
   "metadata": {},
   "outputs": [
    {
     "data": {
      "text/html": [
       "<div>\n",
       "<style scoped>\n",
       "    .dataframe tbody tr th:only-of-type {\n",
       "        vertical-align: middle;\n",
       "    }\n",
       "\n",
       "    .dataframe tbody tr th {\n",
       "        vertical-align: top;\n",
       "    }\n",
       "\n",
       "    .dataframe thead th {\n",
       "        text-align: right;\n",
       "    }\n",
       "</style>\n",
       "<table border=\"1\" class=\"dataframe\">\n",
       "  <thead>\n",
       "    <tr style=\"text-align: right;\">\n",
       "      <th></th>\n",
       "      <th>name</th>\n",
       "      <th>year</th>\n",
       "      <th>km_driven</th>\n",
       "      <th>fuel</th>\n",
       "      <th>seller_type</th>\n",
       "      <th>transmission</th>\n",
       "      <th>owner</th>\n",
       "    </tr>\n",
       "  </thead>\n",
       "  <tbody>\n",
       "    <tr>\n",
       "      <th>3294</th>\n",
       "      <td>13.478865</td>\n",
       "      <td>13.430921</td>\n",
       "      <td>50000</td>\n",
       "      <td>13.088541</td>\n",
       "      <td>12.609423</td>\n",
       "      <td>13.759065</td>\n",
       "      <td>12.964161</td>\n",
       "    </tr>\n",
       "    <tr>\n",
       "      <th>2290</th>\n",
       "      <td>12.111783</td>\n",
       "      <td>11.901925</td>\n",
       "      <td>70000</td>\n",
       "      <td>12.457036</td>\n",
       "      <td>12.620399</td>\n",
       "      <td>13.777324</td>\n",
       "      <td>12.962823</td>\n",
       "    </tr>\n",
       "    <tr>\n",
       "      <th>874</th>\n",
       "      <td>12.298593</td>\n",
       "      <td>13.336935</td>\n",
       "      <td>50000</td>\n",
       "      <td>12.455670</td>\n",
       "      <td>12.616451</td>\n",
       "      <td>12.645775</td>\n",
       "      <td>12.984195</td>\n",
       "    </tr>\n",
       "    <tr>\n",
       "      <th>1907</th>\n",
       "      <td>12.477658</td>\n",
       "      <td>13.055335</td>\n",
       "      <td>92198</td>\n",
       "      <td>12.463101</td>\n",
       "      <td>13.152012</td>\n",
       "      <td>12.637086</td>\n",
       "      <td>12.452642</td>\n",
       "    </tr>\n",
       "    <tr>\n",
       "      <th>3244</th>\n",
       "      <td>12.397144</td>\n",
       "      <td>12.857059</td>\n",
       "      <td>3240</td>\n",
       "      <td>12.454647</td>\n",
       "      <td>12.614863</td>\n",
       "      <td>12.627399</td>\n",
       "      <td>12.471970</td>\n",
       "    </tr>\n",
       "  </tbody>\n",
       "</table>\n",
       "</div>"
      ],
      "text/plain": [
       "           name       year  km_driven       fuel  seller_type  transmission  \\\n",
       "3294  13.478865  13.430921      50000  13.088541    12.609423     13.759065   \n",
       "2290  12.111783  11.901925      70000  12.457036    12.620399     13.777324   \n",
       "874   12.298593  13.336935      50000  12.455670    12.616451     12.645775   \n",
       "1907  12.477658  13.055335      92198  12.463101    13.152012     12.637086   \n",
       "3244  12.397144  12.857059       3240  12.454647    12.614863     12.627399   \n",
       "\n",
       "          owner  \n",
       "3294  12.964161  \n",
       "2290  12.962823  \n",
       "874   12.984195  \n",
       "1907  12.452642  \n",
       "3244  12.471970  "
      ]
     },
     "execution_count": 165,
     "metadata": {},
     "output_type": "execute_result"
    }
   ],
   "source": [
    "### Проверка работы трансформера\n",
    "\n",
    "np.random.seed(1)\n",
    "transformer = MeanTargetEncoderNoise(categorical=object_cols, numeric=num_cols)\n",
    "\n",
    "transformer.fit(X_train, y_train)\n",
    "\n",
    "train = transformer.transform(X_train)\n",
    "test = transformer.transform(X_test)\n",
    "\n",
    "train.head()"
   ]
  },
  {
   "cell_type": "markdown",
   "metadata": {},
   "source": [
    "Обучите несколько деревьев, перебирая максимальную глубину алгоритма из списка `max_depth_list`, а остальные параметры оставьте дефолтными. Выведите лучшее значение гиперпараметра. Постройте график зависимости MSLE на тестовой выборке от значения гиперпараметра. Воспользуйтесь `Pipeline` без `GridSearch`. Проделайте то же самое с `min_samples_split`, `min_impurity_decrease`, `max_leaf_nodes`. (по 2б на каждый параметр)"
   ]
  },
  {
   "cell_type": "code",
   "execution_count": 166,
   "metadata": {},
   "outputs": [],
   "source": [
    "max_depth_list = [3, 5, 8, 12]\n",
    "min_samples_split_list = [10, 50, 100, 500]\n",
    "min_impurity_decrease_list = [0, 0.1, 0.15, 0.2]\n",
    "max_leaf_nodes_list = [100, 200, 500]"
   ]
  },
  {
   "cell_type": "code",
   "execution_count": 167,
   "metadata": {},
   "outputs": [],
   "source": [
    "import numpy as np\n",
    "import pandas as pd\n",
    "from sklearn.tree import DecisionTreeRegressor\n",
    "from sklearn.pipeline import Pipeline\n",
    "from sklearn.model_selection import train_test_split\n",
    "from sklearn.metrics import mean_squared_log_error\n",
    "import matplotlib.pyplot as plt"
   ]
  },
  {
   "cell_type": "code",
   "execution_count": 168,
   "metadata": {},
   "outputs": [
    {
     "data": {
      "text/plain": [
       "{'max_depth_1': 0.5212834985456157,\n",
       " 'max_depth_2': 0.626720708557684,\n",
       " 'max_depth_3': 0.7861836137784873,\n",
       " 'max_depth_4': 0.9844293563424611,\n",
       " 'max_depth_5': 1.4423379879439593,\n",
       " 'max_depth_8': 1.45617182464722,\n",
       " 'max_depth_12': 1.59276610655452}"
      ]
     },
     "execution_count": 168,
     "metadata": {},
     "output_type": "execute_result"
    }
   ],
   "source": [
    "from sklearn.metrics import mean_squared_error as mse\n",
    "from sklearn.tree import DecisionTreeRegressor\n",
    "from sklearn.pipeline import Pipeline\n",
    "\n",
    "np.random.seed(1)\n",
    "### Your code is here\n",
    "from sklearn.tree import DecisionTreeRegressor\n",
    "from sklearn.pipeline import Pipeline\n",
    "\n",
    "max_depth_list = [1,2,3,4, 5, 8, 12]\n",
    "result_test = {}\n",
    "result_train = {}\n",
    "for col in max_depth_list:\n",
    "    pipe = Pipeline([(\"custom_transformer\",\n",
    "                   MeanTargetEncoderNoise(categorical=object_cols, numeric=num_cols)),\n",
    "                  \n",
    "                  \n",
    "                 (\"decision_tree\", \n",
    "                  DecisionTreeRegressor(max_depth=col))])\n",
    "\n",
    "    pipe.fit(X_train, y_train)\n",
    "\n",
    "    mse_train =mse(y_train, pipe.predict(X_train))\n",
    "    mse_test = mse(y_test, pipe.predict(X_test))\n",
    "    max_depth = f'max_depth_{col}'\n",
    "    result_test.update({max_depth:mse_test})\n",
    "    result_train.update({max_depth:mse_train})\n",
    "\n",
    "result_test\n",
    "\n"
   ]
  },
  {
   "cell_type": "code",
   "execution_count": 169,
   "metadata": {},
   "outputs": [],
   "source": [
    "def find_best_hyperparameter(hyperparameter_name, hyperparameter_values, X_train, y_train, X_test, y_test):\n",
    "    msle_scores = []\n",
    "\n",
    "    for value in hyperparameter_values:\n",
    "        # Создайте и настройте объект Pipeline\n",
    "        pipeline = Pipeline([\n",
    "            ('encoder', MeanTargetEncoderNoise(categorical=object_cols, numeric=num_cols)),\n",
    "            ('model', DecisionTreeRegressor(**{hyperparameter_name: value})) # ** - распаковка словаря\n",
    "        ])\n",
    "\n",
    "        pipeline.fit(X_train, y_train)\n",
    "        y_pred = pipeline.predict(X_test)\n",
    "        \n",
    "        msle_train = mean_squared_log_error(y_train, pipeline.predict(X_train))\n",
    "        msle_test = mean_squared_log_error(y_test, y_pred)\n",
    "        mle_test = mean_squared_error(y_test, y_pred)\n",
    "        \n",
    "        print(f\"Значение {hyperparameter_name}: {value}\")\n",
    "        print(f\"MSLE на тесте: {round(msle_test, 3)}\")\n",
    "        \n",
    "        # MSE на тесте\n",
    "        print(f\"MSE на тесте: {round(mse(y_test, y_pred), 3)}\")\n",
    "        \n",
    "        msle_scores.append(msle_test)\n",
    "        \n",
    "\n",
    "    # Постройте график\n",
    "    plt.plot(hyperparameter_values, msle_scores)\n",
    "    plt.xlabel(hyperparameter_name)\n",
    "    plt.ylabel('MSLE')\n",
    "    plt.title(f'MSLE vs {hyperparameter_name}')\n",
    "    plt.show()\n",
    "\n",
    "    # Найдите и верните лучшее значение гиперпараметра\n",
    "    best_value = hyperparameter_values[np.argmin(msle_scores)]\n",
    "    \n",
    "    #!!! переписываем на MSE\n",
    "    best_value = hyperparameter_values[np.argmin(m\n",
    "    print(f\"Лучшее значение {hyperparameter_name}: {best_value}\")\n",
    "    # лучшее MLSE, округленное до 3 знаков после запятой\n",
    "    print(f\"Лучшее MLSE: {round(min(msle_scores), 3)}\")\n",
    "    print(f\"Лучшее MSE: {round(mse(y_test, pipeline.predict(X_test)), 3)}\")\n",
    "\n",
    "    return best_value\n"
   ]
  },
  {
   "cell_type": "code",
   "execution_count": 170,
   "metadata": {},
   "outputs": [
    {
     "name": "stdout",
     "output_type": "stream",
     "text": [
      "Значение max_depth: 1\n",
      "MSLE на тесте: 0.003\n",
      "MSE на тесте: 0.521\n",
      "Значение max_depth: 2\n",
      "MSLE на тесте: 0.003\n",
      "MSE на тесте: 0.625\n",
      "Значение max_depth: 3\n",
      "MSLE на тесте: 0.004\n",
      "MSE на тесте: 0.793\n",
      "Значение max_depth: 4\n",
      "MSLE на тесте: 0.006\n",
      "MSE на тесте: 0.991\n",
      "Значение max_depth: 5\n",
      "MSLE на тесте: 0.009\n",
      "MSE на тесте: 1.439\n",
      "Значение max_depth: 8\n",
      "MSLE на тесте: 0.013\n",
      "MSE на тесте: 1.99\n",
      "Значение max_depth: 12\n",
      "MSLE на тесте: 0.01\n",
      "MSE на тесте: 1.634\n"
     ]
    },
    {
     "data": {
      "image/png": "[encoded data removed]",
      "text/plain": [
       "<Figure size 640x480 with 1 Axes>"
      ]
     },
     "metadata": {},
     "output_type": "display_data"
    },
    {
     "name": "stdout",
     "output_type": "stream",
     "text": [
      "Лучшее значение max_depth: 1\n",
      "Лучшее MLSE: 0.003\n",
      "Лучшее MSE: 1.6\n"
     ]
    }
   ],
   "source": [
    "best_max_depth = find_best_hyperparameter('max_depth', max_depth_list, X_train, y_train, X_test, y_test)"
   ]
  },
  {
   "cell_type": "code",
   "execution_count": 171,
   "metadata": {},
   "outputs": [
    {
     "name": "stdout",
     "output_type": "stream",
     "text": [
      "Значение min_samples_split: 10\n",
      "MSLE на тесте: 0.009\n",
      "MSE на тесте: 1.45\n",
      "Значение min_samples_split: 50\n",
      "MSLE на тесте: 0.009\n",
      "MSE на тесте: 1.443\n",
      "Значение min_samples_split: 100\n",
      "MSLE на тесте: 0.006\n",
      "MSE на тесте: 0.994\n",
      "Значение min_samples_split: 500\n",
      "MSLE на тесте: 0.005\n",
      "MSE на тесте: 0.818\n"
     ]
    },
    {
     "data": {
      "image/png": "[encoded data removed]",
      "text/plain": [
       "<Figure size 640x480 with 1 Axes>"
      ]
     },
     "metadata": {},
     "output_type": "display_data"
    },
    {
     "name": "stdout",
     "output_type": "stream",
     "text": [
      "Лучшее значение min_samples_split: 500\n",
      "Лучшее MLSE: 0.005\n",
      "Лучшее MSE: 0.82\n"
     ]
    }
   ],
   "source": [
    "best_min_samples_split = find_best_hyperparameter('min_samples_split', min_samples_split_list, X_train, y_train, X_test, y_test)"
   ]
  },
  {
   "cell_type": "code",
   "execution_count": 172,
   "metadata": {},
   "outputs": [
    {
     "name": "stdout",
     "output_type": "stream",
     "text": [
      "Значение min_impurity_decrease: 0\n",
      "MSLE на тесте: 0.013\n",
      "MSE на тесте: 2.011\n",
      "Значение min_impurity_decrease: 0.1\n",
      "MSLE на тесте: 0.003\n",
      "MSE на тесте: 0.526\n",
      "Значение min_impurity_decrease: 0.15\n",
      "MSLE на тесте: 0.003\n",
      "MSE на тесте: 0.528\n",
      "Значение min_impurity_decrease: 0.2\n",
      "MSLE на тесте: 0.003\n",
      "MSE на тесте: 0.527\n"
     ]
    },
    {
     "data": {
      "image/png": "[encoded data removed]",
      "text/plain": [
       "<Figure size 640x480 with 1 Axes>"
      ]
     },
     "metadata": {},
     "output_type": "display_data"
    },
    {
     "name": "stdout",
     "output_type": "stream",
     "text": [
      "Лучшее значение min_impurity_decrease: 0.1\n",
      "Лучшее MLSE: 0.003\n",
      "Лучшее MSE: 0.526\n"
     ]
    }
   ],
   "source": [
    "est_min_impurity_decrease = find_best_hyperparameter('min_impurity_decrease', min_impurity_decrease_list, X_train, y_train, X_test, y_test)"
   ]
  },
  {
   "cell_type": "code",
   "execution_count": 173,
   "metadata": {},
   "outputs": [
    {
     "name": "stdout",
     "output_type": "stream",
     "text": [
      "Значение max_leaf_nodes: 100\n",
      "MSLE на тесте: 0.009\n",
      "MSE на тесте: 1.436\n",
      "Значение max_leaf_nodes: 200\n",
      "MSLE на тесте: 0.013\n",
      "MSE на тесте: 1.993\n",
      "Значение max_leaf_nodes: 500\n",
      "MSLE на тесте: 0.009\n",
      "MSE на тесте: 1.521\n"
     ]
    },
    {
     "data": {
      "image/png": "[encoded data removed]",
      "text/plain": [
       "<Figure size 640x480 with 1 Axes>"
      ]
     },
     "metadata": {},
     "output_type": "display_data"
    },
    {
     "name": "stdout",
     "output_type": "stream",
     "text": [
      "Лучшее значение max_leaf_nodes: 100\n",
      "Лучшее MLSE: 0.009\n",
      "Лучшее MSE: 1.556\n"
     ]
    }
   ],
   "source": [
    "best_max_leaf_nodes = find_best_hyperparameter('max_leaf_nodes', max_leaf_nodes_list, X_train, y_train, X_test, y_test)"
   ]
  },
  {
   "cell_type": "code",
   "execution_count": 174,
   "metadata": {},
   "outputs": [
    {
     "name": "stdout",
     "output_type": "stream",
     "text": [
      "Значение min_impurity_decrease: 0\n",
      "MSLE на тесте: 0.012\n",
      "MSE на тесте: 1.896\n",
      "Значение min_impurity_decrease: 0.1\n",
      "MSLE на тесте: 0.003\n",
      "MSE на тесте: 0.524\n",
      "Значение min_impurity_decrease: 0.15\n",
      "MSLE на тесте: 0.003\n",
      "MSE на тесте: 0.52\n",
      "Значение min_impurity_decrease: 0.2\n",
      "MSLE на тесте: 0.003\n",
      "MSE на тесте: 0.524\n"
     ]
    },
    {
     "data": {
      "image/png": "[encoded data removed]",
      "text/plain": [
       "<Figure size 640x480 with 1 Axes>"
      ]
     },
     "metadata": {},
     "output_type": "display_data"
    },
    {
     "name": "stdout",
     "output_type": "stream",
     "text": [
      "Лучшее значение min_impurity_decrease: 0.15\n",
      "Лучшее MLSE: 0.003\n",
      "Лучшее MSE: 0.521\n"
     ]
    }
   ],
   "source": [
    "best_min_impurity_decrease = find_best_hyperparameter('min_impurity_decrease', min_impurity_decrease_list, X_train, y_train, X_test, y_test)"
   ]
  },
  {
   "cell_type": "code",
   "execution_count": null,
   "metadata": {},
   "outputs": [],
   "source": [
    "### Лучшие гиперпараметры\n",
    "\n",
    "fig = plt.figure(figsize=(10, 10))\n",
    "i = 1\n",
    "\n",
    "for mse"
   ]
  },
  {
   "cell_type": "code",
   "execution_count": 176,
   "metadata": {},
   "outputs": [
    {
     "name": "stdout",
     "output_type": "stream",
     "text": [
      "MSLE на тесте: 0.003\n",
      "MSE на тесте: 0.521\n"
     ]
    }
   ],
   "source": [
    "from sklearn.metrics import mean_squared_log_error\n",
    "from sklearn.tree import DecisionTreeRegressor\n",
    "from sklearn.pipeline import Pipeline\n",
    "from sklearn.model_selection import GridSearchCV\n",
    "\n",
    "np.random.seed(1)\n",
    "\n",
    "pipe = Pipeline([\n",
    "    (\"encoder\", MeanTargetEncoderNoise(categorical=object_cols, numeric=num_cols)),\n",
    "    (\"model\", DecisionTreeRegressor(max_depth=best_max_depth, min_samples_split=best_min_samples_split, min_impurity_decrease=best_min_impurity_decrease, max_leaf_nodes=best_max_leaf_nodes))\n",
    "])\n",
    "\n",
    "pipe.fit(X_train, y_train)\n",
    "\n",
    "print(f\"MSLE на тесте: {round(mean_squared_log_error(y_test, pipe.predict(X_test)), 3)}\")\n",
    "print(f\"MSE на тесте: {round(mse(y_test, pipe.predict(X_test)), 3)}\")"
   ]
  },
  {
   "cell_type": "markdown",
   "metadata": {},
   "source": [
    "Подберите лучшую комбинацию параметров, используя `GridSearchCV` и набор массивов значений параметров из предыдущего задания. Для лучшей комбинации посчитайте MSLE на тестовой выборке. Получились ли лучшие параметры такими же, как если бы вы подбирали их по-отдельности при остальных гиперпараметрах по умолчанию (предыдущее задание)? (2б)"
   ]
  },
  {
   "cell_type": "code",
   "execution_count": 177,
   "metadata": {},
   "outputs": [
    {
     "name": "stdout",
     "output_type": "stream",
     "text": [
      "Лучшие параметры: {'model__max_depth': 8, 'model__max_leaf_nodes': 500, 'model__min_impurity_decrease': 0.15, 'model__min_samples_split': 500}\n",
      "MSLE на тесте: 0.003\n",
      "MSE на тесте: 0.521\n"
     ]
    }
   ],
   "source": [
    "from sklearn.metrics import mean_squared_log_error\n",
    "from sklearn.tree import DecisionTreeRegressor\n",
    "from sklearn.pipeline import Pipeline\n",
    "from sklearn.model_selection import GridSearchCV\n",
    "\n",
    "np.random.seed(1)\n",
    "\n",
    "param_grid = {\n",
    "    \"model__max_depth\": [3, 5, 8, 12],\n",
    "    \"model__min_samples_split\": [10, 50, 100, 500],\n",
    "    \"model__min_impurity_decrease\": [0, 0.1, 0.15, 0.2],\n",
    "    \"model__max_leaf_nodes\": [100, 200, 500]\n",
    "}\n",
    "\n",
    "np.random.seed(1)\n",
    "\n",
    "grid_search = GridSearchCV(pipe, param_grid, cv=5, scoring=\"neg_mean_squared_log_error\", n_jobs=-1)\n",
    "grid_search.fit(X_train, y_train)\n",
    "\n",
    "best_params = grid_search.best_params_\n",
    "print(f\"Лучшие параметры: {best_params}\")\n",
    "\n",
    "print(f\"MSLE на тесте: {round(mean_squared_log_error(y_test, grid_search.predict(X_test)), 3)}\")\n",
    "print(f\"MSE на тесте: {round(mse(y_test, grid_search.predict(X_test)), 3)}\")"
   ]
  },
  {
   "cell_type": "code",
   "execution_count": 178,
   "metadata": {},
   "outputs": [
    {
     "name": "stdout",
     "output_type": "stream",
     "text": [
      "MSE на тесте: 0.524\n"
     ]
    }
   ],
   "source": [
    "# MSE на тесте\n",
    "print(f\"MSE на тесте: {round(mse(y_test, grid_search.predict(X_test)), 3)}\")"
   ]
  },
  {
   "cell_type": "code",
   "execution_count": null,
   "metadata": {},
   "outputs": [],
   "source": []
  }
 ],
 "metadata": {
  "kernelspec": {
   "display_name": "Python 3.9.13 ('base')",
   "language": "python",
   "name": "python3"
  },
  "language_info": {
   "codemirror_mode": {
    "name": "ipython",
    "version": 3
   },
   "file_extension": ".py",
   "mimetype": "text/x-python",
   "name": "python",
   "nbconvert_exporter": "python",
   "pygments_lexer": "ipython3",
   "version": "3.9.13"
  },
  "vscode": {
   "interpreter": {
    "hash": "a5525e501b23e2010ab883f77d6209697fb9a7ecd2dc8bb136f049441ff2c9ca"
   }
  }
 },
 "nbformat": 4,
 "nbformat_minor": 4
}
