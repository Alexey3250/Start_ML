{
 "cells": [
  {
   "cell_type": "markdown",
   "id": "519299eb",
   "metadata": {},
   "source": [
    "К текущему моменту мы научились обучать простейшую линейную регрессию: причем научились пользоваться как готовыми методами из sklearn, так и реализовывать поиск решения оптимальных коэффициентов самостоятельно с помощью градиентного спуска.\n",
    "\n",
    "На последних занятиях мы узнали, что на практике часто приходится прибегать к некоторым хитростям, чтобы оценить, действительно ли модель отлично справляется со своей главной задачей - делать хорошие предсказания на новых данных в будущем, или, как еще говорят, в проде - после запуска.\n",
    "\n",
    "Для этого было введено понятие так называемой обобщающей способности модели. Оно помогает нам оценить, насколько наша модель подогналась под увиденные данные и насколько она окажется хороша на новых данных.\n",
    "\n",
    "Обобщающую способность мы научились оценивать с помощью метода Кросс-Валидации.\n",
    "\n"
   ]
  },
  {
   "cell_type": "markdown",
   "id": "9ca856dc",
   "metadata": {},
   "source": [
    "Построим для старой задачи с предсказанием длительности поездки в такси 2 модели линейной регрессии. Для каждой из них замерим качество на кросс-валидации и на тесте, заранее его отложив.\n",
    "\n",
    "Считается, что если для K-Fold Кросс-Валидации брать большие значения K (то есть большое количество сплитов для разбиения тренировочной выборки на тренировку-валидацию), то оценка среднеквадратической ошибки будет получаться более справедливой. Так, например, когда K оказывается максимальным, а именно равным количеству объектов в выборке (каждый раз в валидации у нас 1 новый объект), то такой метод Кросс-Валидации еще называют LeaveOneOut.\n",
    "\n",
    "Главная причина, почему мало где его используют, состоит в дороговизне такого метода. Например, в данной задаче в TAXI_train.csv лежит почти 1,2 млн. объектов. Тогда, чтобы замерить качество на LeaveOneOut валидации, нам пришлось бы обучить 1,2 млн. различных версий одной модели, что, конечно, не вписыватеся в рамки адекватного времени и прочих ресурсов.\n",
    "\n",
    "Поэтому выберем компромиссное значение в виде 20 фолдов для K-Fold Кросс-Валидации.\n",
    "\n",
    "Внимание! Для каждой из 2 моделей очевидно было бы справедливым замерять качество на тех же самых объектах, поэтому сплиты лучше зафиксировать сразу.\n",
    "\n",
    "P.S. Оптимизировать будем MSLE метрику. И сравнивать модели тоже будем по ней будем. Как из домашнего задания про метрики, только без корня! :)\n",
    "\n",
    "$$\\text{MSLE}(X, y, a) = \\frac{1}{\\ell}\\sum_{i=1}^{\\ell} \\big(\\log{(y_i + 1)} - \\log{(a(x_i) + 1)}\\big)^2$$\n"
   ]
  },
  {
   "attachments": {},
   "cell_type": "markdown",
   "id": "8ea1d439",
   "metadata": {},
   "source": [
    "### Модель №1 \n",
    "\n",
    "Для начала посчитаем ошибку на Кросс-Валидации и Тесте для нашей самой базовой модели до вычленения каких-либо признаков, а просто взяв все вещественные колонки."
   ]
  },
  {
   "cell_type": "code",
   "execution_count": 30,
   "id": "b6134718",
   "metadata": {},
   "outputs": [],
   "source": [
    "import pandas as pd\n",
    "from sklearn.linear_model import LinearRegression"
   ]
  },
  {
   "cell_type": "code",
   "execution_count": 31,
   "id": "f4da8fcf",
   "metadata": {},
   "outputs": [],
   "source": [
    "#initial_data = pd.read_csv('initial_data.csv', index_col='id')\n",
    "\n",
    "# Считываем исходные данные из CSV-файла и указываем столбец 'id' как индекс\n",
    "initial_data = pd.read_csv(r'C:\\Users\\aefim\\github\\Start_ML\\large\\initial_data.csv', index_col='id')\n",
    "\n",
    "# Задаем список столбцов, которые будут использоваться в дальнейшем\n",
    "initial_cols = ['vendor_id', 'passenger_count', 'pickup_longitude',\n",
    "                'pickup_latitude', 'dropoff_longitude', 'dropoff_latitude',\n",
    "                'trip_duration']\n",
    "\n",
    "# Оставляем только выбранные столбцы в исходных данных\n",
    "initial_data = initial_data[initial_cols]"
   ]
  },
  {
   "cell_type": "code",
   "execution_count": 32,
   "id": "718a10ac",
   "metadata": {},
   "outputs": [
    {
     "data": {
      "text/html": [
       "<div>\n",
       "<style scoped>\n",
       "    .dataframe tbody tr th:only-of-type {\n",
       "        vertical-align: middle;\n",
       "    }\n",
       "\n",
       "    .dataframe tbody tr th {\n",
       "        vertical-align: top;\n",
       "    }\n",
       "\n",
       "    .dataframe thead th {\n",
       "        text-align: right;\n",
       "    }\n",
       "</style>\n",
       "<table border=\"1\" class=\"dataframe\">\n",
       "  <thead>\n",
       "    <tr style=\"text-align: right;\">\n",
       "      <th></th>\n",
       "      <th>vendor_id</th>\n",
       "      <th>passenger_count</th>\n",
       "      <th>pickup_longitude</th>\n",
       "      <th>pickup_latitude</th>\n",
       "      <th>dropoff_longitude</th>\n",
       "      <th>dropoff_latitude</th>\n",
       "      <th>trip_duration</th>\n",
       "    </tr>\n",
       "    <tr>\n",
       "      <th>id</th>\n",
       "      <th></th>\n",
       "      <th></th>\n",
       "      <th></th>\n",
       "      <th></th>\n",
       "      <th></th>\n",
       "      <th></th>\n",
       "      <th></th>\n",
       "    </tr>\n",
       "  </thead>\n",
       "  <tbody>\n",
       "    <tr>\n",
       "      <th>id2875421</th>\n",
       "      <td>2</td>\n",
       "      <td>1</td>\n",
       "      <td>-73.982155</td>\n",
       "      <td>40.767937</td>\n",
       "      <td>-73.964630</td>\n",
       "      <td>40.765602</td>\n",
       "      <td>455.0</td>\n",
       "    </tr>\n",
       "    <tr>\n",
       "      <th>id2377394</th>\n",
       "      <td>1</td>\n",
       "      <td>1</td>\n",
       "      <td>-73.980415</td>\n",
       "      <td>40.738564</td>\n",
       "      <td>-73.999481</td>\n",
       "      <td>40.731152</td>\n",
       "      <td>663.0</td>\n",
       "    </tr>\n",
       "    <tr>\n",
       "      <th>id3858529</th>\n",
       "      <td>2</td>\n",
       "      <td>1</td>\n",
       "      <td>-73.979027</td>\n",
       "      <td>40.763939</td>\n",
       "      <td>-74.005333</td>\n",
       "      <td>40.710087</td>\n",
       "      <td>2124.0</td>\n",
       "    </tr>\n",
       "    <tr>\n",
       "      <th>id3504673</th>\n",
       "      <td>2</td>\n",
       "      <td>1</td>\n",
       "      <td>-74.010040</td>\n",
       "      <td>40.719971</td>\n",
       "      <td>-74.012268</td>\n",
       "      <td>40.706718</td>\n",
       "      <td>429.0</td>\n",
       "    </tr>\n",
       "    <tr>\n",
       "      <th>id2181028</th>\n",
       "      <td>2</td>\n",
       "      <td>1</td>\n",
       "      <td>-73.973053</td>\n",
       "      <td>40.793209</td>\n",
       "      <td>-73.972923</td>\n",
       "      <td>40.782520</td>\n",
       "      <td>435.0</td>\n",
       "    </tr>\n",
       "  </tbody>\n",
       "</table>\n",
       "</div>"
      ],
      "text/plain": [
       "           vendor_id  passenger_count  pickup_longitude  pickup_latitude  \\\n",
       "id                                                                         \n",
       "id2875421          2                1        -73.982155        40.767937   \n",
       "id2377394          1                1        -73.980415        40.738564   \n",
       "id3858529          2                1        -73.979027        40.763939   \n",
       "id3504673          2                1        -74.010040        40.719971   \n",
       "id2181028          2                1        -73.973053        40.793209   \n",
       "\n",
       "           dropoff_longitude  dropoff_latitude  trip_duration  \n",
       "id                                                             \n",
       "id2875421         -73.964630         40.765602          455.0  \n",
       "id2377394         -73.999481         40.731152          663.0  \n",
       "id3858529         -74.005333         40.710087         2124.0  \n",
       "id3504673         -74.012268         40.706718          429.0  \n",
       "id2181028         -73.972923         40.782520          435.0  "
      ]
     },
     "execution_count": 32,
     "metadata": {},
     "output_type": "execute_result"
    }
   ],
   "source": [
    "initial_data.head()"
   ]
  },
  {
   "cell_type": "markdown",
   "id": "25992b98",
   "metadata": {},
   "source": [
    "### ТрюК!"
   ]
  },
  {
   "cell_type": "code",
   "execution_count": 33,
   "id": "469e9fdf",
   "metadata": {},
   "outputs": [],
   "source": [
    "### Замерять будем MSLE. Можно показать, что для оптимизации MSLE,\n",
    "### Достаточно логарифмировать таргетную переменную, \n",
    "### а потом оптимизировать привычные MSE\n",
    "import numpy as np\n",
    "\n",
    "# Создаем новый столбец, содержащий логарифм продолжительности поездки\n",
    "initial_data = initial_data.assign(log_trip_duration=np.log1p(initial_data['trip_duration']))\n",
    "\n",
    "# Удаляем столбец 'trip_duration'\n",
    "initial_data = initial_data.drop('trip_duration', axis=1)"
   ]
  },
  {
   "cell_type": "markdown",
   "id": "8560f8db",
   "metadata": {},
   "source": [
    "### Объяснение:\n",
    "\n",
    "Пусть имеем модель $a(x)$, обученную на MSE от $y$:\n",
    "$$\n",
    "\\text{MSE}(X, y, a) = \\frac{1}{\\ell}\\sum_{i=1}^{\\ell} \\big(y_i - a(x_i)\\big)^2 \\rightarrow min\n",
    "$$\n",
    "\n",
    "Также представим модель $a^*(x)$, обученную на MSE от $\\log{(y + 1)}$:\n",
    "$$\n",
    "\\text{MSE}(X, \\log{(y+1)}, a^*) = \\frac{1}{\\ell}\\sum_{i=1}^{\\ell} \\big(\\log{(y_i + 1)} - a^*(x_i)\\big)^2 \\rightarrow min\n",
    "$$\n",
    "\n",
    "Так как вторая модель старается аппроксимироваться ответы в виде $a^*(x) \\approx \\log{(y+1)}$, то для того, чтобы получить изначальные таргеты, необходимо выходы $a^*(x)$ проэкспоненцировать в виде следующего отношения: $a(x) = e^{a^*(x)} - 1$, то есть $a^*(x) = \\log{(a(x) + 1)}$, где $a^*(x)$ дает логарифмические выходы, а $a(x)$ - изначальные. Подставим данное соотношение в MSE выше, получим:\n",
    "\n",
    "$$\n",
    "\\text{MSE}(X, \\log{(y+1)}, \\log{(a(x) + 1)}) = \\frac{1}{\\ell}\\sum_{i=1}^{\\ell} \\big(\\log{(y_i + 1)} - \\log{(a(x_i) + 1)}\\big)^2 \\rightarrow min\n",
    "$$\n",
    "\n",
    "А это в точности MSLE от $y$:\n",
    "\n",
    "$$\n",
    "\\text{MSLE}(X, y, a) = \\frac{1}{\\ell}\\sum_{i=1}^{\\ell} \\big(\\log{(y_i + 1)} - \\log{(a(x_i) + 1)}\\big)^2 \\rightarrow min\n",
    "$$"
   ]
  },
  {
   "cell_type": "code",
   "execution_count": 38,
   "id": "6018bbfd",
   "metadata": {},
   "outputs": [],
   "source": [
    "### Выделим test\n",
    "\n",
    "from sklearn.model_selection import train_test_split\n",
    "\n",
    "# Выделяем признаки (X) и целевую переменную (y) из исходных данных\n",
    "X = initial_data.drop('log_trip_duration', axis=1)\n",
    "y = initial_data['log_trip_duration']\n",
    "\n",
    "# Разделяем данные на обучающую и тестовую выборки\n",
    "X_train, X_test, y_train, y_test = train_test_split(X, y, \n",
    "                                                    test_size=0.2, \n",
    "                                                    random_state=42)\n",
    "\n",
    "init_X_train = X_train\n",
    "init_X_test = X_test\n",
    "init_y_train = y_train\n",
    "init_y_test = y_test"
   ]
  },
  {
   "cell_type": "code",
   "execution_count": 21,
   "id": "76d3d945",
   "metadata": {},
   "outputs": [],
   "source": [
    "### Применим K-Fold на оставшуюяся валидационную часть X_train, y_train\n",
    "\n",
    "from sklearn.model_selection import KFold\n",
    "from sklearn.linear_model import LinearRegression\n",
    "\n",
    "# Создаем объект, который будет разбивать данные на 20 фолдов для кросс-валидации\n",
    "splitter = KFold(n_splits=20, shuffle=True, random_state=33)\n"
   ]
  },
  {
   "cell_type": "code",
   "execution_count": 35,
   "id": "3ac51517",
   "metadata": {
    "tags": []
   },
   "outputs": [
    {
     "name": "stdout",
     "output_type": "stream",
     "text": [
      "Ошибка на тесте: 0.613\n",
      "Ошибка на Кросс-Валидации: 0.608\n"
     ]
    }
   ],
   "source": [
    "### Замерьте качество на кросс-валидации!\n",
    "# Создаем списки для хранения значений ошибки на тестовых и обучающих данных\n",
    "losses_test = []\n",
    "losses_train = []\n",
    "\n",
    "# Для каждого фолда\n",
    "for train_index, test_index in splitter.split(X):\n",
    "    # Выделяем обучающие и тестовые данные\n",
    "    X_train, X_test = X.values[train_index], X.values[test_index]\n",
    "    Y_train, Y_test = y.values[train_index], y.values[test_index]\n",
    "    \n",
    "    # Создаем и обучаем модель линейной регрессии\n",
    "    model = LinearRegression()\n",
    "    model.fit(X_train, Y_train)\n",
    "    \n",
    "    # Вычисляем среднеквадратичную ошибку на тестовых и обучающих данных и добавляем в списки\n",
    "    losses_test.append(np.mean((model.predict(X_test)-Y_test)**2))\n",
    "    losses_train.append(np.mean((model.predict(X_train)-Y_train)**2))\n",
    "\n",
    "# Находим среднее значение ошибки на тестовых данных\n",
    "mean_test_loss = np.mean(losses_test)\n",
    "rounded_test_loss = round(mean_test_loss, 3)\n",
    "print('Ошибка на тесте: {}'.format(np.mean(rounded_test_loss)))\n",
    "\n",
    "# Находим среднее значение ошибки на обучающих данных\n",
    "mean_t_loss = np.mean(losses_train)\n",
    "rounded_t_loss = round(mean_t_loss, 3)\n",
    "print('Ошибка на Кросс-Валидации: {}'.format(rounded_t_loss))"
   ]
  },
  {
   "attachments": {},
   "cell_type": "markdown",
   "id": "e7515279",
   "metadata": {},
   "source": [
    "Функция cross_validate из библиотеки scikit-learn (sklearn) предоставляет возможность оценки качества модели машинного обучения с помощью перекрестной проверки (cross-validation). Она позволяет оценить метрики качества модели на нескольких независимых тестовых наборах, полученных из исходного набора данных.\n",
    "\n",
    "cross_validate используется для оценки качества модели машинного обучения с помощью метода кросс-валидации. Этот метод заключается в разделении исходного набора данных на K (обычно выбирается от 3 до 10) равных частей (фолдов), где каждый фолд поочередно используется как тестовый набор, а оставшиеся фолды используются как обучающий набор для обучения модели. После этого оценки качества модели на всех K тестовых наборах усредняются, чтобы получить итоговую оценку качества модели.\n",
    "\n",
    "Функция cross_validate позволяет задать модель, которую нужно оценить, набор данных, на котором нужно оценить модель, метрику качества модели и количество фолдов. Она возвращает словарь с результатами оценки качества модели, включающий оценки метрик качества на каждом тестовом наборе, среднее значение оценки метрик качества на всех тестовых наборах и стандартное отклонение оценки метрик качества на всех тестовых наборах."
   ]
  },
  {
   "cell_type": "code",
   "execution_count": 45,
   "id": "ef65a0ad",
   "metadata": {},
   "outputs": [
    {
     "name": "stdout",
     "output_type": "stream",
     "text": [
      "Ошибка на тесте: 0.6134219105328517\n"
     ]
    }
   ],
   "source": [
    "from sklearn.model_selection import cross_validate\n",
    "from sklearn.linear_model import LinearRegression\n",
    "\n",
    "# Создаем объект модели линейной регрессии\n",
    "model = LinearRegression()\n",
    "\n",
    "# Производим кросс-валидацию на обучающих данных\n",
    "cv_results = cross_validate(model, X_train, y_train, scoring='neg_mean_squared_error', cv=splitter)\n",
    "\n",
    "# Вычисляем среднюю ошибку на тестовых данных\n",
    "test_error = np.mean(-cv_results['test_score'])\n",
    "\n",
    "# Выводим значение ошибки на тестовых данных\n",
    "print('Ошибка на тесте: {}'.format(test_error))"
   ]
  },
  {
   "cell_type": "code",
   "execution_count": 39,
   "id": "172f0ab5",
   "metadata": {
    "tags": []
   },
   "outputs": [
    {
     "name": "stdout",
     "output_type": "stream",
     "text": [
      "Ошибка на тесте: 0.606\n",
      "Ошибка на всей обучающей выборке: 0.609\n"
     ]
    }
   ],
   "source": [
    "### Теперь построим модель на всей тренировочной выборке\n",
    "### и замерим качество на тесте!\n",
    "\n",
    "#init_X_train = X_train\n",
    "#init_X_test = X_test\n",
    "#init_y_train = y_train\n",
    "#init_y_test = y_test\n",
    "\n",
    "\n",
    "# Создаем и обучаем модель линейной регрессии на обучающих данных\n",
    "model = LinearRegression()\n",
    "model.fit(init_X_train, init_y_train)\n",
    "\n",
    "# Вычисляем среднеквадратичную ошибку на тестовых и обучающих данных\n",
    "MSE_test = np.mean((model.predict(init_X_test)-init_y_test)**2)\n",
    "MSE_train = np.mean((model.predict(init_X_train)-init_y_train)**2)\n",
    "\n",
    "# Выводим значения ошибки, округленные до 3 знаков после запятой\n",
    "print('Ошибка на тесте: {}'.format(round(MSE_test, 3)))\n",
    "print('Ошибка на всей обучающей выборке: {}'.format(round(MSE_train, 3)))"
   ]
  },
  {
   "cell_type": "markdown",
   "id": "a49f21bb",
   "metadata": {},
   "source": [
    "### Модель №2. Проделаем все то же самое, только для модели с более осознанными признаками, которые удалось получить ранее"
   ]
  },
  {
   "cell_type": "code",
   "execution_count": 41,
   "id": "00d6b05d",
   "metadata": {},
   "outputs": [],
   "source": [
    "# Считываем исходные данные из CSV-файла и указываем столбец 'id' как индекс\n",
    "processed_data = pd.read_csv(r'C:\\Users\\aefim\\github\\Start_ML\\large\\processed_data.csv', index_col='id')"
   ]
  },
  {
   "cell_type": "code",
   "execution_count": 42,
   "id": "dfe84863",
   "metadata": {},
   "outputs": [
    {
     "data": {
      "text/html": [
       "<div>\n",
       "<style scoped>\n",
       "    .dataframe tbody tr th:only-of-type {\n",
       "        vertical-align: middle;\n",
       "    }\n",
       "\n",
       "    .dataframe tbody tr th {\n",
       "        vertical-align: top;\n",
       "    }\n",
       "\n",
       "    .dataframe thead th {\n",
       "        text-align: right;\n",
       "    }\n",
       "</style>\n",
       "<table border=\"1\" class=\"dataframe\">\n",
       "  <thead>\n",
       "    <tr style=\"text-align: right;\">\n",
       "      <th></th>\n",
       "      <th>vendor_id</th>\n",
       "      <th>passenger_count</th>\n",
       "      <th>store_and_fwd_flag</th>\n",
       "      <th>trip_duration</th>\n",
       "      <th>distance_km</th>\n",
       "    </tr>\n",
       "    <tr>\n",
       "      <th>id</th>\n",
       "      <th></th>\n",
       "      <th></th>\n",
       "      <th></th>\n",
       "      <th></th>\n",
       "      <th></th>\n",
       "    </tr>\n",
       "  </thead>\n",
       "  <tbody>\n",
       "    <tr>\n",
       "      <th>id2875421</th>\n",
       "      <td>1</td>\n",
       "      <td>930.399753</td>\n",
       "      <td>0</td>\n",
       "      <td>455.0</td>\n",
       "      <td>1.500479</td>\n",
       "    </tr>\n",
       "    <tr>\n",
       "      <th>id2377394</th>\n",
       "      <td>0</td>\n",
       "      <td>930.399753</td>\n",
       "      <td>0</td>\n",
       "      <td>663.0</td>\n",
       "      <td>1.807119</td>\n",
       "    </tr>\n",
       "    <tr>\n",
       "      <th>id3858529</th>\n",
       "      <td>1</td>\n",
       "      <td>930.399753</td>\n",
       "      <td>0</td>\n",
       "      <td>2124.0</td>\n",
       "      <td>6.392080</td>\n",
       "    </tr>\n",
       "    <tr>\n",
       "      <th>id3504673</th>\n",
       "      <td>1</td>\n",
       "      <td>930.399753</td>\n",
       "      <td>0</td>\n",
       "      <td>429.0</td>\n",
       "      <td>1.487155</td>\n",
       "    </tr>\n",
       "    <tr>\n",
       "      <th>id2181028</th>\n",
       "      <td>1</td>\n",
       "      <td>930.399753</td>\n",
       "      <td>0</td>\n",
       "      <td>435.0</td>\n",
       "      <td>1.189925</td>\n",
       "    </tr>\n",
       "  </tbody>\n",
       "</table>\n",
       "</div>"
      ],
      "text/plain": [
       "           vendor_id  passenger_count  store_and_fwd_flag  trip_duration  \\\n",
       "id                                                                         \n",
       "id2875421          1       930.399753                   0          455.0   \n",
       "id2377394          0       930.399753                   0          663.0   \n",
       "id3858529          1       930.399753                   0         2124.0   \n",
       "id3504673          1       930.399753                   0          429.0   \n",
       "id2181028          1       930.399753                   0          435.0   \n",
       "\n",
       "           distance_km  \n",
       "id                      \n",
       "id2875421     1.500479  \n",
       "id2377394     1.807119  \n",
       "id3858529     6.392080  \n",
       "id3504673     1.487155  \n",
       "id2181028     1.189925  "
      ]
     },
     "execution_count": 42,
     "metadata": {},
     "output_type": "execute_result"
    }
   ],
   "source": [
    "processed_data.head()"
   ]
  },
  {
   "cell_type": "code",
   "execution_count": 46,
   "id": "351f487d",
   "metadata": {},
   "outputs": [],
   "source": [
    "### Замерять будем MSLE. Можно показать, что для оптимизации MSLE,\n",
    "### Достаточно логарифмировать таргетную переменную, \n",
    "### а потом оптимизировать привычные MSE\n",
    "import numpy as np\n",
    "\n",
    "processed_data = processed_data.assign(log_trip_duration=np.log1p(processed_data['trip_duration']))\n",
    "processed_data = processed_data.drop('trip_duration', axis=1)"
   ]
  },
  {
   "cell_type": "code",
   "execution_count": 47,
   "id": "4b1074f0",
   "metadata": {},
   "outputs": [],
   "source": [
    "X_2 = processed_data.drop('log_trip_duration', axis=1)\n",
    "y_2 = processed_data['log_trip_duration']"
   ]
  },
  {
   "cell_type": "code",
   "execution_count": 48,
   "id": "762928ff",
   "metadata": {},
   "outputs": [],
   "source": [
    "### Важно! Когда сравниваем модели по их качеству\n",
    "### на валидации и на тесте, не шаффлим данные заново!\n",
    "\n",
    "test_indexes = X_test.index\n",
    "train_indexes = X_train.index\n",
    "\n",
    "X_train_2 = X_2[X_2.index.isin(train_indexes)]\n",
    "y_train_2 = y_2[y_2.index.isin(train_indexes)]\n",
    "\n",
    "X_test_2 = X_2[X_2.index.isin(test_indexes)]\n",
    "y_test_2 = y_2[y_2.index.isin(test_indexes)]"
   ]
  },
  {
   "cell_type": "code",
   "execution_count": 52,
   "id": "1df183bf",
   "metadata": {},
   "outputs": [
    {
     "name": "stdout",
     "output_type": "stream",
     "text": [
      "Ошибка на кросс-валидации: 0.43132577042329395\n"
     ]
    }
   ],
   "source": [
    "### Замерьте качество на кросс-валидации!\n",
    "### Your code is here\n",
    "from sklearn.model_selection import cross_validate\n",
    "from sklearn.linear_model import LinearRegression\n",
    "\n",
    "# Создаем объект модели линейной регрессии\n",
    "model = LinearRegression()\n",
    "\n",
    "# Производим кросс-валидацию на обучающих данных\n",
    "cv_results = cross_validate(model, X_train_2, y_train_2, scoring='neg_mean_squared_error', cv=splitter)\n",
    "\n",
    "# Вычисляем среднюю ошибку на тестовых данных\n",
    "cross_error = np.mean(-cv_results['test_score'])\n",
    "\n",
    "# Выводим значение ошибки на тестовых данных\n",
    "print('Ошибка на кросс-валидации: {}'.format(cross_error))"
   ]
  },
  {
   "cell_type": "code",
   "execution_count": 50,
   "id": "76d02dde",
   "metadata": {},
   "outputs": [
    {
     "name": "stdout",
     "output_type": "stream",
     "text": [
      "Ошибка на тесте: 0.40643213326024463\n"
     ]
    }
   ],
   "source": [
    "### Теперь построим модель и замерим качество на тесте!\n",
    "### Your code is here\n",
    "\n",
    "# Производим кросс-валидацию на обучающих данных\n",
    "cv_results = cross_validate(model, X_test_2, y_test_2, scoring='neg_mean_squared_error', cv=splitter)\n",
    "\n",
    "# Вычисляем среднюю ошибку на тестовых данных\n",
    "test_error = np.mean(-cv_results['test_score'])\n",
    "\n",
    "# Выводим значение ошибки на тестовых данных\n",
    "print('Ошибка на тесте: {}'.format(test_error))"
   ]
  },
  {
   "cell_type": "code",
   "execution_count": 51,
   "id": "fb436afb",
   "metadata": {},
   "outputs": [
    {
     "name": "stdout",
     "output_type": "stream",
     "text": [
      "Среднее качество моделей на валидационных выборках: 0.0\n"
     ]
    }
   ],
   "source": [
    "### Укажите в ответе на задание 5 среднее качество моделей на валидационных выборках\n",
    "### и качество модели, обученной на полной тренировочной выборке, на тестовой выборке.\n",
    "### В качестве разделителя используйте точку, ответ округлите до тысячных.\n",
    "print('Среднее качество моделей на валидационных выборках: {}'.format(test_error(0.0, 3)))"
   ]
  },
  {
   "cell_type": "markdown",
   "id": "05ec9978",
   "metadata": {},
   "source": [
    "### Какую модель среди двух стоило бы выбрать? Помогла ли нам базовая обработка признаков с первых уроков? "
   ]
  }
 ],
 "metadata": {
  "kernelspec": {
   "display_name": "Python 3",
   "language": "python",
   "name": "python3"
  },
  "language_info": {
   "codemirror_mode": {
    "name": "ipython",
    "version": 3
   },
   "file_extension": ".py",
   "mimetype": "text/x-python",
   "name": "python",
   "nbconvert_exporter": "python",
   "pygments_lexer": "ipython3",
   "version": "3.10.10"
  },
  "vscode": {
   "interpreter": {
    "hash": "cdaf845c447f5b8a88f1bde010b8054a6111556832cc2133cdddd7f2255dae56"
   }
  }
 },
 "nbformat": 4,
 "nbformat_minor": 5
}
