{
 "cells": [
  {
   "cell_type": "code",
   "execution_count": 1,
   "id": "f43b5929",
   "metadata": {
    "id": "81t4wEj-9sjI"
   },
   "outputs": [],
   "source": [
    "import pandas as pd"
   ]
  },
  {
   "cell_type": "markdown",
   "id": "4ee69d46",
   "metadata": {
    "id": "Eir77xQk9sjK"
   },
   "source": [
    "**Научимся считать метрики в pandas-табличках**\n",
    "\n",
    "Представим, что 2 добрых и очень-очень умных гнома прокрались к нам в данные, описывающие различные поездки в такси.\n",
    "Далее, для каждого объекта (и его признаков, соответственно), гномы построили модели предсказания того, какая должна была быть у данных заказов длительность исполнения. Прогнозы своих моделей они положили соответственно в колонки **prediction_1** и **prediction_2**"
   ]
  },
  {
   "cell_type": "code",
   "execution_count": 2,
   "id": "93c9289f",
   "metadata": {
    "id": "cF_CAFZ89sjL"
   },
   "outputs": [],
   "source": [
    "df = pd.read_csv('taxi_dataset_with_predictions.csv', index_col=0)"
   ]
  },
  {
   "cell_type": "code",
   "execution_count": 42,
   "id": "6adc1334",
   "metadata": {
    "id": "UlT5Cex79sjN"
   },
   "outputs": [
    {
     "data": {
      "text/html": [
       "<div>\n",
       "<style scoped>\n",
       "    .dataframe tbody tr th:only-of-type {\n",
       "        vertical-align: middle;\n",
       "    }\n",
       "\n",
       "    .dataframe tbody tr th {\n",
       "        vertical-align: top;\n",
       "    }\n",
       "\n",
       "    .dataframe thead th {\n",
       "        text-align: right;\n",
       "    }\n",
       "</style>\n",
       "<table border=\"1\" class=\"dataframe\">\n",
       "  <thead>\n",
       "    <tr style=\"text-align: right;\">\n",
       "      <th></th>\n",
       "      <th>vendor_id</th>\n",
       "      <th>pickup_datetime</th>\n",
       "      <th>passenger_count</th>\n",
       "      <th>store_and_fwd_flag</th>\n",
       "      <th>trip_duration</th>\n",
       "      <th>distance_km</th>\n",
       "      <th>prediction_1</th>\n",
       "      <th>prediction_2</th>\n",
       "      <th>error_1</th>\n",
       "      <th>error_category_1</th>\n",
       "    </tr>\n",
       "    <tr>\n",
       "      <th>id</th>\n",
       "      <th></th>\n",
       "      <th></th>\n",
       "      <th></th>\n",
       "      <th></th>\n",
       "      <th></th>\n",
       "      <th></th>\n",
       "      <th></th>\n",
       "      <th></th>\n",
       "      <th></th>\n",
       "      <th></th>\n",
       "    </tr>\n",
       "  </thead>\n",
       "  <tbody>\n",
       "    <tr>\n",
       "      <th>id2875421</th>\n",
       "      <td>1</td>\n",
       "      <td>2016-03-14 17:24:55</td>\n",
       "      <td>930.399753</td>\n",
       "      <td>0</td>\n",
       "      <td>455.0</td>\n",
       "      <td>1.500479</td>\n",
       "      <td>578.156451</td>\n",
       "      <td>355.270710</td>\n",
       "      <td>123.156451</td>\n",
       "      <td>over-prediction</td>\n",
       "    </tr>\n",
       "    <tr>\n",
       "      <th>id2377394</th>\n",
       "      <td>0</td>\n",
       "      <td>2016-06-12 00:43:35</td>\n",
       "      <td>930.399753</td>\n",
       "      <td>0</td>\n",
       "      <td>663.0</td>\n",
       "      <td>1.807119</td>\n",
       "      <td>962.657188</td>\n",
       "      <td>674.295781</td>\n",
       "      <td>299.657188</td>\n",
       "      <td>over-prediction</td>\n",
       "    </tr>\n",
       "    <tr>\n",
       "      <th>id3858529</th>\n",
       "      <td>1</td>\n",
       "      <td>2016-01-19 11:35:24</td>\n",
       "      <td>930.399753</td>\n",
       "      <td>0</td>\n",
       "      <td>2124.0</td>\n",
       "      <td>6.392080</td>\n",
       "      <td>2546.180515</td>\n",
       "      <td>2422.132431</td>\n",
       "      <td>422.180515</td>\n",
       "      <td>over-prediction</td>\n",
       "    </tr>\n",
       "    <tr>\n",
       "      <th>id3504673</th>\n",
       "      <td>1</td>\n",
       "      <td>2016-04-06 19:32:31</td>\n",
       "      <td>930.399753</td>\n",
       "      <td>0</td>\n",
       "      <td>429.0</td>\n",
       "      <td>1.487155</td>\n",
       "      <td>737.926214</td>\n",
       "      <td>795.992362</td>\n",
       "      <td>308.926214</td>\n",
       "      <td>over-prediction</td>\n",
       "    </tr>\n",
       "    <tr>\n",
       "      <th>id2181028</th>\n",
       "      <td>1</td>\n",
       "      <td>2016-03-26 13:30:55</td>\n",
       "      <td>930.399753</td>\n",
       "      <td>0</td>\n",
       "      <td>435.0</td>\n",
       "      <td>1.189925</td>\n",
       "      <td>666.070794</td>\n",
       "      <td>0.000000</td>\n",
       "      <td>231.070794</td>\n",
       "      <td>over-prediction</td>\n",
       "    </tr>\n",
       "    <tr>\n",
       "      <th>id0801584</th>\n",
       "      <td>1</td>\n",
       "      <td>2016-01-30 22:01:40</td>\n",
       "      <td>1061.355223</td>\n",
       "      <td>0</td>\n",
       "      <td>443.0</td>\n",
       "      <td>1.100107</td>\n",
       "      <td>599.836514</td>\n",
       "      <td>229.013426</td>\n",
       "      <td>156.836514</td>\n",
       "      <td>over-prediction</td>\n",
       "    </tr>\n",
       "    <tr>\n",
       "      <th>id1813257</th>\n",
       "      <td>0</td>\n",
       "      <td>2016-06-17 22:34:59</td>\n",
       "      <td>1053.529749</td>\n",
       "      <td>0</td>\n",
       "      <td>341.0</td>\n",
       "      <td>1.327852</td>\n",
       "      <td>582.154343</td>\n",
       "      <td>782.213025</td>\n",
       "      <td>241.154343</td>\n",
       "      <td>over-prediction</td>\n",
       "    </tr>\n",
       "    <tr>\n",
       "      <th>id1324603</th>\n",
       "      <td>1</td>\n",
       "      <td>2016-05-21 07:54:58</td>\n",
       "      <td>930.399753</td>\n",
       "      <td>0</td>\n",
       "      <td>1551.0</td>\n",
       "      <td>5.722427</td>\n",
       "      <td>1861.641036</td>\n",
       "      <td>2240.733287</td>\n",
       "      <td>310.641036</td>\n",
       "      <td>over-prediction</td>\n",
       "    </tr>\n",
       "    <tr>\n",
       "      <th>id1301050</th>\n",
       "      <td>0</td>\n",
       "      <td>2016-05-27 23:12:23</td>\n",
       "      <td>930.399753</td>\n",
       "      <td>0</td>\n",
       "      <td>255.0</td>\n",
       "      <td>1.311541</td>\n",
       "      <td>588.814557</td>\n",
       "      <td>673.182210</td>\n",
       "      <td>333.814557</td>\n",
       "      <td>over-prediction</td>\n",
       "    </tr>\n",
       "    <tr>\n",
       "      <th>id0012891</th>\n",
       "      <td>1</td>\n",
       "      <td>2016-03-10 21:45:01</td>\n",
       "      <td>930.399753</td>\n",
       "      <td>0</td>\n",
       "      <td>1225.0</td>\n",
       "      <td>5.126939</td>\n",
       "      <td>1467.752477</td>\n",
       "      <td>1545.515488</td>\n",
       "      <td>242.752477</td>\n",
       "      <td>over-prediction</td>\n",
       "    </tr>\n",
       "  </tbody>\n",
       "</table>\n",
       "</div>"
      ],
      "text/plain": [
       "           vendor_id      pickup_datetime  passenger_count  \\\n",
       "id                                                           \n",
       "id2875421          1  2016-03-14 17:24:55       930.399753   \n",
       "id2377394          0  2016-06-12 00:43:35       930.399753   \n",
       "id3858529          1  2016-01-19 11:35:24       930.399753   \n",
       "id3504673          1  2016-04-06 19:32:31       930.399753   \n",
       "id2181028          1  2016-03-26 13:30:55       930.399753   \n",
       "id0801584          1  2016-01-30 22:01:40      1061.355223   \n",
       "id1813257          0  2016-06-17 22:34:59      1053.529749   \n",
       "id1324603          1  2016-05-21 07:54:58       930.399753   \n",
       "id1301050          0  2016-05-27 23:12:23       930.399753   \n",
       "id0012891          1  2016-03-10 21:45:01       930.399753   \n",
       "\n",
       "           store_and_fwd_flag  trip_duration  distance_km  prediction_1  \\\n",
       "id                                                                        \n",
       "id2875421                   0          455.0     1.500479    578.156451   \n",
       "id2377394                   0          663.0     1.807119    962.657188   \n",
       "id3858529                   0         2124.0     6.392080   2546.180515   \n",
       "id3504673                   0          429.0     1.487155    737.926214   \n",
       "id2181028                   0          435.0     1.189925    666.070794   \n",
       "id0801584                   0          443.0     1.100107    599.836514   \n",
       "id1813257                   0          341.0     1.327852    582.154343   \n",
       "id1324603                   0         1551.0     5.722427   1861.641036   \n",
       "id1301050                   0          255.0     1.311541    588.814557   \n",
       "id0012891                   0         1225.0     5.126939   1467.752477   \n",
       "\n",
       "           prediction_2     error_1 error_category_1  \n",
       "id                                                    \n",
       "id2875421    355.270710  123.156451  over-prediction  \n",
       "id2377394    674.295781  299.657188  over-prediction  \n",
       "id3858529   2422.132431  422.180515  over-prediction  \n",
       "id3504673    795.992362  308.926214  over-prediction  \n",
       "id2181028      0.000000  231.070794  over-prediction  \n",
       "id0801584    229.013426  156.836514  over-prediction  \n",
       "id1813257    782.213025  241.154343  over-prediction  \n",
       "id1324603   2240.733287  310.641036  over-prediction  \n",
       "id1301050    673.182210  333.814557  over-prediction  \n",
       "id0012891   1545.515488  242.752477  over-prediction  "
      ]
     },
     "execution_count": 42,
     "metadata": {},
     "output_type": "execute_result"
    }
   ],
   "source": [
    "df.head(10)"
   ]
  },
  {
   "cell_type": "markdown",
   "id": "a0e95097",
   "metadata": {
    "id": "hJJOnoaw9sjO"
   },
   "source": [
    "Давайте попробуем оценить, насколько и вправду гномы оказались умными и осведомленными в области построения различных моделей машинного обучения, и найдем, насколько сильно их модели ошибаются на наших данных!"
   ]
  },
  {
   "cell_type": "markdown",
   "id": "9d9ba86b",
   "metadata": {
    "id": "ZSeEOdpP9sjO"
   },
   "source": [
    "В начале посчитайте **MSE** модели. Для этого нужно посчитать квадратичное отклонение на каждом объекте, а потом просто усредниться! Полезно иметь формулу перед глазами.\n",
    "\n",
    "$$\n",
    "MSE = \\frac{1}{n} \\sum_i^n (a(x_i)-y_i)^2\n",
    "$$\n",
    "\n",
    "Положите результаты в переменные *error_1* и *error_2* соответственно."
   ]
  },
  {
   "attachments": {},
   "cell_type": "markdown",
   "id": "9ac76c63",
   "metadata": {},
   "source": [
    "The formula for Mean Squared Error (MSE) is a measure of the average squared difference between the predicted values and the true values in a set of observations.\n",
    "\n",
    "The formula is as follows:\n",
    "\n",
    "$$MSE = \\frac{1}{n} \\sum_{i=1}^{n} (a(x_i) - y_i)^2$$\n",
    "\n",
    "Here,\n",
    "\n",
    "    $MSE$ is the mean squared error\n",
    "    $n$ is the number of observations\n",
    "    $a(x_i)$ is the predicted value for observation $i$\n",
    "    $y_i$ is the true value for observation $i$\n",
    "\n",
    "The formula takes the sum of the squared differences between the predicted and true values and divides it by the number of observations. This gives the average squared difference, which is the MSE. The MSE measures the average magnitude of the errors in the predictions, with a lower MSE indicating a better fit and more accurate predictions."
   ]
  },
  {
   "cell_type": "code",
   "execution_count": 18,
   "id": "d24247c4",
   "metadata": {},
   "outputs": [],
   "source": [
    "from sklearn.metrics import mean_squared_error\n",
    "\n",
    "sk_error_1 = mean_squared_error(df['trip_duration'], df['prediction_1'])\n",
    "sk_error_2 = mean_squared_error(df['trip_duration'], df['prediction_2'])"
   ]
  },
  {
   "cell_type": "code",
   "execution_count": 11,
   "id": "84fd5d5e",
   "metadata": {},
   "outputs": [
    {
     "data": {
      "text/plain": [
       "1458644"
      ]
     },
     "execution_count": 11,
     "metadata": {},
     "output_type": "execute_result"
    }
   ],
   "source": [
    "df['trip_duration'].count()"
   ]
  },
  {
   "cell_type": "code",
   "execution_count": 21,
   "id": "46772ce4",
   "metadata": {},
   "outputs": [
    {
     "name": "stdout",
     "output_type": "stream",
     "text": [
      "MSE: 99994.4510336451\n"
     ]
    }
   ],
   "source": [
    "import pandas as pd\n",
    "\n",
    "# true values\n",
    "y_true = df['trip_duration']\n",
    "\n",
    "# predicted values\n",
    "y_pred = df['prediction_1']\n",
    "\n",
    "# calculate the squared difference between y_true and y_pred\n",
    "squared_difference = (y_pred - y_true)**2\n",
    "\n",
    "# calculate the sum of the squared difference\n",
    "sum_squared_difference = squared_difference.sum()\n",
    "\n",
    "# calculate the MSE\n",
    "mse = sum_squared_difference / y_true.size\n",
    "\n",
    "print(\"MSE:\", mse)\n"
   ]
  },
  {
   "cell_type": "code",
   "execution_count": 9,
   "id": "8f88e2ba",
   "metadata": {
    "id": "ozhTh4ls9sjQ"
   },
   "outputs": [],
   "source": [
    "# Mean Squared Error\n",
    "error_1 = ((df['prediction_1'] - df['trip_duration']) ** 2 / df['trip_duration'].count())\n",
    "error_2 = ((df['prediction_2'] - df['trip_duration']) ** 2).mean()"
   ]
  },
  {
   "cell_type": "code",
   "execution_count": 15,
   "id": "09169a99",
   "metadata": {},
   "outputs": [
    {
     "data": {
      "text/plain": [
       "959.4922729603659"
      ]
     },
     "execution_count": 15,
     "metadata": {},
     "output_type": "execute_result"
    }
   ],
   "source": [
    "df['trip_duration'].mean()"
   ]
  },
  {
   "cell_type": "code",
   "execution_count": 16,
   "id": "65625176",
   "metadata": {},
   "outputs": [
    {
     "data": {
      "text/plain": [
       "1259.4996340304929"
      ]
     },
     "execution_count": 16,
     "metadata": {},
     "output_type": "execute_result"
    }
   ],
   "source": [
    "df['prediction_1'].mean()"
   ]
  },
  {
   "cell_type": "code",
   "execution_count": 22,
   "id": "600db1cc",
   "metadata": {
    "id": "_JbxQKWp9sjQ"
   },
   "outputs": [
    {
     "name": "stdout",
     "output_type": "stream",
     "text": [
      "MSE первой модели равно: 99994\n",
      "MSE второй модели равно: 124936\n"
     ]
    }
   ],
   "source": [
    "###Распечатайте значения MSE для обеих моделей. Используйте эти значения для ответа на задание шага 5.\n",
    "print(f\"MSE первой модели равно: {int(error_1)}\")\n",
    "print(f\"MSE второй модели равно: {int(error_2)}\")"
   ]
  },
  {
   "cell_type": "markdown",
   "id": "f1d70801",
   "metadata": {
    "id": "_AuLIFkJ9sjQ"
   },
   "source": [
    "Видно, что у MSE достаточно большой порядок. Как мы и говорили, глазам куда будет приятнее, если мы будем считать **RMSE**:\n",
    "\n",
    "$$\n",
    "RMSE = \\sqrt{MSE} = \\sqrt{\\frac{1}{n} \\sum_i^n (a(x_i)-y_i)^2}\n",
    "$$"
   ]
  },
  {
   "cell_type": "code",
   "execution_count": 23,
   "id": "18168988",
   "metadata": {
    "id": "2VsDSCtz9sjS"
   },
   "outputs": [],
   "source": [
    "# RMSE\n",
    "error_1 = error_1 ** 0.5\n",
    "error_2 = error_2 ** 0.5"
   ]
  },
  {
   "cell_type": "code",
   "execution_count": 24,
   "id": "cf657807",
   "metadata": {
    "id": "uefqnRqk9sjS"
   },
   "outputs": [
    {
     "name": "stdout",
     "output_type": "stream",
     "text": [
      "RMSE первой модели равно: 316\n",
      "RMSE второй модели равно: 353\n"
     ]
    }
   ],
   "source": [
    "###Распечатайте значения RMSE для обеих моделей. Используйте эти значения для ответа на задание шага 6.\n",
    "\n",
    "print(f\"RMSE первой модели равно: {int(error_1)}\")\n",
    "print(f\"RMSE второй модели равно: {int(error_2)}\")"
   ]
  },
  {
   "cell_type": "markdown",
   "id": "2c1843f3",
   "metadata": {
    "id": "_4jKIu679sjT"
   },
   "source": [
    "Что можете сказать про модели первого и второго гнома? Чья оказалась лучше с точки зрения **MSE**? Давайте теперь замерим значения средней абсолютной ошибки, то есть **MAE**:\n",
    "\n",
    "$$\n",
    "MAE = \\frac{1}{n} \\sum_i^n |a(x_i)-y_i|\n",
    "$$\n",
    "\n",
    "Рассчитайте MAE для обеих моделей."
   ]
  },
  {
   "cell_type": "code",
   "execution_count": 25,
   "id": "f8da4c80",
   "metadata": {
    "id": "Y8smKMFb9sjU"
   },
   "outputs": [],
   "source": [
    "# MAE - Mean Absolute Error\n",
    "absolute_error_1 = abs(df['prediction_1'] - df['trip_duration']).mean()\n",
    "absolute_error_2 = abs(df['prediction_2'] - df['trip_duration']).mean()"
   ]
  },
  {
   "cell_type": "code",
   "execution_count": 26,
   "id": "dd8b66d9",
   "metadata": {
    "id": "JVmfwcBR9sjU"
   },
   "outputs": [
    {
     "name": "stdout",
     "output_type": "stream",
     "text": [
      "MAE первой модели равно: 300\n",
      "MAE второй модели равно: 281\n"
     ]
    }
   ],
   "source": [
    "###Распечатайте значения MAE для обеих моделей. Используйте эти значения для ответа на задание шага 7.\n",
    "print(f\"MAE первой модели равно: {int(absolute_error_1)}\")\n",
    "print(f\"MAE второй модели равно: {int(absolute_error_2)}\")"
   ]
  },
  {
   "cell_type": "markdown",
   "id": "52c0b0a4",
   "metadata": {
    "id": "4cT9-FyD9sjV"
   },
   "source": [
    "Если бы Вас попросили выбрать лучшую модель среди предложенных, на какой Вы бы остановились? Если брать за финальную метрику **MAE**, то поменяли бы Вы решение?\n",
    "\n",
    "Конечно! Мы наблюдаем ту самую ситуацию, когда, имея 2 разные модели с разными предсказаниями, финальный выбор однозначно сделать нельзя, например, сказав *\"Первая модель в среднем и в общем лучше второй!\"*. **Нет!** Все зависит от формы ошибки, которую мы выбираем. Иными словами, от вида той самой функции, которая наказывает наши модели и замеряет качество их прогнозов.\n",
    "\n",
    "Ситуация, когда **MAE** и **MSE**, выбирая между 2-х,  указывают на разные модели, знакома нам еще из лекции. \n",
    "\n",
    "Такое может происходить, когда в одной из моделей ошибка, в среднем, независимо от порядка чисел, чуть-чуть лучше, чем во второй. Но при этом если первая модель и ошибается, то куда суровее второй. \n",
    "\n",
    "Представьте: Петя и Миша играют в дартс. Петя в 9/10 случаев попадает в яблочко, но каждый 10-ый раз кидает дротик в потолок. Миша же, хоть и не так часто забрасывает в центр (всего 6/10), но при этом, оставшиеся 4 попытки реализует не совсем фатально: попадает всего-лишь немного дальше яблочка. \n",
    "\n",
    "В таком выдуманном сценарии Петя будет лучше с точки зрения **MAE**, а Миша - с точки зрения **MSE**, так как не допускает фатальных ошибок, хоть и в среднем набирает меньше очков. \n",
    "\n",
    "Давайте убедимся в том, что фатальных ошибок у второй модели больше. \n",
    "\n",
    "Посчитайте, в скольки случаях предсказания отклоняются от ответа более, чем на **500**, для первой и второй моделей!\n",
    "\n",
    "Назовите переменные *counter_1* и *counter_2*"
   ]
  },
  {
   "cell_type": "code",
   "execution_count": 27,
   "id": "cc69f2d1",
   "metadata": {
    "id": "wOwMclmm9sjV"
   },
   "outputs": [],
   "source": [
    "### Your code is here\n",
    "deviations_1 = (df['prediction_1'] - df['trip_duration']).abs()\n",
    "counter_1 = deviations_1[deviations_1 >= 500].count()\n",
    "\n",
    "deviations_2 = (df['prediction_2'] - df['trip_duration']).abs()\n",
    "counter_2 = deviations_2[deviations_2 >= 500].count()"
   ]
  },
  {
   "cell_type": "code",
   "execution_count": 28,
   "id": "0c085ab0",
   "metadata": {
    "id": "D9Q7WLOO9sjV"
   },
   "outputs": [
    {
     "name": "stdout",
     "output_type": "stream",
     "text": [
      "Количество отклонений >= 500 от верного ответа для первой модели равно: 33061\n",
      "Количество отклонений >= 500 от верного ответа для второй модели равно: 228789\n"
     ]
    }
   ],
   "source": [
    "###Распечатайте значения для обеих моделей. Используйте эти значения для ответа на задание шага 8.\n",
    "print(f\"Количество отклонений >= 500 от верного ответа для первой модели равно: {counter_1}\")\n",
    "print(f\"Количество отклонений >= 500 от верного ответа для второй модели равно: {counter_2}\")"
   ]
  },
  {
   "cell_type": "code",
   "execution_count": 41,
   "id": "f273d6c4",
   "metadata": {},
   "outputs": [
    {
     "data": {
      "image/png": "[encoded data removed]",
      "text/plain": [
       "<Figure size 640x480 with 1 Axes>"
      ]
     },
     "metadata": {},
     "output_type": "display_data"
    }
   ],
   "source": [
    "import matplotlib.pyplot as plt\n",
    "import numpy as np\n",
    "\n",
    "# Subsampling the data\n",
    "n = int(df.shape[0]/100)\n",
    "idx = np.arange(0, df.shape[0], n)\n",
    "df_sub = df.iloc[idx]\n",
    "\n",
    "# Scatter plot\n",
    "plt.scatter(df_sub['prediction_1'], df_sub['trip_duration'], label='prediction_1', s=5)\n",
    "plt.scatter(df_sub['prediction_2'], df_sub['trip_duration'], label='prediction_2', s=5)\n",
    "plt.plot(df_sub['trip_duration'], df_sub['trip_duration'], color='red', label='trip_duration')\n",
    "plt.legend()\n",
    "plt.xlabel('Prediction')\n",
    "plt.ylabel('Trip Duration')\n",
    "plt.show()\n"
   ]
  },
  {
   "cell_type": "markdown",
   "id": "86d6e76d",
   "metadata": {
    "id": "hn1-bXxK9sjV"
   },
   "source": [
    "**Несимметричные метрики**\n",
    "\n",
    "Зачастую, чтобы выбрать среди всего многообразия моделей, мы можем использовать несимметричные метрики. \n",
    "\n",
    "**MSE** и **MAE** относятся к симметричным. Они одинаково наказывают модель как за перепредсказание, так и за недопредсказание. Ошибки *+2* и *-2* переводятся **MSE** и **MAE** в одинаковую меру: **4** в первом случае и **2** во втором.\n",
    "\n",
    "В действительности же, можно придумать целый ряд задач, когда лучше выбирать несимметричную метрику.\n",
    "\n",
    "Представьте, что мы - дистрибьютор инсулина, и нам нужно построить модель, которая оптимизирует поставки. В таком случае кажется, что поставить лекарства на 2 единицы больше и на 2 единицы меньше - совершенно разные сценарии и разная интерпретация катастрофичности ошибки. \n",
    "\n",
    "В первом случае мы можем потерять немного прибыли, а во втором - лишить пациента жизненно важного лекарства. Поэтому хотелось бы научиться еще и по-разному оценивать *недо- и перепредсказания*. Для этого и используют несимметричные метрики! Одну из них предлагаю Вам посчитать ниже."
   ]
  },
  {
   "cell_type": "markdown",
   "id": "154d4f3a",
   "metadata": {
    "id": "q5y4RARv9sjW"
   },
   "source": [
    "Рассчитайте **RMSLE**. Придумайте, как проверить характер несимметричности данной метрики: за что она наказывает больше - за перепредсказания или за недопредсказания? Это нужно будет в тестовом теоретическом задании.\n",
    "\n",
    "$$\n",
    "\\text{RMSLE}(X, y, a) = \\sqrt{\\frac{1}{\\ell}\\sum_{i=1}^{\\ell} \\big(\\log{(y_i + 1)} - \\log{(a(x_i) + 1)}\\big)^2}\n",
    "$$\n",
    "\n",
    "Для взятия логарифма используйте библиотеку **math**\n",
    "\n",
    "P.S. Очевидно, что для некоторых отрицательных предсказаний, формула не будет работать, так как логарифм от отрицательных значений взять нельзя. Поэтому давайте подкорректируем наши прогнозы: все отрицательные числа переведем в нули (лучше уж в нашей задаче предсказать *ноль секунд*, чем *минус 100 секунд*)\n",
    "\n",
    "Переменные с метриками назовите *rmsle_1*, *rmsle_2*. Округлите их до 3 знаков после точки."
   ]
  },
  {
   "cell_type": "code",
   "execution_count": 32,
   "id": "b0d96266",
   "metadata": {
    "id": "Ze18m7x69sjW"
   },
   "outputs": [],
   "source": [
    "### Замените все отрицательные предсказания на 0\n",
    "import numpy as np\n",
    "\n",
    "df['prediction_1'] = np.where(df['prediction_1']<0, 0, df['prediction_1'])\n",
    "df['prediction_2'] = np.where(df['prediction_2']<0, 0, df['prediction_2'])\n"
   ]
  },
  {
   "cell_type": "code",
   "execution_count": 34,
   "id": "9c4c2983",
   "metadata": {
    "id": "14Z6JTog9sjX"
   },
   "outputs": [],
   "source": [
    "import numpy as np\n",
    "\n",
    "def rmsle(pred, actual):\n",
    "    n = len(pred)\n",
    "    return np.sqrt(np.sum((np.log(1 + pred) - np.log(1 + actual)) ** 2) / n)\n",
    "\n",
    "actuals = df['trip_duration'].values\n",
    "\n",
    "rmsle_1 = rmsle(df['prediction_1'].values, actuals)\n",
    "rmsle_2 = rmsle(df['prediction_2'].values, actuals)\n"
   ]
  },
  {
   "cell_type": "code",
   "execution_count": 35,
   "id": "8f1515e3",
   "metadata": {
    "id": "A_IA-u2d9sjX"
   },
   "outputs": [
    {
     "name": "stdout",
     "output_type": "stream",
     "text": [
      "RMSLE первой модели равно: 0.5537581774590482\n",
      "RMSLE второй модели равно: 1.5564340528341787\n"
     ]
    }
   ],
   "source": [
    "###Распечатайте значения для обеих моделей. Используйте эти значения для ответа на задание шага 9.\n",
    "print(f\"RMSLE первой модели равно: {rmsle_1}\")\n",
    "print(f\"RMSLE второй модели равно: {rmsle_2}\")"
   ]
  },
  {
   "cell_type": "markdown",
   "id": "60e2f294",
   "metadata": {
    "id": "AlimEbB_9sjX"
   },
   "source": [
    "Посчитайте, для какого количества объектов первая модель сделала перепредсказания и недопредсказания\n",
    "\n",
    "Аналогичный расчет проведите для первой модели и недопредсказания.\n",
    "\n",
    "P.S. оставьте колонку с предсказанием такой, какой она оказалась после замены отрицательных значений\n",
    "\n",
    "Счетчики перепредсказаний и недопредсказаний назовите *over_predicted_1* и *under_predicted_1*"
   ]
  },
  {
   "cell_type": "code",
   "execution_count": 37,
   "id": "32eb3cdf",
   "metadata": {
    "id": "3JJUHCQU9sjY"
   },
   "outputs": [],
   "source": [
    "### Calculation of over-predictions and under-predictions for the first model\n",
    "df['error_1'] = df['prediction_1'] - df['trip_duration']\n",
    "df['error_category_1'] = np.where(df['error_1'] >= 0, 'over-prediction', 'under-prediction')\n",
    "\n",
    "over_predicted_1 = len(df[df['error_category_1'] == 'over-prediction'])\n",
    "under_predicted_1 = len(df[df['error_category_1'] == 'under-prediction'])\n"
   ]
  },
  {
   "cell_type": "code",
   "execution_count": 38,
   "id": "5747b890",
   "metadata": {
    "id": "2MwyPvvM9sjY"
   },
   "outputs": [
    {
     "name": "stdout",
     "output_type": "stream",
     "text": [
      "Предсказания первой модели оказались больше действительных в 1456721 случаях\n",
      "Предсказания первой модели оказались меньше действительных в 1923 случаях\n"
     ]
    }
   ],
   "source": [
    "###Распечатайте значения для обеих моделей. Используйте эти значения для ответа на задание шага 10.\n",
    "print(f\"Предсказания первой модели оказались больше действительных в {over_predicted_1} случаях\")\n",
    "print(f\"Предсказания первой модели оказались меньше действительных в {under_predicted_1} случаях\")"
   ]
  },
  {
   "cell_type": "markdown",
   "id": "5aa63950",
   "metadata": {
    "id": "YQ6Cds9a9sjY"
   },
   "source": [
    "Аналогично для второй модели\n",
    "\n",
    "\n",
    "Счетчики перепредсказаний и недопредсказаний назовите *over_predicted_2* и *under_predicted_2*"
   ]
  },
  {
   "cell_type": "code",
   "execution_count": 43,
   "id": "d8812c69",
   "metadata": {
    "id": "xphLYA3C9sjY"
   },
   "outputs": [],
   "source": [
    "### Calculation of over-predictions and under-predictions for the second model\n",
    "df['error_2'] = df['prediction_2'] - df['trip_duration']\n",
    "df['error_category_2'] = np.where(df['error_2'] >= 0, 'over-prediction', 'under-prediction')\n",
    "\n",
    "over_predicted_2 = len(df[df['error_category_2'] == 'over-prediction'])\n",
    "under_predicted_2 = len(df[df['error_category_2'] == 'under-prediction'])"
   ]
  },
  {
   "cell_type": "code",
   "execution_count": 44,
   "id": "e865eb9d",
   "metadata": {
    "id": "x8ee6qxn9sjZ"
   },
   "outputs": [
    {
     "name": "stdout",
     "output_type": "stream",
     "text": [
      "Предсказания второй модели оказались больше действительных в 811778 случаях\n",
      "Предсказания второй модели оказались меньше действительных в 646866 случаях\n"
     ]
    }
   ],
   "source": [
    "###Распечатайте значения для обеих моделей. Используйте эти значения для ответа на задание шага 11.\n",
    "print(f\"Предсказания второй модели оказались больше действительных в {over_predicted_2} случаях\")\n",
    "print(f\"Предсказания второй модели оказались меньше действительных в {under_predicted_2} случаях\")"
   ]
  },
  {
   "cell_type": "markdown",
   "id": "aca0c7f3",
   "metadata": {
    "id": "QfTRmevE9sjZ"
   },
   "source": [
    "Сравните две модели заново. Согласуется ли полученный результат с подсчетом **RMSLE** ранее?"
   ]
  }
 ],
 "metadata": {
  "colab": {
   "collapsed_sections": [],
   "name": "HW_2.ipynb",
   "provenance": []
  },
  "kernelspec": {
   "display_name": "Python 3",
   "language": "python",
   "name": "python3"
  },
  "language_info": {
   "codemirror_mode": {
    "name": "ipython",
    "version": 3
   },
   "file_extension": ".py",
   "mimetype": "text/x-python",
   "name": "python",
   "nbconvert_exporter": "python",
   "pygments_lexer": "ipython3",
   "version": "3.10.9"
  },
  "vscode": {
   "interpreter": {
    "hash": "cdaf845c447f5b8a88f1bde010b8054a6111556832cc2133cdddd7f2255dae56"
   }
  }
 },
 "nbformat": 4,
 "nbformat_minor": 5
}
