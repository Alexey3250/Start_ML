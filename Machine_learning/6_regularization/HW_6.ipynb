{
 "cells": [
  {
   "cell_type": "markdown",
   "id": "71833815",
   "metadata": {},
   "source": [
    "### Замерим качество Линейной регрессии после обработки данных не просто на отложенной выборке, но и на Кросс-Валидации на 4 фолдах!"
   ]
  },
  {
   "cell_type": "code",
   "execution_count": 1,
   "id": "4355dcb3",
   "metadata": {},
   "outputs": [],
   "source": [
    "import numpy as np\n",
    "import pandas as pd\n",
    "\n",
    "processed_data = pd.read_csv(r'C:\\Users\\aefim\\github\\Start_ML\\large\\pd.csv', index_col='id')"
   ]
  },
  {
   "cell_type": "code",
   "execution_count": 2,
   "id": "eb298541",
   "metadata": {},
   "outputs": [
    {
     "data": {
      "text/html": [
       "<div>\n",
       "<style scoped>\n",
       "    .dataframe tbody tr th:only-of-type {\n",
       "        vertical-align: middle;\n",
       "    }\n",
       "\n",
       "    .dataframe tbody tr th {\n",
       "        vertical-align: top;\n",
       "    }\n",
       "\n",
       "    .dataframe thead th {\n",
       "        text-align: right;\n",
       "    }\n",
       "</style>\n",
       "<table border=\"1\" class=\"dataframe\">\n",
       "  <thead>\n",
       "    <tr style=\"text-align: right;\">\n",
       "      <th></th>\n",
       "      <th>vendor_id</th>\n",
       "      <th>passenger_count</th>\n",
       "      <th>store_and_fwd_flag</th>\n",
       "      <th>distance_km</th>\n",
       "      <th>log_trip_duration</th>\n",
       "    </tr>\n",
       "    <tr>\n",
       "      <th>id</th>\n",
       "      <th></th>\n",
       "      <th></th>\n",
       "      <th></th>\n",
       "      <th></th>\n",
       "      <th></th>\n",
       "    </tr>\n",
       "  </thead>\n",
       "  <tbody>\n",
       "    <tr>\n",
       "      <th>id2875421</th>\n",
       "      <td>1</td>\n",
       "      <td>930.399753</td>\n",
       "      <td>0</td>\n",
       "      <td>1.500479</td>\n",
       "      <td>6.122493</td>\n",
       "    </tr>\n",
       "    <tr>\n",
       "      <th>id2377394</th>\n",
       "      <td>0</td>\n",
       "      <td>930.399753</td>\n",
       "      <td>0</td>\n",
       "      <td>1.807119</td>\n",
       "      <td>6.498282</td>\n",
       "    </tr>\n",
       "    <tr>\n",
       "      <th>id3858529</th>\n",
       "      <td>1</td>\n",
       "      <td>930.399753</td>\n",
       "      <td>0</td>\n",
       "      <td>6.392080</td>\n",
       "      <td>7.661527</td>\n",
       "    </tr>\n",
       "    <tr>\n",
       "      <th>id3504673</th>\n",
       "      <td>1</td>\n",
       "      <td>930.399753</td>\n",
       "      <td>0</td>\n",
       "      <td>1.487155</td>\n",
       "      <td>6.063785</td>\n",
       "    </tr>\n",
       "    <tr>\n",
       "      <th>id2181028</th>\n",
       "      <td>1</td>\n",
       "      <td>930.399753</td>\n",
       "      <td>0</td>\n",
       "      <td>1.189925</td>\n",
       "      <td>6.077642</td>\n",
       "    </tr>\n",
       "  </tbody>\n",
       "</table>\n",
       "</div>"
      ],
      "text/plain": [
       "           vendor_id  passenger_count  store_and_fwd_flag  distance_km  \\\n",
       "id                                                                       \n",
       "id2875421          1       930.399753                   0     1.500479   \n",
       "id2377394          0       930.399753                   0     1.807119   \n",
       "id3858529          1       930.399753                   0     6.392080   \n",
       "id3504673          1       930.399753                   0     1.487155   \n",
       "id2181028          1       930.399753                   0     1.189925   \n",
       "\n",
       "           log_trip_duration  \n",
       "id                            \n",
       "id2875421           6.122493  \n",
       "id2377394           6.498282  \n",
       "id3858529           7.661527  \n",
       "id3504673           6.063785  \n",
       "id2181028           6.077642  "
      ]
     },
     "execution_count": 2,
     "metadata": {},
     "output_type": "execute_result"
    }
   ],
   "source": [
    "processed_data.head()"
   ]
  },
  {
   "cell_type": "markdown",
   "id": "5debb58c",
   "metadata": {},
   "source": [
    "#### ! Не перемешивайте данные"
   ]
  },
  {
   "cell_type": "code",
   "execution_count": 3,
   "id": "b8678af8",
   "metadata": {},
   "outputs": [
    {
     "name": "stdout",
     "output_type": "stream",
     "text": [
      "MSLE на кросс-валидации: 0.426\n"
     ]
    }
   ],
   "source": [
    "from sklearn.model_selection import KFold\n",
    "from sklearn.model_selection import cross_validate\n",
    "from sklearn.linear_model import LinearRegression\n",
    "\n",
    "# Создаем объект, который будет разбивать данные на 4 фолда для кросс-валидации\n",
    "selector = KFold(n_splits=4)\n",
    "\n",
    "# Создаем объект модели линейной регрессии\n",
    "model = LinearRegression()\n",
    "\n",
    "# Выполняем кросс-валидацию на обработанных данных\n",
    "cv_results = cross_validate(model, processed_data.drop('log_trip_duration', axis=1), processed_data['log_trip_duration'], cv=selector, scoring='neg_mean_squared_error')\n",
    "\n",
    "# Вычисляем среднюю ошибку на тестовых данных\n",
    "cross_val_error = np.mean(-cv_results['test_score'])\n",
    "\n",
    "# Выводим значение ошибки на тестовых данных, округленное до 3 знаков после запятой\n",
    "print(f\"MSLE на кросс-валидации: {round(cross_val_error, 3)}\")"
   ]
  },
  {
   "attachments": {},
   "cell_type": "markdown",
   "id": "35c3a0bb",
   "metadata": {},
   "source": [
    "MSLE - это среднеквадратичная ошибка логарифма. Она измеряется в единицах квадрата логарифма ошибки между предсказанными значениями и фактическими значениями. MSLE широко используется в задачах регрессии, особенно в задачах, где целевая переменная имеет большой диапазон значений, и когда более важно снижение ошибки на больших значениях. MSLE можно интерпретировать как среднее значение квадрата разности между логарифмом фактических значений и логарифмом предсказанных значений. Она обычно используется для оценки качества модели, поскольку сравнивает предсказания модели с фактическими значениями в пропорциональном масштабе."
   ]
  },
  {
   "attachments": {},
   "cell_type": "markdown",
   "id": "a586759d",
   "metadata": {},
   "source": [
    "## Поработал один из хитрых гномов!\n",
    "\n",
    "<img src=\"https://media.discordapp.net/attachments/1004748557477224498/1078329712587325531/MAD_illustration_of_a_crafty_gnome_is_trolling_on_pc._laughting_115548a6-7531-4d54-b855-12f1e65a17a5.png?width=1003&height=668\" width=\"500\">"
   ]
  },
  {
   "cell_type": "markdown",
   "id": "ec9a763e",
   "metadata": {},
   "source": [
    "В отличие от своих собратьев, третий гном оказался тем еще бездельником в школьные годы, но все равно страстно желал во всем догнать первых двух. И сейчас, желая помочь им в построении модели по предсказанию длительности поездки такси, добавил в данные 20 зашифрованных фичей (их смысл нам не рассказали: какая-то секретная информация о водителях).\n",
    "\n",
    "Гном думал следующим образом: \"Ну не может же модель стать хуже! А тут вот авось и мое нововведение уменьшит ошибку в разы! Тогда и меня станут звать на гномий  data-саммит.\"\n",
    "\n",
    "Проверим на кросс-валидации, насколько гном оказался прав!"
   ]
  },
  {
   "cell_type": "code",
   "execution_count": 4,
   "id": "538a0adf",
   "metadata": {},
   "outputs": [],
   "source": [
    "new_data = pd.read_csv(r'C:\\Users\\aefim\\github\\Start_ML\\large\\new_data.csv', index_col='id')"
   ]
  },
  {
   "cell_type": "code",
   "execution_count": 5,
   "id": "53c5dd26",
   "metadata": {},
   "outputs": [
    {
     "data": {
      "text/html": [
       "<div>\n",
       "<style scoped>\n",
       "    .dataframe tbody tr th:only-of-type {\n",
       "        vertical-align: middle;\n",
       "    }\n",
       "\n",
       "    .dataframe tbody tr th {\n",
       "        vertical-align: top;\n",
       "    }\n",
       "\n",
       "    .dataframe thead th {\n",
       "        text-align: right;\n",
       "    }\n",
       "</style>\n",
       "<table border=\"1\" class=\"dataframe\">\n",
       "  <thead>\n",
       "    <tr style=\"text-align: right;\">\n",
       "      <th></th>\n",
       "      <th>vendor_id</th>\n",
       "      <th>passenger_count</th>\n",
       "      <th>store_and_fwd_flag</th>\n",
       "      <th>distance_km</th>\n",
       "      <th>log_trip_duration</th>\n",
       "      <th>feature_1</th>\n",
       "      <th>feature_2</th>\n",
       "      <th>feature_3</th>\n",
       "      <th>feature_4</th>\n",
       "      <th>feature_5</th>\n",
       "      <th>...</th>\n",
       "      <th>feature_11</th>\n",
       "      <th>feature_12</th>\n",
       "      <th>feature_13</th>\n",
       "      <th>feature_14</th>\n",
       "      <th>feature_15</th>\n",
       "      <th>feature_16</th>\n",
       "      <th>feature_17</th>\n",
       "      <th>feature_18</th>\n",
       "      <th>feature_19</th>\n",
       "      <th>feature_20</th>\n",
       "    </tr>\n",
       "    <tr>\n",
       "      <th>id</th>\n",
       "      <th></th>\n",
       "      <th></th>\n",
       "      <th></th>\n",
       "      <th></th>\n",
       "      <th></th>\n",
       "      <th></th>\n",
       "      <th></th>\n",
       "      <th></th>\n",
       "      <th></th>\n",
       "      <th></th>\n",
       "      <th></th>\n",
       "      <th></th>\n",
       "      <th></th>\n",
       "      <th></th>\n",
       "      <th></th>\n",
       "      <th></th>\n",
       "      <th></th>\n",
       "      <th></th>\n",
       "      <th></th>\n",
       "      <th></th>\n",
       "      <th></th>\n",
       "    </tr>\n",
       "  </thead>\n",
       "  <tbody>\n",
       "    <tr>\n",
       "      <th>id2875421</th>\n",
       "      <td>1</td>\n",
       "      <td>930.399753</td>\n",
       "      <td>0</td>\n",
       "      <td>1.500479</td>\n",
       "      <td>6.122493</td>\n",
       "      <td>1</td>\n",
       "      <td>1</td>\n",
       "      <td>1</td>\n",
       "      <td>1</td>\n",
       "      <td>1</td>\n",
       "      <td>...</td>\n",
       "      <td>0</td>\n",
       "      <td>0</td>\n",
       "      <td>0</td>\n",
       "      <td>0</td>\n",
       "      <td>0</td>\n",
       "      <td>1.500479</td>\n",
       "      <td>2.251437</td>\n",
       "      <td>3.378234</td>\n",
       "      <td>5.068969</td>\n",
       "      <td>7.605881</td>\n",
       "    </tr>\n",
       "    <tr>\n",
       "      <th>id2377394</th>\n",
       "      <td>0</td>\n",
       "      <td>930.399753</td>\n",
       "      <td>0</td>\n",
       "      <td>1.807119</td>\n",
       "      <td>6.498282</td>\n",
       "      <td>0</td>\n",
       "      <td>0</td>\n",
       "      <td>0</td>\n",
       "      <td>0</td>\n",
       "      <td>0</td>\n",
       "      <td>...</td>\n",
       "      <td>0</td>\n",
       "      <td>0</td>\n",
       "      <td>0</td>\n",
       "      <td>0</td>\n",
       "      <td>0</td>\n",
       "      <td>1.807119</td>\n",
       "      <td>3.265681</td>\n",
       "      <td>5.901475</td>\n",
       "      <td>10.664670</td>\n",
       "      <td>19.272331</td>\n",
       "    </tr>\n",
       "    <tr>\n",
       "      <th>id3858529</th>\n",
       "      <td>1</td>\n",
       "      <td>930.399753</td>\n",
       "      <td>0</td>\n",
       "      <td>6.392080</td>\n",
       "      <td>7.661527</td>\n",
       "      <td>1</td>\n",
       "      <td>1</td>\n",
       "      <td>1</td>\n",
       "      <td>1</td>\n",
       "      <td>1</td>\n",
       "      <td>...</td>\n",
       "      <td>0</td>\n",
       "      <td>0</td>\n",
       "      <td>0</td>\n",
       "      <td>0</td>\n",
       "      <td>0</td>\n",
       "      <td>6.392080</td>\n",
       "      <td>40.858690</td>\n",
       "      <td>261.172025</td>\n",
       "      <td>1669.432545</td>\n",
       "      <td>10671.146803</td>\n",
       "    </tr>\n",
       "    <tr>\n",
       "      <th>id3504673</th>\n",
       "      <td>1</td>\n",
       "      <td>930.399753</td>\n",
       "      <td>0</td>\n",
       "      <td>1.487155</td>\n",
       "      <td>6.063785</td>\n",
       "      <td>1</td>\n",
       "      <td>1</td>\n",
       "      <td>1</td>\n",
       "      <td>1</td>\n",
       "      <td>1</td>\n",
       "      <td>...</td>\n",
       "      <td>0</td>\n",
       "      <td>0</td>\n",
       "      <td>0</td>\n",
       "      <td>0</td>\n",
       "      <td>0</td>\n",
       "      <td>1.487155</td>\n",
       "      <td>2.211629</td>\n",
       "      <td>3.289035</td>\n",
       "      <td>4.891303</td>\n",
       "      <td>7.274125</td>\n",
       "    </tr>\n",
       "    <tr>\n",
       "      <th>id2181028</th>\n",
       "      <td>1</td>\n",
       "      <td>930.399753</td>\n",
       "      <td>0</td>\n",
       "      <td>1.189925</td>\n",
       "      <td>6.077642</td>\n",
       "      <td>1</td>\n",
       "      <td>1</td>\n",
       "      <td>1</td>\n",
       "      <td>1</td>\n",
       "      <td>1</td>\n",
       "      <td>...</td>\n",
       "      <td>0</td>\n",
       "      <td>0</td>\n",
       "      <td>0</td>\n",
       "      <td>0</td>\n",
       "      <td>0</td>\n",
       "      <td>1.189925</td>\n",
       "      <td>1.415923</td>\n",
       "      <td>1.684842</td>\n",
       "      <td>2.004837</td>\n",
       "      <td>2.385606</td>\n",
       "    </tr>\n",
       "  </tbody>\n",
       "</table>\n",
       "<p>5 rows × 25 columns</p>\n",
       "</div>"
      ],
      "text/plain": [
       "           vendor_id  passenger_count  store_and_fwd_flag  distance_km  \\\n",
       "id                                                                       \n",
       "id2875421          1       930.399753                   0     1.500479   \n",
       "id2377394          0       930.399753                   0     1.807119   \n",
       "id3858529          1       930.399753                   0     6.392080   \n",
       "id3504673          1       930.399753                   0     1.487155   \n",
       "id2181028          1       930.399753                   0     1.189925   \n",
       "\n",
       "           log_trip_duration  feature_1  feature_2  feature_3  feature_4  \\\n",
       "id                                                                         \n",
       "id2875421           6.122493          1          1          1          1   \n",
       "id2377394           6.498282          0          0          0          0   \n",
       "id3858529           7.661527          1          1          1          1   \n",
       "id3504673           6.063785          1          1          1          1   \n",
       "id2181028           6.077642          1          1          1          1   \n",
       "\n",
       "           feature_5  ...  feature_11  feature_12  feature_13  feature_14  \\\n",
       "id                    ...                                                   \n",
       "id2875421          1  ...           0           0           0           0   \n",
       "id2377394          0  ...           0           0           0           0   \n",
       "id3858529          1  ...           0           0           0           0   \n",
       "id3504673          1  ...           0           0           0           0   \n",
       "id2181028          1  ...           0           0           0           0   \n",
       "\n",
       "           feature_15  feature_16  feature_17  feature_18   feature_19  \\\n",
       "id                                                                       \n",
       "id2875421           0    1.500479    2.251437    3.378234     5.068969   \n",
       "id2377394           0    1.807119    3.265681    5.901475    10.664670   \n",
       "id3858529           0    6.392080   40.858690  261.172025  1669.432545   \n",
       "id3504673           0    1.487155    2.211629    3.289035     4.891303   \n",
       "id2181028           0    1.189925    1.415923    1.684842     2.004837   \n",
       "\n",
       "             feature_20  \n",
       "id                       \n",
       "id2875421      7.605881  \n",
       "id2377394     19.272331  \n",
       "id3858529  10671.146803  \n",
       "id3504673      7.274125  \n",
       "id2181028      2.385606  \n",
       "\n",
       "[5 rows x 25 columns]"
      ]
     },
     "execution_count": 5,
     "metadata": {},
     "output_type": "execute_result"
    }
   ],
   "source": [
    "new_data.head()"
   ]
  },
  {
   "cell_type": "code",
   "execution_count": 6,
   "id": "a0ae3eed",
   "metadata": {},
   "outputs": [
    {
     "name": "stdout",
     "output_type": "stream",
     "text": [
      "MSLE на кросс-валидации processed_data: 0.426\n",
      "MSLE на Кросс-валидации new_data: 140.92\n"
     ]
    }
   ],
   "source": [
    "### Задание №5\n",
    "### Замерьте качество (MSLE, как и раньше) на Кросс-валидации, \n",
    "### используя MSE от log_trip_duration и назначенный ранее selector\n",
    "\n",
    "# Создаем объект, который будет разбивать данные на 4 фолда для кросс-валидации\n",
    "selector = KFold(n_splits=4)\n",
    "\n",
    "# Создаем объект модели линейной регрессии\n",
    "model = LinearRegression()\n",
    "\n",
    "# Выполняем кросс-валидацию на обработанных данных\n",
    "cv_results_2 = cross_validate(model, new_data.drop('log_trip_duration', axis=1), new_data['log_trip_duration'], cv=selector, scoring='neg_mean_squared_error')\n",
    "\n",
    "# Вычисляем среднюю ошибку на тестовых данных\n",
    "cross_val_error_2 = np.mean(-cv_results_2['test_score'])\n",
    "\n",
    "# Выводим значение ошибки на тестовых данных, округленное до 3 знаков после запятой\n",
    "print(f\"MSLE на кросс-валидации processed_data: {round(cross_val_error, 3)}\")\n",
    "print(f\"MSLE на Кросс-валидации new_data: {round(cross_val_error_2, 3)}\")"
   ]
  },
  {
   "attachments": {},
   "cell_type": "markdown",
   "id": "bd8f2945",
   "metadata": {},
   "source": [
    "В линейной алгербре зачастую используют понятие **ранга матрицы**. Оно соответствует кол-ву линейно независимых столбцов в матрице. Иными словами, позволяет оценить, есть ли избыток информации в нашем датафрейме. Если ранг матрицы меньше, чем кол-во используемых столбцов, то некоторые фичи следует удалить, ведь иначе возникает ситуация строгой мультиколлинеарности.\n",
    "\n",
    "Чтобы замерить ранг в наших матрицах объект-признак, можно воспользоваться функцией `numpy.linalg.matrix_rank`\n",
    "\n",
    "Константным признаком в данном упражнении можно пренебречь.\n",
    "\n",
    "Воспользуйтесь методами `.shape[1]` и `np.linalg.matrix_rank(X)`."
   ]
  },
  {
   "cell_type": "code",
   "execution_count": 7,
   "id": "d4b1400d",
   "metadata": {},
   "outputs": [],
   "source": [
    "# Выделяем признаки (X) и целевую переменную (y) из исходных данных\n",
    "X_2 = new_data.drop('log_trip_duration', axis=1)\n",
    "y_2 = new_data['log_trip_duration']\n",
    "X_1 = processed_data.drop('log_trip_duration', axis=1)\n",
    "y_1 = processed_data['log_trip_duration']"
   ]
  },
  {
   "cell_type": "code",
   "execution_count": 8,
   "id": "e3de617d",
   "metadata": {},
   "outputs": [
    {
     "name": "stdout",
     "output_type": "stream",
     "text": [
      "Ранг матрицы с исходными данными: 4\n",
      "Ранг матрицы с новыми данными: 5\n"
     ]
    }
   ],
   "source": [
    "### Создайте переменные rank_processed, rank_new \n",
    "### Соответственно равные рангу изначальной матрицы\n",
    "### с данными и рангу матрицы третьего гнома\n",
    "\n",
    "# Находим ранг матрицы с исходными данными и ранг матрицы с новыми данными\n",
    "rank_processed = np.linalg.matrix_rank(X_1)\n",
    "rank_new = np.linalg.matrix_rank(X_2)\n",
    "\n",
    "print(f\"Ранг матрицы с исходными данными: {rank_processed}\")\n",
    "print(f\"Ранг матрицы с новыми данными: {rank_new}\")"
   ]
  },
  {
   "cell_type": "code",
   "execution_count": 9,
   "id": "687d03a7",
   "metadata": {},
   "outputs": [
    {
     "name": "stdout",
     "output_type": "stream",
     "text": [
      "Количество фичей в матрице с исходными данными: 4\n",
      "Количество фичей в матрице с новыми данными: 24\n"
     ]
    }
   ],
   "source": [
    "### Создайте переменные num_features_processed, num_features_new\n",
    "### Соответственно равные кол-ву фичей в изначальной матрицы\n",
    "### с данными и кол-ву фичей у третьего гнома\n",
    "\n",
    "# Находим количество фичей в матрице с исходными данными и количество фичей в матрице с новыми данными\n",
    "num_features_processed = X_1.shape[1]\n",
    "num_features_new = X_2.shape[1]\n",
    "\n",
    "print(f\"Количество фичей в матрице с исходными данными: {num_features_processed}\")\n",
    "print(f\"Количество фичей в матрице с новыми данными: {num_features_new}\")\n",
    "\n"
   ]
  },
  {
   "cell_type": "code",
   "execution_count": 10,
   "id": "2820bee9",
   "metadata": {},
   "outputs": [
    {
     "name": "stdout",
     "output_type": "stream",
     "text": [
      "В первой модели всего фичей: 4, - а ранг равен 4\n",
      "Во второй модели всего фичей: 24, - а ранг равен 5\n"
     ]
    }
   ],
   "source": [
    "### Задание №6\n",
    "print(f\"В первой модели всего фичей: {num_features_processed}, - а ранг равен {rank_processed}\")\n",
    "\n",
    "print(f\"Во второй модели всего фичей: {num_features_new}, - а ранг равен {rank_new}\")"
   ]
  },
  {
   "cell_type": "markdown",
   "id": "a194b8ab",
   "metadata": {},
   "source": [
    "Не кажется ли нам, что из-за новых 20 фичей появилась проблема мультиколлинеарности? Как поступить гному, чтобы, с одной стороны, получить адекватное качество, а с другой стороны, не повредить свое самолюбие и не убирать новые признаки?\n",
    "\n",
    "Верно! Например, с помощью регуляризации.\n",
    "\n",
    "Найдите такой параметр регуляризации $\\alpha$ для Ridge и Lasso случая, чтобы ошибка MSLE на кросс-валидации оказалась строго меньше 0.4\n",
    "\n",
    "**ALARM**: используйте процедуру масштабирования данных (воспользуйтесь методом MinMaxScaler) перед тем как применить регуляризацию. Важно - чтобы сохранить концепцию независимости обучения на трейне и на тесте, на каждой итерации кросс-валидации необходимо замерять параметры стандартизации исключительно на трейне, а потом применять на валидационном фолде."
   ]
  },
  {
   "cell_type": "code",
   "execution_count": 11,
   "id": "5e40302d",
   "metadata": {},
   "outputs": [
    {
     "name": "stdout",
     "output_type": "stream",
     "text": [
      "MSLE на Кросс-валидации равен: 0.6332330617999488\n"
     ]
    }
   ],
   "source": [
    "### Пример, как это можно сделать в цикле\n",
    "### То есть обучить Lasso, учитывая масштабирование\n",
    "### Исключительно на трейне на каждой итерации\n",
    "\n",
    "\n",
    "\n",
    "X = new_data.drop('log_trip_duration', axis=1)\n",
    "Y = new_data['log_trip_duration']\n",
    "\n",
    "from sklearn.preprocessing import MinMaxScaler\n",
    "from sklearn.linear_model import Lasso\n",
    "\n",
    "scores = []\n",
    "\n",
    "for train_index, test_index in selector.split(X):\n",
    "    \n",
    "    X_train, X_test = X.values[train_index], X.values[test_index]\n",
    "    Y_train, Y_test = Y.values[train_index], Y.values[test_index]\n",
    "    \n",
    "    ### Фитим исключительно на трейне!\n",
    "    scaler = MinMaxScaler()\n",
    "    scaler.fit(X_train)\n",
    "    \n",
    "    ### Применяем обученный scaler на трейн и тест\n",
    "    X_train_scaled = scaler.transform(X_train)\n",
    "    X_test_scaled = scaler.transform(X_test)\n",
    "    \n",
    "    ### max_iter иногда требуется ставить побольше, \n",
    "    ### особенно когда данных много и/или они сложные\n",
    "    ### этот параметр регулирует верхнюю границу кол-ва\n",
    "    ### итераций во время обучения\n",
    "    ### подробнее - в документации\n",
    "    \n",
    "    ### По дефолту здесь параметр регуляризации alpha=1\n",
    "    \n",
    "    model_lasso = Lasso(max_iter=100000) \n",
    "    model_lasso.fit(X_train_scaled, Y_train)\n",
    "    \n",
    "    predictions = model_lasso.predict(X_test_scaled)\n",
    "    \n",
    "    scores.append(np.mean((predictions - Y_test)**2))\n",
    "\n",
    "    \n",
    "print(f\"MSLE на Кросс-валидации равен: {np.mean(scores)}\")\n",
    "\n",
    "### P.S. если вы уже умеете работать с конструкциями\n",
    "### Pipeline, GridSearchCV, cross_validate\n",
    "### Можете использовать их. Мы познакомимся с ними позже."
   ]
  },
  {
   "attachments": {},
   "cell_type": "markdown",
   "id": "60d0961d",
   "metadata": {},
   "source": [
    "Находим оптимальный параметр регуляризации для Ridge и Lasso случаев, чтобы ошибка MSLE на кросс-валидации оказалась строго меньше 0.4\n",
    "\n",
    "Альфа параметр для Ridge это регуляционный параметр, который уменьшает веса признаков, чтобы избежать переобучения. При больших значениях альфа, веса признаков стремятся к нулю, что приводит к недообучению. При малых значениях альфа, веса признаков стремятся к бесконечности, что приводит к переобучению.\n",
    "\n",
    "Для избежания подбора альфа параметра вручную, можно использовать метод GridSearchCV, который перебирает все возможные значения альфа параметра и выбирает наилучшее значение."
   ]
  },
  {
   "cell_type": "code",
   "execution_count": 34,
   "id": "b461a547",
   "metadata": {},
   "outputs": [],
   "source": [
    "from sklearn.linear_model import Ridge\n",
    "from sklearn.pipeline import Pipeline\n",
    "from sklearn.model_selection import GridSearchCV"
   ]
  },
  {
   "cell_type": "code",
   "execution_count": 30,
   "id": "5215e9cb",
   "metadata": {},
   "outputs": [
    {
     "data": {
      "text/html": [
       "<style>#sk-container-id-4 {color: black;background-color: white;}#sk-container-id-4 pre{padding: 0;}#sk-container-id-4 div.sk-toggleable {background-color: white;}#sk-container-id-4 label.sk-toggleable__label {cursor: pointer;display: block;width: 100%;margin-bottom: 0;padding: 0.3em;box-sizing: border-box;text-align: center;}#sk-container-id-4 label.sk-toggleable__label-arrow:before {content: \"▸\";float: left;margin-right: 0.25em;color: #696969;}#sk-container-id-4 label.sk-toggleable__label-arrow:hover:before {color: black;}#sk-container-id-4 div.sk-estimator:hover label.sk-toggleable__label-arrow:before {color: black;}#sk-container-id-4 div.sk-toggleable__content {max-height: 0;max-width: 0;overflow: hidden;text-align: left;background-color: #f0f8ff;}#sk-container-id-4 div.sk-toggleable__content pre {margin: 0.2em;color: black;border-radius: 0.25em;background-color: #f0f8ff;}#sk-container-id-4 input.sk-toggleable__control:checked~div.sk-toggleable__content {max-height: 200px;max-width: 100%;overflow: auto;}#sk-container-id-4 input.sk-toggleable__control:checked~label.sk-toggleable__label-arrow:before {content: \"▾\";}#sk-container-id-4 div.sk-estimator input.sk-toggleable__control:checked~label.sk-toggleable__label {background-color: #d4ebff;}#sk-container-id-4 div.sk-label input.sk-toggleable__control:checked~label.sk-toggleable__label {background-color: #d4ebff;}#sk-container-id-4 input.sk-hidden--visually {border: 0;clip: rect(1px 1px 1px 1px);clip: rect(1px, 1px, 1px, 1px);height: 1px;margin: -1px;overflow: hidden;padding: 0;position: absolute;width: 1px;}#sk-container-id-4 div.sk-estimator {font-family: monospace;background-color: #f0f8ff;border: 1px dotted black;border-radius: 0.25em;box-sizing: border-box;margin-bottom: 0.5em;}#sk-container-id-4 div.sk-estimator:hover {background-color: #d4ebff;}#sk-container-id-4 div.sk-parallel-item::after {content: \"\";width: 100%;border-bottom: 1px solid gray;flex-grow: 1;}#sk-container-id-4 div.sk-label:hover label.sk-toggleable__label {background-color: #d4ebff;}#sk-container-id-4 div.sk-serial::before {content: \"\";position: absolute;border-left: 1px solid gray;box-sizing: border-box;top: 0;bottom: 0;left: 50%;z-index: 0;}#sk-container-id-4 div.sk-serial {display: flex;flex-direction: column;align-items: center;background-color: white;padding-right: 0.2em;padding-left: 0.2em;position: relative;}#sk-container-id-4 div.sk-item {position: relative;z-index: 1;}#sk-container-id-4 div.sk-parallel {display: flex;align-items: stretch;justify-content: center;background-color: white;position: relative;}#sk-container-id-4 div.sk-item::before, #sk-container-id-4 div.sk-parallel-item::before {content: \"\";position: absolute;border-left: 1px solid gray;box-sizing: border-box;top: 0;bottom: 0;left: 50%;z-index: -1;}#sk-container-id-4 div.sk-parallel-item {display: flex;flex-direction: column;z-index: 1;position: relative;background-color: white;}#sk-container-id-4 div.sk-parallel-item:first-child::after {align-self: flex-end;width: 50%;}#sk-container-id-4 div.sk-parallel-item:last-child::after {align-self: flex-start;width: 50%;}#sk-container-id-4 div.sk-parallel-item:only-child::after {width: 0;}#sk-container-id-4 div.sk-dashed-wrapped {border: 1px dashed gray;margin: 0 0.4em 0.5em 0.4em;box-sizing: border-box;padding-bottom: 0.4em;background-color: white;}#sk-container-id-4 div.sk-label label {font-family: monospace;font-weight: bold;display: inline-block;line-height: 1.2em;}#sk-container-id-4 div.sk-label-container {text-align: center;}#sk-container-id-4 div.sk-container {/* jupyter's `normalize.less` sets `[hidden] { display: none; }` but bootstrap.min.css set `[hidden] { display: none !important; }` so we also need the `!important` here to be able to override the default hidden behavior on the sphinx rendered scikit-learn.org. See: https://github.com/scikit-learn/scikit-learn/issues/21755 */display: inline-block !important;position: relative;}#sk-container-id-4 div.sk-text-repr-fallback {display: none;}</style><div id=\"sk-container-id-4\" class=\"sk-top-container\"><div class=\"sk-text-repr-fallback\"><pre>GridSearchCV(cv=KFold(n_splits=4, random_state=None, shuffle=False),\n",
       "             estimator=Pipeline(steps=[(&#x27;scaler&#x27;, MinMaxScaler()),\n",
       "                                       (&#x27;ridge&#x27;, Ridge(max_iter=100000))]),\n",
       "             param_grid={&#x27;ridge__alpha&#x27;: array([1.00000000e+00, 9.79592041e-01, 9.59184082e-01, 9.38776122e-01,\n",
       "       9.18368163e-01, 8.97960204e-01, 8.77552245e-01, 8.57144286e-01,\n",
       "       8.36736327e-01, 8.16328367e-01, 7.95920408e-0...\n",
       "       4.28577143e-01, 4.08169184e-01, 3.87761224e-01, 3.67353265e-01,\n",
       "       3.46945306e-01, 3.26537347e-01, 3.06129388e-01, 2.85721429e-01,\n",
       "       2.65313469e-01, 2.44905510e-01, 2.24497551e-01, 2.04089592e-01,\n",
       "       1.83681633e-01, 1.63273673e-01, 1.42865714e-01, 1.22457755e-01,\n",
       "       1.02049796e-01, 8.16418367e-02, 6.12338776e-02, 4.08259184e-02,\n",
       "       2.04179592e-02, 1.00000000e-05])},\n",
       "             scoring=&#x27;neg_mean_squared_error&#x27;)</pre><b>In a Jupyter environment, please rerun this cell to show the HTML representation or trust the notebook. <br />On GitHub, the HTML representation is unable to render, please try loading this page with nbviewer.org.</b></div><div class=\"sk-container\" hidden><div class=\"sk-item sk-dashed-wrapped\"><div class=\"sk-label-container\"><div class=\"sk-label sk-toggleable\"><input class=\"sk-toggleable__control sk-hidden--visually\" id=\"sk-estimator-id-13\" type=\"checkbox\" ><label for=\"sk-estimator-id-13\" class=\"sk-toggleable__label sk-toggleable__label-arrow\">GridSearchCV</label><div class=\"sk-toggleable__content\"><pre>GridSearchCV(cv=KFold(n_splits=4, random_state=None, shuffle=False),\n",
       "             estimator=Pipeline(steps=[(&#x27;scaler&#x27;, MinMaxScaler()),\n",
       "                                       (&#x27;ridge&#x27;, Ridge(max_iter=100000))]),\n",
       "             param_grid={&#x27;ridge__alpha&#x27;: array([1.00000000e+00, 9.79592041e-01, 9.59184082e-01, 9.38776122e-01,\n",
       "       9.18368163e-01, 8.97960204e-01, 8.77552245e-01, 8.57144286e-01,\n",
       "       8.36736327e-01, 8.16328367e-01, 7.95920408e-0...\n",
       "       4.28577143e-01, 4.08169184e-01, 3.87761224e-01, 3.67353265e-01,\n",
       "       3.46945306e-01, 3.26537347e-01, 3.06129388e-01, 2.85721429e-01,\n",
       "       2.65313469e-01, 2.44905510e-01, 2.24497551e-01, 2.04089592e-01,\n",
       "       1.83681633e-01, 1.63273673e-01, 1.42865714e-01, 1.22457755e-01,\n",
       "       1.02049796e-01, 8.16418367e-02, 6.12338776e-02, 4.08259184e-02,\n",
       "       2.04179592e-02, 1.00000000e-05])},\n",
       "             scoring=&#x27;neg_mean_squared_error&#x27;)</pre></div></div></div><div class=\"sk-parallel\"><div class=\"sk-parallel-item\"><div class=\"sk-item\"><div class=\"sk-label-container\"><div class=\"sk-label sk-toggleable\"><input class=\"sk-toggleable__control sk-hidden--visually\" id=\"sk-estimator-id-14\" type=\"checkbox\" ><label for=\"sk-estimator-id-14\" class=\"sk-toggleable__label sk-toggleable__label-arrow\">estimator: Pipeline</label><div class=\"sk-toggleable__content\"><pre>Pipeline(steps=[(&#x27;scaler&#x27;, MinMaxScaler()), (&#x27;ridge&#x27;, Ridge(max_iter=100000))])</pre></div></div></div><div class=\"sk-serial\"><div class=\"sk-item\"><div class=\"sk-serial\"><div class=\"sk-item\"><div class=\"sk-estimator sk-toggleable\"><input class=\"sk-toggleable__control sk-hidden--visually\" id=\"sk-estimator-id-15\" type=\"checkbox\" ><label for=\"sk-estimator-id-15\" class=\"sk-toggleable__label sk-toggleable__label-arrow\">MinMaxScaler</label><div class=\"sk-toggleable__content\"><pre>MinMaxScaler()</pre></div></div></div><div class=\"sk-item\"><div class=\"sk-estimator sk-toggleable\"><input class=\"sk-toggleable__control sk-hidden--visually\" id=\"sk-estimator-id-16\" type=\"checkbox\" ><label for=\"sk-estimator-id-16\" class=\"sk-toggleable__label sk-toggleable__label-arrow\">Ridge</label><div class=\"sk-toggleable__content\"><pre>Ridge(max_iter=100000)</pre></div></div></div></div></div></div></div></div></div></div></div></div>"
      ],
      "text/plain": [
       "GridSearchCV(cv=KFold(n_splits=4, random_state=None, shuffle=False),\n",
       "             estimator=Pipeline(steps=[('scaler', MinMaxScaler()),\n",
       "                                       ('ridge', Ridge(max_iter=100000))]),\n",
       "             param_grid={'ridge__alpha': array([1.00000000e+00, 9.79592041e-01, 9.59184082e-01, 9.38776122e-01,\n",
       "       9.18368163e-01, 8.97960204e-01, 8.77552245e-01, 8.57144286e-01,\n",
       "       8.36736327e-01, 8.16328367e-01, 7.95920408e-0...\n",
       "       4.28577143e-01, 4.08169184e-01, 3.87761224e-01, 3.67353265e-01,\n",
       "       3.46945306e-01, 3.26537347e-01, 3.06129388e-01, 2.85721429e-01,\n",
       "       2.65313469e-01, 2.44905510e-01, 2.24497551e-01, 2.04089592e-01,\n",
       "       1.83681633e-01, 1.63273673e-01, 1.42865714e-01, 1.22457755e-01,\n",
       "       1.02049796e-01, 8.16418367e-02, 6.12338776e-02, 4.08259184e-02,\n",
       "       2.04179592e-02, 1.00000000e-05])},\n",
       "             scoring='neg_mean_squared_error')"
      ]
     },
     "execution_count": 30,
     "metadata": {},
     "output_type": "execute_result"
    }
   ],
   "source": [
    "# Создаем объект модели Ridge и задаем максимальное число итераций\n",
    "model_ridge = Ridge(max_iter=100000)\n",
    "\n",
    "# Создаем объект MinMaxScaler для масштабирования данных\n",
    "scaler = MinMaxScaler()\n",
    "\n",
    "# Обучаем scaler на обучающих данных\n",
    "scaler.fit(X_train) \n",
    "\n",
    "# Создаем список шагов для конвейера\n",
    "steps = [('scaler', scaler), ('ridge', model_ridge)] # scaler - это MinMaxScaler, который мы создали выше\n",
    "\n",
    "# Создаем конвейер, объединяющий шаги\n",
    "pipeline = Pipeline(steps)\n",
    "\n",
    "# Создаем сетку параметров для поиска лучших гиперпараметров модели\n",
    "parameters = {'ridge__alpha': np.linspace(1, 0.00001, 50)}\n",
    "# ridge__alpha - это то, что мы оптимизируем\n",
    "# np.linspace(1, 0.00001, 50) - это то, как мы оптимизируем\n",
    "# linspace - это функция, которая создает равномерно распределенную последовательность чисел от 1 до 0.00001, 50 элементов\n",
    "\n",
    "# Создаем объект, который будет осуществлять поиск по сетке\n",
    "grid = GridSearchCV(pipeline, param_grid=parameters, scoring='neg_mean_squared_error', cv=selector) \n",
    "# scoring='neg_mean_squared_error' - это то, что мы оптимизируем\n",
    "# neg_mean_squared_error - это функция, которая считает среднеквадратичную ошибку\n",
    "# cv=selector - это то, как мы разбиваем данные на трейн и тест\n",
    "# selector - это объект, который мы создали выше KFold(n_splits=4, random_state=None, shuffle=False)\n",
    "\n",
    "# Выполняем поиск по сетке на обучающих данных\n",
    "grid.fit(X_train, Y_train)\n",
    "# fit - это метод, который обучает модель на данных\n"
   ]
  },
  {
   "attachments": {},
   "cell_type": "markdown",
   "id": "9150a92c",
   "metadata": {},
   "source": [
    "Selector это класс, который позволяет выбрать нужные признаки из датафрейма. В данном случае мы хотим выбрать только те признаки, которые не являются константными. Мы уже определили константные признаки, поэтому нам нужно их исключить из датафрейма.` selector = KFold(n_splits=4, random_state=None, shuffle=False)`"
   ]
  },
  {
   "cell_type": "code",
   "execution_count": 18,
   "id": "d4c27b8f",
   "metadata": {},
   "outputs": [
    {
     "data": {
      "text/plain": [
       "KFold(n_splits=4, random_state=None, shuffle=False)"
      ]
     },
     "execution_count": 18,
     "metadata": {},
     "output_type": "execute_result"
    }
   ],
   "source": [
    "selector"
   ]
  },
  {
   "attachments": {},
   "cell_type": "markdown",
   "id": "40a4c4fa",
   "metadata": {},
   "source": [
    "В GridSearchCV можно передать параметр scoring, который определяет метрику, по которой будет производиться подбор параметров. По умолчанию используется accuracy, но можно использовать и другие метрики. В нашем случае, мы хотим использовать метрику MSLE, поэтому передадим ее в параметр scoring.\n",
    "\n",
    "После того, как мы подобрали оптимальные параметры для Ridge и Lasso, мы можем использовать их для обучения модели и получить предсказания на тестовой выборке."
   ]
  },
  {
   "attachments": {},
   "cell_type": "markdown",
   "id": "0ca2bbef",
   "metadata": {},
   "source": [
    "What is GridSearchCV? GridSearchCV is the process of performing hyperparameter tuning in order to determine the optimal values for a given model. As mentioned above, the performance of a model significantly depends on the value of hyperparameters."
   ]
  },
  {
   "cell_type": "code",
   "execution_count": 19,
   "id": "1e6fa3f1",
   "metadata": {},
   "outputs": [
    {
     "data": {
      "text/plain": [
       "-0.39686311284840786"
      ]
     },
     "execution_count": 19,
     "metadata": {},
     "output_type": "execute_result"
    }
   ],
   "source": [
    "grid.best_score_"
   ]
  },
  {
   "attachments": {},
   "cell_type": "markdown",
   "id": "10027965",
   "metadata": {},
   "source": [
    "В Ridge регрессии, параметр alpha (также известный как параметр регуляризации) контролирует силу регуляризации, применяемой к модели. Это гиперпараметр, который должен быть задан пользователем.\n",
    "\n",
    "Ridge регрессия - это линейная регрессионная техника, которая использует L2 регуляризацию для предотвращения переобучения модели. Параметр L2 добавляет штраф к функции потерь, который пропорционален квадрату величины коэффициентов. Параметр alpha в Ridge регрессии контролирует вес штрафа L2.\n",
    "\n",
    "Когда alpha установлен на ноль, Ridge регрессия сводится к обычной методу наименьших квадратов (OLS) регрессии. При увеличении alpha модель уделяет больше внимания штрафу L2, что приводит к меньшим значениям коэффициентов и более простой модели, которая меньше подвержена переобучению на обучающих данных. С другой стороны, если alpha слишком велик, модель может быть недообучена.\n",
    "\n",
    "На практике значение alpha для Ridge регрессии обычно определяется с помощью кросс-валидации или метода поиска по сетке, чтобы найти оптимальное значение, которое балансирует сложность модели и производительность на проверочном наборе данных."
   ]
  },
  {
   "cell_type": "code",
   "execution_count": 24,
   "id": "f9a1adac",
   "metadata": {},
   "outputs": [
    {
     "data": {
      "text/plain": [
       "array([1.00000000e+00, 9.79592041e-01, 9.59184082e-01, 9.38776122e-01,\n",
       "       9.18368163e-01, 8.97960204e-01, 8.77552245e-01, 8.57144286e-01,\n",
       "       8.36736327e-01, 8.16328367e-01, 7.95920408e-01, 7.75512449e-01,\n",
       "       7.55104490e-01, 7.34696531e-01, 7.14288571e-01, 6.93880612e-01,\n",
       "       6.73472653e-01, 6.53064694e-01, 6.32656735e-01, 6.12248776e-01,\n",
       "       5.91840816e-01, 5.71432857e-01, 5.51024898e-01, 5.30616939e-01,\n",
       "       5.10208980e-01, 4.89801020e-01, 4.69393061e-01, 4.48985102e-01,\n",
       "       4.28577143e-01, 4.08169184e-01, 3.87761224e-01, 3.67353265e-01,\n",
       "       3.46945306e-01, 3.26537347e-01, 3.06129388e-01, 2.85721429e-01,\n",
       "       2.65313469e-01, 2.44905510e-01, 2.24497551e-01, 2.04089592e-01,\n",
       "       1.83681633e-01, 1.63273673e-01, 1.42865714e-01, 1.22457755e-01,\n",
       "       1.02049796e-01, 8.16418367e-02, 6.12338776e-02, 4.08259184e-02,\n",
       "       2.04179592e-02, 1.00000000e-05])"
      ]
     },
     "execution_count": 24,
     "metadata": {},
     "output_type": "execute_result"
    }
   ],
   "source": [
    "# Альфа-значения которые мы пробуем\n",
    "np.linspace(1, 0.00001, 50)"
   ]
  },
  {
   "cell_type": "code",
   "execution_count": 32,
   "id": "e652e0ce",
   "metadata": {},
   "outputs": [
    {
     "data": {
      "text/plain": [
       "array([0.42479495, 0.42459262, 0.42437288, 0.42413472, 0.42387708,\n",
       "       0.42359884, 0.42329885, 0.42297587, 0.42262861, 0.42225572,\n",
       "       0.4218558 , 0.42142737, 0.4209689 , 0.4204788 , 0.41995544,\n",
       "       0.41939715, 0.41880219, 0.41816885, 0.41749538, 0.41678008,\n",
       "       0.41602131, 0.41521751, 0.41436732, 0.41346959, 0.41252354,\n",
       "       0.41152885, 0.41048584, 0.40939574, 0.4082609 , 0.40708526,\n",
       "       0.40587481, 0.40463829, 0.4033881 , 0.40214145, 0.40092204,\n",
       "       0.39976218, 0.39870575, 0.39781215, 0.39716175, 0.39686311,\n",
       "       0.39706267, 0.397957  , 0.39980675, 0.40294717, 0.40777561,\n",
       "       0.41464468, 0.42338095, 0.4311127 , 0.42010017])"
      ]
     },
     "execution_count": 32,
     "metadata": {},
     "output_type": "execute_result"
    }
   ],
   "source": [
    "# Среднеквадратичные ошибки на кросс-валидации для каждого альфа-значения\n",
    "negative_mse"
   ]
  },
  {
   "cell_type": "code",
   "execution_count": 31,
   "id": "42cf7d07",
   "metadata": {},
   "outputs": [
    {
     "data": {
      "image/png": "[encoded data removed]",
      "text/plain": [
       "<Figure size 640x480 with 1 Axes>"
      ]
     },
     "metadata": {},
     "output_type": "display_data"
    }
   ],
   "source": [
    "import matplotlib.pyplot as plt\n",
    "import numpy as np\n",
    "\n",
    "# Создаем массивы alpha и negative_mse из результатов GridSearchCV\n",
    "alpha = np.linspace(1, 0.00001, 50)\n",
    "negative_mse = -grid.cv_results_['mean_test_score']\n",
    "\n",
    "# Удаляем последнее значение alpha и negative_mse\n",
    "alpha = alpha[:-1]\n",
    "negative_mse = negative_mse[:-1]\n",
    "\n",
    "# Создаем объекты для рисования графика\n",
    "fig, ax = plt.subplots()\n",
    "\n",
    "# Рисуем график значений negative_mse от alpha\n",
    "ax.plot(alpha, negative_mse)\n",
    "\n",
    "# Задаем подписи для осей и заголовок\n",
    "ax.set_xlabel('Alpha')\n",
    "ax.set_ylabel('MSE')\n",
    "ax.set_title('Оптимизация MSE по Alpha')\n",
    "\n",
    "# Отображаем график\n",
    "plt.show()\n"
   ]
  },
  {
   "attachments": {},
   "cell_type": "markdown",
   "id": "e5083460",
   "metadata": {},
   "source": [
    "Теперь нам надо найти оптимальный параметр Альфа для Lasso метода регуляризации. Для этого мы можем использовать метод GridSearchCV, который перебирает все возможные значения альфа параметра и выбирает наилучшее значение как и в случае с Ridge."
   ]
  },
  {
   "attachments": {},
   "cell_type": "markdown",
   "id": "770b5f37",
   "metadata": {},
   "source": [
    "- **L-1(Lasso)** — когда мы в качестве регуляризатора берем сумму модулей всех параметров модели:\n",
    "\n",
    "R(β)\\=∑i\\=1n​(∣βi​∣)\\=∣β1​∣+∣β2​∣+...+∣βn​∣"
   ]
  },
  {
   "cell_type": "code",
   "execution_count": 39,
   "id": "f4e6d108",
   "metadata": {},
   "outputs": [],
   "source": [
    "alpha_range = np.linspace(1, 0.00001, 200)"
   ]
  },
  {
   "cell_type": "code",
   "execution_count": 45,
   "id": "a8d5786d",
   "metadata": {},
   "outputs": [
    {
     "name": "stdout",
     "output_type": "stream",
     "text": [
      "Лучшее значение MSE: 0.3930069165968985\n"
     ]
    }
   ],
   "source": [
    "# Создаем объект модели Lasso и задаем максимальное число итераций\n",
    "model_lasso = Lasso(max_iter=100000)\n",
    "\n",
    "steps_2 = [('scaler', scaler), ('lasso', model_lasso)]\n",
    "pipeline_2 = Pipeline(steps_2)\n",
    "\n",
    "alpha_range = np.linspace(0.0001, 0.00001, 30)\n",
    "\n",
    "parameters_2 = {'lasso__alpha': alpha_range}\n",
    "\n",
    "grid_2 = GridSearchCV(pipeline_2, param_grid=parameters_2, scoring='neg_mean_squared_error', cv=selector)\n",
    "grid_2.fit(X_train, Y_train)\n",
    "\n",
    "# Выводим лучшее значение MSE\n",
    "print(f\"Лучшее значение MSE: {-grid_2.best_score_}\")"
   ]
  },
  {
   "cell_type": "code",
   "execution_count": 46,
   "id": "db4c913f",
   "metadata": {},
   "outputs": [
    {
     "data": {
      "image/png": "[encoded data removed]",
      "text/plain": [
       "<Figure size 640x480 with 1 Axes>"
      ]
     },
     "metadata": {},
     "output_type": "display_data"
    }
   ],
   "source": [
    "# Создаем массивы alpha и negative_mse из результатов GridSearchCV\n",
    "negative_mse = -grid_2.cv_results_['mean_test_score']\n",
    "\n",
    "alpha = alpha_range\n",
    "\n",
    "# Создаем объекты для рисования графика\n",
    "fig, ax = plt.subplots()\n",
    "\n",
    "# Рисуем график значений negative_mse от alpha\n",
    "ax.plot(alpha, negative_mse)\n",
    "\n",
    "# Задаем подписи для осей и заголовок\n",
    "ax.set_xlabel('Alpha')\n",
    "ax.set_ylabel('MSE')\n",
    "ax.set_title('Оптимизация MSE по Alpha')\n",
    "\n",
    "# Отображаем график\n",
    "plt.show()\n"
   ]
  },
  {
   "cell_type": "code",
   "execution_count": 44,
   "id": "047f97d6",
   "metadata": {},
   "outputs": [
    {
     "data": {
      "text/plain": [
       "array([0.4045913 , 0.40434598, 0.40411343, 0.40389364, 0.4036866 ,\n",
       "       0.40349204, 0.40331044, 0.40314165, 0.40298562, 0.40284233,\n",
       "       0.40271162, 0.40259395, 0.40248899, 0.40239679, 0.40231729,\n",
       "       0.40225058, 0.40219669, 0.40215558, 0.40212722, 0.40211148,\n",
       "       0.40210844, 0.40211819, 0.4021397 , 0.40217383, 0.40222024,\n",
       "       0.40228047, 0.40235346, 0.40243815, 0.40253198, 0.40262735,\n",
       "       0.40275011, 0.40287626, 0.40301838, 0.40315973, 0.40331917,\n",
       "       0.40349376, 0.40368086, 0.40387885, 0.40408919, 0.40431254,\n",
       "       0.40454984, 0.40480042, 0.40506451, 0.40508042, 0.39671215,\n",
       "       0.39301805, 0.39390942, 0.3995991 , 0.41007429])"
      ]
     },
     "execution_count": 44,
     "metadata": {},
     "output_type": "execute_result"
    }
   ],
   "source": [
    "negative_mse"
   ]
  },
  {
   "cell_type": "code",
   "execution_count": 47,
   "id": "d445458a",
   "metadata": {},
   "outputs": [
    {
     "data": {
      "text/plain": [
       "array([1.00000000e-04, 9.68965517e-05, 9.37931034e-05, 9.06896552e-05,\n",
       "       8.75862069e-05, 8.44827586e-05, 8.13793103e-05, 7.82758621e-05,\n",
       "       7.51724138e-05, 7.20689655e-05, 6.89655172e-05, 6.58620690e-05,\n",
       "       6.27586207e-05, 5.96551724e-05, 5.65517241e-05, 5.34482759e-05,\n",
       "       5.03448276e-05, 4.72413793e-05, 4.41379310e-05, 4.10344828e-05,\n",
       "       3.79310345e-05, 3.48275862e-05, 3.17241379e-05, 2.86206897e-05,\n",
       "       2.55172414e-05, 2.24137931e-05, 1.93103448e-05, 1.62068966e-05,\n",
       "       1.31034483e-05, 1.00000000e-05])"
      ]
     },
     "execution_count": 47,
     "metadata": {},
     "output_type": "execute_result"
    },
    {
     "ename": "",
     "evalue": "",
     "output_type": "error",
     "traceback": [
      "\u001b[1;31mThe Kernel crashed while executing code in the the current cell or a previous cell. Please review the code in the cell(s) to identify a possible cause of the failure. Click <a href='https://aka.ms/vscodeJupyterKernelCrash'>here</a> for more info. View Jupyter <a href='command:jupyter.viewOutput'>log</a> for further details."
     ]
    }
   ],
   "source": [
    "alpha_range"
   ]
  }
 ],
 "metadata": {
  "kernelspec": {
   "display_name": "Python 3",
   "language": "python",
   "name": "python3"
  },
  "language_info": {
   "codemirror_mode": {
    "name": "ipython",
    "version": 3
   },
   "file_extension": ".py",
   "mimetype": "text/x-python",
   "name": "python",
   "nbconvert_exporter": "python",
   "pygments_lexer": "ipython3",
   "version": "3.10.10"
  },
  "vscode": {
   "interpreter": {
    "hash": "cdaf845c447f5b8a88f1bde010b8054a6111556832cc2133cdddd7f2255dae56"
   }
  }
 },
 "nbformat": 4,
 "nbformat_minor": 5
}
